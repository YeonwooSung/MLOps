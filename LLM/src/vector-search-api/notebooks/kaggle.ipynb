{
 "cells": [
  {
   "cell_type": "markdown",
   "metadata": {},
   "source": [
    "# News Articles Recommendations with Embeddings and a Vector Database\n",
    "\n",
    "This notebook demonstrates how to combine [Sentence Transformers](https://www.sbert.net/) and [Qdrant](https://qdrant.tech/) to make news articles recommendations based on the [NPR dataset](https://www.kaggle.com/datasets/joelpl/news-portal-recommendations-npr-by-globo).\n",
    "\n",
    "\n",
    "Let's start by importing the necessary libraries and defining key constants:\n",
    "\n",
    "- **METADATA_FILEPATH**: a path to the `articles.parquet` file from the NPR dataset\n",
    "- **EMBEDDINGS_FILEPATH**: if available, pre-computed embeddings from this parquet file will be uploaded\n",
    "- **MODEL_NAME**: the embedding model to be used with Sentence Transformers"
   ]
  },
  {
   "cell_type": "code",
   "execution_count": 158,
   "metadata": {},
   "outputs": [],
   "source": [
    "import os\n",
    "import numpy as np\n",
    "import pandas as pd\n",
    "from tqdm import tqdm\n",
    "from qdrant_client import models, QdrantClient\n",
    "from sentence_transformers import SentenceTransformer\n",
    "\n",
    "METADATA_FILEPATH = \"./../data/articles/articles.parquet\"\n",
    "EMBEDDINGS_FILEPATH = \"./../data/articles/articles_with_embeddings.parquet\"\n",
    "MODEL_NAME = \"neuralmind/bert-base-portuguese-cased\""
   ]
  },
  {
   "cell_type": "code",
   "execution_count": 159,
   "metadata": {},
   "outputs": [
    {
     "data": {
      "text/html": [
       "<div>\n",
       "<style scoped>\n",
       "    .dataframe tbody tr th:only-of-type {\n",
       "        vertical-align: middle;\n",
       "    }\n",
       "\n",
       "    .dataframe tbody tr th {\n",
       "        vertical-align: top;\n",
       "    }\n",
       "\n",
       "    .dataframe thead th {\n",
       "        text-align: right;\n",
       "    }\n",
       "</style>\n",
       "<table border=\"1\" class=\"dataframe\">\n",
       "  <thead>\n",
       "    <tr style=\"text-align: right;\">\n",
       "      <th></th>\n",
       "      <th>newsId</th>\n",
       "      <th>url</th>\n",
       "      <th>publishDate</th>\n",
       "      <th>title</th>\n",
       "      <th>titleCharCount</th>\n",
       "      <th>textCharCount</th>\n",
       "      <th>topics</th>\n",
       "      <th>body</th>\n",
       "    </tr>\n",
       "  </thead>\n",
       "  <tbody>\n",
       "    <tr>\n",
       "      <th>148094</th>\n",
       "      <td>58bc855d-87e3-4e3d-afd0-27c7fae77ac1</td>\n",
       "      <td>http://g1.globo.com/go/goias/noticia/2023/03/2...</td>\n",
       "      <td>2023-03-26 14:40:11</td>\n",
       "      <td>Jovem morre após levar choque ao pular muro de...</td>\n",
       "      <td>86</td>\n",
       "      <td>1678</td>\n",
       "      <td>[go]</td>\n",
       "      <td>Gabriel Feitosa da Silva, de 25 anos, morreu a...</td>\n",
       "    </tr>\n",
       "    <tr>\n",
       "      <th>148095</th>\n",
       "      <td>60b204c2-54c0-447b-a751-eda8f32a2bf3</td>\n",
       "      <td>http://g1.globo.com/sc/santa-catarina/noticia/...</td>\n",
       "      <td>2022-06-21 00:18:26</td>\n",
       "      <td>Corregedoria-Geral da Justiça apura conduta de...</td>\n",
       "      <td>104</td>\n",
       "      <td>4453</td>\n",
       "      <td>[sc]</td>\n",
       "      <td>A Corregedoria-Geral da Justiça está investiga...</td>\n",
       "    </tr>\n",
       "    <tr>\n",
       "      <th>148096</th>\n",
       "      <td>d7eab297-d17a-4634-ba6e-7699500e78bb</td>\n",
       "      <td>http://g1.globo.com/pe/pernambuco/blog/viver-n...</td>\n",
       "      <td>2022-12-19 17:37:11</td>\n",
       "      <td>\\nEstudo relata 1ª evidência de acasalamento d...</td>\n",
       "      <td>105</td>\n",
       "      <td>4551</td>\n",
       "      <td>[pe]</td>\n",
       "      <td>Registros de marca de cópula em tigres em Noro...</td>\n",
       "    </tr>\n",
       "    <tr>\n",
       "      <th>148097</th>\n",
       "      <td>132fb4d8-1182-4655-91cf-c809e3700642</td>\n",
       "      <td>http://g1.globo.com/ciencia-e-saude/noticia/a-...</td>\n",
       "      <td>2018-03-23 18:16:02</td>\n",
       "      <td>A trágica história por trás da 'múmia de extra...</td>\n",
       "      <td>76</td>\n",
       "      <td>2971</td>\n",
       "      <td>[mundo]</td>\n",
       "      <td>O esqueleto da múmia Ata tem 13 centímetros, m...</td>\n",
       "    </tr>\n",
       "    <tr>\n",
       "      <th>148098</th>\n",
       "      <td>9ff4179c-d58c-4040-920b-eb4c7dbd031b</td>\n",
       "      <td>http://g1.globo.com/ciencia/noticia/2023/03/14...</td>\n",
       "      <td>2023-03-14 11:06:08</td>\n",
       "      <td>Sonda da Nasa flagra dunas de areia 'atípicas'...</td>\n",
       "      <td>55</td>\n",
       "      <td>2059</td>\n",
       "      <td>[ciencia]</td>\n",
       "      <td>As dunas de areia circulares vista em uma imag...</td>\n",
       "    </tr>\n",
       "  </tbody>\n",
       "</table>\n",
       "</div>"
      ],
      "text/plain": [
       "                                      newsId  \\\n",
       "148094  58bc855d-87e3-4e3d-afd0-27c7fae77ac1   \n",
       "148095  60b204c2-54c0-447b-a751-eda8f32a2bf3   \n",
       "148096  d7eab297-d17a-4634-ba6e-7699500e78bb   \n",
       "148097  132fb4d8-1182-4655-91cf-c809e3700642   \n",
       "148098  9ff4179c-d58c-4040-920b-eb4c7dbd031b   \n",
       "\n",
       "                                                      url         publishDate  \\\n",
       "148094  http://g1.globo.com/go/goias/noticia/2023/03/2... 2023-03-26 14:40:11   \n",
       "148095  http://g1.globo.com/sc/santa-catarina/noticia/... 2022-06-21 00:18:26   \n",
       "148096  http://g1.globo.com/pe/pernambuco/blog/viver-n... 2022-12-19 17:37:11   \n",
       "148097  http://g1.globo.com/ciencia-e-saude/noticia/a-... 2018-03-23 18:16:02   \n",
       "148098  http://g1.globo.com/ciencia/noticia/2023/03/14... 2023-03-14 11:06:08   \n",
       "\n",
       "                                                    title  titleCharCount  \\\n",
       "148094  Jovem morre após levar choque ao pular muro de...              86   \n",
       "148095  Corregedoria-Geral da Justiça apura conduta de...             104   \n",
       "148096  \\nEstudo relata 1ª evidência de acasalamento d...             105   \n",
       "148097  A trágica história por trás da 'múmia de extra...              76   \n",
       "148098  Sonda da Nasa flagra dunas de areia 'atípicas'...              55   \n",
       "\n",
       "        textCharCount     topics  \\\n",
       "148094           1678       [go]   \n",
       "148095           4453       [sc]   \n",
       "148096           4551       [pe]   \n",
       "148097           2971    [mundo]   \n",
       "148098           2059  [ciencia]   \n",
       "\n",
       "                                                     body  \n",
       "148094  Gabriel Feitosa da Silva, de 25 anos, morreu a...  \n",
       "148095  A Corregedoria-Geral da Justiça está investiga...  \n",
       "148096  Registros de marca de cópula em tigres em Noro...  \n",
       "148097  O esqueleto da múmia Ata tem 13 centímetros, m...  \n",
       "148098  As dunas de areia circulares vista em uma imag...  "
      ]
     },
     "execution_count": 159,
     "metadata": {},
     "output_type": "execute_result"
    }
   ],
   "source": [
    "df = pd.read_parquet(METADATA_FILEPATH)\n",
    "df.tail()"
   ]
  },
  {
   "cell_type": "markdown",
   "metadata": {},
   "source": [
    "# Preprocessing\n",
    "\n",
    "\n",
    "## Sampling the dataset\n",
    "The NPR dataset has a considerable high volume of news articles. So, in order to demonstrate the concepts, we'll sample the dataset.\n",
    "\n",
    "Let's take only the news articles published in the last 7 days of data:"
   ]
  },
  {
   "cell_type": "code",
   "execution_count": 160,
   "metadata": {},
   "outputs": [],
   "source": [
    "# Sampling\n",
    "max_days = 7\n",
    "df = df[df[\"publishDate\"] >= df[\"publishDate\"].max() + pd.DateOffset(-max_days)]"
   ]
  },
  {
   "cell_type": "markdown",
   "metadata": {},
   "source": [
    "## Transforming Metadata\n",
    "\n",
    "Some columns need to be transformed in order to upload them in Qdrant. Therefore, we'll make the following transformations:\n",
    "- Convert `publishDate` to `publishTimestamp` so we can get a integer representation of the publication timestamp\n",
    "- Convert `topics` to a *list* instead of a *numpy.ndarray*"
   ]
  },
  {
   "cell_type": "code",
   "execution_count": 161,
   "metadata": {},
   "outputs": [],
   "source": [
    "# Dtype conversion\n",
    "df[\"publishTimestamp\"] = df[\"publishDate\"].apply(pd.Timestamp.timestamp)\n",
    "df.drop(columns=[\"publishDate\"], inplace=True)\n",
    "df[\"topics\"] = df[\"topics\"].apply(lambda x: x.tolist())"
   ]
  },
  {
   "cell_type": "markdown",
   "metadata": {},
   "source": [
    "## Generating Sentence\n",
    "\n",
    "NPR articles has several textual-based data like the article's **title** and **body** content. Let's concatenate both string so we can work with a single textual sentence:"
   ]
  },
  {
   "cell_type": "code",
   "execution_count": 162,
   "metadata": {},
   "outputs": [
    {
     "data": {
      "text/html": [
       "<div>\n",
       "<style scoped>\n",
       "    .dataframe tbody tr th:only-of-type {\n",
       "        vertical-align: middle;\n",
       "    }\n",
       "\n",
       "    .dataframe tbody tr th {\n",
       "        vertical-align: top;\n",
       "    }\n",
       "\n",
       "    .dataframe thead th {\n",
       "        text-align: right;\n",
       "    }\n",
       "</style>\n",
       "<table border=\"1\" class=\"dataframe\">\n",
       "  <thead>\n",
       "    <tr style=\"text-align: right;\">\n",
       "      <th></th>\n",
       "      <th>newsId</th>\n",
       "      <th>url</th>\n",
       "      <th>title</th>\n",
       "      <th>titleCharCount</th>\n",
       "      <th>textCharCount</th>\n",
       "      <th>topics</th>\n",
       "      <th>body</th>\n",
       "      <th>publishTimestamp</th>\n",
       "      <th>sentence</th>\n",
       "    </tr>\n",
       "  </thead>\n",
       "  <tbody>\n",
       "    <tr>\n",
       "      <th>147774</th>\n",
       "      <td>955f0e20-6820-4ddc-b0fe-9228c3f00bef</td>\n",
       "      <td>http://g1.globo.com/mg/grande-minas/noticia/20...</td>\n",
       "      <td>Homem morre com cinco tiros na cabeça, em Pai ...</td>\n",
       "      <td>51</td>\n",
       "      <td>997</td>\n",
       "      <td>[mg]</td>\n",
       "      <td>Um homem, de 36 anos, morreu a tiros na tarde ...</td>\n",
       "      <td>1.682356e+09</td>\n",
       "      <td>Homem morre com cinco tiros na cabeça, em Pai ...</td>\n",
       "    </tr>\n",
       "    <tr>\n",
       "      <th>147877</th>\n",
       "      <td>16022899-4880-4505-8b46-db26f016bf00</td>\n",
       "      <td>http://g1.globo.com/politica/blog/andreia-sadi...</td>\n",
       "      <td>CPMI dos atos golpistas: oposição vai mirar em...</td>\n",
       "      <td>80</td>\n",
       "      <td>1520</td>\n",
       "      <td>[política]</td>\n",
       "      <td>General Braga Netto e o ministro da Justiça, F...</td>\n",
       "      <td>1.682343e+09</td>\n",
       "      <td>CPMI dos atos golpistas: oposição vai mirar em...</td>\n",
       "    </tr>\n",
       "    <tr>\n",
       "      <th>147992</th>\n",
       "      <td>7f9ad39d-09a1-4764-b3f4-59b9c5f2b6f8</td>\n",
       "      <td>http://g1.globo.com/pe/pernambuco/noticia/2023...</td>\n",
       "      <td>Chuva no Grande Recife deixa ruas alagadas e t...</td>\n",
       "      <td>83</td>\n",
       "      <td>3838</td>\n",
       "      <td>[pe]</td>\n",
       "      <td>Ruas ficam alagadas após chuvas no Recife\\nRua...</td>\n",
       "      <td>1.682507e+09</td>\n",
       "      <td>Chuva no Grande Recife deixa ruas alagadas e t...</td>\n",
       "    </tr>\n",
       "    <tr>\n",
       "      <th>148007</th>\n",
       "      <td>41350c69-0b8a-4f9c-9eac-e6242e6fc0b0</td>\n",
       "      <td>http://g1.globo.com/jornal-nacional/noticia/20...</td>\n",
       "      <td>Venda de carros usados no país passa a ser cin...</td>\n",
       "      <td>107</td>\n",
       "      <td>2517</td>\n",
       "      <td>[jornal-nacional]</td>\n",
       "      <td>Venda de carros usados no país passa a ser cin...</td>\n",
       "      <td>1.682814e+09</td>\n",
       "      <td>Venda de carros usados no país passa a ser cin...</td>\n",
       "    </tr>\n",
       "    <tr>\n",
       "      <th>148054</th>\n",
       "      <td>6ceee695-f2eb-4541-be38-a7782bd4fdcc</td>\n",
       "      <td>http://g1.globo.com/ba/bahia/noticia/2023/04/2...</td>\n",
       "      <td>Covid-19: veja estratégia de vacinação que inc...</td>\n",
       "      <td>116</td>\n",
       "      <td>14240</td>\n",
       "      <td>[bahia]</td>\n",
       "      <td>Vacinação contra Covid-19 segue em Salvador\\nB...</td>\n",
       "      <td>1.682467e+09</td>\n",
       "      <td>Covid-19: veja estratégia de vacinação que inc...</td>\n",
       "    </tr>\n",
       "  </tbody>\n",
       "</table>\n",
       "</div>"
      ],
      "text/plain": [
       "                                      newsId  \\\n",
       "147774  955f0e20-6820-4ddc-b0fe-9228c3f00bef   \n",
       "147877  16022899-4880-4505-8b46-db26f016bf00   \n",
       "147992  7f9ad39d-09a1-4764-b3f4-59b9c5f2b6f8   \n",
       "148007  41350c69-0b8a-4f9c-9eac-e6242e6fc0b0   \n",
       "148054  6ceee695-f2eb-4541-be38-a7782bd4fdcc   \n",
       "\n",
       "                                                      url  \\\n",
       "147774  http://g1.globo.com/mg/grande-minas/noticia/20...   \n",
       "147877  http://g1.globo.com/politica/blog/andreia-sadi...   \n",
       "147992  http://g1.globo.com/pe/pernambuco/noticia/2023...   \n",
       "148007  http://g1.globo.com/jornal-nacional/noticia/20...   \n",
       "148054  http://g1.globo.com/ba/bahia/noticia/2023/04/2...   \n",
       "\n",
       "                                                    title  titleCharCount  \\\n",
       "147774  Homem morre com cinco tiros na cabeça, em Pai ...              51   \n",
       "147877  CPMI dos atos golpistas: oposição vai mirar em...              80   \n",
       "147992  Chuva no Grande Recife deixa ruas alagadas e t...              83   \n",
       "148007  Venda de carros usados no país passa a ser cin...             107   \n",
       "148054  Covid-19: veja estratégia de vacinação que inc...             116   \n",
       "\n",
       "        textCharCount             topics  \\\n",
       "147774            997               [mg]   \n",
       "147877           1520         [política]   \n",
       "147992           3838               [pe]   \n",
       "148007           2517  [jornal-nacional]   \n",
       "148054          14240            [bahia]   \n",
       "\n",
       "                                                     body  publishTimestamp  \\\n",
       "147774  Um homem, de 36 anos, morreu a tiros na tarde ...      1.682356e+09   \n",
       "147877  General Braga Netto e o ministro da Justiça, F...      1.682343e+09   \n",
       "147992  Ruas ficam alagadas após chuvas no Recife\\nRua...      1.682507e+09   \n",
       "148007  Venda de carros usados no país passa a ser cin...      1.682814e+09   \n",
       "148054  Vacinação contra Covid-19 segue em Salvador\\nB...      1.682467e+09   \n",
       "\n",
       "                                                 sentence  \n",
       "147774  Homem morre com cinco tiros na cabeça, em Pai ...  \n",
       "147877  CPMI dos atos golpistas: oposição vai mirar em...  \n",
       "147992  Chuva no Grande Recife deixa ruas alagadas e t...  \n",
       "148007  Venda de carros usados no país passa a ser cin...  \n",
       "148054  Covid-19: veja estratégia de vacinação que inc...  "
      ]
     },
     "execution_count": 162,
     "metadata": {},
     "output_type": "execute_result"
    }
   ],
   "source": [
    "def generate_item_sentence(item: pd.Series) -> str:\n",
    "    return ' '.join([item[\"title\"], item[\"body\"]])\n",
    "\n",
    "df[\"sentence\"] = df.apply(generate_item_sentence, axis=1)\n",
    "df.tail()"
   ]
  },
  {
   "cell_type": "markdown",
   "metadata": {},
   "source": [
    "## Generating Embeddings\n",
    "\n",
    "So once we define the textual features from our input data, we need to establish an embedding model to generate our numerical representation. Lucky for us, there are websites like [HuggingFace](https://huggingface.co/) where you can look for pre-trained models suitable for specific languages or tasks. In our example, we can use the `neuralmind/bert-base-portuguese-cased` model, which was trained in Brazilian portuguese for the following tasks:\n",
    "\n",
    "- Named Entity Recognition\n",
    "- Sentence Textual Similarity\n",
    "- Recognizing Textual Entailment\n",
    "\n",
    "Let's create an encoder object based on the `SentenceTransformer` class"
   ]
  },
  {
   "cell_type": "code",
   "execution_count": 163,
   "metadata": {},
   "outputs": [
    {
     "name": "stderr",
     "output_type": "stream",
     "text": [
      "No sentence-transformers model found with name /Users/joao.guedes/.cache/torch/sentence_transformers/neuralmind_bert-base-portuguese-cased. Creating a new one with MEAN pooling.\n"
     ]
    }
   ],
   "source": [
    "encoder = SentenceTransformer(model_name_or_path=MODEL_NAME, device='cpu')"
   ]
  },
  {
   "cell_type": "markdown",
   "metadata": {},
   "source": [
    "We can take an example news article and try to generate an embedding from its textual sentence:"
   ]
  },
  {
   "cell_type": "code",
   "execution_count": 164,
   "metadata": {},
   "outputs": [
    {
     "name": "stdout",
     "output_type": "stream",
     "text": [
      "Paraguaios vão às urnas neste domingo (30) para escolher novo presidente Eleição no Paraguai tem disputa acirrada pela Presidência\n",
      "Os paraguaios vão às urnas neste domingo (30) para escolher o novo presidente do país.\n",
      "As pesquisas de opinião indicam uma disputa apertada entre o candidato governista Santiago Peña, do Partido Colorado, e o oposicionista Efraín Alegre, do Concertación Nacional, de esquerda. \n",
      "A votação é em turno único, e também vai eleger parlamentares e governadores. Dois temas dominaram as discussões na campanha: a corrupção, e a ampliação das relações comerciais com a China.\n",
      "[-0.2875876   0.0356041   0.31462672  0.06252239]\n"
     ]
    }
   ],
   "source": [
    "sample_sentence = df.query(\"newsId == '4159a128-f6c0-44a7-b08f-0a17f099d43f'\")[\"sentence\"].values[0]\n",
    "sample_embedding = encoder.encode(sample_sentence)\n",
    "print (sample_sentence)\n",
    "print (sample_embedding[:4])\n"
   ]
  },
  {
   "cell_type": "markdown",
   "metadata": {},
   "source": [
    "No we need to repeat the embedding generation process for all articles in the NPR dataset. However, this step can take a while depending on your machine's processing power (GPU's are very welcome here). Therefore, if you have a pre-computed embeddings stored in a file, it is a good strategy to upload them and only generate embeddings for new articles."
   ]
  },
  {
   "cell_type": "code",
   "execution_count": 165,
   "metadata": {},
   "outputs": [
    {
     "name": "stdout",
     "output_type": "stream",
     "text": [
      "Getting pre-computed embeddings\n"
     ]
    },
    {
     "data": {
      "text/html": [
       "<div>\n",
       "<style scoped>\n",
       "    .dataframe tbody tr th:only-of-type {\n",
       "        vertical-align: middle;\n",
       "    }\n",
       "\n",
       "    .dataframe tbody tr th {\n",
       "        vertical-align: top;\n",
       "    }\n",
       "\n",
       "    .dataframe thead th {\n",
       "        text-align: right;\n",
       "    }\n",
       "</style>\n",
       "<table border=\"1\" class=\"dataframe\">\n",
       "  <thead>\n",
       "    <tr style=\"text-align: right;\">\n",
       "      <th></th>\n",
       "      <th>newsId</th>\n",
       "      <th>url</th>\n",
       "      <th>title</th>\n",
       "      <th>titleCharCount</th>\n",
       "      <th>textCharCount</th>\n",
       "      <th>topics</th>\n",
       "      <th>body</th>\n",
       "      <th>publishTimestamp</th>\n",
       "      <th>sentence</th>\n",
       "      <th>sentence_embedding</th>\n",
       "    </tr>\n",
       "  </thead>\n",
       "  <tbody>\n",
       "    <tr>\n",
       "      <th>3553</th>\n",
       "      <td>955f0e20-6820-4ddc-b0fe-9228c3f00bef</td>\n",
       "      <td>http://g1.globo.com/mg/grande-minas/noticia/20...</td>\n",
       "      <td>Homem morre com cinco tiros na cabeça, em Pai ...</td>\n",
       "      <td>51</td>\n",
       "      <td>997</td>\n",
       "      <td>[mg]</td>\n",
       "      <td>Um homem, de 36 anos, morreu a tiros na tarde ...</td>\n",
       "      <td>1.682356e+09</td>\n",
       "      <td>Homem morre com cinco tiros na cabeça, em Pai ...</td>\n",
       "      <td>[-0.20603772, -0.19998942, 0.33290493, 0.07387...</td>\n",
       "    </tr>\n",
       "    <tr>\n",
       "      <th>3554</th>\n",
       "      <td>16022899-4880-4505-8b46-db26f016bf00</td>\n",
       "      <td>http://g1.globo.com/politica/blog/andreia-sadi...</td>\n",
       "      <td>CPMI dos atos golpistas: oposição vai mirar em...</td>\n",
       "      <td>80</td>\n",
       "      <td>1520</td>\n",
       "      <td>[política]</td>\n",
       "      <td>General Braga Netto e o ministro da Justiça, F...</td>\n",
       "      <td>1.682343e+09</td>\n",
       "      <td>CPMI dos atos golpistas: oposição vai mirar em...</td>\n",
       "      <td>[-0.15523164, 0.028003749, 0.43661755, -0.0520...</td>\n",
       "    </tr>\n",
       "    <tr>\n",
       "      <th>3555</th>\n",
       "      <td>7f9ad39d-09a1-4764-b3f4-59b9c5f2b6f8</td>\n",
       "      <td>http://g1.globo.com/pe/pernambuco/noticia/2023...</td>\n",
       "      <td>Chuva no Grande Recife deixa ruas alagadas e t...</td>\n",
       "      <td>83</td>\n",
       "      <td>3838</td>\n",
       "      <td>[pe]</td>\n",
       "      <td>Ruas ficam alagadas após chuvas no Recife\\nRua...</td>\n",
       "      <td>1.682507e+09</td>\n",
       "      <td>Chuva no Grande Recife deixa ruas alagadas e t...</td>\n",
       "      <td>[-0.2497541, -0.026237434, 0.60738844, -0.0385...</td>\n",
       "    </tr>\n",
       "    <tr>\n",
       "      <th>3556</th>\n",
       "      <td>41350c69-0b8a-4f9c-9eac-e6242e6fc0b0</td>\n",
       "      <td>http://g1.globo.com/jornal-nacional/noticia/20...</td>\n",
       "      <td>Venda de carros usados no país passa a ser cin...</td>\n",
       "      <td>107</td>\n",
       "      <td>2517</td>\n",
       "      <td>[jornal-nacional]</td>\n",
       "      <td>Venda de carros usados no país passa a ser cin...</td>\n",
       "      <td>1.682814e+09</td>\n",
       "      <td>Venda de carros usados no país passa a ser cin...</td>\n",
       "      <td>[-0.2967772, -0.18254128, 0.47457638, -0.01638...</td>\n",
       "    </tr>\n",
       "    <tr>\n",
       "      <th>3557</th>\n",
       "      <td>6ceee695-f2eb-4541-be38-a7782bd4fdcc</td>\n",
       "      <td>http://g1.globo.com/ba/bahia/noticia/2023/04/2...</td>\n",
       "      <td>Covid-19: veja estratégia de vacinação que inc...</td>\n",
       "      <td>116</td>\n",
       "      <td>14240</td>\n",
       "      <td>[bahia]</td>\n",
       "      <td>Vacinação contra Covid-19 segue em Salvador\\nB...</td>\n",
       "      <td>1.682467e+09</td>\n",
       "      <td>Covid-19: veja estratégia de vacinação que inc...</td>\n",
       "      <td>[-0.1728873, -0.020331837, 0.6433897, -0.01650...</td>\n",
       "    </tr>\n",
       "  </tbody>\n",
       "</table>\n",
       "</div>"
      ],
      "text/plain": [
       "                                    newsId  \\\n",
       "3553  955f0e20-6820-4ddc-b0fe-9228c3f00bef   \n",
       "3554  16022899-4880-4505-8b46-db26f016bf00   \n",
       "3555  7f9ad39d-09a1-4764-b3f4-59b9c5f2b6f8   \n",
       "3556  41350c69-0b8a-4f9c-9eac-e6242e6fc0b0   \n",
       "3557  6ceee695-f2eb-4541-be38-a7782bd4fdcc   \n",
       "\n",
       "                                                    url  \\\n",
       "3553  http://g1.globo.com/mg/grande-minas/noticia/20...   \n",
       "3554  http://g1.globo.com/politica/blog/andreia-sadi...   \n",
       "3555  http://g1.globo.com/pe/pernambuco/noticia/2023...   \n",
       "3556  http://g1.globo.com/jornal-nacional/noticia/20...   \n",
       "3557  http://g1.globo.com/ba/bahia/noticia/2023/04/2...   \n",
       "\n",
       "                                                  title  titleCharCount  \\\n",
       "3553  Homem morre com cinco tiros na cabeça, em Pai ...              51   \n",
       "3554  CPMI dos atos golpistas: oposição vai mirar em...              80   \n",
       "3555  Chuva no Grande Recife deixa ruas alagadas e t...              83   \n",
       "3556  Venda de carros usados no país passa a ser cin...             107   \n",
       "3557  Covid-19: veja estratégia de vacinação que inc...             116   \n",
       "\n",
       "      textCharCount             topics  \\\n",
       "3553            997               [mg]   \n",
       "3554           1520         [política]   \n",
       "3555           3838               [pe]   \n",
       "3556           2517  [jornal-nacional]   \n",
       "3557          14240            [bahia]   \n",
       "\n",
       "                                                   body  publishTimestamp  \\\n",
       "3553  Um homem, de 36 anos, morreu a tiros na tarde ...      1.682356e+09   \n",
       "3554  General Braga Netto e o ministro da Justiça, F...      1.682343e+09   \n",
       "3555  Ruas ficam alagadas após chuvas no Recife\\nRua...      1.682507e+09   \n",
       "3556  Venda de carros usados no país passa a ser cin...      1.682814e+09   \n",
       "3557  Vacinação contra Covid-19 segue em Salvador\\nB...      1.682467e+09   \n",
       "\n",
       "                                               sentence  \\\n",
       "3553  Homem morre com cinco tiros na cabeça, em Pai ...   \n",
       "3554  CPMI dos atos golpistas: oposição vai mirar em...   \n",
       "3555  Chuva no Grande Recife deixa ruas alagadas e t...   \n",
       "3556  Venda de carros usados no país passa a ser cin...   \n",
       "3557  Covid-19: veja estratégia de vacinação que inc...   \n",
       "\n",
       "                                     sentence_embedding  \n",
       "3553  [-0.20603772, -0.19998942, 0.33290493, 0.07387...  \n",
       "3554  [-0.15523164, 0.028003749, 0.43661755, -0.0520...  \n",
       "3555  [-0.2497541, -0.026237434, 0.60738844, -0.0385...  \n",
       "3556  [-0.2967772, -0.18254128, 0.47457638, -0.01638...  \n",
       "3557  [-0.1728873, -0.020331837, 0.6433897, -0.01650...  "
      ]
     },
     "execution_count": 165,
     "metadata": {},
     "output_type": "execute_result"
    }
   ],
   "source": [
    "if os.path.isfile(EMBEDDINGS_FILEPATH):\n",
    "    print (\"Getting pre-computed embeddings\")\n",
    "    df_embeddings = pd.read_parquet(EMBEDDINGS_FILEPATH, columns=[\"newsId\", \"sentence_embedding\"])\n",
    "    df = pd.merge(df, df_embeddings, on=\"newsId\", how=\"left\")\n",
    "else:\n",
    "    df[\"sentence_embedding\"] = pd.nan\n",
    "\n",
    "df.tail()"
   ]
  },
  {
   "cell_type": "code",
   "execution_count": 166,
   "metadata": {},
   "outputs": [
    {
     "name": "stdout",
     "output_type": "stream",
     "text": [
      "CPU times: user 48.5 ms, sys: 3.9 ms, total: 52.4 ms\n",
      "Wall time: 51.7 ms\n"
     ]
    },
    {
     "data": {
      "text/html": [
       "<div>\n",
       "<style scoped>\n",
       "    .dataframe tbody tr th:only-of-type {\n",
       "        vertical-align: middle;\n",
       "    }\n",
       "\n",
       "    .dataframe tbody tr th {\n",
       "        vertical-align: top;\n",
       "    }\n",
       "\n",
       "    .dataframe thead th {\n",
       "        text-align: right;\n",
       "    }\n",
       "</style>\n",
       "<table border=\"1\" class=\"dataframe\">\n",
       "  <thead>\n",
       "    <tr style=\"text-align: right;\">\n",
       "      <th></th>\n",
       "      <th>newsId</th>\n",
       "      <th>url</th>\n",
       "      <th>title</th>\n",
       "      <th>titleCharCount</th>\n",
       "      <th>textCharCount</th>\n",
       "      <th>topics</th>\n",
       "      <th>body</th>\n",
       "      <th>publishTimestamp</th>\n",
       "      <th>sentence</th>\n",
       "      <th>sentence_embedding</th>\n",
       "    </tr>\n",
       "  </thead>\n",
       "  <tbody>\n",
       "    <tr>\n",
       "      <th>3553</th>\n",
       "      <td>955f0e20-6820-4ddc-b0fe-9228c3f00bef</td>\n",
       "      <td>http://g1.globo.com/mg/grande-minas/noticia/20...</td>\n",
       "      <td>Homem morre com cinco tiros na cabeça, em Pai ...</td>\n",
       "      <td>51</td>\n",
       "      <td>997</td>\n",
       "      <td>[mg]</td>\n",
       "      <td>Um homem, de 36 anos, morreu a tiros na tarde ...</td>\n",
       "      <td>1.682356e+09</td>\n",
       "      <td>Homem morre com cinco tiros na cabeça, em Pai ...</td>\n",
       "      <td>[-0.20603772, -0.19998942, 0.33290493, 0.07387...</td>\n",
       "    </tr>\n",
       "    <tr>\n",
       "      <th>3554</th>\n",
       "      <td>16022899-4880-4505-8b46-db26f016bf00</td>\n",
       "      <td>http://g1.globo.com/politica/blog/andreia-sadi...</td>\n",
       "      <td>CPMI dos atos golpistas: oposição vai mirar em...</td>\n",
       "      <td>80</td>\n",
       "      <td>1520</td>\n",
       "      <td>[política]</td>\n",
       "      <td>General Braga Netto e o ministro da Justiça, F...</td>\n",
       "      <td>1.682343e+09</td>\n",
       "      <td>CPMI dos atos golpistas: oposição vai mirar em...</td>\n",
       "      <td>[-0.15523164, 0.028003749, 0.43661755, -0.0520...</td>\n",
       "    </tr>\n",
       "    <tr>\n",
       "      <th>3555</th>\n",
       "      <td>7f9ad39d-09a1-4764-b3f4-59b9c5f2b6f8</td>\n",
       "      <td>http://g1.globo.com/pe/pernambuco/noticia/2023...</td>\n",
       "      <td>Chuva no Grande Recife deixa ruas alagadas e t...</td>\n",
       "      <td>83</td>\n",
       "      <td>3838</td>\n",
       "      <td>[pe]</td>\n",
       "      <td>Ruas ficam alagadas após chuvas no Recife\\nRua...</td>\n",
       "      <td>1.682507e+09</td>\n",
       "      <td>Chuva no Grande Recife deixa ruas alagadas e t...</td>\n",
       "      <td>[-0.2497541, -0.026237434, 0.60738844, -0.0385...</td>\n",
       "    </tr>\n",
       "    <tr>\n",
       "      <th>3556</th>\n",
       "      <td>41350c69-0b8a-4f9c-9eac-e6242e6fc0b0</td>\n",
       "      <td>http://g1.globo.com/jornal-nacional/noticia/20...</td>\n",
       "      <td>Venda de carros usados no país passa a ser cin...</td>\n",
       "      <td>107</td>\n",
       "      <td>2517</td>\n",
       "      <td>[jornal-nacional]</td>\n",
       "      <td>Venda de carros usados no país passa a ser cin...</td>\n",
       "      <td>1.682814e+09</td>\n",
       "      <td>Venda de carros usados no país passa a ser cin...</td>\n",
       "      <td>[-0.2967772, -0.18254128, 0.47457638, -0.01638...</td>\n",
       "    </tr>\n",
       "    <tr>\n",
       "      <th>3557</th>\n",
       "      <td>6ceee695-f2eb-4541-be38-a7782bd4fdcc</td>\n",
       "      <td>http://g1.globo.com/ba/bahia/noticia/2023/04/2...</td>\n",
       "      <td>Covid-19: veja estratégia de vacinação que inc...</td>\n",
       "      <td>116</td>\n",
       "      <td>14240</td>\n",
       "      <td>[bahia]</td>\n",
       "      <td>Vacinação contra Covid-19 segue em Salvador\\nB...</td>\n",
       "      <td>1.682467e+09</td>\n",
       "      <td>Covid-19: veja estratégia de vacinação que inc...</td>\n",
       "      <td>[-0.1728873, -0.020331837, 0.6433897, -0.01650...</td>\n",
       "    </tr>\n",
       "  </tbody>\n",
       "</table>\n",
       "</div>"
      ],
      "text/plain": [
       "                                    newsId  \\\n",
       "3553  955f0e20-6820-4ddc-b0fe-9228c3f00bef   \n",
       "3554  16022899-4880-4505-8b46-db26f016bf00   \n",
       "3555  7f9ad39d-09a1-4764-b3f4-59b9c5f2b6f8   \n",
       "3556  41350c69-0b8a-4f9c-9eac-e6242e6fc0b0   \n",
       "3557  6ceee695-f2eb-4541-be38-a7782bd4fdcc   \n",
       "\n",
       "                                                    url  \\\n",
       "3553  http://g1.globo.com/mg/grande-minas/noticia/20...   \n",
       "3554  http://g1.globo.com/politica/blog/andreia-sadi...   \n",
       "3555  http://g1.globo.com/pe/pernambuco/noticia/2023...   \n",
       "3556  http://g1.globo.com/jornal-nacional/noticia/20...   \n",
       "3557  http://g1.globo.com/ba/bahia/noticia/2023/04/2...   \n",
       "\n",
       "                                                  title  titleCharCount  \\\n",
       "3553  Homem morre com cinco tiros na cabeça, em Pai ...              51   \n",
       "3554  CPMI dos atos golpistas: oposição vai mirar em...              80   \n",
       "3555  Chuva no Grande Recife deixa ruas alagadas e t...              83   \n",
       "3556  Venda de carros usados no país passa a ser cin...             107   \n",
       "3557  Covid-19: veja estratégia de vacinação que inc...             116   \n",
       "\n",
       "      textCharCount             topics  \\\n",
       "3553            997               [mg]   \n",
       "3554           1520         [política]   \n",
       "3555           3838               [pe]   \n",
       "3556           2517  [jornal-nacional]   \n",
       "3557          14240            [bahia]   \n",
       "\n",
       "                                                   body  publishTimestamp  \\\n",
       "3553  Um homem, de 36 anos, morreu a tiros na tarde ...      1.682356e+09   \n",
       "3554  General Braga Netto e o ministro da Justiça, F...      1.682343e+09   \n",
       "3555  Ruas ficam alagadas após chuvas no Recife\\nRua...      1.682507e+09   \n",
       "3556  Venda de carros usados no país passa a ser cin...      1.682814e+09   \n",
       "3557  Vacinação contra Covid-19 segue em Salvador\\nB...      1.682467e+09   \n",
       "\n",
       "                                               sentence  \\\n",
       "3553  Homem morre com cinco tiros na cabeça, em Pai ...   \n",
       "3554  CPMI dos atos golpistas: oposição vai mirar em...   \n",
       "3555  Chuva no Grande Recife deixa ruas alagadas e t...   \n",
       "3556  Venda de carros usados no país passa a ser cin...   \n",
       "3557  Covid-19: veja estratégia de vacinação que inc...   \n",
       "\n",
       "                                     sentence_embedding  \n",
       "3553  [-0.20603772, -0.19998942, 0.33290493, 0.07387...  \n",
       "3554  [-0.15523164, 0.028003749, 0.43661755, -0.0520...  \n",
       "3555  [-0.2497541, -0.026237434, 0.60738844, -0.0385...  \n",
       "3556  [-0.2967772, -0.18254128, 0.47457638, -0.01638...  \n",
       "3557  [-0.1728873, -0.020331837, 0.6433897, -0.01650...  "
      ]
     },
     "execution_count": 166,
     "metadata": {},
     "output_type": "execute_result"
    }
   ],
   "source": [
    "%%time\n",
    "def get_item_embedding(item: pd.Series) -> np.ndarray:\n",
    "    \"\"\"Generates item embedding if it is null\"\"\"\n",
    "    if isinstance(item[\"sentence_embedding\"], np.ndarray):\n",
    "        return item[\"sentence_embedding\"]\n",
    "    return encoder.encode(item[\"sentence\"])\n",
    "\n",
    "df[\"sentence_embedding\"] = df.apply(get_item_embedding, axis=1)\n",
    "\n",
    "df.tail()"
   ]
  },
  {
   "cell_type": "markdown",
   "metadata": {},
   "source": [
    "Since generating embeddings for all articles is an expensive process, let's save our results on a local file before we upload them in the vector database"
   ]
  },
  {
   "cell_type": "code",
   "execution_count": 167,
   "metadata": {},
   "outputs": [],
   "source": [
    "df[[\"newsId\", \"sentence_embedding\"]].to_parquet(\"./../data/articles_with_embeddings.parquet\", index=None)"
   ]
  },
  {
   "cell_type": "markdown",
   "metadata": {},
   "source": [
    "# Qdrant Setup\n",
    "\n",
    "To deal with all Qdrant operations, we need to create a client object that points out to a vector database. Here, you can either:\n",
    "\n",
    "1. Create a Qdrant data storage on a local disk, or\n",
    "2. Connect to a Qdrant server\n",
    "\n",
    "> Note: For the Qdrant server option, you can [create a free-tier cloud storage using the Qdrant Cloud](https://qdrant.tech/documentation/cloud/) to test your operations or you can [initialize a local server using Docker](https://qdrant.tech/documentation/quick-start/).\n",
    "\n"
   ]
  },
  {
   "cell_type": "code",
   "execution_count": 168,
   "metadata": {},
   "outputs": [],
   "source": [
    "# client = QdrantClient(path=\"./../qdrant_data\") # Persists data on a local disk\n",
    "client = QdrantClient(host=\"localhost\", port=6333) # Connects to a Qdrant server"
   ]
  },
  {
   "cell_type": "markdown",
   "metadata": {},
   "source": [
    "To check the existing collections on the connecter Qdrant database:"
   ]
  },
  {
   "cell_type": "code",
   "execution_count": 169,
   "metadata": {},
   "outputs": [
    {
     "data": {
      "text/plain": [
       "CollectionsResponse(collections=[CollectionDescription(name='news-articles')])"
      ]
     },
     "execution_count": 169,
     "metadata": {},
     "output_type": "execute_result"
    }
   ],
   "source": [
    "client.get_collections()"
   ]
  },
  {
   "cell_type": "markdown",
   "metadata": {},
   "source": [
    "## Creating a collection\n",
    "\n",
    "A [collection](https://qdrant.tech/documentation/concepts/collections/) is a named set of points (vectors with a payload) among which you can search. The vector of each point within the same collection must have the same dimensionality and be compared by a single metric, so we need to define the vector configuration when creating a collection:"
   ]
  },
  {
   "cell_type": "code",
   "execution_count": 170,
   "metadata": {},
   "outputs": [],
   "source": [
    "from qdrant_client.http.models import Distance, VectorParams\n",
    "\n",
    "collection_name = \"news-articles\"\n",
    "existing_collections = [collection.name for collection in client.get_collections().collections]\n",
    "\n",
    "if collection_name not in existing_collections:\n",
    "    client.create_collection(\n",
    "        collection_name=collection_name,\n",
    "        vectors_config=models.VectorParams(\n",
    "            size=encoder.get_sentence_embedding_dimension(),\n",
    "            distance=models.Distance.COSINE,\n",
    "        ),\n",
    "    )"
   ]
  },
  {
   "cell_type": "markdown",
   "metadata": {},
   "source": [
    "Checking the collection creation:"
   ]
  },
  {
   "cell_type": "code",
   "execution_count": 171,
   "metadata": {},
   "outputs": [
    {
     "data": {
      "text/plain": [
       "CollectionsResponse(collections=[CollectionDescription(name='news-articles')])"
      ]
     },
     "execution_count": 171,
     "metadata": {},
     "output_type": "execute_result"
    }
   ],
   "source": [
    "client.get_collections()"
   ]
  },
  {
   "cell_type": "markdown",
   "metadata": {},
   "source": [
    "## Generating Vectors Points\n",
    "\n",
    "Prior to finally populating the database, we need to create proper objects to be uploaded. In Qdrant, vectors can be stored using a [PointStruct](https://qdrant.tech/documentation/concepts/points/) class, which you can use to define the following properties:\n",
    "- **id**: the vector's ID (in the NPR case, is the newsId)\n",
    "- **vector**: a 1-dimensional array representing the vector (generated by the embedding model)\n",
    "- **payload**: a dictionary containing any other relevant metadata that can later be used to query vectors in a collection"
   ]
  },
  {
   "cell_type": "code",
   "execution_count": 172,
   "metadata": {},
   "outputs": [],
   "source": [
    "from qdrant_client.http.models import PointStruct\n",
    "\n",
    "metadata_columns = df.drop([\"newsId\", \"sentence\", \"sentence_embedding\"], axis=1).columns\n",
    "\n",
    "def create_vector_point(row:pd.Series) -> PointStruct:\n",
    "    return PointStruct(\n",
    "        id=row[\"newsId\"],\n",
    "        vector=row[\"sentence_embedding\"].tolist(),\n",
    "        payload={\n",
    "            field: row[field]\n",
    "            for field in metadata_columns\n",
    "            if (str(row[field]) not in ['None', 'nan'])\n",
    "        }\n",
    "    )\n",
    "\n",
    "points = df.apply(create_vector_point, axis=1).tolist()\n"
   ]
  },
  {
   "cell_type": "markdown",
   "metadata": {},
   "source": [
    "## Uploading Vectors\n",
    "\n",
    "Finally, after all items are turned into point structures, we can upload them in chunks to the database:"
   ]
  },
  {
   "cell_type": "code",
   "execution_count": 173,
   "metadata": {},
   "outputs": [
    {
     "name": "stdout",
     "output_type": "stream",
     "text": [
      "Processing chunk 1/8\n",
      "Processing chunk 2/8\n",
      "Processing chunk 3/8\n",
      "Processing chunk 4/8\n",
      "Processing chunk 5/8\n",
      "Processing chunk 6/8\n",
      "Processing chunk 7/8\n",
      "Processing chunk 8/8\n"
     ]
    }
   ],
   "source": [
    "CHUNK_SIZE = 500\n",
    "n_chunks = np.ceil(len(points)/CHUNK_SIZE)\n",
    "\n",
    "for i, points_chunk in enumerate(np.array_split(points, n_chunks)):\n",
    "    print (f\"Processing chunk {i+1}/{int(n_chunks)}\")\n",
    "    operation_info = client.upsert(\n",
    "        collection_name=collection_name,\n",
    "        wait=True,\n",
    "        points=points_chunk.tolist()\n",
    "    )"
   ]
  },
  {
   "cell_type": "markdown",
   "metadata": {},
   "source": [
    "Checking the number of vectors in a collection:"
   ]
  },
  {
   "cell_type": "code",
   "execution_count": 174,
   "metadata": {},
   "outputs": [
    {
     "data": {
      "text/plain": [
       "3558"
      ]
     },
     "execution_count": 174,
     "metadata": {},
     "output_type": "execute_result"
    }
   ],
   "source": [
    "client.get_collection(collection_name).vectors_count"
   ]
  },
  {
   "cell_type": "markdown",
   "metadata": {},
   "source": [
    "# Querying Vectors\n",
    "\n",
    "Now that collections are finally populated with vectors, we can start querying the database. There are many ways we can input information to query the database:\n",
    "\n",
    "## Scroll\n",
    "\n",
    "The [scroll](https://qdrant.tech/documentation/concepts/points/) operation let's you get all stored points without knowing ids, or iterate over points that correspond to a filter.\n",
    "\n",
    "> Note 1: for most operations, you can define filtering parameters which resembles the _WHERE_ clauses in a relational database. If you want to check how to explore these filter creation, check the [filtering documentation](https://qdrant.tech/documentation/concepts/filtering/).\n",
    "\n",
    "> Note 2: the [payload](https://qdrant.tech/documentation/concepts/filtering/) parameter let's you tell Qdrant which additional information you want to retrieve from your query (think of if as the _SELECT_ columns in a relational database).\n",
    "\n",
    "For instance, let's query for news articles with topics like `política` (_politics_) and `mundo` (_world_):"
   ]
  },
  {
   "cell_type": "code",
   "execution_count": 175,
   "metadata": {},
   "outputs": [
    {
     "data": {
      "text/plain": [
       "([Record(id='004b22c3-87f5-4270-b6bb-4ddfc8490f2a', payload={'title': 'Lira manda recado após veto de indicado para o Tribunal Regional Federal da 1ª Região', 'topics': ['política']}, vector=None),\n",
       "  Record(id='007fa598-ce88-42a5-b63b-c6810614e663', payload={'title': 'Moraes vota para tornar réus 200 denunciados de incitar e executar atos golpistas de 8 de janeiro', 'topics': ['política']}, vector=None),\n",
       "  Record(id='00b89b4c-d912-4394-84de-97a94abe8ca9', payload={'title': 'Terremoto de magnitude 5,7 atinge costa de Valparaíso, no Chile', 'topics': ['mundo']}, vector=None),\n",
       "  Record(id='0114fb71-893f-4a84-839b-5a9b3ddd2b38', payload={'title': 'Projetos do governo passam a travar pauta da Câmara na próxima semana; veja quais', 'topics': ['política']}, vector=None),\n",
       "  Record(id='0152157d-a7cc-48be-9bda-a5c2b0ae9207', payload={'title': 'Mortos em seita de jejum no Quênia chegam a 73', 'topics': ['mundo']}, vector=None)],\n",
       " '01fc725c-c544-460b-a818-04b415497fca')"
      ]
     },
     "execution_count": 175,
     "metadata": {},
     "output_type": "execute_result"
    }
   ],
   "source": [
    "from qdrant_client.models import Filter\n",
    "from qdrant_client.http import models\n",
    "\n",
    "client.scroll(\n",
    "    collection_name=collection_name,\n",
    "    limit=5,\n",
    "    with_payload=[\"newsId\", \"title\", \"topics\"],\n",
    "    with_vectors=False,\n",
    "    scroll_filter=Filter(\n",
    "        must=[\n",
    "            models.FieldCondition(key=\"topics\", match=models.MatchAny(any=[\"política\", \"mundo\"])),\n",
    "        ]\n",
    "    )\n",
    ")"
   ]
  },
  {
   "cell_type": "markdown",
   "metadata": {},
   "source": [
    "## Search API\n",
    "\n",
    "Searching for the nearest vectors is at the core of many representational learning applications. The key idea is to transform objects into vectors so that objects close in the real world appear close in vector space.\n",
    "\n",
    "Qdrant offers the [Search API](https://qdrant.tech/documentation/concepts/search/) so we can easily extract vectors close to an input vector. We can use this to create the core functionality of a **search engine** using the same embedding model that was used to generate the vectors in the collection."
   ]
  },
  {
   "cell_type": "code",
   "execution_count": 176,
   "metadata": {},
   "outputs": [
    {
     "data": {
      "text/plain": [
       "[ScoredPoint(id='4159a128-f6c0-44a7-b08f-0a17f099d43f', version=15, score=0.3904202, payload={'title': 'Paraguaios vão às urnas neste domingo (30) para escolher novo presidente', 'topics': ['jornal-nacional']}, vector=None),\n",
       " ScoredPoint(id='e4db00c9-7bcb-4c88-a502-4c6c840dde30', version=10, score=0.3860359, payload={'title': 'Eleitores dizem que Biden e Trump não deveriam concorrer em 2024, mostra pesquisa Reuters/Ipsos', 'topics': ['mundo']}, vector=None),\n",
       " ScoredPoint(id='8efe078b-9f42-446e-a970-9abfe408bb84', version=12, score=0.37755477, payload={'title': 'Escritora acusa Trump de ter abusado sexualmente dela nos anos 1990', 'topics': ['jornal-nacional']}, vector=None),\n",
       " ScoredPoint(id='d2f89819-e36d-4e23-a13c-47c582fe1363', version=14, score=0.3773188, payload={'title': 'Mike Pence, ex-vice de Donald Trump, presta depoimento na Justiça que pode complicar o ex-presidente', 'topics': ['mundo']}, vector=None),\n",
       " ScoredPoint(id='4619ee33-07b6-4121-8724-cdc4905bd962', version=10, score=0.36932206, payload={'title': 'EUA: os 4 motivos que levaram Biden a se lançar à reeleição', 'topics': ['mundo']}, vector=None),\n",
       " ScoredPoint(id='369d6b6d-ec75-42f5-8851-f570830fdd17', version=11, score=0.36286616, payload={'title': 'Presidentes da Ucrânia e da China conversam pela primeira vez desde o começo da invasão russa', 'topics': ['jornal-nacional']}, vector=None),\n",
       " ScoredPoint(id='6b14ea82-b36a-4f5c-858c-d24f9943119a', version=9, score=0.36008188, payload={'title': 'Dom Jaime Spengler é eleito presidente da CNBB', 'topics': ['jornal-nacional']}, vector=None),\n",
       " ScoredPoint(id='010fdb01-fd05-443a-b115-793beb98a465', version=14, score=0.35308218, payload={'title': \"'The Flash' ganha novo trailer; ASSISTA\", 'topics': ['pop-arte']}, vector=None),\n",
       " ScoredPoint(id='c60daa06-0ec0-4ed4-b414-5dd9fa76c16f', version=8, score=0.35016245, payload={'title': 'Ex-presidente dos Estados Unidos, Mike Pence, presta depoimento no caso que investiga envolvimento de Trump na invasão do Capitólio', 'topics': ['jornal-nacional']}, vector=None),\n",
       " ScoredPoint(id='9ed25e49-14f9-44cd-b76e-a104b4dfabca', version=15, score=0.34956384, payload={'title': 'Saiba por que Joe Biden lançou sua candidatura à reeleição nesta terça-feira', 'topics': ['mundo']}, vector=None)]"
      ]
     },
     "execution_count": 176,
     "metadata": {},
     "output_type": "execute_result"
    }
   ],
   "source": [
    "# \n",
    "from qdrant_client.models import Filter\n",
    "from qdrant_client.http import models\n",
    "\n",
    "query_text = \"Donald Trump\"\n",
    "query_vector = encoder.encode(query_text).tolist()\n",
    "\n",
    "client.search(\n",
    "    collection_name=collection_name,\n",
    "    query_vector=query_vector,\n",
    "    limit=10,\n",
    "    with_payload=[\"newsId\", \"title\", \"topics\"],\n",
    "    with_vectors=False,\n",
    "    score_threshold=0,\n",
    "    query_filter=None\n",
    ")"
   ]
  },
  {
   "cell_type": "markdown",
   "metadata": {},
   "source": [
    "Since we are using a news article dataset, recency is a key factor when delivering news content. We can use the `query_filter` parameter to obtain only articles that were published after a defined timestamp:"
   ]
  },
  {
   "cell_type": "code",
   "execution_count": 177,
   "metadata": {},
   "outputs": [
    {
     "data": {
      "text/plain": [
       "[ScoredPoint(id='f9408609-146f-44b1-9fb3-242385193a9b', version=13, score=0.3456782, payload={'publishTimestamp': 1682897818.0, 'title': 'Santiago Peña, de 44 anos, vence eleições no Paraguai', 'topics': ['mundo']}, vector=None),\n",
       " ScoredPoint(id='35831976-0e90-4099-ba6d-abfe5884dacd', version=11, score=0.34471738, payload={'publishTimestamp': 1682879121.0, 'title': \"Biden ataca meios de comunicação por 'mentiras conspiratórias e má fé'\", 'topics': ['mundo']}, vector=None),\n",
       " ScoredPoint(id='e9a0473c-c7bd-412c-b01d-512f1fd0c9f4', version=13, score=0.33558688, payload={'publishTimestamp': 1682887948.0, 'title': 'Paraguai começa a apuração de votos em eleições presidenciais concorridas', 'topics': ['mundo']}, vector=None),\n",
       " ScoredPoint(id='5e4d9c3f-6446-4f5a-a8a2-58f6d2cf5ad2', version=11, score=0.31639937, payload={'publishTimestamp': 1682898877.0, 'title': 'Conheça o economista Santiago Peña, de 44 anos, o novo presidente do Paraguai', 'topics': ['mundo']}, vector=None),\n",
       " ScoredPoint(id='df4fb78c-98bb-4654-bf19-063668933c89', version=15, score=0.3023687, payload={'publishTimestamp': 1682875461.0, 'title': 'Coroação do rei Charles 3°: público será convidado a jurar lealdade ao novo monarca ', 'topics': ['mundo']}, vector=None),\n",
       " ScoredPoint(id='298bce29-90b4-418e-b3c8-aa3767681e83', version=15, score=0.28811073, payload={'publishTimestamp': 1682871418.0, 'title': 'Ataque armado deixa 10 mortos em Guayaquil, no Equador', 'topics': ['mundo']}, vector=None),\n",
       " ScoredPoint(id='8dc45022-da1a-446c-bb87-bfb07069c6a2', version=9, score=0.28664887, payload={'publishTimestamp': 1682879873.0, 'title': 'EUA dizem que guarda costeira da China assediou embarcações filipinas', 'topics': ['mundo']}, vector=None),\n",
       " ScoredPoint(id='804a0f7f-0869-4279-850e-1de933390be0', version=12, score=0.2805557, payload={'publishTimestamp': 1682855465.0, 'title': 'Eleições no Paraguai: 3 desafios que próximo presidente do país enfrentará ', 'topics': ['mundo']}, vector=None)]"
      ]
     },
     "execution_count": 177,
     "metadata": {},
     "output_type": "execute_result"
    }
   ],
   "source": [
    "query_text = \"Donald Trump\"\n",
    "query_vector = encoder.encode(query_text).tolist()\n",
    "\n",
    "client.search(\n",
    "    collection_name=collection_name,\n",
    "    query_vector=query_vector,\n",
    "    limit=10,\n",
    "    with_payload=[\"newsId\", \"title\", \"topics\", \"publishTimestamp\"],\n",
    "    with_vectors=False,\n",
    "    score_threshold=0,\n",
    "    query_filter=Filter(\n",
    "        must=[\n",
    "            models.FieldCondition(\n",
    "                key=\"publishTimestamp\", range=models.Range(gt = 1682841633.0)\n",
    "            ),\n",
    "            models.FieldCondition(\n",
    "                key=\"topics\", match=models.MatchAny(any=[\"mundo\"])\n",
    "            )\n",
    "        ],\n",
    "    )\n",
    ")"
   ]
  },
  {
   "cell_type": "markdown",
   "metadata": {},
   "source": [
    "## Recommendation API\n",
    "\n",
    "We can ask the vector database to \"recommend\" items that are closer to some desired vector IDs but far from undesired vector IDs using the [Recommendation API](https://qdrant.tech/documentation/concepts/search/). The desired and undesired IDs are called `positive` and `negative` examples, respectively, and they are thought of as seeds to the recommendation:"
   ]
  },
  {
   "cell_type": "code",
   "execution_count": 178,
   "metadata": {},
   "outputs": [
    {
     "data": {
      "text/plain": [
       "[ScoredPoint(id='b218b2a3-e6a8-4624-ab6f-d826f887a7ae', version=10, score=0.9658023, payload={'publishTimestamp': 1682721673.0, 'title': 'Banco do Brasil vai retirar patrocínio de evento agropecuário após ministro ser desconvidado, diz governo', 'topics': ['política', 'economia']}, vector=None),\n",
       " ScoredPoint(id='e2e6a63c-f27b-4953-b14b-8603058729eb', version=14, score=0.94846636, payload={'publishTimestamp': 1682822241.0, 'title': 'Cerimônia de abertura da Agrishow é cancelada pelos organizadores', 'topics': ['sp']}, vector=None),\n",
       " ScoredPoint(id='004b22c3-87f5-4270-b6bb-4ddfc8490f2a', version=13, score=0.93220955, payload={'publishTimestamp': 1682435454.0, 'title': 'Lira manda recado após veto de indicado para o Tribunal Regional Federal da 1ª Região', 'topics': ['política']}, vector=None),\n",
       " ScoredPoint(id='8e27b2ed-c834-4b53-9435-ff062c499e56', version=10, score=0.9289038, payload={'publishTimestamp': 1682478089.0, 'title': 'Bolsonaro depõe nesta quarta à Polícia Federal no inquérito dos atos golpistas de 8 de janeiro', 'topics': ['política']}, vector=None),\n",
       " ScoredPoint(id='b836d6e8-726c-4cd2-a39c-533965ae5a1f', version=11, score=0.9284664, payload={'publishTimestamp': 1682518806.0, 'title': 'Em depoimento, Bolsonaro diz que compartilhou sem querer vídeo que questionava sistema eleitoral', 'topics': ['política']}, vector=None),\n",
       " ScoredPoint(id='16022899-4880-4505-8b46-db26f016bf00', version=15, score=0.92842627, payload={'publishTimestamp': 1682343274.0, 'title': 'CPMI dos atos golpistas: oposição vai mirar em Dino; governistas,\\xa0em\\xa0Braga\\xa0Netto', 'topics': ['política']}, vector=None),\n",
       " ScoredPoint(id='746e5c4f-4b3f-49a0-aa25-0976451f3271', version=12, score=0.9283843, payload={'publishTimestamp': 1682413226.0, 'title': 'Gonçalves Dias se incrimina com o próprio depoimento, diz líder do PL na Câmara\\xa0', 'topics': ['podcast']}, vector=None),\n",
       " ScoredPoint(id='48538203-0e99-42de-878b-9cf00e68fe14', version=13, score=0.9275338, payload={'publishTimestamp': 1682776881.0, 'title': \"'Faxina' no GSI foi combinada por Cappelli com ministro da Defesa e comandante do Exército\", 'topics': ['política']}, vector=None),\n",
       " ScoredPoint(id='132ca06e-32c3-425b-86bb-38af84a2b2fd', version=9, score=0.92749053, payload={'publishTimestamp': 1682413227.0, 'title': 'CPI será um tiro no pé de bolsonaristas e ex-presidente pode ser convocado, diz vice-líder do governo no Congresso', 'topics': ['podcast']}, vector=None),\n",
       " ScoredPoint(id='f0b4f720-e146-4665-b51b-dcbc6d713b83', version=13, score=0.92731833, payload={'publishTimestamp': 1682449188.0, 'title': 'Comissão de Segurança Pública da Câmara convoca ministro interino do GSI, Ricardo Cappelli ', 'topics': ['política']}, vector=None)]"
      ]
     },
     "execution_count": 178,
     "metadata": {},
     "output_type": "execute_result"
    }
   ],
   "source": [
    "\n",
    "client.recommend(\n",
    "    collection_name=collection_name,\n",
    "    positive=['f438551d-3ce9-4b30-8d3f-6fdea841e63c'],\n",
    "    negative=None,\n",
    "    limit = 10,\n",
    "    with_payload=[\"newsId\", \"title\", \"topics\", \"publishTimestamp\"],\n",
    "    with_vectors=False,\n",
    "    score_threshold=0,\n",
    "    query_filter=None\n",
    ")"
   ]
  },
  {
   "cell_type": "markdown",
   "metadata": {},
   "source": [
    "In addition, we can specific some seed ids and ask for items that match a given feature with the seed items. For example, let's say we want to find items that are similar to the following ID:"
   ]
  },
  {
   "cell_type": "code",
   "execution_count": 179,
   "metadata": {},
   "outputs": [
    {
     "data": {
      "text/plain": [
       "[Record(id='9ed25e49-14f9-44cd-b76e-a104b4dfabca', payload={'title': 'Saiba por que Joe Biden lançou sua candidatura à reeleição nesta terça-feira', 'topics': ['mundo']}, vector=None)]"
      ]
     },
     "execution_count": 179,
     "metadata": {},
     "output_type": "execute_result"
    }
   ],
   "source": [
    "seed_ids = [\"9ed25e49-14f9-44cd-b76e-a104b4dfabca\"]\n",
    "\n",
    "seed_records = client.scroll(\n",
    "    collection_name=collection_name,\n",
    "    limit=5,\n",
    "    with_payload=[\"newsId\", \"title\", \"topics\"],\n",
    "    with_vectors=False,\n",
    "    scroll_filter=Filter(\n",
    "        must=[\n",
    "            models.HasIdCondition(has_id=seed_ids),\n",
    "        ]\n",
    "    )\n",
    ")[0]\n",
    "seed_records"
   ]
  },
  {
   "cell_type": "markdown",
   "metadata": {},
   "source": [
    "We can ask qdrant to recommend items that are similar **and** matches the same `topics` feature from the seed item:"
   ]
  },
  {
   "cell_type": "code",
   "execution_count": 180,
   "metadata": {},
   "outputs": [
    {
     "data": {
      "text/plain": [
       "[ScoredPoint(id='38a1cd6f-aa07-4264-8ca1-4cddf05e7afe', version=11, score=0.9734961, payload={'title': 'Biden anuncia que vai concorrer à reeleição', 'topics': ['mundo']}, vector=None),\n",
       " ScoredPoint(id='4619ee33-07b6-4121-8724-cdc4905bd962', version=10, score=0.9709304, payload={'title': 'EUA: os 4 motivos que levaram Biden a se lançar à reeleição', 'topics': ['mundo']}, vector=None),\n",
       " ScoredPoint(id='e4db00c9-7bcb-4c88-a502-4c6c840dde30', version=10, score=0.96000206, payload={'title': 'Eleitores dizem que Biden e Trump não deveriam concorrer em 2024, mostra pesquisa Reuters/Ipsos', 'topics': ['mundo']}, vector=None),\n",
       " ScoredPoint(id='7f45e444-b220-47e4-933a-ac6dc3074f56', version=9, score=0.95809764, payload={'title': 'A gafe de assessora de Biden que gerou dúvidas sobre eventual segundo governo após eleição', 'topics': ['mundo']}, vector=None),\n",
       " ScoredPoint(id='d2f89819-e36d-4e23-a13c-47c582fe1363', version=14, score=0.95291734, payload={'title': 'Mike Pence, ex-vice de Donald Trump, presta depoimento na Justiça que pode complicar o ex-presidente', 'topics': ['mundo']}, vector=None),\n",
       " ScoredPoint(id='c3da0f44-407a-4883-aed2-75f66db82336', version=15, score=0.9514657, payload={'title': 'Com menos de um ano no poder, 1º presidente de esquerda da Colômbia pede renúncia de todos os ministros', 'topics': ['mundo']}, vector=None),\n",
       " ScoredPoint(id='0d92cee1-206d-47df-8705-a5627020e09e', version=13, score=0.9448453, payload={'title': 'Paraguai vai às urnas no domingo em eleições dominadas por corrupção e Taiwan', 'topics': ['mundo']}, vector=None),\n",
       " ScoredPoint(id='8d7554f5-4523-4554-88c2-ba33e2eaf3fb', version=9, score=0.9438812, payload={'title': 'O que pode estar por trás de saída de Tucker Carlson da Fox News', 'topics': ['mundo']}, vector=None),\n",
       " ScoredPoint(id='9290ad10-1b02-4840-9a16-5dc695be496f', version=12, score=0.94324124, payload={'title': 'Rede CNN dos EUA demite Don Lemon, um de seus principais apresentadores', 'topics': ['mundo']}, vector=None),\n",
       " ScoredPoint(id='f9408609-146f-44b1-9fb3-242385193a9b', version=13, score=0.940956, payload={'title': 'Santiago Peña, de 44 anos, vence eleições no Paraguai', 'topics': ['mundo']}, vector=None)]"
      ]
     },
     "execution_count": 180,
     "metadata": {},
     "output_type": "execute_result"
    }
   ],
   "source": [
    "match_key = \"topics\"\n",
    "\n",
    "client.recommend(\n",
    "    collection_name=collection_name,\n",
    "    positive=seed_ids,\n",
    "    limit = 10,\n",
    "    with_payload=[\"newsId\", \"title\", \"topics\"],\n",
    "    with_vectors=False,\n",
    "    score_threshold=0,\n",
    "    query_filter=Filter(\n",
    "        should=[\n",
    "            models.FieldCondition(key=match_key, match=models.MatchAny(any=record.payload[match_key]))\n",
    "            for record in seed_records\n",
    "        ]\n",
    "    )\n",
    ")"
   ]
  }
 ],
 "metadata": {
  "kernelspec": {
   "display_name": "open-ai",
   "language": "python",
   "name": "python3"
  },
  "language_info": {
   "codemirror_mode": {
    "name": "ipython",
    "version": 3
   },
   "file_extension": ".py",
   "mimetype": "text/x-python",
   "name": "python",
   "nbconvert_exporter": "python",
   "pygments_lexer": "ipython3",
   "version": "3.8.18"
  }
 },
 "nbformat": 4,
 "nbformat_minor": 2
}
