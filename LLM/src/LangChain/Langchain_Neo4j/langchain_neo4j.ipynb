{
  "nbformat": 4,
  "nbformat_minor": 0,
  "metadata": {
    "colab": {
      "provenance": [],
      "authorship_tag": "ABX9TyOcXBcR86rPwNdXV2pzMJOf",
      "include_colab_link": true
    },
    "kernelspec": {
      "name": "python3",
      "display_name": "Python 3"
    },
    "language_info": {
      "name": "python"
    }
  },
  "cells": [
    {
      "cell_type": "markdown",
      "metadata": {
        "id": "view-in-github",
        "colab_type": "text"
      },
      "source": [
        "<a href=\"https://colab.research.google.com/github/tomasonjo/blogs/blob/master/llm/langchain_neo4j.ipynb\" target=\"_parent\"><img src=\"https://colab.research.google.com/assets/colab-badge.svg\" alt=\"Open In Colab\"/></a>"
      ]
    },
    {
      "cell_type": "code",
      "execution_count": 1,
      "metadata": {
        "colab": {
          "base_uri": "https://localhost:8080/"
        },
        "id": "lqp9wLWW-UFE",
        "outputId": "156a39ce-bcaf-4f78-d07e-62a343da4f81"
      },
      "outputs": [
        {
          "output_type": "stream",
          "name": "stdout",
          "text": [
            "Looking in indexes: https://pypi.org/simple, https://us-python.pkg.dev/colab-wheels/public/simple/\n",
            "Collecting neo4j\n",
            "  Downloading neo4j-5.8.1.tar.gz (187 kB)\n",
            "\u001b[2K     \u001b[90m━━━━━━━━━━━━━━━━━━━━━━━━━━━━━━━━━━━━━━━\u001b[0m \u001b[32m187.7/187.7 kB\u001b[0m \u001b[31m3.9 MB/s\u001b[0m eta \u001b[36m0:00:00\u001b[0m\n",
            "\u001b[?25h  Installing build dependencies ... \u001b[?25l\u001b[?25hdone\n",
            "  Getting requirements to build wheel ... \u001b[?25l\u001b[?25hdone\n",
            "  Installing backend dependencies ... \u001b[?25l\u001b[?25hdone\n",
            "  Preparing metadata (pyproject.toml) ... \u001b[?25l\u001b[?25hdone\n",
            "Collecting openai\n",
            "  Downloading openai-0.27.7-py3-none-any.whl (71 kB)\n",
            "\u001b[2K     \u001b[90m━━━━━━━━━━━━━━━━━━━━━━━━━━━━━━━━━━━━━━━━\u001b[0m \u001b[32m72.0/72.0 kB\u001b[0m \u001b[31m7.0 MB/s\u001b[0m eta \u001b[36m0:00:00\u001b[0m\n",
            "\u001b[?25hCollecting langchain\n",
            "  Downloading langchain-0.0.180-py3-none-any.whl (922 kB)\n",
            "\u001b[2K     \u001b[90m━━━━━━━━━━━━━━━━━━━━━━━━━━━━━━━━━━━━━━\u001b[0m \u001b[32m922.9/922.9 kB\u001b[0m \u001b[31m25.3 MB/s\u001b[0m eta \u001b[36m0:00:00\u001b[0m\n",
            "\u001b[?25hRequirement already satisfied: pytz in /usr/local/lib/python3.10/dist-packages (from neo4j) (2022.7.1)\n",
            "Requirement already satisfied: requests>=2.20 in /usr/local/lib/python3.10/dist-packages (from openai) (2.27.1)\n",
            "Requirement already satisfied: tqdm in /usr/local/lib/python3.10/dist-packages (from openai) (4.65.0)\n",
            "Collecting aiohttp (from openai)\n",
            "  Downloading aiohttp-3.8.4-cp310-cp310-manylinux_2_17_x86_64.manylinux2014_x86_64.whl (1.0 MB)\n",
            "\u001b[2K     \u001b[90m━━━━━━━━━━━━━━━━━━━━━━━━━━━━━━━━━━━━━━━━\u001b[0m \u001b[32m1.0/1.0 MB\u001b[0m \u001b[31m38.8 MB/s\u001b[0m eta \u001b[36m0:00:00\u001b[0m\n",
            "\u001b[?25hRequirement already satisfied: PyYAML>=5.4.1 in /usr/local/lib/python3.10/dist-packages (from langchain) (6.0)\n",
            "Requirement already satisfied: SQLAlchemy<3,>=1.4 in /usr/local/lib/python3.10/dist-packages (from langchain) (2.0.10)\n",
            "Collecting async-timeout<5.0.0,>=4.0.0 (from langchain)\n",
            "  Downloading async_timeout-4.0.2-py3-none-any.whl (5.8 kB)\n",
            "Collecting dataclasses-json<0.6.0,>=0.5.7 (from langchain)\n",
            "  Downloading dataclasses_json-0.5.7-py3-none-any.whl (25 kB)\n",
            "Requirement already satisfied: numexpr<3.0.0,>=2.8.4 in /usr/local/lib/python3.10/dist-packages (from langchain) (2.8.4)\n",
            "Requirement already satisfied: numpy<2,>=1 in /usr/local/lib/python3.10/dist-packages (from langchain) (1.22.4)\n",
            "Collecting openapi-schema-pydantic<2.0,>=1.2 (from langchain)\n",
            "  Downloading openapi_schema_pydantic-1.2.4-py3-none-any.whl (90 kB)\n",
            "\u001b[2K     \u001b[90m━━━━━━━━━━━━━━━━━━━━━━━━━━━━━━━━━━━━━━━━\u001b[0m \u001b[32m90.0/90.0 kB\u001b[0m \u001b[31m5.0 MB/s\u001b[0m eta \u001b[36m0:00:00\u001b[0m\n",
            "\u001b[?25hRequirement already satisfied: pydantic<2,>=1 in /usr/local/lib/python3.10/dist-packages (from langchain) (1.10.7)\n",
            "Requirement already satisfied: tenacity<9.0.0,>=8.1.0 in /usr/local/lib/python3.10/dist-packages (from langchain) (8.2.2)\n",
            "Requirement already satisfied: attrs>=17.3.0 in /usr/local/lib/python3.10/dist-packages (from aiohttp->openai) (23.1.0)\n",
            "Requirement already satisfied: charset-normalizer<4.0,>=2.0 in /usr/local/lib/python3.10/dist-packages (from aiohttp->openai) (2.0.12)\n",
            "Collecting multidict<7.0,>=4.5 (from aiohttp->openai)\n",
            "  Downloading multidict-6.0.4-cp310-cp310-manylinux_2_17_x86_64.manylinux2014_x86_64.whl (114 kB)\n",
            "\u001b[2K     \u001b[90m━━━━━━━━━━━━━━━━━━━━━━━━━━━━━━━━━━━━━━\u001b[0m \u001b[32m114.5/114.5 kB\u001b[0m \u001b[31m11.0 MB/s\u001b[0m eta \u001b[36m0:00:00\u001b[0m\n",
            "\u001b[?25hCollecting yarl<2.0,>=1.0 (from aiohttp->openai)\n",
            "  Downloading yarl-1.9.2-cp310-cp310-manylinux_2_17_x86_64.manylinux2014_x86_64.whl (268 kB)\n",
            "\u001b[2K     \u001b[90m━━━━━━━━━━━━━━━━━━━━━━━━━━━━━━━━━━━━━━\u001b[0m \u001b[32m268.8/268.8 kB\u001b[0m \u001b[31m21.7 MB/s\u001b[0m eta \u001b[36m0:00:00\u001b[0m\n",
            "\u001b[?25hCollecting frozenlist>=1.1.1 (from aiohttp->openai)\n",
            "  Downloading frozenlist-1.3.3-cp310-cp310-manylinux_2_5_x86_64.manylinux1_x86_64.manylinux_2_17_x86_64.manylinux2014_x86_64.whl (149 kB)\n",
            "\u001b[2K     \u001b[90m━━━━━━━━━━━━━━━━━━━━━━━━━━━━━━━━━━━━━━\u001b[0m \u001b[32m149.6/149.6 kB\u001b[0m \u001b[31m13.3 MB/s\u001b[0m eta \u001b[36m0:00:00\u001b[0m\n",
            "\u001b[?25hCollecting aiosignal>=1.1.2 (from aiohttp->openai)\n",
            "  Downloading aiosignal-1.3.1-py3-none-any.whl (7.6 kB)\n",
            "Collecting marshmallow<4.0.0,>=3.3.0 (from dataclasses-json<0.6.0,>=0.5.7->langchain)\n",
            "  Downloading marshmallow-3.19.0-py3-none-any.whl (49 kB)\n",
            "\u001b[2K     \u001b[90m━━━━━━━━━━━━━━━━━━━━━━━━━━━━━━━━━━━━━━━━\u001b[0m \u001b[32m49.1/49.1 kB\u001b[0m \u001b[31m4.7 MB/s\u001b[0m eta \u001b[36m0:00:00\u001b[0m\n",
            "\u001b[?25hCollecting marshmallow-enum<2.0.0,>=1.5.1 (from dataclasses-json<0.6.0,>=0.5.7->langchain)\n",
            "  Downloading marshmallow_enum-1.5.1-py2.py3-none-any.whl (4.2 kB)\n",
            "Collecting typing-inspect>=0.4.0 (from dataclasses-json<0.6.0,>=0.5.7->langchain)\n",
            "  Downloading typing_inspect-0.9.0-py3-none-any.whl (8.8 kB)\n",
            "Requirement already satisfied: typing-extensions>=4.2.0 in /usr/local/lib/python3.10/dist-packages (from pydantic<2,>=1->langchain) (4.5.0)\n",
            "Requirement already satisfied: urllib3<1.27,>=1.21.1 in /usr/local/lib/python3.10/dist-packages (from requests>=2.20->openai) (1.26.15)\n",
            "Requirement already satisfied: certifi>=2017.4.17 in /usr/local/lib/python3.10/dist-packages (from requests>=2.20->openai) (2022.12.7)\n",
            "Requirement already satisfied: idna<4,>=2.5 in /usr/local/lib/python3.10/dist-packages (from requests>=2.20->openai) (3.4)\n",
            "Requirement already satisfied: greenlet!=0.4.17 in /usr/local/lib/python3.10/dist-packages (from SQLAlchemy<3,>=1.4->langchain) (2.0.2)\n",
            "Requirement already satisfied: packaging>=17.0 in /usr/local/lib/python3.10/dist-packages (from marshmallow<4.0.0,>=3.3.0->dataclasses-json<0.6.0,>=0.5.7->langchain) (23.1)\n",
            "Collecting mypy-extensions>=0.3.0 (from typing-inspect>=0.4.0->dataclasses-json<0.6.0,>=0.5.7->langchain)\n",
            "  Downloading mypy_extensions-1.0.0-py3-none-any.whl (4.7 kB)\n",
            "Building wheels for collected packages: neo4j\n",
            "  Building wheel for neo4j (pyproject.toml) ... \u001b[?25l\u001b[?25hdone\n",
            "  Created wheel for neo4j: filename=neo4j-5.8.1-py3-none-any.whl size=258701 sha256=a706d5cd9390e35eeaef28489bc4f9751940010945aeca57839f274b756e5295\n",
            "  Stored in directory: /root/.cache/pip/wheels/89/ee/2a/85f7b50c16580f09d88dcdbfd546db95d5b29b9967a3603ca1\n",
            "Successfully built neo4j\n",
            "Installing collected packages: neo4j, mypy-extensions, multidict, marshmallow, frozenlist, async-timeout, yarl, typing-inspect, openapi-schema-pydantic, marshmallow-enum, aiosignal, dataclasses-json, aiohttp, openai, langchain\n",
            "Successfully installed aiohttp-3.8.4 aiosignal-1.3.1 async-timeout-4.0.2 dataclasses-json-0.5.7 frozenlist-1.3.3 langchain-0.0.180 marshmallow-3.19.0 marshmallow-enum-1.5.1 multidict-6.0.4 mypy-extensions-1.0.0 neo4j-5.8.1 openai-0.27.7 openapi-schema-pydantic-1.2.4 typing-inspect-0.9.0 yarl-1.9.2\n"
          ]
        }
      ],
      "source": [
        "!pip install neo4j openai langchain"
      ]
    },
    {
      "cell_type": "markdown",
      "source": [
        "# LangChain has added Cypher Search\n",
        "## With the LangChain library, you can conveniently generate Cypher queries, enabling an efficient retrieval of information from Neo4j.\n",
        "\n",
        "If you have developed or plan to implement any solution that uses Large Language Models, you have most likely heard of the LangChain library. LangChain library is the most widely known Python library used to develop applications that use LLMs in one or another capabilities. It is designed to be modular, allowing us to use any LLM in any available modules, such as chains, tools, memory, or agents.\n",
        "\n",
        "A month ago, I spent a week researching and implementing a solution allowing anyone to retrieve information from Neo4j directly from the LangChain library and use it in their LLM applications. I learned quite a lot about the internals of LangChain library and wrote up my experience in a blog post.\n",
        "\n",
        "A colleague of mine showed me a LangChain feature request, where the user requested that my work of having the option to retrieve information from the Neo4j database would be added as a module directly to the LangChain library so that no additional code or external modules would be needed to integrate Neo4j into LangChain applications. Since I was already familiar with LangChain internals, I decided to try and implement Cypher searching capabilities myself. I spent a weekend researching and coding the solution and ensuring it would conform to the contribution standards for it to be added to the library. Luckily, the maintainers of LangChain are very responsive and open to new ideas, and the Cypher Search has been added in the latest release of the LangChain library. Thanks to Harrison Chase for maintaining such a great library and also being very responsive to new ideas.\n",
        "\n",
        "In tutorial, I will show you how you can use the newly added Cypher Search in the LangChain library to retrieve information from a Neo4j database.\n",
        "\n",
        "## What is a knowledge graph\n",
        "LangChain has already integrations with Vector and SQL databases, so why do we need an integration with a Graph Database like Neo4j?\n",
        "Knowledge graphs are ideal for storing heterogeneous and highly connected data. For instance, the above image contains information about people, organizations, movies, websites, etc. While the ability to intuitively model and store diverse sets of data is incredible, I think the main benefit of using graphs is the ability to analyze data points through their relationships. Graphs enable us to uncover connections and correlations that might otherwise remain unnoticed with traditional database and analytics approaches as they often overlook the context surrounding individual data points.\n",
        "\n",
        "The power of graph databases truly shines when dealing with complex systems where interdependencies and interactions are vital in understanding the system.\n",
        "They enable us to see beyond individual data points and delve into the intricate relationships that define their context. This provides a deeper, more holistic view of the data, facilitating better decision-making and knowledge discovery.\n",
        "\n",
        "## Setting up Neo4j environment\n",
        "\n",
        "If you have an existing Neo4j database, you can use it to try the newly added Cypher Search. The Cypher Search module uses graph schema information to generate Cypher statements, meaning you can plug it into any Neo4j database.\n",
        "If you don't have any Neo4j database yet, you can use [Neo4j Sandbox](https://neo4j.com/sandbox/), which offers a free cloud instance of a Neo4j database. You need to register and instantiate any of the available pre-populated databases. I will be using the [ICIJ Paradise Papers dataset](https://sandbox.neo4j.com/?usecase=icij-paradise-papers) in this blog post, but you can use any other if you want. The dataset has been made available by International Consortium of Investigative Journalists as part of their Offshore Leaks Database.\n",
        "\n",
        "The graph contains four types of nodes:\n",
        "* Entity - The offshore legal entity. This could be a company, trust, foundation, or other legal entity created in a low-tax jurisdiction.\n",
        "* Officer - A person or company who plays a role in an offshore entity, such as beneficiary, director, or shareholder. The relationships shown in the diagram are just a sample of all the existing ones.\n",
        "* Intermediary - A go-between for someone seeking an offshore corporation and an offshore service provider - usually a law-firm or a middleman that asks an offshore service provider to create an offshore firm.\n",
        "* Address - The registered address as it appears in the original databases obtained by ICIJ.\n",
        "\n",
        "## Knowledge Graph Cypher Search\n",
        "The name Cypher Search comes from Cypher, which is a query language used to interact with graph databases like Neo4j.\n",
        "\n",
        "![langchain.drawio.png](data:image/png;base64,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)\n",
        "\n",
        "In order to allow LangChain to retrieve information from graph databases, I implemented a module that can convert the natural language to a Cypher statement, use it to retrieve data from Neo4j and return the retrieved information to the user in a natural language form. This two-way conversion process between natural language and database language not only enhances the overall accessibility of data retrieval but also greatly improves the user experience.\n",
        "\n",
        "\n",
        "The beauty of the LangChain library is in its simplicity. We only need a couple of lines of code and we can retrieve information from Neo4j using natural language."
      ],
      "metadata": {
        "id": "2wg51pF7LVVi"
      }
    },
    {
      "cell_type": "code",
      "source": [
        "from langchain.chat_models import ChatOpenAI\n",
        "from langchain.chains import GraphCypherQAChain\n",
        "from langchain.graphs import Neo4jGraph\n",
        "\n",
        "graph = Neo4jGraph(\n",
        "    url=\"bolt://3.239.187.136:7687\", \n",
        "    username=\"neo4j\", \n",
        "    password=\"cushions-haul-revolution\"\n",
        ")"
      ],
      "metadata": {
        "id": "hTz9REHt-XxO"
      },
      "execution_count": 2,
      "outputs": []
    },
    {
      "cell_type": "code",
      "source": [
        "import os\n",
        "\n",
        "os.environ['OPENAI_API_KEY'] = \"sk-\"\n",
        "\n",
        "chain = GraphCypherQAChain.from_llm(\n",
        "    ChatOpenAI(temperature=0), graph=graph, verbose=True,\n",
        ")"
      ],
      "metadata": {
        "id": "DkEz1NTBFrXu"
      },
      "execution_count": 3,
      "outputs": []
    },
    {
      "cell_type": "markdown",
      "source": [
        "Here, we are using the gpt-3.5-turbo model from OpenAI to generate Cypher statements. The Cypher statements are generated based on the graph schema, which means that, in theory, you can plug the Cypher chain into any Neo4j instance, and it should be able to answer natural language answers. Unfortunately, I haven't yet tested other LLM providers in their ability to generate Cypher statements since I don't have access to any of them. Still, I would love to hear your evaluation of other LLMs generating Cypher statements if you will give it a go. Of course, if you want to break the dependency on LLM cloud providers, you can always [fine-tune an open-source LLM to generate Cypher statements](https://towardsdatascience.com/fine-tuning-an-llm-model-with-h2o-llm-studio-to-generate-cypher-statements-3f34822ad5).\n",
        "\n",
        "Let's start with a simple test."
      ],
      "metadata": {
        "id": "UW50UoMUMRSg"
      }
    },
    {
      "cell_type": "code",
      "source": [
        "chain.run(\"\"\"\n",
        "Which intermediary is connected to most entites?\n",
        "\"\"\")"
      ],
      "metadata": {
        "colab": {
          "base_uri": "https://localhost:8080/",
          "height": 258
        },
        "id": "nblHLc6TJnLT",
        "outputId": "5d54fa86-d442-4361-f24e-2ec068de16e2"
      },
      "execution_count": 4,
      "outputs": [
        {
          "output_type": "stream",
          "name": "stdout",
          "text": [
            "\n",
            "\n",
            "\u001b[1m> Entering new GraphCypherQAChain chain...\u001b[0m\n",
            "Generated Cypher:\n",
            "\u001b[32;1m\u001b[1;3mMATCH (i:Intermediary)-[:CONNECTED_TO]->(e:Entity)\n",
            "RETURN i.name, COUNT(e) AS num_entities\n",
            "ORDER BY num_entities DESC\n",
            "LIMIT 1\u001b[0m\n",
            "Full Context:\n",
            "\u001b[32;1m\u001b[1;3m[{'i.name': 'Group - SUN Capital Partner Group', 'num_entities': 115}]\u001b[0m\n",
            "\n",
            "\u001b[1m> Finished chain.\u001b[0m\n"
          ]
        },
        {
          "output_type": "execute_result",
          "data": {
            "text/plain": [
              "'Based on the provided information, the intermediary that is connected to the most entities is the Group - SUN Capital Partner Group, with a total of 115 entities.'"
            ],
            "application/vnd.google.colaboratory.intrinsic+json": {
              "type": "string"
            }
          },
          "metadata": {},
          "execution_count": 4
        }
      ]
    },
    {
      "cell_type": "markdown",
      "source": [
        "We can observe the generated Cypher statement and the retrieved information from Neo4j used to form the answer. That is as easy a setup as it gets. Let's move on to the next example."
      ],
      "metadata": {
        "id": "QMHK94FyMYnV"
      }
    },
    {
      "cell_type": "code",
      "source": [
        "chain.run(\"\"\"\n",
        "Who are the officers of ZZZ-MILI COMPANY LTD.?\n",
        "\"\"\")"
      ],
      "metadata": {
        "colab": {
          "base_uri": "https://localhost:8080/",
          "height": 222
        },
        "id": "_ia3wgn7JDg3",
        "outputId": "d2fada74-3351-49a1-c2ad-ed4fbc9d2d8b"
      },
      "execution_count": 5,
      "outputs": [
        {
          "output_type": "stream",
          "name": "stdout",
          "text": [
            "\n",
            "\n",
            "\u001b[1m> Entering new GraphCypherQAChain chain...\u001b[0m\n",
            "Generated Cypher:\n",
            "\u001b[32;1m\u001b[1;3mMATCH (o:Officer)-[:OFFICER_OF]->(e:Entity{name:'ZZZ-MILI COMPANY LTD.'}) RETURN o.name\u001b[0m\n",
            "Full Context:\n",
            "\u001b[32;1m\u001b[1;3m[{'o.name': 'Whitson - Iva Marie'}, {'o.name': 'Whitson - Claud S.'}, {'o.name': 'Whitson - Claud S.'}, {'o.name': 'FINSBURY NOMINEES LTD'}, {'o.name': 'EURO NOMINEES LTD.'}, {'o.name': 'EURO SECURITIES LTD.'}, {'o.name': 'COMPANY DIRECTORS LTD.'}]\u001b[0m\n",
            "\n",
            "\u001b[1m> Finished chain.\u001b[0m\n"
          ]
        },
        {
          "output_type": "execute_result",
          "data": {
            "text/plain": [
              "'The officers of ZZZ-MILI COMPANY LTD. are Whitson - Iva Marie, Whitson - Claud S., FINSBURY NOMINEES LTD, EURO NOMINEES LTD., EURO SECURITIES LTD., and COMPANY DIRECTORS LTD.'"
            ],
            "application/vnd.google.colaboratory.intrinsic+json": {
              "type": "string"
            }
          },
          "metadata": {},
          "execution_count": 5
        }
      ]
    },
    {
      "cell_type": "markdown",
      "source": [
        "Since we are using a graph, let's construct a question that would utilize the power of graph databases."
      ],
      "metadata": {
        "id": "X04jYeaeMhZe"
      }
    },
    {
      "cell_type": "code",
      "source": [
        "#chain_improved.run(\"\"\"\n",
        "#How are entities SOUTHWEST LAND DEVELOPMENT LTD. and Dragon Capital Markets Limited related?\n",
        "#\"\"\")"
      ],
      "metadata": {
        "id": "IvGS4_c1CHQg"
      },
      "execution_count": null,
      "outputs": []
    },
    {
      "cell_type": "markdown",
      "source": [
        "The generated Cypher statement looks fine at first glance. However, there is a problem as the Cypher statements used the variable-length path finding syntax and also treated relationships as undirected. As a result, this type of query is highly unoptimized and would explode in the number of rows.\n",
        "\n",
        "The nice thing about gpt-3.5-turbo is that it follows hints and instructions we drop in the input. For example, we can ask it to find only the shortest path."
      ],
      "metadata": {
        "id": "W1Cqo3KrMoU1"
      }
    },
    {
      "cell_type": "code",
      "source": [
        "chain.run(\"\"\"\n",
        "How are entities SOUTHWEST LAND DEVELOPMENT LTD. and Dragon Capital Markets Limited connected?\n",
        "Find a shortest path.\n",
        "\"\"\")"
      ],
      "metadata": {
        "colab": {
          "base_uri": "https://localhost:8080/",
          "height": 278
        },
        "id": "ZVQPdna0GaLP",
        "outputId": "2e44963e-652d-44ce-ba6a-f33a2ab5b95e"
      },
      "execution_count": 6,
      "outputs": [
        {
          "output_type": "stream",
          "name": "stdout",
          "text": [
            "\n",
            "\n",
            "\u001b[1m> Entering new GraphCypherQAChain chain...\u001b[0m\n",
            "Generated Cypher:\n",
            "\u001b[32;1m\u001b[1;3mMATCH (e1:Entity {name: 'SOUTHWEST LAND DEVELOPMENT LTD.'}), (e2:Entity {name: 'Dragon Capital Markets Limited'})\n",
            "MATCH p=shortestPath((e1)-[*]-(e2))\n",
            "RETURN p\u001b[0m\n",
            "Full Context:\n",
            "\u001b[32;1m\u001b[1;3m[{'p': [{'sourceID': 'Paradise Papers - Appleby', 'jurisdiction': 'KY', 'service_provider': 'Appleby', 'countries': 'Cayman Islands', 'jurisdiction_description': 'Cayman Islands', 'type': 'CE', 'valid_until': 'Appleby data is current through 2014', 'ibcRUC': '50843', 'labels(n)': '[\"Entity\"]', 'name': 'SOUTHWEST LAND DEVELOPMENT LTD.', 'country_codes': 'CYM', 'incorporation_date': '1993-Oct-05', 'node_id': '82011899'}, 'REGISTERED_ADDRESS', {'sourceID': 'Paradise Papers - Appleby', 'valid_until': 'Appleby data is current through 2014', 'address': 'Clifton House', 'labels(n)': '[\"Address\"]', 'name': 'Clifton House; 75 Fort Street; Grand Cayman KY1-1108; Cayman Islands', 'country_codes': 'CYM', 'countries': 'Cayman Islands', 'node_id': '81027146'}, 'REGISTERED_ADDRESS', {'sourceID': 'Paradise Papers - Appleby', 'jurisdiction': 'KY', 'service_provider': 'Appleby', 'countries': 'British Virgin Islands;Cayman Islands', 'jurisdiction_description': 'Cayman Islands', 'type': 'CE', 'valid_until': 'Appleby data is current through 2014', 'ibcRUC': '251645', 'labels(n)': '[\"Entity\"]', 'name': 'Dragon Capital Markets Limited', 'country_codes': 'VGB;CYM', 'incorporation_date': '1996-May-02', 'node_id': '82014099'}]}]\u001b[0m\n",
            "\n",
            "\u001b[1m> Finished chain.\u001b[0m\n"
          ]
        },
        {
          "output_type": "execute_result",
          "data": {
            "text/plain": [
              "'SOUTHWEST LAND DEVELOPMENT LTD. and Dragon Capital Markets Limited are connected through the fact that they were both serviced by Appleby in the Cayman Islands jurisdiction. A shortest path between them would be to follow the service provider Appleby and the jurisdiction of Cayman Islands.'"
            ],
            "application/vnd.google.colaboratory.intrinsic+json": {
              "type": "string"
            }
          },
          "metadata": {},
          "execution_count": 6
        }
      ]
    },
    {
      "cell_type": "markdown",
      "source": [
        "Now that we dropped a hint that only the shortest path should be retrieved, we don't run into cardinality explosion troubles anymore. However, one thing I noticed is that the LLM sometimes doesn't provide the best results if a path object is returned. However, we can also fix that by instructing the model what information to use."
      ],
      "metadata": {
        "id": "dKYeXyqnMrJm"
      }
    },
    {
      "cell_type": "code",
      "source": [
        "chain.run(\"\"\"\n",
        "How are entities SOUTHWEST LAND DEVELOPMENT LTD. and Dragon Capital Markets Limited connected?\n",
        "Find a shortest path.\n",
        "Return only name properties of nodes and relationship types\n",
        "\"\"\")"
      ],
      "metadata": {
        "colab": {
          "base_uri": "https://localhost:8080/",
          "height": 239
        },
        "id": "jpUGmHgzIF4i",
        "outputId": "dfb66d71-7eca-4595-cc69-2fab4d033b62"
      },
      "execution_count": 7,
      "outputs": [
        {
          "output_type": "stream",
          "name": "stdout",
          "text": [
            "\n",
            "\n",
            "\u001b[1m> Entering new GraphCypherQAChain chain...\u001b[0m\n",
            "Generated Cypher:\n",
            "\u001b[32;1m\u001b[1;3mMATCH path = shortestPath((e1:Entity {name: 'SOUTHWEST LAND DEVELOPMENT LTD.'})-[*]-(e2:Entity {name: 'Dragon Capital Markets Limited'}))\n",
            "RETURN [n IN nodes(path) | n.name] AS Names, [r IN relationships(path) | type(r)] AS Relationships\u001b[0m\n",
            "Full Context:\n",
            "\u001b[32;1m\u001b[1;3m[{'Names': ['SOUTHWEST LAND DEVELOPMENT LTD.', 'Clifton House; 75 Fort Street; Grand Cayman KY1-1108; Cayman Islands', 'Dragon Capital Markets Limited'], 'Relationships': ['REGISTERED_ADDRESS', 'REGISTERED_ADDRESS']}]\u001b[0m\n",
            "\n",
            "\u001b[1m> Finished chain.\u001b[0m\n"
          ]
        },
        {
          "output_type": "execute_result",
          "data": {
            "text/plain": [
              "'The entities SOUTHWEST LAND DEVELOPMENT LTD. and Dragon Capital Markets Limited are connected through the relationship types REGISTERED_ADDRESS and REGISTERED_ADDRESS. A shortest path between them can be found by following these relationships. The name properties of the nodes along this path are SOUTHWEST LAND DEVELOPMENT LTD., Clifton House; 75 Fort Street; Grand Cayman KY1-1108; Cayman Islands, and Dragon Capital Markets Limited.'"
            ],
            "application/vnd.google.colaboratory.intrinsic+json": {
              "type": "string"
            }
          },
          "metadata": {},
          "execution_count": 7
        }
      ]
    },
    {
      "cell_type": "markdown",
      "source": [
        "Now we can a better response and more appropriate response. The more hints you drop to an LLM, the better results you can expect. For example, you can also instruct it which relationships it can traverse."
      ],
      "metadata": {
        "id": "i1ISIYQvMxEF"
      }
    },
    {
      "cell_type": "code",
      "source": [
        "chain.run(\"\"\"\n",
        "How are entities SOUTHWEST LAND DEVELOPMENT LTD. and Dragon Capital Markets Limited connected?\n",
        "Find a shortest path and use only officer, intermediary, and connected relationships.\n",
        "Return only name properties of nodes and relationship types\n",
        "\"\"\")"
      ],
      "metadata": {
        "colab": {
          "base_uri": "https://localhost:8080/",
          "height": 278
        },
        "id": "Sxhj6n7NT6bd",
        "outputId": "6b431f95-986e-41bf-d13e-f5da5e2b8694"
      },
      "execution_count": 8,
      "outputs": [
        {
          "output_type": "stream",
          "name": "stdout",
          "text": [
            "\n",
            "\n",
            "\u001b[1m> Entering new GraphCypherQAChain chain...\u001b[0m\n",
            "Generated Cypher:\n",
            "\u001b[32;1m\u001b[1;3mMATCH (e1:Entity {name: 'SOUTHWEST LAND DEVELOPMENT LTD.'}), (e2:Entity {name: 'Dragon Capital Markets Limited'})\n",
            "MATCH p=shortestPath((e1)-[:OFFICER_OF|INTERMEDIARY_OF|CONNECTED_TO*]-(e2))\n",
            "RETURN [n IN nodes(p) | n.name] AS Names, [r IN relationships(p) | type(r)] AS Relationships\u001b[0m\n",
            "Full Context:\n",
            "\u001b[32;1m\u001b[1;3m[{'Names': ['SOUTHWEST LAND DEVELOPMENT LTD.', 'Appleby Trust (Cayman) Ltd.', 'Dragon Capital Clean Development Investments Ltd.', 'Group - Dragon Capital', 'Dragon Capital Markets Limited'], 'Relationships': ['INTERMEDIARY_OF', 'INTERMEDIARY_OF', 'CONNECTED_TO', 'CONNECTED_TO']}]\u001b[0m\n",
            "\n",
            "\u001b[1m> Finished chain.\u001b[0m\n"
          ]
        },
        {
          "output_type": "execute_result",
          "data": {
            "text/plain": [
              "'SOUTHWEST LAND DEVELOPMENT LTD. and Dragon Capital Markets Limited are connected through intermediary and connected relationships. The shortest path between them is as follows: SOUTHWEST LAND DEVELOPMENT LTD. (INTERMEDIARY_OF) -> Appleby Trust (Cayman) Ltd. (INTERMEDIARY_OF) -> Dragon Capital Clean Development Investments Ltd. (CONNECTED_TO) -> Group - Dragon Capital (CONNECTED_TO) -> Dragon Capital Markets Limited.'"
            ],
            "application/vnd.google.colaboratory.intrinsic+json": {
              "type": "string"
            }
          },
          "metadata": {},
          "execution_count": 8
        }
      ]
    },
    {
      "cell_type": "markdown",
      "source": [
        "## Summary\n",
        "Graph databases are an excellent tool for retrieving or analyzing the connections between various entities like people and organizations. In this blog post, we looked at a simple shortest path use case, where the number of relationships and the sequence of relationship types is unknown beforehand. These types of queries are virtually impossible in a vector database and could also be quite complicated in a SQL database.\n",
        "I am thrilled about the addition of Cypher Search to the LangChain library. Please test it out, and let me know how it works for you, especially if you are testing it on other LLM models or have exciting use cases."
      ],
      "metadata": {
        "id": "myeTTU1zM0b-"
      }
    },
    {
      "cell_type": "code",
      "source": [],
      "metadata": {
        "id": "5mmBVoJiIr9K"
      },
      "execution_count": null,
      "outputs": []
    }
  ]
}