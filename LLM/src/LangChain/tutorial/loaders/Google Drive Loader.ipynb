{
 "cells": [
  {
   "cell_type": "code",
   "execution_count": 3,
   "id": "2804f2bf",
   "metadata": {},
   "outputs": [],
   "source": [
    "from langchain.document_loaders import GoogleDriveLoader\n",
    "import os"
   ]
  },
  {
   "cell_type": "code",
   "execution_count": 4,
   "id": "3f988238",
   "metadata": {},
   "outputs": [],
   "source": [
    "loader = GoogleDriveLoader(document_ids=[\"1BT5apJMTUvG9_59-ceHbuZXVTJKeyyknQsz9ZNIEwQ8\"],\n",
    "                          credentials_path=\"../../desktop_credetnaisl.json\")\n",
    "docs = loader.load()"
   ]
  },
  {
   "cell_type": "code",
   "execution_count": 2,
   "id": "1cb4ae65",
   "metadata": {},
   "outputs": [],
   "source": [
    "# %set_env OPENAI_API_KEY = ..."
   ]
  },
  {
   "cell_type": "markdown",
   "id": "6419b536",
   "metadata": {},
   "source": [
    "### Summarizing"
   ]
  },
  {
   "cell_type": "code",
   "execution_count": 7,
   "id": "bfa4d948",
   "metadata": {},
   "outputs": [],
   "source": [
    "from langchain.llms import OpenAI\n",
    "from langchain.chains.summarize import load_summarize_chain"
   ]
  },
  {
   "cell_type": "code",
   "execution_count": 8,
   "id": "1c7a6d81",
   "metadata": {},
   "outputs": [],
   "source": [
    "llm = OpenAI(temperature=0, openai_api_key=os.environ['OPENAI_API_KEY'])"
   ]
  },
  {
   "cell_type": "code",
   "execution_count": 10,
   "id": "d9220c03",
   "metadata": {},
   "outputs": [
    {
     "name": "stdout",
     "output_type": "stream",
     "text": [
      "\n",
      "\n",
      "\u001b[1m> Entering new MapReduceDocumentsChain chain...\u001b[0m\n",
      "Prompt after formatting:\n",
      "\u001b[32;1m\u001b[1;3mWrite a concise summary of the following:\n",
      "\n",
      "\n",
      "\"﻿SecondaryEquityHub\n",
      "2/21/2023\n",
      "\n",
      "\n",
      "Introduction\n",
      "\n",
      "\n",
      "Our product is a marketplace that connects startup employees who want to sell vested equity to buyers of secondary market shares.\n",
      "\n",
      "\n",
      "Startups typically take several years to exit, leaving employees with vested equity tied up for an extended period. Our platform aims to address this issue by providing a marketplace for startup employees to sell their vested equity to buyers of secondary market shares.\n",
      "\n",
      "\n",
      "This helps employees to unlock the value of their vested equity for personal financial goals, such as buying a home or paying down loans. At the same time, it provides buyers with the opportunity to invest in startup equity that has already passed the early-stage risks.\n",
      "\n",
      "\n",
      "Our platform creates a win-win situation for both parties and fosters a more efficient secondary market for startup equity.\n",
      "\n",
      "\n",
      "Problem Statement\n",
      "\n",
      "\n",
      "The traditional path for startups from founding to exit can be a long and arduous journey. Often, it takes several years for a startup to exit, leaving employees with vested equity tied up for an extended period. This can create a significant financial burden for employees who may need to access the value of their equity for personal financial goals, such as buying a home or paying down loans.\n",
      "\n",
      "\n",
      "On the other hand, there is an increasing demand for investment opportunities in the startup ecosystem. Buyers of secondary market shares are looking for investment options that have already passed the early-stage risks.\n",
      "\n",
      "\n",
      "The lack of a viable secondary market for startup equity often results in a significant gap between demand and supply. This problem is significant for startup employees who are looking for liquidity, and buyers of secondary market shares who are looking for investment opportunities.\n",
      "\n",
      "\n",
      "Our product aims to address this problem by providing a marketplace that connects startup employees who want to sell vested equity to buyers of secondary market shares, creating a more efficient and accessible secondary market for startup equity.\n",
      "\n",
      "\n",
      "Product Features\n",
      "1. Marketplace for Vested Equity: Our platform provides a marketplace for startup employees to sell their vested equity to buyers of secondary market shares.\n",
      "   1. Benefit: This feature provides startup employees with liquidity options and helps them unlock the value of their equity for personal financial goals. It also provides buyers with an opportunity to invest in startup equity that has already passed the early-stage risks.\n",
      "2. Secure Transaction: Our platform ensures secure and hassle-free transactions through its escrow service\n",
      "   1. Benefit: This feature ensures a safe and secure transaction process for both buyers and sellers, mitigating the risk of fraud or financial loss.\n",
      "3. Automated Compliance: Our platform automates compliance requirements, including tax withholdings and regulatory filings, ensuring legal compliance for both buyers and sellers\n",
      "   1. Benefit: This feature eliminates the complexity and legal risks associated with selling and buying vested equity. It ensures compliance with legal and regulatory requirements and reduces the transactional costs associated with these compliance procedures.\n",
      "4. Transparent Pricing: Our platform provides transparent pricing, including price history and market trends, ensuring a fair and competitive pricing system\n",
      "   1. Benefit: This feature ensures a transparent and fair pricing system, providing buyers and sellers with a clear understanding of market trends and price history.\n",
      "5. Efficient Matching System: Our platform uses an efficient matching system that matches buyers with sellers based on their investment goals and preferences\n",
      "   1. Benefit: This feature ensures that buyers and sellers are matched efficiently based on their preferences, resulting in a faster and more efficient transaction process. It provides buyers with a wider range of investment options, while also ensuring that sellers can access a larger pool of potential buyers.\"\n",
      "\n",
      "\n",
      "CONCISE SUMMARY:\u001b[0m\n",
      "\n",
      "\n",
      "\u001b[1m> Entering new LLMChain chain...\u001b[0m\n",
      "Prompt after formatting:\n",
      "\u001b[32;1m\u001b[1;3mWrite a concise summary of the following:\n",
      "\n",
      "\n",
      "\" SecondaryEquityHub is a marketplace that connects startup employees who want to sell vested equity to buyers of secondary market shares. It provides a win-win situation for both parties by providing liquidity options for employees and investment opportunities for buyers. The platform also ensures secure transactions, automated compliance, transparent pricing, and an efficient matching system.\"\n",
      "\n",
      "\n",
      "CONCISE SUMMARY:\u001b[0m\n",
      "\n",
      "\u001b[1m> Finished chain.\u001b[0m\n",
      "\n",
      "\u001b[1m> Finished chain.\u001b[0m\n"
     ]
    },
    {
     "data": {
      "text/plain": [
       "' SecondaryEquityHub is a marketplace that connects startup employees who want to sell vested equity with buyers of secondary market shares. It provides a secure, compliant, and efficient platform for both parties to benefit from liquidity options and investment opportunities.'"
      ]
     },
     "execution_count": 10,
     "metadata": {},
     "output_type": "execute_result"
    }
   ],
   "source": [
    "chain = load_summarize_chain(llm, chain_type=\"map_reduce\", verbose=True)\n",
    "chain.run(docs)"
   ]
  },
  {
   "cell_type": "markdown",
   "id": "cdaf482f",
   "metadata": {},
   "source": [
    "### Asking Questions"
   ]
  },
  {
   "cell_type": "code",
   "execution_count": 11,
   "id": "e123a924",
   "metadata": {},
   "outputs": [],
   "source": [
    "from langchain.chains.question_answering import load_qa_chain"
   ]
  },
  {
   "cell_type": "code",
   "execution_count": 12,
   "id": "fd19d27c",
   "metadata": {},
   "outputs": [],
   "source": [
    "query = \"What problem is this product solving?\""
   ]
  },
  {
   "cell_type": "code",
   "execution_count": 13,
   "id": "dc399ac7",
   "metadata": {},
   "outputs": [
    {
     "data": {
      "text/plain": [
       "' This product is solving the problem of the lack of a viable secondary market for startup equity, which often results in a significant gap between demand and supply. This problem is significant for startup employees who are looking for liquidity, and buyers of secondary market shares who are looking for investment opportunities.'"
      ]
     },
     "execution_count": 13,
     "metadata": {},
     "output_type": "execute_result"
    }
   ],
   "source": [
    "chain = load_qa_chain(llm, chain_type=\"stuff\")\n",
    "chain.run(input_documents=docs, question=query)"
   ]
  },
  {
   "cell_type": "code",
   "execution_count": 15,
   "id": "5c295ba5",
   "metadata": {
    "collapsed": true
   },
   "outputs": [
    {
     "name": "stdout",
     "output_type": "stream",
     "text": [
      "\n",
      "\n",
      "\u001b[1m> Entering new StuffDocumentsChain chain...\u001b[0m\n",
      "\n",
      "\n",
      "\u001b[1m> Entering new LLMChain chain...\u001b[0m\n",
      "Prompt after formatting:\n",
      "\u001b[32;1m\u001b[1;3mUse the following pieces of context to answer the question at the end. If you don't know the answer, just say that you don't know, don't try to make up an answer.\n",
      "\n",
      "﻿SecondaryEquityHub\n",
      "2/21/2023\n",
      "\n",
      "\n",
      "Introduction\n",
      "\n",
      "\n",
      "Our product is a marketplace that connects startup employees who want to sell vested equity to buyers of secondary market shares.\n",
      "\n",
      "\n",
      "Startups typically take several years to exit, leaving employees with vested equity tied up for an extended period. Our platform aims to address this issue by providing a marketplace for startup employees to sell their vested equity to buyers of secondary market shares.\n",
      "\n",
      "\n",
      "This helps employees to unlock the value of their vested equity for personal financial goals, such as buying a home or paying down loans. At the same time, it provides buyers with the opportunity to invest in startup equity that has already passed the early-stage risks.\n",
      "\n",
      "\n",
      "Our platform creates a win-win situation for both parties and fosters a more efficient secondary market for startup equity.\n",
      "\n",
      "\n",
      "Problem Statement\n",
      "\n",
      "\n",
      "The traditional path for startups from founding to exit can be a long and arduous journey. Often, it takes several years for a startup to exit, leaving employees with vested equity tied up for an extended period. This can create a significant financial burden for employees who may need to access the value of their equity for personal financial goals, such as buying a home or paying down loans.\n",
      "\n",
      "\n",
      "On the other hand, there is an increasing demand for investment opportunities in the startup ecosystem. Buyers of secondary market shares are looking for investment options that have already passed the early-stage risks.\n",
      "\n",
      "\n",
      "The lack of a viable secondary market for startup equity often results in a significant gap between demand and supply. This problem is significant for startup employees who are looking for liquidity, and buyers of secondary market shares who are looking for investment opportunities.\n",
      "\n",
      "\n",
      "Our product aims to address this problem by providing a marketplace that connects startup employees who want to sell vested equity to buyers of secondary market shares, creating a more efficient and accessible secondary market for startup equity.\n",
      "\n",
      "\n",
      "Product Features\n",
      "1. Marketplace for Vested Equity: Our platform provides a marketplace for startup employees to sell their vested equity to buyers of secondary market shares.\n",
      "   1. Benefit: This feature provides startup employees with liquidity options and helps them unlock the value of their equity for personal financial goals. It also provides buyers with an opportunity to invest in startup equity that has already passed the early-stage risks.\n",
      "2. Secure Transaction: Our platform ensures secure and hassle-free transactions through its escrow service\n",
      "   1. Benefit: This feature ensures a safe and secure transaction process for both buyers and sellers, mitigating the risk of fraud or financial loss.\n",
      "3. Automated Compliance: Our platform automates compliance requirements, including tax withholdings and regulatory filings, ensuring legal compliance for both buyers and sellers\n",
      "   1. Benefit: This feature eliminates the complexity and legal risks associated with selling and buying vested equity. It ensures compliance with legal and regulatory requirements and reduces the transactional costs associated with these compliance procedures.\n",
      "4. Transparent Pricing: Our platform provides transparent pricing, including price history and market trends, ensuring a fair and competitive pricing system\n",
      "   1. Benefit: This feature ensures a transparent and fair pricing system, providing buyers and sellers with a clear understanding of market trends and price history.\n",
      "5. Efficient Matching System: Our platform uses an efficient matching system that matches buyers with sellers based on their investment goals and preferences\n",
      "   1. Benefit: This feature ensures that buyers and sellers are matched efficiently based on their preferences, resulting in a faster and more efficient transaction process. It provides buyers with a wider range of investment options, while also ensuring that sellers can access a larger pool of potential buyers.\n",
      "\n",
      "Question: How should we reach our target audience of this product?\n",
      "Helpful Answer:\u001b[0m\n",
      "\n",
      "\u001b[1m> Finished chain.\u001b[0m\n",
      "\n",
      "\u001b[1m> Finished chain.\u001b[0m\n"
     ]
    },
    {
     "data": {
      "text/plain": [
       "' We should reach our target audience by leveraging digital marketing channels such as social media, search engine optimization, and content marketing. We should also consider using traditional marketing channels such as print, radio, and television advertising. Additionally, we should consider partnering with influencers and industry experts to help spread the word about our product.'"
      ]
     },
     "execution_count": 15,
     "metadata": {},
     "output_type": "execute_result"
    }
   ],
   "source": [
    "query = \"How should we reach our target audience of this product?\"\n",
    "\n",
    "chain = load_qa_chain(llm, chain_type=\"stuff\", verbose=True)\n",
    "chain.run(input_documents=docs, question=query)"
   ]
  },
  {
   "cell_type": "markdown",
   "id": "6dc5afa3",
   "metadata": {},
   "source": [
    "## And there's more: Add documents to your list"
   ]
  },
  {
   "cell_type": "code",
   "execution_count": 16,
   "id": "2d921ee7",
   "metadata": {},
   "outputs": [],
   "source": [
    "loader = GoogleDriveLoader(document_ids=[\"1ETW9siA8EBkdms7R1UTw1ysXag2U6gb9wMzRpSxjqY8\"],\n",
    "                           credentials_path=\"../../desktop_credetnaisl.json\")\n",
    "new_doc = loader.load()\n",
    "\n",
    "docs.extend(new_doc)"
   ]
  },
  {
   "cell_type": "code",
   "execution_count": 19,
   "id": "1fe49414",
   "metadata": {
    "collapsed": true
   },
   "outputs": [
    {
     "name": "stdout",
     "output_type": "stream",
     "text": [
      "\n",
      "\n",
      "\u001b[1m> Entering new StuffDocumentsChain chain...\u001b[0m\n",
      "\n",
      "\n",
      "\u001b[1m> Entering new LLMChain chain...\u001b[0m\n",
      "Prompt after formatting:\n",
      "\u001b[32;1m\u001b[1;3mUse the following pieces of context to answer the question at the end. If you don't know the answer, just say that you don't know, don't try to make up an answer.\n",
      "\n",
      "﻿SecondaryEquityHub\n",
      "2/21/2023\n",
      "\n",
      "\n",
      "Introduction\n",
      "\n",
      "\n",
      "Our product is a marketplace that connects startup employees who want to sell vested equity to buyers of secondary market shares.\n",
      "\n",
      "\n",
      "Startups typically take several years to exit, leaving employees with vested equity tied up for an extended period. Our platform aims to address this issue by providing a marketplace for startup employees to sell their vested equity to buyers of secondary market shares.\n",
      "\n",
      "\n",
      "This helps employees to unlock the value of their vested equity for personal financial goals, such as buying a home or paying down loans. At the same time, it provides buyers with the opportunity to invest in startup equity that has already passed the early-stage risks.\n",
      "\n",
      "\n",
      "Our platform creates a win-win situation for both parties and fosters a more efficient secondary market for startup equity.\n",
      "\n",
      "\n",
      "Problem Statement\n",
      "\n",
      "\n",
      "The traditional path for startups from founding to exit can be a long and arduous journey. Often, it takes several years for a startup to exit, leaving employees with vested equity tied up for an extended period. This can create a significant financial burden for employees who may need to access the value of their equity for personal financial goals, such as buying a home or paying down loans.\n",
      "\n",
      "\n",
      "On the other hand, there is an increasing demand for investment opportunities in the startup ecosystem. Buyers of secondary market shares are looking for investment options that have already passed the early-stage risks.\n",
      "\n",
      "\n",
      "The lack of a viable secondary market for startup equity often results in a significant gap between demand and supply. This problem is significant for startup employees who are looking for liquidity, and buyers of secondary market shares who are looking for investment opportunities.\n",
      "\n",
      "\n",
      "Our product aims to address this problem by providing a marketplace that connects startup employees who want to sell vested equity to buyers of secondary market shares, creating a more efficient and accessible secondary market for startup equity.\n",
      "\n",
      "\n",
      "Product Features\n",
      "1. Marketplace for Vested Equity: Our platform provides a marketplace for startup employees to sell their vested equity to buyers of secondary market shares.\n",
      "   1. Benefit: This feature provides startup employees with liquidity options and helps them unlock the value of their equity for personal financial goals. It also provides buyers with an opportunity to invest in startup equity that has already passed the early-stage risks.\n",
      "2. Secure Transaction: Our platform ensures secure and hassle-free transactions through its escrow service\n",
      "   1. Benefit: This feature ensures a safe and secure transaction process for both buyers and sellers, mitigating the risk of fraud or financial loss.\n",
      "3. Automated Compliance: Our platform automates compliance requirements, including tax withholdings and regulatory filings, ensuring legal compliance for both buyers and sellers\n",
      "   1. Benefit: This feature eliminates the complexity and legal risks associated with selling and buying vested equity. It ensures compliance with legal and regulatory requirements and reduces the transactional costs associated with these compliance procedures.\n",
      "4. Transparent Pricing: Our platform provides transparent pricing, including price history and market trends, ensuring a fair and competitive pricing system\n",
      "   1. Benefit: This feature ensures a transparent and fair pricing system, providing buyers and sellers with a clear understanding of market trends and price history.\n",
      "5. Efficient Matching System: Our platform uses an efficient matching system that matches buyers with sellers based on their investment goals and preferences\n",
      "   1. Benefit: This feature ensures that buyers and sellers are matched efficiently based on their preferences, resulting in a faster and more efficient transaction process. It provides buyers with a wider range of investment options, while also ensuring that sellers can access a larger pool of potential buyers.\n",
      "\n",
      "﻿SecondaryEquityHub - User Interviews\n",
      "2/21/2023\n",
      "\n",
      "\n",
      "Interview #1 - Sally\n",
      "\n",
      "\n",
      "Eliza: Hi Sally, thanks for coming in today. Can you tell me a bit about your experience in the startup world?\n",
      "\n",
      "\n",
      "Sally: Hi Eliza, thanks for having me. Sure, I've been working in the startup world for about 5 years now. I've worked for a few different startups in various roles, from marketing to product management.\n",
      "\n",
      "\n",
      "Eliza: Great, well our product is a marketplace that connects startup employees who want to sell vested equity to buyers of secondary market shares. What do you think of this idea?\n",
      "Sally: I think it's a really interesting concept. It's not uncommon for startup employees to have vested equity tied up for several years, and having a marketplace to sell that equity could be really helpful for those who want to unlock its value.\n",
      "\n",
      "\n",
      "Eliza: Yes, exactly. The platform aims to help employees achieve personal financial goals, such as buying a home or paying down loans, while also providing buyers with the opportunity to invest in startup equity that has already passed the early-stage risks. How do you think we can ensure that the buyers are getting a fair deal?\n",
      "\n",
      "\n",
      "Sally: That's a good question. I think it would be important to have some kind of vetting process for the sellers and the shares they're selling. We would need to make sure that the shares are legitimate and that the sellers have the right to sell them. It would also be important to have some kind of transparency around the pricing, so that buyers can make informed decisions.\n",
      "\n",
      "\n",
      "Eliza: Yes, those are all great points. We've been working on developing a secure platform that includes a vetting process for the sellers and the shares they're selling, and we're also planning to provide transparent pricing information. Thank you for your input, Sally. It was great to chat with you today.\n",
      "\n",
      "Question: What are users saying about our product?\n",
      "Helpful Answer:\u001b[0m\n",
      "\n",
      "\u001b[1m> Finished chain.\u001b[0m\n",
      "\n",
      "\u001b[1m> Finished chain.\u001b[0m\n"
     ]
    },
    {
     "data": {
      "text/plain": [
       "\" Users are saying that the product is a good idea and that it could be helpful for startup employees who want to unlock the value of their vested equity for personal financial goals. They are also suggesting that there should be a vetting process for the sellers and the shares they're selling, as well as transparent pricing information, to ensure that buyers are getting a fair deal.\""
      ]
     },
     "execution_count": 19,
     "metadata": {},
     "output_type": "execute_result"
    }
   ],
   "source": [
    "query = \"What are users saying about our product?\"\n",
    "\n",
    "chain = load_qa_chain(llm, chain_type=\"stuff\", verbose=True)\n",
    "chain.run(input_documents=docs, question=query)"
   ]
  },
  {
   "cell_type": "markdown",
   "id": "38901b7f",
   "metadata": {},
   "source": [
    "### Remove Documents"
   ]
  },
  {
   "cell_type": "code",
   "execution_count": 20,
   "id": "7a0eb0f4",
   "metadata": {},
   "outputs": [
    {
     "data": {
      "text/plain": [
       "list"
      ]
     },
     "execution_count": 20,
     "metadata": {},
     "output_type": "execute_result"
    }
   ],
   "source": [
    "type(docs)"
   ]
  },
  {
   "cell_type": "code",
   "execution_count": 21,
   "id": "7151f84a",
   "metadata": {},
   "outputs": [
    {
     "data": {
      "text/plain": [
       "Document(page_content=\"\\ufeffSecondaryEquityHub - User Interviews\\r\\n2/21/2023\\r\\n\\r\\n\\r\\nInterview #1 - Sally\\r\\n\\r\\n\\r\\nEliza: Hi Sally, thanks for coming in today. Can you tell me a bit about your experience in the startup world?\\r\\n\\r\\n\\r\\nSally: Hi Eliza, thanks for having me. Sure, I've been working in the startup world for about 5 years now. I've worked for a few different startups in various roles, from marketing to product management.\\r\\n\\r\\n\\r\\nEliza: Great, well our product is a marketplace that connects startup employees who want to sell vested equity to buyers of secondary market shares. What do you think of this idea?\\r\\nSally: I think it's a really interesting concept. It's not uncommon for startup employees to have vested equity tied up for several years, and having a marketplace to sell that equity could be really helpful for those who want to unlock its value.\\r\\n\\r\\n\\r\\nEliza: Yes, exactly. The platform aims to help employees achieve personal financial goals, such as buying a home or paying down loans, while also providing buyers with the opportunity to invest in startup equity that has already passed the early-stage risks. How do you think we can ensure that the buyers are getting a fair deal?\\r\\n\\r\\n\\r\\nSally: That's a good question. I think it would be important to have some kind of vetting process for the sellers and the shares they're selling. We would need to make sure that the shares are legitimate and that the sellers have the right to sell them. It would also be important to have some kind of transparency around the pricing, so that buyers can make informed decisions.\\r\\n\\r\\n\\r\\nEliza: Yes, those are all great points. We've been working on developing a secure platform that includes a vetting process for the sellers and the shares they're selling, and we're also planning to provide transparent pricing information. Thank you for your input, Sally. It was great to chat with you today.\", lookup_str='', metadata={'source': 'https://docs.google.com/document/d/1ETW9siA8EBkdms7R1UTw1ysXag2U6gb9wMzRpSxjqY8/edit'}, lookup_index=0)"
      ]
     },
     "execution_count": 21,
     "metadata": {},
     "output_type": "execute_result"
    }
   ],
   "source": [
    "docs.pop()"
   ]
  },
  {
   "cell_type": "code",
   "execution_count": null,
   "id": "e8a0b907",
   "metadata": {},
   "outputs": [],
   "source": []
  },
  {
   "cell_type": "code",
   "execution_count": 22,
   "id": "c2bd62dc",
   "metadata": {},
   "outputs": [
    {
     "data": {
      "text/plain": [
       "{'page_content': '\\ufeffSecondaryEquityHub\\r\\n2/21/2023\\r\\n\\r\\n\\r\\nIntroduction\\r\\n\\r\\n\\r\\nOur product is a marketplace that connects startup employees who want to sell vested equity to buyers of secondary market shares.\\r\\n\\r\\n\\r\\nStartups typically take several years to exit, leaving employees with vested equity tied up for an extended period. Our platform aims to address this issue by providing a marketplace for startup employees to sell their vested equity to buyers of secondary market shares.\\r\\n\\r\\n\\r\\nThis helps employees to unlock the value of their vested equity for personal financial goals, such as buying a home or paying down loans. At the same time, it provides buyers with the opportunity to invest in startup equity that has already passed the early-stage risks.\\r\\n\\r\\n\\r\\nOur platform creates a win-win situation for both parties and fosters a more efficient secondary market for startup equity.\\r\\n\\r\\n\\r\\nProblem Statement\\r\\n\\r\\n\\r\\nThe traditional path for startups from founding to exit can be a long and arduous journey. Often, it takes several years for a startup to exit, leaving employees with vested equity tied up for an extended period. This can create a significant financial burden for employees who may need to access the value of their equity for personal financial goals, such as buying a home or paying down loans.\\r\\n\\r\\n\\r\\nOn the other hand, there is an increasing demand for investment opportunities in the startup ecosystem. Buyers of secondary market shares are looking for investment options that have already passed the early-stage risks.\\r\\n\\r\\n\\r\\nThe lack of a viable secondary market for startup equity often results in a significant gap between demand and supply. This problem is significant for startup employees who are looking for liquidity, and buyers of secondary market shares who are looking for investment opportunities.\\r\\n\\r\\n\\r\\nOur product aims to address this problem by providing a marketplace that connects startup employees who want to sell vested equity to buyers of secondary market shares, creating a more efficient and accessible secondary market for startup equity.\\r\\n\\r\\n\\r\\nProduct Features\\r\\n1. Marketplace for Vested Equity: Our platform provides a marketplace for startup employees to sell their vested equity to buyers of secondary market shares.\\r\\n   1. Benefit: This feature provides startup employees with liquidity options and helps them unlock the value of their equity for personal financial goals. It also provides buyers with an opportunity to invest in startup equity that has already passed the early-stage risks.\\r\\n2. Secure Transaction: Our platform ensures secure and hassle-free transactions through its escrow service\\r\\n   1. Benefit: This feature ensures a safe and secure transaction process for both buyers and sellers, mitigating the risk of fraud or financial loss.\\r\\n3. Automated Compliance: Our platform automates compliance requirements, including tax withholdings and regulatory filings, ensuring legal compliance for both buyers and sellers\\r\\n   1. Benefit: This feature eliminates the complexity and legal risks associated with selling and buying vested equity. It ensures compliance with legal and regulatory requirements and reduces the transactional costs associated with these compliance procedures.\\r\\n4. Transparent Pricing: Our platform provides transparent pricing, including price history and market trends, ensuring a fair and competitive pricing system\\r\\n   1. Benefit: This feature ensures a transparent and fair pricing system, providing buyers and sellers with a clear understanding of market trends and price history.\\r\\n5. Efficient Matching System: Our platform uses an efficient matching system that matches buyers with sellers based on their investment goals and preferences\\r\\n   1. Benefit: This feature ensures that buyers and sellers are matched efficiently based on their preferences, resulting in a faster and more efficient transaction process. It provides buyers with a wider range of investment options, while also ensuring that sellers can access a larger pool of potential buyers.',\n",
       " 'lookup_str': '',\n",
       " 'metadata': {'source': 'https://docs.google.com/document/d/1BT5apJMTUvG9_59-ceHbuZXVTJKeyyknQsz9ZNIEwQ8/edit'},\n",
       " 'lookup_index': 0}"
      ]
     },
     "execution_count": 22,
     "metadata": {},
     "output_type": "execute_result"
    }
   ],
   "source": [
    "docs[0].dict()"
   ]
  },
  {
   "cell_type": "code",
   "execution_count": null,
   "id": "9a66c436",
   "metadata": {},
   "outputs": [],
   "source": []
  }
 ],
 "metadata": {
  "kernelspec": {
   "display_name": "Python 3 (ipykernel)",
   "language": "python",
   "name": "python3"
  },
  "language_info": {
   "codemirror_mode": {
    "name": "ipython",
    "version": 3
   },
   "file_extension": ".py",
   "mimetype": "text/x-python",
   "name": "python",
   "nbconvert_exporter": "python",
   "pygments_lexer": "ipython3",
   "version": "3.9.13"
  }
 },
 "nbformat": 4,
 "nbformat_minor": 5
}
