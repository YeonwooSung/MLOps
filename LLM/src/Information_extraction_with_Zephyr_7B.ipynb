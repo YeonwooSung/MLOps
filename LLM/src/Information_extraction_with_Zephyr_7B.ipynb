{
  "cells": [
    {
      "cell_type": "markdown",
      "id": "70776635",
      "metadata": {
        "id": "70776635"
      },
      "source": [
        "# Information extraction with Zephyr 7B alpha(α)"
      ]
    },
    {
      "cell_type": "markdown",
      "id": "b1d6feeb",
      "metadata": {
        "id": "b1d6feeb"
      },
      "source": [
        "#### 1. Install the packages"
      ]
    },
    {
      "cell_type": "code",
      "execution_count": null,
      "id": "efd8f858",
      "metadata": {
        "id": "efd8f858"
      },
      "outputs": [],
      "source": [
        "!pip install -q pypdf python-dotenv transformers llama-index sentence-transformers langchain\n",
        "!CMAKE_ARGS=\"-DLLAMA_CUBLAS=on\" FORCE_CMAKE=1 pip install  llama-cpp-python --no-cache-dir"
      ]
    },
    {
      "cell_type": "markdown",
      "id": "437fed56",
      "metadata": {
        "id": "437fed56"
      },
      "source": [
        "#### 2. Import the packages"
      ]
    },
    {
      "cell_type": "code",
      "execution_count": 1,
      "id": "f2370943",
      "metadata": {
        "id": "f2370943"
      },
      "outputs": [],
      "source": [
        "import logging\n",
        "import sys\n",
        "import torch\n",
        "from pprint import pprint\n",
        "from llama_index.llms import LlamaCPP\n",
        "from langchain.embeddings.huggingface import HuggingFaceEmbeddings\n",
        "from llama_index import VectorStoreIndex, SimpleDirectoryReader, ServiceContext\n",
        "from llama_index.llms.llama_utils import messages_to_prompt, completion_to_prompt\n",
        "from llama_index.embeddings import LangchainEmbedding\n",
        "from llama_index import ServiceContext, set_global_service_context\n",
        "\n",
        "logging.basicConfig(stream=sys.stdout, level=logging.INFO)\n",
        "logging.getLogger().addHandler(logging.StreamHandler(stream=sys.stdout))"
      ]
    },
    {
      "cell_type": "markdown",
      "id": "ab27d40d",
      "metadata": {
        "id": "ab27d40d"
      },
      "source": [
        "#### 3. Load the dataset"
      ]
    },
    {
      "cell_type": "code",
      "execution_count": 2,
      "id": "1964a697",
      "metadata": {
        "id": "1964a697"
      },
      "outputs": [],
      "source": [
        "data_location = \"/content/data\" #@param\n",
        "documents = SimpleDirectoryReader(data_location).load_data()"
      ]
    },
    {
      "cell_type": "markdown",
      "id": "2631db02",
      "metadata": {
        "id": "2631db02"
      },
      "source": [
        "#### 4. Load Model"
      ]
    },
    {
      "cell_type": "code",
      "execution_count": 3,
      "id": "651521f4",
      "metadata": {
        "colab": {
          "base_uri": "https://localhost:8080/"
        },
        "id": "651521f4",
        "outputId": "cb6948c1-32c1-424d-c902-f6f9ec1a7f07"
      },
      "outputs": [
        {
          "name": "stderr",
          "output_type": "stream",
          "text": [
            "AVX = 1 | AVX2 = 1 | AVX512 = 1 | AVX512_VBMI = 0 | AVX512_VNNI = 0 | FMA = 1 | NEON = 0 | ARM_FMA = 0 | F16C = 1 | FP16_VA = 0 | WASM_SIMD = 0 | BLAS = 1 | SSE3 = 1 | SSSE3 = 1 | VSX = 0 | \n"
          ]
        }
      ],
      "source": [
        "llm = LlamaCPP(\n",
        "    model_url='https://huggingface.co/TheBloke/zephyr-7B-alpha-GGUF/resolve/main/zephyr-7b-alpha.Q5_K_M.gguf',\n",
        "    model_path=None,\n",
        "    temperature=0.1,\n",
        "    max_new_tokens=256,\n",
        "    context_window=3900,\n",
        "    generate_kwargs={},\n",
        "    model_kwargs={\"n_gpu_layers\": -1},\n",
        "    messages_to_prompt=messages_to_prompt,\n",
        "    completion_to_prompt=completion_to_prompt,\n",
        "    verbose=True,\n",
        ")"
      ]
    },
    {
      "cell_type": "markdown",
      "id": "7d8ff9e7",
      "metadata": {
        "id": "7d8ff9e7"
      },
      "source": [
        "#### 5. Load the embeddings"
      ]
    },
    {
      "cell_type": "code",
      "execution_count": 4,
      "id": "85fe1740",
      "metadata": {
        "id": "85fe1740"
      },
      "outputs": [],
      "source": [
        "embed_model = LangchainEmbedding(\n",
        "  HuggingFaceEmbeddings(model_name=\"thenlper/gte-large\")\n",
        ")"
      ]
    },
    {
      "cell_type": "code",
      "execution_count": 5,
      "id": "efe08a04",
      "metadata": {
        "id": "efe08a04"
      },
      "outputs": [],
      "source": [
        "service_context = ServiceContext.from_defaults(\n",
        "    chunk_size=256,\n",
        "    llm=llm,\n",
        "    embed_model=embed_model\n",
        ")"
      ]
    },
    {
      "cell_type": "code",
      "execution_count": 6,
      "id": "5c24e99b",
      "metadata": {
        "id": "5c24e99b"
      },
      "outputs": [],
      "source": [
        "index = VectorStoreIndex.from_documents(documents, service_context=service_context)"
      ]
    },
    {
      "cell_type": "code",
      "execution_count": 7,
      "id": "101c3717",
      "metadata": {
        "colab": {
          "base_uri": "https://localhost:8080/"
        },
        "id": "101c3717",
        "outputId": "68ee4875-b43c-4a39-e157-f589f1eed0d6"
      },
      "outputs": [
        {
          "name": "stderr",
          "output_type": "stream",
          "text": [
            "Llama.generate: prefix-match hit\n",
            "Llama.generate: prefix-match hit\n"
          ]
        },
        {
          "name": "stdout",
          "output_type": "stream",
          "text": [
            "{'Client address in the document?': '\\n'\n",
            "                                    \"Yes, the client's address is provided in \"\n",
            "                                    'the given context information as '\n",
            "                                    '\"Keller-Crosby 280 Kim Valleys Suite 217 '\n",
            "                                    'Angelaburgh, DE 97356\".',\n",
            " 'Seller address in the document?': '\\n'\n",
            "                                    \"Yes, the seller's address is provided in \"\n",
            "                                    'the given context information as '\n",
            "                                    '\"Campbell, Callahan and Gomez 2969 Todd '\n",
            "                                    'Orchard Apt. 721 Port James, FL 83598\".',\n",
            " 'seller Tax Id in the document?': '\\n'\n",
            "                                   \"Yes, the seller's Tax Id is provided in \"\n",
            "                                   'the given context information as '\n",
            "                                   '\"958-83-8233\".'}\n"
          ]
        }
      ],
      "source": [
        "user_queries = ['Seller address in the document?', 'Client address in the document?', 'seller Tax Id in the document?' ] #@param\n",
        "answer = dict()\n",
        "for i, user_query in enumerate(user_queries):\n",
        "    query_engine = index.as_query_engine()\n",
        "    response = query_engine.query(user_query)\n",
        "    answer.update({user_query: response.response})\n",
        "pprint(answer)"
      ]
    },
    {
      "cell_type": "code",
      "execution_count": null,
      "metadata": {},
      "outputs": [],
      "source": []
    }
  ],
  "metadata": {
    "accelerator": "GPU",
    "colab": {
      "gpuType": "T4",
      "include_colab_link": true,
      "machine_shape": "hm",
      "provenance": []
    },
    "kernelspec": {
      "display_name": "Python 3",
      "name": "python3"
    },
    "language_info": {
      "codemirror_mode": {
        "name": "ipython",
        "version": 3
      },
      "file_extension": ".py",
      "mimetype": "text/x-python",
      "name": "python",
      "nbconvert_exporter": "python",
      "pygments_lexer": "ipython3",
      "version": "3.9.0"
    }
  },
  "nbformat": 4,
  "nbformat_minor": 5
}
