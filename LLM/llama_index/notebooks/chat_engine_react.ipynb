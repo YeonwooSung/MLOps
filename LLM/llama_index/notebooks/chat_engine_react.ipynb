{
  "cells": [
    {
      "cell_type": "markdown",
      "id": "2509fcb7-f84e-4c01-b23c-6e0942c2df10",
      "metadata": {
        "id": "2509fcb7-f84e-4c01-b23c-6e0942c2df10"
      },
      "source": [
        "# Chat Engine - ReAct Agent Mode"
      ]
    },
    {
      "cell_type": "markdown",
      "id": "84aca142-a611-4a18-8673-c261edd1631c",
      "metadata": {
        "id": "84aca142-a611-4a18-8673-c261edd1631c"
      },
      "source": [
        "ReAct is an agent based chat mode built on top of a query engine over your data."
      ]
    },
    {
      "cell_type": "markdown",
      "id": "9d9dcfd5-ec96-4407-a5b7-ca3fadf22419",
      "metadata": {
        "id": "9d9dcfd5-ec96-4407-a5b7-ca3fadf22419"
      },
      "source": [
        "For each chat interaction, the agent enter a ReAct loop:\n",
        "* first decide whether to use the query engine tool and come up with appropriate input\n",
        "* (optional) use the query engine tool and observe its output\n",
        "* decide whether to repeat or give final response"
      ]
    },
    {
      "cell_type": "markdown",
      "id": "d765ea5c-e193-4298-96cc-978c87ffcafe",
      "metadata": {
        "id": "d765ea5c-e193-4298-96cc-978c87ffcafe"
      },
      "source": [
        "This approach is flexible, since it can flexibility choose between querying the knowledge base or not.\n",
        "However, the performance is also more dependent on the quality of the LLM.\n",
        "You might need to do more coercing to make sure it chooses to query the knowledge base at right times, instead of hallucinating an answer."
      ]
    },
    {
      "cell_type": "markdown",
      "id": "82918147",
      "metadata": {
        "id": "82918147"
      },
      "source": [
        "If you're opening this Notebook on colab, you will probably need to install LlamaIndex 🦙."
      ]
    },
    {
      "cell_type": "code",
      "execution_count": null,
      "id": "e2c7c749",
      "metadata": {
        "id": "e2c7c749"
      },
      "outputs": [],
      "source": [
        "!pip install llama-index"
      ]
    },
    {
      "cell_type": "markdown",
      "id": "8acd322f",
      "metadata": {
        "id": "8acd322f"
      },
      "source": [
        "## Download Data"
      ]
    },
    {
      "cell_type": "code",
      "execution_count": null,
      "id": "29c01fe1",
      "metadata": {
        "id": "29c01fe1"
      },
      "outputs": [],
      "source": [
        "!mkdir -p 'data/paul_graham/'\n",
        "!wget 'https://raw.githubusercontent.com/run-llama/llama_index/main/docs/examples/data/paul_graham/paul_graham_essay.txt' -O 'data/paul_graham/paul_graham_essay.txt'"
      ]
    },
    {
      "cell_type": "markdown",
      "id": "70be3c76-98d4-4df5-9cc6-8ceba34f23fb",
      "metadata": {
        "id": "70be3c76-98d4-4df5-9cc6-8ceba34f23fb"
      },
      "source": [
        "### Get started in 5 lines of code"
      ]
    },
    {
      "cell_type": "markdown",
      "id": "8841bc6e-a196-4416-b886-31ea93e33d13",
      "metadata": {
        "id": "8841bc6e-a196-4416-b886-31ea93e33d13"
      },
      "source": [
        "Load data and build index"
      ]
    },
    {
      "cell_type": "code",
      "execution_count": null,
      "id": "8bf4cb33-46c7-4f45-a43c-b478f68e9b0b",
      "metadata": {
        "id": "8bf4cb33-46c7-4f45-a43c-b478f68e9b0b"
      },
      "outputs": [],
      "source": [
        "from llama_index import VectorStoreIndex, SimpleDirectoryReader, ServiceContext\n",
        "from llama_index.llms import OpenAI, Anthropic\n",
        "\n",
        "\n",
        "service_context = ServiceContext.from_defaults(llm=OpenAI())\n",
        "data = SimpleDirectoryReader(input_dir=\"./data/paul_graham/\").load_data()\n",
        "index = VectorStoreIndex.from_documents(data, service_context=service_context)"
      ]
    },
    {
      "cell_type": "markdown",
      "id": "0df6a939-9f2c-44cc-ad9d-8203029e8fbd",
      "metadata": {
        "id": "0df6a939-9f2c-44cc-ad9d-8203029e8fbd"
      },
      "source": [
        "Configure chat engine"
      ]
    },
    {
      "cell_type": "code",
      "execution_count": null,
      "id": "05eb7917-998c-4c36-b41a-84d29d3468c9",
      "metadata": {
        "id": "05eb7917-998c-4c36-b41a-84d29d3468c9"
      },
      "outputs": [],
      "source": [
        "chat_engine = index.as_chat_engine(chat_mode=\"react\", verbose=True)"
      ]
    },
    {
      "cell_type": "markdown",
      "id": "4bbfb7bb-827d-4968-b3ae-7c9f92224e8c",
      "metadata": {
        "id": "4bbfb7bb-827d-4968-b3ae-7c9f92224e8c"
      },
      "source": [
        "Chat with your data"
      ]
    },
    {
      "cell_type": "code",
      "execution_count": null,
      "id": "0a618731-2f1f-4379-8dac-6dc3564961c1",
      "metadata": {
        "id": "0a618731-2f1f-4379-8dac-6dc3564961c1",
        "outputId": "b556c070-672f-441d-8f80-dde47d1bb57f"
      },
      "outputs": [
        {
          "name": "stdout",
          "output_type": "stream",
          "text": [
            "\u001b[38;5;200m\u001b[1;3mThought: I need to use a tool to help me answer the question.\n",
            "Action: query_engine_tool\n",
            "Action Input: {'input': 'What did Paul Graham do in the summer of 1995?'}\n",
            "\u001b[0m\u001b[36;1m\u001b[1;3mObservation: \n",
            "In the summer of 1995, Paul Graham worked on building a web application for making web applications. He recruited Dan Giffin, who had worked for Viaweb, and two undergrads who wanted summer jobs, and they got to work trying to build what it's now clear is about twenty companies and several open source projects worth of software. The language for defining applications would of course be a dialect of Lisp.\n",
            "\u001b[0m\u001b[38;5;200m\u001b[1;3mResponse: In the summer of 1995, Paul Graham worked on building a web application for making web applications. He recruited Dan Giffin, who had worked for Viaweb, and two undergrads who wanted summer jobs, and they got to work trying to build what it's now clear is about twenty companies and several open source projects worth of software. The language for defining applications would of course be a dialect of Lisp.\n",
            "\u001b[0m"
          ]
        }
      ],
      "source": [
        "response = chat_engine.chat(\n",
        "    \"Use the tool to answer what did Paul Graham do in the summer of 1995?\"\n",
        ")"
      ]
    },
    {
      "cell_type": "code",
      "execution_count": null,
      "id": "a7c5c258-397d-47f2-87d3-7c1e62138211",
      "metadata": {
        "id": "a7c5c258-397d-47f2-87d3-7c1e62138211",
        "outputId": "3ad09cdd-88d6-42dd-d1a0-785993b88688"
      },
      "outputs": [
        {
          "name": "stdout",
          "output_type": "stream",
          "text": [
            "In the summer of 1995, Paul Graham worked on building a web application for making web applications. He recruited Dan Giffin, who had worked for Viaweb, and two undergrads who wanted summer jobs, and they got to work trying to build what it's now clear is about twenty companies and several open source projects worth of software. The language for defining applications would of course be a dialect of Lisp.\n"
          ]
        }
      ],
      "source": [
        "print(response)"
      ]
    },
    {
      "cell_type": "markdown",
      "id": "ac91c351-d6ec-4958-9290-ad3078e7abe3",
      "metadata": {
        "id": "ac91c351-d6ec-4958-9290-ad3078e7abe3"
      },
      "source": [
        "### Customize LLM"
      ]
    },
    {
      "cell_type": "markdown",
      "id": "60b87162-1a18-4390-b9a5-ddec6c1d1e36",
      "metadata": {
        "id": "60b87162-1a18-4390-b9a5-ddec6c1d1e36"
      },
      "source": [
        "Use Anthropic (\"claude-2\")"
      ]
    },
    {
      "cell_type": "code",
      "execution_count": null,
      "id": "29bb0f40-3173-474f-8f78-a5b82f4e5645",
      "metadata": {
        "id": "29bb0f40-3173-474f-8f78-a5b82f4e5645"
      },
      "outputs": [],
      "source": [
        "service_context = ServiceContext.from_defaults(llm=Anthropic())"
      ]
    },
    {
      "cell_type": "markdown",
      "id": "aae7f923-cbd5-40af-ba2e-d3c2e3babcbf",
      "metadata": {
        "id": "aae7f923-cbd5-40af-ba2e-d3c2e3babcbf"
      },
      "source": [
        "Configure chat engine"
      ]
    },
    {
      "cell_type": "code",
      "execution_count": null,
      "id": "fa0a82b1-76db-4ba1-a6c3-b71d087ba132",
      "metadata": {
        "id": "fa0a82b1-76db-4ba1-a6c3-b71d087ba132"
      },
      "outputs": [],
      "source": [
        "chat_engine = index.as_chat_engine(\n",
        "    service_context=service_context, chat_mode=\"react\", verbose=True\n",
        ")"
      ]
    },
    {
      "cell_type": "code",
      "execution_count": null,
      "id": "cf5d2e49-04f8-4a61-9a30-ebc227d87d41",
      "metadata": {
        "id": "cf5d2e49-04f8-4a61-9a30-ebc227d87d41",
        "outputId": "98e5ac22-d822-48cb-91ec-ff88dfc953b2"
      },
      "outputs": [
        {
          "name": "stdout",
          "output_type": "stream",
          "text": [
            "\u001b[38;5;200m\u001b[1;3mThought: I need to use a tool to help me answer the question.\n",
            "Action: query_engine_tool\n",
            "Action Input: {'input': 'what did Paul Graham do in the summer of 1995?'}\n",
            "\u001b[0m\u001b[36;1m\u001b[1;3mObservation:  Based on the context, in the summer of 1995 Paul Graham:\n",
            "\n",
            "- Painted a second still life using the same objects he had used for a previous still life painting.\n",
            "\n",
            "- Looked for an apartment to buy in New York, trying to find a neighborhood similar to Cambridge, MA. \n",
            "\n",
            "- Realized there wasn't really a \"Cambridge of New York\" after visiting the actual Cambridge.\n",
            "\n",
            "The passage does not mention what Paul Graham did in the summer of 1995 specifically. It talks about painting a second still life at some point and looking for an apartment in New York at some point, but it does not connect those events to the summer of 1995.\n",
            "\u001b[0m\u001b[38;5;200m\u001b[1;3mResponse: The passage does not provide enough information to know specifically what Paul Graham did in the summer of 1995. It mentions some activities like painting and looking for an apartment in New York, but does not say these occurred specifically in the summer of 1995.\n",
            "\u001b[0m"
          ]
        }
      ],
      "source": [
        "response = chat_engine.chat(\"what did Paul Graham do in the summer of 1995?\")"
      ]
    },
    {
      "cell_type": "code",
      "execution_count": null,
      "id": "8c6a387e-afdc-4829-852f-6916499a7352",
      "metadata": {
        "id": "8c6a387e-afdc-4829-852f-6916499a7352",
        "outputId": "b357915f-ab9d-458c-fc34-c1d9e19e465d"
      },
      "outputs": [
        {
          "name": "stdout",
          "output_type": "stream",
          "text": [
            "The passage does not provide enough information to know specifically what Paul Graham did in the summer of 1995. It mentions some activities like painting and looking for an apartment in New York, but does not say these occurred specifically in the summer of 1995.\n"
          ]
        }
      ],
      "source": [
        "print(response)"
      ]
    },
    {
      "cell_type": "code",
      "execution_count": null,
      "id": "48d8f1c6-ad3e-49fa-b365-a7404cc25f96",
      "metadata": {
        "id": "48d8f1c6-ad3e-49fa-b365-a7404cc25f96",
        "outputId": "f94b2ac6-d027-4d9c-c440-28e42a83cb1a"
      },
      "outputs": [
        {
          "name": "stdout",
          "output_type": "stream",
          "text": [
            "\u001b[38;5;200m\u001b[1;3mResponse:  You asked me \"what did Paul Graham do in the summer of 1995?\".\n",
            "\u001b[0m"
          ]
        }
      ],
      "source": [
        "response = chat_engine.chat(\"What did I ask you before?\")"
      ]
    },
    {
      "cell_type": "code",
      "execution_count": null,
      "id": "1d5c0588-ed90-4930-92d8-89d8830b120c",
      "metadata": {
        "id": "1d5c0588-ed90-4930-92d8-89d8830b120c",
        "outputId": "ba7a1c35-81f9-48b5-b874-e1d1945cfd73"
      },
      "outputs": [
        {
          "name": "stdout",
          "output_type": "stream",
          "text": [
            " You asked me \"what did Paul Graham do in the summer of 1995?\".\n"
          ]
        }
      ],
      "source": [
        "print(response)"
      ]
    },
    {
      "cell_type": "markdown",
      "id": "42c4a975-8034-447f-a5fe-1e71e59f02c0",
      "metadata": {
        "id": "42c4a975-8034-447f-a5fe-1e71e59f02c0"
      },
      "source": [
        "Reset chat engine"
      ]
    },
    {
      "cell_type": "code",
      "execution_count": null,
      "id": "c1326c7a-8056-47b9-924d-4a836a501312",
      "metadata": {
        "id": "c1326c7a-8056-47b9-924d-4a836a501312"
      },
      "outputs": [],
      "source": [
        "chat_engine.reset()"
      ]
    },
    {
      "cell_type": "code",
      "execution_count": null,
      "id": "365074a3-b9b3-4b73-a5a1-230267379175",
      "metadata": {
        "id": "365074a3-b9b3-4b73-a5a1-230267379175",
        "outputId": "84be6184-d92b-49a4-e2e1-40838d050d5d"
      },
      "outputs": [
        {
          "name": "stdout",
          "output_type": "stream",
          "text": [
            "\u001b[38;5;200m\u001b[1;3mResponse: I'm afraid I don't have any context about previous questions in our conversation. This seems to be the start of a new conversation between us.\n",
            "\u001b[0m"
          ]
        }
      ],
      "source": [
        "response = chat_engine.chat(\"What did I ask you before?\")"
      ]
    },
    {
      "cell_type": "code",
      "execution_count": null,
      "id": "37a387f8-4b90-4a73-9ffc-3960e6dbac5b",
      "metadata": {
        "id": "37a387f8-4b90-4a73-9ffc-3960e6dbac5b",
        "outputId": "6decb5b5-02dd-4c8d-a16b-fa2aa7484f60"
      },
      "outputs": [
        {
          "name": "stdout",
          "output_type": "stream",
          "text": [
            "I'm afraid I don't have any context about previous questions in our conversation. This seems to be the start of a new conversation between us.\n"
          ]
        }
      ],
      "source": [
        "print(response)"
      ]
    },
    {
      "cell_type": "code",
      "source": [],
      "metadata": {
        "id": "mfsaSA7um73M"
      },
      "id": "mfsaSA7um73M",
      "execution_count": null,
      "outputs": []
    }
  ],
  "metadata": {
    "kernelspec": {
      "display_name": "Python 3 (ipykernel)",
      "language": "python",
      "name": "python3"
    },
    "language_info": {
      "codemirror_mode": {
        "name": "ipython",
        "version": 3
      },
      "file_extension": ".py",
      "mimetype": "text/x-python",
      "name": "python",
      "nbconvert_exporter": "python",
      "pygments_lexer": "ipython3"
    },
    "colab": {
      "provenance": []
    }
  },
  "nbformat": 4,
  "nbformat_minor": 5
}