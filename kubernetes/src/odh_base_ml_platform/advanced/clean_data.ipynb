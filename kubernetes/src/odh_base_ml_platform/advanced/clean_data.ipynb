{
 "cells": [
  {
   "cell_type": "code",
   "execution_count": 95,
   "id": "944de949-d78a-4c5c-8592-e2542fa6d889",
   "metadata": {},
   "outputs": [],
   "source": [
    "import spark_util\n",
    "from pyspark.sql.functions import array, col, explode, struct, lit, approx_count_distinct, udf"
   ]
  },
  {
   "cell_type": "code",
   "execution_count": 96,
   "id": "3f0a60a1-fcab-48f6-ad7c-bb920704f1bb",
   "metadata": {},
   "outputs": [
    {
     "name": "stdout",
     "output_type": "stream",
     "text": [
      "Initializing environment variables for Spark\n",
      "Creating a spark session...\n",
      "Spark session created\n"
     ]
    },
    {
     "data": {
      "text/html": [
       "\n",
       "        <div>\n",
       "            <br/>\n",
       "            <p><b>Spark Context</b></p>\n",
       "            <dl>\n",
       "              <dt>Cluster Name</dt>\n",
       "                <dd><code>spark-cluster-mluser</code></dd>\n",
       "              <dt>Version</dt>\n",
       "                <dd><code>v3.0.1</code></dd>\n",
       "              <dt>Master</dt>\n",
       "                <dd><code>spark://spark-cluster-mluser:7077</code></dd>\n",
       "              <dt>App Id</dt>\n",
       "                <dd><code>app-20220312122229-0019</code></dd>\n",
       "              <dt>App Name</dt>\n",
       "                <dd><code>Clean flights data</code></dd>\n",
       "              <dt>Driver IP</dt>\n",
       "                <dd><code>172.17.0.4</code></dd>\n",
       "            </dl>\n",
       "        </div>\n",
       "    "
      ],
      "text/plain": [
       "<IPython.core.display.HTML object>"
      ]
     },
     "metadata": {},
     "output_type": "display_data"
    }
   ],
   "source": [
    "submit_args = \"--conf spark.hadoop.fs.s3a.endpoint=http://minio-ml-workshop:9000 \\\n",
    "--conf spark.hadoop.fs.s3a.access.key=minio \\\n",
    "--conf spark.hadoop.fs.s3a.secret.key=minio123 \\\n",
    "--conf spark.hadoop.fs.s3a.path.style.access=true \\\n",
    "--conf spark.hadoop.fs.s3a.impl=org.apache.hadoop.fs.s3a.S3AFileSystem \\\n",
    "--conf spark.hadoop.fs.s3a.multipart.size=104857600 \\\n",
    "--packages org.apache.hadoop:hadoop-aws:3.2.0\"\n",
    "\n",
    "spark = spark_util.getOrCreateSparkSession(\"Clean flights data\", submit_args)\n",
    "spark.sparkContext.setLogLevel(\"INFO\")"
   ]
  },
  {
   "cell_type": "code",
   "execution_count": 97,
   "id": "a01fa99b-8e5a-45d0-86b5-95ee72ec1ca4",
   "metadata": {},
   "outputs": [],
   "source": [
    "data_location = \"s3a://flights-data/flights/*.parquet\"\n",
    "df_flights = spark.read.parquet(data_location)\n",
    "#df_flights.printSchema()\n",
    "#df_flights.count()"
   ]
  },
  {
   "cell_type": "code",
   "execution_count": 98,
   "id": "3a238ac6-5461-468d-90ce-3596d79441c0",
   "metadata": {},
   "outputs": [],
   "source": [
    "df_clean = df_flights.drop(\"AL_IATA_CODE\", \"ORIG_IATA_CODE\", \"DEST_IATA_CODE\")\n",
    "#df_clean.printSchema()"
   ]
  },
  {
   "cell_type": "code",
   "execution_count": 99,
   "id": "389d3a50-1397-4282-8178-7f3d93bcb4a0",
   "metadata": {},
   "outputs": [],
   "source": [
    "df_distinct = df_clean.agg(*(approx_count_distinct(col(c)).alias(c) for c in df_clean.columns))\n",
    "\n",
    "cols, dtypes = zip(*((c, t) for (c, t) in df_distinct.dtypes))\n",
    "\n",
    "kvs = explode(array([\n",
    "      struct(lit(c).alias(\"column_name\"), col(c).alias(\"distinct_count\")) for c in cols\n",
    "    ])).alias(\"kvs\")\n",
    "\n",
    "distinct_count = df_distinct\\\n",
    "    .select([kvs]).select([\"kvs.column_name\", \"kvs.distinct_count\"])\n",
    "\n",
    "uni_value_fields = distinct_count.filter(distinct_count.distinct_count == 1)\n",
    "\n",
    "#uni_value_fields.show(50)"
   ]
  },
  {
   "cell_type": "code",
   "execution_count": 100,
   "id": "56c6d180-a886-4e7f-b3e0-f4d2791c0939",
   "metadata": {},
   "outputs": [],
   "source": [
    "col_names = [str(row.column_name) for row in uni_value_fields.select(\"column_name\").collect()]\n",
    "\n",
    "df_clean = df_clean.drop(*col_names)\n",
    "#df_clean.printSchema()"
   ]
  },
  {
   "cell_type": "code",
   "execution_count": 101,
   "id": "47a3eed4-263c-44c6-a2d6-3dec66188a26",
   "metadata": {},
   "outputs": [],
   "source": [
    "delay_threshold = 15\n",
    "\n",
    "\n",
    "@udf(\"integer\")\n",
    "def is_delayed(departure_delay, cancelled):\n",
    "    if(cancelled == 1):\n",
    "        return 0\n",
    "    if(departure_delay >= delay_threshold):\n",
    "        return 1\n",
    "    return 0\n",
    "\n",
    "\n",
    "df_clean = df_clean.withColumn(\"DELAYED\", is_delayed(df_clean.departure_delay, df_clean.cancelled))\n",
    "#df_clean.select(\"month\", \"day\", \"flight_number\", \"departure_delay\", \"cancelled\", \"DELAYED\").show(50)"
   ]
  },
  {
   "cell_type": "code",
   "execution_count": 102,
   "id": "490d4909-1f55-4b1e-ade5-2a69e9698476",
   "metadata": {},
   "outputs": [
    {
     "data": {
      "text/plain": [
       "5332914"
      ]
     },
     "execution_count": 102,
     "metadata": {},
     "output_type": "execute_result"
    }
   ],
   "source": [
    "output_location = \"s3a://flights-data/flights-clean\"\n",
    "df_clean.cache() #this is to make sure the DAG is not recalculated when we call the .count() later\n",
    "df_clean.write.mode(\"overwrite\")\\\n",
    "    .option(\"header\",\"true\")\\\n",
    "    .format(\"parquet\").save(output_location)\n",
    "\n",
    "df_clean.count()"
   ]
  },
  {
   "cell_type": "code",
   "execution_count": 103,
   "id": "ad2e9a6c-7e90-4743-8023-63b51cc65811",
   "metadata": {},
   "outputs": [],
   "source": [
    "spark.stop()"
   ]
  }
 ],
 "metadata": {
  "kernelspec": {
   "display_name": "Python 3",
   "language": "python",
   "name": "python3"
  },
  "language_info": {
   "codemirror_mode": {
    "name": "ipython",
    "version": 3
   },
   "file_extension": ".py",
   "mimetype": "text/x-python",
   "name": "python",
   "nbconvert_exporter": "python",
   "pygments_lexer": "ipython3",
   "version": "3.8.6"
  }
 },
 "nbformat": 4,
 "nbformat_minor": 5
}
