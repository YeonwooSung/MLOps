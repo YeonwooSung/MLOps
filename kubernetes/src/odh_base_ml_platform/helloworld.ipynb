{
 "cells": [
  {
   "cell_type": "markdown",
   "id": "ae809947",
   "metadata": {},
   "source": [
    "# A sample notebook hosted on the Kubernetes based ML Platform"
   ]
  },
  {
   "cell_type": "code",
   "execution_count": null,
   "id": "c7a5b1ad",
   "metadata": {},
   "outputs": [],
   "source": [
    "print(\"hello world\")"
   ]
  },
  {
   "cell_type": "code",
   "execution_count": null,
   "id": "1ddda3ed-dab9-448b-8c5c-cfe0d5845e32",
   "metadata": {},
   "outputs": [],
   "source": []
  }
 ],
 "metadata": {
  "kernelspec": {
   "display_name": "Python 3 (ipykernel)",
   "language": "python",
   "name": "python3"
  },
  "language_info": {
   "codemirror_mode": {
    "name": "ipython",
    "version": 3
   },
   "file_extension": ".py",
   "mimetype": "text/x-python",
   "name": "python",
   "nbconvert_exporter": "python",
   "pygments_lexer": "ipython3",
   "version": "3.8.6"
  }
 },
 "nbformat": 4,
 "nbformat_minor": 5
}
