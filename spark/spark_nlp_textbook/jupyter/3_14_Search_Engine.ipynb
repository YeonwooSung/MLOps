{
 "cells": [
  {
   "cell_type": "code",
   "execution_count": 1,
   "metadata": {
    "colab": {
     "base_uri": "https://localhost:8080/",
     "height": 212
    },
    "colab_type": "code",
    "id": "q_L2yBEUi5lN",
    "outputId": "1e401272-d92c-4415-dda0-59684cfb70f7"
   },
   "outputs": [],
   "source": [
    "import os\n",
    "\n",
    "if not os.path.exists('simplewiki-latest-pages-articles-multistream.xml.bz2'):\n",
    "    ! wget https://dumps.wikimedia.org/simplewiki/latest/simplewiki-latest-pages-articles-multistream.xml.bz2"
   ]
  },
  {
   "cell_type": "code",
   "execution_count": 2,
   "metadata": {},
   "outputs": [],
   "source": [
    "es_image = 'docker.elastic.co/elasticsearch/elasticsearch:7.4.2'\n",
    "es_c_name = 'spark-nlp-es'"
   ]
  },
  {
   "cell_type": "code",
   "execution_count": 3,
   "metadata": {},
   "outputs": [
    {
     "name": "stdout",
     "output_type": "stream",
     "text": [
      "7.4.2: Pulling from elasticsearch/elasticsearch\r\n",
      "Digest: sha256:ef0cdf17f8d00d8d90a7872b6672bc44283c6204e86bdf0067f93e9f637aad2a\r\n",
      "Status: Image is up to date for docker.elastic.co/elasticsearch/elasticsearch:7.4.2\r\n",
      "docker.elastic.co/elasticsearch/elasticsearch:7.4.2\r\n"
     ]
    }
   ],
   "source": [
    "! docker pull {es_image}"
   ]
  },
  {
   "cell_type": "code",
   "execution_count": 4,
   "metadata": {},
   "outputs": [
    {
     "name": "stdout",
     "output_type": "stream",
     "text": [
      "bffb5ac779df16a9e7148c21372f9999e6f91a588ef04a5b732134b2d670c95b\r\n"
     ]
    }
   ],
   "source": [
    "! docker run -d -p 9200:9200 -p 9300:9300 -e \"discovery.type=single-node\" --name {es_c_name} {es_image}"
   ]
  },
  {
   "cell_type": "markdown",
   "metadata": {
    "colab_type": "text",
    "id": "jTxFPhLPrmJh"
   },
   "source": [
    "# Search Engine\n",
    "  In building we discussed how to organize the knowledge we extract from text so that humans and expert systems can utilize it. Most people do not interact with data via graphs, though—especially text data. People generally want to search and retrieve the text. In #information_retrieval, we introduced the basic concepts of information retrieval. We learned how to process text as well as how to calculate TF.IDF. In this chapter, we will build an actual search application.\n",
    "\n",
    "The first thing we need to think about is what problem we are trying to solve. Rather than contrive a specific use case, let's try and build an application that others can use to solve specific tasks. We want to build a tool that users can use to create a customized search.\n",
    "\n",
    "We will need our application to do a few different things:\n",
    "\n",
    "1. Process text data\n",
    "2. Index the processed text\n",
    "3. Query the index\n",
    "4. Label search results to measure and improve the search experience\n",
    "\n",
    "We used fictional scenarios in Chapters sentiments and building. Let's see if we can make a tool that will actually be useful to us. We are the users here. This exercise will be useful because it is not uncommon that you will need to build tools for your own use."
   ]
  },
  {
   "cell_type": "markdown",
   "metadata": {
    "colab_type": "text",
    "id": "2ClRRAEYrmGQ"
   },
   "source": [
    "## Problem Statement and Constraints\n",
    "\n",
    "1. What is the problem we are trying to solve?\n",
    "\n",
    "We want to be able to build custom search engines that we can improve over time. We want this to be as reusable as possible. So we will want to build some abstractions into our application.\n",
    "\n",
    "2. What constraints are there?\n",
    "\n",
    "We will start with documents that have a title and text. Optionally, they can also contain other attributes—for example, categories, authors, and keywords. We want to be able to improve our search results without needing to re-index all the data. Also, we need to be able to label document-query pairs in order to improve our search engine.\n",
    "\n",
    "How do we solve the problem with the constraints?\n",
    "\n",
    "We need to consider multiple parts. First, we will process the text with Spark NLP and index it into Elasticsearch directly with Spark. We will build a special query that will utilize the fields of our documents. We will log the queries and the selection for each query.\n",
    "\n",
    "## Plan the Project\n",
    " \n",
    "We will break this into chunks like in our previous project. This project will rely on organizing multiple open source technologies.\n",
    "\n",
    "1. Build processing and indexing script (Spark NLP, Elasticsearch)\n",
    "2. Customize query function\n",
    "3. Label document-query pairs (doccano)\n",
    "\n",
    "For the first three steps, we will be using the Simple English Wikipedia data set. This is a good data set to use because it is not too large to work with on a personal machine, as the English Wikipedia would be. The benefit of using a wiki for this is that we will not require special knowledge to evaluate search results."
   ]
  },
  {
   "cell_type": "markdown",
   "metadata": {
    "colab_type": "text",
    "id": "XoLfB-5ormDM"
   },
   "source": [
    "## Design the Solution\n",
    " In any real-world scenario, the code for the first two parts would need to be customized. What we can do is separate out the specialized code. This will allow us to reutilize the tools more easily in the future.\n",
    "\n",
    "We will build an indexing script. First, this will parse and prepare the data for indexing. These are specialized steps that will need to be reimplemented for different data sources. The script will index the data. This is a more general piece of code. We will then build a query function that will allow the user to use different fields of the indexed documents in their query. Finally, we will look at labeling search results. The output of this can be used to improve the indexing script or to potentially implement a machine-learning–based ranker."
   ]
  },
  {
   "cell_type": "markdown",
   "metadata": {
    "colab_type": "text",
    "id": "4pUhW40NrmAU"
   },
   "source": [
    "## Implement the Solution\n",
    "\n",
    "Before beginning the implementation, follow the appropriate instructions for installing Elasticsearch. You  could also consider using the Elasticsearch Docker.\n",
    "\n",
    "Once Elasticsearch is running, we can start to load and process the text."
   ]
  },
  {
   "cell_type": "code",
   "execution_count": 5,
   "metadata": {
    "colab": {},
    "colab_type": "code",
    "id": "BKETw_9QdjDA"
   },
   "outputs": [],
   "source": [
    "import json\n",
    "import re\n",
    "import pandas as pd\n",
    "import requests\n",
    "import sparknlp\n",
    "\n",
    "from pyspark.ml import Pipeline\n",
    "from pyspark.sql import SparkSession, Row\n",
    "from pyspark.sql.functions import lit, col\n",
    "\n",
    "import sparknlp\n",
    "from sparknlp import DocumentAssembler, Finisher\n",
    "from sparknlp.annotator import *"
   ]
  },
  {
   "cell_type": "code",
   "execution_count": 6,
   "metadata": {
    "colab": {},
    "colab_type": "code",
    "id": "ez888ixNdk3s"
   },
   "outputs": [],
   "source": [
    "packages = [\n",
    "    'JohnSnowLabs:spark-nlp:2.5.1',\n",
    "    'com.databricks:spark-xml_2.11:0.6.0',\n",
    "    'org.elasticsearch:elasticsearch-spark-20_2.11:7.4.2'\n",
    "\n",
    "]\n",
    "\n",
    "spark = SparkSession.builder \\\n",
    "    .master(\"local[*]\") \\\n",
    "    .appName(\"Indexing\") \\\n",
    "    .config(\"spark.driver.memory\", \"12g\") \\\n",
    "    .config(\"spark.jars.packages\", ','.join(packages)) \\\n",
    "    .getOrCreate()"
   ]
  },
  {
   "cell_type": "markdown",
   "metadata": {
    "colab_type": "text",
    "id": "vqSsrs9orl89"
   },
   "source": [
    "Loading and parsing the data will need to be specialized for different data sets. We should make sure that the output contains at least a text field, and a title field. You can include other fields that can be used to augment the search. For example, you could add the categories to the data. This allows for faceted searching, which is another way to say that you are filtering your results based on them having some property or facet."
   ]
  },
  {
   "cell_type": "code",
   "execution_count": 7,
   "metadata": {
    "colab": {},
    "colab_type": "code",
    "id": "gxs8ah50doUb"
   },
   "outputs": [],
   "source": [
    "# Loading the data - this will need to be specialized\n",
    "df = spark.read\\\n",
    "    .format('xml')\\\n",
    "    .option(\"rootTag\", \"mediawiki\")\\\n",
    "    .option(\"rowTag\", \"page\")\\\n",
    "    .load(\"simplewiki-latest-pages-articles-multistream.xml.bz2\")\\\n",
    "    .repartition(200)\\\n",
    "    .persist()"
   ]
  },
  {
   "cell_type": "code",
   "execution_count": 8,
   "metadata": {
    "colab": {},
    "colab_type": "code",
    "id": "l7iB0rX7dp0L"
   },
   "outputs": [],
   "source": [
    "# Selecting the data - this will need to be specialized\n",
    "df = df.filter('redirect IS NULL').selectExpr(\n",
    "    'revision.text._VALUE AS text',\n",
    "    'title'\n",
    ").filter('text IS NOT NULL')\n",
    "# you must output a DataFrame that has a text field and a \n",
    "# title field"
   ]
  },
  {
   "cell_type": "markdown",
   "metadata": {
    "colab_type": "text",
    "id": "pD4j_AOlrl5z"
   },
   "source": [
    "Now that we have our data, let's use Spark NLP to process it. This is similar to how we've processed data previously."
   ]
  },
  {
   "cell_type": "code",
   "execution_count": 9,
   "metadata": {
    "colab": {
     "base_uri": "https://localhost:8080/",
     "height": 70
    },
    "colab_type": "code",
    "id": "wp74hJYwds8N",
    "outputId": "a7589b14-4bd3-4478-eee6-a92dac88acce"
   },
   "outputs": [
    {
     "name": "stdout",
     "output_type": "stream",
     "text": [
      "lemma_antbnc download started this may take some time.\n",
      "Approximate size to download 907.6 KB\n",
      "[OK!]\n"
     ]
    }
   ],
   "source": [
    "assembler = DocumentAssembler()\\\n",
    "    .setInputCol('text')\\\n",
    "    .setOutputCol('document')\n",
    "tokenizer = Tokenizer()\\\n",
    "    .setInputCols(['document'])\\\n",
    "    .setOutputCol('tokens')\n",
    "lemmatizer = LemmatizerModel.pretrained()\\\n",
    "    .setInputCols(['tokens'])\\\n",
    "    .setOutputCol('lemmas')\n",
    "normalizer = Normalizer()\\\n",
    "    .setCleanupPatterns([\n",
    "        '[^a-zA-Z.-]+', \n",
    "        '^[^a-zA-Z]+', \n",
    "        '[^a-zA-Z]+$',\n",
    "    ])\\\n",
    "    .setInputCols(['lemmas'])\\\n",
    "    .setOutputCol('normalized')\\\n",
    "    .setLowercase(True)\n",
    "finisher = Finisher()\\\n",
    "    .setInputCols(['normalized'])\\\n",
    "    .setOutputCols(['normalized'])\n",
    "\n",
    "nlp_pipeline = Pipeline().setStages([\n",
    "    assembler, tokenizer, \n",
    "    lemmatizer, normalizer, finisher\n",
    "]).fit(df)"
   ]
  },
  {
   "cell_type": "code",
   "execution_count": 10,
   "metadata": {
    "colab": {},
    "colab_type": "code",
    "id": "bhYfo1IYdudb"
   },
   "outputs": [],
   "source": [
    "processed = nlp_pipeline.transform(df)"
   ]
  },
  {
   "cell_type": "markdown",
   "metadata": {
    "colab_type": "text",
    "id": "1TZPXi8Zrl2n"
   },
   "source": [
    "Now, let's select the fields we are interested in. We will be indexing the text, the title, and the normalized data. We want to store the actual text so that we can show it to the user. This may not always be the case, however.  In federated search, you are combining data stored in different indices, and perhaps in other kinds of data stores, and searching it all at once. In federated search, you do not want to copy the data you will serve. Depending on how you are combining the search across data stores, you may need to copy some processed form of data. In this case, everything will be in Elasticsearch. We will search the title text and the normalized text. Think of these fields as helping with two different metrics. If a query matches a title, it is very likely a relevant document, but there are many queries for which the document is relevant that will not match with the title. Searching the normalized text will improve recall, but we still want title matches to affect the ranking more."
   ]
  },
  {
   "cell_type": "code",
   "execution_count": 11,
   "metadata": {
    "colab": {},
    "colab_type": "code",
    "id": "tp6YQ9PhdxeL"
   },
   "outputs": [],
   "source": [
    "processed = processed.selectExpr(\n",
    "    'text',\n",
    "    'title',\n",
    "    'array_join(normalized, \" \") AS normalized'\n",
    ").persist()"
   ]
  },
  {
   "cell_type": "markdown",
   "metadata": {
    "colab_type": "text",
    "id": "K21C977zrlzU"
   },
   "source": [
    "Now we can index the `DataFrame` as is. We will pass the data directly to Elasticsearch. There are many options when creating an Elasticsearch index, so you should check out the [API for Elasticsearch](https://www.elastic.co/guide/en/elasticsearch/reference/current/rest-apis.html)."
   ]
  },
  {
   "cell_type": "code",
   "execution_count": 13,
   "metadata": {
    "colab": {},
    "colab_type": "code",
    "id": "6C4WutzWd_jk"
   },
   "outputs": [],
   "source": [
    "processed.write\\\n",
    "    .format('org.elasticsearch.spark.sql')\\\n",
    "    .option('es.port', '9200')\\\n",
    "    .option('es.nodes.wan.only', 'true')\\\n",
    "    .option('es.nodes', 'localhost')\\\n",
    "    .mode(\"Overwrite\")\\\n",
    "    .save('simpleenglish')"
   ]
  },
  {
   "cell_type": "markdown",
   "metadata": {
    "colab_type": "text",
    "id": "NxzEHafgrlwK"
   },
   "source": [
    "We can check what indices are available with the following cURL command."
   ]
  },
  {
   "cell_type": "code",
   "execution_count": 14,
   "metadata": {
    "colab": {},
    "colab_type": "code",
    "id": "lGdwLJzWePqM"
   },
   "outputs": [
    {
     "name": "stdout",
     "output_type": "stream",
     "text": [
      "health status index         uuid                   pri rep docs.count docs.deleted store.size pri.store.size\r\n",
      "yellow open   simpleenglish sy2ZG1MVSfKpaixKuzFTwQ   1   1     245126            0    999.1mb        999.1mb\r\n"
     ]
    }
   ],
   "source": [
    "! curl \"http://localhost:9200/_cat/indices?v\""
   ]
  },
  {
   "cell_type": "markdown",
   "metadata": {
    "colab_type": "text",
    "id": "4zNjphocrlp7"
   },
   "source": [
    "It looks like everything is there. We can now query the index using the REST API. In order to query our index, we need to choose which fields we'll query. Notice the fields that we list. The initial weights of the fields are guessed. As we learn how our users query the data, we can tune the weights."
   ]
  },
  {
   "cell_type": "code",
   "execution_count": 17,
   "metadata": {
    "colab": {},
    "colab_type": "code",
    "id": "GAXb13yNecva",
    "scrolled": true
   },
   "outputs": [
    {
     "data": {
      "text/plain": [
       "{'_shards': {'failed': 0, 'skipped': 0, 'successful': 1, 'total': 1},\n",
       " 'hits': {'hits': [{'_id': 'B7QHm3MBmFa6oGl1nYWj',\n",
       "    '_index': 'simpleenglish',\n",
       "    '_score': 55.89212,\n",
       "    '_source': {'title': 'Data'},\n",
       "    '_type': '_doc'},\n",
       "   {'_id': 's7QHm3MBmFa6oGl1sZgy',\n",
       "    '_index': 'simpleenglish',\n",
       "    '_score': 46.566933,\n",
       "    '_source': {'title': 'Template:Cycling data'},\n",
       "    '_type': '_doc'},\n",
       "   {'_id': 'frIFm3MBmFa6oGl1-73m',\n",
       "    '_index': 'simpleenglish',\n",
       "    '_score': 46.566933,\n",
       "    '_source': {'title': 'Template:NUMBEROF/data'},\n",
       "    '_type': '_doc'},\n",
       "   {'_id': '4bIFm3MBmFa6oGl17qz6',\n",
       "    '_index': 'simpleenglish',\n",
       "    '_score': 46.566933,\n",
       "    '_source': {'title': 'Data compression'},\n",
       "    '_type': '_doc'},\n",
       "   {'_id': 'Z7MGm3MBmFa6oGl1QAl7',\n",
       "    '_index': 'simpleenglish',\n",
       "    '_score': 46.566933,\n",
       "    '_source': {'title': 'Data integrity'},\n",
       "    '_type': '_doc'},\n",
       "   {'_id': '-7MGm3MBmFa6oGl18dGR',\n",
       "    '_index': 'simpleenglish',\n",
       "    '_score': 46.566933,\n",
       "    '_source': {'title': 'Template:Iso2country/data'},\n",
       "    '_type': '_doc'},\n",
       "   {'_id': 'wLMGm3MBmFa6oGl127gk',\n",
       "    '_index': 'simpleenglish',\n",
       "    '_score': 46.566933,\n",
       "    '_source': {'title': 'Data matrix'},\n",
       "    '_type': '_doc'},\n",
       "   {'_id': 'vrMGm3MBmFa6oGl18tSJ',\n",
       "    '_index': 'simpleenglish',\n",
       "    '_score': 46.566933,\n",
       "    '_source': {'title': 'Data science'},\n",
       "    '_type': '_doc'},\n",
       "   {'_id': '3rQHm3MBmFa6oGl1oYri',\n",
       "    '_index': 'simpleenglish',\n",
       "    '_score': 46.566933,\n",
       "    '_source': {'title': 'Template:Flag data'},\n",
       "    '_type': '_doc'},\n",
       "   {'_id': 'PLQHm3MBmFa6oGl1wabi',\n",
       "    '_index': 'simpleenglish',\n",
       "    '_score': 46.566933,\n",
       "    '_source': {'title': 'Module:Convert/data'},\n",
       "    '_type': '_doc'}],\n",
       "  'max_score': 55.89212,\n",
       "  'total': {'relation': 'eq', 'value': 9823}},\n",
       " 'timed_out': False,\n",
       " 'took': 166}"
      ]
     },
     "execution_count": 17,
     "metadata": {},
     "output_type": "execute_result"
    }
   ],
   "source": [
    "headers = {\n",
    "    'Content-Type': 'application/json',\n",
    "}\n",
    "\n",
    "params = (\n",
    "    ('pretty', ''),\n",
    ")\n",
    "\n",
    "data = {\n",
    "    \"_source\": ['title'],\n",
    "    \"query\": { \n",
    "        \"multi_match\": {\n",
    "            \"query\": \"data\",\n",
    "            \"fields\": [\"normalized^1\", \"title^10\"]\n",
    "        },\n",
    "    }\n",
    "}\n",
    "\n",
    "response = requests.post(\n",
    "    'http://localhost:9200/simpleenglish/_search', \n",
    "    headers=headers, params=params, data=json.dumps(data))\n",
    "\n",
    "response.json()"
   ]
  },
  {
   "cell_type": "markdown",
   "metadata": {
    "colab_type": "text",
    "id": "13EIBiEvrlnA"
   },
   "source": [
    "Now, let's build our query function. The fields argument is expected to be a list of tuples of field names and boosts.  Boosts are essentially weights that are applied to the scores returned from the index for different fields."
   ]
  },
  {
   "cell_type": "code",
   "execution_count": 21,
   "metadata": {
    "colab": {},
    "colab_type": "code",
    "id": "4ksR1iB0hoKu"
   },
   "outputs": [],
   "source": [
    "def query_index(query, fields=None, size=10):\n",
    "    data = spark.createDataFrame([(query,)], ('text',))\n",
    "    row = nlp_pipeline.transform(data).first()\n",
    "    query = row['normalized'][0]\n",
    "\n",
    "    if fields is None:\n",
    "        fields = [('normalized', 1), ('title', 10)]\n",
    "        \n",
    "    headers = {\n",
    "    'Content-Type': 'application/json',\n",
    "    }\n",
    "    params = (\n",
    "        ('pretty', ''), ('size', size)\n",
    "    )\n",
    "    data = {\n",
    "        \"_source\": ['title'],\n",
    "        \"query\": { \n",
    "            \"multi_match\": {\n",
    "                \"query\": query,\n",
    "                \"fields\": ['{}^{}'.format(f, b) for f, b in fields]\n",
    "            },\n",
    "        }\n",
    "    }\n",
    "    response = requests.post(\n",
    "        'http://localhost:9200/simpleenglish/_search', \n",
    "        headers=headers, params=params, \n",
    "        data=json.dumps(data)).json()\n",
    "    \n",
    "    return [(r['_source']['title'], r['_score']) \n",
    "            for r in response['hits']['hits']]"
   ]
  },
  {
   "cell_type": "markdown",
   "metadata": {
    "colab_type": "text",
    "id": "ION2lkz5rlj9"
   },
   "source": [
    "Now let's build our set, which we will label. Let's query the index for \"Language.\""
   ]
  },
  {
   "cell_type": "code",
   "execution_count": 22,
   "metadata": {
    "colab": {},
    "colab_type": "code",
    "id": "_tzYidE7hsaY"
   },
   "outputs": [
    {
     "data": {
      "text/plain": [
       "[('Language', 72.670784),\n",
       " ('Georgian language', 60.5462),\n",
       " ('Shina language', 60.5462),\n",
       " ('Category:Spanish language', 60.5462),\n",
       " ('Sikkimese language', 60.5462),\n",
       " ('Aromanian language', 60.5462),\n",
       " ('Tagalog language', 60.5462),\n",
       " ('Galician language', 60.5462),\n",
       " ('Pashto language', 60.5462),\n",
       " ('Burushaski language', 60.5462),\n",
       " ('Cuiba language', 60.5462),\n",
       " ('Beary language', 60.5462),\n",
       " ('Gallo language', 60.5462)]"
      ]
     },
     "execution_count": 22,
     "metadata": {},
     "output_type": "execute_result"
    }
   ],
   "source": [
    "language_query_results = query_index('Language', size=13)\n",
    "language_query_results"
   ]
  },
  {
   "cell_type": "markdown",
   "metadata": {
    "colab_type": "text",
    "id": "Zvsj4KhkrleI"
   },
   "source": [
    "Returning articles about actual languages is a very reasonable result for the query \"Language.\"\n",
    "\n",
    "We will need to make sure that we export the information necessary for our labeling, namely title and text. If your data has extra fields that you think will be relevant to judgments, you should modify the exported fields to include them. We will be creating documents for labeling. These documents will contain the query, the title, the score, and the text."
   ]
  },
  {
   "cell_type": "code",
   "execution_count": 23,
   "metadata": {
    "colab": {},
    "colab_type": "code",
    "id": "hXzCV_qYimk-"
   },
   "outputs": [],
   "source": [
    "language_query_df = spark.createDataFrame(\n",
    "    language_query_results, ['title', 'score'])\n",
    "\n",
    "docs = df.join(language_query_df, ['title'])\n",
    "\n",
    "docs = docs.collect()\n",
    "docs = [r.asDict() for r in docs]\n",
    "\n",
    "with open('lang_query_results.json', 'w') as out:\n",
    "    for doc in docs:\n",
    "        text = 'Query: Language\\n'\n",
    "        text += '=' * 50 + '\\n'\n",
    "        text += 'Title: {}'.format(doc['title']) + '\\n'\n",
    "        text += '=' * 50 + '\\n'\n",
    "        text += 'Score: {}'.format(doc['score']) + '\\n'\n",
    "        text += '=' * 50 + '\\n'\n",
    "        text += doc['text']\n",
    "        line = json.dumps({'text': text})\n",
    "        out.write(line + '\\n')"
   ]
  },
  {
   "cell_type": "code",
   "execution_count": 24,
   "metadata": {},
   "outputs": [
    {
     "name": "stdout",
     "output_type": "stream",
     "text": [
      "spark-nlp-es\n",
      "spark-nlp-es\n"
     ]
    }
   ],
   "source": [
    "# ! docker stop {es_c_name}\n",
    "# ! docker rm {es_c_name}"
   ]
  },
  {
   "cell_type": "markdown",
   "metadata": {
    "colab_type": "text",
    "id": "HweQQ3UzrlbK"
   },
   "source": [
    "Now that we have created the data we will need to label, let's start using doccano.  Doccano is a tool built to help in NLP labeling. It allows for document classification labeling (for tasks like sentiment analysis), segment labeling (for tasks like NER), and sequence-to-sequence labeling (for tasks like machine translation). You can set up this service locally or launch it in a docker. Let's look at launching it in a docker.\n",
    "\n",
    "First, we will pull the image.\n",
    "\n",
    "```\n",
    "docker pull chakkiworks/doccano\n",
    "```\n",
    "\n",
    "Next, we will run a container.\n",
    "\n",
    "```\n",
    "docker run -d --rm --name doccano \\\n",
    "  -e \"ADMIN_USERNAME=admin\" \\\n",
    "  -e \"ADMIN_EMAIL=admin@example.com\" \\\n",
    "  -e \"ADMIN_PASSWORD=password\" \\\n",
    "  -p 8000:8000 chakkiworks/doccano\n",
    "```\n",
    "\n",
    "If you plan on using doccano to have other people label, you should consider changing the admin credentials.\n",
    "\n",
    "Once you have started the container, go to localhost:8000 (or whichever port you chose if you modified the -p argument). You should see the page like in the image below.\n",
    "\n",
    "![Doccano landing page](https://i.imgur.com/IJrgm7s.png)  \n",
    "_Doccano landing page_"
   ]
  },
  {
   "cell_type": "markdown",
   "metadata": {
    "colab_type": "text",
    "id": "S_mV-FFErlX3"
   },
   "source": [
    "Click on the login and use the credentials from the docker run command. Then click \"Create Project.\" Here the project fields are filled out.\n",
    "\n",
    "![Creating a project in doccano](https://i.imgur.com/n3F43A6.png)  \n",
    "_Creating a project in doccano_\n",
    "\n",
    "Next, click on \"Select a file\", and navigate to the location `lang_query_results`.json created previously. This will add the documents for labeling to the project.\n",
    "\n",
    "After this, click on \"Labels,\" and click \"New label.\" I added three, \"relevant,\" \"partially relevant,\" and \"not relevant.\" In the underlying data, these labels will be represented by the order in which you created them. For example, if you created \"relevant,\" \"partially relevant,\" and \"not relevant\" their representation will be 1, 2, 3, respectively.\n",
    "\n",
    "I think it is a good idea to write guidelines for labeling tasks, even if you are the one doing the labeling. This will help you think about how you want your data labeled. Figuring it out as you go can lead to inconsistencies.\n",
    "\n",
    "This is an example of the guidelines I created for this example task.\n",
    "\n",
    "![Guidelines in doccano](https://i.imgur.com/mkw44py.png)  \n",
    "_Guidelines in doccano_\n",
    "\n",
    "Now we are ready to begin labeling. Click on \"Annotate Data,\" and begin labeling. This is a screenshot of the labeling page.\n",
    "\n",
    "![Doccano labeling](https://i.imgur.com/rZF2gB2.png)  \n",
    "_Doccano labeling_\n",
    "\n",
    "Once you are finished, you can click on \"Edit Data,\" which will take you back to the project page. From here, you can export the data by clicking \"Export Data.\"  You can export as JSON lines or as CSV. We won't be using this data, however, because labeling enough query-document pairs to improve the ranking would take some time. \n"
   ]
  },
  {
   "cell_type": "markdown",
   "metadata": {
    "colab_type": "text",
    "id": "I1n3314OrlU9"
   },
   "source": [
    "## Test and Measure the Solution\n",
    " \n",
    "Now that we have created an index and have looked at how we can use doccano to label, we can talk about how we can measure our solution. This is a different scenario than most applications, since this tool will be used for organizing and retrieving documents for us—we are the customers.\n",
    "\n",
    "### Business Metrics\n",
    " When you are building applications for yourself, the notion of \"business\" metrics is pointless. What you want is to be happy with your own product. So let's go straight to measuring our model of the data.\n",
    "\n",
    "### Model-Centric Metrics\n",
    " When measuring an index, there are many possible metrics. Primarily, we want the best ranking. One way to measure ranking is through recall and precision, which is similar to binary classification problems. The problem is that if we return a hundred documents, recall and precision will not tell us about the order they are in. For that, we need ranking metrics.    One of the most popular kinds of metrics is Normalized Discounted Cumulative Gain (NDCG). To explain this, we need to build to it.  First, let's define gain. In this context, the gain is the information in the text. We use the relevancy of the document as gain. Cumulative gain is the sum of the gain up to a chosen cutoff. Up until this point there is nothing about rank, so we discount the gain the more we descend the list. We will need to reduce the gain using the rank. We use the logarithm of the rank so that the discount more strongly separates the items early in the list than those later in the list. The last part is the normalization. It is much easier to report a metric if it is between 0 and 1. So we need to determine the ideal discounted cumulative gain. If you cannot calculate it directly, you can estimate it assuming that all documents above the cutoff are relevant. Now let's look at the actual metric.\n",
    "\n",
    "\\begin{equation} \n",
    "\\begin{aligned} \n",
    "K &= \\text{the chosen cutoff; usual cutoffs are}\\ 5, 10, 50\\\\ \n",
    "r_i &= \\text{the relevance of the}\\ i^{th}\\ \\text{document}\\\\ \n",
    "CG_K &= \\sum^{K}_{i=1}{r_i}\\\\ \n",
    "DCG_K &= \\sum^{K}_{i=1}{\\frac{r_i}{log_2{(i+1)}}}\\\\ \n",
    "IDCG_K &= \\sum^{K}_{i=1}{\\frac{max{(r)}}{log_2{(i+1)}}}\\\\\n",
    "NDCG_K &= \\frac{DCG}{IDCG} \n",
    "\\end{aligned}\n",
    "\\end{equation}\n",
    "\n",
    "Now, we can quantify how well our index works. Even if you are building a tool for yourself, it is important to quantify the quality of data-driven applications. Humans are the ultimate source of truth, but we are also fickle and moody. Using metrics can help make our evaluations dependable."
   ]
  },
  {
   "cell_type": "markdown",
   "metadata": {
    "colab_type": "text",
    "id": "FgIcgXwjrlSI"
   },
   "source": [
    "## Review\n",
    " When you are working on your own, reviewing is more difficult. If you have someone who is willing to help you review the work, they can provide a vital outside perspective. You want to value the time of your volunteer, so you should prepare a demo. More in-depth reviews are a more onerous request, so you can't depend on being able to get a code review from a volunteer.\n",
    "\n",
    "So how can we check for quality without assistance? We must put more effort into testing and documentation. This creates another problem—the increased effort in pursuit of quality can cause you to lose steam. This means that you should use such projects as an opportunity to set reasonable goals and milestones."
   ]
  },
  {
   "cell_type": "markdown",
   "metadata": {
    "colab_type": "text",
    "id": "rQSNpcrprlPM"
   },
   "source": [
    "## Conclusion\n",
    "Information retrieval is a rich field of study. This chapter can serve as a starting point for you to delve into that field. The other important thing emphasized in this chapter is the value of projects built for yourself. In data science, it is often hard to find a professional opportunity to learn a new technique. Building a project for your own purpose can be a great opportunity to expand your collection of skills.\n",
    "\n",
    "In the following chapter, we will learn about building a model that works interactively with the user.  "
   ]
  }
 ],
 "metadata": {
  "colab": {
   "authorship_tag": "ABX9TyO9Cge+OaPAkv080OytB/WD",
   "include_colab_link": true,
   "name": "3.14_Search Engine.ipynb",
   "provenance": []
  },
  "kernelspec": {
   "display_name": "Python 3",
   "language": "python",
   "name": "python3"
  },
  "language_info": {
   "codemirror_mode": {
    "name": "ipython",
    "version": 3
   },
   "file_extension": ".py",
   "mimetype": "text/x-python",
   "name": "python",
   "nbconvert_exporter": "python",
   "pygments_lexer": "ipython3",
   "version": "3.6.9"
  }
 },
 "nbformat": 4,
 "nbformat_minor": 1
}
