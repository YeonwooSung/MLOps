{
  "nbformat": 4,
  "nbformat_minor": 0,
  "metadata": {
    "colab": {
      "name": "2.8_Sequence_Modeling_with_Keras.ipynb",
      "provenance": [],
      "authorship_tag": "ABX9TyMx7E+3blXlQHdEuOYq0w3M",
      "include_colab_link": true
    },
    "kernelspec": {
      "name": "python3",
      "display_name": "Python 3"
    }
  },
  "cells": [
    {
      "cell_type": "markdown",
      "metadata": {
        "id": "view-in-github",
        "colab_type": "text"
      },
      "source": [
        "<a href=\"https://colab.research.google.com/github/alexander-n-thomas/spark-nlp-book-prod/blob/master/2_8_Sequence_Modeling_with_Keras.ipynb\" target=\"_parent\"><img src=\"https://colab.research.google.com/assets/colab-badge.svg\" alt=\"Open In Colab\"/></a>"
      ]
    },
    {
      "cell_type": "code",
      "metadata": {
        "id": "jQsIZASQMB5N",
        "colab_type": "code",
        "colab": {
          "base_uri": "https://localhost:8080/",
          "height": 390
        },
        "outputId": "5ca43192-0b7b-4568-8b54-a99168d37c25"
      },
      "source": [
        "import os\n",
        "\n",
        "# Install java\n",
        "! apt-get install -y openjdk-8-jdk-headless -qq > /dev/null\n",
        "os.environ[\"JAVA_HOME\"] = \"/usr/lib/jvm/java-8-openjdk-amd64\"\n",
        "os.environ[\"PATH\"] = os.environ[\"JAVA_HOME\"] + \"/bin:\" + os.environ[\"PATH\"]\n",
        "! java -version\n",
        "\n",
        "# Install pyspark\n",
        "! pip install --ignore-installed pyspark==2.4.4\n",
        "\n",
        "# Install Spark NLP\n",
        "! pip install --ignore-installed spark-nlp==2.5.1"
      ],
      "execution_count": 1,
      "outputs": [
        {
          "output_type": "stream",
          "text": [
            "openjdk version \"1.8.0_252\"\n",
            "OpenJDK Runtime Environment (build 1.8.0_252-8u252-b09-1~18.04-b09)\n",
            "OpenJDK 64-Bit Server VM (build 25.252-b09, mixed mode)\n",
            "Collecting pyspark==2.4.4\n",
            "\u001b[?25l  Downloading https://files.pythonhosted.org/packages/87/21/f05c186f4ddb01d15d0ddc36ef4b7e3cedbeb6412274a41f26b55a650ee5/pyspark-2.4.4.tar.gz (215.7MB)\n",
            "\u001b[K     |████████████████████████████████| 215.7MB 49kB/s \n",
            "\u001b[?25hCollecting py4j==0.10.7\n",
            "\u001b[?25l  Downloading https://files.pythonhosted.org/packages/e3/53/c737818eb9a7dc32a7cd4f1396e787bd94200c3997c72c1dbe028587bd76/py4j-0.10.7-py2.py3-none-any.whl (197kB)\n",
            "\u001b[K     |████████████████████████████████| 204kB 41.5MB/s \n",
            "\u001b[?25hBuilding wheels for collected packages: pyspark\n",
            "  Building wheel for pyspark (setup.py) ... \u001b[?25l\u001b[?25hdone\n",
            "  Created wheel for pyspark: filename=pyspark-2.4.4-py2.py3-none-any.whl size=216130388 sha256=343598073dbc50d4a575ae548fbdc5354bdb99f3e533c51795577aea6e9b350d\n",
            "  Stored in directory: /root/.cache/pip/wheels/ab/09/4d/0d184230058e654eb1b04467dbc1292f00eaa186544604b471\n",
            "Successfully built pyspark\n",
            "Installing collected packages: py4j, pyspark\n",
            "Successfully installed py4j-0.10.7 pyspark-2.4.4\n",
            "Collecting spark-nlp==2.5.1\n",
            "\u001b[?25l  Downloading https://files.pythonhosted.org/packages/df/b4/db653f8080a446de8ce981b262d85c85c61de7e920930726da0d1c6b4c65/spark_nlp-2.5.1-py2.py3-none-any.whl (121kB)\n",
            "\u001b[K     |████████████████████████████████| 122kB 8.4MB/s \n",
            "\u001b[?25hInstalling collected packages: spark-nlp\n",
            "Successfully installed spark-nlp-2.5.1\n"
          ],
          "name": "stdout"
        }
      ]
    },
    {
      "cell_type": "code",
      "metadata": {
        "id": "tcCdCQRANj86",
        "colab_type": "code",
        "colab": {
          "base_uri": "https://localhost:8080/",
          "height": 70
        },
        "outputId": "a376f171-697b-484f-bae5-513c6a3f7c19"
      },
      "source": [
        "import nltk\n",
        "\n",
        "nltk.download('brown')"
      ],
      "execution_count": 15,
      "outputs": [
        {
          "output_type": "stream",
          "text": [
            "[nltk_data] Downloading package brown to /root/nltk_data...\n",
            "[nltk_data]   Unzipping corpora/brown.zip.\n"
          ],
          "name": "stdout"
        },
        {
          "output_type": "execute_result",
          "data": {
            "text/plain": [
              "True"
            ]
          },
          "metadata": {
            "tags": []
          },
          "execution_count": 15
        }
      ]
    },
    {
      "cell_type": "markdown",
      "metadata": {
        "id": "E1jRKxbKMJmV",
        "colab_type": "text"
      },
      "source": [
        "# Sequence Modeling with Keras\n",
        "\n",
        "So far, we have looked at documents as bags-of-words. This is a common, easily achievable approach for many NLP tasks. However, this approach produces a low-fidelity model of language. The order of words is essential to the encoding and decoding of meaning in language, and to incorporate this, we will need to model sequences.\n",
        "\n",
        "When people refer to sequences in a machine learning context, they are generally talking about sequences of data in which data points are not independent of the data points around them. We can still use features derived from the data point, as with general machine learning, but now we can also use the data and labels from the nearby data points. For example, if we are trying to determine if the token \"produce\" is being used as a noun or verb, knowing what words are around it will be very informative. If the token before it is \"might,\" that indicates \"produce\" is a verb. If \"the\" is the preceding token, that indicates it is a noun. These other words give us context.\n",
        "\n",
        "What if \"to\" precedes \"produce\"? That could still indicate either a noun or a verb. We need to look back further.  This gives us the concept of windows—the amount of context we want to capture. Many algorithms have a fixed amount of context that is decided as a hyperparameter. There are some algorithms, for example LSTMs, that can learn how long to remember the context.\n",
        "\n",
        "Sequence problems come from different domains, and in different data formats. In this book we are working with text data, which is a sequence of characters, or words, or even messages. Working with voice data is inherently a sequence problem. Economics, physics, and medicine also have many sequence problems. The statistics and behavior of this data is generally very different among these disparate fields, but there are many techniques in common.\n",
        "\n",
        "One of the common techniques used for sequence modeling is a family of machine learning algorithms called graphical models. Graphical models can be used to model probabilistic structures. This is what allows us to capture context. When building the graphical models, we have to decide how much context to capture. How much context we want to capture is based on the specifics of the problem. There are also models that let us learn how much context to use. The algorithm needed to learn a graphical model differs depending on the model chosen. Some can be learned with gradient descent; others have their own learning algorithms.\n",
        "\n",
        "In this chapter, we will go over some of the popular algorithms for learning sequences, such as hidden Markov models, conditional random fields, and recurrent neural networks. Let's start out with sentence segmentation and hidden Markov models."
      ]
    },
    {
      "cell_type": "markdown",
      "metadata": {
        "id": "JCHE-uOBMJ0K",
        "colab_type": "text"
      },
      "source": [
        "## Sentence Segmentation\n",
        "\n",
        "One of the   first sequence-modeling problems most learn is the sentence-boundary detection, or SBD problem, in which we want to determine where a sentence boundary is. This seems like a problem that could be solved by a regular expression. We can simply say that every \".\", \"?\", and \"!\" are sentence boundaries. We can add something to check for acronyms—perhaps we can check if the previous character is capitalized and the character after the next whitespace is not. This will still miss some situations with acronyms—for example, two acronyms following each other like \"U.S. D.O.S.\"\n",
        "\n",
        "What if our text is not so regularly formatted? If our text has many lists, as is common in technical communications, there may not be sentence-ending punctuation at the end of each item. However, we don't want to call all the items in a list the same sentence. We could make more and more complicated regular expressions, or we could build a model.\n",
        "\n",
        "There are some pros and cons to help us in deciding when to use a regular expression for SBD and when to use a model. Using a regular expression is easy to do, if you ignore some exceptions. If you are in a situation where using a model on text will be difficult, it is best to just use a regular expression. On the other hand, SBD models are somewhat generalizable. That being said, if you use an SBD model built on newspapers to process clinical text, it will produce more errors than you would expect."
      ]
    },
    {
      "cell_type": "markdown",
      "metadata": {
        "id": "AX1XAtgcMJ71",
        "colab_type": "text"
      },
      "source": [
        "## (Hidden) Markov Models\n",
        "  Hidden Markov model, or HMM is a popular model for dealing with sequence data. To understand it, we need to discuss Markov models and the Markov property.\n",
        "\n",
        "  The Markov property relates to a stochastic (random) process. In a stochastic process, a random variable for time $t$, $X_t$, can be dependent on all previous variables in the sequence, $X_{t-1},X_{t-2},...,X_0$. If $X_t$ is only dependent on the previous variable, $X_{t-1}$, then we say it has the Markov property. This simplifies problems greatly. This is an unrealistic assumption in language. However, like we saw in the previous chapter with independence assumptions of naïve Bayes and logistic regression, unrealistic assumptions don't necessarily produce a bad model. We can also ease the Markov property and say that  is dependent on the last $X_t$ variables.\n",
        "\n",
        "We can also use the relationship between the sequence we wish to model and an observable sequence. Now we can estimate the probability of a particular state as:\n",
        "\n",
        "\\begin{equation}\n",
        "P[y_{i} = k | x_{i} = c] \\approx P[y_{i} = k | y_{i-1} = k'] \\cdot P[y_{i-1} = k'] \\cdot P[x_{i} = c | y_{i} = k]\n",
        "\\end{equation}\n",
        "\n",
        "We can calculate the transition probability $P[y_{i} = k | y_{i-1} = k']$, the initial probability $P[y_0 = k]$, and the emission probability $P[x_{i} = c | y_{i} = k]$ directly from the data if we have labels. Once we have this, how do we predict the hidden states, $y_i$? We use the Viterbi algorithm.\n",
        "\n",
        "Let's look at an example. We will be using the Brown corpus available with NLTK."
      ]
    },
    {
      "cell_type": "code",
      "metadata": {
        "id": "lQXNDcJWNCLR",
        "colab_type": "code",
        "colab": {}
      },
      "source": [
        "from collections import defaultdict, Counter\n",
        "\n",
        "import numpy as np\n",
        "import pandas as pd\n",
        "\n",
        "import sparknlp\n",
        "\n",
        "spark = sparknlp.start()\n",
        "\n",
        "from nltk.corpus import brown\n",
        "sentences = brown.sents()"
      ],
      "execution_count": 16,
      "outputs": []
    },
    {
      "cell_type": "markdown",
      "metadata": {
        "id": "Ofxz89hoMKCh",
        "colab_type": "text"
      },
      "source": [
        "The corpus is already split into sentences, so we will have to detokenize the data in order to get training data. Fortunately, this also provides us with labels. We will label the last character of a sentence with `E`, and everything else will be labeled `S`."
      ]
    },
    {
      "cell_type": "code",
      "metadata": {
        "id": "aHLT8Vj0NIAE",
        "colab_type": "code",
        "colab": {}
      },
      "source": [
        "def detokenize(sentence):\n",
        "    text = ''\n",
        "    for token in sentence:\n",
        "        if text and any(c.isalnum() for c in token):\n",
        "            text += ' '\n",
        "        text += token\n",
        "    return text"
      ],
      "execution_count": 17,
      "outputs": []
    },
    {
      "cell_type": "code",
      "metadata": {
        "id": "dxdprFGtNJoB",
        "colab_type": "code",
        "colab": {}
      },
      "source": [
        "word_counts = Counter()\n",
        "raw = []\n",
        "labels = []\n",
        "for fid in brown.fileids():\n",
        "        sentences = brown.sents(fid)\n",
        "        word_counts.update(\n",
        "            [t for s in sentences for t in s if t.isalpha()])\n",
        "        sentences = [detokenize(s) for s in sentences]\n",
        "        raw.append(' '.join(sentences))\n",
        "        labels.append('S'.join([\n",
        "            ('S' * (len(s) - 1)) + 'E' \n",
        "            for s in sentences\n",
        "        ]))\n",
        "\n",
        "word_counts = pd.Series(word_counts)"
      ],
      "execution_count": 26,
      "outputs": []
    },
    {
      "cell_type": "markdown",
      "metadata": {
        "id": "la5RjGoqMKJp",
        "colab_type": "text"
      },
      "source": [
        "Now, let us define our training algorithm. If you note the equations defined previously, we will be doing repeated multiplication of probabilities; this creates a danger of underflow.  Underflow is a limitation of floating-point numbers. Floating-point numbers can represent only so much precision. So, if a number approaches too close to 0, the floating-point representation may round to 0. For example, when implementing naïve Bayes, instead of multiplying probabilities, we will add log-probabilities. This is to avoid underflow when multiplying many numbers that are less than 1.\n",
        "\n",
        "We will need the set of observations, the characters in the text, the set of states, whether or not a character marks a sentence ending, and the log probabilities. We will need to have the log probability for initial states. In this modeling problem the initial state will always be \"S.\" We will need the emission log probabilities—the log probability of a character given a state. And finally, we need the transition log probability, which is the log probability of a state given a previous state."
      ]
    },
    {
      "cell_type": "code",
      "metadata": {
        "id": "uJvjvs8-NM-U",
        "colab_type": "code",
        "colab": {}
      },
      "source": [
        "class HMM(object):\n",
        "    def __init__(self, obs_set, state_set, initial_log, emission_log, \n",
        "                 transition_log):\n",
        "        self.obs_set = obs_set\n",
        "        self.state_set = state_set\n",
        "        self.initial_log = initial_log\n",
        "        self.emission_log = emission_log\n",
        "        self.transition_log = transition_log"
      ],
      "execution_count": 27,
      "outputs": []
    },
    {
      "cell_type": "markdown",
      "metadata": {
        "id": "mUXdb8Z8MKir",
        "colab_type": "text"
      },
      "source": [
        "To calculate these things, we need to track total possible observations, states, and the counts we will use to calculate the log-probabilities."
      ]
    },
    {
      "cell_type": "code",
      "metadata": {
        "id": "7GV8OnosNPHt",
        "colab_type": "code",
        "colab": {}
      },
      "source": [
        "def training_data():\n",
        "    data_dict = {}\n",
        "    data_dict['obs_set'] = set()\n",
        "    data_dict['state_set'] = set()\n",
        "    data_dict['transition_ct'] = defaultdict(Counter)\n",
        "    data_dict['emission_ct'] = defaultdict(Counter)\n",
        "    data_dict['initial_ct'] = Counter()\n",
        "    return data_dict"
      ],
      "execution_count": 28,
      "outputs": []
    },
    {
      "cell_type": "markdown",
      "metadata": {
        "id": "KlJmB4DAMKqO",
        "colab_type": "text"
      },
      "source": [
        "Now we need to have a function that will update this data as we traverse over the data set."
      ]
    },
    {
      "cell_type": "code",
      "metadata": {
        "id": "tmmsBgvaNRp0",
        "colab_type": "code",
        "colab": {}
      },
      "source": [
        "def update_state(data_dict, ob_seq, st_seq):\n",
        "    assert len(ob_seq) == len(st_seq)\n",
        "    data_dict['initial_ct'][st_seq[0]] += 1\n",
        "    for i in range(1, len(st_seq)):\n",
        "        ob = ob_seq[i]\n",
        "        st = st_seq[i]\n",
        "        data_dict['obs_set'].add(ob)\n",
        "        data_dict['state_set'].add(st)\n",
        "        data_dict['transition_ct'][ob_seq[i-1]][ob] += 1\n",
        "        data_dict['emission_ct'][st][ob] += 1"
      ],
      "execution_count": 29,
      "outputs": []
    },
    {
      "cell_type": "markdown",
      "metadata": {
        "id": "EI3g2FTgMKyI",
        "colab_type": "text"
      },
      "source": [
        "Now that we have the counts and the total set of observations and states, we can calculate the sums we will need for the log probabilties."
      ]
    },
    {
      "cell_type": "code",
      "metadata": {
        "id": "-9OJuSnyNUq-",
        "colab_type": "code",
        "colab": {}
      },
      "source": [
        "def calculate_sums(data_dict):\n",
        "    data_dict['transition_sums'] = {\n",
        "        st: np.sum(list(data_dict['transition_ct'][st].values())) \n",
        "        for st in data_dict['state_set']\n",
        "    }\n",
        "    data_dict['initial_sum'] = np.sum(\n",
        "        list(data_dict['initial_ct'].values()))\n",
        "    data_dict['emission_sums'] = {\n",
        "        st: np.sum(list(data_dict['emission_ct'][st].values())) \n",
        "        for st in data_dict['state_set']\n",
        "    }"
      ],
      "execution_count": 30,
      "outputs": []
    },
    {
      "cell_type": "markdown",
      "metadata": {
        "id": "Jjv4zFl4MK4-",
        "colab_type": "text"
      },
      "source": [
        "Once we have the counts and the sums, we can calculate the log probabilties."
      ]
    },
    {
      "cell_type": "code",
      "metadata": {
        "id": "6I3uyQjFNXdM",
        "colab_type": "code",
        "colab": {}
      },
      "source": [
        "def calculate_log_probs(data_dict, eps):\n",
        "    data_dict['transition_log'] = {\n",
        "        prev_st: {\n",
        "            # log P[y_i = k | y_i-1 = k']\n",
        "            st: (np.log(data_dict['transition_ct'][prev_st][st] + \\\n",
        "                        eps) - \\\n",
        "                 np.log(data_dict['transition_sums'][prev_st] + \\\n",
        "                        eps)) \n",
        "            for st in data_dict['state_set']\n",
        "        } \n",
        "        for prev_st in data_dict['state_set']\n",
        "    }\n",
        "    \n",
        "    data_dict['initial_log'] = {\n",
        "            # log P[y_0 = k]\n",
        "        st: (np.log(data_dict['initial_ct'][st] + eps) - \\\n",
        "             np.log(data_dict['initial_sum'] + eps)) \n",
        "        for st in data_dict['state_set']\n",
        "    }\n",
        "    \n",
        "    data_dict['emission_log'] = {\n",
        "        st: {\n",
        "            # log P[x_i = c | y_i = k]\n",
        "            ob: (np.log(data_dict['emission_ct'][st][ob] + eps) - \\\n",
        "                 np.log(data_dict['emission_sums'][st] + eps)) \n",
        "            for ob in data_dict['obs_set']\n",
        "        } \n",
        "        for st in data_dict['state_set']\n",
        "    }"
      ],
      "execution_count": 31,
      "outputs": []
    },
    {
      "cell_type": "markdown",
      "metadata": {
        "id": "KkFlVIz3MK_9",
        "colab_type": "text"
      },
      "source": [
        "Finally, we have our `train` method to tie everything together."
      ]
    },
    {
      "cell_type": "code",
      "metadata": {
        "id": "HOtPzQr_Nbu1",
        "colab_type": "code",
        "colab": {}
      },
      "source": [
        "def train(observations, states, eps=1e-8):\n",
        "    # initialize\n",
        "    data_dict = training_data()\n",
        "    \n",
        "    # traverse data and count all transitions, initials, and \n",
        "    # emissions\n",
        "    for ob_seq, st_seq in zip(observations, states):\n",
        "        update_state(data_dict, ob_seq, st_seq)\n",
        "                \n",
        "    calculate_sums(data_dict)\n",
        "    \n",
        "    calculate_log_probs(data_dict, eps)\n",
        "    \n",
        "    return HMM(list(data_dict['obs_set']), list(data_dict['state_set']), \n",
        "               data_dict['initial_log'], data_dict['emission_log'], \n",
        "               data_dict['transition_log'])"
      ],
      "execution_count": 32,
      "outputs": []
    },
    {
      "cell_type": "code",
      "metadata": {
        "id": "5CIq7XnuNdCF",
        "colab_type": "code",
        "colab": {}
      },
      "source": [
        "model = train(raw, labels)"
      ],
      "execution_count": 33,
      "outputs": []
    },
    {
      "cell_type": "markdown",
      "metadata": {
        "id": "hm4r4rM5MK8h",
        "colab_type": "text"
      },
      "source": [
        "Now, given a piece of text, we need to calculate the most probable sequence of states. We can use these predicted states to split a piece of text into sentences.  For doing this, we will use the Viterbi algorithm. This algorithm will let us efficiently traverse the set of possible sequences."
      ]
    },
    {
      "cell_type": "code",
      "metadata": {
        "id": "JTrIfZlQOnWa",
        "colab_type": "code",
        "colab": {}
      },
      "source": [
        "def viterbi(y, model):\n",
        "    # probabilities for the initial states\n",
        "    path_logs = [{\n",
        "        st: model.initial_log[st] + model.emission_log[st][y[0]] \n",
        "        for st in model.state_set\n",
        "    }]\n",
        "    path_preds = [{st: '' for st in model.state_set}]\n",
        "    \n",
        "    for i in range(1, len(y)):\n",
        "        curr_log = {}\n",
        "        curr_preds = {}\n",
        "        for st in model.state_set:\n",
        "            # find the most probable previous state that \n",
        "            # would lead to st\n",
        "            curr_log[st] = -np.inf\n",
        "            curr_preds[st] = ''\n",
        "            for prev_st in model.state_set:\n",
        "                # log probability\n",
        "                local_log = path_logs[i-1][prev_st] + \\\n",
        "                    model.transition_log[prev_st][st] + \\\n",
        "                    model.emission_log[st][y[i]]\n",
        "                if curr_log[st] < local_log:\n",
        "                    curr_log[st] = local_log\n",
        "                    curr_preds[st] = prev_st\n",
        "        path_logs.append(curr_log)\n",
        "        path_preds.append(curr_preds)\n",
        "\n",
        "    # Now we work backwards. Find the most probable final \n",
        "    # state, and work back to the beginning.\n",
        "    terminal_log = -np.inf\n",
        "    curr_st = ''\n",
        "    for st in model.state_set:\n",
        "        if terminal_log < path_logs[-1][st]:\n",
        "            terminal_log = path_logs[-1][st]\n",
        "            curr_st = st\n",
        "    preds = curr_st\n",
        "    for i in range(len(y)-1, 0, -1):\n",
        "        curr_st = path_preds[i][curr_st]\n",
        "        preds = curr_st + preds\n",
        "    return preds"
      ],
      "execution_count": 34,
      "outputs": []
    },
    {
      "cell_type": "markdown",
      "metadata": {
        "id": "NkR8CW_wMK1k",
        "colab_type": "text"
      },
      "source": [
        "Now that we can make predictions, we can build our own sentence splitter."
      ]
    },
    {
      "cell_type": "code",
      "metadata": {
        "id": "fc366pjEPLSD",
        "colab_type": "code",
        "colab": {}
      },
      "source": [
        "def split(text, model):\n",
        "    state_seq = viterbi(text, model)\n",
        "    sentences = []\n",
        "    start = 0\n",
        "    for end in range(1, len(text)):\n",
        "        if state_seq[end] == 'E':\n",
        "            sentences.append(text[start:end+1])\n",
        "            start = end+1\n",
        "    sentences.append(text[start:])\n",
        "    return sentences"
      ],
      "execution_count": 37,
      "outputs": []
    },
    {
      "cell_type": "markdown",
      "metadata": {
        "id": "h7iF4YFTMKuK",
        "colab_type": "text"
      },
      "source": [
        "Let's see how it does."
      ]
    },
    {
      "cell_type": "code",
      "metadata": {
        "id": "rX-8U-CjYLmr",
        "colab_type": "code",
        "colab": {}
      },
      "source": [
        "example = raw[0]"
      ],
      "execution_count": 38,
      "outputs": []
    },
    {
      "cell_type": "code",
      "metadata": {
        "id": "5FbBbXKEYNK8",
        "colab_type": "code",
        "colab": {
          "base_uri": "https://localhost:8080/",
          "height": 354
        },
        "outputId": "9d88bc0c-1ba3-4147-ce78-4bc8f777dc2b"
      },
      "source": [
        "print('\\n###\\n'.join(split(example, model)[:10]))"
      ],
      "execution_count": 39,
      "outputs": [
        {
          "output_type": "stream",
          "text": [
            "The Fulton County Grand Jury said Friday an investigation of Atlanta's recent primary election produced`` no evidence'' that any irregularities took place.\n",
            "###\n",
            " The jury further said in term-\n",
            "###\n",
            "end presentments that the City Executive Committee, which had over-\n",
            "###\n",
            "all charge of the election,`` deserves the praise and thanks of the City of Atlanta'' for the manner in which the election was conducted.\n",
            "###\n",
            " The September-\n",
            "###\n",
            "October term jury had been charged by Fulton Superior Court Judge Durwood Pye to investigate reports of possible`` irregularities'' in the hard-\n",
            "###\n",
            "fought primary which was won by Mayor-\n",
            "###\n",
            "nominate Ivan Allen Jr.\n",
            "###\n",
            ".\n",
            "###\n",
            " `` Only a relative handful of such reports was received'', the jury said,`` considering the widespread interest in the election, the number of voters and the size of this city''.\n"
          ],
          "name": "stdout"
        }
      ]
    },
    {
      "cell_type": "markdown",
      "metadata": {
        "id": "4hAdlMiOMKmq",
        "colab_type": "text"
      },
      "source": [
        "Not great, but this is a simple model built from the data—not from manually encoded heuristics. There are several ways we could improve this. We can add more emission features because we are assuming they are independent of each other. We should look at the data to understand why the model thinks hyphens are ends of sentences.\n",
        "\n",
        "This model is simple, but we already had plenty of labels. Getting labels like this can be a time-consuming process.  You can use the Baum-Welch algorithm to learn transition and emission probabilities on a partially labeled or unlabeled data set.\n",
        "\n",
        "Let's look at how Spark NLP does sentence detection.  The algorithm is based on Kevin Dias's `pragmatic_segmenter`, originally implemented in Ruby. Let's compare how it does to how our simple HMM does."
      ]
    },
    {
      "cell_type": "code",
      "metadata": {
        "id": "vJcsOu99YVrD",
        "colab_type": "code",
        "colab": {}
      },
      "source": [
        "example_df = spark.createDataFrame([(example,)], ['text'])"
      ],
      "execution_count": 40,
      "outputs": []
    },
    {
      "cell_type": "code",
      "metadata": {
        "id": "RbJmm4daYXFc",
        "colab_type": "code",
        "colab": {}
      },
      "source": [
        "from sparknlp import DocumentAssembler, Finisher\n",
        "from sparknlp.annotator import SentenceDetector\n",
        "\n",
        "from pyspark.ml import Pipeline\n",
        "\n",
        "assembler = DocumentAssembler()\\\n",
        "    .setInputCol('text')\\\n",
        "    .setOutputCol('document')\n",
        "sent_detector = SentenceDetector()\\\n",
        "    .setInputCols(['document'])\\\n",
        "    .setOutputCol('sentences')\n",
        "finisher = Finisher()\\\n",
        "    .setInputCols(['sentences'])\\\n",
        "    .setOutputCols(['sentences'])\\\n",
        "    .setOutputAsArray(True)\n",
        "\n",
        "pipeline = Pipeline().setStages([\n",
        "    assembler, sent_detector, finisher\n",
        "]).fit(example_df)"
      ],
      "execution_count": 41,
      "outputs": []
    },
    {
      "cell_type": "code",
      "metadata": {
        "id": "WQ8XGS39YYlV",
        "colab_type": "code",
        "colab": {}
      },
      "source": [
        "sentences = pipeline.transform(example_df)"
      ],
      "execution_count": 42,
      "outputs": []
    },
    {
      "cell_type": "code",
      "metadata": {
        "id": "vSIIPRf0Yfe8",
        "colab_type": "code",
        "colab": {
          "base_uri": "https://localhost:8080/",
          "height": 354
        },
        "outputId": "0f48bc9a-a4fd-486b-f8d1-9f9f73ab720f"
      },
      "source": [
        "print('\\n###\\n'.join(sentences.first()['sentences'][:10]))"
      ],
      "execution_count": 43,
      "outputs": [
        {
          "output_type": "stream",
          "text": [
            "The Fulton County Grand Jury said Friday an investigation of Atlanta's recent primary election produced`` no evidence'' that any irregularities took place.\n",
            "###\n",
            "The jury further said in term-end presentments that the City Executive Committee, which had over-all charge of the election,`` deserves the praise and thanks of the City of Atlanta'' for the manner in which the election was conducted.\n",
            "###\n",
            "The September-October term jury had been charged by Fulton Superior Court Judge Durwood Pye to investigate reports of possible`` irregularities'' in the hard-fought primary which was won by Mayor-nominate Ivan Allen Jr..\n",
            "###\n",
            "`` Only a relative handful of such reports was received'', the jury said,`` considering the widespread interest in the election, the number of voters and the size of this city''.\n",
            "###\n",
            "The jury said it did find that many of Georgia's registration and election laws`` are outmoded or inadequate and often ambiguous''.\n",
            "###\n",
            "It recommended that Fulton legislators act`` to have these laws studied and revised to the end of modernizing and improving them''.\n",
            "###\n",
            "The grand jury commented on a number of other topics, among them the Atlanta and Fulton County purchasing departments which it said`` are well operated and follow generally accepted practices which inure to the best interest of both governments''.\n",
            "###\n",
            "Merger proposed However, the jury said it believes`` these two offices should be combined to achieve greater efficiency and reduce the cost of administration''.\n",
            "###\n",
            "The City Purchasing Department, the jury said,`` is lacking in experienced clerical personnel as a result of city personnel policies''.\n",
            "###\n",
            "It urged that the city`` take steps to remedy'' this problem.\n"
          ],
          "name": "stdout"
        }
      ]
    },
    {
      "cell_type": "markdown",
      "metadata": {
        "id": "MqBrP6GPMKfe",
        "colab_type": "text"
      },
      "source": [
        "It definitely does better than the HMM. The `pragmatic_segmenter` is quite complex. We could build a more complex model, though. This is a good lesson that in some situations heuristics may be preferable to a model. When you are working on your NLP application, always try the simplest solution first. Look at what goes wrong and then make improvements"
      ]
    },
    {
      "cell_type": "markdown",
      "metadata": {
        "id": "AgRwaZdcMKF2",
        "colab_type": "text"
      },
      "source": [
        "## Section Segmentation\n",
        "\n",
        "There are some documents that are more like a collection of documents. A clinical encounter is recorded as a collection of notes, perhaps from different providers. Legal text is broken into different sections, each with different kinds of content and functions. Narrative text is often broken into chapters or scenes. These different sections may require different treatments, or even different models. For example, we may not want to use the same models on an admission note as we do on a radiological exam, even if they are part of the same visit.\n",
        "\n",
        "Although sections are incredibly important, they are not actually a part of language per se. They are an artifact of the document formatting that the text is recorded in. There may still be meaning in the different kinds of sections, and even in their placement. This means that we often can't generalize our techniques outside of a given corpus. Fortunately, regular expressions are even more effective on this problem than sentence-boundary detection."
      ]
    },
    {
      "cell_type": "markdown",
      "metadata": {
        "id": "KCjek9pLMJ_N",
        "colab_type": "text"
      },
      "source": [
        "## Part-of-Speech Tagging\n",
        "Parts of speech are word categories that govern how words are combined to form phrases and sentences. These can be very valuable, especially in a process that involves extracting information from the text. You are likely familiar with the most common parts of speech. In NLP, the categories are a little more complicated.\n",
        "\n",
        "The following are common parts of speech:\n",
        "\n",
        "* Verbs: \"know,\" \"try,\" \"call\"\n",
        "* Nouns: \"cat,\" \"banana,\" \"happiness\"\n",
        "* Adjectives: \"big,\" \"red,\" \"quick\"\n",
        "* Adverbs: \"well,\" \"now,\" \"quickly\"\n",
        "* Prepositions: \"of,\" \"behind,\" \"with\"\n",
        "\n",
        "Most part-of-speech tagging data comes from the University of Pennsylvania Treebank, or it is similarly formatted. This data set has a much larger set of parts-of-speech:\n",
        "\n",
        "* CC: Coordinating conjunction (\"and\")\n",
        "* CD: Cardinal number (\"one,\" \"1\")\n",
        "* DT: Determiner (\"an,\" \"the\")\n",
        "* EX: Existential \"there\" (\"there are\")\n",
        "* FW: Foreign word (\"zeitgeist\")\n",
        "* IN: Preposition or subordinating conjunction (\"of,\" \"because\")\n",
        "* JJ: Adjective (\"happy,\" \"fun\")\n",
        "* JJR: Adjective, comparative (\"happier\")\n",
        "* JJS: Adjective, superlative (\"happiest\")\n",
        "* LS: List item marker (\"a)\")\n",
        "* MD: Modal (\"can,\" \"might\")\n",
        "* NN: Noun, singular or mass (\"cat,\" \"knowledge\")\n",
        "* NNS: Noun, plural (\"cats\")\n",
        "* NNP: Proper noun, singular (\"Sarah\")\n",
        "* NNPS: Proper noun, plural (\"Hungarians\")\n",
        "* PDT: Predeterminer (\"half\" in \"It is half the price.\")\n",
        "* POS: Possessive ending (possessive \"'s\")\n",
        "* PRP: Personal pronoun (\"I,\" \"they\")\n",
        "* PRP\\$: Possessive pronoun (\"my,\" \"their\")\n",
        "* RB: Adverb (\"quickly,\" \"well\")\n",
        "* RBR: Adverb, comparative (\"quicker,\" \"better\")\n",
        "* RBS: Adverb, superlative (\"quickest,\" \"best\")\n",
        "* RP: Particle (varies, but infinitive \"to,\" \"off\" in \"It's a write-off\")\n",
        "* SYM: Symbol (x in mathematical context)\n",
        "* TO: to (sometimes a separate category just for infinitive \"to\")\n",
        "* UH: Interjection (\"uh\")\n",
        "* VB: Verb, base form (after infinitive \"to,\" \"call,\" \"know\")\n",
        "* VBD: Verb, past tense (\"called,\" \"knew\")\n",
        "* VBG: Verb, gerund or present participle (\"calling,\" \"knowing\")\n",
        "* VBN: Verb, past participle (\"called,\" \"known\")\n",
        "* VBP: Verb, non–third-person singular present (\"call,\" \"know\")\n",
        "* VBZ: Verb, third-person singular present (\"calls,\" \"knows\")\n",
        "* WDT: Wh-determiner (\"which\")\n",
        "* WP: Wh-pronoun (\"who\")\n",
        "* WP\\$: Possessive wh-pronoun (\"whose\")\n",
        "* WRB: Wh-adverb (\"when\")"
      ]
    },
    {
      "cell_type": "markdown",
      "metadata": {
        "id": "9GJNd999MJ4C",
        "colab_type": "text"
      },
      "source": [
        "Understanding the linguistics behind these lexical categories will help us understand how to extract them, as well as how to use them. Let's look a little at how humans identify parts of speech.\n",
        "\n",
        "Humans decode the part of speech from morphological and syntactic clues. This is why we can determine the parts of speech of nonsense words. Let's look at part of \"Jabberwocky,\" the poem by Lewis Carroll.\n",
        "\n",
        "> ’Twas brillig, and the slithy toves  \n",
        "> Did gyre and gimble in the wabe:  \n",
        "> All mimsy were the borogoves,  \n",
        "> And the mome raths outgrabe.  \n",
        "> \n",
        "> “Beware the Jabberwock, my son!  \n",
        "> The jaws that bite, the claws that catch!  \n",
        "> Beware the Jubjub bird, and shun  \n",
        "> The frumious Bandersnatch!”  \n",
        "> \n",
        "> He took his vorpal sword in hand;  \n",
        "> Long time the manxome foe he sought—  \n",
        "> So rested he by the Tumtum tree  \n",
        "> And stood awhile in thought. \n",
        "\n",
        "Fluent English speakers will be able to tell you that \"brillig\" and \"vorpal\" are adjectives, \"gyre\" and \"gimble\" are verbs, and \"toves\" and \"Jabberwock\" are nouns. It's not as easy to do this with every category. If you make up your own subordinating conjunction, people may have a hard time identifying it.\n",
        "\n",
        "> I went there cloom they told me to.\n",
        "\n",
        "This sentence seems wrong. The reason is that we are used to learning new words in some categories and not in others. If we can create words in a category, it is considered an open category; those we cannot easily add to are called closed categories. This is on a spectrum, though. Pronouns are not as open as nouns, but it is not uncommon for languages to innovate new pronouns. For example, \"y'all\" is no more than two or three centuries old.\n",
        "\n",
        "Knowing that there are some categories that are more or less fixed, and some that are fully open, we can tell that our models are learning two kinds of prediction. Lexical cues are useful for closed categories, and contextual cues are useful for open categories."
      ]
    },
    {
      "cell_type": "markdown",
      "metadata": {
        "id": "F72nqXa8MJvY",
        "colab_type": "text"
      },
      "source": [
        "Let's take a look at how Spark NLP does POS tagging. In Spark NLP, a perceptron is used. We can train a model on the brown corpus, but first we must save the data in a particular format. Each token-tag pair must be joined by an underscore '_'. Each sentence worth of tagged tokens goes on one line. For example:\n",
        "\n",
        "```\n",
        "The_AT mayor's_NN$ present_JJ term_NN of_IN office_NN expires_VBZ \n",
        "Jan._NP 1_CD ._. \n",
        "He_PPS will_MD be_BE succeeded_VBN by_IN Ivan_NP Allen_NP Jr._NP \n",
        ",_, who_WPS became_VBD a_AT candidate_NN in_IN the_AT Sept._NP \n",
        "13_CD primary_NN after_CS Mayor_NN-TL Hartsfield_NP announced_VBD \n",
        "that_CS he_PPS would_MD not_* run_VB for_IN reelection_NN ._.\n",
        "```"
      ]
    },
    {
      "cell_type": "code",
      "metadata": {
        "id": "MibWMk4oZfNz",
        "colab_type": "code",
        "colab": {}
      },
      "source": [
        "from sparknlp.training import POS\n",
        "\n",
        "with open('tagged_brown.txt', 'w') as out:\n",
        "    for fid in brown.fileids():\n",
        "        for sent in brown.tagged_sents(fid):\n",
        "            for token, tag in sent:\n",
        "                out.write('{}_{} '.format(token, tag))\n",
        "            out.write('\\n')\n",
        "        \n",
        "tag_data = POS().readDataset(spark, 'tagged_brown.txt', '_', 'tags')"
      ],
      "execution_count": 44,
      "outputs": []
    },
    {
      "cell_type": "markdown",
      "metadata": {
        "id": "23sG1aFUMJEq",
        "colab_type": "text"
      },
      "source": [
        "Now we can build our pipeline and train our model."
      ]
    },
    {
      "cell_type": "code",
      "metadata": {
        "id": "MEsx8An4PKrE",
        "colab_type": "code",
        "colab": {}
      },
      "source": [
        "from sparknlp.annotator import Tokenizer, PerceptronApproach\n",
        "\n",
        "assembler = DocumentAssembler()\\\n",
        "    .setInputCol('text')\\\n",
        "    .setOutputCol('document')\n",
        "sent_detector = SentenceDetector()\\\n",
        "    .setInputCols(['document'])\\\n",
        "    .setOutputCol('sentences')\n",
        "tokenizer = Tokenizer() \\\n",
        "    .setInputCols(['sentences']) \\\n",
        "    .setOutputCol('tokens')\n",
        "\n",
        "pos_tagger = PerceptronApproach() \\\n",
        "    .setNIterations(1) \\\n",
        "    .setInputCols([\"sentences\", \"tokens\"]) \\\n",
        "    .setOutputCol(\"pos\") \\\n",
        "    .setPosCol(\"tags\")\n",
        "\n",
        "finisher = Finisher()\\\n",
        "    .setInputCols(['tokens', 'pos'])\\\n",
        "    .setOutputCols(['tokens', 'pos'])\\\n",
        "    .setOutputAsArray(True)\n",
        "\n",
        "pipeline = Pipeline().setStages([\n",
        "    assembler, sent_detector, tokenizer, pos_tagger, finisher\n",
        "])"
      ],
      "execution_count": 45,
      "outputs": []
    },
    {
      "cell_type": "code",
      "metadata": {
        "id": "xL0lYj_jZjuZ",
        "colab_type": "code",
        "colab": {}
      },
      "source": [
        "pipeline = pipeline.fit(tag_data)"
      ],
      "execution_count": 46,
      "outputs": []
    },
    {
      "cell_type": "markdown",
      "metadata": {
        "id": "Ojt4Kjo1Zlti",
        "colab_type": "text"
      },
      "source": [
        "Let's look at how it did on the first sentence."
      ]
    },
    {
      "cell_type": "code",
      "metadata": {
        "id": "XuQWzyRkZogC",
        "colab_type": "code",
        "colab": {
          "base_uri": "https://localhost:8080/",
          "height": 35
        },
        "outputId": "42540c64-9e4a-4b95-d507-d42a6162d3ce"
      },
      "source": [
        "tag_data.first()['text']"
      ],
      "execution_count": 47,
      "outputs": [
        {
          "output_type": "execute_result",
          "data": {
            "application/vnd.google.colaboratory.intrinsic+json": {
              "type": "string"
            },
            "text/plain": [
              "\"The Fulton County Grand Jury said Friday an investigation of Atlanta's recent primary election produced `` no evidence '' that any irregularities took place .\""
            ]
          },
          "metadata": {
            "tags": []
          },
          "execution_count": 47
        }
      ]
    },
    {
      "cell_type": "code",
      "metadata": {
        "id": "VWlz5DwMZqgh",
        "colab_type": "code",
        "colab": {
          "base_uri": "https://localhost:8080/",
          "height": 461
        },
        "outputId": "0a9466ef-7d98-40c8-a324-4a19a60b62b7"
      },
      "source": [
        "tag_data_first = tag_data.first()['tags']\n",
        "txformed_first = pipeline.transform(tag_data).first()\n",
        "\n",
        "for i in range(len(tag_data_first)):\n",
        "    word = tag_data_first[i]['metadata']['word']\n",
        "    true_pos = tag_data_first[i]['result']\n",
        "    pred_pos = txformed_first['pos'][i]\n",
        "    print('{:20s} {:5s} {:5s}'.format(word, true_pos, pred_pos))"
      ],
      "execution_count": 48,
      "outputs": [
        {
          "output_type": "stream",
          "text": [
            "The                  AT    AT   \n",
            "Fulton               NP-TL NP-TL\n",
            "County               NN-TL NN-TL\n",
            "Grand                JJ-TL NN-TL\n",
            "Jury                 NN-TL NP   \n",
            "said                 VBD   VBD  \n",
            "Friday               NR    NR   \n",
            "an                   AT    AT   \n",
            "investigation        NN    NN   \n",
            "of                   IN    IN   \n",
            "Atlanta's            NP$   NP$  \n",
            "recent               JJ    JJ   \n",
            "primary              NN    NN   \n",
            "election             NN    NN   \n",
            "produced             VBD   VBD  \n",
            "``                   ``    ``   \n",
            "no                   AT    AT   \n",
            "evidence             NN    NN   \n",
            "''                   ''    ''   \n",
            "that                 CS    CS   \n",
            "any                  DTI   DTI  \n",
            "irregularities       NNS   NNS  \n",
            "took                 VBD   VBD  \n",
            "place                NN    NN   \n",
            ".                    .     .    \n"
          ],
          "name": "stdout"
        }
      ]
    },
    {
      "cell_type": "markdown",
      "metadata": {
        "id": "AjLlUJPxZl4f",
        "colab_type": "text"
      },
      "source": [
        "The model has learned this data set well. In fact, \"primary\" being a noun or adjective can both be true, depending on how you parse the sentence.\n",
        "\n",
        "There are other techniques for part-of-speech tagging, such as conditional random fields."
      ]
    },
    {
      "cell_type": "markdown",
      "metadata": {
        "id": "rD2EJu5FZmB4",
        "colab_type": "text"
      },
      "source": [
        "## Conditional Random Field\n",
        "\n",
        "If hidden Markov models are sequential naïve Bayes, then conditional random fields (CRFs) can be thought of as sequential logistic regression. CRFs are another popular technique for part-of-speech tagging. CRFs have a few benefits over HMMs. They allow for more complex features because they make fewer assumptions on the relationships between features and labels. In Spark NLP, CRFs are one approach used for part-of-speech tagging, in addition to using RNNs. CRFs are learned using gradient descent like logistic regression, but they are run using algorithms like the Viterbi algorithm.  "
      ]
    },
    {
      "cell_type": "markdown",
      "metadata": {
        "id": "1AdeUhYYZmKx",
        "colab_type": "text"
      },
      "source": [
        "## Chunking and Syntactic Parsing\n",
        "\n",
        "Now that we have the parts of speech for individual tokens, we must consider combining them. Many NLP tasks involve finding entities in the text. Often, these entities are referenced using more than one-word phrases. This means that we have to understand how to combine tagged tokens in phrases, which are generally known as chunks.\n",
        "\n",
        "Similar to sentence-boundary detection, we can do this with a heuristic, but there will be errors that we'll need a model to avoid. The heuristics are relatively simple—if two adjacent tokens have the same or similar tags, combine them into a single phrase. For example, the words \"fan blade\" are both nouns, so they can be combined into a single noun phrase. We can combine certain known structures, like some verb-preposition combinations, such as \"knock off,\" into a single verb or noun. Heuristics won't cover more complex syntactic structures. For example, the verb \"knock off\" inserts its object between \"knock\" and \"off,\" so if you are trying to normalize your vocabulary, the infinitive \"to knock off\" won't be combined with the inflected form \"knocked X off.\" There may also be certain syntactic structures you are interested in, like knowing who did what to whom.\n",
        "\n",
        "To extract these more complex syntactic structures, we need a syntactic parser. These models turn sequences into tree structures. The tokens then become constituents in larger phrases. Language is very complicated, but fortunately, straightforward structures are generally more common than complex ones.\n",
        "\n",
        "Before using a syntactic parser, make sure that you are certain that you need it. They are often generally complex models that are resource-intensive to train and use. It's probably best if you try to solve your problem with heuristics first, and if that is not sufficient, consider a syntactic parser.\n",
        "\n",
        "An additional caveat about syntactic parsers is that labeling is a difficult task. Anyone who is fluent in a language can reliably split text into sentences. Most people can learn parts of speech well enough to label data in a few minutes. Syntactic parsing is a significantly more complex labeling task."
      ]
    },
    {
      "cell_type": "markdown",
      "metadata": {
        "id": "WLrA2qplZmTx",
        "colab_type": "text"
      },
      "source": [
        "## Language Models\n",
        "   Another classic application of sequence modeling is language modeling. A language model is a model of process that generates language. This is called a generative model, as opposed to a discriminative model, which is used for distinguishing the difference between things. Of course, the actual process by which human language is generated is incredibly complex, and is still being explored by neurologists, psychologists, and philosophers. In NLP, language models make simplifying assumptions—for example, that the text generation process can be learned from text alone.\n",
        "\n",
        "There are many uses for language models. We can use them for feature generation with other models. For example, a neural-network–based language model can be used to feed into other layers used for sequence labeling. Language models are also used for text generation and summarization.\n",
        "\n",
        "Some of the techniques covered in this chapter can be used to create a language model. For example, we could use a CRF to predict a sequence of words.  We could also use a Markov model to predict a sequence of words by learning the transition probabilities. This would not be a hidden Markov model, because there are no hidden states here. We would likely need a larger context window than just the previous token. Fortunately, we can relax the assumption that the language generation has the Markov property. Once we start doing this, however, our model quickly becomes much more complex. This is related to the complication of syntax that made syntactic parsers so challenging.\n",
        "\n",
        "Currently, RNNs (recurrent neural networks) are the most popular approach to building language models."
      ]
    },
    {
      "cell_type": "markdown",
      "metadata": {
        "id": "57_FBe57Zmd0",
        "colab_type": "text"
      },
      "source": [
        "## Recurrent Neural Networks\n",
        "  We will build a model that can generate English words. To do this we will use an LSTM. Following are the equations that define it:\n",
        "\n",
        "\\begin{equation} \n",
        "\\begin{aligned} \n",
        "v_0 &= 0 \\\\ \n",
        "c_0 &= 0 \\\\ \n",
        "1 &\\le t \\le T \\\\ \n",
        "f_t &= \\sigma(W_f \\cdot \\vec x_t + U_f \\cdot v^{(t-1)} + b_f) \\\\ \n",
        "i_t &= \\sigma(W_i \\cdot \\vec x_t + U_i \\cdot v^{(t-1)} + b_i) \\\\ \n",
        "o_t &= \\sigma(W_o \\cdot \\vec x_t + U_o \\cdot v^{(t-1)} + b_o) \\\\ \n",
        "\\tilde c_t &= \\text{tanh}(W_c \\cdot \\vec x_t + U_c \\cdot v^{(t-1)} + b_c) \\\\ \n",
        "c_t &= f_t \\circ c_{t-1} + i_t \\circ \\tilde c_t \\\\ \n",
        "v_t &= o_t \\circ \\text{tanh}(c_t) \n",
        "\\end{aligned}\n",
        "\\end{equation}\n",
        "\n",
        "The idea behind the LSTM is that it will maintain state as you progress through the sequence. It will learn when to update its state through the training process. The input, , is combined with the previous state, , using four different sets of weights. The first set, , represents forgetting, controlling how much prior information affects the state of the cell. The second set, , represents input to the cell, controlling how much the current example affects the state of the cell. The third set, , represents output of the cell, controlling how much the new cell state affects the output of the LSTM. And finally, , represents memory of the current state, controlling what is remembered from the current input and stored in the cell.\n",
        "\n",
        "In order to pass in our characters, we will need to vectorize them first."
      ]
    },
    {
      "cell_type": "code",
      "metadata": {
        "id": "nyfH889BaO2r",
        "colab_type": "code",
        "colab": {
          "base_uri": "https://localhost:8080/",
          "height": 34
        },
        "outputId": "606bc1cb-d81e-4173-a031-776854cf1725"
      },
      "source": [
        "from keras.models import Model, Sequential\n",
        "from keras.layers import *\n",
        "import keras.utils as ku\n",
        "import keras.preprocessing as kp\n",
        "\n",
        "from scipy.special import expit as sigmoid, softmax"
      ],
      "execution_count": 49,
      "outputs": [
        {
          "output_type": "stream",
          "text": [
            "Using TensorFlow backend.\n"
          ],
          "name": "stderr"
        }
      ]
    },
    {
      "cell_type": "markdown",
      "metadata": {
        "id": "tFZoC8f0Zmlw",
        "colab_type": "text"
      },
      "source": [
        "Let's take only the words that occur frequently. Also, we will mark the end of each word. This will let our model predict when a word should end."
      ]
    },
    {
      "cell_type": "code",
      "metadata": {
        "id": "WKGuoldLaRuR",
        "colab_type": "code",
        "colab": {}
      },
      "source": [
        "vocab = word_counts[word_counts > 100]\n",
        "vocab = list(w + '#' for w in vocab.index)"
      ],
      "execution_count": 50,
      "outputs": []
    },
    {
      "cell_type": "markdown",
      "metadata": {
        "id": "NweC2Pj6ZmYu",
        "colab_type": "text"
      },
      "source": [
        "We will build two lookups, c2i for mapping characters to indices, and i2c for mapping indices back to characters. We will also use ? as a symbol for unknown characters."
      ]
    },
    {
      "cell_type": "code",
      "metadata": {
        "id": "mwUahIBraUXx",
        "colab_type": "code",
        "colab": {}
      },
      "source": [
        "UNK = '?'\n",
        "c2i = {UNK: 0}\n",
        "\n",
        "for word in vocab:\n",
        "    for c in word:\n",
        "        c2i.setdefault(c, len(c2i))\n",
        "        \n",
        "i2c = {ix: c for c, ix in c2i.items()}\n",
        "alphabet_size = len(i2c) + 1"
      ],
      "execution_count": 51,
      "outputs": []
    },
    {
      "cell_type": "markdown",
      "metadata": {
        "id": "Z_kAnQdwZmPj",
        "colab_type": "text"
      },
      "source": [
        "Now let's define some utility functions for converting data."
      ]
    },
    {
      "cell_type": "code",
      "metadata": {
        "id": "4a3JMIKCaXBy",
        "colab_type": "code",
        "colab": {}
      },
      "source": [
        "def texts_to_sequences(texts):\n",
        "    return [[c2i.get(c, c2i[UNK]) for c in t] for t in texts]\n",
        "\n",
        "def sequences_to_texts(seqs):\n",
        "    return [''.join([i2c.get(ix, UNK) for ix in s]) for s in seqs]"
      ],
      "execution_count": 52,
      "outputs": []
    },
    {
      "cell_type": "markdown",
      "metadata": {
        "id": "OeLDcJFoZmGM",
        "colab_type": "text"
      },
      "source": [
        "Here, we specify the maximum context as 10. We could potentially not do so, but that could lead to some technical difficulties. The implementation of sequence modeling expects to know the maximum length of the sequences. Without fixing the size of the window, the length of the longest word will determine this length. Because long words are much more rare than short ones, most of our sequences will need to be padded. This padding does not help us learn the likely sequences. So there is a trade-off: the larger the window the more context your model has to predict the next item in the sequence. On the other hand, it also increases computational complexity. It's best to realistically consider how large the context is in your data. In English, the median length of vocabulary words is 6 letters. If you take into account word frequency, the median is 4. Indeed, 10 is the 95th percentile of word length considering word frequency. This means that very rarely will information from more than 10 characters away help in predicting the next character."
      ]
    },
    {
      "cell_type": "code",
      "metadata": {
        "id": "5XgjphV_aZZ5",
        "colab_type": "code",
        "colab": {}
      },
      "source": [
        "seqs = texts_to_sequences(vocab)\n",
        "\n",
        "w = 10\n",
        "X = []\n",
        "Y = []\n",
        "for seq in seqs:\n",
        "    for k in range(1, min(w, len(seq))):\n",
        "        X.append(seq[:k])\n",
        "        Y.append(seq[k])\n",
        "    for k in range(0, len(seq) - w):\n",
        "        X.append(seq[k:k+w])\n",
        "        Y.append(seq[k+w])\n",
        "X = kp.sequence.pad_sequences(X, maxlen=w, padding='pre')\n",
        "Y = ku.to_categorical(Y, num_classes=alphabet_size)"
      ],
      "execution_count": 53,
      "outputs": []
    },
    {
      "cell_type": "markdown",
      "metadata": {
        "id": "yR_InoZ9Zl9H",
        "colab_type": "text"
      },
      "source": [
        "Now we build our model. You may notice the `Embedding` layer here. This will reduce the dimensionality of our input. Instead of having the width of the input to LSTM be the size of our alphabet, it will be 5."
      ]
    },
    {
      "cell_type": "code",
      "metadata": {
        "id": "qscCcUDzaiAP",
        "colab_type": "code",
        "colab": {}
      },
      "source": [
        "units = 20\n",
        "\n",
        "model = Sequential()\n",
        "model.add(Embedding(alphabet_size, 5, input_length=w))\n",
        "model.add(LSTM(units, unroll=True))\n",
        "model.add(Dense(alphabet_size, activation='softmax'))"
      ],
      "execution_count": 54,
      "outputs": []
    },
    {
      "cell_type": "code",
      "metadata": {
        "id": "L0fN3xdFajSa",
        "colab_type": "code",
        "colab": {
          "base_uri": "https://localhost:8080/",
          "height": 283
        },
        "outputId": "60e4f801-2d79-48ef-ebae-bc1fffe6a64b"
      },
      "source": [
        "print(model.summary())"
      ],
      "execution_count": 55,
      "outputs": [
        {
          "output_type": "stream",
          "text": [
            "Model: \"sequential_1\"\n",
            "_________________________________________________________________\n",
            "Layer (type)                 Output Shape              Param #   \n",
            "=================================================================\n",
            "embedding_1 (Embedding)      (None, 10, 5)             250       \n",
            "_________________________________________________________________\n",
            "lstm_1 (LSTM)                (None, 20)                2080      \n",
            "_________________________________________________________________\n",
            "dense_1 (Dense)              (None, 50)                1050      \n",
            "=================================================================\n",
            "Total params: 3,380\n",
            "Trainable params: 3,380\n",
            "Non-trainable params: 0\n",
            "_________________________________________________________________\n",
            "None\n"
          ],
          "name": "stdout"
        }
      ]
    },
    {
      "cell_type": "markdown",
      "metadata": {
        "id": "qWzimD2jZlxr",
        "colab_type": "text"
      },
      "source": [
        "There are 3,380 parameters to be learned. Unsurprisingly, most of them are in the LSTM—the most complex part of our network. Now, let's train our network."
      ]
    },
    {
      "cell_type": "code",
      "metadata": {
        "id": "IztEs3GPalpy",
        "colab_type": "code",
        "colab": {
          "base_uri": "https://localhost:8080/",
          "height": 1000
        },
        "outputId": "e4796f5f-62ca-4fcf-a42f-219705f95020"
      },
      "source": [
        "model.compile(\n",
        "    loss='categorical_crossentropy', optimizer='adam', \n",
        "    metrics=['accuracy'])\n",
        "model.fit(X, Y, epochs=300, verbose=1)"
      ],
      "execution_count": 57,
      "outputs": [
        {
          "output_type": "stream",
          "text": [
            "/usr/local/lib/python3.6/dist-packages/tensorflow/python/framework/indexed_slices.py:434: UserWarning: Converting sparse IndexedSlices to a dense Tensor of unknown shape. This may consume a large amount of memory.\n",
            "  \"Converting sparse IndexedSlices to a dense Tensor of unknown shape. \"\n"
          ],
          "name": "stderr"
        },
        {
          "output_type": "stream",
          "text": [
            "Epoch 1/300\n",
            "5688/5688 [==============================] - 1s 261us/step - loss: 3.1412 - accuracy: 0.1561\n",
            "Epoch 2/300\n",
            "5688/5688 [==============================] - 1s 109us/step - loss: 2.7914 - accuracy: 0.1834\n",
            "Epoch 3/300\n",
            "5688/5688 [==============================] - 1s 107us/step - loss: 2.7619 - accuracy: 0.1966\n",
            "Epoch 4/300\n",
            "5688/5688 [==============================] - 1s 107us/step - loss: 2.7048 - accuracy: 0.2328\n",
            "Epoch 5/300\n",
            "5688/5688 [==============================] - 1s 113us/step - loss: 2.6482 - accuracy: 0.2412\n",
            "Epoch 6/300\n",
            "5688/5688 [==============================] - 1s 108us/step - loss: 2.5788 - accuracy: 0.2519\n",
            "Epoch 7/300\n",
            "5688/5688 [==============================] - 1s 119us/step - loss: 2.5178 - accuracy: 0.2628\n",
            "Epoch 8/300\n",
            "5688/5688 [==============================] - 1s 119us/step - loss: 2.4698 - accuracy: 0.2658\n",
            "Epoch 9/300\n",
            "5688/5688 [==============================] - 1s 119us/step - loss: 2.4371 - accuracy: 0.2760\n",
            "Epoch 10/300\n",
            "5688/5688 [==============================] - 1s 112us/step - loss: 2.4120 - accuracy: 0.2787\n",
            "Epoch 11/300\n",
            "5688/5688 [==============================] - 1s 109us/step - loss: 2.3945 - accuracy: 0.2843\n",
            "Epoch 12/300\n",
            "5688/5688 [==============================] - 1s 112us/step - loss: 2.3764 - accuracy: 0.2871\n",
            "Epoch 13/300\n",
            "5688/5688 [==============================] - 1s 111us/step - loss: 2.3644 - accuracy: 0.2867\n",
            "Epoch 14/300\n",
            "5688/5688 [==============================] - 1s 116us/step - loss: 2.3525 - accuracy: 0.2925\n",
            "Epoch 15/300\n",
            "5688/5688 [==============================] - 1s 112us/step - loss: 2.3412 - accuracy: 0.2903\n",
            "Epoch 16/300\n",
            "5688/5688 [==============================] - 1s 113us/step - loss: 2.3305 - accuracy: 0.2915\n",
            "Epoch 17/300\n",
            "5688/5688 [==============================] - 1s 110us/step - loss: 2.3219 - accuracy: 0.2911\n",
            "Epoch 18/300\n",
            "5688/5688 [==============================] - 1s 115us/step - loss: 2.3139 - accuracy: 0.2931\n",
            "Epoch 19/300\n",
            "5688/5688 [==============================] - 1s 114us/step - loss: 2.3059 - accuracy: 0.2940\n",
            "Epoch 20/300\n",
            "5688/5688 [==============================] - 1s 115us/step - loss: 2.2994 - accuracy: 0.2961\n",
            "Epoch 21/300\n",
            "5688/5688 [==============================] - 1s 111us/step - loss: 2.2934 - accuracy: 0.2941\n",
            "Epoch 22/300\n",
            "5688/5688 [==============================] - 1s 108us/step - loss: 2.2887 - accuracy: 0.2978\n",
            "Epoch 23/300\n",
            "5688/5688 [==============================] - 1s 111us/step - loss: 2.2824 - accuracy: 0.2987\n",
            "Epoch 24/300\n",
            "5688/5688 [==============================] - 1s 113us/step - loss: 2.2775 - accuracy: 0.2968\n",
            "Epoch 25/300\n",
            "5688/5688 [==============================] - 1s 112us/step - loss: 2.2736 - accuracy: 0.2961\n",
            "Epoch 26/300\n",
            "5688/5688 [==============================] - 1s 114us/step - loss: 2.2678 - accuracy: 0.2973\n",
            "Epoch 27/300\n",
            "5688/5688 [==============================] - 1s 106us/step - loss: 2.2640 - accuracy: 0.2994\n",
            "Epoch 28/300\n",
            "5688/5688 [==============================] - 1s 105us/step - loss: 2.2593 - accuracy: 0.3008\n",
            "Epoch 29/300\n",
            "5688/5688 [==============================] - 1s 104us/step - loss: 2.2545 - accuracy: 0.3031\n",
            "Epoch 30/300\n",
            "5688/5688 [==============================] - 1s 109us/step - loss: 2.2523 - accuracy: 0.3020\n",
            "Epoch 31/300\n",
            "5688/5688 [==============================] - 1s 118us/step - loss: 2.2469 - accuracy: 0.3075\n",
            "Epoch 32/300\n",
            "5688/5688 [==============================] - 1s 110us/step - loss: 2.2426 - accuracy: 0.3038\n",
            "Epoch 33/300\n",
            "5688/5688 [==============================] - 1s 105us/step - loss: 2.2391 - accuracy: 0.3056\n",
            "Epoch 34/300\n",
            "5688/5688 [==============================] - 1s 106us/step - loss: 2.2353 - accuracy: 0.3124\n",
            "Epoch 35/300\n",
            "5688/5688 [==============================] - 1s 110us/step - loss: 2.2309 - accuracy: 0.3114\n",
            "Epoch 36/300\n",
            "5688/5688 [==============================] - 1s 110us/step - loss: 2.2276 - accuracy: 0.3110\n",
            "Epoch 37/300\n",
            "5688/5688 [==============================] - 1s 112us/step - loss: 2.2230 - accuracy: 0.3122\n",
            "Epoch 38/300\n",
            "5688/5688 [==============================] - 1s 110us/step - loss: 2.2197 - accuracy: 0.3133\n",
            "Epoch 39/300\n",
            "5688/5688 [==============================] - 1s 122us/step - loss: 2.2147 - accuracy: 0.3129\n",
            "Epoch 40/300\n",
            "5688/5688 [==============================] - 1s 150us/step - loss: 2.2115 - accuracy: 0.3156\n",
            "Epoch 41/300\n",
            "5688/5688 [==============================] - 1s 128us/step - loss: 2.2072 - accuracy: 0.3150\n",
            "Epoch 42/300\n",
            "5688/5688 [==============================] - 1s 109us/step - loss: 2.2038 - accuracy: 0.3184\n",
            "Epoch 43/300\n",
            "5688/5688 [==============================] - 1s 107us/step - loss: 2.1998 - accuracy: 0.3168\n",
            "Epoch 44/300\n",
            "5688/5688 [==============================] - 1s 116us/step - loss: 2.1948 - accuracy: 0.3205\n",
            "Epoch 45/300\n",
            "5688/5688 [==============================] - 1s 112us/step - loss: 2.1934 - accuracy: 0.3196\n",
            "Epoch 46/300\n",
            "5688/5688 [==============================] - 1s 114us/step - loss: 2.1867 - accuracy: 0.3235\n",
            "Epoch 47/300\n",
            "5688/5688 [==============================] - 1s 112us/step - loss: 2.1838 - accuracy: 0.3216\n",
            "Epoch 48/300\n",
            "5688/5688 [==============================] - 1s 116us/step - loss: 2.1806 - accuracy: 0.3245\n",
            "Epoch 49/300\n",
            "5688/5688 [==============================] - 1s 108us/step - loss: 2.1758 - accuracy: 0.3214\n",
            "Epoch 50/300\n",
            "5688/5688 [==============================] - 1s 107us/step - loss: 2.1717 - accuracy: 0.3274\n",
            "Epoch 51/300\n",
            "5688/5688 [==============================] - 1s 113us/step - loss: 2.1681 - accuracy: 0.3268\n",
            "Epoch 52/300\n",
            "5688/5688 [==============================] - 1s 114us/step - loss: 2.1642 - accuracy: 0.3254\n",
            "Epoch 53/300\n",
            "5688/5688 [==============================] - 1s 106us/step - loss: 2.1602 - accuracy: 0.3288\n",
            "Epoch 54/300\n",
            "5688/5688 [==============================] - 1s 110us/step - loss: 2.1567 - accuracy: 0.3298\n",
            "Epoch 55/300\n",
            "5688/5688 [==============================] - 1s 108us/step - loss: 2.1524 - accuracy: 0.3295\n",
            "Epoch 56/300\n",
            "5688/5688 [==============================] - 1s 109us/step - loss: 2.1494 - accuracy: 0.3307\n",
            "Epoch 57/300\n",
            "5688/5688 [==============================] - 1s 106us/step - loss: 2.1458 - accuracy: 0.3307\n",
            "Epoch 58/300\n",
            "5688/5688 [==============================] - 1s 105us/step - loss: 2.1424 - accuracy: 0.3310\n",
            "Epoch 59/300\n",
            "5688/5688 [==============================] - 1s 112us/step - loss: 2.1380 - accuracy: 0.3325\n",
            "Epoch 60/300\n",
            "5688/5688 [==============================] - 1s 103us/step - loss: 2.1356 - accuracy: 0.3312\n",
            "Epoch 61/300\n",
            "5688/5688 [==============================] - 1s 112us/step - loss: 2.1326 - accuracy: 0.3340\n",
            "Epoch 62/300\n",
            "5688/5688 [==============================] - 1s 110us/step - loss: 2.1292 - accuracy: 0.3349\n",
            "Epoch 63/300\n",
            "5688/5688 [==============================] - 1s 113us/step - loss: 2.1257 - accuracy: 0.3346\n",
            "Epoch 64/300\n",
            "5688/5688 [==============================] - 1s 121us/step - loss: 2.1223 - accuracy: 0.3370\n",
            "Epoch 65/300\n",
            "5688/5688 [==============================] - 1s 112us/step - loss: 2.1185 - accuracy: 0.3388\n",
            "Epoch 66/300\n",
            "5688/5688 [==============================] - 1s 113us/step - loss: 2.1164 - accuracy: 0.3393\n",
            "Epoch 67/300\n",
            "5688/5688 [==============================] - 1s 112us/step - loss: 2.1128 - accuracy: 0.3398\n",
            "Epoch 68/300\n",
            "5688/5688 [==============================] - 1s 115us/step - loss: 2.1092 - accuracy: 0.3465\n",
            "Epoch 69/300\n",
            "5688/5688 [==============================] - 1s 107us/step - loss: 2.1082 - accuracy: 0.3425\n",
            "Epoch 70/300\n",
            "5688/5688 [==============================] - 1s 113us/step - loss: 2.1042 - accuracy: 0.3421\n",
            "Epoch 71/300\n",
            "5688/5688 [==============================] - 1s 111us/step - loss: 2.1015 - accuracy: 0.3430\n",
            "Epoch 72/300\n",
            "5688/5688 [==============================] - 1s 110us/step - loss: 2.0979 - accuracy: 0.3455\n",
            "Epoch 73/300\n",
            "5688/5688 [==============================] - 1s 108us/step - loss: 2.0955 - accuracy: 0.3476\n",
            "Epoch 74/300\n",
            "5688/5688 [==============================] - 1s 103us/step - loss: 2.0927 - accuracy: 0.3479\n",
            "Epoch 75/300\n",
            "5688/5688 [==============================] - 1s 107us/step - loss: 2.0902 - accuracy: 0.3465\n",
            "Epoch 76/300\n",
            "5688/5688 [==============================] - 1s 109us/step - loss: 2.0865 - accuracy: 0.3462\n",
            "Epoch 77/300\n",
            "5688/5688 [==============================] - 1s 108us/step - loss: 2.0834 - accuracy: 0.3488\n",
            "Epoch 78/300\n",
            "5688/5688 [==============================] - 1s 108us/step - loss: 2.0819 - accuracy: 0.3485\n",
            "Epoch 79/300\n",
            "5688/5688 [==============================] - 1s 109us/step - loss: 2.0782 - accuracy: 0.3488\n",
            "Epoch 80/300\n",
            "5688/5688 [==============================] - 1s 105us/step - loss: 2.0754 - accuracy: 0.3511\n",
            "Epoch 81/300\n",
            "5688/5688 [==============================] - 1s 108us/step - loss: 2.0738 - accuracy: 0.3532\n",
            "Epoch 82/300\n",
            "5688/5688 [==============================] - 1s 103us/step - loss: 2.0704 - accuracy: 0.3493\n",
            "Epoch 83/300\n",
            "5688/5688 [==============================] - 1s 106us/step - loss: 2.0682 - accuracy: 0.3518\n",
            "Epoch 84/300\n",
            "5688/5688 [==============================] - 1s 103us/step - loss: 2.0655 - accuracy: 0.3513\n",
            "Epoch 85/300\n",
            "5688/5688 [==============================] - 1s 108us/step - loss: 2.0636 - accuracy: 0.3530\n",
            "Epoch 86/300\n",
            "5688/5688 [==============================] - 1s 107us/step - loss: 2.0610 - accuracy: 0.3550\n",
            "Epoch 87/300\n",
            "5688/5688 [==============================] - 1s 109us/step - loss: 2.0580 - accuracy: 0.3541\n",
            "Epoch 88/300\n",
            "5688/5688 [==============================] - 1s 109us/step - loss: 2.0553 - accuracy: 0.3525\n",
            "Epoch 89/300\n",
            "5688/5688 [==============================] - 1s 108us/step - loss: 2.0530 - accuracy: 0.3541\n",
            "Epoch 90/300\n",
            "5688/5688 [==============================] - 1s 105us/step - loss: 2.0509 - accuracy: 0.3567\n",
            "Epoch 91/300\n",
            "5688/5688 [==============================] - 1s 106us/step - loss: 2.0488 - accuracy: 0.3576\n",
            "Epoch 92/300\n",
            "5688/5688 [==============================] - 1s 106us/step - loss: 2.0468 - accuracy: 0.3534\n",
            "Epoch 93/300\n",
            "5688/5688 [==============================] - 1s 108us/step - loss: 2.0443 - accuracy: 0.3583\n",
            "Epoch 94/300\n",
            "5688/5688 [==============================] - 1s 107us/step - loss: 2.0419 - accuracy: 0.3578\n",
            "Epoch 95/300\n",
            "5688/5688 [==============================] - 1s 111us/step - loss: 2.0404 - accuracy: 0.3551\n",
            "Epoch 96/300\n",
            "5688/5688 [==============================] - 1s 109us/step - loss: 2.0383 - accuracy: 0.3571\n",
            "Epoch 97/300\n",
            "5688/5688 [==============================] - 1s 114us/step - loss: 2.0361 - accuracy: 0.3576\n",
            "Epoch 98/300\n",
            "5688/5688 [==============================] - 1s 112us/step - loss: 2.0347 - accuracy: 0.3611\n",
            "Epoch 99/300\n",
            "5688/5688 [==============================] - 1s 108us/step - loss: 2.0308 - accuracy: 0.3595\n",
            "Epoch 100/300\n",
            "5688/5688 [==============================] - 1s 108us/step - loss: 2.0300 - accuracy: 0.3588\n",
            "Epoch 101/300\n",
            "5688/5688 [==============================] - 1s 109us/step - loss: 2.0281 - accuracy: 0.3623\n",
            "Epoch 102/300\n",
            "5688/5688 [==============================] - 1s 107us/step - loss: 2.0269 - accuracy: 0.3615\n",
            "Epoch 103/300\n",
            "5688/5688 [==============================] - 1s 110us/step - loss: 2.0247 - accuracy: 0.3609\n",
            "Epoch 104/300\n",
            "5688/5688 [==============================] - 1s 103us/step - loss: 2.0231 - accuracy: 0.3622\n",
            "Epoch 105/300\n",
            "5688/5688 [==============================] - 1s 105us/step - loss: 2.0204 - accuracy: 0.3601\n",
            "Epoch 106/300\n",
            "5688/5688 [==============================] - 1s 110us/step - loss: 2.0189 - accuracy: 0.3674\n",
            "Epoch 107/300\n",
            "5688/5688 [==============================] - 1s 114us/step - loss: 2.0170 - accuracy: 0.3645\n",
            "Epoch 108/300\n",
            "5688/5688 [==============================] - 1s 115us/step - loss: 2.0150 - accuracy: 0.3669\n",
            "Epoch 109/300\n",
            "5688/5688 [==============================] - 1s 111us/step - loss: 2.0145 - accuracy: 0.3667\n",
            "Epoch 110/300\n",
            "5688/5688 [==============================] - 1s 107us/step - loss: 2.0116 - accuracy: 0.3673\n",
            "Epoch 111/300\n",
            "5688/5688 [==============================] - 1s 108us/step - loss: 2.0105 - accuracy: 0.3648\n",
            "Epoch 112/300\n",
            "5688/5688 [==============================] - 1s 112us/step - loss: 2.0086 - accuracy: 0.3674\n",
            "Epoch 113/300\n",
            "5688/5688 [==============================] - 1s 113us/step - loss: 2.0073 - accuracy: 0.3699\n",
            "Epoch 114/300\n",
            "5688/5688 [==============================] - 1s 110us/step - loss: 2.0050 - accuracy: 0.3690\n",
            "Epoch 115/300\n",
            "5688/5688 [==============================] - 1s 106us/step - loss: 2.0036 - accuracy: 0.3688\n",
            "Epoch 116/300\n",
            "5688/5688 [==============================] - 1s 109us/step - loss: 2.0036 - accuracy: 0.3667\n",
            "Epoch 117/300\n",
            "5688/5688 [==============================] - 1s 105us/step - loss: 2.0008 - accuracy: 0.3703\n",
            "Epoch 118/300\n",
            "5688/5688 [==============================] - 1s 108us/step - loss: 1.9995 - accuracy: 0.3690\n",
            "Epoch 119/300\n",
            "5688/5688 [==============================] - 1s 105us/step - loss: 1.9980 - accuracy: 0.3688\n",
            "Epoch 120/300\n",
            "5688/5688 [==============================] - 1s 110us/step - loss: 1.9970 - accuracy: 0.3695\n",
            "Epoch 121/300\n",
            "5688/5688 [==============================] - 1s 105us/step - loss: 1.9951 - accuracy: 0.3655\n",
            "Epoch 122/300\n",
            "5688/5688 [==============================] - 1s 105us/step - loss: 1.9940 - accuracy: 0.3695\n",
            "Epoch 123/300\n",
            "5688/5688 [==============================] - 1s 106us/step - loss: 1.9922 - accuracy: 0.3715\n",
            "Epoch 124/300\n",
            "5688/5688 [==============================] - 1s 106us/step - loss: 1.9909 - accuracy: 0.3708\n",
            "Epoch 125/300\n",
            "5688/5688 [==============================] - 1s 119us/step - loss: 1.9900 - accuracy: 0.3687\n",
            "Epoch 126/300\n",
            "5688/5688 [==============================] - 1s 113us/step - loss: 1.9888 - accuracy: 0.3736\n",
            "Epoch 127/300\n",
            "5688/5688 [==============================] - 1s 109us/step - loss: 1.9876 - accuracy: 0.3715\n",
            "Epoch 128/300\n",
            "5688/5688 [==============================] - 1s 110us/step - loss: 1.9855 - accuracy: 0.3727\n",
            "Epoch 129/300\n",
            "5688/5688 [==============================] - 1s 107us/step - loss: 1.9832 - accuracy: 0.3715\n",
            "Epoch 130/300\n",
            "5688/5688 [==============================] - 1s 106us/step - loss: 1.9831 - accuracy: 0.3738\n",
            "Epoch 131/300\n",
            "5688/5688 [==============================] - 1s 108us/step - loss: 1.9817 - accuracy: 0.3722\n",
            "Epoch 132/300\n",
            "5688/5688 [==============================] - 1s 107us/step - loss: 1.9802 - accuracy: 0.3736\n",
            "Epoch 133/300\n",
            "5688/5688 [==============================] - 1s 105us/step - loss: 1.9785 - accuracy: 0.3729\n",
            "Epoch 134/300\n",
            "5688/5688 [==============================] - 1s 104us/step - loss: 1.9771 - accuracy: 0.3755\n",
            "Epoch 135/300\n",
            "5688/5688 [==============================] - 1s 105us/step - loss: 1.9765 - accuracy: 0.3732\n",
            "Epoch 136/300\n",
            "5688/5688 [==============================] - 1s 110us/step - loss: 1.9744 - accuracy: 0.3766\n",
            "Epoch 137/300\n",
            "5688/5688 [==============================] - 1s 107us/step - loss: 1.9731 - accuracy: 0.3746\n",
            "Epoch 138/300\n",
            "5688/5688 [==============================] - 1s 110us/step - loss: 1.9721 - accuracy: 0.3769\n",
            "Epoch 139/300\n",
            "5688/5688 [==============================] - 1s 112us/step - loss: 1.9711 - accuracy: 0.3757\n",
            "Epoch 140/300\n",
            "5688/5688 [==============================] - 1s 108us/step - loss: 1.9701 - accuracy: 0.3782\n",
            "Epoch 141/300\n",
            "5688/5688 [==============================] - 1s 107us/step - loss: 1.9678 - accuracy: 0.3783\n",
            "Epoch 142/300\n",
            "5688/5688 [==============================] - 1s 105us/step - loss: 1.9674 - accuracy: 0.3792\n",
            "Epoch 143/300\n",
            "5688/5688 [==============================] - 1s 106us/step - loss: 1.9665 - accuracy: 0.3780\n",
            "Epoch 144/300\n",
            "5688/5688 [==============================] - 1s 106us/step - loss: 1.9653 - accuracy: 0.3771\n",
            "Epoch 145/300\n",
            "5688/5688 [==============================] - 1s 103us/step - loss: 1.9644 - accuracy: 0.3787\n",
            "Epoch 146/300\n",
            "5688/5688 [==============================] - 1s 106us/step - loss: 1.9626 - accuracy: 0.3785\n",
            "Epoch 147/300\n",
            "5688/5688 [==============================] - 1s 107us/step - loss: 1.9612 - accuracy: 0.3782\n",
            "Epoch 148/300\n",
            "5688/5688 [==============================] - 1s 110us/step - loss: 1.9603 - accuracy: 0.3819\n",
            "Epoch 149/300\n",
            "5688/5688 [==============================] - 1s 110us/step - loss: 1.9591 - accuracy: 0.3822\n",
            "Epoch 150/300\n",
            "5688/5688 [==============================] - 1s 103us/step - loss: 1.9570 - accuracy: 0.3826\n",
            "Epoch 151/300\n",
            "5688/5688 [==============================] - 1s 113us/step - loss: 1.9569 - accuracy: 0.3815\n",
            "Epoch 152/300\n",
            "5688/5688 [==============================] - 1s 108us/step - loss: 1.9553 - accuracy: 0.3836\n",
            "Epoch 153/300\n",
            "5688/5688 [==============================] - 1s 108us/step - loss: 1.9544 - accuracy: 0.3848\n",
            "Epoch 154/300\n",
            "5688/5688 [==============================] - 1s 105us/step - loss: 1.9545 - accuracy: 0.3861\n",
            "Epoch 155/300\n",
            "5688/5688 [==============================] - 1s 105us/step - loss: 1.9519 - accuracy: 0.3861\n",
            "Epoch 156/300\n",
            "5688/5688 [==============================] - 1s 110us/step - loss: 1.9509 - accuracy: 0.3861\n",
            "Epoch 157/300\n",
            "5688/5688 [==============================] - 1s 113us/step - loss: 1.9497 - accuracy: 0.3857\n",
            "Epoch 158/300\n",
            "5688/5688 [==============================] - 1s 115us/step - loss: 1.9494 - accuracy: 0.3887\n",
            "Epoch 159/300\n",
            "5688/5688 [==============================] - 1s 112us/step - loss: 1.9480 - accuracy: 0.3873\n",
            "Epoch 160/300\n",
            "5688/5688 [==============================] - 1s 110us/step - loss: 1.9465 - accuracy: 0.3852\n",
            "Epoch 161/300\n",
            "5688/5688 [==============================] - 1s 113us/step - loss: 1.9452 - accuracy: 0.3880\n",
            "Epoch 162/300\n",
            "5688/5688 [==============================] - 1s 114us/step - loss: 1.9432 - accuracy: 0.3880\n",
            "Epoch 163/300\n",
            "5688/5688 [==============================] - 1s 105us/step - loss: 1.9421 - accuracy: 0.3861\n",
            "Epoch 164/300\n",
            "5688/5688 [==============================] - 1s 116us/step - loss: 1.9424 - accuracy: 0.3870\n",
            "Epoch 165/300\n",
            "5688/5688 [==============================] - 1s 108us/step - loss: 1.9396 - accuracy: 0.3871\n",
            "Epoch 166/300\n",
            "5688/5688 [==============================] - 1s 105us/step - loss: 1.9385 - accuracy: 0.3889\n",
            "Epoch 167/300\n",
            "5688/5688 [==============================] - 1s 105us/step - loss: 1.9388 - accuracy: 0.3892\n",
            "Epoch 168/300\n",
            "5688/5688 [==============================] - 1s 105us/step - loss: 1.9365 - accuracy: 0.3878\n",
            "Epoch 169/300\n",
            "5688/5688 [==============================] - 1s 109us/step - loss: 1.9354 - accuracy: 0.3885\n",
            "Epoch 170/300\n",
            "5688/5688 [==============================] - 1s 113us/step - loss: 1.9346 - accuracy: 0.3931\n",
            "Epoch 171/300\n",
            "5688/5688 [==============================] - 1s 111us/step - loss: 1.9324 - accuracy: 0.3905\n",
            "Epoch 172/300\n",
            "5688/5688 [==============================] - 1s 109us/step - loss: 1.9324 - accuracy: 0.3912\n",
            "Epoch 173/300\n",
            "5688/5688 [==============================] - 1s 109us/step - loss: 1.9314 - accuracy: 0.3901\n",
            "Epoch 174/300\n",
            "5688/5688 [==============================] - 1s 113us/step - loss: 1.9293 - accuracy: 0.3903\n",
            "Epoch 175/300\n",
            "5688/5688 [==============================] - 1s 110us/step - loss: 1.9286 - accuracy: 0.3936\n",
            "Epoch 176/300\n",
            "5688/5688 [==============================] - 1s 116us/step - loss: 1.9264 - accuracy: 0.3921\n",
            "Epoch 177/300\n",
            "5688/5688 [==============================] - 1s 108us/step - loss: 1.9256 - accuracy: 0.3933\n",
            "Epoch 178/300\n",
            "5688/5688 [==============================] - 1s 107us/step - loss: 1.9245 - accuracy: 0.3940\n",
            "Epoch 179/300\n",
            "5688/5688 [==============================] - 1s 106us/step - loss: 1.9231 - accuracy: 0.3940\n",
            "Epoch 180/300\n",
            "5688/5688 [==============================] - 1s 111us/step - loss: 1.9223 - accuracy: 0.3949\n",
            "Epoch 181/300\n",
            "5688/5688 [==============================] - 1s 110us/step - loss: 1.9213 - accuracy: 0.3938\n",
            "Epoch 182/300\n",
            "5688/5688 [==============================] - 1s 104us/step - loss: 1.9195 - accuracy: 0.3972\n",
            "Epoch 183/300\n",
            "5688/5688 [==============================] - 1s 103us/step - loss: 1.9184 - accuracy: 0.3956\n",
            "Epoch 184/300\n",
            "5688/5688 [==============================] - 1s 104us/step - loss: 1.9171 - accuracy: 0.3973\n",
            "Epoch 185/300\n",
            "5688/5688 [==============================] - 1s 108us/step - loss: 1.9169 - accuracy: 0.3957\n",
            "Epoch 186/300\n",
            "5688/5688 [==============================] - 1s 109us/step - loss: 1.9150 - accuracy: 0.3987\n",
            "Epoch 187/300\n",
            "5688/5688 [==============================] - 1s 105us/step - loss: 1.9150 - accuracy: 0.3947\n",
            "Epoch 188/300\n",
            "5688/5688 [==============================] - 1s 110us/step - loss: 1.9133 - accuracy: 0.3984\n",
            "Epoch 189/300\n",
            "5688/5688 [==============================] - 1s 108us/step - loss: 1.9124 - accuracy: 0.3957\n",
            "Epoch 190/300\n",
            "5688/5688 [==============================] - 1s 107us/step - loss: 1.9103 - accuracy: 0.3961\n",
            "Epoch 191/300\n",
            "5688/5688 [==============================] - 1s 109us/step - loss: 1.9096 - accuracy: 0.3968\n",
            "Epoch 192/300\n",
            "5688/5688 [==============================] - 1s 104us/step - loss: 1.9078 - accuracy: 0.3970\n",
            "Epoch 193/300\n",
            "5688/5688 [==============================] - 1s 110us/step - loss: 1.9074 - accuracy: 0.3963\n",
            "Epoch 194/300\n",
            "5688/5688 [==============================] - 1s 109us/step - loss: 1.9060 - accuracy: 0.3984\n",
            "Epoch 195/300\n",
            "5688/5688 [==============================] - 1s 107us/step - loss: 1.9056 - accuracy: 0.3972\n",
            "Epoch 196/300\n",
            "5688/5688 [==============================] - 1s 105us/step - loss: 1.9043 - accuracy: 0.3987\n",
            "Epoch 197/300\n",
            "5688/5688 [==============================] - 1s 115us/step - loss: 1.9028 - accuracy: 0.3998\n",
            "Epoch 198/300\n",
            "5688/5688 [==============================] - 1s 106us/step - loss: 1.9013 - accuracy: 0.3998\n",
            "Epoch 199/300\n",
            "5688/5688 [==============================] - 1s 115us/step - loss: 1.9004 - accuracy: 0.4012\n",
            "Epoch 200/300\n",
            "5688/5688 [==============================] - 1s 113us/step - loss: 1.9009 - accuracy: 0.3977\n",
            "Epoch 201/300\n",
            "5688/5688 [==============================] - 1s 114us/step - loss: 1.8990 - accuracy: 0.3979\n",
            "Epoch 202/300\n",
            "5688/5688 [==============================] - 1s 109us/step - loss: 1.8976 - accuracy: 0.3991\n",
            "Epoch 203/300\n",
            "5688/5688 [==============================] - 1s 105us/step - loss: 1.8963 - accuracy: 0.3964\n",
            "Epoch 204/300\n",
            "5688/5688 [==============================] - 1s 106us/step - loss: 1.8966 - accuracy: 0.3993\n",
            "Epoch 205/300\n",
            "5688/5688 [==============================] - 1s 106us/step - loss: 1.8938 - accuracy: 0.4007\n",
            "Epoch 206/300\n",
            "5688/5688 [==============================] - 1s 103us/step - loss: 1.8931 - accuracy: 0.3993\n",
            "Epoch 207/300\n",
            "5688/5688 [==============================] - 1s 107us/step - loss: 1.8924 - accuracy: 0.4015\n",
            "Epoch 208/300\n",
            "5688/5688 [==============================] - 1s 108us/step - loss: 1.8917 - accuracy: 0.4023\n",
            "Epoch 209/300\n",
            "5688/5688 [==============================] - 1s 111us/step - loss: 1.8909 - accuracy: 0.4026\n",
            "Epoch 210/300\n",
            "5688/5688 [==============================] - 1s 109us/step - loss: 1.8885 - accuracy: 0.4023\n",
            "Epoch 211/300\n",
            "5688/5688 [==============================] - 1s 105us/step - loss: 1.8875 - accuracy: 0.4010\n",
            "Epoch 212/300\n",
            "5688/5688 [==============================] - 1s 110us/step - loss: 1.8874 - accuracy: 0.4026\n",
            "Epoch 213/300\n",
            "5688/5688 [==============================] - 1s 107us/step - loss: 1.8860 - accuracy: 0.4010\n",
            "Epoch 214/300\n",
            "5688/5688 [==============================] - 1s 112us/step - loss: 1.8844 - accuracy: 0.4008\n",
            "Epoch 215/300\n",
            "5688/5688 [==============================] - 1s 108us/step - loss: 1.8838 - accuracy: 0.4030\n",
            "Epoch 216/300\n",
            "5688/5688 [==============================] - 1s 104us/step - loss: 1.8830 - accuracy: 0.4058\n",
            "Epoch 217/300\n",
            "5688/5688 [==============================] - 1s 107us/step - loss: 1.8813 - accuracy: 0.4023\n",
            "Epoch 218/300\n",
            "5688/5688 [==============================] - 1s 105us/step - loss: 1.8808 - accuracy: 0.4005\n",
            "Epoch 219/300\n",
            "5688/5688 [==============================] - 1s 106us/step - loss: 1.8801 - accuracy: 0.4044\n",
            "Epoch 220/300\n",
            "5688/5688 [==============================] - 1s 107us/step - loss: 1.8784 - accuracy: 0.4019\n",
            "Epoch 221/300\n",
            "5688/5688 [==============================] - 1s 102us/step - loss: 1.8767 - accuracy: 0.4049\n",
            "Epoch 222/300\n",
            "5688/5688 [==============================] - 1s 106us/step - loss: 1.8771 - accuracy: 0.3994\n",
            "Epoch 223/300\n",
            "5688/5688 [==============================] - 1s 107us/step - loss: 1.8760 - accuracy: 0.4017\n",
            "Epoch 224/300\n",
            "5688/5688 [==============================] - 1s 108us/step - loss: 1.8739 - accuracy: 0.4047\n",
            "Epoch 225/300\n",
            "5688/5688 [==============================] - 1s 115us/step - loss: 1.8733 - accuracy: 0.4008\n",
            "Epoch 226/300\n",
            "5688/5688 [==============================] - 1s 107us/step - loss: 1.8719 - accuracy: 0.4073\n",
            "Epoch 227/300\n",
            "5688/5688 [==============================] - 1s 112us/step - loss: 1.8715 - accuracy: 0.4065\n",
            "Epoch 228/300\n",
            "5688/5688 [==============================] - 1s 111us/step - loss: 1.8705 - accuracy: 0.4073\n",
            "Epoch 229/300\n",
            "5688/5688 [==============================] - 1s 107us/step - loss: 1.8700 - accuracy: 0.4075\n",
            "Epoch 230/300\n",
            "5688/5688 [==============================] - 1s 115us/step - loss: 1.8686 - accuracy: 0.4063\n",
            "Epoch 231/300\n",
            "5688/5688 [==============================] - 1s 109us/step - loss: 1.8673 - accuracy: 0.4049\n",
            "Epoch 232/300\n",
            "5688/5688 [==============================] - 1s 111us/step - loss: 1.8662 - accuracy: 0.4081\n",
            "Epoch 233/300\n",
            "5688/5688 [==============================] - 1s 111us/step - loss: 1.8655 - accuracy: 0.4056\n",
            "Epoch 234/300\n",
            "5688/5688 [==============================] - 1s 109us/step - loss: 1.8646 - accuracy: 0.4063\n",
            "Epoch 235/300\n",
            "5688/5688 [==============================] - 1s 110us/step - loss: 1.8628 - accuracy: 0.4052\n",
            "Epoch 236/300\n",
            "5688/5688 [==============================] - 1s 111us/step - loss: 1.8616 - accuracy: 0.4081\n",
            "Epoch 237/300\n",
            "5688/5688 [==============================] - 1s 109us/step - loss: 1.8628 - accuracy: 0.4068\n",
            "Epoch 238/300\n",
            "5688/5688 [==============================] - 1s 113us/step - loss: 1.8607 - accuracy: 0.4091\n",
            "Epoch 239/300\n",
            "5688/5688 [==============================] - 1s 106us/step - loss: 1.8598 - accuracy: 0.4056\n",
            "Epoch 240/300\n",
            "5688/5688 [==============================] - 1s 108us/step - loss: 1.8580 - accuracy: 0.4066\n",
            "Epoch 241/300\n",
            "5688/5688 [==============================] - 1s 109us/step - loss: 1.8575 - accuracy: 0.4063\n",
            "Epoch 242/300\n",
            "5688/5688 [==============================] - 1s 107us/step - loss: 1.8566 - accuracy: 0.4056\n",
            "Epoch 243/300\n",
            "5688/5688 [==============================] - 1s 105us/step - loss: 1.8560 - accuracy: 0.4093\n",
            "Epoch 244/300\n",
            "5688/5688 [==============================] - 1s 103us/step - loss: 1.8552 - accuracy: 0.4081\n",
            "Epoch 245/300\n",
            "5688/5688 [==============================] - 1s 107us/step - loss: 1.8533 - accuracy: 0.4079\n",
            "Epoch 246/300\n",
            "5688/5688 [==============================] - 1s 105us/step - loss: 1.8534 - accuracy: 0.4093\n",
            "Epoch 247/300\n",
            "5688/5688 [==============================] - 1s 109us/step - loss: 1.8521 - accuracy: 0.4098\n",
            "Epoch 248/300\n",
            "5688/5688 [==============================] - 1s 109us/step - loss: 1.8506 - accuracy: 0.4100\n",
            "Epoch 249/300\n",
            "5688/5688 [==============================] - 1s 108us/step - loss: 1.8504 - accuracy: 0.4096\n",
            "Epoch 250/300\n",
            "5688/5688 [==============================] - 1s 107us/step - loss: 1.8492 - accuracy: 0.4100\n",
            "Epoch 251/300\n",
            "5688/5688 [==============================] - 1s 106us/step - loss: 1.8485 - accuracy: 0.4116\n",
            "Epoch 252/300\n",
            "5688/5688 [==============================] - 1s 104us/step - loss: 1.8472 - accuracy: 0.4102\n",
            "Epoch 253/300\n",
            "5688/5688 [==============================] - 1s 109us/step - loss: 1.8462 - accuracy: 0.4058\n",
            "Epoch 254/300\n",
            "5688/5688 [==============================] - 1s 109us/step - loss: 1.8470 - accuracy: 0.4082\n",
            "Epoch 255/300\n",
            "5688/5688 [==============================] - 1s 106us/step - loss: 1.8447 - accuracy: 0.4109\n",
            "Epoch 256/300\n",
            "5688/5688 [==============================] - 1s 106us/step - loss: 1.8430 - accuracy: 0.4093\n",
            "Epoch 257/300\n",
            "5688/5688 [==============================] - 1s 109us/step - loss: 1.8430 - accuracy: 0.4107\n",
            "Epoch 258/300\n",
            "5688/5688 [==============================] - 1s 113us/step - loss: 1.8421 - accuracy: 0.4110\n",
            "Epoch 259/300\n",
            "5688/5688 [==============================] - 1s 110us/step - loss: 1.8424 - accuracy: 0.4096\n",
            "Epoch 260/300\n",
            "5688/5688 [==============================] - 1s 111us/step - loss: 1.8405 - accuracy: 0.4132\n",
            "Epoch 261/300\n",
            "5688/5688 [==============================] - 1s 106us/step - loss: 1.8400 - accuracy: 0.4103\n",
            "Epoch 262/300\n",
            "5688/5688 [==============================] - 1s 112us/step - loss: 1.8389 - accuracy: 0.4128\n",
            "Epoch 263/300\n",
            "5688/5688 [==============================] - 1s 111us/step - loss: 1.8380 - accuracy: 0.4093\n",
            "Epoch 264/300\n",
            "5688/5688 [==============================] - 1s 113us/step - loss: 1.8379 - accuracy: 0.4126\n",
            "Epoch 265/300\n",
            "5688/5688 [==============================] - 1s 108us/step - loss: 1.8375 - accuracy: 0.4096\n",
            "Epoch 266/300\n",
            "5688/5688 [==============================] - 1s 111us/step - loss: 1.8358 - accuracy: 0.4098\n",
            "Epoch 267/300\n",
            "5688/5688 [==============================] - 1s 111us/step - loss: 1.8342 - accuracy: 0.4147\n",
            "Epoch 268/300\n",
            "5688/5688 [==============================] - 1s 114us/step - loss: 1.8339 - accuracy: 0.4123\n",
            "Epoch 269/300\n",
            "5688/5688 [==============================] - 1s 110us/step - loss: 1.8343 - accuracy: 0.4135\n",
            "Epoch 270/300\n",
            "5688/5688 [==============================] - 1s 108us/step - loss: 1.8328 - accuracy: 0.4123\n",
            "Epoch 271/300\n",
            "5688/5688 [==============================] - 1s 112us/step - loss: 1.8324 - accuracy: 0.4124\n",
            "Epoch 272/300\n",
            "5688/5688 [==============================] - 1s 109us/step - loss: 1.8315 - accuracy: 0.4151\n",
            "Epoch 273/300\n",
            "5688/5688 [==============================] - 1s 109us/step - loss: 1.8308 - accuracy: 0.4156\n",
            "Epoch 274/300\n",
            "5688/5688 [==============================] - 1s 114us/step - loss: 1.8289 - accuracy: 0.4146\n",
            "Epoch 275/300\n",
            "5688/5688 [==============================] - 1s 110us/step - loss: 1.8289 - accuracy: 0.4124\n",
            "Epoch 276/300\n",
            "5688/5688 [==============================] - 1s 112us/step - loss: 1.8285 - accuracy: 0.4140\n",
            "Epoch 277/300\n",
            "5688/5688 [==============================] - 1s 113us/step - loss: 1.8270 - accuracy: 0.4161\n",
            "Epoch 278/300\n",
            "5688/5688 [==============================] - 1s 109us/step - loss: 1.8269 - accuracy: 0.4139\n",
            "Epoch 279/300\n",
            "5688/5688 [==============================] - 1s 111us/step - loss: 1.8260 - accuracy: 0.4137\n",
            "Epoch 280/300\n",
            "5688/5688 [==============================] - 1s 108us/step - loss: 1.8254 - accuracy: 0.4147\n",
            "Epoch 281/300\n",
            "5688/5688 [==============================] - 1s 113us/step - loss: 1.8248 - accuracy: 0.4170\n",
            "Epoch 282/300\n",
            "5688/5688 [==============================] - 1s 116us/step - loss: 1.8233 - accuracy: 0.4167\n",
            "Epoch 283/300\n",
            "5688/5688 [==============================] - 1s 110us/step - loss: 1.8235 - accuracy: 0.4167\n",
            "Epoch 284/300\n",
            "5688/5688 [==============================] - 1s 110us/step - loss: 1.8226 - accuracy: 0.4167\n",
            "Epoch 285/300\n",
            "5688/5688 [==============================] - 1s 108us/step - loss: 1.8212 - accuracy: 0.4193\n",
            "Epoch 286/300\n",
            "5688/5688 [==============================] - 1s 105us/step - loss: 1.8208 - accuracy: 0.4182\n",
            "Epoch 287/300\n",
            "5688/5688 [==============================] - 1s 107us/step - loss: 1.8212 - accuracy: 0.4175\n",
            "Epoch 288/300\n",
            "5688/5688 [==============================] - 1s 103us/step - loss: 1.8197 - accuracy: 0.4181\n",
            "Epoch 289/300\n",
            "5688/5688 [==============================] - 1s 107us/step - loss: 1.8187 - accuracy: 0.4132\n",
            "Epoch 290/300\n",
            "5688/5688 [==============================] - 1s 107us/step - loss: 1.8184 - accuracy: 0.4190\n",
            "Epoch 291/300\n",
            "5688/5688 [==============================] - 1s 103us/step - loss: 1.8172 - accuracy: 0.4186\n",
            "Epoch 292/300\n",
            "5688/5688 [==============================] - 1s 106us/step - loss: 1.8175 - accuracy: 0.4205\n",
            "Epoch 293/300\n",
            "5688/5688 [==============================] - 1s 104us/step - loss: 1.8162 - accuracy: 0.4193\n",
            "Epoch 294/300\n",
            "5688/5688 [==============================] - 1s 105us/step - loss: 1.8158 - accuracy: 0.4172\n",
            "Epoch 295/300\n",
            "5688/5688 [==============================] - 1s 99us/step - loss: 1.8146 - accuracy: 0.4221\n",
            "Epoch 296/300\n",
            "5688/5688 [==============================] - 1s 106us/step - loss: 1.8148 - accuracy: 0.4170\n",
            "Epoch 297/300\n",
            "5688/5688 [==============================] - 1s 109us/step - loss: 1.8139 - accuracy: 0.4174\n",
            "Epoch 298/300\n",
            "5688/5688 [==============================] - 1s 105us/step - loss: 1.8133 - accuracy: 0.4172\n",
            "Epoch 299/300\n",
            "5688/5688 [==============================] - 1s 105us/step - loss: 1.8117 - accuracy: 0.4202\n",
            "Epoch 300/300\n",
            "5688/5688 [==============================] - 1s 104us/step - loss: 1.8120 - accuracy: 0.4198\n"
          ],
          "name": "stdout"
        },
        {
          "output_type": "execute_result",
          "data": {
            "text/plain": [
              "<keras.callbacks.callbacks.History at 0x7f5609e6eb38>"
            ]
          },
          "metadata": {
            "tags": []
          },
          "execution_count": 57
        }
      ]
    },
    {
      "cell_type": "markdown",
      "metadata": {
        "id": "yHlQ4kBfZldH",
        "colab_type": "text"
      },
      "source": [
        "Now that we have a model of the character sequences, we can actually use it to generate words. All we need is a seed character."
      ]
    },
    {
      "cell_type": "code",
      "metadata": {
        "id": "OErOGXjKao4I",
        "colab_type": "code",
        "colab": {}
      },
      "source": [
        "def generate_word(seed_char, model):\n",
        "    text = seed_char \n",
        "    for _ in range(100):\n",
        "        # encode the current text\n",
        "        encoded = texts_to_sequences([text])[0]\n",
        "        # pad the sequence\n",
        "        encoded = kp.sequence.pad_sequences( \n",
        "            [encoded], maxlen=w, padding='pre', truncating='pre')\n",
        "        # predict the next index\n",
        "        pred = model.predict_classes(encoded, verbose=0) \n",
        "        # convert the index\n",
        "        pred = sequences_to_texts([pred])[0] \n",
        "        # if the model predicts the end of the word, exit\n",
        "        if pred == '#': \n",
        "            break\n",
        "        text += pred\n",
        "    return text"
      ],
      "execution_count": 58,
      "outputs": []
    },
    {
      "cell_type": "code",
      "metadata": {
        "id": "DkXKWFL5aqja",
        "colab_type": "code",
        "colab": {
          "base_uri": "https://localhost:8080/",
          "height": 478
        },
        "outputId": "91a7ed71-4afa-41d5-ab38-2d179dec8956"
      },
      "source": [
        "alphabet = 'ABCDEFGHIJKLMNOPQRSTUVWXYZ'\n",
        "\n",
        "for c in alphabet:\n",
        "    print(c, '->', generate_word(c, model), end=', ')\n",
        "    c = c.lower()\n",
        "    print(c, '->', generate_word(c, model))"
      ],
      "execution_count": 59,
      "outputs": [
        {
          "output_type": "stream",
          "text": [
            "A -> Anth, a -> antion\n",
            "B -> Bren, b -> bes\n",
            "C -> Corked, c -> courd\n",
            "D -> Dincor, d -> deally\n",
            "E -> Entronder, e -> early\n",
            "F -> Frond, f -> fore\n",
            "G -> Gear, g -> gate\n",
            "H -> Her, h -> hert\n",
            "I -> Ine, i -> intione\n",
            "J -> Jand, j -> jore\n",
            "K -> Kenne, k -> kear\n",
            "L -> Learly, l -> lear\n",
            "M -> Mand, m -> mear\n",
            "N -> Nourd, n -> nertion\n",
            "O -> On, o -> ont\n",
            "P -> Prearly, p -> pronere\n",
            "Q -> Qearly, q -> qual\n",
            "R -> Rhow, r -> rearly\n",
            "S -> Some, s -> stand\n",
            "T -> Then, t -> then\n",
            "U -> Ungore, u -> unt\n",
            "V -> Vearly, v -> verond\n",
            "W -> Whowe, w -> wate\n",
            "X -> Xearly, x -> xard\n",
            "Y -> York, y -> y\n",
            "Z -> Zearly, z -> zear\n"
          ],
          "name": "stdout"
        }
      ]
    },
    {
      "cell_type": "markdown",
      "metadata": {
        "id": "K0x_3xaEassJ",
        "colab_type": "text"
      },
      "source": [
        "This looks interesting. Some of these are even real words, like \"Her,\" \"land,\" and \"state.\" The principles for doing this with words is the same. The number of dimensions increases, so we must be mindful of memory usage.\n",
        "\n",
        "Let's look at how these work. First, let's extract our layers."
      ]
    },
    {
      "cell_type": "code",
      "metadata": {
        "id": "76xpYLwNar1_",
        "colab_type": "code",
        "colab": {}
      },
      "source": [
        "embedding = model.layers[0]\n",
        "lstm = model.layers[1]\n",
        "dense = model.layers[2]"
      ],
      "execution_count": 60,
      "outputs": []
    },
    {
      "cell_type": "markdown",
      "metadata": {
        "id": "btha5jG9avOX",
        "colab_type": "text"
      },
      "source": [
        "After this, we want to extract the weights. The Keras library does not store each of the weights of the LSTM layer separately, so we will have to split them out."
      ]
    },
    {
      "cell_type": "code",
      "metadata": {
        "id": "4QhN1weRayt6",
        "colab_type": "code",
        "colab": {}
      },
      "source": [
        "# embedding layers don't have a bias term, so \n",
        "# we only get one here\n",
        "W_e = embedding.get_weights()[0]\n",
        "\n",
        "W, U, b = lstm.get_weights()\n",
        "\n",
        "# The W_* weights are concatenated along the second axis\n",
        "W_i = W[:, :units]\n",
        "W_f = W[:, units: units * 2]\n",
        "W_c = W[:, units * 2: units * 3]\n",
        "W_o = W[:, units * 3:]\n",
        "\n",
        "# The U_* weights are concatenated along the second axis\n",
        "U_i = U[:, :units]\n",
        "U_f = U[:, units: units * 2]\n",
        "U_c = U[:, units * 2: units * 3]\n",
        "U_o = U[:, units * 3:]\n",
        "\n",
        "# The b_* weights are also concatenated\n",
        "b_i = b[:units]\n",
        "b_f = b[units: units * 2]\n",
        "b_c = b[units * 2: units * 3]\n",
        "b_o = b[units * 3:]\n",
        "\n",
        "# Finally, the output weights\n",
        "W_d, b_d = dense.get_weights()"
      ],
      "execution_count": 61,
      "outputs": []
    },
    {
      "cell_type": "markdown",
      "metadata": {
        "id": "4zoHOxlMaxmt",
        "colab_type": "text"
      },
      "source": [
        "Let's see what we should expect when we try and predict the next character after \"recurren.\""
      ]
    },
    {
      "cell_type": "code",
      "metadata": {
        "id": "Q-4RHiCca2i5",
        "colab_type": "code",
        "colab": {
          "base_uri": "https://localhost:8080/",
          "height": 34
        },
        "outputId": "89aabc72-9304-4051-e814-8d1e76d56815"
      },
      "source": [
        "text = ['recurren']\n",
        "encoded = texts_to_sequences(text) \n",
        "encoded = kp.sequence.pad_sequences(\n",
        "    encoded, maxlen=w, padding='pre')\n",
        "pred = model.predict_classes(encoded)\n",
        "pred = sequences_to_texts([pred])\n",
        "pred"
      ],
      "execution_count": 62,
      "outputs": [
        {
          "output_type": "execute_result",
          "data": {
            "text/plain": [
              "['#']"
            ]
          },
          "metadata": {
            "tags": []
          },
          "execution_count": 62
        }
      ]
    },
    {
      "cell_type": "markdown",
      "metadata": {
        "id": "ybLMX5Kbaxuq",
        "colab_type": "text"
      },
      "source": [
        "This makes sense because this would make the word \"recurrent.\" Now, let's see if we can calculate this for ourselves. First, we must create our inputs."
      ]
    },
    {
      "cell_type": "code",
      "metadata": {
        "id": "s-s6JlSia465",
        "colab_type": "code",
        "colab": {
          "base_uri": "https://localhost:8080/",
          "height": 34
        },
        "outputId": "184d56b7-53ba-4302-d04a-d9f2c648f168"
      },
      "source": [
        "X = ['recurren']\n",
        "X = texts_to_sequences(X)\n",
        "X = kp.sequence.pad_sequences(encoded, maxlen=w, padding='pre')\n",
        "X = np.eye(alphabet_size)[X.reshape(-1)].T\n",
        "X.shape"
      ],
      "execution_count": 63,
      "outputs": [
        {
          "output_type": "execute_result",
          "data": {
            "text/plain": [
              "(50, 10)"
            ]
          },
          "metadata": {
            "tags": []
          },
          "execution_count": 63
        }
      ]
    },
    {
      "cell_type": "markdown",
      "metadata": {
        "id": "gpYrIBOqax1z",
        "colab_type": "text"
      },
      "source": [
        "Now, we can convert our 50-dimensional sparse vectors into much more dense 5-dimensional vectors using the embedding layer."
      ]
    },
    {
      "cell_type": "code",
      "metadata": {
        "id": "fRMkWyzta7x4",
        "colab_type": "code",
        "colab": {
          "base_uri": "https://localhost:8080/",
          "height": 34
        },
        "outputId": "23b6cf2d-55be-4e25-ece1-13349f9609c6"
      },
      "source": [
        "V_e = np.dot(W_e.T, X).T\n",
        "V_e.shape"
      ],
      "execution_count": 64,
      "outputs": [
        {
          "output_type": "execute_result",
          "data": {
            "text/plain": [
              "(10, 5)"
            ]
          },
          "metadata": {
            "tags": []
          },
          "execution_count": 64
        }
      ]
    },
    {
      "cell_type": "markdown",
      "metadata": {
        "id": "4EGKrNmeax8T",
        "colab_type": "text"
      },
      "source": [
        "Let's run this through the LSTM. This code is mostly parallel to the previous equations, the exception being that we store the values in h_* variables before sending them through the activation functions. This is done to keep the lines of code from being too long."
      ]
    },
    {
      "cell_type": "code",
      "metadata": {
        "id": "9lz9_VM1a_Iw",
        "colab_type": "code",
        "colab": {
          "base_uri": "https://localhost:8080/",
          "height": 34
        },
        "outputId": "7fe4e532-15f8-4ccf-b009-4afc51515008"
      },
      "source": [
        "v_t = np.zeros(units)\n",
        "c_t = np.zeros(units)\n",
        "for v_e in V_e:\n",
        "    h_f = np.dot(W_f.T, v_e) + np.dot(U_f.T, v_t) + b_f\n",
        "    f_t = sigmoid(h_f)\n",
        "    h_i = np.dot(W_i.T, v_e) + np.dot(U_i.T, v_t) + b_i\n",
        "    i_t = sigmoid(h_i)\n",
        "    h_o = np.dot(W_o.T, v_e) + np.dot(U_o.T, v_t) + b_o\n",
        "    o_t = sigmoid(h_o)\n",
        "    h_cc = np.dot(W_c.T, v_e) + np.dot(U_c.T, v_t) + b_c\n",
        "    cc_t = np.tanh(h_cc)\n",
        "    c_t = np.multiply(f_t, c_t) + np.multiply(i_t, cc_t)\n",
        "    v_t = np.multiply(o_t, np.tanh(c_t))\n",
        "    \n",
        "v_t.shape"
      ],
      "execution_count": 65,
      "outputs": [
        {
          "output_type": "execute_result",
          "data": {
            "text/plain": [
              "(20,)"
            ]
          },
          "metadata": {
            "tags": []
          },
          "execution_count": 65
        }
      ]
    },
    {
      "cell_type": "markdown",
      "metadata": {
        "id": "8oGbrnskax4t",
        "colab_type": "text"
      },
      "source": [
        "We will take the last output and pass it through the dense layer to get our prediction."
      ]
    },
    {
      "cell_type": "code",
      "metadata": {
        "id": "QynrACtTbCtQ",
        "colab_type": "code",
        "colab": {
          "base_uri": "https://localhost:8080/",
          "height": 247
        },
        "outputId": "d16b82f4-b55a-49fc-dbc1-e94c637fe689"
      },
      "source": [
        "h_d = np.dot(W_d.T, v_t) + b_d\n",
        "pred = softmax(h_d)\n",
        "pred"
      ],
      "execution_count": 66,
      "outputs": [
        {
          "output_type": "execute_result",
          "data": {
            "text/plain": [
              "array([2.56678746e-12, 3.65470816e-12, 4.88291389e-04, 1.23321508e-01,\n",
              "       4.63850852e-01, 5.69456647e-02, 1.15341614e-02, 1.57842111e-02,\n",
              "       3.97501777e-02, 7.49312138e-03, 5.18823575e-03, 2.56737254e-04,\n",
              "       2.17643859e-03, 7.59634550e-02, 1.54521545e-01, 1.56953148e-04,\n",
              "       1.28094426e-02, 9.00553882e-04, 1.67615392e-04, 1.19212914e-02,\n",
              "       2.93218873e-04, 3.93016984e-12, 3.44994160e-04, 1.49876333e-02,\n",
              "       1.02209693e-03, 1.03374733e-04, 3.41995732e-12, 2.64460032e-32,\n",
              "       2.59396936e-12, 2.39544096e-12, 2.92593080e-12, 1.81501285e-10,\n",
              "       2.27748840e-12, 5.98926684e-13, 4.09961140e-12, 3.22220127e-12,\n",
              "       2.32429678e-12, 2.94324196e-12, 2.02297532e-12, 3.76622907e-12,\n",
              "       1.84258886e-05, 2.59875303e-12, 1.94514630e-12, 1.91258572e-12,\n",
              "       1.85484987e-12, 2.20216876e-12, 2.46477396e-12, 2.68170340e-12,\n",
              "       2.58944363e-12, 3.47247260e-12])"
            ]
          },
          "metadata": {
            "tags": []
          },
          "execution_count": 66
        }
      ]
    },
    {
      "cell_type": "markdown",
      "metadata": {
        "id": "cTmrGQgIaxx6",
        "colab_type": "text"
      },
      "source": [
        "We just need to find the index with the highest value, so we use argmax."
      ]
    },
    {
      "cell_type": "code",
      "metadata": {
        "id": "8CR9DWdTbGq7",
        "colab_type": "code",
        "colab": {
          "base_uri": "https://localhost:8080/",
          "height": 35
        },
        "outputId": "2b808b0a-a323-49ab-910c-55b8ec391e05"
      },
      "source": [
        "i2c[pred.argmax()]"
      ],
      "execution_count": 67,
      "outputs": [
        {
          "output_type": "execute_result",
          "data": {
            "application/vnd.google.colaboratory.intrinsic+json": {
              "type": "string"
            },
            "text/plain": [
              "'#'"
            ]
          },
          "metadata": {
            "tags": []
          },
          "execution_count": 67
        }
      ]
    },
    {
      "cell_type": "markdown",
      "metadata": {
        "id": "F2t0BSfRaxqc",
        "colab_type": "text"
      },
      "source": [
        "Finally, we have our prediction. Let's look at some of the runners-up."
      ]
    },
    {
      "cell_type": "code",
      "metadata": {
        "id": "W0WN5ZUqbJsp",
        "colab_type": "code",
        "colab": {}
      },
      "source": [
        "top5 = sorted(enumerate(pred), key=lambda x: x[1], reverse=True)[:5]"
      ],
      "execution_count": 68,
      "outputs": []
    },
    {
      "cell_type": "code",
      "metadata": {
        "id": "fuJqXiwTbK4x",
        "colab_type": "code",
        "colab": {
          "base_uri": "https://localhost:8080/",
          "height": 105
        },
        "outputId": "d4c92dc6-1010-4804-a6a7-9fbf35bd6b5b"
      },
      "source": [
        "for ix, p in top5:\n",
        "    print(i2c[ix], p)"
      ],
      "execution_count": 69,
      "outputs": [
        {
          "output_type": "stream",
          "text": [
            "# 0.46385085234976947\n",
            "t 0.1545215447779586\n",
            "e 0.12332150794991954\n",
            "c 0.07596345496592206\n",
            "s 0.05694566473665898\n"
          ],
          "name": "stdout"
        }
      ]
    },
    {
      "cell_type": "markdown",
      "metadata": {
        "id": "aX7014xtaxeO",
        "colab_type": "text"
      },
      "source": [
        "We can speculate as to why the other characters might be predicted. The character \"g\" could be predicted based on how similar the input string is to \"recurring.\" As we discussed previously, most words are not as long as \"recurren,\" so predicting the end of the word also makes sense. The character \"c\" is part of the word \"recurrence.\" And the character \"s\" is a common letter in English, so it will often show up with a high probability.\n",
        "\n",
        "Modeling sequences is a central part of modern NLP. In the bag-of-words approach, we lose all the information communicated by syntax. Now that we can model language as a sequence, we can look at how to extract information from the sequences.  "
      ]
    },
    {
      "cell_type": "markdown",
      "metadata": {
        "id": "swFWhRc7bRkr",
        "colab_type": "text"
      },
      "source": [
        "## Exercise: Character N-Grams\n",
        "\n",
        "Modify the language model RNN to use character N-grams. So, the sequences should be recurrent -> 2-gram -> [re, cu, rr, en, t#].\n",
        "\n",
        "Remember that you may want to update w to reflect how much context you need."
      ]
    },
    {
      "cell_type": "markdown",
      "metadata": {
        "id": "G2hB_Yr9bRQw",
        "colab_type": "text"
      },
      "source": [
        "## Exercise: Word Language Model\n",
        "\n",
        "Take the poem \"Jabberwocky\" and build a language model from that.\n",
        "\n",
        "Your sequences will be lines in the poem—for example, [\"’Twas brillig, and the slithy toves,\" \"Did gyre and gimble in the wabe:\"]. Use a Spark NLP pipeline to process the text and extract the list of tokens.\n",
        "Your encoding code will need to change, c2i, i2c, texts_to_sequences, and sequences_to_texts will need to be updated to work with words.\n",
        "generate_word will need to be updated to generate lines instead."
      ]
    },
    {
      "cell_type": "markdown",
      "metadata": {
        "id": "fBgbYWWPbQz1",
        "colab_type": "text"
      },
      "source": [
        "## Resources\n",
        "* The Penn Treebank: An Overview, by Ann Taylor, Mitchell Marcus, and Beatrice Santorini (Springer): this is an overview of the Penn Treebank data set, which is one of the most widely used NLP data sets.\n",
        "* Long Short-Term Memory in Recurrent Neural Networks, by Felix Gers: the PhD dissertation describing LSTMs. It's a little dense, as expected in a dissertation, but if you are interested in the mathematical underpinnings it's a must-read.\n",
        "* Probabilistic Graphical Models: Principles and Techniques, by Daphne Koller and Nir Friedman (MIT Press): this is a textbook for probabilistic graphical models like HMMs and CRFs. "
      ]
    }
  ]
}