{
  "nbformat": 4,
  "nbformat_minor": 0,
  "metadata": {
    "colab": {
      "name": "2.7_Classification_and_Regression.ipynb",
      "provenance": [],
      "authorship_tag": "ABX9TyP5BxX94CnKmHGRlTcMcwZb",
      "include_colab_link": true
    },
    "kernelspec": {
      "name": "python3",
      "display_name": "Python 3"
    }
  },
  "cells": [
    {
      "cell_type": "markdown",
      "metadata": {
        "id": "view-in-github",
        "colab_type": "text"
      },
      "source": [
        "<a href=\"https://colab.research.google.com/github/alexander-n-thomas/spark-nlp-book-prod/blob/master/2_7_Classification_and_Regression.ipynb\" target=\"_parent\"><img src=\"https://colab.research.google.com/assets/colab-badge.svg\" alt=\"Open In Colab\"/></a>"
      ]
    },
    {
      "cell_type": "code",
      "metadata": {
        "id": "d4zpDO5R1ox4",
        "colab_type": "code",
        "colab": {
          "base_uri": "https://localhost:8080/",
          "height": 390
        },
        "outputId": "6a941bbb-15d1-424c-e909-781d89643a90"
      },
      "source": [
        "import os\n",
        "\n",
        "# Install java\n",
        "! apt-get install -y openjdk-8-jdk-headless -qq > /dev/null\n",
        "os.environ[\"JAVA_HOME\"] = \"/usr/lib/jvm/java-8-openjdk-amd64\"\n",
        "os.environ[\"PATH\"] = os.environ[\"JAVA_HOME\"] + \"/bin:\" + os.environ[\"PATH\"]\n",
        "! java -version\n",
        "\n",
        "# Install pyspark\n",
        "! pip install --ignore-installed pyspark==2.4.4\n",
        "\n",
        "# Install Spark NLP\n",
        "! pip install --ignore-installed spark-nlp==2.5.1"
      ],
      "execution_count": 1,
      "outputs": [
        {
          "output_type": "stream",
          "text": [
            "openjdk version \"1.8.0_252\"\n",
            "OpenJDK Runtime Environment (build 1.8.0_252-8u252-b09-1~18.04-b09)\n",
            "OpenJDK 64-Bit Server VM (build 25.252-b09, mixed mode)\n",
            "Collecting pyspark==2.4.4\n",
            "\u001b[?25l  Downloading https://files.pythonhosted.org/packages/87/21/f05c186f4ddb01d15d0ddc36ef4b7e3cedbeb6412274a41f26b55a650ee5/pyspark-2.4.4.tar.gz (215.7MB)\n",
            "\u001b[K     |████████████████████████████████| 215.7MB 61kB/s \n",
            "\u001b[?25hCollecting py4j==0.10.7\n",
            "\u001b[?25l  Downloading https://files.pythonhosted.org/packages/e3/53/c737818eb9a7dc32a7cd4f1396e787bd94200c3997c72c1dbe028587bd76/py4j-0.10.7-py2.py3-none-any.whl (197kB)\n",
            "\u001b[K     |████████████████████████████████| 204kB 54.7MB/s \n",
            "\u001b[?25hBuilding wheels for collected packages: pyspark\n",
            "  Building wheel for pyspark (setup.py) ... \u001b[?25l\u001b[?25hdone\n",
            "  Created wheel for pyspark: filename=pyspark-2.4.4-py2.py3-none-any.whl size=216130388 sha256=784345438dcfa4cb75d871b2639d6f5131887a85f7349975accc7df6841e67c7\n",
            "  Stored in directory: /root/.cache/pip/wheels/ab/09/4d/0d184230058e654eb1b04467dbc1292f00eaa186544604b471\n",
            "Successfully built pyspark\n",
            "Installing collected packages: py4j, pyspark\n",
            "Successfully installed py4j-0.10.7 pyspark-2.4.4\n",
            "Collecting spark-nlp==2.5.1\n",
            "\u001b[?25l  Downloading https://files.pythonhosted.org/packages/df/b4/db653f8080a446de8ce981b262d85c85c61de7e920930726da0d1c6b4c65/spark_nlp-2.5.1-py2.py3-none-any.whl (121kB)\n",
            "\u001b[K     |████████████████████████████████| 122kB 7.9MB/s \n",
            "\u001b[?25hInstalling collected packages: spark-nlp\n",
            "Successfully installed spark-nlp-2.5.1\n"
          ],
          "name": "stdout"
        }
      ]
    },
    {
      "cell_type": "code",
      "metadata": {
        "id": "HzgTx-7OuEnm",
        "colab_type": "code",
        "colab": {}
      },
      "source": [
        "! mkdir -p data"
      ],
      "execution_count": 2,
      "outputs": []
    },
    {
      "cell_type": "code",
      "metadata": {
        "id": "dgBCSO9Fr-M5",
        "colab_type": "code",
        "colab": {
          "base_uri": "https://localhost:8080/",
          "height": 212
        },
        "outputId": "847728dd-8a8c-49ab-d16c-d15384c9774a"
      },
      "source": [
        "! wget https://archive.ics.uci.edu/ml/machine-learning-databases/20newsgroups-mld/mini_newsgroups.tar.gz"
      ],
      "execution_count": 3,
      "outputs": [
        {
          "output_type": "stream",
          "text": [
            "--2020-07-23 21:12:40--  https://archive.ics.uci.edu/ml/machine-learning-databases/20newsgroups-mld/mini_newsgroups.tar.gz\n",
            "Resolving archive.ics.uci.edu (archive.ics.uci.edu)... 128.195.10.252\n",
            "Connecting to archive.ics.uci.edu (archive.ics.uci.edu)|128.195.10.252|:443... connected.\n",
            "HTTP request sent, awaiting response... 200 OK\n",
            "Length: 1860687 (1.8M) [application/x-httpd-php]\n",
            "Saving to: ‘mini_newsgroups.tar.gz’\n",
            "\n",
            "mini_newsgroups.tar 100%[===================>]   1.77M  1.85MB/s    in 1.0s    \n",
            "\n",
            "2020-07-23 21:12:42 (1.85 MB/s) - ‘mini_newsgroups.tar.gz’ saved [1860687/1860687]\n",
            "\n"
          ],
          "name": "stdout"
        }
      ]
    },
    {
      "cell_type": "code",
      "metadata": {
        "id": "CiqkXr6SITVJ",
        "colab_type": "code",
        "colab": {}
      },
      "source": [
        "! tar xzf mini_newsgroups.tar.gz -C ./data/"
      ],
      "execution_count": 4,
      "outputs": []
    },
    {
      "cell_type": "markdown",
      "metadata": {
        "id": "8Yv3HA3EhHj2",
        "colab_type": "text"
      },
      "source": [
        "# Classification and Regression\n",
        "\n",
        "The most common machine learning tasks performed on documents are classification and regression. From determining insurance billing codes for a clinical note (classification) to predicting the popularity of a social media post (regression), most document-level machine learning tasks fall into one of these categories, with classification being the much more common of the two.\n",
        "\n",
        "When beginning a machine learning task, it is very informative to try and manually label some documents, even if there are already labels in the data set. This will help you understand what content in the language of the documents can be used in your task. When labeling, note what you look for. For example, particular words or phrases, certain sections of the document, and even document length can be useful.\n",
        "\n",
        "In a chapter about classification and regression, you might expect most of the discussion to be about different modeling algorithms. With NLP, most of the work is in the featurization. Many of the general techniques for improving models will work with NLP, assuming you have created good features. We will go over some of the considerations for tuning modeling algorithms, but most of this chapter focuses on how to featurize text for classification and regression.\n",
        "\n",
        "We'll discuss the bag-of-words approach, regular expression-based features, and feature selection. After this, we will talk about how to iterate when building a model on text data.\n",
        "\n",
        "Let's load and process the mini_newsgroups data, so we can see examples of how to create these features."
      ]
    },
    {
      "cell_type": "code",
      "metadata": {
        "id": "rJz1_iZVhNyK",
        "colab_type": "code",
        "colab": {}
      },
      "source": [
        "import os\n",
        "import re\n",
        "\n",
        "import matplotlib.pyplot as plt\n",
        "import numpy as np\n",
        "import pandas as pd\n",
        "\n",
        "from pyspark.sql.types import *\n",
        "from pyspark.sql.functions import expr\n",
        "from pyspark.sql import Row\n",
        "from pyspark.ml import Pipeline\n",
        "\n",
        "import sparknlp\n",
        "from sparknlp import DocumentAssembler, Finisher\n",
        "from sparknlp.annotator import *\n",
        "\n",
        "%matplotlib inline\n",
        "\n",
        "spark = sparknlp.start()"
      ],
      "execution_count": 5,
      "outputs": []
    },
    {
      "cell_type": "markdown",
      "metadata": {
        "id": "c2UPKkIzhISs",
        "colab_type": "text"
      },
      "source": [
        "We will build a classifier to identify which newsgroup a document is from. The newsgroup is mentioned in the header of the documents, so let's remove those to be more sporting."
      ]
    },
    {
      "cell_type": "code",
      "metadata": {
        "id": "tyv9B7AxhReD",
        "colab_type": "code",
        "colab": {}
      },
      "source": [
        "HEADER_PTN = re.compile(r'^[a-zA-Z-]+:.*')\n",
        "\n",
        "def remove_header(path_text_pair):\n",
        "    path, text = path_text_pair\n",
        "    lines = text.split('\\n')\n",
        "    line_iterator = iter(lines)\n",
        "    while HEADER_PTN.match(next(line_iterator)) is not None:\n",
        "        pass\n",
        "    return path, '\\n'.join(line_iterator)"
      ],
      "execution_count": 6,
      "outputs": []
    },
    {
      "cell_type": "code",
      "metadata": {
        "id": "WlLEoHJLhSxU",
        "colab_type": "code",
        "colab": {}
      },
      "source": [
        "path = os.path.join('data', 'mini_newsgroups', '*')\n",
        "texts = spark.sparkContext.wholeTextFiles(path).map(remove_header)\n",
        "\n",
        "schema = StructType([\n",
        "    StructField('path', StringType()),\n",
        "    StructField('text', StringType()),\n",
        "])\n",
        "\n",
        "texts = spark.createDataFrame(texts, schema=schema) \\\n",
        "    .withColumn('newsgroup', expr('split(path, \"/\")[4]')) \\\n",
        "    .persist()"
      ],
      "execution_count": 44,
      "outputs": []
    },
    {
      "cell_type": "code",
      "metadata": {
        "id": "DBbw6wFVhT-T",
        "colab_type": "code",
        "colab": {
          "base_uri": "https://localhost:8080/",
          "height": 372
        },
        "outputId": "e1979c67-8b1c-4192-e4bd-5ff7317556eb"
      },
      "source": [
        "texts.groupBy('newsgroup').count().collect()"
      ],
      "execution_count": 45,
      "outputs": [
        {
          "output_type": "execute_result",
          "data": {
            "text/plain": [
              "[Row(newsgroup='comp.windows.x', count=100),\n",
              " Row(newsgroup='misc.forsale', count=100),\n",
              " Row(newsgroup='rec.sport.hockey', count=100),\n",
              " Row(newsgroup='rec.sport.baseball', count=100),\n",
              " Row(newsgroup='talk.politics.guns', count=100),\n",
              " Row(newsgroup='talk.politics.misc', count=100),\n",
              " Row(newsgroup='comp.os.ms-windows.misc', count=100),\n",
              " Row(newsgroup='comp.sys.ibm.pc.hardware', count=100),\n",
              " Row(newsgroup='comp.graphics', count=100),\n",
              " Row(newsgroup='soc.religion.christian', count=100),\n",
              " Row(newsgroup='comp.sys.mac.hardware', count=100),\n",
              " Row(newsgroup='talk.religion.misc', count=100),\n",
              " Row(newsgroup='talk.politics.mideast', count=100),\n",
              " Row(newsgroup='rec.motorcycles', count=100),\n",
              " Row(newsgroup='rec.autos', count=100),\n",
              " Row(newsgroup='alt.atheism', count=100),\n",
              " Row(newsgroup='sci.electronics', count=100),\n",
              " Row(newsgroup='sci.space', count=100),\n",
              " Row(newsgroup='sci.med', count=100),\n",
              " Row(newsgroup='sci.crypt', count=100)]"
            ]
          },
          "metadata": {
            "tags": []
          },
          "execution_count": 45
        }
      ]
    },
    {
      "cell_type": "code",
      "metadata": {
        "id": "JAVRBPgyhVmi",
        "colab_type": "code",
        "colab": {
          "base_uri": "https://localhost:8080/",
          "height": 1000
        },
        "outputId": "bf5b2588-2546-4802-c76c-a7713d1c8b97"
      },
      "source": [
        "print(texts.first()['path'])\n",
        "print(texts.first()['newsgroup'])\n",
        "print(texts.first()['text'])"
      ],
      "execution_count": 46,
      "outputs": [
        {
          "output_type": "stream",
          "text": [
            "file:/content/data/mini_newsgroups/rec.sport.hockey/53625\n",
            "rec.sport.hockey\n",
            "In article <vzhivov.735059801@cunews>, vzhivov@superior.carleton.ca (Vladimir\n",
            "Zhivov) says:\n",
            ">\n",
            ">In <93107.091503RAP115@psuvm.psu.edu> Robbie Po <RAP115@psuvm.psu.edu> writes:\n",
            ">\n",
            ">>2-Red Wings vs. 3-Maple Leafs               Maple Leafs in 6\n",
            ">\n",
            ">>  Comment : It's kind of tough to rely on Yzerman as the team's main weapon.\n",
            ">>            He's a great palyer, but Dino knows all about choking, which\n",
            ">>            puts the burden on Steve even more.  Potvin's had a hell of a\n",
            ">>            season and goaltending is what you need in the playoffs.\n",
            ">\n",
            ">For a great prognosticator:), you seem to remember very little playoff\n",
            ">history. Dino always shows up in the playoffs, which is why he is a\n",
            ">great \"sleeper\" pick in pools. Don't forget about Fedorov, one of the\n",
            ">top players in the NHL, IMHO, and Coffey who has the most Stanley Cup\n",
            ">rings of any active players (correct me if I'm wrong). Wings in a\n",
            ">cakewalk.\n",
            "\n",
            "Oh yeah, how come Dino could never take the Caps out of the Patrick\n",
            "Division?  He choked up 3 games to 1 last year and got swept away in\n",
            "the second round two years ago.  He rarely, if ever, makes it out of the\n",
            "division.\n",
            "\n",
            ">>1-Canucks vs. 4-Jets                        Canucks in 5\n",
            ">\n",
            ">>  Comment : It's more like Vancouver vs. Selanne.  King and Domi (for\n",
            ">>            enforcing) help Winnipeg out a little, maybe a game.  Canucks\n",
            ">>            have their number.\n",
            ">\n",
            ">Except that the Canuck are playing like shit. Winnipeg can win this\n",
            ">one, though I think Vancouver will manage to slip by.\n",
            "\n",
            "So are the Islanders, but they can still pull it out.  Vancouver has Winnipeg's\n",
            " number, so it really doesn't matter.\n",
            "\n",
            ">>2-Flames vs. 3-Kings                        Flames in 7\n",
            ">\n",
            ">>  Comment : 7 games looks good as the Kings always seem to battle it out.\n",
            ">>            Flames are back in running and won't know memories of last year's\n",
            ">>            season.  Gretzky is on a tear, but there are too many ?????\n",
            ">>            surrounding the Kings.\n",
            "\n",
            ">Kings \"always seem to battle it out\"? When? Where?\n",
            "\n",
            " Kings always seem to go at least 6 or 7, they never play a four or five\n",
            "game serious.  There's a difference between battling it out and pulling it\n",
            "out, as I take Calgary to pull it out in 7.\n",
            "-------------------------------------------------------------------------\n",
            "** Robbie Po **          PGH PENGUINS!!!    \"We do what comes naturally!\n",
            "Patrick Division Semi's  '91 STANLEY CUP    You see now, wait for the\n",
            "PENGUINS 6, Devils 3     '92 CHAMPIONS      possibility, don't you see a\n",
            "Penguins lead, 1-0       12 STRAIGHT WINS!  strong resemblance...\"-DG '89\n",
            "\n"
          ],
          "name": "stdout"
        }
      ]
    },
    {
      "cell_type": "code",
      "metadata": {
        "id": "XOSfDDzfhW7Z",
        "colab_type": "code",
        "colab": {
          "base_uri": "https://localhost:8080/",
          "height": 70
        },
        "outputId": "1d7fd886-81d1-423b-c36f-f092fd709fa2"
      },
      "source": [
        "assembler = DocumentAssembler()\\\n",
        "    .setInputCol('text')\\\n",
        "    .setOutputCol('document')\n",
        "sentence = SentenceDetector() \\\n",
        "    .setInputCols([\"document\"]) \\\n",
        "    .setOutputCol(\"sentences\")\n",
        "tokenizer = Tokenizer()\\\n",
        "    .setInputCols(['sentences'])\\\n",
        "    .setOutputCol('token')\n",
        "lemmatizer = LemmatizerModel.pretrained()\\\n",
        "    .setInputCols(['token'])\\\n",
        "    .setOutputCol('lemma')\n",
        "normalizer = Normalizer()\\\n",
        "    .setCleanupPatterns([\n",
        "        '[^a-zA-Z.-]+', \n",
        "        '^[^a-zA-Z]+', \n",
        "        '[^a-zA-Z]+$',\n",
        "    ])\\\n",
        "    .setInputCols(['lemma'])\\\n",
        "    .setOutputCol('normalized')\\\n",
        "    .setLowercase(True)\n",
        "finisher = Finisher()\\\n",
        "    .setInputCols(['normalized'])\\\n",
        "    .setOutputCols(['normalized'])\\\n",
        "    .setOutputAsArray(True)\n",
        "pipeline = Pipeline().setStages([\n",
        "    assembler, sentence, tokenizer, \n",
        "    lemmatizer, normalizer, finisher\n",
        "]).fit(texts)"
      ],
      "execution_count": 10,
      "outputs": [
        {
          "output_type": "stream",
          "text": [
            "lemma_antbnc download started this may take some time.\n",
            "Approximate size to download 907.6 KB\n",
            "[OK!]\n"
          ],
          "name": "stdout"
        }
      ]
    },
    {
      "cell_type": "code",
      "metadata": {
        "id": "jf3ORzNehjjq",
        "colab_type": "code",
        "colab": {}
      },
      "source": [
        "processed = pipeline.transform(texts).persist()"
      ],
      "execution_count": 11,
      "outputs": []
    },
    {
      "cell_type": "code",
      "metadata": {
        "id": "qXN8IV0zhkvK",
        "colab_type": "code",
        "colab": {
          "base_uri": "https://localhost:8080/",
          "height": 34
        },
        "outputId": "cc356533-8345-425d-b409-f5b7db4cba44"
      },
      "source": [
        "print(processed.count()) # number of documents"
      ],
      "execution_count": 12,
      "outputs": [
        {
          "output_type": "stream",
          "text": [
            "2000\n"
          ],
          "name": "stdout"
        }
      ]
    },
    {
      "cell_type": "markdown",
      "metadata": {
        "id": "9ISNcRZIhInM",
        "colab_type": "text"
      },
      "source": [
        "## Bag-of-Words Features\n",
        "\n",
        "In the previous chapter we discussed document vectors built with TF.IDF. These features are the most common kinds of features used in document classification and regression. There is some difficulty in using features like this, however. Depending on the size of your corpus, you could potentially have more than a hundred thousand features, where any example will have only a few hundred to a few thousand nonzero features. This can be handled by creating a sparse representation of your feature matrix, where 0 values are omitted. However, not all training algorithms support sparse matrices. This is where the vocabulary reduction techniques we discussed in #processing_words become important.\n",
        "\n",
        "\n",
        "If you have already reduced your vocabulary, but you still need to reduce the number of your features, it is time to consider using a restricted vocabulary. For example, when working with clinical data, it might be best to restrict your vocabulary to medical terminology. This can be done by using external resources like the Unified Medical Language Service (UMLS). If you are working in other domains, consider curating a wordlist. Curated vocabularies can be a filter for your features. There are some pros and cons to such vocabularies, though. They are not biased by the information in your data set, so they will not contribute to overfitting. Conversely, there may be features that are unlikely to show up in a generalized curated list that are genuinely useful. This is why it is important for you to label some examples during iterations of your model building. If you have filtered your vocabulary, you can sample the erroneously classified examples for additions to your vocabulary.\n",
        "\n",
        "The extension of this manual feature selection is trying to combine parts of the vocabulary into a smaller set of features. This can be done with regular expressions.\n",
        "\n",
        "Let's look at an example of bag-of-words in Spark"
      ]
    },
    {
      "cell_type": "code",
      "metadata": {
        "id": "9sGRTpfmhquS",
        "colab_type": "code",
        "colab": {}
      },
      "source": [
        "from pyspark.ml.feature import CountVectorizer, IDF\n",
        "\n",
        "count_vectorizer = CountVectorizer(\n",
        "    inputCol='normalized', outputCol='tf', minDF=10)\n",
        "idf = IDF(inputCol='tf', outputCol='tfidf', minDocFreq=10)\n",
        "\n",
        "bow_pipeline = Pipeline(stages=[count_vectorizer, idf])\n",
        "bow_pipeline = bow_pipeline.fit(processed)\n",
        "\n",
        "bows = bow_pipeline.transform(processed)"
      ],
      "execution_count": 13,
      "outputs": []
    },
    {
      "cell_type": "code",
      "metadata": {
        "id": "7Ygu8APlhsJ4",
        "colab_type": "code",
        "colab": {
          "base_uri": "https://localhost:8080/",
          "height": 197
        },
        "outputId": "126d046a-986b-4ebf-e65a-96fbde58f08a"
      },
      "source": [
        "bows.limit(5).toPandas()[['tf', 'tfidf']]"
      ],
      "execution_count": 14,
      "outputs": [
        {
          "output_type": "execute_result",
          "data": {
            "text/html": [
              "<div>\n",
              "<style scoped>\n",
              "    .dataframe tbody tr th:only-of-type {\n",
              "        vertical-align: middle;\n",
              "    }\n",
              "\n",
              "    .dataframe tbody tr th {\n",
              "        vertical-align: top;\n",
              "    }\n",
              "\n",
              "    .dataframe thead th {\n",
              "        text-align: right;\n",
              "    }\n",
              "</style>\n",
              "<table border=\"1\" class=\"dataframe\">\n",
              "  <thead>\n",
              "    <tr style=\"text-align: right;\">\n",
              "      <th></th>\n",
              "      <th>tf</th>\n",
              "      <th>tfidf</th>\n",
              "    </tr>\n",
              "  </thead>\n",
              "  <tbody>\n",
              "    <tr>\n",
              "      <th>0</th>\n",
              "      <td>(16.0, 8.0, 8.0, 7.0, 12.0, 6.0, 3.0, 13.0, 1....</td>\n",
              "      <td>(1.1691290860237853, 0.7321541874305568, 1.053...</td>\n",
              "    </tr>\n",
              "    <tr>\n",
              "      <th>1</th>\n",
              "      <td>(30.0, 10.0, 3.0, 4.0, 10.0, 4.0, 8.0, 10.0, 4...</td>\n",
              "      <td>(2.192117036294597, 0.915192734288196, 0.39524...</td>\n",
              "    </tr>\n",
              "    <tr>\n",
              "      <th>2</th>\n",
              "      <td>(4.0, 1.0, 1.0, 1.0, 2.0, 1.0, 1.0, 0.0, 0.0, ...</td>\n",
              "      <td>(0.2922822715059463, 0.0915192734288196, 0.131...</td>\n",
              "    </tr>\n",
              "    <tr>\n",
              "      <th>3</th>\n",
              "      <td>(13.0, 6.0, 4.0, 10.0, 2.0, 3.0, 7.0, 4.0, 3.0...</td>\n",
              "      <td>(0.9499173823943255, 0.5491156405729176, 0.526...</td>\n",
              "    </tr>\n",
              "    <tr>\n",
              "      <th>4</th>\n",
              "      <td>(5.0, 9.0, 4.0, 7.0, 3.0, 3.0, 2.0, 3.0, 3.0, ...</td>\n",
              "      <td>(0.3653528393824329, 0.8236734608593764, 0.526...</td>\n",
              "    </tr>\n",
              "  </tbody>\n",
              "</table>\n",
              "</div>"
            ],
            "text/plain": [
              "                                                  tf                                              tfidf\n",
              "0  (16.0, 8.0, 8.0, 7.0, 12.0, 6.0, 3.0, 13.0, 1....  (1.1691290860237853, 0.7321541874305568, 1.053...\n",
              "1  (30.0, 10.0, 3.0, 4.0, 10.0, 4.0, 8.0, 10.0, 4...  (2.192117036294597, 0.915192734288196, 0.39524...\n",
              "2  (4.0, 1.0, 1.0, 1.0, 2.0, 1.0, 1.0, 0.0, 0.0, ...  (0.2922822715059463, 0.0915192734288196, 0.131...\n",
              "3  (13.0, 6.0, 4.0, 10.0, 2.0, 3.0, 7.0, 4.0, 3.0...  (0.9499173823943255, 0.5491156405729176, 0.526...\n",
              "4  (5.0, 9.0, 4.0, 7.0, 3.0, 3.0, 2.0, 3.0, 3.0, ...  (0.3653528393824329, 0.8236734608593764, 0.526..."
            ]
          },
          "metadata": {
            "tags": []
          },
          "execution_count": 14
        }
      ]
    },
    {
      "cell_type": "markdown",
      "metadata": {
        "id": "bJ67tFtBhI5C",
        "colab_type": "text"
      },
      "source": [
        "## Regular Expression Features\n",
        "\n",
        "Let's say you are trying to separate short stories into genres. For this example, we have only three genres in our corpus: science fiction, fantasy, and horror. We can create specific features to help us classify. If we have word lists, we can combine them into a single feature. There are a couple of ways to do this.\n",
        "\n",
        "* Use bag-of-words features and create a feature that is the result of aggregating the TF.IDF values of the features with sum or max.\n",
        "* Create a new feature by creating a new token. You can preprocess the documents, adding a tag to any document that contains a word from the vocabulary. You can then calculate TF.IDF for this tag.\n",
        "\n",
        "We can add other kinds of features. For example, it is common in science fiction to refer to rare and fictional minerals—for example, dilithium (both a real substance and a fictional mineral in Star Trek) and adamantium (a fictional alloy in Marvel comics). We could create a regular expression that looks for the common endings to these minerals.\n",
        "\n",
        "* `(lith|ant|an)ium`\n",
        "\n",
        "Discovering which of these features will help us classify is a task on which the data scientist and the domain expert should collaborate. The data scientist can find features that are potentially helpful to the model. The domain expert can identify which features are actually related to the problem and which are spuriously correlated with the target variable.\n",
        "\n",
        "These features are useful for a first version of a model, but they have some serious drawbacks. If you wish to build a similar model on text in another language, it is very likely that you will not be able to reuse regular expression features.\n",
        "\n",
        "Let's use the RegexMatcher from Spark NLP for finding matches in the text of the document."
      ]
    },
    {
      "cell_type": "code",
      "metadata": {
        "id": "s1CHhgQGh6SK",
        "colab_type": "code",
        "colab": {
          "base_uri": "https://localhost:8080/",
          "height": 34
        },
        "outputId": "60e0efd7-70dd-4a7d-de6f-53585a6b33fc"
      },
      "source": [
        "%%writefile scifi_rules.tsv\n",
        "\\w+(lith|ant|an)ium,mineral\n",
        "(alien|cosmic|quantum|dimension(al)?),space_word"
      ],
      "execution_count": 15,
      "outputs": [
        {
          "output_type": "stream",
          "text": [
            "Writing scifi_rules.tsv\n"
          ],
          "name": "stdout"
        }
      ]
    },
    {
      "cell_type": "code",
      "metadata": {
        "id": "pJrj7137h706",
        "colab_type": "code",
        "colab": {}
      },
      "source": [
        "regex_matcher = RegexMatcher() \\\n",
        "    .setOutputCol(\"regex\") \\\n",
        "    .setExternalRules('./scifi_rules.tsv', ',')"
      ],
      "execution_count": 16,
      "outputs": []
    },
    {
      "cell_type": "markdown",
      "metadata": {
        "id": "Vzho1vrIhJDB",
        "colab_type": "text"
      },
      "source": [
        "Because the RegexMatcher works on the raw text, it does not need the other stages. Normally, you would extract the regex matches along with other text-based features. "
      ]
    },
    {
      "cell_type": "code",
      "metadata": {
        "id": "kISRqnDyh-dX",
        "colab_type": "code",
        "colab": {}
      },
      "source": [
        "regex_finisher = Finisher()\\\n",
        "    .setInputCols(['regex'])\\\n",
        "    .setOutputCols(['regex'])\\\n",
        "    .setOutputAsArray(True)\n",
        "\n",
        "regex_rule_pipeline = Pipeline().setStages([\n",
        "    assembler, regex_matcher, regex_finisher\n",
        "]).fit(texts)\n",
        "\n",
        "regex_matches = regex_rule_pipeline.transform(texts)"
      ],
      "execution_count": 17,
      "outputs": []
    },
    {
      "cell_type": "code",
      "metadata": {
        "id": "Gz_Oefa1h_oS",
        "colab_type": "code",
        "colab": {
          "base_uri": "https://localhost:8080/",
          "height": 197
        },
        "outputId": "de8767b3-26fe-4ffe-9c36-e918d2589178"
      },
      "source": [
        "regex_matches.orderBy(expr('size(regex)').desc())\\\n",
        "    .limit(5).toPandas()[['newsgroup', 'regex']]"
      ],
      "execution_count": 18,
      "outputs": [
        {
          "output_type": "execute_result",
          "data": {
            "text/html": [
              "<div>\n",
              "<style scoped>\n",
              "    .dataframe tbody tr th:only-of-type {\n",
              "        vertical-align: middle;\n",
              "    }\n",
              "\n",
              "    .dataframe tbody tr th {\n",
              "        vertical-align: top;\n",
              "    }\n",
              "\n",
              "    .dataframe thead th {\n",
              "        text-align: right;\n",
              "    }\n",
              "</style>\n",
              "<table border=\"1\" class=\"dataframe\">\n",
              "  <thead>\n",
              "    <tr style=\"text-align: right;\">\n",
              "      <th></th>\n",
              "      <th>newsgroup</th>\n",
              "      <th>regex</th>\n",
              "    </tr>\n",
              "  </thead>\n",
              "  <tbody>\n",
              "    <tr>\n",
              "      <th>0</th>\n",
              "      <td>None</td>\n",
              "      <td>[alien, alien, alien, alien, alien, alien, alien]</td>\n",
              "    </tr>\n",
              "    <tr>\n",
              "      <th>1</th>\n",
              "      <td>None</td>\n",
              "      <td>[dimensional, dimension, dimensional, dimension]</td>\n",
              "    </tr>\n",
              "    <tr>\n",
              "      <th>2</th>\n",
              "      <td>None</td>\n",
              "      <td>[cosmic, cosmic, cosmic]</td>\n",
              "    </tr>\n",
              "    <tr>\n",
              "      <th>3</th>\n",
              "      <td>None</td>\n",
              "      <td>[dimensional, alien, dimensional]</td>\n",
              "    </tr>\n",
              "    <tr>\n",
              "      <th>4</th>\n",
              "      <td>None</td>\n",
              "      <td>[quantum, quantum, cosmic]</td>\n",
              "    </tr>\n",
              "  </tbody>\n",
              "</table>\n",
              "</div>"
            ],
            "text/plain": [
              "  newsgroup                                              regex\n",
              "0      None  [alien, alien, alien, alien, alien, alien, alien]\n",
              "1      None   [dimensional, dimension, dimensional, dimension]\n",
              "2      None                           [cosmic, cosmic, cosmic]\n",
              "3      None                  [dimensional, alien, dimensional]\n",
              "4      None                         [quantum, quantum, cosmic]"
            ]
          },
          "metadata": {
            "tags": []
          },
          "execution_count": 18
        }
      ]
    },
    {
      "cell_type": "markdown",
      "metadata": {
        "id": "WYWyJznOhJKq",
        "colab_type": "text"
      },
      "source": [
        "There are a few ways in which these can be turned into features. You can create binary features—in other words, the value is 1 if any of the regexes match. You can also use the number of matches as a feature.\n",
        "\n",
        "Now that we have introduced two of the most common classic NLP features, let's talk about how we reduce our dimensions."
      ]
    },
    {
      "cell_type": "markdown",
      "metadata": {
        "id": "RY6MxPaMhJRF",
        "colab_type": "text"
      },
      "source": [
        "## Feature Selection\n",
        "  Once you have determined a set of features, often a mix of bag-of-words and regular expressions, you may find that you have a very high dimensional feature space. This will depend very much on the sort of language used in the corpus. In highly technical corpora, it is not uncommon to have more features than examples. If you look at the distribution, you will see that they are distributed by a power law.\n",
        "\n",
        "We can use the Spark `StopWordsRemover` to remove words like \"the\" and \"of,\" like we discussed in \"Information Retrieval\"."
      ]
    },
    {
      "cell_type": "code",
      "metadata": {
        "id": "X-qhQ6fYiKVB",
        "colab_type": "code",
        "colab": {}
      },
      "source": [
        "from pyspark.ml.feature import StopWordsRemover\n",
        "\n",
        "sw_remover = StopWordsRemover() \\\n",
        "    .setInputCol(\"normalized\") \\\n",
        "    .setOutputCol(\"filtered\") \\\n",
        "    .setStopWords(StopWordsRemover.loadDefaultStopWords(\"english\"))"
      ],
      "execution_count": 19,
      "outputs": []
    },
    {
      "cell_type": "markdown",
      "metadata": {
        "id": "iyTJDv7zhJYX",
        "colab_type": "text"
      },
      "source": [
        "Finally, we turn this into a pipeline. It is important to include your text processing steps in your pipeline. This will let you explore hyperparameters of your machine learning model alongside NLP parameters. This gets more important the more complex your NLP preprocessing becomes. We will also include our bag-of-words stages."
      ]
    },
    {
      "cell_type": "code",
      "metadata": {
        "id": "-Ac8IPgjiOP9",
        "colab_type": "code",
        "colab": {}
      },
      "source": [
        "count_vectorizer = CountVectorizer(inputCol='filtered', \n",
        "    outputCol='tf', minDF=10)\n",
        "idf = IDF(inputCol='tf', outputCol='tfidf', minDocFreq=10)\n",
        "\n",
        "pipeline = Pipeline() \\\n",
        "    .setStages([\n",
        "        assembler, \n",
        "        sentence, \n",
        "        tokenizer, \n",
        "        lemmatizer, \n",
        "        normalizer, \n",
        "        finisher, \n",
        "        sw_remover,\n",
        "        count_vectorizer,\n",
        "        idf\n",
        "    ]) \\\n",
        "    .fit(texts)"
      ],
      "execution_count": 20,
      "outputs": []
    },
    {
      "cell_type": "markdown",
      "metadata": {
        "id": "CPfqDbb9hJi7",
        "colab_type": "text"
      },
      "source": [
        "Now that we have our pipeline constructed, we transform our texts."
      ]
    },
    {
      "cell_type": "code",
      "metadata": {
        "id": "WF4jMVqwiQop",
        "colab_type": "code",
        "colab": {}
      },
      "source": [
        "features = pipeline.transform(texts).persist()"
      ],
      "execution_count": 21,
      "outputs": []
    },
    {
      "cell_type": "code",
      "metadata": {
        "id": "nRJCypvViRyc",
        "colab_type": "code",
        "colab": {
          "base_uri": "https://localhost:8080/",
          "height": 212
        },
        "outputId": "e990f411-b97a-4de7-fdb8-cf2d28d2c08c"
      },
      "source": [
        "features.printSchema()"
      ],
      "execution_count": 22,
      "outputs": [
        {
          "output_type": "stream",
          "text": [
            "root\n",
            " |-- path: string (nullable = true)\n",
            " |-- text: string (nullable = true)\n",
            " |-- newsgroup: string (nullable = true)\n",
            " |-- normalized: array (nullable = true)\n",
            " |    |-- element: string (containsNull = true)\n",
            " |-- filtered: array (nullable = true)\n",
            " |    |-- element: string (containsNull = true)\n",
            " |-- tf: vector (nullable = true)\n",
            " |-- tfidf: vector (nullable = true)\n",
            "\n"
          ],
          "name": "stdout"
        }
      ]
    },
    {
      "cell_type": "markdown",
      "metadata": {
        "id": "tJboKG4qhJft",
        "colab_type": "text"
      },
      "source": [
        "In Spark MLlib, the features are stored in a single vector-valued column. This is much more efficient than creating a column for each of the features, but it does make interacting with the data more complicated. To deal with this, we will be pulling the data into a pandas DataFrame. We can do this because our data is small and can fit in memory. This would not work on a larger data set.\n",
        "\n",
        "Now that we have a fitted `CountVectorizerModel`, we can look at the vocabulary it found. The words are sorted by document frequency."
      ]
    },
    {
      "cell_type": "code",
      "metadata": {
        "id": "sa0J0KOeiXRT",
        "colab_type": "code",
        "colab": {
          "base_uri": "https://localhost:8080/",
          "height": 176
        },
        "outputId": "f9f809a2-eecf-4e63-9a3d-65adb5c8cbce"
      },
      "source": [
        "pipeline.stages"
      ],
      "execution_count": 23,
      "outputs": [
        {
          "output_type": "execute_result",
          "data": {
            "text/plain": [
              "[DocumentAssembler_13e26bdc1088,\n",
              " SentenceDetector_c4c7a603f2f8,\n",
              " REGEX_TOKENIZER_a6cf775762ec,\n",
              " LEMMATIZER_c62ad8f355f9,\n",
              " NORMALIZER_f52a4d9c95a5,\n",
              " Finisher_2bb2afd5d7bf,\n",
              " StopWordsRemover_9f668759275c,\n",
              " CountVectorizer_d85757be7a2f,\n",
              " IDF_3dd8820dcd44]"
            ]
          },
          "metadata": {
            "tags": []
          },
          "execution_count": 23
        }
      ]
    },
    {
      "cell_type": "code",
      "metadata": {
        "id": "DqIs6dUIiZDx",
        "colab_type": "code",
        "colab": {}
      },
      "source": [
        "cv_model = pipeline.stages[-2]"
      ],
      "execution_count": 24,
      "outputs": []
    },
    {
      "cell_type": "code",
      "metadata": {
        "id": "_4C_iztyiaKi",
        "colab_type": "code",
        "colab": {
          "base_uri": "https://localhost:8080/",
          "height": 34
        },
        "outputId": "37be1e3c-4281-4519-ef1a-c4d25cf53c7b"
      },
      "source": [
        "len(cv_model.vocabulary)"
      ],
      "execution_count": 25,
      "outputs": [
        {
          "output_type": "execute_result",
          "data": {
            "text/plain": [
              "3033"
            ]
          },
          "metadata": {
            "tags": []
          },
          "execution_count": 25
        }
      ]
    },
    {
      "cell_type": "markdown",
      "metadata": {
        "id": "6cyOa2jahJUm",
        "colab_type": "text"
      },
      "source": [
        "This is a modest vocabulary size. We will see larger sizes when we get to \"Applications\" part of this book.\n",
        "\n",
        "Let's look at our top 10 words by document frequency."
      ]
    },
    {
      "cell_type": "code",
      "metadata": {
        "id": "lSSR9gqZiiOo",
        "colab_type": "code",
        "colab": {
          "base_uri": "https://localhost:8080/",
          "height": 34
        },
        "outputId": "8e95651f-c95b-4818-cb62-f6e030a4d460"
      },
      "source": [
        "cv_model.vocabulary[:10]"
      ],
      "execution_count": 26,
      "outputs": [
        {
          "output_type": "execute_result",
          "data": {
            "text/plain": [
              "['write', 'one', 'use', 'get', 'article', 'say', 'know', 'x', 'make', 'dont']"
            ]
          },
          "metadata": {
            "tags": []
          },
          "execution_count": 26
        }
      ]
    },
    {
      "cell_type": "markdown",
      "metadata": {
        "id": "O8SGkw35hJN1",
        "colab_type": "text"
      },
      "source": [
        "Let's look at the distribution of mean term frequency. We will create a histogram of mean term frequency"
      ]
    },
    {
      "cell_type": "code",
      "metadata": {
        "id": "cnF68CUMimXH",
        "colab_type": "code",
        "colab": {}
      },
      "source": [
        "tf = features.select('tf').toPandas()\n",
        "tf = tf['tf'].apply(lambda sv: sv.toArray())\n",
        "mean_tf = pd.Series(tf.mean(), index=cv_model.vocabulary)"
      ],
      "execution_count": 27,
      "outputs": []
    },
    {
      "cell_type": "code",
      "metadata": {
        "id": "yZU-WPA_inWy",
        "colab_type": "code",
        "colab": {
          "base_uri": "https://localhost:8080/",
          "height": 498
        },
        "outputId": "f80d58ca-5b91-4e7e-f7d1-dbb0c3c34f2a"
      },
      "source": [
        "plt.figure(figsize=(12, 8))\n",
        "mean_tf.hist(bins=10)\n",
        "plt.title('Histogram of mean term frequency per word over the corpus')\n",
        "plt.show()"
      ],
      "execution_count": 30,
      "outputs": [
        {
          "output_type": "display_data",
          "data": {
            "image/png": "[encoded data removed]",
            "text/plain": [
              "<Figure size 864x576 with 1 Axes>"
            ]
          },
          "metadata": {
            "tags": [],
            "needs_background": "light"
          }
        }
      ]
    },
    {
      "cell_type": "markdown",
      "metadata": {
        "id": "jq9PnbUshJGn",
        "colab_type": "text"
      },
      "source": [
        "We can see that this looks like a power law distribution. Let's plot the log of the ranks versus the log of the mean term frequency"
      ]
    },
    {
      "cell_type": "code",
      "metadata": {
        "id": "EIMWSvQoirv4",
        "colab_type": "code",
        "colab": {
          "base_uri": "https://localhost:8080/",
          "height": 498
        },
        "outputId": "9644d0a5-d6ff-4d2a-c982-00c6ecc795f5"
      },
      "source": [
        "plt.figure(figsize=(12, 8))\n",
        "ranks = np.arange(len(mean_tf)) + 1\n",
        "plt.plot(np.log10(ranks), np.log10(mean_tf.values))\n",
        "plt.title('Plot of the log of rank (by mean term frequency) versus the log of mean term frequency')\n",
        "plt.show()"
      ],
      "execution_count": 31,
      "outputs": [
        {
          "output_type": "display_data",
          "data": {
            "image/png": "[encoded data removed]",
            "text/plain": [
              "<Figure size 864x576 with 1 Axes>"
            ]
          },
          "metadata": {
            "tags": [],
            "needs_background": "light"
          }
        }
      ]
    },
    {
      "cell_type": "markdown",
      "metadata": {
        "id": "N1AHV5u5hI-7",
        "colab_type": "text"
      },
      "source": [
        "This is normally what you see with a vocabulary distribution. Notice, that even though we removed the most common words, and dropped very rare words, by setting `minDF` to 10, we still have the expected distribution.\n",
        "\n",
        "Now that we have our features and have assured ourselves that we have not disturbed the expected distribution of words, how can we reduce the number of features? We could try and add more words to our stop-word list, or we could increase our `minDF` to remove more rare words. But let's think about a more principled way to approach this. Many of the more well-known techniques for reducing the number of features, for example looking at the univariate predictive power of each feature, will not work well with text. The strength of bag-of-words features is their interactions. So we may throw away features that are not powerful on their own but could be very powerful in combination. The high dimensionality means that we can't explore all the possible interactions. So what can we do?\n",
        "\n",
        "We can use a dictionary of words or phrases that domain experts have selected as important to the problem. We can also build a tree-based model, for example, random forest, and use the feature importances to select a subset of features. This can work because the random forest model is nonlinear and can discover interactions—so, a word that is important only in combination.\n",
        "\n",
        "We will look at other techniques for reducing dimensionality in the \"Topic Modeling\" and \"Word Embeddings\".  Now, let's discuss the modeling of text using TF.IDF features."
      ]
    },
    {
      "cell_type": "markdown",
      "metadata": {
        "id": "wQZuDRlmhIwW",
        "colab_type": "text"
      },
      "source": [
        "## Modeling\n",
        "\n",
        "Once you have converted your text into a feature vector, things start to look more like a regular machine learning problem, with some exceptions. The following are the most important things to keep in mind:\n",
        "\n",
        "There are many sparse features.\n",
        "These features are not independent of each other.\n",
        "We have lost a massive part of language by losing the ordering of words.\n",
        "Fortunately, none of these are showstoppers. Even if an algorithm makes assumptions that are violated by these facts, it can still be effective. We will discuss some popular algorithms here, and we will try out these algorithms in the exercises in this chapter.\n",
        "\n",
        "### Naïve Bayes\n",
        "  Naïve Bayes gets its name from its naïve assumption that all the features are mutually independent. It then estimates the probability of a class conditioned on the feature values. We know, from linguistics and common sense, that words are not independent of each other. But naïve Bayes is actually a popular baseline for text classification. The reason naïve Bayes is so popular is that the probability that it produces is similar to TF.IDF:\n",
        "\n",
        "\\begin{equation}\n",
        "P(class | \\text{term}_1, \\text{term}_2, ..., \\text{term}_N) = \\frac{P(class)\\prod^N_{i=1}{P(\\text{term}_i|class)}}{\\sum^K_{k=1}{P(class_k)\\prod^N_{i=1}{P(\\text{term}_i|class_k)}}}\n",
        "\\end{equation}\n",
        "\n",
        "If a term is common in all classes, it will not contribute much to this value. However, if a term is unique to the documents in a particular class it will be an important feature for naïve Bayes. This is similar to how IDF reduces the importance of words that are common to many documents."
      ]
    },
    {
      "cell_type": "markdown",
      "metadata": {
        "id": "1TU-MgDIhIeK",
        "colab_type": "text"
      },
      "source": [
        "### Linear Models\n",
        "\n",
        "Linear models like linear regression and logistic regression assume that their predictors are independent of each other. One way we could get around this is to look at interactions. However, that will not work in our case because we have a very high dimensional space. If you plan on using a linear model, you will likely want to put more effort in your featurization. Specifically, you will want to be more aggressive in reducing the number of features.\n",
        "\n",
        "### Decision/Regression Trees\n",
        "\n",
        "Decision and regression trees can learn nonlinear relationships, and they don't have any assumptions of independence. They can be adversely affected by the sparse features. Variables with less inherent entropy, like words that are relatively uncommon, are less likely to be picked for splitting by splitting criteria like information gain. This means that any nonsparse features will be favored over sparse features. Also, words with higher variance, often meaning higher document frequency, can be favored over words with lower document frequency. This can be mitigated, for example, by being more aggressive with stop-word removal. If you are using random forest or gradient boosted trees, you can mitigate some of the difficulties mentioned previously.\n",
        "\n",
        "Another great aspect of tree-based models is the ability to easily interpret the output of the model. Because you can see which features are being selected, you can easily check if the learning algorithm is making a sensible model.\n",
        "\n",
        "### Deep Learning Algorithms\n",
        "\n",
        "Neural networks are great at learning complex functions, but they do require quite a bit of data. The data needed goes up quickly with the number of parameters. If you are using the bag-of-words approach, the number of parameters for the first layer will be the size of your vocabulary times the size of the first hidden layer. This is already quite large. This means that you are spending a lot of time learning intermediate representations for words—which can also lead to overfitting. It is often a good idea to use word embeddings, which we will discuss in #word_embeddings, so that your classification or regression model has far fewer parameters to learn.\n",
        "\n",
        "Always keep in mind what you want from your data when doing NLP, or machine learning in general. Training and deploying deep learning models is often more complicated than with classical machine learning models. Always try the simplest thing first."
      ]
    },
    {
      "cell_type": "markdown",
      "metadata": {
        "id": "qPcX6vRXhH3X",
        "colab_type": "text"
      },
      "source": [
        "## Iteration\n",
        "\n",
        "The most important part of any classification or regression project is your iteration cycle.\n",
        "\n",
        "![How to iterate on NLP classification and regression problems](https://i.imgur.com/7prHD6w.png)  \n",
        "_How to iterate on NLP classification and regression problems_\n",
        "\n",
        "If you have done machine learning in the past, most of this will look familiar. There are some differences when working with text data that we should keep in mind, so let's go over the following steps.\n",
        "\n",
        "1. Get data.\n",
        "\n",
        "This is often the most time-consuming part of such a project. Hopefully, the data you work with is well-maintained and well-documented. Whether it is or not, you must validate the data.\n",
        "\n",
        "2. Look at the data.\n",
        "\n",
        "Whether working with structured or unstructured data, we generally need to do some work to prepare our data for modeling. With structured data, this often means removing invalid values or normalizing a field. With text data this is a little more murky. There may be business logic that dictates a minimum or maximum length. Or perhaps there are certain documents you want to remove based on metadata. Outside of business logic, you should check the encodings of your documents and convert them to a common encoding (e.g., UTF-8).\n",
        "\n",
        "You also want to create a hold-out set. Even if you are using a form of cross-validation instead of a train-test split, it's important to keep a completely untouched hold-out. It is easy to overfit to text data.\n",
        "\n",
        "3. Process the data.\n",
        "\n",
        "Whether working with structured or unstructured data, we generally need to do some work to prepare our data for modeling. In structured data, this often means removing invalid values or normalizing a field. With text data this is a little more murky. There may be business logic that dictates a minimum or maximum length. Or perhaps there are certain documents you want to remove based on metadata. Outside of business logic, you should check the encodings of your documents and convert them to a common encoding (e.g., UTF-8).\n",
        "\n",
        "You also want to create a hold-out set. Even if you are using a form of cross-validation instead of a train-test split, it's important to keep a completely untouched hold-out. It is often easy to overfit to text data.\n",
        "\n",
        "4. Featurize.\n",
        "\n",
        "Now that you have your data processed and ready, you can create feature vectors. After creating features, you should do some basic exploratory analysis of the features. You look at the vocabulary distribution like we did previously. You can also use topic models for this, which we will cover in #topic_modeling. Topic models can give you insights for deciding how to create your model and, as a side benefit, will help you catch errors.\n",
        "\n",
        "Because NLP featurization is often more complicated than featurization with structured data, you will want to have your featurization stages in the same pipeline as your modeling. This will help optimize model hyperparameters alongside featurization parameters.\n",
        "\n",
        "5. Model.\n",
        "\n",
        "You need to decide on which algorithm you want to use. As with general machine learning tasks, you will want to set a baseline. Popular models for setting baselines for text-based classification and regression problems are logistic regression, naïve Bayes, and decision trees. Once you have your features, and you have decided on an algorithm, you can train your model.\n",
        "\n",
        "6. Evaluate.\n",
        "\n",
        "Looking at the data is important to understanding what is happening with your model, but looking at metrics is just as important. You should iterate using cross-validation or on a dedicated validation set. Your hold-out set must be saved until you think you are ready to go to production.\n",
        "\n",
        "7. Review.\n",
        "\n",
        "It's important to get fresh eyes on as much of your pipeline as possible.\n",
        "\n",
        "  * Review your code: data processing code can be difficult to review if someone does not have familiarity with the data. If you can't find someone who has context to review your code, having thorough documentation becomes important.\n",
        "  * Review your data: you can review your data with a subject-matter expert. Also, consider reviewing with someone who is fully unfamiliar with the data.\n",
        "  * Review your features: the features you've created should make sense. If this is the case, you should review these features with a domain expert. If the features are too abstract to easily tie back to the domain, it might be worthwhile to review the theory behind your features with someone who has experience building similar models.\n",
        "  * Review your model: when working on a modeling project, it's easy to get lost in the details. It's important to review your rationale for the chosen algorithm, as well as the output.\n",
        "  * Review your metrics: as with any machine learning project, you should be able to give clear interpretation of your metrics—especially the metric you make business decisions on. If you have a hard time finding a good metric, you may not have the best approach to the problem. Sometimes, a classification problem is better framed as ranking problem.\n",
        "  * Review your documentation: you should make sure that your whole pipeline is well documented. This is necessary if you want to have reproducibility.\n",
        "\n",
        "Now that you have validated your baseline model, it's time to make a decision. Is the baseline good enough for production? If so, ship it. Otherwise, it's time to look at the data again. Now you have your cycle set up, and you can start to improve your metrics.\n",
        "\n"
      ]
    },
    {
      "cell_type": "markdown",
      "metadata": {
        "id": "FWkFZ0A1lBK1",
        "colab_type": "text"
      },
      "source": [
        ""
      ]
    },
    {
      "cell_type": "markdown",
      "metadata": {
        "id": "2omjkVwdlB7J",
        "colab_type": "text"
      },
      "source": [
        ""
      ]
    },
    {
      "cell_type": "markdown",
      "metadata": {
        "id": "6lAw5agQlCNW",
        "colab_type": "text"
      },
      "source": [
        ""
      ]
    },
    {
      "cell_type": "markdown",
      "metadata": {
        "id": "eMqSUH2RlCg3",
        "colab_type": "text"
      },
      "source": [
        "Now we have a framework for building text-based classifiers and regressors. There is no singular technique that makes working with the sparse, high dimensional text easier. You should rely on domain experts to help inform your choices. This chapter covered generic ideas and rules; we will look at more concrete applications in part_application of this book. One issue with the bag-of-words approach is that we lose an important part of language—syntax. We can capture some of that with N-grams, but what happens if we want to classify pieces in the text? In the next chapter, we explore how to build sequence models."
      ]
    },
    {
      "cell_type": "markdown",
      "metadata": {
        "id": "Q-FV_xIWlCXB",
        "colab_type": "text"
      },
      "source": [
        "## Exercises\n",
        "\n",
        "Let's build a classifier to predict the newsgroup that a document belongs to. We will start out with the pipeline we built previously in this chapter, and we will use a naïve Bayes classifier.\n",
        "\n",
        "Use the [Spark MLlib Guide](https://spark.apache.org/docs/latest/ml-guide.html) as a reference to try new things."
      ]
    },
    {
      "cell_type": "code",
      "metadata": {
        "id": "pXQuIdNnlOqv",
        "colab_type": "code",
        "colab": {}
      },
      "source": [
        "train, test = texts.randomSplit([0.8, 0.2], seed=123)"
      ],
      "execution_count": 47,
      "outputs": []
    },
    {
      "cell_type": "code",
      "metadata": {
        "id": "UvvfMpxtlPo1",
        "colab_type": "code",
        "colab": {}
      },
      "source": [
        "stopwords = set(StopWordsRemover.loadDefaultStopWords(\"english\"))"
      ],
      "execution_count": 48,
      "outputs": []
    },
    {
      "cell_type": "code",
      "metadata": {
        "id": "EzgYCLDylQju",
        "colab_type": "code",
        "colab": {}
      },
      "source": [
        "sw_remover = StopWordsRemover() \\\n",
        "    .setInputCol(\"normalized\") \\\n",
        "    .setOutputCol(\"filtered\") \\\n",
        "    .setStopWords(list(stopwords))\n",
        "\n",
        "count_vectorizer = CountVectorizer(inputCol='filtered', \n",
        "    outputCol='tf', minDF=10)\n",
        "idf = IDF(inputCol='tf', outputCol='tfidf', minDocFreq=10)\n",
        "\n",
        "text_processing_pipeline = Pipeline(stages=[\n",
        "        assembler, \n",
        "        sentence, \n",
        "        tokenizer, \n",
        "        lemmatizer, \n",
        "        normalizer, \n",
        "        finisher, \n",
        "        sw_remover,\n",
        "        count_vectorizer,\n",
        "        idf\n",
        "    ])"
      ],
      "execution_count": 49,
      "outputs": []
    },
    {
      "cell_type": "code",
      "metadata": {
        "id": "OMughi1xlSUg",
        "colab_type": "code",
        "colab": {}
      },
      "source": [
        "from pyspark.ml.feature import IndexToString, StringIndexer\n",
        "from pyspark.ml.classification import *\n",
        "from pyspark.ml.tuning import *\n",
        "from pyspark.ml.evaluation import *"
      ],
      "execution_count": 50,
      "outputs": []
    },
    {
      "cell_type": "code",
      "metadata": {
        "id": "5tXK6RK1lT0N",
        "colab_type": "code",
        "colab": {}
      },
      "source": [
        "label_indexer = StringIndexer(inputCol='newsgroup', outputCol='label').fit(texts)\n",
        "naive_bayes = NaiveBayes(featuresCol='tfidf')\n",
        "prediction_deindexer = IndexToString(inputCol='prediction', outputCol='pred_newsgroup', \n",
        "                                     labels=label_indexer.labels)\n",
        "\n",
        "pipeline = Pipeline(stages=[\n",
        "    text_processing_pipeline, label_indexer, naive_bayes, prediction_deindexer\n",
        "])"
      ],
      "execution_count": 51,
      "outputs": []
    },
    {
      "cell_type": "code",
      "metadata": {
        "id": "1CGssWbKlVTY",
        "colab_type": "code",
        "colab": {}
      },
      "source": [
        "model = pipeline.fit(train)"
      ],
      "execution_count": 52,
      "outputs": []
    },
    {
      "cell_type": "code",
      "metadata": {
        "id": "foy_wZ4nlWWY",
        "colab_type": "code",
        "colab": {}
      },
      "source": [
        "train_predicted = model.transform(train)\n",
        "test_predicted = model.transform(test)"
      ],
      "execution_count": 53,
      "outputs": []
    },
    {
      "cell_type": "markdown",
      "metadata": {
        "id": "LoaAeJH3lCEl",
        "colab_type": "text"
      },
      "source": [
        "We are using F1-score, which is the harmonic mean of precision and recall."
      ]
    },
    {
      "cell_type": "code",
      "metadata": {
        "id": "lastrboTlYoX",
        "colab_type": "code",
        "colab": {}
      },
      "source": [
        "evaluator = MulticlassClassificationEvaluator(metricName='f1')"
      ],
      "execution_count": 54,
      "outputs": []
    },
    {
      "cell_type": "code",
      "metadata": {
        "id": "G9en316GlcxY",
        "colab_type": "code",
        "colab": {
          "base_uri": "https://localhost:8080/",
          "height": 34
        },
        "outputId": "92431356-23d6-4040-f2a8-313af1ed31d8"
      },
      "source": [
        "print('f1', evaluator.evaluate(train_predicted))"
      ],
      "execution_count": 55,
      "outputs": [
        {
          "output_type": "stream",
          "text": [
            "f1 0.940955827768335\n"
          ],
          "name": "stdout"
        }
      ]
    },
    {
      "cell_type": "code",
      "metadata": {
        "id": "wB8kB4VtleNX",
        "colab_type": "code",
        "colab": {
          "base_uri": "https://localhost:8080/",
          "height": 34
        },
        "outputId": "cacd5c03-bb8d-4b71-eea7-2344347a97e6"
      },
      "source": [
        "print('f1', evaluator.evaluate(test_predicted))"
      ],
      "execution_count": 56,
      "outputs": [
        {
          "output_type": "stream",
          "text": [
            "f1 0.6338363272292974\n"
          ],
          "name": "stdout"
        }
      ]
    },
    {
      "cell_type": "markdown",
      "metadata": {
        "id": "cnf4C-JqlBjm",
        "colab_type": "text"
      },
      "source": [
        "It looks like we are doing much better on the training data than on the testing data—perhaps we are overfitting. Experiment, and see how well you can do on the test set."
      ]
    }
  ]
}