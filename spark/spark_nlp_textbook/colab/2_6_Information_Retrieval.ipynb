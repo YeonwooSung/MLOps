{
  "nbformat": 4,
  "nbformat_minor": 0,
  "metadata": {
    "colab": {
      "name": "2.6_Information_Retrieval.ipynb",
      "provenance": [],
      "authorship_tag": "ABX9TyMIaEg7F+LPlp+o+g6nTGzQ",
      "include_colab_link": true
    },
    "kernelspec": {
      "name": "python3",
      "display_name": "Python 3"
    }
  },
  "cells": [
    {
      "cell_type": "markdown",
      "metadata": {
        "id": "view-in-github",
        "colab_type": "text"
      },
      "source": [
        "<a href=\"https://colab.research.google.com/github/alexander-n-thomas/spark-nlp-book-prod/blob/master/2_6_Information_Retrieval.ipynb\" target=\"_parent\"><img src=\"https://colab.research.google.com/assets/colab-badge.svg\" alt=\"Open In Colab\"/></a>"
      ]
    },
    {
      "cell_type": "code",
      "metadata": {
        "id": "d4zpDO5R1ox4",
        "colab_type": "code",
        "colab": {
          "base_uri": "https://localhost:8080/",
          "height": 390
        },
        "outputId": "970f65f4-34fe-46ab-b959-c04b987dded9"
      },
      "source": [
        "import os\n",
        "\n",
        "# Install java\n",
        "! apt-get install -y openjdk-8-jdk-headless -qq > /dev/null\n",
        "os.environ[\"JAVA_HOME\"] = \"/usr/lib/jvm/java-8-openjdk-amd64\"\n",
        "os.environ[\"PATH\"] = os.environ[\"JAVA_HOME\"] + \"/bin:\" + os.environ[\"PATH\"]\n",
        "! java -version\n",
        "\n",
        "# Install pyspark\n",
        "! pip install --ignore-installed pyspark==2.4.4\n",
        "\n",
        "# Install Spark NLP\n",
        "! pip install --ignore-installed spark-nlp==2.5.1"
      ],
      "execution_count": 1,
      "outputs": [
        {
          "output_type": "stream",
          "text": [
            "openjdk version \"1.8.0_252\"\n",
            "OpenJDK Runtime Environment (build 1.8.0_252-8u252-b09-1~18.04-b09)\n",
            "OpenJDK 64-Bit Server VM (build 25.252-b09, mixed mode)\n",
            "Collecting pyspark==2.4.4\n",
            "\u001b[?25l  Downloading https://files.pythonhosted.org/packages/87/21/f05c186f4ddb01d15d0ddc36ef4b7e3cedbeb6412274a41f26b55a650ee5/pyspark-2.4.4.tar.gz (215.7MB)\n",
            "\u001b[K     |████████████████████████████████| 215.7MB 61kB/s \n",
            "\u001b[?25hCollecting py4j==0.10.7\n",
            "\u001b[?25l  Downloading https://files.pythonhosted.org/packages/e3/53/c737818eb9a7dc32a7cd4f1396e787bd94200c3997c72c1dbe028587bd76/py4j-0.10.7-py2.py3-none-any.whl (197kB)\n",
            "\u001b[K     |████████████████████████████████| 204kB 41.1MB/s \n",
            "\u001b[?25hBuilding wheels for collected packages: pyspark\n",
            "  Building wheel for pyspark (setup.py) ... \u001b[?25l\u001b[?25hdone\n",
            "  Created wheel for pyspark: filename=pyspark-2.4.4-py2.py3-none-any.whl size=216130388 sha256=683841931344727a86a38873b99278e80d36e143d481388920f79c9ee885ce14\n",
            "  Stored in directory: /root/.cache/pip/wheels/ab/09/4d/0d184230058e654eb1b04467dbc1292f00eaa186544604b471\n",
            "Successfully built pyspark\n",
            "Installing collected packages: py4j, pyspark\n",
            "Successfully installed py4j-0.10.7 pyspark-2.4.4\n",
            "Collecting spark-nlp==2.5.1\n",
            "\u001b[?25l  Downloading https://files.pythonhosted.org/packages/df/b4/db653f8080a446de8ce981b262d85c85c61de7e920930726da0d1c6b4c65/spark_nlp-2.5.1-py2.py3-none-any.whl (121kB)\n",
            "\u001b[K     |████████████████████████████████| 122kB 8.2MB/s \n",
            "\u001b[?25hInstalling collected packages: spark-nlp\n",
            "Successfully installed spark-nlp-2.5.1\n"
          ],
          "name": "stdout"
        }
      ]
    },
    {
      "cell_type": "code",
      "metadata": {
        "id": "HzgTx-7OuEnm",
        "colab_type": "code",
        "colab": {}
      },
      "source": [
        "! mkdir -p data"
      ],
      "execution_count": 2,
      "outputs": []
    },
    {
      "cell_type": "code",
      "metadata": {
        "id": "dgBCSO9Fr-M5",
        "colab_type": "code",
        "colab": {
          "base_uri": "https://localhost:8080/",
          "height": 212
        },
        "outputId": "0e85f03f-0dc5-4999-a783-adbc9886dcd4"
      },
      "source": [
        "! wget https://archive.ics.uci.edu/ml/machine-learning-databases/20newsgroups-mld/mini_newsgroups.tar.gz"
      ],
      "execution_count": 3,
      "outputs": [
        {
          "output_type": "stream",
          "text": [
            "--2020-07-23 20:02:10--  https://archive.ics.uci.edu/ml/machine-learning-databases/20newsgroups-mld/mini_newsgroups.tar.gz\n",
            "Resolving archive.ics.uci.edu (archive.ics.uci.edu)... 128.195.10.252\n",
            "Connecting to archive.ics.uci.edu (archive.ics.uci.edu)|128.195.10.252|:443... connected.\n",
            "HTTP request sent, awaiting response... 200 OK\n",
            "Length: 1860687 (1.8M) [application/x-httpd-php]\n",
            "Saving to: ‘mini_newsgroups.tar.gz’\n",
            "\n",
            "mini_newsgroups.tar 100%[===================>]   1.77M  1.85MB/s    in 1.0s    \n",
            "\n",
            "2020-07-23 20:02:12 (1.85 MB/s) - ‘mini_newsgroups.tar.gz’ saved [1860687/1860687]\n",
            "\n"
          ],
          "name": "stdout"
        }
      ]
    },
    {
      "cell_type": "code",
      "metadata": {
        "id": "CiqkXr6SITVJ",
        "colab_type": "code",
        "colab": {}
      },
      "source": [
        "! tar xzf mini_newsgroups.tar.gz -C ./data/"
      ],
      "execution_count": 4,
      "outputs": []
    },
    {
      "cell_type": "markdown",
      "metadata": {
        "id": "m7hHyAtMQ-D_",
        "colab_type": "text"
      },
      "source": [
        "# Information Retrieval\n",
        "\n",
        "In the previous chapter we came across common words that made it difficult to characterize a corpus. This is a problem for different kinds NLP tasks. Fortunately, the field of information retrieval has developed many techniques that can be used to improve a variety of NLP applications.\n",
        "\n",
        "Earlier, we talked about how text data exists, and more is being generated every day. We need some way to manage and search through this data. If there is an ID or title, we can of course have an index on this data, but how do we search by content? With structured data, we can create logical expressions and retrieve all rows that satisfy the expressions. This can also be done with text, though less exactly.\n",
        "\n",
        "The foundation of information retrieval predates computers. Information retrieval focuses on how to find specific pieces of information in a larger set of information, especially information in text data. The most common type of task in information retrieval is search—in other words, document search.\n",
        "\n",
        "The following are the components of a document search:\n",
        "\n",
        "* Query $q$  \n",
        "A logical statement describing the document or kind of document you are looking for\n",
        "\n",
        "* Query term $q_t$  \n",
        "A term in the query, generally a token\n",
        "\n",
        "* Corpus of documents $D$  \n",
        "A collection of documents\n",
        "\n",
        "* Document $d$  \n",
        "A document in D with terms t_d that describe the document\n",
        "\n",
        "* Ranking function $r(q, D)$  \n",
        "A function that ranks the documents in D according to relevance to the query q\n",
        "\n",
        "* Result $R$  \n",
        "The ranked list of documents\n",
        "\n",
        "Before we get into how to implement these components, we need to consider a technical problem. How can we quickly access documents based on the information within them? If we have to scan every document, then we could not search large collections of documents. To solve this problem we use an inverted index."
      ]
    },
    {
      "cell_type": "markdown",
      "metadata": {
        "id": "vqYz60vUQ-b7",
        "colab_type": "text"
      },
      "source": [
        "## Inverted Indices\n",
        "\n",
        "Originally, indexing was a means of organizing and labeling information in a way that made retrieving it easier. For example, libraries use indexing to organize and find books. The Dewey Decimal Classification system is a way to index books based on their subject matter. We can also have indices based on titles, authors, publication dates, and so on. Another kind of index can often be found at the back of a book. This is a list of concepts in the book and pages on which to find them.\n",
        "\n",
        "The index in inverted index is slightly different than the traditional index; instead, it takes inspiration from the mathematical concept of indexing—that is, assigning indices to an element of a set. Recall our set of documents $D$. We can assign a number to each document, creating mapping from integers to documents, $i \\rightarrow d$.\n",
        "\n",
        "Let's create this index for our `DataFrame`. Normally, we would store an inverted index in a data store that allows for quick lookups. Spark `DataFrames` are not for quick lookups. We will introduce the tools used for search.\n",
        "\n",
        "## Building an Inverted Index\n",
        "\n",
        "Let's look at how we can build an inverted index in Spark. Here are the steps we will follow:\n",
        "\n",
        "1. Load the data.  \n",
        "\n",
        "2. Create the index: $i \\rightarrow d*$\n",
        "  * Since we are using Spark, we will generate this index on the rows.\n",
        "\n",
        "3. Process the text.\n",
        "\n",
        "4. Create the inverted index from terms to documents: $t_d \\rightarrow i*$"
      ]
    },
    {
      "cell_type": "markdown",
      "metadata": {
        "id": "YsW1UTBKQ-kC",
        "colab_type": "text"
      },
      "source": [
        "### Step 1\n",
        "\n",
        "We will be creating an inverted index for the mini_newsgroups data set."
      ]
    },
    {
      "cell_type": "code",
      "metadata": {
        "id": "aiWtsaeTR4Yf",
        "colab_type": "code",
        "colab": {}
      },
      "source": [
        "import os\n",
        "\n",
        "from pyspark.sql.types import *\n",
        "from pyspark.sql.functions import collect_set\n",
        "from pyspark.sql import Row\n",
        "from pyspark.ml import Pipeline\n",
        "\n",
        "import sparknlp\n",
        "from sparknlp import DocumentAssembler, Finisher\n",
        "from sparknlp.annotator import *\n",
        "\n",
        "spark = sparknlp.start()"
      ],
      "execution_count": 5,
      "outputs": []
    },
    {
      "cell_type": "code",
      "metadata": {
        "id": "4HQEGVgER6bW",
        "colab_type": "code",
        "colab": {}
      },
      "source": [
        "path = os.path.join('data', 'mini_newsgroups', '*')\n",
        "texts = spark.sparkContext.wholeTextFiles(path)\n",
        "\n",
        "schema = StructType([\n",
        "    StructField('path', StringType()),\n",
        "    StructField('text', StringType()),\n",
        "])\n",
        "\n",
        "texts = spark.createDataFrame(texts, schema=schema).persist()"
      ],
      "execution_count": 6,
      "outputs": []
    },
    {
      "cell_type": "markdown",
      "metadata": {
        "id": "imVRaxuCQ-r7",
        "colab_type": "text"
      },
      "source": [
        "### Step 2\n",
        "\n",
        "Now we need to create the index. Spark assumes the data is distributed, so to assign an index, we need to use the lower-level `RDD` API. The zipWithIndex will sort the data on the workers and assign the indices."
      ]
    },
    {
      "cell_type": "code",
      "metadata": {
        "id": "j85jHlBASBLg",
        "colab_type": "code",
        "colab": {
          "base_uri": "https://localhost:8080/",
          "height": 123
        },
        "outputId": "10aa3ccc-182b-47f5-dfd2-bf34a70ce34c"
      },
      "source": [
        "rows_w_indexed = texts.rdd.zipWithIndex()\n",
        "(path, text), i = rows_w_indexed.first()\n",
        "\n",
        "print(i)\n",
        "print(path)\n",
        "print(text[:200])"
      ],
      "execution_count": 7,
      "outputs": [
        {
          "output_type": "stream",
          "text": [
            "0\n",
            "file:/content/data/mini_newsgroups/rec.sport.hockey/53625\n",
            "Path: cantaloupe.srv.cs.cmu.edu!rochester!udel!wupost!uwm.edu!caen!malgudi.oar.net!news.ysu.edu!psuvm!rap115\n",
            "Organization: Penn State University\n",
            "Date: Sun, 18 Apr 1993 18:16:32 EDT\n",
            "From: Robbie Po <RA\n"
          ],
          "name": "stdout"
        }
      ]
    },
    {
      "cell_type": "markdown",
      "metadata": {
        "id": "4WUR1rWiQ-wk",
        "colab_type": "text"
      },
      "source": [
        "Now that we have created the index, we need to create a `DataFrame` like we did previously, except now we need to add our index into our `Rows`."
      ]
    },
    {
      "cell_type": "code",
      "metadata": {
        "id": "_nwaG6BPSJ63",
        "colab_type": "code",
        "colab": {}
      },
      "source": [
        "indexed = rows_w_indexed.map(\n",
        "    lambda row_index: Row(\n",
        "        index=row_index[1], \n",
        "        **row_index[0].asDict())\n",
        ")\n",
        "(i, path, text) = indexed.first()"
      ],
      "execution_count": 8,
      "outputs": []
    },
    {
      "cell_type": "code",
      "metadata": {
        "id": "eQsPwY7dSLd-",
        "colab_type": "code",
        "colab": {}
      },
      "source": [
        "indexed_schema = schema.add(StructField('index', IntegerType()))\n",
        "\n",
        "indexed = spark.createDataFrame(indexed, schema=indexed_schema)\\\n",
        "    .persist()"
      ],
      "execution_count": 9,
      "outputs": []
    },
    {
      "cell_type": "code",
      "metadata": {
        "id": "JnWtqnaNSM6v",
        "colab_type": "code",
        "colab": {
          "base_uri": "https://localhost:8080/",
          "height": 347
        },
        "outputId": "b5bed2b9-de01-40fa-b703-3cc9d2ea724d"
      },
      "source": [
        "indexed.limit(10).toPandas()"
      ],
      "execution_count": 10,
      "outputs": [
        {
          "output_type": "execute_result",
          "data": {
            "text/html": [
              "<div>\n",
              "<style scoped>\n",
              "    .dataframe tbody tr th:only-of-type {\n",
              "        vertical-align: middle;\n",
              "    }\n",
              "\n",
              "    .dataframe tbody tr th {\n",
              "        vertical-align: top;\n",
              "    }\n",
              "\n",
              "    .dataframe thead th {\n",
              "        text-align: right;\n",
              "    }\n",
              "</style>\n",
              "<table border=\"1\" class=\"dataframe\">\n",
              "  <thead>\n",
              "    <tr style=\"text-align: right;\">\n",
              "      <th></th>\n",
              "      <th>path</th>\n",
              "      <th>text</th>\n",
              "      <th>index</th>\n",
              "    </tr>\n",
              "  </thead>\n",
              "  <tbody>\n",
              "    <tr>\n",
              "      <th>0</th>\n",
              "      <td>file:/content/data/mini_newsgroups/rec.sport.h...</td>\n",
              "      <td>Path: cantaloupe.srv.cs.cmu.edu!rochester!udel...</td>\n",
              "      <td>0</td>\n",
              "    </tr>\n",
              "    <tr>\n",
              "      <th>1</th>\n",
              "      <td>file:/content/data/mini_newsgroups/rec.sport.h...</td>\n",
              "      <td>Newsgroups: rec.sport.hockey\\nPath: cantaloupe...</td>\n",
              "      <td>1</td>\n",
              "    </tr>\n",
              "    <tr>\n",
              "      <th>2</th>\n",
              "      <td>file:/content/data/mini_newsgroups/rec.sport.h...</td>\n",
              "      <td>Newsgroups: rec.sport.hockey\\nPath: cantaloupe...</td>\n",
              "      <td>2</td>\n",
              "    </tr>\n",
              "    <tr>\n",
              "      <th>3</th>\n",
              "      <td>file:/content/data/mini_newsgroups/rec.sport.h...</td>\n",
              "      <td>Newsgroups: rec.sport.hockey\\nPath: cantaloupe...</td>\n",
              "      <td>3</td>\n",
              "    </tr>\n",
              "    <tr>\n",
              "      <th>4</th>\n",
              "      <td>file:/content/data/mini_newsgroups/rec.sport.h...</td>\n",
              "      <td>Path: cantaloupe.srv.cs.cmu.edu!rochester!udel...</td>\n",
              "      <td>4</td>\n",
              "    </tr>\n",
              "    <tr>\n",
              "      <th>5</th>\n",
              "      <td>file:/content/data/mini_newsgroups/rec.sport.h...</td>\n",
              "      <td>Path: cantaloupe.srv.cs.cmu.edu!crabapple.srv....</td>\n",
              "      <td>5</td>\n",
              "    </tr>\n",
              "    <tr>\n",
              "      <th>6</th>\n",
              "      <td>file:/content/data/mini_newsgroups/rec.sport.h...</td>\n",
              "      <td>Newsgroups: rec.sport.hockey\\nPath: cantaloupe...</td>\n",
              "      <td>6</td>\n",
              "    </tr>\n",
              "    <tr>\n",
              "      <th>7</th>\n",
              "      <td>file:/content/data/mini_newsgroups/rec.sport.h...</td>\n",
              "      <td>Path: cantaloupe.srv.cs.cmu.edu!crabapple.srv....</td>\n",
              "      <td>7</td>\n",
              "    </tr>\n",
              "    <tr>\n",
              "      <th>8</th>\n",
              "      <td>file:/content/data/mini_newsgroups/rec.sport.h...</td>\n",
              "      <td>Path: cantaloupe.srv.cs.cmu.edu!crabapple.srv....</td>\n",
              "      <td>8</td>\n",
              "    </tr>\n",
              "    <tr>\n",
              "      <th>9</th>\n",
              "      <td>file:/content/data/mini_newsgroups/rec.sport.h...</td>\n",
              "      <td>Path: cantaloupe.srv.cs.cmu.edu!das-news.harva...</td>\n",
              "      <td>9</td>\n",
              "    </tr>\n",
              "  </tbody>\n",
              "</table>\n",
              "</div>"
            ],
            "text/plain": [
              "                                                path  ... index\n",
              "0  file:/content/data/mini_newsgroups/rec.sport.h...  ...     0\n",
              "1  file:/content/data/mini_newsgroups/rec.sport.h...  ...     1\n",
              "2  file:/content/data/mini_newsgroups/rec.sport.h...  ...     2\n",
              "3  file:/content/data/mini_newsgroups/rec.sport.h...  ...     3\n",
              "4  file:/content/data/mini_newsgroups/rec.sport.h...  ...     4\n",
              "5  file:/content/data/mini_newsgroups/rec.sport.h...  ...     5\n",
              "6  file:/content/data/mini_newsgroups/rec.sport.h...  ...     6\n",
              "7  file:/content/data/mini_newsgroups/rec.sport.h...  ...     7\n",
              "8  file:/content/data/mini_newsgroups/rec.sport.h...  ...     8\n",
              "9  file:/content/data/mini_newsgroups/rec.sport.h...  ...     9\n",
              "\n",
              "[10 rows x 3 columns]"
            ]
          },
          "metadata": {
            "tags": []
          },
          "execution_count": 10
        }
      ]
    },
    {
      "cell_type": "markdown",
      "metadata": {
        "id": "N12fRsOvQ-19",
        "colab_type": "text"
      },
      "source": [
        "Each document $d$ is a collection of terms, $t_d$. So our index is the mapping from integers to collections of terms.\n",
        "\n",
        "An inverted index, on the other hand, is the mapping from terms $t_d$ to integers, $\\text{inv-index}: t_d \\rightarrow i, j, k, ...$ This allows us to quickly look up what documents contain a given term."
      ]
    },
    {
      "cell_type": "markdown",
      "metadata": {
        "id": "gLAncNAtQ-6s",
        "colab_type": "text"
      },
      "source": [
        "### Step 3\n",
        "\n",
        "Now let's process the text"
      ]
    },
    {
      "cell_type": "code",
      "metadata": {
        "id": "ClkoSGKlSnEf",
        "colab_type": "code",
        "colab": {
          "base_uri": "https://localhost:8080/",
          "height": 70
        },
        "outputId": "55bab768-425c-4cfc-cb9b-d278e34621f8"
      },
      "source": [
        "from sparknlp.pretrained import PretrainedPipeline\n",
        "\n",
        "assembler = DocumentAssembler()\\\n",
        "    .setInputCol('text')\\\n",
        "    .setOutputCol('document')\n",
        "tokenizer = Tokenizer()\\\n",
        "    .setInputCols(['document'])\\\n",
        "    .setOutputCol('token')\n",
        "lemmatizer = LemmatizerModel.pretrained()\\\n",
        "    .setInputCols(['token'])\\\n",
        "    .setOutputCol('lemma')\n",
        "normalizer = Normalizer()\\\n",
        "    .setInputCols(['lemma'])\\\n",
        "    .setOutputCol('normalized')\\\n",
        "    .setLowercase(True)\n",
        "finisher = Finisher()\\\n",
        "    .setInputCols(['normalized'])\\\n",
        "    .setOutputCols(['normalized'])\\\n",
        "    .setOutputAsArray(True)\n",
        "\n",
        "pipeline = Pipeline().setStages([\n",
        "    assembler, tokenizer, \n",
        "    lemmatizer, normalizer, finisher\n",
        "]).fit(indexed)\n",
        "\n",
        "indexed_w_tokens = pipeline.transform(indexed)"
      ],
      "execution_count": 11,
      "outputs": [
        {
          "output_type": "stream",
          "text": [
            "lemma_antbnc download started this may take some time.\n",
            "Approximate size to download 907.6 KB\n",
            "[OK!]\n"
          ],
          "name": "stdout"
        }
      ]
    },
    {
      "cell_type": "code",
      "metadata": {
        "id": "knh3FlJqSoW3",
        "colab_type": "code",
        "colab": {
          "base_uri": "https://localhost:8080/",
          "height": 347
        },
        "outputId": "522a1b96-2537-4a49-e9c0-ff855a59ee58"
      },
      "source": [
        "indexed_w_tokens.limit(10).toPandas()"
      ],
      "execution_count": 12,
      "outputs": [
        {
          "output_type": "execute_result",
          "data": {
            "text/html": [
              "<div>\n",
              "<style scoped>\n",
              "    .dataframe tbody tr th:only-of-type {\n",
              "        vertical-align: middle;\n",
              "    }\n",
              "\n",
              "    .dataframe tbody tr th {\n",
              "        vertical-align: top;\n",
              "    }\n",
              "\n",
              "    .dataframe thead th {\n",
              "        text-align: right;\n",
              "    }\n",
              "</style>\n",
              "<table border=\"1\" class=\"dataframe\">\n",
              "  <thead>\n",
              "    <tr style=\"text-align: right;\">\n",
              "      <th></th>\n",
              "      <th>path</th>\n",
              "      <th>text</th>\n",
              "      <th>index</th>\n",
              "      <th>normalized</th>\n",
              "    </tr>\n",
              "  </thead>\n",
              "  <tbody>\n",
              "    <tr>\n",
              "      <th>0</th>\n",
              "      <td>file:/content/data/mini_newsgroups/rec.sport.h...</td>\n",
              "      <td>Path: cantaloupe.srv.cs.cmu.edu!rochester!udel...</td>\n",
              "      <td>0</td>\n",
              "      <td>[path, cantaloupesrvcscmuedurochesterudelwupos...</td>\n",
              "    </tr>\n",
              "    <tr>\n",
              "      <th>1</th>\n",
              "      <td>file:/content/data/mini_newsgroups/rec.sport.h...</td>\n",
              "      <td>Newsgroups: rec.sport.hockey\\nPath: cantaloupe...</td>\n",
              "      <td>1</td>\n",
              "      <td>[newsgroups, recsporthockey, path, cantaloupes...</td>\n",
              "    </tr>\n",
              "    <tr>\n",
              "      <th>2</th>\n",
              "      <td>file:/content/data/mini_newsgroups/rec.sport.h...</td>\n",
              "      <td>Newsgroups: rec.sport.hockey\\nPath: cantaloupe...</td>\n",
              "      <td>2</td>\n",
              "      <td>[newsgroups, recsporthockey, path, cantaloupes...</td>\n",
              "    </tr>\n",
              "    <tr>\n",
              "      <th>3</th>\n",
              "      <td>file:/content/data/mini_newsgroups/rec.sport.h...</td>\n",
              "      <td>Newsgroups: rec.sport.hockey\\nPath: cantaloupe...</td>\n",
              "      <td>3</td>\n",
              "      <td>[newsgroups, recsporthockey, path, cantaloupes...</td>\n",
              "    </tr>\n",
              "    <tr>\n",
              "      <th>4</th>\n",
              "      <td>file:/content/data/mini_newsgroups/rec.sport.h...</td>\n",
              "      <td>Path: cantaloupe.srv.cs.cmu.edu!rochester!udel...</td>\n",
              "      <td>4</td>\n",
              "      <td>[path, cantaloupesrvcscmuedurochesterudelgatec...</td>\n",
              "    </tr>\n",
              "    <tr>\n",
              "      <th>5</th>\n",
              "      <td>file:/content/data/mini_newsgroups/rec.sport.h...</td>\n",
              "      <td>Path: cantaloupe.srv.cs.cmu.edu!crabapple.srv....</td>\n",
              "      <td>5</td>\n",
              "      <td>[path, cantaloupesrvcscmueducrabapplesrvcscmue...</td>\n",
              "    </tr>\n",
              "    <tr>\n",
              "      <th>6</th>\n",
              "      <td>file:/content/data/mini_newsgroups/rec.sport.h...</td>\n",
              "      <td>Newsgroups: rec.sport.hockey\\nPath: cantaloupe...</td>\n",
              "      <td>6</td>\n",
              "      <td>[newsgroups, recsporthockey, path, cantaloupes...</td>\n",
              "    </tr>\n",
              "    <tr>\n",
              "      <th>7</th>\n",
              "      <td>file:/content/data/mini_newsgroups/rec.sport.h...</td>\n",
              "      <td>Path: cantaloupe.srv.cs.cmu.edu!crabapple.srv....</td>\n",
              "      <td>7</td>\n",
              "      <td>[path, cantaloupesrvcscmueducrabapplesrvcscmue...</td>\n",
              "    </tr>\n",
              "    <tr>\n",
              "      <th>8</th>\n",
              "      <td>file:/content/data/mini_newsgroups/rec.sport.h...</td>\n",
              "      <td>Path: cantaloupe.srv.cs.cmu.edu!crabapple.srv....</td>\n",
              "      <td>8</td>\n",
              "      <td>[path, cantaloupesrvcscmueducrabapplesrvcscmue...</td>\n",
              "    </tr>\n",
              "    <tr>\n",
              "      <th>9</th>\n",
              "      <td>file:/content/data/mini_newsgroups/rec.sport.h...</td>\n",
              "      <td>Path: cantaloupe.srv.cs.cmu.edu!das-news.harva...</td>\n",
              "      <td>9</td>\n",
              "      <td>[path, cantaloupesrvcscmuedudasnewsharvardedun...</td>\n",
              "    </tr>\n",
              "  </tbody>\n",
              "</table>\n",
              "</div>"
            ],
            "text/plain": [
              "                                                path  ...                                         normalized\n",
              "0  file:/content/data/mini_newsgroups/rec.sport.h...  ...  [path, cantaloupesrvcscmuedurochesterudelwupos...\n",
              "1  file:/content/data/mini_newsgroups/rec.sport.h...  ...  [newsgroups, recsporthockey, path, cantaloupes...\n",
              "2  file:/content/data/mini_newsgroups/rec.sport.h...  ...  [newsgroups, recsporthockey, path, cantaloupes...\n",
              "3  file:/content/data/mini_newsgroups/rec.sport.h...  ...  [newsgroups, recsporthockey, path, cantaloupes...\n",
              "4  file:/content/data/mini_newsgroups/rec.sport.h...  ...  [path, cantaloupesrvcscmuedurochesterudelgatec...\n",
              "5  file:/content/data/mini_newsgroups/rec.sport.h...  ...  [path, cantaloupesrvcscmueducrabapplesrvcscmue...\n",
              "6  file:/content/data/mini_newsgroups/rec.sport.h...  ...  [newsgroups, recsporthockey, path, cantaloupes...\n",
              "7  file:/content/data/mini_newsgroups/rec.sport.h...  ...  [path, cantaloupesrvcscmueducrabapplesrvcscmue...\n",
              "8  file:/content/data/mini_newsgroups/rec.sport.h...  ...  [path, cantaloupesrvcscmueducrabapplesrvcscmue...\n",
              "9  file:/content/data/mini_newsgroups/rec.sport.h...  ...  [path, cantaloupesrvcscmuedudasnewsharvardedun...\n",
              "\n",
              "[10 rows x 4 columns]"
            ]
          },
          "metadata": {
            "tags": []
          },
          "execution_count": 12
        }
      ]
    },
    {
      "cell_type": "code",
      "metadata": {
        "id": "nb1zNqo4SqOG",
        "colab_type": "code",
        "colab": {}
      },
      "source": [
        "doc_index = indexed_w_tokens.select('index', 'path', 'text').toPandas()\n",
        "doc_index = doc_index.set_index('index')"
      ],
      "execution_count": 13,
      "outputs": []
    },
    {
      "cell_type": "markdown",
      "metadata": {
        "id": "HjLvwjV1Q--9",
        "colab_type": "text"
      },
      "source": [
        "### Step 4\n",
        "\n",
        "Now, let us create our inverted index. We will use Spark SQL to do this.\n",
        "\n",
        "```\n",
        "SELECT term, collect_set(index) AS documents\n",
        "FROM (\n",
        "    SELECT index, explode(normalized) AS term\n",
        "    FROM indexed_w_tokens\n",
        ")\n",
        "GROUP BY term\n",
        "ORDER BY term\n",
        "```"
      ]
    },
    {
      "cell_type": "code",
      "metadata": {
        "id": "mW_n6h4eSxSe",
        "colab_type": "code",
        "colab": {}
      },
      "source": [
        "inverted_index = indexed_w_tokens\\\n",
        "    .selectExpr('index', 'explode(normalized) AS term')\\\n",
        "    .distinct()\\\n",
        "    .groupBy('term').agg(collect_set('index').alias('documents'))\\\n",
        "    .persist()"
      ],
      "execution_count": 14,
      "outputs": []
    },
    {
      "cell_type": "code",
      "metadata": {
        "id": "BXjWNWclSy91",
        "colab_type": "code",
        "colab": {
          "base_uri": "https://localhost:8080/",
          "height": 301
        },
        "outputId": "b84a97b3-2529-4710-f44c-4f2eead4903b"
      },
      "source": [
        "inverted_index.show(10)"
      ],
      "execution_count": 15,
      "outputs": [
        {
          "output_type": "stream",
          "text": [
            "+--------------------+--------------------+\n",
            "|                term|           documents|\n",
            "+--------------------+--------------------+\n",
            "|        accumulation|              [1692]|\n",
            "|          adventists|              [1886]|\n",
            "|           amplifier|     [760, 716, 784]|\n",
            "|            antennae|        [1143, 1168]|\n",
            "|             aprdlss|               [235]|\n",
            "|aprgalileoccroche...|[184, 188, 1778, ...|\n",
            "|          aprsqsqcom|              [1118]|\n",
            "|               argle|               [440]|\n",
            "|           arguments|          [159, 813]|\n",
            "|                 art|[691, 488, 1903, ...|\n",
            "+--------------------+--------------------+\n",
            "only showing top 10 rows\n",
            "\n"
          ],
          "name": "stdout"
        }
      ]
    },
    {
      "cell_type": "markdown",
      "metadata": {
        "id": "AlqREv6JQ_DG",
        "colab_type": "text"
      },
      "source": [
        "This is our inverted index. We can see that the term \"amplifier\" occurs in documents 630, 624, and 654. With this information, we can quickly find all documents that contain particular terms.\n",
        "\n",
        "Another benefit is that this inverted index is based on the size of our vocabulary, not on the amount of text in our corpus, so it is not big data. The inverted index grows only with new terms and document indices. For very large corpora, this can still be a large amount of data for a single machine. In the case of the mini_newsgroups data set, however, it is easily manageable.\n",
        "\n",
        "Let's see how big our inverted index is."
      ]
    },
    {
      "cell_type": "code",
      "metadata": {
        "id": "UoOvo464S14l",
        "colab_type": "code",
        "colab": {
          "base_uri": "https://localhost:8080/",
          "height": 34
        },
        "outputId": "70bdf139-676f-46bd-9b08-4ccf5238b4e5"
      },
      "source": [
        "inverted_index.count()"
      ],
      "execution_count": 16,
      "outputs": [
        {
          "output_type": "execute_result",
          "data": {
            "text/plain": [
              "42624"
            ]
          },
          "metadata": {
            "tags": []
          },
          "execution_count": 16
        }
      ]
    },
    {
      "cell_type": "markdown",
      "metadata": {
        "id": "19UFC0eIQ_HF",
        "colab_type": "text"
      },
      "source": [
        "For us, since we have such a small number of documents, the inverted index has more entries than the index.  Word frequencies follow Zipf's law—that is, the frequency of a word is inversely proportional to its rank when sorted. As a result, the most-used English words are already in our inverted index. This can be further constrained by not tracking words that don't occur at least a certain number of times."
      ]
    },
    {
      "cell_type": "code",
      "metadata": {
        "id": "LMhONbLUS4NO",
        "colab_type": "code",
        "colab": {}
      },
      "source": [
        "inverted_index = {\n",
        "    term: set(docs) \n",
        "    for term, docs in inverted_index.collect()\n",
        "}"
      ],
      "execution_count": 17,
      "outputs": []
    },
    {
      "cell_type": "markdown",
      "metadata": {
        "id": "jJ5GPZwTQ_K1",
        "colab_type": "text"
      },
      "source": [
        " Now we can begin our most basic ranking function—simple Boolean search. In this case, let's look up all the documents that contain the words \"language\" or \"information.\""
      ]
    },
    {
      "cell_type": "code",
      "metadata": {
        "id": "6zVLvGtgS7Sl",
        "colab_type": "code",
        "colab": {
          "base_uri": "https://localhost:8080/",
          "height": 52
        },
        "outputId": "f91bee67-e03a-4874-a6f7-ac727e141a57"
      },
      "source": [
        "lang_docs = inverted_index['language']\n",
        "print('docs', ('{}, ' * 10).format(*list(lang_docs)[:10]), '...')\n",
        "print('number of docs', len(lang_docs))"
      ],
      "execution_count": 18,
      "outputs": [
        {
          "output_type": "stream",
          "text": [
            "docs 134, 1159, 1287, 393, 1675, 399, 1936, 786, 915, 1940,  ...\n",
            "number of docs 44\n"
          ],
          "name": "stdout"
        }
      ]
    },
    {
      "cell_type": "code",
      "metadata": {
        "id": "739eLjUxS88m",
        "colab_type": "code",
        "colab": {
          "base_uri": "https://localhost:8080/",
          "height": 52
        },
        "outputId": "3099302f-9914-4b4c-8dfc-d7bfaacbd2a9"
      },
      "source": [
        "info_docs = inverted_index['information']\n",
        "print('docs', ('{}, ' * 10).format(*list(info_docs)[:10]), '...')\n",
        "print('number of docs', len(info_docs))"
      ],
      "execution_count": 19,
      "outputs": [
        {
          "output_type": "stream",
          "text": [
            "docs 1537, 518, 524, 1555, 532, 533, 534, 1560, 1561, 539,  ...\n",
            "number of docs 215\n"
          ],
          "name": "stdout"
        }
      ]
    },
    {
      "cell_type": "code",
      "metadata": {
        "id": "xh430LyfS-pu",
        "colab_type": "code",
        "colab": {
          "base_uri": "https://localhost:8080/",
          "height": 34
        },
        "outputId": "91ff7f28-15c7-470d-c4bb-bea90acad6ae"
      },
      "source": [
        "filter_set = list(lang_docs | info_docs)\n",
        "print('number of docs in filter set', len(filter_set))"
      ],
      "execution_count": 20,
      "outputs": [
        {
          "output_type": "stream",
          "text": [
            "number of docs in filter set 246\n"
          ],
          "name": "stdout"
        }
      ]
    },
    {
      "cell_type": "code",
      "metadata": {
        "id": "d8DNwQXpS__H",
        "colab_type": "code",
        "colab": {
          "base_uri": "https://localhost:8080/",
          "height": 34
        },
        "outputId": "c435310d-d912-4cc3-a7b0-e53873a683ea"
      },
      "source": [
        "intersection = list(lang_docs & info_docs)\n",
        "print('number of docs in intersection set', len(intersection))"
      ],
      "execution_count": 21,
      "outputs": [
        {
          "output_type": "stream",
          "text": [
            "number of docs in intersection set 13\n"
          ],
          "name": "stdout"
        }
      ]
    },
    {
      "cell_type": "markdown",
      "metadata": {
        "id": "LmEqFVo9Q_Of",
        "colab_type": "text"
      },
      "source": [
        "Let's print out lines from our filter set. Here, the filter set is the result set, but generally, the filter set is ranked by $r(q, D)$, which results in the result set.\n",
        "\n",
        "Let's look at the lines in which we see the occurrences, to get an idea about our result set."
      ]
    },
    {
      "cell_type": "code",
      "metadata": {
        "id": "W9v526f1TD4-",
        "colab_type": "code",
        "colab": {
          "base_uri": "https://localhost:8080/",
          "height": 283
        },
        "outputId": "5e30bfc3-6d5d-42d8-b331-eac286b848a7"
      },
      "source": [
        "k = 1\n",
        "for i in filter_set:\n",
        "    path, text = doc_index.loc[i]\n",
        "    lines = text.split('\\n')\n",
        "    print(path.split('/')[-1], 'length:', len(text))\n",
        "    for line_number, line in enumerate(lines):\n",
        "        if 'information' in line or 'language' in line:\n",
        "            print(line_number, line)\n",
        "    print()\n",
        "    k += 1\n",
        "    if k > 5:\n",
        "        break"
      ],
      "execution_count": 22,
      "outputs": [
        {
          "output_type": "stream",
          "text": [
            "104390 length: 2223\n",
            "51 \"...I will append an appropriate disclaimer to outgoing public information,\n",
            "\n",
            "103553 length: 3766\n",
            "55  \tFor pre-registration forms and additional information, write Doug\n",
            "\n",
            "61335 length: 4410\n",
            "36 results, and combine information from many different sources.\n",
            "\n",
            "61191 length: 1019\n",
            "12 >     language) ...\n",
            "15 ritual purification of the language.  Pity he got stuck with the turkey\n",
            "\n",
            "61160 length: 1524\n",
            "\n"
          ],
          "name": "stdout"
        }
      ]
    },
    {
      "cell_type": "markdown",
      "metadata": {
        "id": "8hBgMW0fQ_R-",
        "colab_type": "text"
      },
      "source": [
        "Now that we have our result set, how should we rank our results? We could just count the number of occurrences of our search term, but that would be biased toward long documents. Also, what happens if our query includes a very common word like \"the\"? If we just use the counts, common words like \"the\" will dominate our results. In our result set, the one with the most occurrences of the query terms has the longest text. We could say that the more terms found in the document, the more relevant the document is, but this has problems too. What do we do with one-term queries? In our example, only one document has both. Again, if our query has a common word—for example, \"the cat in the hat\"—should \"the\" and \"in\" have the same importance as \"cat\" and \"hat\"? To solve this problem, we need a more flexible model for our documents and queries."
      ]
    },
    {
      "cell_type": "markdown",
      "metadata": {
        "id": "dcqXlrEdQ_V7",
        "colab_type": "text"
      },
      "source": [
        "## Vector Space Model\n",
        "\n",
        "In the previous chapter, we introduced the concept of vectorizing documents. We talked about creating binary vectors, where 1 means that the word is present in the document. We can also use the counts.\n",
        "\n",
        "When we convert a corpus to a collection of vectors, we are implicitly modeling our language as a vector space. In this vector space, each dimension represents one term. This has many benefits and drawbacks. It is a simple way to represent our text in a manner that allows machine learning algorithms to work with it. It also allows us to represent the vectors sparsely. On the other hand, we lose the information contained in the word order. This process also creates high dimensional data sets, which can be problematic to some algorithms.\n",
        "\n",
        "Let's calculate the vectors for our data set. In the previous chapter, we used the `CountVectorizer` for this. We will build the vectors in Python, but the way we will build them will help us understand how libraries implement vectorization."
      ]
    },
    {
      "cell_type": "code",
      "metadata": {
        "id": "AJbqMiTBTOsO",
        "colab_type": "code",
        "colab": {}
      },
      "source": [
        "class SparseVector(object):\n",
        "    \n",
        "    def __init__(self, indices, values, length):\n",
        "        # if the indices are not in ascending order, we need \n",
        "        # to sort them\n",
        "        is_ascending = True\n",
        "        for i in range(len(indices) - 1):\n",
        "            is_ascending = is_ascending and indices[i] < indices[i+1]\n",
        "        if not is_ascending:\n",
        "            pairs = zip(indices, values)\n",
        "            sorted_pairs = sorted(pairs, key=lambda x: x[0])\n",
        "            indices, values = zip(*sorted_pairs)\n",
        "        self.indices = indices\n",
        "        self.values = values\n",
        "        self.length = length\n",
        "        \n",
        "    def __getitem__(self, index):\n",
        "        try:\n",
        "            return self.values[self.indices.index(index)]\n",
        "        except ValueError:\n",
        "            return 0.0\n",
        "        \n",
        "    def dot(self, other):\n",
        "        assert isinstance(other, SparseVector)\n",
        "        assert self.length == other.length\n",
        "        res = 0\n",
        "        i = j = 0\n",
        "        while i < len(self.indices) and j < len(other.indices):\n",
        "            if self.indices[i] == other.indices[j]:\n",
        "                res += self.values[i] * other.values[j]\n",
        "                i += 1\n",
        "                j += 1\n",
        "            elif self.indices[i] < other.indices[j]:\n",
        "                i += 1\n",
        "            elif self.indices[i] > other.indices[j]:\n",
        "                j += 1\n",
        "        return res\n",
        "    \n",
        "    def hadamard(self, other):\n",
        "        assert isinstance(other, SparseVector)\n",
        "        assert self.length == other.length\n",
        "        res_indices = []\n",
        "        res_values = []\n",
        "        i = j = 0\n",
        "        while i < len(self.indices) and j < len(other.indices):\n",
        "            if self.indices[i] == other.indices[j]:\n",
        "                res_indices.append(self.indices[i])\n",
        "                res_values.append(self.values[i] * other.values[j])\n",
        "                i += 1\n",
        "                j += 1\n",
        "            elif self.indices[i] < other.indices[j]:\n",
        "                i += 1\n",
        "            elif self.indices[i] > other.indices[j]:\n",
        "                j += 1\n",
        "        return SparseVector(res_indices, res_values, self.length)\n",
        "    \n",
        "    def sum(self):\n",
        "        return sum(self.values)\n",
        "    \n",
        "    def __repr__(self):\n",
        "        return 'SparseVector({}, {})'.format(\n",
        "            dict(zip(self.indices, self.values)), self.length)"
      ],
      "execution_count": 23,
      "outputs": []
    },
    {
      "cell_type": "markdown",
      "metadata": {
        "id": "QfZZAgFsQ_Z8",
        "colab_type": "text"
      },
      "source": [
        "We need to make two passes over all the documents. In the first pass, we will get our vocabulary and the counts. In the second pass we will construct the vectors."
      ]
    },
    {
      "cell_type": "code",
      "metadata": {
        "id": "bO4hXavnTTQe",
        "colab_type": "code",
        "colab": {}
      },
      "source": [
        "from collections import Counter\n",
        "\n",
        "vocabulary = set()\n",
        "vectors = {}\n",
        "\n",
        "for row in indexed_w_tokens.toLocalIterator():\n",
        "    counts = Counter(row['normalized'])\n",
        "    vocabulary.update(counts.keys())\n",
        "    vectors[row['index']] = counts\n",
        "    \n",
        "vocabulary = list(sorted(vocabulary))\n",
        "inv_vocabulary = {term: ix for ix, term in enumerate(vocabulary)}\n",
        "vocab_len = len(vocabulary)"
      ],
      "execution_count": 24,
      "outputs": []
    },
    {
      "cell_type": "markdown",
      "metadata": {
        "id": "nmzjxgYtQ_d8",
        "colab_type": "text"
      },
      "source": [
        "Now that we have this information, we need to go back over our word counts and construct actual vectors."
      ]
    },
    {
      "cell_type": "code",
      "metadata": {
        "id": "BxpqjYKuTVjm",
        "colab_type": "code",
        "colab": {}
      },
      "source": [
        "for index in vectors:\n",
        "    terms, values = zip(*vectors[index].items())\n",
        "    indices = [inv_vocabulary[term] for term in terms]\n",
        "    vectors[index] = SparseVector(indices, values, vocab_len)"
      ],
      "execution_count": 25,
      "outputs": []
    },
    {
      "cell_type": "code",
      "metadata": {
        "id": "_zSfqJf3TXI-",
        "colab_type": "code",
        "colab": {
          "base_uri": "https://localhost:8080/",
          "height": 54
        },
        "outputId": "71b443a5-bcec-49b7-dc29-0262d7402655"
      },
      "source": [
        "vectors[42]"
      ],
      "execution_count": 26,
      "outputs": [
        {
          "output_type": "execute_result",
          "data": {
            "text/plain": [
              "SparseVector({56: 4, 156: 4, 357: 1, 448: 1, 937: 1, 1130: 1, 1351: 1, 1396: 2, 1417: 1, 1646: 1, 1793: 1, 2431: 1, 2609: 1, 2691: 1, 2796: 1, 3261: 1, 3598: 8, 4710: 1, 4996: 1, 5228: 1, 5280: 1, 7309: 1, 7922: 2, 8652: 1, 8891: 1, 9284: 1, 11031: 1, 11205: 1, 11599: 1, 11918: 1, 12352: 1, 12394: 1, 12445: 2, 12460: 1, 14044: 1, 14973: 1, 15475: 3, 16037: 1, 16405: 1, 17238: 1, 17296: 10, 17431: 1, 17486: 1, 17545: 1, 18329: 8, 18573: 1, 18960: 1, 19620: 1, 20381: 1, 20407: 1, 20973: 4, 21713: 1, 21856: 1, 21907: 1, 23253: 1, 23683: 1, 23776: 1, 23813: 1, 23930: 1, 24434: 1, 26222: 1, 26438: 1, 26826: 1, 27500: 5, 27670: 1, 27677: 1, 27843: 2, 27897: 1, 28052: 1, 28237: 1, 28583: 1, 28864: 1, 28977: 1, 29373: 2, 29777: 1, 31174: 1, 31485: 1, 31666: 1, 31703: 1, 31922: 1, 34271: 1, 34303: 1, 34317: 1, 34540: 2, 34559: 1, 35639: 1, 35642: 1, 35648: 1, 35719: 1, 36300: 1, 36672: 1, 36953: 1, 37270: 1, 37664: 1, 37867: 2, 37876: 5, 37984: 1, 38013: 1, 38198: 1, 39799: 1, 40637: 1, 41040: 1, 41190: 3, 41223: 2, 41269: 1, 41369: 1, 41381: 1, 41507: 1, 41798: 1, 42384: 1}, 42624)"
            ]
          },
          "metadata": {
            "tags": []
          },
          "execution_count": 26
        }
      ]
    },
    {
      "cell_type": "code",
      "metadata": {
        "id": "_BihQzI6Taq6",
        "colab_type": "code",
        "colab": {
          "base_uri": "https://localhost:8080/",
          "height": 35
        },
        "outputId": "2172799e-8e48-4047-869e-e87331a1085f"
      },
      "source": [
        "vocabulary[3598]"
      ],
      "execution_count": 27,
      "outputs": [
        {
          "output_type": "execute_result",
          "data": {
            "application/vnd.google.colaboratory.intrinsic+json": {
              "type": "string"
            },
            "text/plain": [
              "'be'"
            ]
          },
          "metadata": {
            "tags": []
          },
          "execution_count": 27
        }
      ]
    },
    {
      "cell_type": "code",
      "metadata": {
        "id": "DZ8VfqNXTcUd",
        "colab_type": "code",
        "colab": {
          "base_uri": "https://localhost:8080/",
          "height": 35
        },
        "outputId": "b0b7ea75-7a19-4306-8d88-2a7964b5241b"
      },
      "source": [
        "vocabulary[37876]"
      ],
      "execution_count": 28,
      "outputs": [
        {
          "output_type": "execute_result",
          "data": {
            "application/vnd.google.colaboratory.intrinsic+json": {
              "type": "string"
            },
            "text/plain": [
              "'the'"
            ]
          },
          "metadata": {
            "tags": []
          },
          "execution_count": 28
        }
      ]
    },
    {
      "cell_type": "markdown",
      "metadata": {
        "id": "-_2i8BqgQ_hu",
        "colab_type": "text"
      },
      "source": [
        "As we discussed previously, there are many drawbacks to using only the counts for a search. The concern is that words that are generally common in English will have more impact than the less common words. There are a couple strategies for addressing this. First, let's look at the simplest solution—removing the common words."
      ]
    },
    {
      "cell_type": "markdown",
      "metadata": {
        "id": "KuHdIzCnQ_lr",
        "colab_type": "text"
      },
      "source": [
        "### Stop-Word Removal\n",
        "\n",
        "These common words we are looking to remove are called stop words.  This term was coined in the 1950s by Hans Peter Luhn, a pioneer in information retrieval. Default stop-word lists are available, but it is often necessary to modify generic stop-word lists for different tasks."
      ]
    },
    {
      "cell_type": "code",
      "metadata": {
        "id": "qERfCRj_Tijm",
        "colab_type": "code",
        "colab": {}
      },
      "source": [
        "from pyspark.ml.feature import StopWordsRemover\n",
        "\n",
        "sw_remover = StopWordsRemover() \\\n",
        "    .setInputCol(\"normalized\") \\\n",
        "    .setOutputCol(\"filtered\") \\\n",
        "    .setStopWords(StopWordsRemover.loadDefaultStopWords(\"english\"))\n",
        "\n",
        "filtered = sw_remover.transform(indexed_w_tokens)"
      ],
      "execution_count": 29,
      "outputs": []
    },
    {
      "cell_type": "code",
      "metadata": {
        "id": "2pzc3jqKTj42",
        "colab_type": "code",
        "colab": {}
      },
      "source": [
        "from collections import Counter\n",
        "\n",
        "vocabulary_filtered = set()\n",
        "vectors_filtered = {}\n",
        "\n",
        "for row in filtered.toLocalIterator():\n",
        "    counts = Counter(row['filtered'])\n",
        "    vocabulary_filtered.update(counts.keys())\n",
        "    vectors_filtered[row['index']] = counts\n",
        "    \n",
        "vocabulary_filtered = list(sorted(vocabulary_filtered))\n",
        "inv_vocabulary_filtered = {\n",
        "    term: ix \n",
        "    for ix, term in enumerate(vocabulary_filtered)\n",
        "}\n",
        "vocab_len_filtered = len(vocabulary)"
      ],
      "execution_count": 30,
      "outputs": []
    },
    {
      "cell_type": "code",
      "metadata": {
        "id": "5st3pBFDTlMl",
        "colab_type": "code",
        "colab": {
          "base_uri": "https://localhost:8080/",
          "height": 327
        },
        "outputId": "a0893c49-486f-41e5-f669-6851389a854d"
      },
      "source": [
        "for index in vectors:\n",
        "    terms, values = zip(*vectors_filtered[index].items())\n",
        "    indices = [inv_vocabular_filteredy[term] for term in terms]\n",
        "    vectors_filtered[index] = \\\n",
        "        SparseVector(indices, values, vocab_len_filtered)"
      ],
      "execution_count": 31,
      "outputs": [
        {
          "output_type": "error",
          "ename": "NameError",
          "evalue": "ignored",
          "traceback": [
            "\u001b[0;31m---------------------------------------------------------------------------\u001b[0m",
            "\u001b[0;31mNameError\u001b[0m                                 Traceback (most recent call last)",
            "\u001b[0;32m<ipython-input-31-dd54dbc42a3f>\u001b[0m in \u001b[0;36m<module>\u001b[0;34m()\u001b[0m\n\u001b[1;32m      1\u001b[0m \u001b[0;32mfor\u001b[0m \u001b[0mindex\u001b[0m \u001b[0;32min\u001b[0m \u001b[0mvectors\u001b[0m\u001b[0;34m:\u001b[0m\u001b[0;34m\u001b[0m\u001b[0;34m\u001b[0m\u001b[0m\n\u001b[1;32m      2\u001b[0m     \u001b[0mterms\u001b[0m\u001b[0;34m,\u001b[0m \u001b[0mvalues\u001b[0m \u001b[0;34m=\u001b[0m \u001b[0mzip\u001b[0m\u001b[0;34m(\u001b[0m\u001b[0;34m*\u001b[0m\u001b[0mvectors_filtered\u001b[0m\u001b[0;34m[\u001b[0m\u001b[0mindex\u001b[0m\u001b[0;34m]\u001b[0m\u001b[0;34m.\u001b[0m\u001b[0mitems\u001b[0m\u001b[0;34m(\u001b[0m\u001b[0;34m)\u001b[0m\u001b[0;34m)\u001b[0m\u001b[0;34m\u001b[0m\u001b[0;34m\u001b[0m\u001b[0m\n\u001b[0;32m----> 3\u001b[0;31m     \u001b[0mindices\u001b[0m \u001b[0;34m=\u001b[0m \u001b[0;34m[\u001b[0m\u001b[0minv_vocabular_filteredy\u001b[0m\u001b[0;34m[\u001b[0m\u001b[0mterm\u001b[0m\u001b[0;34m]\u001b[0m \u001b[0;32mfor\u001b[0m \u001b[0mterm\u001b[0m \u001b[0;32min\u001b[0m \u001b[0mterms\u001b[0m\u001b[0;34m]\u001b[0m\u001b[0;34m\u001b[0m\u001b[0;34m\u001b[0m\u001b[0m\n\u001b[0m\u001b[1;32m      4\u001b[0m     \u001b[0mvectors_filtered\u001b[0m\u001b[0;34m[\u001b[0m\u001b[0mindex\u001b[0m\u001b[0;34m]\u001b[0m \u001b[0;34m=\u001b[0m         \u001b[0mSparseVector\u001b[0m\u001b[0;34m(\u001b[0m\u001b[0mindices\u001b[0m\u001b[0;34m,\u001b[0m \u001b[0mvalues\u001b[0m\u001b[0;34m,\u001b[0m \u001b[0mvocab_len_filtered\u001b[0m\u001b[0;34m)\u001b[0m\u001b[0;34m\u001b[0m\u001b[0;34m\u001b[0m\u001b[0m\n",
            "\u001b[0;32m<ipython-input-31-dd54dbc42a3f>\u001b[0m in \u001b[0;36m<listcomp>\u001b[0;34m(.0)\u001b[0m\n\u001b[1;32m      1\u001b[0m \u001b[0;32mfor\u001b[0m \u001b[0mindex\u001b[0m \u001b[0;32min\u001b[0m \u001b[0mvectors\u001b[0m\u001b[0;34m:\u001b[0m\u001b[0;34m\u001b[0m\u001b[0;34m\u001b[0m\u001b[0m\n\u001b[1;32m      2\u001b[0m     \u001b[0mterms\u001b[0m\u001b[0;34m,\u001b[0m \u001b[0mvalues\u001b[0m \u001b[0;34m=\u001b[0m \u001b[0mzip\u001b[0m\u001b[0;34m(\u001b[0m\u001b[0;34m*\u001b[0m\u001b[0mvectors_filtered\u001b[0m\u001b[0;34m[\u001b[0m\u001b[0mindex\u001b[0m\u001b[0;34m]\u001b[0m\u001b[0;34m.\u001b[0m\u001b[0mitems\u001b[0m\u001b[0;34m(\u001b[0m\u001b[0;34m)\u001b[0m\u001b[0;34m)\u001b[0m\u001b[0;34m\u001b[0m\u001b[0;34m\u001b[0m\u001b[0m\n\u001b[0;32m----> 3\u001b[0;31m     \u001b[0mindices\u001b[0m \u001b[0;34m=\u001b[0m \u001b[0;34m[\u001b[0m\u001b[0minv_vocabular_filteredy\u001b[0m\u001b[0;34m[\u001b[0m\u001b[0mterm\u001b[0m\u001b[0;34m]\u001b[0m \u001b[0;32mfor\u001b[0m \u001b[0mterm\u001b[0m \u001b[0;32min\u001b[0m \u001b[0mterms\u001b[0m\u001b[0;34m]\u001b[0m\u001b[0;34m\u001b[0m\u001b[0;34m\u001b[0m\u001b[0m\n\u001b[0m\u001b[1;32m      4\u001b[0m     \u001b[0mvectors_filtered\u001b[0m\u001b[0;34m[\u001b[0m\u001b[0mindex\u001b[0m\u001b[0;34m]\u001b[0m \u001b[0;34m=\u001b[0m         \u001b[0mSparseVector\u001b[0m\u001b[0;34m(\u001b[0m\u001b[0mindices\u001b[0m\u001b[0;34m,\u001b[0m \u001b[0mvalues\u001b[0m\u001b[0;34m,\u001b[0m \u001b[0mvocab_len_filtered\u001b[0m\u001b[0;34m)\u001b[0m\u001b[0;34m\u001b[0m\u001b[0;34m\u001b[0m\u001b[0m\n",
            "\u001b[0;31mNameError\u001b[0m: name 'inv_vocabular_filteredy' is not defined"
          ]
        }
      ]
    },
    {
      "cell_type": "code",
      "metadata": {
        "id": "oRTfosZHTmiV",
        "colab_type": "code",
        "colab": {}
      },
      "source": [
        "vectors[42]"
      ],
      "execution_count": null,
      "outputs": []
    },
    {
      "cell_type": "code",
      "metadata": {
        "id": "9KBokm-ITngm",
        "colab_type": "code",
        "colab": {}
      },
      "source": [
        "vocabulary[3264]"
      ],
      "execution_count": null,
      "outputs": []
    },
    {
      "cell_type": "code",
      "metadata": {
        "id": "23RFfV9gToUs",
        "colab_type": "code",
        "colab": {}
      },
      "source": [
        "vocabulary[38226]"
      ],
      "execution_count": null,
      "outputs": []
    },
    {
      "cell_type": "markdown",
      "metadata": {
        "id": "5-g1WnOdTqxq",
        "colab_type": "text"
      },
      "source": [
        "The words \"bake\" and \"timmons\" seem more informative. You should explore your data when determining what words should be included in the stop-word list.\n",
        "\n",
        "It may seem like a daunting task to list all the words we don't want. However, recalling what we discussed about morphology, we can narrow down what we want to remove. We want to remove unbound function morphemes.\n",
        "\n",
        "A fluent speaker of a language, who knows these basics of morphology, is able to create a reasonably good list. However, this still leaves two concerns. What if we need to keep some common words? What if we want to remove some common lexical morphemes? You can modify the list, but that still leaves one last concern. How do we handle queries like \"fictional cats\"? The word \"fictional\" is less common than \"cats,\" so it makes sense that the former should be more important in determining what documents are returned. Let's look at how we can implement this using our data."
      ]
    },
    {
      "cell_type": "markdown",
      "metadata": {
        "id": "wWQz-sPCTtXK",
        "colab_type": "text"
      },
      "source": [
        "## Inverse Document Frequency\n",
        "\n",
        "Instead of manually editing our vocabulary, we can try and weight the words. We need to find some way of weighting the words using their \"commonness.\" One way to define \"commonness\" is by identifying the number of documents in our corpus that contain the word.  This is generally called document frequency. We want words with high document frequency to be down-weighted, so we are interested in using inverse document frequency (IDF).\n",
        "\n",
        " We take these values and multiply them by the term frequencies, which are the frequencies of words in a given document.  The result of multiplying inverse document frequency by term frequency gives us the TF.IDF.\n",
        "\n",
        "\\begin{equation}\n",
        "\\begin{aligned} \n",
        "tf(t, d) &= \\text{the number of times } t \\text{ occurs in } d\\\\ \n",
        "df(t) &= \\text{the number of documents } t \\text{ occurs in }\\\\ \n",
        "idf(t) &= \\frac{\\text{the number of documents}}{df(t)} \n",
        "\\end{aligned}\n",
        "\\end{equation}\n",
        "\n",
        "There are many different flavors of TF.IDF. The most common kind is smoothed logarithmic.\n",
        "\n",
        "\\begin{equation}\n",
        "\\begin{aligned} \n",
        "tf(t, d) &= log(1 + \\text{the number of times } t \\text{ occurs in } d)\\\\ \n",
        "df(t) &= \\text{the number of documents } t \\text{ occurs in }\\\\ \n",
        "idf(t) &= log(\\frac{\\text{the number of documents}}{1+df(t)}) \n",
        "\\end{aligned}\n",
        "\\end{equation}\n",
        "\n",
        "Let's calculate this with our vectors. We actually already have the term frequency, so all we need to do is calculate the idf, transform the values with log, and multiply tf and idf."
      ]
    },
    {
      "cell_type": "code",
      "metadata": {
        "id": "zterCIAPTpeW",
        "colab_type": "code",
        "colab": {}
      },
      "source": [
        "idf = Counter()\n",
        "\n",
        "for vector in vectors.values():\n",
        "    idf.update(vector.indices)"
      ],
      "execution_count": 32,
      "outputs": []
    },
    {
      "cell_type": "code",
      "metadata": {
        "id": "mJ7zqoyyUA2n",
        "colab_type": "code",
        "colab": {
          "base_uri": "https://localhost:8080/",
          "height": 372
        },
        "outputId": "e46fcb83-7121-4a09-dbf2-b27d5c2bee32"
      },
      "source": [
        "for ix, count in idf.most_common(20):\n",
        "    print('{:5d} {:20s} {:d}'.format(ix, vocabulary[ix], count))"
      ],
      "execution_count": 33,
      "outputs": [
        {
          "output_type": "stream",
          "text": [
            "11031 date                 2000\n",
            "15475 from                 2000\n",
            "23813 messageid            2000\n",
            "26438 newsgroups           2000\n",
            "28583 path                 2000\n",
            "36672 subject              2000\n",
            "21907 lines                1993\n",
            "27897 organization         1925\n",
            "37876 the                  1874\n",
            " 1793 apr                  1861\n",
            " 3598 be                   1837\n",
            "38317 to                   1767\n",
            "27500 of                   1756\n",
            "   56 a                    1730\n",
            "16266 gmt                  1717\n",
            "18329 i                    1708\n",
            "18730 in                   1695\n",
            " 1396 and                  1674\n",
            "15166 for                  1474\n",
            "17238 have                 1459\n"
          ],
          "name": "stdout"
        }
      ]
    },
    {
      "cell_type": "markdown",
      "metadata": {
        "id": "bSbzK0weUC_T",
        "colab_type": "text"
      },
      "source": [
        "We can now make `idf` a `SparseVector`. We know it contains all the words, so it actually won't be sparse, but this will help us implement the next steps."
      ]
    },
    {
      "cell_type": "code",
      "metadata": {
        "id": "1BgzEwQqUB3n",
        "colab_type": "code",
        "colab": {}
      },
      "source": [
        "indices, values = zip(*idf.items())\n",
        "idf = SparseVector(indices, values, vocab_len)"
      ],
      "execution_count": 34,
      "outputs": []
    },
    {
      "cell_type": "code",
      "metadata": {
        "id": "BlIvNuCYUJkM",
        "colab_type": "code",
        "colab": {}
      },
      "source": [
        "from math import log\n",
        "\n",
        "for index, vector in vectors.items():\n",
        "    vector.values = list(map(lambda v: log(1+v), vector.values))\n",
        "    \n",
        "idf.values = list(map(lambda v: log(vocab_len / (1+v)), idf.values))"
      ],
      "execution_count": 35,
      "outputs": []
    },
    {
      "cell_type": "code",
      "metadata": {
        "id": "wjSH7dhCULF2",
        "colab_type": "code",
        "colab": {}
      },
      "source": [
        "tfidf = {index: tf.hadamard(idf) for index, tf in vectors.items()}"
      ],
      "execution_count": 36,
      "outputs": []
    },
    {
      "cell_type": "code",
      "metadata": {
        "id": "YYr-VMsJUM41",
        "colab_type": "code",
        "colab": {
          "base_uri": "https://localhost:8080/",
          "height": 54
        },
        "outputId": "a0bdd35e-97a3-41d1-a33f-bd839d03f295"
      },
      "source": [
        "tfidf[42]"
      ],
      "execution_count": 37,
      "outputs": [
        {
          "output_type": "execute_result",
          "data": {
            "text/plain": [
              "SparseVector({56: 5.156185529781252, 156: 6.416627432929091, 357: 3.785745128276622, 448: 5.947709646893171, 937: 2.7785503981772224, 1130: 5.511991326938985, 1351: 2.7318036645404478, 1396: 3.55577326812765, 1417: 6.147115664310764, 1646: 3.660008006339294, 1793: 2.170081831108205, 2431: 4.076432713849721, 2609: 2.670934108939282, 2691: 5.467256632974969, 2796: 2.6648270458161383, 3261: 5.866068667810157, 3598: 6.90750158644446, 4710: 5.130728259326066, 4996: 2.5618977238629608, 5228: 5.385615653891955, 5280: 6.908615674729574, 7309: 5.008810139779968, 7922: 9.573595984363413, 8652: 5.511991326938985, 8891: 4.176519357796955, 9284: 4.464328819453992, 11031: 2.120178092129274, 11205: 4.29353706756258, 11599: 5.793038323439593, 11918: 5.348139111907753, 12352: 2.5645232845043857, 12394: 3.6380014856160945, 12445: 8.26670431009203, 12460: 2.9833505843009487, 14044: 3.222375795116981, 14973: 4.782003432933042, 15475: 4.240356184258548, 16037: 2.8191184585007867, 16405: 5.6111812732442665, 17238: 2.3386654445825856, 17296: 10.589119560125317, 17431: 3.4882989804334903, 17486: 3.3800265706643056, 17545: 4.4542097027956595, 18329: 7.067392783552524, 18573: 3.128757892901477, 18960: 4.053516670386706, 19620: 2.3618368673030767, 20381: 2.9300944006545797, 20407: 4.218120672021526, 20973: 6.595039860603876, 21713: 3.8012350953581104, 21856: 2.9124897164449766, 21907: 2.122607146061414, 23253: 3.968751994351692, 23683: 5.008810139779968, 23776: 4.905162639973754, 23813: 2.120178092129274, 23930: 6.428162660811372, 24434: 4.424709626055552, 26222: 4.106186087570743, 26438: 2.120178092129274, 26826: 2.728463189735059, 27500: 5.713579914107152, 27670: 2.4774960668971637, 27677: 2.7556489164768063, 27843: 4.061550699951808, 27897: 2.14665752204547, 28052: 2.9278692071526526, 28237: 5.0793605273706985, 28583: 2.120178092129274, 28864: 3.127275224570247, 28977: 4.042336634777833, 29373: 7.63162087942359, 29777: 3.4424743097731363, 31174: 3.4355079478126016, 31485: 5.312585309521391, 31666: 3.5787220322220734, 31703: 3.4332012994923686, 31922: 4.197007958231411, 34271: 5.6111812732442665, 34303: 3.0555791388995655, 34317: 6.428162660811372, 34540: 7.7150999305951276, 34559: 4.4542097027956595, 35639: 5.031538313020784, 35642: 3.6536488132901597, 35648: 3.511110269830118, 35719: 4.218120672021526, 36300: 6.273491337357794, 36672: 2.120178092129274, 36953: 5.2465213271113615, 37270: 3.213932972336246, 37664: 3.4983447675830996, 37867: 3.7341256699339946, 37876: 5.597114025222226, 37984: 3.312993828934374, 38013: 2.465991285263749, 38198: 3.096850088063103, 39799: 3.500879129384785, 40637: 4.9447818333721925, 41040: 3.8457087660915668, 41190: 5.500939420916517, 41223: 6.406951981414218, 41269: 2.980947992014812, 41369: 4.9447818333721925, 41381: 6.273491337357794, 41507: 2.530516649549088, 41798: 6.428162660811372, 42384: 2.4255485380191906}, 42624)"
            ]
          },
          "metadata": {
            "tags": []
          },
          "execution_count": 37
        }
      ]
    },
    {
      "cell_type": "markdown",
      "metadata": {
        "id": "18NRqZaUUOzz",
        "colab_type": "text"
      },
      "source": [
        "Let's look at the TF.IDF values for \"be\" and \"the.\" Let's also look at one of the terms with a higher TF.IDF than these common words."
      ]
    },
    {
      "cell_type": "code",
      "metadata": {
        "id": "9JnDCgsTUN5O",
        "colab_type": "code",
        "colab": {
          "base_uri": "https://localhost:8080/",
          "height": 34
        },
        "outputId": "c99cc4b7-6a25-4f5f-d21a-5bfdd322c113"
      },
      "source": [
        "tfidf[42][3598] # be"
      ],
      "execution_count": 38,
      "outputs": [
        {
          "output_type": "execute_result",
          "data": {
            "text/plain": [
              "6.90750158644446"
            ]
          },
          "metadata": {
            "tags": []
          },
          "execution_count": 38
        }
      ]
    },
    {
      "cell_type": "code",
      "metadata": {
        "id": "s_frfQ5EURjm",
        "colab_type": "code",
        "colab": {
          "base_uri": "https://localhost:8080/",
          "height": 34
        },
        "outputId": "efe5500f-e03d-4c0c-8323-d74ac05b83f2"
      },
      "source": [
        "tfidf[42][37876] # the"
      ],
      "execution_count": 39,
      "outputs": [
        {
          "output_type": "execute_result",
          "data": {
            "text/plain": [
              "5.597114025222226"
            ]
          },
          "metadata": {
            "tags": []
          },
          "execution_count": 39
        }
      ]
    },
    {
      "cell_type": "code",
      "metadata": {
        "id": "qqaZmS5aUSrF",
        "colab_type": "code",
        "colab": {
          "base_uri": "https://localhost:8080/",
          "height": 34
        },
        "outputId": "0ffdbb0e-9439-47d3-abee-61d236a762ab"
      },
      "source": [
        "vocabulary[17236], tfidf[42][17236]"
      ],
      "execution_count": 40,
      "outputs": [
        {
          "output_type": "execute_result",
          "data": {
            "text/plain": [
              "('hausmann', 0.0)"
            ]
          },
          "metadata": {
            "tags": []
          },
          "execution_count": 40
        }
      ]
    },
    {
      "cell_type": "markdown",
      "metadata": {
        "id": "xjo1dMRlUWy5",
        "colab_type": "text"
      },
      "source": [
        "Let's look at the document to get an idea of why this word is so important."
      ]
    },
    {
      "cell_type": "code",
      "metadata": {
        "id": "q0DCjrBNUUBU",
        "colab_type": "code",
        "colab": {
          "base_uri": "https://localhost:8080/",
          "height": 425
        },
        "outputId": "abb31829-dac8-4f52-ae6d-d0a54033f8c8"
      },
      "source": [
        "print(doc_index.loc[42]['text'])"
      ],
      "execution_count": 41,
      "outputs": [
        {
          "output_type": "stream",
          "text": [
            "Path: cantaloupe.srv.cs.cmu.edu!crabapple.srv.cs.cmu.edu!bb3.andrew.cmu.edu!andrew.cmu.edu!ww1a+\n",
            "From: \"William K. Willis\" <ww1a+@andrew.cmu.edu>\n",
            "Newsgroups: rec.sport.hockey\n",
            "Subject: Don Cherry - help me out, here\n",
            "Date: Wed, 21 Apr 1993 09:08:55 -0400\n",
            "Organization: Administrative Computing & Info Services, Carnegie Mellon, Pittsburgh, PA\n",
            "Lines: 12\n",
            "Message-ID: <MfpIRbO00WBLI1ispC@andrew.cmu.edu>\n",
            "NNTP-Posting-Host: andrew.cmu.edu\n",
            "\n",
            "\n",
            "     As a person who has rarely even SEEN Don Cherry and doesn't know\n",
            "anything about him, I don't know whether it is just this area\n",
            "(Pittsburgh) of the USA that is \"deprived\" of his broadcasts or whether\n",
            "he's a Canadian thing altogether.  Seriously, what is he all about?  I\n",
            "know he was a coach at one time, and from the volume of posts about him,\n",
            "SOMEONE surely is getting a steady diet of him somehow, but my question\n",
            "is, what is the deal with him?  Secondly, are the comments of his that I\n",
            "read about on the net merely flame bait, or do people actually take him\n",
            "seriously?  I gotta tell you, from what I see, he really sounds like an\n",
            "ass.  Let me know - maybe I'm missing something.\n",
            "\n",
            "\n"
          ],
          "name": "stdout"
        }
      ]
    },
    {
      "cell_type": "markdown",
      "metadata": {
        "id": "vizSpsjWUZuw",
        "colab_type": "text"
      },
      "source": [
        "We can see the document is talking about some person named \"Maddi Hausman.\""
      ]
    },
    {
      "cell_type": "markdown",
      "metadata": {
        "id": "kokWBdX3Uc3O",
        "colab_type": "text"
      },
      "source": [
        "## In Spark\n",
        "Spark has stages for calculating TF.IDF in MLlib. If you have a column that contains arrays of strings, you can use either `CountVectorizer`, which we are already familiar with, or `HashingTF` to get the `tf` values.   `HashingTF` uses the hashing trick, in which you decide on a vector space beforehand, and hash the words into that vector space. If there is a collision, then those words will be counted as the same. This lets you trade off between memory efficiency and accuracy. As you make your predetermined vector space larger, the output vectors become larger, but the chance of collisions decreases.  \n",
        "\n",
        "Now that we know how to turn a document into a vector, in the next chapter we can explore how we can use that vector in classic machine learning tasks.  \n"
      ]
    },
    {
      "cell_type": "markdown",
      "metadata": {
        "id": "EVWVYGpPUdQV",
        "colab_type": "text"
      },
      "source": [
        "## Exercises\n",
        "\n",
        "Now that we have calculated the TF.IDF values, let's build a search function. First, we need a function to process the query."
      ]
    },
    {
      "cell_type": "code",
      "metadata": {
        "id": "AQuCca3fUo4V",
        "colab_type": "code",
        "colab": {}
      },
      "source": [
        "def process_query(query, pipeline):\n",
        "    data = spark.createDataFrame([(query,)], ['text'])\n",
        "    return pipeline.transform(data).first()['normalized']"
      ],
      "execution_count": 42,
      "outputs": []
    },
    {
      "cell_type": "markdown",
      "metadata": {
        "id": "qBhECZ7uUeAc",
        "colab_type": "text"
      },
      "source": [
        "Then we need a function to get the filter set."
      ]
    },
    {
      "cell_type": "code",
      "metadata": {
        "id": "3CVea6-GUrsc",
        "colab_type": "code",
        "colab": {}
      },
      "source": [
        "def get_filter_set(processed_query):\n",
        "    filter_set = set()\n",
        "    # find all the documents that contain any of the terms\n",
        "    return filter_set"
      ],
      "execution_count": 43,
      "outputs": []
    },
    {
      "cell_type": "markdown",
      "metadata": {
        "id": "0cRDfFiYUeQE",
        "colab_type": "text"
      },
      "source": [
        "Next, we need a function that will compute the score for the document."
      ]
    },
    {
      "cell_type": "code",
      "metadata": {
        "id": "Uilzw8wNUuak",
        "colab_type": "code",
        "colab": {}
      },
      "source": [
        "def get_score(index, terms):\n",
        "    return # return a single score"
      ],
      "execution_count": 44,
      "outputs": []
    },
    {
      "cell_type": "markdown",
      "metadata": {
        "id": "ifsg1LrRUeZe",
        "colab_type": "text"
      },
      "source": [
        "We also want a function for displaying results."
      ]
    },
    {
      "cell_type": "code",
      "metadata": {
        "id": "CS4jATYIUx0e",
        "colab_type": "code",
        "colab": {}
      },
      "source": [
        "def display(index, score, terms):\n",
        "    hits = [term for term in terms if term in vocabulary and tfidf[index][inv_vocabulary[term]] > 0.]\n",
        "    print('terms', terms, 'hits', hits)\n",
        "    print('score', score)\n",
        "    print('path', path)\n",
        "    print('length', len(doc_index.loc[index]['text']))"
      ],
      "execution_count": 45,
      "outputs": []
    },
    {
      "cell_type": "markdown",
      "metadata": {
        "id": "7EVZ6Co8UeGP",
        "colab_type": "text"
      },
      "source": [
        "Finally, we are ready for our search function."
      ]
    },
    {
      "cell_type": "code",
      "metadata": {
        "id": "7xK5BeFNU0r8",
        "colab_type": "code",
        "colab": {}
      },
      "source": [
        "def search(query, pipeline, k=5):\n",
        "    processed_query = process_query(query, pipeline)\n",
        "    filter_set = get_filter_set(processed_query)\n",
        "    scored = {index: get_score(index, processed_query) for index in filter_set}\n",
        "    display_list = list(sorted(filter_set, key=scored.get, reverse=True))[:k]\n",
        "    for index in display_list:\n",
        "        display(index, scored[index], processed_query)"
      ],
      "execution_count": 46,
      "outputs": []
    },
    {
      "cell_type": "code",
      "metadata": {
        "id": "6H-rH9u9U26Z",
        "colab_type": "code",
        "colab": {}
      },
      "source": [
        "search('search engine', pipeline)"
      ],
      "execution_count": 47,
      "outputs": []
    },
    {
      "cell_type": "markdown",
      "metadata": {
        "id": "ymWO9bM7Udnq",
        "colab_type": "text"
      },
      "source": [
        "You should be able to implement `get_filter_set` and `get_score` easily using examples in this chapter. Try out a few queries. You will likely notice that there are two big limitations here. There is no N-gram support, and the ranker is biased toward longer documents. What could you modify to fix these problems?"
      ]
    },
    {
      "cell_type": "markdown",
      "metadata": {
        "id": "oYQLGzG3UdD7",
        "colab_type": "text"
      },
      "source": [
        "## Resources\n",
        "\n",
        "* An Introduction to Information Retrieval, by Christopher D. Manning, Prabhakar Raghavan, and Hinrich Schütze: this book covers many important aspects of information retrieval. Two of its three authors are also authors of Foundations of Statistical Natural Language Processing.\n",
        "* Apache Lucene: this is the most-used open source search engine. Often, one of the search platforms built on top of Lucene are used, Apache Solr or Elasticsearch.\n",
        "* Lucene in Action, 2nd ed., by Michael McCandless, Erik Hatcher, and Otis Gospodnetic (Manning Publications)\n",
        "A guide to implementing searches using Lucene\n",
        "* Elasticsearch: The Definitive Guide, by Clinton Gormley and Zachary Tong (O'Reilly)\n",
        "* A guide to implementing searches using Elasticsearch\n",
        "* Learning to Rank for Information Retrieval, by Tie-Yan Liu (Springer)\n",
        "  * Learning to rank, building machine learning–based rankers, is an important part of modern search engines. Tie-Yan Liu is one the most important contributors to the field of learning to rank. "
      ]
    }
  ]
}