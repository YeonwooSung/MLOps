{
 "cells": [
  {
   "cell_type": "code",
   "execution_count": 1,
   "metadata": {
    "colab": {
     "base_uri": "https://localhost:8080/",
     "height": 105
    },
    "colab_type": "code",
    "id": "tcCdCQRANj86",
    "outputId": "c62214b1-58b6-4f7c-b3b2-8c6a8884cc42"
   },
   "outputs": [
    {
     "name": "stdout",
     "output_type": "stream",
     "text": [
      "[nltk_data] Downloading package brown to /home/alex/nltk_data...\n",
      "[nltk_data]   Package brown is already up-to-date!\n",
      "[nltk_data] Downloading package stopwords to /home/alex/nltk_data...\n",
      "[nltk_data]   Package stopwords is already up-to-date!\n"
     ]
    },
    {
     "data": {
      "text/plain": [
       "True"
      ]
     },
     "execution_count": 1,
     "metadata": {},
     "output_type": "execute_result"
    }
   ],
   "source": [
    "import nltk\n",
    "\n",
    "nltk.download('brown')\n",
    "nltk.download('stopwords')"
   ]
  },
  {
   "cell_type": "code",
   "execution_count": 2,
   "metadata": {
    "colab": {},
    "colab_type": "code",
    "id": "j1i59Hox335Y",
    "scrolled": true
   },
   "outputs": [],
   "source": [
    "import os\n",
    "\n",
    "if not os.path.exists('stanford-corenlp-latest.zip'):\n",
    "    ! wget http://nlp.stanford.edu/software/stanford-corenlp-latest.zip\n",
    "    ! unzip stanford-corenlp-latest.zip\n",
    "    ! mv stanford-corenlp-*/ stanford-corenlp-latest\n",
    "    ! mv stanford-corenlp-latest/stanford-corenlp-[0-9].[0-9].[0-9].jar stanford-corenlp.jar\n",
    "    ! mv stanford-corenlp-latest/stanford-corenlp-[0-9].[0-9].[0-9]-models.jar stanford-corenlp-models.jar"
   ]
  },
  {
   "cell_type": "markdown",
   "metadata": {
    "colab_type": "text",
    "id": "yvHJPtqCzhka"
   },
   "source": [
    "# Information Extraction\n",
    "\n",
    "When working with text, we generally want to extract some meaning. Many tasks involve extracting events or entities from the text. We may also want to find all the places in a document that reference a particular person. We may want to find what happened in a particular place. These tasks are called information extraction.\n",
    "\n",
    "Information extraction tasks are focused on entities (nouns and noun phrases) and events (verb phrases including their subjects and objects). This is different than part-of-speech tasks in which, instead of needing to tag everything, we need to identify only the \"important\" pieces of the text. However, the techniques used to extract this information are generally the same as those used in sequence modeling.\n",
    "\n",
    "By far, the most common type of information extraction is named-entity recognition. This is the task of finding references to specific entities."
   ]
  },
  {
   "cell_type": "markdown",
   "metadata": {
    "colab_type": "text",
    "id": "PYVgMyfEzhgx"
   },
   "source": [
    "## Named-Entity Recognition\n",
    "\n",
    "Named-entity recognition (NER) is the task of finding specific things (nouns) in text. Often, the desired named entities are proper nouns, but there are other things we may wish to extract as well. Let's look at some of the common types of nouns that are extracted.\n",
    "\n",
    "To fully understand the linguistics behind named-entity recognition, we need to define some terms:\n",
    "\n",
    "* Referring expression or R-expression  \n",
    "A word or phrase that refers to an actual or conceptual thing. This is broken into different types based on how specific the R-expression is and how it is specified.\n",
    "* Referent  \n",
    "The actual or conceptual thing that an R-expression refers to.\n",
    "* Definiteness and Indefiniteness  \n",
    "This refers to how specific the referent is. If an R-expression is definite, there is a particular referent. There are different kinds of indefiniteness, but languages differ on what kinds are distinguished.\n",
    "* Deixis  \n",
    "An R-expression whose referent can be resolved only with contextual information.\n",
    "\n",
    "Let's look at some examples.\n",
    "\n",
    "* \"Cows\" in \"Cows eat grass\" is an example of an indefinite noun. In English, there is no required indefinite article, though \"some\" can be used.\n",
    "* \"France\" in \"France is in Europe\" is an example of a proper noun. A proper noun is, by its nature, definite. In English, most proper nouns don't use a definite article. There are some exceptions—mostly geographical regions and bodies of water, like \"The Arctic\" and \"The Gobi.\" There are some other exceptions, mainly non–proper-noun phrases that are proper in context—for example, sports teams like \"the Cowboys.\"\n",
    "* \"The Sun\" in \"The Sun is shining\" is an example of a definite noun. In English, definite nouns that are not proper nouns require the definite article \"the.\"\n",
    "* The \"that\" in \"Are you going to eat that\" is an example of deixis. In context, the referent is a specific food item, but without the context it's impossible to resolve the reference.\n",
    "* \"I\" and \"here\" in \"I am here\" are also examples of deixis. This sentence can be interpreted as a tautology, but it is still common. This is due to the deictic center being different for \"I\" and \"here.\" \"I\" has the speaker or writer as the deictic center, while \"here\" has some location introduced earlier as the deictic center.\n",
    "* The \"tomorrow\" in \"The next episode airs tomorrow\" is an example of deixis used as an adverb."
   ]
  },
  {
   "cell_type": "markdown",
   "metadata": {
    "colab_type": "text",
    "id": "c2apzGGPzhd2"
   },
   "source": [
    "As you can see, this is a complicated aspect of language. Fortunately, when doing NER, we restrict what entities we are looking for. Commonly, NER models identify people, places, organizations, and times. These models are generally looking for proper nouns.  We will refer to this as generic NER. Another common NER task is finding particular concepts—for example, clinical procedures. This task is made easier by being focused on a particular set of vocabulary. A fluent speaker of a language can generally identify whether a noun is proper, but identifying domain-specific categories requires a domain expert.  We will refer to this as domain-specific NER.\n",
    "\n",
    "We can approach either general or domain-specific NER with the sequence-modeling techniques we discussed in sequence_modeling_with_keras. Let's look at how to construct our data. The general notion is that we want to turn this into a classification task in which the classes are \"inside a named entity\" or \"outside a named entity.\" The basic classes are O, which is the class for tokens outside of a named entity. B-PER, I-PER, B-LOC, and I-LOC are the classes for tokens in a named entity phrase whose referent is a person (B-PER, I-PER) or location (B-LOC, I-LOC). Sometimes, there are more classes. It's common to also have B-* classes for beginning named-entity phrases. Let's look at some examples\n",
    "\n",
    "> \"King Arthur went to Camelot.\"\n",
    "\n",
    "token|class\n",
    "-----|-----\n",
    "King|B-PER\n",
    "Arthur|I-PER\n",
    "went|O\n",
    "to|O\n",
    "Camelot|B-LOC\n",
    ".|O\n"
   ]
  },
  {
   "cell_type": "markdown",
   "metadata": {
    "colab_type": "text",
    "id": "HzcRD_CQzha5"
   },
   "source": [
    "In clinical text, instead of looking for persons or locations, we are more interested in procedures (`B-PROC`, `I-PROC`).\n",
    "\n",
    "> \"The patient received a bone scan\"\n",
    "\n",
    "token|class\n",
    "-----|-----\n",
    "The|O\n",
    "patient|O\n",
    "received|O\n",
    "a|O\n",
    "bone|B-PROC\n",
    "scan|I-PROC\n",
    "\n",
    "With these labels, you can approach modeling similarly to how you performed part-of-speech tagging.\n",
    "\n",
    "If you are doing domain-specific NER, you can use a curated set of terminology to find the occurrences in the document without a model. Let's look at some ways we can implement this. Let's look at the Brown corpus again. We will look for occurrences of stop words in text."
   ]
  },
  {
   "cell_type": "code",
   "execution_count": 3,
   "metadata": {
    "colab": {},
    "colab_type": "code",
    "id": "tmEXzWuO0i2a"
   },
   "outputs": [],
   "source": [
    "from collections import defaultdict, Counter\n",
    "from random import sample, seed\n",
    "from time import time\n",
    "\n",
    "from nltk.corpus import brown\n",
    "from nltk.corpus import stopwords"
   ]
  },
  {
   "cell_type": "code",
   "execution_count": 4,
   "metadata": {
    "colab": {},
    "colab_type": "code",
    "id": "70fjL3VK0sjD"
   },
   "outputs": [],
   "source": [
    "en_stopwords = set(stopwords.words('english'))"
   ]
  },
  {
   "cell_type": "markdown",
   "metadata": {
    "colab_type": "text",
    "id": "ykicN_7mzhX4"
   },
   "source": [
    "Let's define some functions that will help us."
   ]
  },
  {
   "cell_type": "code",
   "execution_count": 5,
   "metadata": {
    "colab": {},
    "colab_type": "code",
    "id": "gHnoq0I_0vQs"
   },
   "outputs": [],
   "source": [
    "brown_fileids = brown.fileids()\n",
    "\n",
    "def detokenize(sentence):\n",
    "    \"\"\"\n",
    "    This will let us look at the raw text, \n",
    "    not split into sentences or tokens.\n",
    "    \"\"\"\n",
    "    text = ''\n",
    "    for token in sentence:\n",
    "        if text and any(c.isalnum() for c in token):\n",
    "            text += ' '\n",
    "        text += token\n",
    "    return text\n",
    "\n",
    "def get_sample_files(k):\n",
    "    \"\"\"\n",
    "    This will give us a sample of the documents\n",
    "    \"\"\"\n",
    "    sample_files = []\n",
    "    for fid in sample(brown_fileids, k):\n",
    "        tokens = []\n",
    "        for sent in brown.sents(fid):\n",
    "            tokens.extend(sent)\n",
    "        sample_files.append((fid, detokenize(tokens)))\n",
    "    return sample_files\n",
    "\n",
    "def get_match_counts(texts, search_fn, *args):\n",
    "    \"\"\"\n",
    "    This will run the given search function, search_fn \n",
    "    on the texts. Additional arguments are passed as\n",
    "    *args\n",
    "    \"\"\"\n",
    "    references = defaultdict(Counter)\n",
    "    for fid, text in texts:\n",
    "        for term, begin, end in search_fn(text, *args):\n",
    "            references[term][fid] += 1\n",
    "    return references"
   ]
  },
  {
   "cell_type": "markdown",
   "metadata": {
    "colab_type": "text",
    "id": "4SyJzeC4zhUt"
   },
   "source": [
    "Let's create some samples of documents so we can see how long it takes to find matches."
   ]
  },
  {
   "cell_type": "code",
   "execution_count": 6,
   "metadata": {
    "colab": {},
    "colab_type": "code",
    "id": "OcaSLiGp0yCS"
   },
   "outputs": [],
   "source": [
    "seed(123)\n",
    "\n",
    "raw_10 = [(fid, tokens) for fid, tokens in get_sample_files(10)]\n",
    "raw_50 = [(fid, tokens) for fid, tokens in get_sample_files(50)]\n",
    "raw_100 = [(fid, tokens) for fid, tokens in get_sample_files(100)]\n",
    "raw_500 = [(fid, tokens) for fid, tokens in get_sample_files(500)]"
   ]
  },
  {
   "cell_type": "markdown",
   "metadata": {
    "colab_type": "text",
    "id": "w-Dt6J_OzhRZ"
   },
   "source": [
    "Let's try the simple naïve approach. For each position in the text, we will try and match each term in our vocabulary to one of our search terms."
   ]
  },
  {
   "cell_type": "code",
   "execution_count": 7,
   "metadata": {
    "colab": {},
    "colab_type": "code",
    "id": "oM5si1e702ua"
   },
   "outputs": [],
   "source": [
    "def simple_match(text, vocabulary):\n",
    "    text = text.lower()\n",
    "    for term in vocabulary:\n",
    "        for i in range(len(text) - len(term) + 1):\n",
    "            j = i+len(term)\n",
    "            end_of_word = j == len(text) or not text[j].isalpha()\n",
    "            begin_of_word = i == 0 or not text[i-1].isalpha()\n",
    "            if begin_of_word and \\\n",
    "               end_of_word and \\\n",
    "               term == text[i:i+len(term)]:\n",
    "                yield (term, i, j)"
   ]
  },
  {
   "cell_type": "markdown",
   "metadata": {
    "colab_type": "text",
    "id": "dc3NZz9qzhON"
   },
   "source": [
    "Let's see how long it takes to process documents using the naïve approach."
   ]
  },
  {
   "cell_type": "code",
   "execution_count": 8,
   "metadata": {
    "colab": {
     "base_uri": "https://localhost:8080/",
     "height": 230
    },
    "colab_type": "code",
    "id": "d67A6M9o036U",
    "outputId": "9d92a6c5-36d8-4f04-a0d6-3ebbf1927862"
   },
   "outputs": [
    {
     "name": "stdout",
     "output_type": "stream",
     "text": [
      "the 1404\n",
      "about 34\n",
      "wouldn't 2\n",
      "10 documents in 19000 ms\n",
      "the 6876\n",
      "about 177\n",
      "wouldn't 15\n",
      "50 documents in 84000 ms\n",
      "the 13962\n",
      "about 380\n",
      "wouldn't 40\n",
      "100 documents in 128000 ms\n"
     ]
    }
   ],
   "source": [
    "timing = []\n",
    "for texts in [raw_10, raw_50, raw_100]:\n",
    "    start = time() # milliseconds\n",
    "    references = get_match_counts(texts, simple_match, en_stopwords)\n",
    "    timing.append((len(texts), int(time() - start) * 1000))\n",
    "    print('the', sum(references['the'].values()))\n",
    "    print('about', sum(references['about'].values()))\n",
    "    print('wouldn\\'t', sum(references['wouldn\\'t'].values()))\n",
    "    print('{} documents in {} ms'.format(*timing[-1]))"
   ]
  },
  {
   "cell_type": "markdown",
   "metadata": {
    "colab_type": "text",
    "id": "DAh1syRjzhLO"
   },
   "source": [
    "That is quite slow. Let's look at the time complexity of the naïve approach.\n",
    "\n",
    "If the size of a document is `N` characters, and `M` is the sum of the lengths of the vocabulary, this approach has `O(MN)` complexity. Your timing may be worse, but this is because we are also building the dictionary of references.\n",
    "\n",
    "There are many wasted checks in this approach. If we are at an 's', we don't need to check for \"about.\" It would be better if we could limit the number of vocabulary items that we need to consider. We can do this with a trie.\n",
    "\n",
    "A trie is a data structure that lets us store many sequences in a tree. A trie stores each sequence as a path in the tree. Let's look at an example."
   ]
  },
  {
   "cell_type": "code",
   "execution_count": 9,
   "metadata": {
    "colab": {},
    "colab_type": "code",
    "id": "ju8A8POv1FF7"
   },
   "outputs": [],
   "source": [
    "def build_trie(sequences, empty=lambda: ''):\n",
    "    \"\"\"\n",
    "    This will build our trie. We include the path in\n",
    "    each node to make explaining the trie easier, even \n",
    "    though this increases our memory footprint.\n",
    "    \"\"\"\n",
    "    trie = {'<path>': empty()}\n",
    "    for seq in sequences:\n",
    "        curr = trie\n",
    "        path = empty()\n",
    "        for elem in seq:\n",
    "            path += elem\n",
    "            curr = curr.setdefault(elem, {'<path>': path})\n",
    "        curr['<END>'] = True\n",
    "    return trie\n",
    "\n",
    "def traverse(trie, empty=lambda: ''):\n",
    "    \"\"\"\n",
    "    This is breadth-first traversal. This will traverse \n",
    "    the trie one layer at a time.\n",
    "    \"\"\"\n",
    "    queue = [trie]\n",
    "    while len(queue) > 0:\n",
    "        head = queue[0]\n",
    "        path = head['<path>']\n",
    "        queue = queue[1:] + list(\n",
    "            node \n",
    "            for key, node in head.items() \n",
    "            if not key[0] == '<'\n",
    "        )\n",
    "        yield (path, head)\n",
    "        \n",
    "def traverse_depth_first(trie, empty=lambda: ''):\n",
    "    \"\"\"\n",
    "    This is depth-first traversal. This will traverse \n",
    "    the trie one path at a time.\n",
    "    \"\"\"\n",
    "    stack = [trie]\n",
    "    while len(stack) > 0:\n",
    "        head = stack[0]\n",
    "        path = head['<path>']\n",
    "        stack = list(\n",
    "            node \n",
    "            for key, node in head.items() \n",
    "            if not key[0] == '<'\n",
    "        ) + stack[1:]\n",
    "        yield (path, head)"
   ]
  },
  {
   "cell_type": "markdown",
   "metadata": {
    "colab_type": "text",
    "id": "iUgJvQUezhH_"
   },
   "source": [
    "Let's look at the trie with a simple vocabulary."
   ]
  },
  {
   "cell_type": "code",
   "execution_count": 10,
   "metadata": {
    "colab": {
     "base_uri": "https://localhost:8080/",
     "height": 745
    },
    "colab_type": "code",
    "id": "P07bcpwi1Iib",
    "outputId": "7b3afae1-28ea-4013-bae3-e3bb86582cff"
   },
   "outputs": [
    {
     "name": "stdout",
     "output_type": "stream",
     "text": [
      "Breadth-first traversal\n",
      "\n",
      "c\n",
      "d\n",
      "ca\n",
      "do\n",
      "de\n",
      "cat\n",
      "dog\n",
      "des\n",
      "cath\n",
      "dest\n",
      "catha\n",
      "desti\n",
      "cathar\n",
      "destin\n",
      "cathars\n",
      "destiny\n",
      "catharsi\n",
      "catharsis\n",
      "\n",
      "Depth-first traversal\n",
      "\n",
      "c\n",
      "ca\n",
      "cat\n",
      "cath\n",
      "catha\n",
      "cathar\n",
      "cathars\n",
      "catharsi\n",
      "catharsis\n",
      "d\n",
      "do\n",
      "dog\n",
      "de\n",
      "des\n",
      "dest\n",
      "desti\n",
      "destin\n",
      "destiny\n"
     ]
    }
   ],
   "source": [
    "trie = build_trie(['cat', 'catharsis', 'dog', 'destiny'])\n",
    "\n",
    "print('Breadth-first traversal')\n",
    "for path, _ in traverse(trie):\n",
    "    print(path)\n",
    "\n",
    "print()\n",
    "    \n",
    "print('Depth-first traversal')\n",
    "for path, _ in traverse_depth_first(trie):\n",
    "    print(path)"
   ]
  },
  {
   "cell_type": "markdown",
   "metadata": {
    "colab_type": "text",
    "id": "ZI4k4ZYczhE6"
   },
   "source": [
    "Now that we have this data structure, we can use it to search the text. The gist of the algorithm is to iterate over the text and use the characters from the text to traverse the trie. Let's look at the code."
   ]
  },
  {
   "cell_type": "code",
   "execution_count": 11,
   "metadata": {
    "colab": {},
    "colab_type": "code",
    "id": "rHYoYDlt1MYa"
   },
   "outputs": [],
   "source": [
    "def trie_match(text, trie):\n",
    "    text = text.lower()\n",
    "    curr = trie\n",
    "    # for each character in text\n",
    "    for i in range(len(text)):\n",
    "        j = i # begin traversing the trie from text[i]\n",
    "        begin_of_word = i == 0 or not text[i-1].isalpha()\n",
    "        if not begin_of_word:\n",
    "            continue\n",
    "        while j < len(text) and text[j] in curr:\n",
    "            # move down the trie\n",
    "            curr = curr[text[j]]\n",
    "            # check if we are not in the middle of a word\n",
    "            end_of_word = j == len(text) - 1 or not text[j+1].isalpha()\n",
    "            # if we are at the end of a word and we are currently at \n",
    "            # an entry, emit a match\n",
    "            if end_of_word and '<END>' in curr:\n",
    "                term = curr['<path>']\n",
    "                yield (term, j-len(term)+1, j+1)\n",
    "            j += 1\n",
    "        # when we run out of matching characters or reach the \n",
    "        # end of the trie, reset and move on to the next character\n",
    "        curr = trie"
   ]
  },
  {
   "cell_type": "markdown",
   "metadata": {
    "colab_type": "text",
    "id": "ya-xUlgTzhBq"
   },
   "source": [
    "Let's time the trie-based approach."
   ]
  },
  {
   "cell_type": "code",
   "execution_count": 12,
   "metadata": {
    "colab": {
     "base_uri": "https://localhost:8080/",
     "height": 301
    },
    "colab_type": "code",
    "id": "1I_I9zTF1Oxb",
    "outputId": "4d67c427-7d9a-4d33-d0f7-8b4f3b3a660c"
   },
   "outputs": [
    {
     "name": "stdout",
     "output_type": "stream",
     "text": [
      "the 1404\n",
      "about 34\n",
      "wouldn't 2\n",
      "10 documents in 69 ms\n",
      "the 6876\n",
      "about 177\n",
      "wouldn't 15\n",
      "50 documents in 336 ms\n",
      "the 13962\n",
      "about 380\n",
      "wouldn't 40\n",
      "100 documents in 665 ms\n",
      "the 70003\n",
      "about 1817\n",
      "wouldn't 129\n",
      "500 documents in 3382 ms\n"
     ]
    }
   ],
   "source": [
    "en_stopwords_trie = build_trie(en_stopwords)\n",
    "timing = []\n",
    "for texts in [raw_10, raw_50, raw_100, raw_500]:\n",
    "    start = time() # milliseconds\n",
    "    references = get_match_counts(texts, trie_match, en_stopwords_trie)\n",
    "    timing.append((len(texts), int((time() - start) * 1000)))\n",
    "    print('the', sum(references['the'].values()))\n",
    "    print('about', sum(references['about'].values()))\n",
    "    print('wouldn\\'t', sum(references['wouldn\\'t'].values()))\n",
    "    print('{} documents in {} ms'.format(*timing[-1]))"
   ]
  },
  {
   "cell_type": "markdown",
   "metadata": {
    "colab_type": "text",
    "id": "ZEMHUXBMzg-v"
   },
   "source": [
    "This is much faster. This is a classic trade-off in NLP. To improve speed we increase our memory footprint, in addition to the time necessary to precompute our trie. There are more complex algorithms, like the Aho-Corasick, which uses extra links in the trie to reduce the time spent backtracking. \n",
    "\n",
    "If you have a constrained vocabulary, a dictionary search—like our previous trie-matching algorithms—can get a lot of information from the document. It is limited by not being able to recognize anything that is not in the curated vocabulary. To decide what approach is best for your project, consider the following:\n",
    "\n",
    "* Do you have a domain-specific NER requirement? Or is it general NER?\n",
    "  * If you need general NER, you need to build a model.\n",
    "* Do you have a curated vocabulary? Do you have labeled text?\n",
    "  * If you have both, you probably want to create a model to potentially recognize new terms. If you have neither, consider which one would be easier to create.\n",
    "\n",
    "Once we have our entities, we may want to connect them to external data. For example, let's say that we are looking for mentions of pharmaceuticals in clinical notes. We may want to associate the named entities (drugs) with information from a drug database. How we do this matching will depend on how we are doing the NER. Because this is a domain-specific NER task, we can use either a dictionary-search approach or a model approach. If we have such a database, it can actually be used to create our curated vocabulary. This makes it straightforward to associate recognized drug names with their metadata in our database. If we are using a model approach, things can be a little murkier, since models can recognize names that may not exactly occur in our database. One way we can approach this task is to search for the drug name in our database that is closest to the found drug name.\n",
    "\n",
    "In Spark NLP, there are two ways to do NER. One strategy uses CRFs, and the other is deep learning based. Both approaches take word embeddings as inputs, so we will see examples in #word_embeddings when we discuss word embeddings.\n",
    "\n",
    "All these approaches to NER miss a class of reference. These approaches identify only direct references. None of them can identify what pronouns to refer to. For example:\n",
    "\n",
    "> The coelacanth is a living fossil. The ancient fish was discovered off the coast of South Africa.\n",
    "\n",
    "The \"ancient fish\" won't be identified as the same thing as \"coelacanth.\"\n",
    "\n",
    "We can solve this problem with coreference resolution."
   ]
  },
  {
   "cell_type": "markdown",
   "metadata": {
    "colab_type": "text",
    "id": "ND2rV7aPzg7c"
   },
   "source": [
    "## Coreference Resolution\n",
    "  We previously discussed R-expressions and referents.  A coreference is when two R-expressions share a referent. This can be valuable in text if we are trying to understand what is being said about our named entities. Unfortunately, this is a difficult problem.\n",
    "\n",
    "Humans understand coreference through a number of syntactic and lexical rules. Let's look at some examples.\n",
    "\n",
    "> He knows him.\n",
    "\n",
    "> He knows himself.\n",
    "\n",
    "In the first sentence, we know that there are two people involved, whereas in the second there is only one. The reason for this is in a subfield of syntax called government and binding. A reflexive pronoun, like \"himself,\" must refer back to something in its clause. For example, look the following nongrammatical sentence.\n",
    "\n",
    "> They were at the mall. *We saw themselves.\n",
    "\n",
    "Although we can guess that \"themselves\" refers to the same group to which \"they\" refers, it seems odd. This is because the reflexive nature tried to bind itself to the other entity in the sentence, \"We.\" Nonreflexives must not be bound in their clause.\n",
    "\n",
    "Pronominal references aren't the only type of coreference. There are often many ways to refer to an entity. Let's look at an example.\n",
    "\n",
    "> Odysseus, known to the Romans as Ulysses, is an important character in the works of Homer. He is most well known for the adventures he had on his way home from the Trojan War.\n",
    "\n",
    "In this sentence, Odysseus is referred to five times. In linguistics, it is common to give a subscript to indicate coreference. Let's look at the same sentence marked for coreference.\n",
    "\n",
    "> Odysseus, known to the Romans as Ulysses, is an important character in the works of Homer. Hei is most well known for the adventures hei had on hisi way home from the Trojan War.\n",
    "\n",
    "Now that we understand coreference, how do we extract it from text? It is a difficult problem. Adoption of deep learning techniques have been slower for this task than the others because it is not often attempted. It is possible to approach this with a rule-based approach. If you parse the sentence into a syntax tree, you can use syntactic rules to identify which R-expressions share a referent. There is a big problem with this, however. It will work only on text with regular syntax. So this approach will work well on newspapers but very poorly on Twitter and clinical notes. An additional downside to this is that the rules require someone who has a strong knowledge of the syntax of the language for which we are building our rules.\n",
    "\n",
    "The machine learning approach can be treated as a sequence-modeling problem. We must try and identify, for a given R-expression, whether it is the same as a previous R-expression or if it has a new referent. There are a number of data sets available out there that we can practice on.\n",
    "\n",
    "Now that we have talked about how to get the R-expressions and how to identify coreferents, we can talk about what to do next."
   ]
  },
  {
   "cell_type": "markdown",
   "metadata": {
    "colab_type": "text",
    "id": "fePS59g9zg4g"
   },
   "source": [
    "## Assertion Status Detection\n",
    "\n",
    "Imagine we are looking for patients who exhibited a particular symptom when taking a drug—for example, dizziness. If we look for just any clinical report mentioning dizziness, we will find many mentions like the following.\n",
    "\n",
    "> No dizziness.\n",
    "\n",
    "> I have prescribed a drug that may cause dizziness. Patient denies dizziness.\n",
    "\n",
    "Surely, these are not the patients we are looking for. Understanding how the speaker or author is using the information is as important as understanding what is being referred to in the information. This is called the assertion status task in the clinical setting. There are uses for it in other styles of communication, like legal documents and technical specifications.\n",
    "\n",
    "Let's look at it from the linguistic point of view. When we see \"false positives\" like in the previous \"dizziness\" example, it is because the statement is in the wrong mood or in the wrong polarity."
   ]
  },
  {
   "cell_type": "markdown",
   "metadata": {
    "colab_type": "text",
    "id": "gFqpHrtQzg1S"
   },
   "source": [
    "Polarity is whether a statement is affirmative or negative.  Mood is a feature of a statement that indicates how the speaker or author feels about the statement. All languages have ways of indicating these things, but they differ greatly from language to language. In English, we use adverbs to express doubt, but in some other languages it is expressed in the morphology. Let's see some examples of polarity and mood.\n",
    "\n",
    "1. The patient did not have difficulty standing.\n",
    "2. The movie may come out in April.\n",
    "3. I would have liked the soup if it were warmer.\n",
    "\n",
    "The first example is an example of negation (negative polarity), the second is an example of the speculative mood, and the third is an example of the conditional. Negation is a feature of all languages, but how it is expressed varies considerably—even between dialects of the same language. You have likely heard of the rule about double negation in English; that is, that a double negative makes a positive.\n",
    "\n",
    "> I don't have nothing ~ I have something\n",
    "\n",
    "This is not always the case, however. Consider the following example:\n",
    "\n",
    "> You're not unfriendly.\n",
    "\n",
    "Here, the verb is negated by \"not,\" and the predicate is negated by the \"un-\" prefix. The meaning of this sentence is certainly not \"You are friendly,\" though. Natural language is much more ambiguous than formal logic. In certain dialects of English, double negation can serve to intensify the statement, or it can even be required. In these dialects, \"I don't have nothing\" means the same as \"I have nothing.\""
   ]
  },
  {
   "cell_type": "markdown",
   "metadata": {
    "colab_type": "text",
    "id": "Gju9W911zgx5"
   },
   "source": [
    "Similarly, the speculative case is also ambiguous. How you treat such statements will depend on the application you are building. If you are building something that extracts movie release dates, you may very well want to include a speculative statement. On the other hand, considering the medical example with \"may cause dizziness,\" we likely would not want to include the phrase describing this patient in the set of patients who suffer from dizziness.  An additional factor to consider is hedged speech. If someone wishes to soften a statement, they can use the speculative mood or other similar moods. This is a pragmatic effect that can appear to change the semantics.\n",
    "\n",
    "> You may want to close the window ~ [pragmatically] Close the window\n",
    "> You might feel a pinch ~ [pragmatically] You will feel a pinch\n",
    "> You could get your own fries ~ [pragmatically] You should get your own fries\n",
    "\n",
    "Finally, let's consider the third example, \"I would have liked the soup if it were warmer.\" This sentence has at least two interpretations. One interpretation is, \"I would have also liked the soup if it were warmer.\" The other, and perhaps the more likely, interpretation is, \"I did not like the soup because it was not warm enough.\"  This is an example of implied negation. Another common source of implied negation is phrases like \"too X to Y,\" which implies a negation on \"Y.\"\n",
    "\n",
    "The patient is in too much pain to do their physical therapy.\n",
    "\n",
    "This communicates that \"the patient did not do their physical therapy\" and also gives the reason. Clinical terminology contains many special ways to refer to negation. This is why Wendy Chapman et al. developed the negex algorithm. It is a rule-based algorithm that identifies what sections of a sentence are negated depending on the type of cues."
   ]
  },
  {
   "cell_type": "markdown",
   "metadata": {
    "colab_type": "text",
    "id": "U9r0y2j0zguh"
   },
   "source": [
    "The different cues or triggers signify beginnings and ends of negated scopes, and they prevent negex from incorrectly identifying nonnegated words as negated. Let's look at some examples. We will first show the original sentence, and then the sentence with the cues italicized and the negated words struck through.\n",
    "\n",
    "1. The patient denies dizziness but appears unstable when standing.\n",
    "  * The patient denies dizziness but appears unstable when standing.\n",
    "2. The test was negative for fungal infection.\n",
    "  * The test was negative for fungal infection.\n",
    "3. The XYZ test ruled the patient out for SYMPTOM.\n",
    "  * The XYZ test ruled the patient out for SYMPTOM.\n",
    "4. Performed XYZ test to rule the patient out for SYMPTOM.\n",
    "  * Performed XYZ test to rule the patient out for SYMPTOM.\n",
    "\n",
    "In examples 1 and 2, we see that the negation was not signaled by a normal grammatical negative like \"not.\" Instead, there are clinical-specific cues, \"denies\" and \"negative for.\" Also, note that the negation was terminated by \"but\" in the first example. In examples 3 and 4, cues are made to rule out false positives. In example 4, the results of the test are not actually discussed.\n",
    "\n",
    "We've seen how the polarity and mood of verbs can affect entities in the sentence, but is there a way to get out more information? In the next section we will briefly discuss the idea of extracting relationships and facts from text."
   ]
  },
  {
   "cell_type": "markdown",
   "metadata": {
    "colab_type": "text",
    "id": "4CwCue1Xzgrq"
   },
   "source": [
    "## Relationship Extraction\n",
    "\n",
    "Relationship extraction is perhaps the most difficult task in information extraction. This is because we could spend a lot of research and computation time trying to extract more and more fine-grained information. So we should always understand exactly what kind of relationships we want to extract before trying something so challenging.\n",
    "\n",
    "Let's consider the scenario in which we are trying to extract statements from clinical documents. The nature of these documents limits the kinds of entities that may appear.\n",
    "\n",
    "* The patient\n",
    "* Conditions (diseases, injuries, tumors, etc.)\n",
    "* Body parts\n",
    "* Procedures\n",
    "* Drugs\n",
    "* Tests and results\n",
    "* Family and friends of the patient (in family history and social history sections)\n",
    "\n",
    "There can be other entities, but these are common. Let's say our application is supposed to extract all the entities and make statements. Let's look at an example."
   ]
  },
  {
   "cell_type": "markdown",
   "metadata": {
    "colab_type": "text",
    "id": "Hkje0rsVzgoB"
   },
   "source": [
    "```\n",
    "CHIEF COMPLAINT\n",
    "Ankle pain\n",
    "\n",
    "HISTORY OF PRESENT ILLNESS:\n",
    "The patient is 28 y/o man who tripped when hiking. He struggled back to his car, and immediately came in. Due to his severe ankle pain, he thought the right ankle may be broken.\n",
    "\n",
    "EXAMINATION:\n",
    "An x-ray of right ankle ruled out fracture.\n",
    "\n",
    "IMPRESSION:\n",
    "The right ankle is sprained.\n",
    "\n",
    "RECOMMENDATION:\n",
    "- Take ibuprofen as needed\n",
    "- Try to stay off right ankle for one week\n",
    "```"
   ]
  },
  {
   "cell_type": "markdown",
   "metadata": {
    "colab_type": "text",
    "id": "yN3vJYQxzgkn"
   },
   "source": [
    "```\n",
    "The patient ...\n",
    "  is 28 y/o man\n",
    "  has severe ankle pain\n",
    "  tripped when hiking\n",
    "  struggled back to his car\n",
    "  immediately came in\n",
    "The right ankle ...\n",
    "  may be broken\n",
    "  is sprained\n",
    "The x-ray of right ankle ...\n",
    "  rules out fracture\n",
    "Ibuprofen ...\n",
    "  is recommended\n",
    "  take as needed\n",
    "Try to stay off right ankle ...\n",
    "  is recommended\n",
    "  is for one week\n",
    "```"
   ]
  },
  {
   "cell_type": "markdown",
   "metadata": {
    "colab_type": "text",
    "id": "zAkeOP_ezfmg"
   },
   "source": [
    "To perform relationship extraction using this data, there are a number of steps we need to take. We will need all the basic text processing, section segmenting, NER, and coreference resolution. This is just for processing the document. Creating the output would also require some text generation logic. However, we may be able to combine a syntactic parser and some rules to get some of this done. As described in the previous chapter, a syntactic parser will transform sentences into a hierarchical structure. Let's look at some of the sentences.\n",
    "\n",
    "> The patient is 28 y/o man who tripped when hiking.\n",
    "\n",
    "```\n",
    "(ROOT\n",
    "  (S\n",
    "    (NP (DT The) (NN patient))\n",
    "    (VP (VBZ is)\n",
    "      (NP\n",
    "        (NP (ADJP (CD 28) (JJ y/o)) (NN man))\n",
    "        (SBAR\n",
    "          (WHNP (WP who))\n",
    "          (S\n",
    "            (VP (VBN tripped)\n",
    "              (SBAR\n",
    "                (WHADVP (WRB when))\n",
    "                (S\n",
    "                  (VP (VBZ hiking)))))))))\n",
    "    (. .)))\n",
    "```\n",
    "\n",
    "This looks complicated, but it is relatively straightforward. Most sentences can be described in a simple tree structure.\n",
    "\n",
    "```\n",
    "(ROOT\n",
    "  (S\n",
    "    (NP (NNS SUBJECT))\n",
    "    (VP (VBP VERB)\n",
    "      (NP (NN OBJECT)))\n",
    "    (. .)))\n",
    "```"
   ]
  },
  {
   "cell_type": "markdown",
   "metadata": {
    "colab_type": "text",
    "id": "J_GzEu1j3EID"
   },
   "source": [
    "Embedded wh-clauses can inherit their subjects. For example, let's take the following sentence:\n",
    "\n",
    "> The man who wears a hat.\n",
    "\n",
    "In the wh-clause \"who wears a hat,\" \"who\" is coreferent with \"The man.\" In the following sentence we see a clause with no explicit subject:\n",
    "\n",
    "> The man went to the store while wearing a hat.\n",
    "\n",
    "The subject \"wearing\" is \"The man.\" The actual syntax behind identifying the subject of an embedded clause can get complicated. Fortunately, such complicated sentences are less common in the terse English found in clinical notes. This means that we can group sentences by the entity that is their subject."
   ]
  },
  {
   "cell_type": "markdown",
   "metadata": {
    "colab_type": "text",
    "id": "Awx5ZSm53EUM"
   },
   "source": [
    "```\n",
    "PATIENT\n",
    "    The patient is 28 y/o man who tripped when hiking.\n",
    "        who tripped when hiking\n",
    "    He struggled back to his car, and immediately came in.\n",
    "    he thought the right ankle may be broken.\n",
    "\n",
    "RIGHT ANKLE\n",
    "    the right ankle may be broken\n",
    "    The right ankle is sprained.\n",
    "    \n",
    "X-RAY\n",
    "    An x-ray of right ankle ruled out fracture.\n",
    "    \n",
    "IBUPROFEN\n",
    "    Take ibuprofen as needed\n",
    "```"
   ]
  },
  {
   "cell_type": "markdown",
   "metadata": {
    "colab_type": "text",
    "id": "-RJDnxfS3Efs"
   },
   "source": [
    "This gets us most of the sentences we are interested in. In fact, if we make embedded sentences their own sentences and split conjoined verbs, we get all but one of the statements about the patient. The remaining statement, \"has severe ankle pain,\" will be more difficult. We would need to turn something of the form `(NP (PRP$ his) (JJ severe) (NN ankle) (NN pain))) into (ROOT (S (NP (PRP He)) (VP (VBZ has) (NP (JJ severe) (JJ ankle) (NN pain))) (. .))) `Converting noun phrases with possessives into \"have\" statements is a simple rule. We have glossed over the coreference resolution here. We can simply say that any third-person singular pronoun outside of family history or social history is the patient. We can also create special rules for different sections—for example, anything mentioned in a recommendation section gets a statement \"is recommended.\" These simplifying approaches can get us most of the statements. We still need something to recognize \"Try to stay off right ankle\" as a treatment.\n",
    "\n",
    "Let's use NLTK and CoreNLP to look at what is actually parsed."
   ]
  },
  {
   "cell_type": "code",
   "execution_count": 13,
   "metadata": {
    "colab": {},
    "colab_type": "code",
    "id": "e3iqXEVg3dSq"
   },
   "outputs": [],
   "source": [
    "text_cc = ['Ankle pain']\n",
    "\n",
    "text_hpi = [\n",
    "    'The patient is 28 y/o man who tripped when hiking.', \n",
    "    'He struggled back to his car, and immediately came in.', \n",
    "    'Due to his severe ankle pain, he thought the right ankle may be broken.']\n",
    "\n",
    "text_ex = ['An x-ray of right ankle ruled out fracture.']\n",
    "\n",
    "text_imp = ['The right ankle is sprained.']\n",
    "\n",
    "text_rec = [\n",
    "    'Take ibuprofen as needed', \n",
    "    'Try to stay off right ankle for one week']"
   ]
  },
  {
   "cell_type": "markdown",
   "metadata": {
    "colab_type": "text",
    "id": "nCfhq1b03EtD"
   },
   "source": [
    "First, let's start our `CoreNLPServer` and create our parser."
   ]
  },
  {
   "cell_type": "code",
   "execution_count": 19,
   "metadata": {},
   "outputs": [
    {
     "name": "stdout",
     "output_type": "stream",
     "text": [
      "Process is interrupted.\n"
     ]
    }
   ],
   "source": [
    "%%bash\n",
    "\n",
    "java -mx4g -cp \"*\" edu.stanford.nlp.pipeline.StanfordCoreNLPServer \\\n",
    "  -preload tokenize,ssplit,pos,lemma,ner,parse,depparse \\\n",
    "  -status_port 9000 -port 9000 -timeout 15000 & "
   ]
  },
  {
   "cell_type": "code",
   "execution_count": 20,
   "metadata": {},
   "outputs": [
    {
     "name": "stdout",
     "output_type": "stream",
     "text": [
      "alex     19226 38.2  3.3 8003588 2270296 ?     Sl   07:26   0:38 java -mx4g -cp * edu.stanford.nlp.pipeline.StanfordCoreNLPServer -preload tokenize,ssplit,pos,lemma,ner,parse,depparse -status_port 9000 -port 9000 -timeout 15000\r\n",
      "alex     19273  0.0  0.0  10660   684 pts/0    Ss   07:27   0:00 /bin/sh -c  ps aux | grep java | grep stanford\r\n"
     ]
    }
   ],
   "source": [
    "! ps aux | grep java | grep stanford"
   ]
  },
  {
   "cell_type": "code",
   "execution_count": 21,
   "metadata": {
    "colab": {
     "base_uri": "https://localhost:8080/",
     "height": 34
    },
    "colab_type": "code",
    "id": "gD5-VBF_7T0H",
    "outputId": "b5de77a7-c9af-4d7c-9f12-0edb43bf9e1b"
   },
   "outputs": [],
   "source": [
    "from  nltk.parse.corenlp import CoreNLPParser"
   ]
  },
  {
   "cell_type": "code",
   "execution_count": 22,
   "metadata": {
    "colab": {
     "base_uri": "https://localhost:8080/",
     "height": 34
    },
    "colab_type": "code",
    "id": "gD5-VBF_7T0H",
    "outputId": "b5de77a7-c9af-4d7c-9f12-0edb43bf9e1b"
   },
   "outputs": [],
   "source": [
    "parser = CoreNLPParser(url='http://localhost:9000')"
   ]
  },
  {
   "cell_type": "code",
   "execution_count": 23,
   "metadata": {
    "colab": {},
    "colab_type": "code",
    "id": "P4-EljZw3_1b"
   },
   "outputs": [],
   "source": [
    "parse_cc = list(map(lambda t: next(parser.raw_parse(t)), text_cc))\n",
    "parse_hpi = list(map(lambda t: next(parser.raw_parse(t)), text_hpi))\n",
    "parse_ex = list(map(lambda t: next(parser.raw_parse(t)), text_ex))\n",
    "parse_imp = list(map(lambda t: next(parser.raw_parse(t)), text_imp))\n",
    "parse_rec = list(map(lambda t: next(parser.raw_parse(t)), text_rec))"
   ]
  },
  {
   "cell_type": "markdown",
   "metadata": {
    "colab_type": "text",
    "id": "XoZftsPQ3E5p"
   },
   "source": [
    "Each parsed sentence is represented as a tree. Let's take a look at the first sentence in the \"History of Present Illness\" section."
   ]
  },
  {
   "cell_type": "code",
   "execution_count": 24,
   "metadata": {
    "colab": {
     "base_uri": "https://localhost:8080/",
     "height": 265
    },
    "colab_type": "code",
    "id": "fZr-UfzQ4Ik4",
    "outputId": "392ea326-f2f4-4187-ad2e-20677bfd8265"
   },
   "outputs": [
    {
     "name": "stdout",
     "output_type": "stream",
     "text": [
      "(ROOT\n",
      "  (S\n",
      "    (NP (DT The) (NN patient))\n",
      "    (VP\n",
      "      (VBZ is)\n",
      "      (NP\n",
      "        (NP (NP (CD 28) (NN y)) (HYPH /) (NP (NN o) (NN man)))\n",
      "        (SBAR\n",
      "          (WHNP (WP who))\n",
      "          (S\n",
      "            (VP\n",
      "              (VBD tripped)\n",
      "              (SBAR (WHADVP (WRB when)) (FRAG (NP (NN hiking)))))))))\n",
      "    (. .)))\n"
     ]
    }
   ],
   "source": [
    "parse_hpi[0].pprint()"
   ]
  },
  {
   "cell_type": "markdown",
   "metadata": {
    "colab_type": "text",
    "id": "OhS5NVRT3E_O"
   },
   "source": [
    "We can traverse the tree via the indices. For example, we can get the subject-noun phrase by taking the first child of the sentence."
   ]
  },
  {
   "cell_type": "code",
   "execution_count": 25,
   "metadata": {
    "colab": {
     "base_uri": "https://localhost:8080/",
     "height": 34
    },
    "colab_type": "code",
    "id": "XgfCnlm24MrH",
    "outputId": "c421f3f3-f121-46f9-b351-4387ea519b19"
   },
   "outputs": [
    {
     "name": "stdout",
     "output_type": "stream",
     "text": [
      "(NP (DT The) (NN patient))\n"
     ]
    }
   ],
   "source": [
    "parse_hpi[0][0][0].pprint()"
   ]
  },
  {
   "cell_type": "markdown",
   "metadata": {
    "colab_type": "text",
    "id": "ncCXorui3EzZ"
   },
   "source": [
    "The leaves of the tree are the tokens:"
   ]
  },
  {
   "cell_type": "code",
   "execution_count": 26,
   "metadata": {
    "colab": {
     "base_uri": "https://localhost:8080/",
     "height": 35
    },
    "colab_type": "code",
    "id": "HyEybGtaBWvY",
    "outputId": "9a93c10a-36d9-4f7f-8210-9df3c70983bf"
   },
   "outputs": [
    {
     "data": {
      "text/plain": [
       "'The'"
      ]
     },
     "execution_count": 26,
     "metadata": {},
     "output_type": "execute_result"
    }
   ],
   "source": [
    "parse_hpi[0][0][0][0][0]"
   ]
  },
  {
   "cell_type": "markdown",
   "metadata": {
    "colab_type": "text",
    "id": "KAHwFPv93Emj"
   },
   "source": [
    "## Summary\n",
    "Now we see how far we can get when we have documents with a narrow set of language. These assumptions would not work if we tried to apply them to tweets, patents, or movie scripts. When we build applications like this, we must iterate on problems by reviewing the data, training our models, and looking at the product.\n",
    "\n",
    "These topics have been heavy in linguistics. This is natural, since we are trying to extract information encoded in language. Linguistics is the study of language, so we can get a lot of advantage by using its knowledge. But what if we don't want to extract the information for human consumption, but for use in modeling? We'll need something better than TF.IDF. The next two chapters talk about distributional semantics. The next chapter is about topic modeling, in which we treat documents as a combination of different topics. The chapter after that is about word embeddings, in which we try to represent words as vectors."
   ]
  },
  {
   "cell_type": "markdown",
   "metadata": {
    "colab_type": "text",
    "id": "i80gGcta3EYy"
   },
   "source": [
    "##Exercises\n",
    "\n",
    "In this exercise, you will be traversing the parse trees looking for SVO triplets."
   ]
  },
  {
   "cell_type": "code",
   "execution_count": 27,
   "metadata": {
    "colab": {},
    "colab_type": "code",
    "id": "5AJPBAwbBlqI"
   },
   "outputs": [],
   "source": [
    "from nltk.tree import Tree\n",
    "\n",
    "def get_svo(sentence):\n",
    "    parse = next(parser.raw_parse(sentence))\n",
    "    svos = []\n",
    "    # svos.append((subject, verb, object))\n",
    "    return svos"
   ]
  },
  {
   "cell_type": "markdown",
   "metadata": {
    "colab_type": "text",
    "id": "B9P5ScXN3EO6"
   },
   "source": [
    "Here are some test cases to use."
   ]
  },
  {
   "cell_type": "code",
   "execution_count": 28,
   "metadata": {
    "colab": {
     "base_uri": "https://localhost:8080/",
     "height": 34
    },
    "colab_type": "code",
    "id": "wZ47mtkjBrpo",
    "outputId": "5f487396-9c86-4cbc-afa2-8e6733eadb1e"
   },
   "outputs": [
    {
     "data": {
      "text/plain": [
       "[]"
      ]
     },
     "execution_count": 28,
     "metadata": {},
     "output_type": "execute_result"
    }
   ],
   "source": [
    "# [(\"The cows\", \"eat\", \"grass\")]\n",
    "get_svo('The cows eat grass.')"
   ]
  },
  {
   "cell_type": "code",
   "execution_count": 29,
   "metadata": {
    "colab": {
     "base_uri": "https://localhost:8080/",
     "height": 34
    },
    "colab_type": "code",
    "id": "zeEi59ITBuCx",
    "outputId": "b48ff3dc-4ce2-4698-f6d5-274d50ed8eaf"
   },
   "outputs": [
    {
     "data": {
      "text/plain": [
       "[]"
      ]
     },
     "execution_count": 29,
     "metadata": {},
     "output_type": "execute_result"
    }
   ],
   "source": [
    "# [(\"the cows\", \"ate\", \"grass\")]\n",
    "get_svo('Yesterday, the cows ate the grass.')"
   ]
  },
  {
   "cell_type": "code",
   "execution_count": 30,
   "metadata": {
    "colab": {
     "base_uri": "https://localhost:8080/",
     "height": 34
    },
    "colab_type": "code",
    "id": "1NVylxr0BvjX",
    "outputId": "5a832c86-d18d-4526-d5b6-435b0653ea1f"
   },
   "outputs": [
    {
     "data": {
      "text/plain": [
       "[]"
      ]
     },
     "execution_count": 30,
     "metadata": {},
     "output_type": "execute_result"
    }
   ],
   "source": [
    "# [(\"The cows\", \"ate\", \"grass\")]\n",
    "get_svo('The cows quickly ate the grass.')"
   ]
  },
  {
   "cell_type": "code",
   "execution_count": 31,
   "metadata": {
    "colab": {
     "base_uri": "https://localhost:8080/",
     "height": 34
    },
    "colab_type": "code",
    "id": "NETNhD--ByR2",
    "outputId": "6b9d7770-070f-4e87-ff44-3ef2c11b76f4"
   },
   "outputs": [
    {
     "data": {
      "text/plain": [
       "[]"
      ]
     },
     "execution_count": 31,
     "metadata": {},
     "output_type": "execute_result"
    }
   ],
   "source": [
    "# [(\"the cows\", \"eat\", \"grass\")]\n",
    "get_svo('When did, the cows eat the grass.')"
   ]
  },
  {
   "cell_type": "code",
   "execution_count": 32,
   "metadata": {
    "colab": {
     "base_uri": "https://localhost:8080/",
     "height": 34
    },
    "colab_type": "code",
    "id": "pCWxd0NxBzXI",
    "outputId": "39d400f0-beb3-4102-d041-cbb5dc44fd97"
   },
   "outputs": [
    {
     "data": {
      "text/plain": [
       "[]"
      ]
     },
     "execution_count": 32,
     "metadata": {},
     "output_type": "execute_result"
    }
   ],
   "source": [
    "# [(\"The cows\", \"eat\", \"grass\"), (\"The cows\", \"came\", \"home\")]\n",
    "get_svo('The cows that ate the grass came home.')"
   ]
  }
 ],
 "metadata": {
  "colab": {
   "authorship_tag": "ABX9TyOGSDS8Uou4DivWJfCtzcnd",
   "include_colab_link": true,
   "name": "2.9_Information_Extraction.ipynb",
   "provenance": [],
   "toc_visible": true
  },
  "kernelspec": {
   "display_name": "Python 3",
   "language": "python",
   "name": "python3"
  },
  "language_info": {
   "codemirror_mode": {
    "name": "ipython",
    "version": 3
   },
   "file_extension": ".py",
   "mimetype": "text/x-python",
   "name": "python",
   "nbconvert_exporter": "python",
   "pygments_lexer": "ipython3",
   "version": "3.6.9"
  }
 },
 "nbformat": 4,
 "nbformat_minor": 1
}
