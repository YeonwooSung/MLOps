{
 "cells": [
  {
   "cell_type": "code",
   "execution_count": 1,
   "metadata": {
    "colab": {},
    "colab_type": "code",
    "id": "HzgTx-7OuEnm"
   },
   "outputs": [],
   "source": [
    "! mkdir -p data"
   ]
  },
  {
   "cell_type": "code",
   "execution_count": 2,
   "metadata": {
    "colab": {
     "base_uri": "https://localhost:8080/",
     "height": 212
    },
    "colab_type": "code",
    "id": "dgBCSO9Fr-M5",
    "outputId": "0e85f03f-0dc5-4999-a783-adbc9886dcd4"
   },
   "outputs": [
    {
     "name": "stdout",
     "output_type": "stream",
     "text": [
      "Will not apply HSTS. The HSTS database must be a regular and non-world-writable file.\n",
      "ERROR: could not open HSTS store at '/home/alex/.wget-hsts'. HSTS will be disabled.\n",
      "--2020-07-28 16:41:17--  https://archive.ics.uci.edu/ml/machine-learning-databases/20newsgroups-mld/mini_newsgroups.tar.gz\n",
      "Resolving archive.ics.uci.edu (archive.ics.uci.edu)... 128.195.10.252\n",
      "Connecting to archive.ics.uci.edu (archive.ics.uci.edu)|128.195.10.252|:443... connected.\n",
      "HTTP request sent, awaiting response... 200 OK\n",
      "Length: 1860687 (1.8M) [application/x-httpd-php]\n",
      "Saving to: ‘mini_newsgroups.tar.gz.5’\n",
      "\n",
      "mini_newsgroups.tar 100%[===================>]   1.77M  5.42MB/s    in 0.3s    \n",
      "\n",
      "2020-07-28 16:41:18 (5.42 MB/s) - ‘mini_newsgroups.tar.gz.5’ saved [1860687/1860687]\n",
      "\n"
     ]
    }
   ],
   "source": [
    "! wget https://archive.ics.uci.edu/ml/machine-learning-databases/20newsgroups-mld/mini_newsgroups.tar.gz"
   ]
  },
  {
   "cell_type": "code",
   "execution_count": 3,
   "metadata": {
    "colab": {},
    "colab_type": "code",
    "id": "CiqkXr6SITVJ"
   },
   "outputs": [],
   "source": [
    "! tar xzf mini_newsgroups.tar.gz -C ./data/"
   ]
  },
  {
   "cell_type": "markdown",
   "metadata": {
    "colab_type": "text",
    "id": "m7hHyAtMQ-D_"
   },
   "source": [
    "# Information Retrieval\n",
    "\n",
    "In the previous chapter we came across common words that made it difficult to characterize a corpus. This is a problem for different kinds NLP tasks. Fortunately, the field of information retrieval has developed many techniques that can be used to improve a variety of NLP applications.\n",
    "\n",
    "Earlier, we talked about how text data exists, and more is being generated every day. We need some way to manage and search through this data. If there is an ID or title, we can of course have an index on this data, but how do we search by content? With structured data, we can create logical expressions and retrieve all rows that satisfy the expressions. This can also be done with text, though less exactly.\n",
    "\n",
    "The foundation of information retrieval predates computers. Information retrieval focuses on how to find specific pieces of information in a larger set of information, especially information in text data. The most common type of task in information retrieval is search—in other words, document search.\n",
    "\n",
    "The following are the components of a document search:\n",
    "\n",
    "* Query $q$  \n",
    "A logical statement describing the document or kind of document you are looking for\n",
    "\n",
    "* Query term $q_t$  \n",
    "A term in the query, generally a token\n",
    "\n",
    "* Corpus of documents $D$  \n",
    "A collection of documents\n",
    "\n",
    "* Document $d$  \n",
    "A document in D with terms t_d that describe the document\n",
    "\n",
    "* Ranking function $r(q, D)$  \n",
    "A function that ranks the documents in D according to relevance to the query q\n",
    "\n",
    "* Result $R$  \n",
    "The ranked list of documents\n",
    "\n",
    "Before we get into how to implement these components, we need to consider a technical problem. How can we quickly access documents based on the information within them? If we have to scan every document, then we could not search large collections of documents. To solve this problem we use an inverted index."
   ]
  },
  {
   "cell_type": "markdown",
   "metadata": {
    "colab_type": "text",
    "id": "vqYz60vUQ-b7"
   },
   "source": [
    "## Inverted Indices\n",
    "\n",
    "Originally, indexing was a means of organizing and labeling information in a way that made retrieving it easier. For example, libraries use indexing to organize and find books. The Dewey Decimal Classification system is a way to index books based on their subject matter. We can also have indices based on titles, authors, publication dates, and so on. Another kind of index can often be found at the back of a book. This is a list of concepts in the book and pages on which to find them.\n",
    "\n",
    "The index in inverted index is slightly different than the traditional index; instead, it takes inspiration from the mathematical concept of indexing—that is, assigning indices to an element of a set. Recall our set of documents $D$. We can assign a number to each document, creating mapping from integers to documents, $i \\rightarrow d$.\n",
    "\n",
    "Let's create this index for our `DataFrame`. Normally, we would store an inverted index in a data store that allows for quick lookups. Spark `DataFrames` are not for quick lookups. We will introduce the tools used for search.\n",
    "\n",
    "## Building an Inverted Index\n",
    "\n",
    "Let's look at how we can build an inverted index in Spark. Here are the steps we will follow:\n",
    "\n",
    "1. Load the data.  \n",
    "\n",
    "2. Create the index: $i \\rightarrow d*$\n",
    "  * Since we are using Spark, we will generate this index on the rows.\n",
    "\n",
    "3. Process the text.\n",
    "\n",
    "4. Create the inverted index from terms to documents: $t_d \\rightarrow i*$"
   ]
  },
  {
   "cell_type": "markdown",
   "metadata": {
    "colab_type": "text",
    "id": "YsW1UTBKQ-kC"
   },
   "source": [
    "### Step 1\n",
    "\n",
    "We will be creating an inverted index for the mini_newsgroups data set."
   ]
  },
  {
   "cell_type": "code",
   "execution_count": 4,
   "metadata": {
    "colab": {},
    "colab_type": "code",
    "id": "aiWtsaeTR4Yf"
   },
   "outputs": [],
   "source": [
    "import os\n",
    "\n",
    "from pyspark.sql.types import *\n",
    "from pyspark.sql.functions import collect_set\n",
    "from pyspark.sql import Row\n",
    "from pyspark.ml import Pipeline\n",
    "\n",
    "import sparknlp\n",
    "from sparknlp import DocumentAssembler, Finisher\n",
    "from sparknlp.annotator import *\n",
    "\n",
    "spark = sparknlp.start()"
   ]
  },
  {
   "cell_type": "code",
   "execution_count": 5,
   "metadata": {
    "colab": {},
    "colab_type": "code",
    "id": "4HQEGVgER6bW"
   },
   "outputs": [],
   "source": [
    "path = os.path.join('data', 'mini_newsgroups', '*')\n",
    "texts = spark.sparkContext.wholeTextFiles(path)\n",
    "\n",
    "schema = StructType([\n",
    "    StructField('path', StringType()),\n",
    "    StructField('text', StringType()),\n",
    "])\n",
    "\n",
    "texts = spark.createDataFrame(texts, schema=schema).persist()"
   ]
  },
  {
   "cell_type": "markdown",
   "metadata": {
    "colab_type": "text",
    "id": "imVRaxuCQ-r7"
   },
   "source": [
    "### Step 2\n",
    "\n",
    "Now we need to create the index. Spark assumes the data is distributed, so to assign an index, we need to use the lower-level `RDD` API. The zipWithIndex will sort the data on the workers and assign the indices."
   ]
  },
  {
   "cell_type": "code",
   "execution_count": 6,
   "metadata": {
    "colab": {
     "base_uri": "https://localhost:8080/",
     "height": 123
    },
    "colab_type": "code",
    "id": "j85jHlBASBLg",
    "outputId": "10aa3ccc-182b-47f5-dfd2-bf34a70ce34c"
   },
   "outputs": [
    {
     "name": "stdout",
     "output_type": "stream",
     "text": [
      "0\n",
      "file:/home/alex/projects/spark-nlp-book-prod/jupyter/data/mini_newsgroups/alt.atheism/51121\n",
      "Xref: cantaloupe.srv.cs.cmu.edu alt.atheism:51121 soc.motss:139944 rec.scouting:5318\n",
      "Newsgroups: alt.atheism,soc.motss,rec.scouting\n",
      "Path: cantaloupe.srv.cs.cmu.edu!crabapple.srv.cs.cmu.edu!fs7.ece.cmu\n"
     ]
    }
   ],
   "source": [
    "rows_w_indexed = texts.rdd.zipWithIndex()\n",
    "(path, text), i = rows_w_indexed.first()\n",
    "\n",
    "print(i)\n",
    "print(path)\n",
    "print(text[:200])"
   ]
  },
  {
   "cell_type": "markdown",
   "metadata": {
    "colab_type": "text",
    "id": "4WUR1rWiQ-wk"
   },
   "source": [
    "Now that we have created the index, we need to create a `DataFrame` like we did previously, except now we need to add our index into our `Rows`."
   ]
  },
  {
   "cell_type": "code",
   "execution_count": 7,
   "metadata": {
    "colab": {},
    "colab_type": "code",
    "id": "_nwaG6BPSJ63"
   },
   "outputs": [],
   "source": [
    "indexed = rows_w_indexed.map(\n",
    "    lambda row_index: Row(\n",
    "        index=row_index[1], \n",
    "        **row_index[0].asDict())\n",
    ")\n",
    "(i, path, text) = indexed.first()"
   ]
  },
  {
   "cell_type": "code",
   "execution_count": 8,
   "metadata": {
    "colab": {},
    "colab_type": "code",
    "id": "eQsPwY7dSLd-"
   },
   "outputs": [],
   "source": [
    "indexed_schema = schema.add(StructField('index', IntegerType()))\n",
    "\n",
    "indexed = spark.createDataFrame(indexed, schema=indexed_schema)\\\n",
    "    .persist()"
   ]
  },
  {
   "cell_type": "code",
   "execution_count": 9,
   "metadata": {
    "colab": {
     "base_uri": "https://localhost:8080/",
     "height": 347
    },
    "colab_type": "code",
    "id": "JnWtqnaNSM6v",
    "outputId": "b5bed2b9-de01-40fa-b703-3cc9d2ea724d"
   },
   "outputs": [
    {
     "data": {
      "text/html": [
       "<div>\n",
       "<style scoped>\n",
       "    .dataframe tbody tr th:only-of-type {\n",
       "        vertical-align: middle;\n",
       "    }\n",
       "\n",
       "    .dataframe tbody tr th {\n",
       "        vertical-align: top;\n",
       "    }\n",
       "\n",
       "    .dataframe thead th {\n",
       "        text-align: right;\n",
       "    }\n",
       "</style>\n",
       "<table border=\"1\" class=\"dataframe\">\n",
       "  <thead>\n",
       "    <tr style=\"text-align: right;\">\n",
       "      <th></th>\n",
       "      <th>path</th>\n",
       "      <th>text</th>\n",
       "      <th>index</th>\n",
       "    </tr>\n",
       "  </thead>\n",
       "  <tbody>\n",
       "    <tr>\n",
       "      <th>0</th>\n",
       "      <td>file:/home/alex/projects/spark-nlp-book-prod/j...</td>\n",
       "      <td>Xref: cantaloupe.srv.cs.cmu.edu alt.atheism:51...</td>\n",
       "      <td>0</td>\n",
       "    </tr>\n",
       "    <tr>\n",
       "      <th>1</th>\n",
       "      <td>file:/home/alex/projects/spark-nlp-book-prod/j...</td>\n",
       "      <td>Path: cantaloupe.srv.cs.cmu.edu!crabapple.srv....</td>\n",
       "      <td>1</td>\n",
       "    </tr>\n",
       "    <tr>\n",
       "      <th>2</th>\n",
       "      <td>file:/home/alex/projects/spark-nlp-book-prod/j...</td>\n",
       "      <td>Path: cantaloupe.srv.cs.cmu.edu!crabapple.srv....</td>\n",
       "      <td>2</td>\n",
       "    </tr>\n",
       "    <tr>\n",
       "      <th>3</th>\n",
       "      <td>file:/home/alex/projects/spark-nlp-book-prod/j...</td>\n",
       "      <td>Path: cantaloupe.srv.cs.cmu.edu!crabapple.srv....</td>\n",
       "      <td>3</td>\n",
       "    </tr>\n",
       "    <tr>\n",
       "      <th>4</th>\n",
       "      <td>file:/home/alex/projects/spark-nlp-book-prod/j...</td>\n",
       "      <td>Path: cantaloupe.srv.cs.cmu.edu!das-news.harva...</td>\n",
       "      <td>4</td>\n",
       "    </tr>\n",
       "    <tr>\n",
       "      <th>5</th>\n",
       "      <td>file:/home/alex/projects/spark-nlp-book-prod/j...</td>\n",
       "      <td>Path: cantaloupe.srv.cs.cmu.edu!crabapple.srv....</td>\n",
       "      <td>5</td>\n",
       "    </tr>\n",
       "    <tr>\n",
       "      <th>6</th>\n",
       "      <td>file:/home/alex/projects/spark-nlp-book-prod/j...</td>\n",
       "      <td>Path: cantaloupe.srv.cs.cmu.edu!das-news.harva...</td>\n",
       "      <td>6</td>\n",
       "    </tr>\n",
       "    <tr>\n",
       "      <th>7</th>\n",
       "      <td>file:/home/alex/projects/spark-nlp-book-prod/j...</td>\n",
       "      <td>Xref: cantaloupe.srv.cs.cmu.edu alt.atheism:51...</td>\n",
       "      <td>7</td>\n",
       "    </tr>\n",
       "    <tr>\n",
       "      <th>8</th>\n",
       "      <td>file:/home/alex/projects/spark-nlp-book-prod/j...</td>\n",
       "      <td>Path: cantaloupe.srv.cs.cmu.edu!das-news.harva...</td>\n",
       "      <td>8</td>\n",
       "    </tr>\n",
       "    <tr>\n",
       "      <th>9</th>\n",
       "      <td>file:/home/alex/projects/spark-nlp-book-prod/j...</td>\n",
       "      <td>Path: cantaloupe.srv.cs.cmu.edu!das-news.harva...</td>\n",
       "      <td>9</td>\n",
       "    </tr>\n",
       "  </tbody>\n",
       "</table>\n",
       "</div>"
      ],
      "text/plain": [
       "                                                path  \\\n",
       "0  file:/home/alex/projects/spark-nlp-book-prod/j...   \n",
       "1  file:/home/alex/projects/spark-nlp-book-prod/j...   \n",
       "2  file:/home/alex/projects/spark-nlp-book-prod/j...   \n",
       "3  file:/home/alex/projects/spark-nlp-book-prod/j...   \n",
       "4  file:/home/alex/projects/spark-nlp-book-prod/j...   \n",
       "5  file:/home/alex/projects/spark-nlp-book-prod/j...   \n",
       "6  file:/home/alex/projects/spark-nlp-book-prod/j...   \n",
       "7  file:/home/alex/projects/spark-nlp-book-prod/j...   \n",
       "8  file:/home/alex/projects/spark-nlp-book-prod/j...   \n",
       "9  file:/home/alex/projects/spark-nlp-book-prod/j...   \n",
       "\n",
       "                                                text  index  \n",
       "0  Xref: cantaloupe.srv.cs.cmu.edu alt.atheism:51...      0  \n",
       "1  Path: cantaloupe.srv.cs.cmu.edu!crabapple.srv....      1  \n",
       "2  Path: cantaloupe.srv.cs.cmu.edu!crabapple.srv....      2  \n",
       "3  Path: cantaloupe.srv.cs.cmu.edu!crabapple.srv....      3  \n",
       "4  Path: cantaloupe.srv.cs.cmu.edu!das-news.harva...      4  \n",
       "5  Path: cantaloupe.srv.cs.cmu.edu!crabapple.srv....      5  \n",
       "6  Path: cantaloupe.srv.cs.cmu.edu!das-news.harva...      6  \n",
       "7  Xref: cantaloupe.srv.cs.cmu.edu alt.atheism:51...      7  \n",
       "8  Path: cantaloupe.srv.cs.cmu.edu!das-news.harva...      8  \n",
       "9  Path: cantaloupe.srv.cs.cmu.edu!das-news.harva...      9  "
      ]
     },
     "execution_count": 9,
     "metadata": {},
     "output_type": "execute_result"
    }
   ],
   "source": [
    "indexed.limit(10).toPandas()"
   ]
  },
  {
   "cell_type": "markdown",
   "metadata": {
    "colab_type": "text",
    "id": "N12fRsOvQ-19"
   },
   "source": [
    "Each document $d$ is a collection of terms, $t_d$. So our index is the mapping from integers to collections of terms.\n",
    "\n",
    "An inverted index, on the other hand, is the mapping from terms $t_d$ to integers, $\\text{inv-index}: t_d \\rightarrow i, j, k, ...$ This allows us to quickly look up what documents contain a given term."
   ]
  },
  {
   "cell_type": "markdown",
   "metadata": {
    "colab_type": "text",
    "id": "gLAncNAtQ-6s"
   },
   "source": [
    "### Step 3\n",
    "\n",
    "Now let's process the text"
   ]
  },
  {
   "cell_type": "code",
   "execution_count": 10,
   "metadata": {
    "colab": {
     "base_uri": "https://localhost:8080/",
     "height": 70
    },
    "colab_type": "code",
    "id": "ClkoSGKlSnEf",
    "outputId": "55bab768-425c-4cfc-cb9b-d278e34621f8"
   },
   "outputs": [
    {
     "name": "stdout",
     "output_type": "stream",
     "text": [
      "lemma_antbnc download started this may take some time.\n",
      "Approximate size to download 907.6 KB\n",
      "[OK!]\n"
     ]
    }
   ],
   "source": [
    "from sparknlp.pretrained import PretrainedPipeline\n",
    "\n",
    "assembler = DocumentAssembler()\\\n",
    "    .setInputCol('text')\\\n",
    "    .setOutputCol('document')\n",
    "tokenizer = Tokenizer()\\\n",
    "    .setInputCols(['document'])\\\n",
    "    .setOutputCol('token')\n",
    "lemmatizer = LemmatizerModel.pretrained()\\\n",
    "    .setInputCols(['token'])\\\n",
    "    .setOutputCol('lemma')\n",
    "normalizer = Normalizer()\\\n",
    "    .setInputCols(['lemma'])\\\n",
    "    .setOutputCol('normalized')\\\n",
    "    .setLowercase(True)\n",
    "finisher = Finisher()\\\n",
    "    .setInputCols(['normalized'])\\\n",
    "    .setOutputCols(['normalized'])\\\n",
    "    .setOutputAsArray(True)\n",
    "\n",
    "pipeline = Pipeline().setStages([\n",
    "    assembler, tokenizer, \n",
    "    lemmatizer, normalizer, finisher\n",
    "]).fit(indexed)\n",
    "\n",
    "indexed_w_tokens = pipeline.transform(indexed)"
   ]
  },
  {
   "cell_type": "code",
   "execution_count": 11,
   "metadata": {
    "colab": {
     "base_uri": "https://localhost:8080/",
     "height": 347
    },
    "colab_type": "code",
    "id": "knh3FlJqSoW3",
    "outputId": "522a1b96-2537-4a49-e9c0-ff855a59ee58"
   },
   "outputs": [
    {
     "data": {
      "text/html": [
       "<div>\n",
       "<style scoped>\n",
       "    .dataframe tbody tr th:only-of-type {\n",
       "        vertical-align: middle;\n",
       "    }\n",
       "\n",
       "    .dataframe tbody tr th {\n",
       "        vertical-align: top;\n",
       "    }\n",
       "\n",
       "    .dataframe thead th {\n",
       "        text-align: right;\n",
       "    }\n",
       "</style>\n",
       "<table border=\"1\" class=\"dataframe\">\n",
       "  <thead>\n",
       "    <tr style=\"text-align: right;\">\n",
       "      <th></th>\n",
       "      <th>path</th>\n",
       "      <th>text</th>\n",
       "      <th>index</th>\n",
       "      <th>normalized</th>\n",
       "    </tr>\n",
       "  </thead>\n",
       "  <tbody>\n",
       "    <tr>\n",
       "      <th>0</th>\n",
       "      <td>file:/home/alex/projects/spark-nlp-book-prod/j...</td>\n",
       "      <td>Xref: cantaloupe.srv.cs.cmu.edu alt.atheism:51...</td>\n",
       "      <td>0</td>\n",
       "      <td>[xref, cantaloupesrvcscmuedu, altatheism, socm...</td>\n",
       "    </tr>\n",
       "    <tr>\n",
       "      <th>1</th>\n",
       "      <td>file:/home/alex/projects/spark-nlp-book-prod/j...</td>\n",
       "      <td>Path: cantaloupe.srv.cs.cmu.edu!crabapple.srv....</td>\n",
       "      <td>1</td>\n",
       "      <td>[path, cantaloupesrvcscmueducrabapplesrvcscmue...</td>\n",
       "    </tr>\n",
       "    <tr>\n",
       "      <th>2</th>\n",
       "      <td>file:/home/alex/projects/spark-nlp-book-prod/j...</td>\n",
       "      <td>Path: cantaloupe.srv.cs.cmu.edu!crabapple.srv....</td>\n",
       "      <td>2</td>\n",
       "      <td>[path, cantaloupesrvcscmueducrabapplesrvcscmue...</td>\n",
       "    </tr>\n",
       "    <tr>\n",
       "      <th>3</th>\n",
       "      <td>file:/home/alex/projects/spark-nlp-book-prod/j...</td>\n",
       "      <td>Path: cantaloupe.srv.cs.cmu.edu!crabapple.srv....</td>\n",
       "      <td>3</td>\n",
       "      <td>[path, cantaloupesrvcscmueducrabapplesrvcscmue...</td>\n",
       "    </tr>\n",
       "    <tr>\n",
       "      <th>4</th>\n",
       "      <td>file:/home/alex/projects/spark-nlp-book-prod/j...</td>\n",
       "      <td>Path: cantaloupe.srv.cs.cmu.edu!das-news.harva...</td>\n",
       "      <td>4</td>\n",
       "      <td>[path, cantaloupesrvcscmuedudasnewsharvardeduh...</td>\n",
       "    </tr>\n",
       "    <tr>\n",
       "      <th>5</th>\n",
       "      <td>file:/home/alex/projects/spark-nlp-book-prod/j...</td>\n",
       "      <td>Path: cantaloupe.srv.cs.cmu.edu!crabapple.srv....</td>\n",
       "      <td>5</td>\n",
       "      <td>[path, cantaloupesrvcscmueducrabapplesrvcscmue...</td>\n",
       "    </tr>\n",
       "    <tr>\n",
       "      <th>6</th>\n",
       "      <td>file:/home/alex/projects/spark-nlp-book-prod/j...</td>\n",
       "      <td>Path: cantaloupe.srv.cs.cmu.edu!das-news.harva...</td>\n",
       "      <td>6</td>\n",
       "      <td>[path, cantaloupesrvcscmuedudasnewsharvardeduh...</td>\n",
       "    </tr>\n",
       "    <tr>\n",
       "      <th>7</th>\n",
       "      <td>file:/home/alex/projects/spark-nlp-book-prod/j...</td>\n",
       "      <td>Xref: cantaloupe.srv.cs.cmu.edu alt.atheism:51...</td>\n",
       "      <td>7</td>\n",
       "      <td>[xref, cantaloupesrvcscmuedu, altatheism, talk...</td>\n",
       "    </tr>\n",
       "    <tr>\n",
       "      <th>8</th>\n",
       "      <td>file:/home/alex/projects/spark-nlp-book-prod/j...</td>\n",
       "      <td>Path: cantaloupe.srv.cs.cmu.edu!das-news.harva...</td>\n",
       "      <td>8</td>\n",
       "      <td>[path, cantaloupesrvcscmuedudasnewsharvardeduh...</td>\n",
       "    </tr>\n",
       "    <tr>\n",
       "      <th>9</th>\n",
       "      <td>file:/home/alex/projects/spark-nlp-book-prod/j...</td>\n",
       "      <td>Path: cantaloupe.srv.cs.cmu.edu!das-news.harva...</td>\n",
       "      <td>9</td>\n",
       "      <td>[path, cantaloupesrvcscmuedudasnewsharvardeduh...</td>\n",
       "    </tr>\n",
       "  </tbody>\n",
       "</table>\n",
       "</div>"
      ],
      "text/plain": [
       "                                                path  \\\n",
       "0  file:/home/alex/projects/spark-nlp-book-prod/j...   \n",
       "1  file:/home/alex/projects/spark-nlp-book-prod/j...   \n",
       "2  file:/home/alex/projects/spark-nlp-book-prod/j...   \n",
       "3  file:/home/alex/projects/spark-nlp-book-prod/j...   \n",
       "4  file:/home/alex/projects/spark-nlp-book-prod/j...   \n",
       "5  file:/home/alex/projects/spark-nlp-book-prod/j...   \n",
       "6  file:/home/alex/projects/spark-nlp-book-prod/j...   \n",
       "7  file:/home/alex/projects/spark-nlp-book-prod/j...   \n",
       "8  file:/home/alex/projects/spark-nlp-book-prod/j...   \n",
       "9  file:/home/alex/projects/spark-nlp-book-prod/j...   \n",
       "\n",
       "                                                text  index  \\\n",
       "0  Xref: cantaloupe.srv.cs.cmu.edu alt.atheism:51...      0   \n",
       "1  Path: cantaloupe.srv.cs.cmu.edu!crabapple.srv....      1   \n",
       "2  Path: cantaloupe.srv.cs.cmu.edu!crabapple.srv....      2   \n",
       "3  Path: cantaloupe.srv.cs.cmu.edu!crabapple.srv....      3   \n",
       "4  Path: cantaloupe.srv.cs.cmu.edu!das-news.harva...      4   \n",
       "5  Path: cantaloupe.srv.cs.cmu.edu!crabapple.srv....      5   \n",
       "6  Path: cantaloupe.srv.cs.cmu.edu!das-news.harva...      6   \n",
       "7  Xref: cantaloupe.srv.cs.cmu.edu alt.atheism:51...      7   \n",
       "8  Path: cantaloupe.srv.cs.cmu.edu!das-news.harva...      8   \n",
       "9  Path: cantaloupe.srv.cs.cmu.edu!das-news.harva...      9   \n",
       "\n",
       "                                          normalized  \n",
       "0  [xref, cantaloupesrvcscmuedu, altatheism, socm...  \n",
       "1  [path, cantaloupesrvcscmueducrabapplesrvcscmue...  \n",
       "2  [path, cantaloupesrvcscmueducrabapplesrvcscmue...  \n",
       "3  [path, cantaloupesrvcscmueducrabapplesrvcscmue...  \n",
       "4  [path, cantaloupesrvcscmuedudasnewsharvardeduh...  \n",
       "5  [path, cantaloupesrvcscmueducrabapplesrvcscmue...  \n",
       "6  [path, cantaloupesrvcscmuedudasnewsharvardeduh...  \n",
       "7  [xref, cantaloupesrvcscmuedu, altatheism, talk...  \n",
       "8  [path, cantaloupesrvcscmuedudasnewsharvardeduh...  \n",
       "9  [path, cantaloupesrvcscmuedudasnewsharvardeduh...  "
      ]
     },
     "execution_count": 11,
     "metadata": {},
     "output_type": "execute_result"
    }
   ],
   "source": [
    "indexed_w_tokens.limit(10).toPandas()"
   ]
  },
  {
   "cell_type": "code",
   "execution_count": 12,
   "metadata": {
    "colab": {},
    "colab_type": "code",
    "id": "nb1zNqo4SqOG"
   },
   "outputs": [],
   "source": [
    "doc_index = indexed_w_tokens.select('index', 'path', 'text').toPandas()\n",
    "doc_index = doc_index.set_index('index')"
   ]
  },
  {
   "cell_type": "markdown",
   "metadata": {
    "colab_type": "text",
    "id": "HjLvwjV1Q--9"
   },
   "source": [
    "### Step 4\n",
    "\n",
    "Now, let us create our inverted index. We will use Spark SQL to do this.\n",
    "\n",
    "```\n",
    "SELECT term, collect_set(index) AS documents\n",
    "FROM (\n",
    "    SELECT index, explode(normalized) AS term\n",
    "    FROM indexed_w_tokens\n",
    ")\n",
    "GROUP BY term\n",
    "ORDER BY term\n",
    "```"
   ]
  },
  {
   "cell_type": "code",
   "execution_count": 13,
   "metadata": {
    "colab": {},
    "colab_type": "code",
    "id": "mW_n6h4eSxSe"
   },
   "outputs": [],
   "source": [
    "inverted_index = indexed_w_tokens\\\n",
    "    .selectExpr('index', 'explode(normalized) AS term')\\\n",
    "    .distinct()\\\n",
    "    .groupBy('term').agg(collect_set('index').alias('documents'))\\\n",
    "    .persist()"
   ]
  },
  {
   "cell_type": "code",
   "execution_count": 14,
   "metadata": {
    "colab": {
     "base_uri": "https://localhost:8080/",
     "height": 301
    },
    "colab_type": "code",
    "id": "BXjWNWclSy91",
    "outputId": "b84a97b3-2529-4710-f44c-4f2eead4903b"
   },
   "outputs": [
    {
     "name": "stdout",
     "output_type": "stream",
     "text": [
      "+--------------------+--------------------+\n",
      "|                term|           documents|\n",
      "+--------------------+--------------------+\n",
      "|        accumulation|               [191]|\n",
      "|          adventists|              [1951]|\n",
      "|           amplifier|  [1278, 1201, 1246]|\n",
      "|            antennae|        [1461, 1401]|\n",
      "|             aprdlss|               [268]|\n",
      "|aprgalileoccroche...|[372, 1853, 917, ...|\n",
      "|          aprsqsqcom|              [1438]|\n",
      "|               argle|               [464]|\n",
      "|           arguments|        [1828, 1676]|\n",
      "|                 art|[1561, 901, 866, ...|\n",
      "+--------------------+--------------------+\n",
      "only showing top 10 rows\n",
      "\n"
     ]
    }
   ],
   "source": [
    "inverted_index.show(10)"
   ]
  },
  {
   "cell_type": "markdown",
   "metadata": {
    "colab_type": "text",
    "id": "AlqREv6JQ_DG"
   },
   "source": [
    "This is our inverted index. We can see that the term \"amplifier\" occurs in documents 630, 624, and 654. With this information, we can quickly find all documents that contain particular terms.\n",
    "\n",
    "Another benefit is that this inverted index is based on the size of our vocabulary, not on the amount of text in our corpus, so it is not big data. The inverted index grows only with new terms and document indices. For very large corpora, this can still be a large amount of data for a single machine. In the case of the mini_newsgroups data set, however, it is easily manageable.\n",
    "\n",
    "Let's see how big our inverted index is."
   ]
  },
  {
   "cell_type": "code",
   "execution_count": 15,
   "metadata": {
    "colab": {
     "base_uri": "https://localhost:8080/",
     "height": 34
    },
    "colab_type": "code",
    "id": "UoOvo464S14l",
    "outputId": "70bdf139-676f-46bd-9b08-4ccf5238b4e5"
   },
   "outputs": [
    {
     "data": {
      "text/plain": [
       "42624"
      ]
     },
     "execution_count": 15,
     "metadata": {},
     "output_type": "execute_result"
    }
   ],
   "source": [
    "inverted_index.count()"
   ]
  },
  {
   "cell_type": "markdown",
   "metadata": {
    "colab_type": "text",
    "id": "19UFC0eIQ_HF"
   },
   "source": [
    "For us, since we have such a small number of documents, the inverted index has more entries than the index.  Word frequencies follow Zipf's law—that is, the frequency of a word is inversely proportional to its rank when sorted. As a result, the most-used English words are already in our inverted index. This can be further constrained by not tracking words that don't occur at least a certain number of times."
   ]
  },
  {
   "cell_type": "code",
   "execution_count": 16,
   "metadata": {
    "colab": {},
    "colab_type": "code",
    "id": "LMhONbLUS4NO"
   },
   "outputs": [],
   "source": [
    "inverted_index = {\n",
    "    term: set(docs) \n",
    "    for term, docs in inverted_index.collect()\n",
    "}"
   ]
  },
  {
   "cell_type": "markdown",
   "metadata": {
    "colab_type": "text",
    "id": "jJ5GPZwTQ_K1"
   },
   "source": [
    " Now we can begin our most basic ranking function—simple Boolean search. In this case, let's look up all the documents that contain the words \"language\" or \"information.\""
   ]
  },
  {
   "cell_type": "code",
   "execution_count": 17,
   "metadata": {
    "colab": {
     "base_uri": "https://localhost:8080/",
     "height": 52
    },
    "colab_type": "code",
    "id": "6zVLvGtgS7Sl",
    "outputId": "f91bee67-e03a-4874-a6f7-ac727e141a57"
   },
   "outputs": [
    {
     "name": "stdout",
     "output_type": "stream",
     "text": [
      "docs 1287, 1928, 136, 1549, 141, 1552, 1554, 1556, 1943, 1560,  ...\n",
      "number of docs 44\n"
     ]
    }
   ],
   "source": [
    "lang_docs = inverted_index['language']\n",
    "print('docs', ('{}, ' * 10).format(*list(lang_docs)[:10]), '...')\n",
    "print('number of docs', len(lang_docs))"
   ]
  },
  {
   "cell_type": "code",
   "execution_count": 18,
   "metadata": {
    "colab": {
     "base_uri": "https://localhost:8080/",
     "height": 52
    },
    "colab_type": "code",
    "id": "739eLjUxS88m",
    "outputId": "3099302f-9914-4b4c-8dfc-d7bfaacbd2a9"
   },
   "outputs": [
    {
     "name": "stdout",
     "output_type": "stream",
     "text": [
      "docs 1542, 521, 543, 545, 1570, 34, 547, 35, 554, 46,  ...\n",
      "number of docs 215\n"
     ]
    }
   ],
   "source": [
    "info_docs = inverted_index['information']\n",
    "print('docs', ('{}, ' * 10).format(*list(info_docs)[:10]), '...')\n",
    "print('number of docs', len(info_docs))"
   ]
  },
  {
   "cell_type": "code",
   "execution_count": 19,
   "metadata": {
    "colab": {
     "base_uri": "https://localhost:8080/",
     "height": 34
    },
    "colab_type": "code",
    "id": "xh430LyfS-pu",
    "outputId": "91ff7f28-15c7-470d-c4bb-bea90acad6ae"
   },
   "outputs": [
    {
     "name": "stdout",
     "output_type": "stream",
     "text": [
      "number of docs in filter set 246\n"
     ]
    }
   ],
   "source": [
    "filter_set = list(lang_docs | info_docs)\n",
    "print('number of docs in filter set', len(filter_set))"
   ]
  },
  {
   "cell_type": "code",
   "execution_count": 20,
   "metadata": {
    "colab": {
     "base_uri": "https://localhost:8080/",
     "height": 34
    },
    "colab_type": "code",
    "id": "d8DNwQXpS__H",
    "outputId": "c435310d-d912-4cc3-a7b0-e53873a683ea"
   },
   "outputs": [
    {
     "name": "stdout",
     "output_type": "stream",
     "text": [
      "number of docs in intersection set 13\n"
     ]
    }
   ],
   "source": [
    "intersection = list(lang_docs & info_docs)\n",
    "print('number of docs in intersection set', len(intersection))"
   ]
  },
  {
   "cell_type": "markdown",
   "metadata": {
    "colab_type": "text",
    "id": "LmEqFVo9Q_Of"
   },
   "source": [
    "Let's print out lines from our filter set. Here, the filter set is the result set, but generally, the filter set is ranked by $r(q, D)$, which results in the result set.\n",
    "\n",
    "Let's look at the lines in which we see the occurrences, to get an idea about our result set."
   ]
  },
  {
   "cell_type": "code",
   "execution_count": 21,
   "metadata": {
    "colab": {
     "base_uri": "https://localhost:8080/",
     "height": 283
    },
    "colab_type": "code",
    "id": "W9v526f1TD4-",
    "outputId": "5e30bfc3-6d5d-42d8-b331-eac286b848a7"
   },
   "outputs": [
    {
     "name": "stdout",
     "output_type": "stream",
     "text": [
      "53222 length: 2647\n",
      "36 |> Now you are letting an omniscient being give information to me.  This\n",
      "\n",
      "53235 length: 2801\n",
      "31 >>Now you are letting an omniscient being give information to me.  This\n",
      "38 Omniscience is fine, as long as information is not given away.  Isn't\n",
      "\n",
      "53291 length: 2679\n",
      "42 We simply learn it (most of it) early, along with language (which is one\n",
      "\n",
      "53369 length: 3444\n",
      "53 As to \"Macroevolution\":  please give references and more information.  From\n",
      "\n",
      "53564 length: 19619\n",
      "45 provide any useful information which might allow us to discriminate between\n",
      "257 > say we had a common language. You said that by the existence of God \n",
      "\n"
     ]
    }
   ],
   "source": [
    "k = 1\n",
    "for i in filter_set:\n",
    "    path, text = doc_index.loc[i]\n",
    "    lines = text.split('\\n')\n",
    "    print(path.split('/')[-1], 'length:', len(text))\n",
    "    for line_number, line in enumerate(lines):\n",
    "        if 'information' in line or 'language' in line:\n",
    "            print(line_number, line)\n",
    "    print()\n",
    "    k += 1\n",
    "    if k > 5:\n",
    "        break"
   ]
  },
  {
   "cell_type": "markdown",
   "metadata": {
    "colab_type": "text",
    "id": "8hBgMW0fQ_R-"
   },
   "source": [
    "Now that we have our result set, how should we rank our results? We could just count the number of occurrences of our search term, but that would be biased toward long documents. Also, what happens if our query includes a very common word like \"the\"? If we just use the counts, common words like \"the\" will dominate our results. In our result set, the one with the most occurrences of the query terms has the longest text. We could say that the more terms found in the document, the more relevant the document is, but this has problems too. What do we do with one-term queries? In our example, only one document has both. Again, if our query has a common word—for example, \"the cat in the hat\"—should \"the\" and \"in\" have the same importance as \"cat\" and \"hat\"? To solve this problem, we need a more flexible model for our documents and queries."
   ]
  },
  {
   "cell_type": "markdown",
   "metadata": {
    "colab_type": "text",
    "id": "dcqXlrEdQ_V7"
   },
   "source": [
    "## Vector Space Model\n",
    "\n",
    "In the previous chapter, we introduced the concept of vectorizing documents. We talked about creating binary vectors, where 1 means that the word is present in the document. We can also use the counts.\n",
    "\n",
    "When we convert a corpus to a collection of vectors, we are implicitly modeling our language as a vector space. In this vector space, each dimension represents one term. This has many benefits and drawbacks. It is a simple way to represent our text in a manner that allows machine learning algorithms to work with it. It also allows us to represent the vectors sparsely. On the other hand, we lose the information contained in the word order. This process also creates high dimensional data sets, which can be problematic to some algorithms.\n",
    "\n",
    "Let's calculate the vectors for our data set. In the previous chapter, we used the `CountVectorizer` for this. We will build the vectors in Python, but the way we will build them will help us understand how libraries implement vectorization."
   ]
  },
  {
   "cell_type": "code",
   "execution_count": 22,
   "metadata": {
    "colab": {},
    "colab_type": "code",
    "id": "AJbqMiTBTOsO"
   },
   "outputs": [],
   "source": [
    "class SparseVector(object):\n",
    "    \n",
    "    def __init__(self, indices, values, length):\n",
    "        # if the indices are not in ascending order, we need \n",
    "        # to sort them\n",
    "        is_ascending = True\n",
    "        for i in range(len(indices) - 1):\n",
    "            is_ascending = is_ascending and indices[i] < indices[i+1]\n",
    "        if not is_ascending:\n",
    "            pairs = zip(indices, values)\n",
    "            sorted_pairs = sorted(pairs, key=lambda x: x[0])\n",
    "            indices, values = zip(*sorted_pairs)\n",
    "        self.indices = indices\n",
    "        self.values = values\n",
    "        self.length = length\n",
    "        \n",
    "    def __getitem__(self, index):\n",
    "        try:\n",
    "            return self.values[self.indices.index(index)]\n",
    "        except ValueError:\n",
    "            return 0.0\n",
    "        \n",
    "    def dot(self, other):\n",
    "        assert isinstance(other, SparseVector)\n",
    "        assert self.length == other.length\n",
    "        res = 0\n",
    "        i = j = 0\n",
    "        while i < len(self.indices) and j < len(other.indices):\n",
    "            if self.indices[i] == other.indices[j]:\n",
    "                res += self.values[i] * other.values[j]\n",
    "                i += 1\n",
    "                j += 1\n",
    "            elif self.indices[i] < other.indices[j]:\n",
    "                i += 1\n",
    "            elif self.indices[i] > other.indices[j]:\n",
    "                j += 1\n",
    "        return res\n",
    "    \n",
    "    def hadamard(self, other):\n",
    "        assert isinstance(other, SparseVector)\n",
    "        assert self.length == other.length\n",
    "        res_indices = []\n",
    "        res_values = []\n",
    "        i = j = 0\n",
    "        while i < len(self.indices) and j < len(other.indices):\n",
    "            if self.indices[i] == other.indices[j]:\n",
    "                res_indices.append(self.indices[i])\n",
    "                res_values.append(self.values[i] * other.values[j])\n",
    "                i += 1\n",
    "                j += 1\n",
    "            elif self.indices[i] < other.indices[j]:\n",
    "                i += 1\n",
    "            elif self.indices[i] > other.indices[j]:\n",
    "                j += 1\n",
    "        return SparseVector(res_indices, res_values, self.length)\n",
    "    \n",
    "    def sum(self):\n",
    "        return sum(self.values)\n",
    "    \n",
    "    def __repr__(self):\n",
    "        return 'SparseVector({}, {})'.format(\n",
    "            dict(zip(self.indices, self.values)), self.length)"
   ]
  },
  {
   "cell_type": "markdown",
   "metadata": {
    "colab_type": "text",
    "id": "QfZZAgFsQ_Z8"
   },
   "source": [
    "We need to make two passes over all the documents. In the first pass, we will get our vocabulary and the counts. In the second pass we will construct the vectors."
   ]
  },
  {
   "cell_type": "code",
   "execution_count": 23,
   "metadata": {
    "colab": {},
    "colab_type": "code",
    "id": "bO4hXavnTTQe"
   },
   "outputs": [],
   "source": [
    "from collections import Counter\n",
    "\n",
    "vocabulary = set()\n",
    "vectors = {}\n",
    "\n",
    "for row in indexed_w_tokens.toLocalIterator():\n",
    "    counts = Counter(row['normalized'])\n",
    "    vocabulary.update(counts.keys())\n",
    "    vectors[row['index']] = counts\n",
    "    \n",
    "vocabulary = list(sorted(vocabulary))\n",
    "inv_vocabulary = {term: ix for ix, term in enumerate(vocabulary)}\n",
    "vocab_len = len(vocabulary)"
   ]
  },
  {
   "cell_type": "markdown",
   "metadata": {
    "colab_type": "text",
    "id": "nmzjxgYtQ_d8"
   },
   "source": [
    "Now that we have this information, we need to go back over our word counts and construct actual vectors."
   ]
  },
  {
   "cell_type": "code",
   "execution_count": 24,
   "metadata": {
    "colab": {},
    "colab_type": "code",
    "id": "BxpqjYKuTVjm"
   },
   "outputs": [],
   "source": [
    "for index in vectors:\n",
    "    terms, values = zip(*vectors[index].items())\n",
    "    indices = [inv_vocabulary[term] for term in terms]\n",
    "    vectors[index] = SparseVector(indices, values, vocab_len)"
   ]
  },
  {
   "cell_type": "code",
   "execution_count": 25,
   "metadata": {
    "colab": {
     "base_uri": "https://localhost:8080/",
     "height": 54
    },
    "colab_type": "code",
    "id": "_zSfqJf3TXI-",
    "outputId": "71b443a5-bcec-49b7-dc29-0262d7402655"
   },
   "outputs": [
    {
     "data": {
      "text/plain": [
       "SparseVector({56: 1, 630: 1, 678: 1, 937: 1, 952: 1, 1031: 1, 1044: 1, 1203: 1, 1348: 1, 1396: 5, 1793: 1, 2828: 1, 3264: 3, 3598: 3, 3753: 1, 4742: 1, 5907: 1, 7990: 1, 7999: 1, 8451: 1, 8532: 1, 9570: 1, 11031: 1, 11731: 1, 12509: 1, 13555: 1, 13772: 1, 14918: 1, 15205: 1, 15350: 1, 15475: 1, 16266: 1, 16356: 1, 16865: 1, 17236: 2, 17627: 1, 17798: 1, 17931: 2, 18178: 1, 18329: 2, 18505: 1, 18730: 3, 18776: 1, 19346: 1, 19620: 1, 20381: 1, 20475: 1, 20594: 1, 20782: 1, 21831: 1, 21856: 1, 21907: 1, 22560: 1, 22565: 2, 22717: 1, 23714: 1, 23813: 1, 24145: 1, 24965: 3, 25937: 1, 26437: 1, 26438: 1, 26592: 1, 26674: 1, 26679: 1, 27091: 1, 27109: 1, 27491: 2, 27500: 1, 27670: 1, 28583: 1, 28864: 1, 29636: 1, 31652: 1, 31725: 1, 31862: 1, 33382: 1, 33923: 1, 34311: 1, 34451: 1, 34478: 1, 34778: 1, 34904: 1, 35034: 1, 35635: 1, 35724: 1, 36136: 1, 36596: 1, 36672: 1, 37048: 1, 37854: 1, 37867: 3, 37872: 1, 37876: 3, 37891: 1, 37907: 1, 37949: 1, 38002: 1, 38224: 1, 38225: 2, 38226: 3, 38317: 3, 38856: 1, 39818: 1, 40870: 1, 41238: 1, 41239: 1, 41240: 1, 41276: 1, 41292: 1, 41507: 1, 41731: 1, 42384: 2}, 42624)"
      ]
     },
     "execution_count": 25,
     "metadata": {},
     "output_type": "execute_result"
    }
   ],
   "source": [
    "vectors[42]"
   ]
  },
  {
   "cell_type": "code",
   "execution_count": 26,
   "metadata": {
    "colab": {
     "base_uri": "https://localhost:8080/",
     "height": 35
    },
    "colab_type": "code",
    "id": "_BihQzI6Taq6",
    "outputId": "2172799e-8e48-4047-869e-e87331a1085f"
   },
   "outputs": [
    {
     "data": {
      "text/plain": [
       "'be'"
      ]
     },
     "execution_count": 26,
     "metadata": {},
     "output_type": "execute_result"
    }
   ],
   "source": [
    "vocabulary[3598]"
   ]
  },
  {
   "cell_type": "code",
   "execution_count": 27,
   "metadata": {
    "colab": {
     "base_uri": "https://localhost:8080/",
     "height": 35
    },
    "colab_type": "code",
    "id": "DZ8VfqNXTcUd",
    "outputId": "b0b7ea75-7a19-4306-8d88-2a7964b5241b"
   },
   "outputs": [
    {
     "data": {
      "text/plain": [
       "'the'"
      ]
     },
     "execution_count": 27,
     "metadata": {},
     "output_type": "execute_result"
    }
   ],
   "source": [
    "vocabulary[37876]"
   ]
  },
  {
   "cell_type": "markdown",
   "metadata": {
    "colab_type": "text",
    "id": "-_2i8BqgQ_hu"
   },
   "source": [
    "As we discussed previously, there are many drawbacks to using only the counts for a search. The concern is that words that are generally common in English will have more impact than the less common words. There are a couple strategies for addressing this. First, let's look at the simplest solution—removing the common words."
   ]
  },
  {
   "cell_type": "markdown",
   "metadata": {
    "colab_type": "text",
    "id": "KuHdIzCnQ_lr"
   },
   "source": [
    "### Stop-Word Removal\n",
    "\n",
    "These common words we are looking to remove are called stop words.  This term was coined in the 1950s by Hans Peter Luhn, a pioneer in information retrieval. Default stop-word lists are available, but it is often necessary to modify generic stop-word lists for different tasks."
   ]
  },
  {
   "cell_type": "code",
   "execution_count": 28,
   "metadata": {
    "colab": {},
    "colab_type": "code",
    "id": "qERfCRj_Tijm"
   },
   "outputs": [],
   "source": [
    "from pyspark.ml.feature import StopWordsRemover\n",
    "\n",
    "sw_remover = StopWordsRemover() \\\n",
    "    .setInputCol(\"normalized\") \\\n",
    "    .setOutputCol(\"filtered\") \\\n",
    "    .setStopWords(StopWordsRemover.loadDefaultStopWords(\"english\"))\n",
    "\n",
    "filtered = sw_remover.transform(indexed_w_tokens)"
   ]
  },
  {
   "cell_type": "code",
   "execution_count": 29,
   "metadata": {
    "colab": {},
    "colab_type": "code",
    "id": "2pzc3jqKTj42"
   },
   "outputs": [],
   "source": [
    "from collections import Counter\n",
    "\n",
    "vocabulary_filtered = set()\n",
    "vectors_filtered = {}\n",
    "\n",
    "for row in filtered.toLocalIterator():\n",
    "    counts = Counter(row['filtered'])\n",
    "    vocabulary_filtered.update(counts.keys())\n",
    "    vectors_filtered[row['index']] = counts\n",
    "    \n",
    "vocabulary_filtered = list(sorted(vocabulary_filtered))\n",
    "inv_vocabulary_filtered = {\n",
    "    term: ix \n",
    "    for ix, term in enumerate(vocabulary_filtered)\n",
    "}\n",
    "vocab_len_filtered = len(vocabulary)"
   ]
  },
  {
   "cell_type": "code",
   "execution_count": 30,
   "metadata": {
    "colab": {
     "base_uri": "https://localhost:8080/",
     "height": 327
    },
    "colab_type": "code",
    "id": "5st3pBFDTlMl",
    "outputId": "a0893c49-486f-41e5-f669-6851389a854d"
   },
   "outputs": [],
   "source": [
    "for index in vectors:\n",
    "    terms, values = zip(*vectors_filtered[index].items())\n",
    "    indices = [inv_vocabulary_filtered[term] for term in terms]\n",
    "    vectors_filtered[index] = \\\n",
    "        SparseVector(indices, values, vocab_len_filtered)"
   ]
  },
  {
   "cell_type": "code",
   "execution_count": 31,
   "metadata": {
    "colab": {},
    "colab_type": "code",
    "id": "oRTfosZHTmiV"
   },
   "outputs": [
    {
     "data": {
      "text/plain": [
       "SparseVector({56: 1, 630: 1, 678: 1, 937: 1, 952: 1, 1031: 1, 1044: 1, 1203: 1, 1348: 1, 1396: 5, 1793: 1, 2828: 1, 3264: 3, 3598: 3, 3753: 1, 4742: 1, 5907: 1, 7990: 1, 7999: 1, 8451: 1, 8532: 1, 9570: 1, 11031: 1, 11731: 1, 12509: 1, 13555: 1, 13772: 1, 14918: 1, 15205: 1, 15350: 1, 15475: 1, 16266: 1, 16356: 1, 16865: 1, 17236: 2, 17627: 1, 17798: 1, 17931: 2, 18178: 1, 18329: 2, 18505: 1, 18730: 3, 18776: 1, 19346: 1, 19620: 1, 20381: 1, 20475: 1, 20594: 1, 20782: 1, 21831: 1, 21856: 1, 21907: 1, 22560: 1, 22565: 2, 22717: 1, 23714: 1, 23813: 1, 24145: 1, 24965: 3, 25937: 1, 26437: 1, 26438: 1, 26592: 1, 26674: 1, 26679: 1, 27091: 1, 27109: 1, 27491: 2, 27500: 1, 27670: 1, 28583: 1, 28864: 1, 29636: 1, 31652: 1, 31725: 1, 31862: 1, 33382: 1, 33923: 1, 34311: 1, 34451: 1, 34478: 1, 34778: 1, 34904: 1, 35034: 1, 35635: 1, 35724: 1, 36136: 1, 36596: 1, 36672: 1, 37048: 1, 37854: 1, 37867: 3, 37872: 1, 37876: 3, 37891: 1, 37907: 1, 37949: 1, 38002: 1, 38224: 1, 38225: 2, 38226: 3, 38317: 3, 38856: 1, 39818: 1, 40870: 1, 41238: 1, 41239: 1, 41240: 1, 41276: 1, 41292: 1, 41507: 1, 41731: 1, 42384: 2}, 42624)"
      ]
     },
     "execution_count": 31,
     "metadata": {},
     "output_type": "execute_result"
    }
   ],
   "source": [
    "vectors[42]"
   ]
  },
  {
   "cell_type": "code",
   "execution_count": 32,
   "metadata": {
    "colab": {},
    "colab_type": "code",
    "id": "9KBokm-ITngm"
   },
   "outputs": [
    {
     "data": {
      "text/plain": [
       "'bake'"
      ]
     },
     "execution_count": 32,
     "metadata": {},
     "output_type": "execute_result"
    }
   ],
   "source": [
    "vocabulary[3264]"
   ]
  },
  {
   "cell_type": "code",
   "execution_count": 33,
   "metadata": {
    "colab": {},
    "colab_type": "code",
    "id": "23RFfV9gToUs"
   },
   "outputs": [
    {
     "data": {
      "text/plain": [
       "'timmons'"
      ]
     },
     "execution_count": 33,
     "metadata": {},
     "output_type": "execute_result"
    }
   ],
   "source": [
    "vocabulary[38226]"
   ]
  },
  {
   "cell_type": "markdown",
   "metadata": {
    "colab_type": "text",
    "id": "5-g1WnOdTqxq"
   },
   "source": [
    "The words \"bake\" and \"timmons\" seem more informative. You should explore your data when determining what words should be included in the stop-word list.\n",
    "\n",
    "It may seem like a daunting task to list all the words we don't want. However, recalling what we discussed about morphology, we can narrow down what we want to remove. We want to remove unbound function morphemes.\n",
    "\n",
    "A fluent speaker of a language, who knows these basics of morphology, is able to create a reasonably good list. However, this still leaves two concerns. What if we need to keep some common words? What if we want to remove some common lexical morphemes? You can modify the list, but that still leaves one last concern. How do we handle queries like \"fictional cats\"? The word \"fictional\" is less common than \"cats,\" so it makes sense that the former should be more important in determining what documents are returned. Let's look at how we can implement this using our data."
   ]
  },
  {
   "cell_type": "markdown",
   "metadata": {
    "colab_type": "text",
    "id": "wWQz-sPCTtXK"
   },
   "source": [
    "## Inverse Document Frequency\n",
    "\n",
    "Instead of manually editing our vocabulary, we can try and weight the words. We need to find some way of weighting the words using their \"commonness.\" One way to define \"commonness\" is by identifying the number of documents in our corpus that contain the word.  This is generally called document frequency. We want words with high document frequency to be down-weighted, so we are interested in using inverse document frequency (IDF).\n",
    "\n",
    " We take these values and multiply them by the term frequencies, which are the frequencies of words in a given document.  The result of multiplying inverse document frequency by term frequency gives us the TF.IDF.\n",
    "\n",
    "\\begin{equation}\n",
    "\\begin{aligned} \n",
    "tf(t, d) &= \\text{the number of times } t \\text{ occurs in } d\\\\ \n",
    "df(t) &= \\text{the number of documents } t \\text{ occurs in }\\\\ \n",
    "idf(t) &= \\frac{\\text{the number of documents}}{df(t)} \n",
    "\\end{aligned}\n",
    "\\end{equation}\n",
    "\n",
    "There are many different flavors of TF.IDF. The most common kind is smoothed logarithmic.\n",
    "\n",
    "\\begin{equation}\n",
    "\\begin{aligned} \n",
    "tf(t, d) &= log(1 + \\text{the number of times } t \\text{ occurs in } d)\\\\ \n",
    "df(t) &= \\text{the number of documents } t \\text{ occurs in }\\\\ \n",
    "idf(t) &= log(\\frac{\\text{the number of documents}}{1+df(t)}) \n",
    "\\end{aligned}\n",
    "\\end{equation}\n",
    "\n",
    "Let's calculate this with our vectors. We actually already have the term frequency, so all we need to do is calculate the idf, transform the values with log, and multiply tf and idf."
   ]
  },
  {
   "cell_type": "code",
   "execution_count": 34,
   "metadata": {
    "colab": {},
    "colab_type": "code",
    "id": "zterCIAPTpeW"
   },
   "outputs": [],
   "source": [
    "idf = Counter()\n",
    "\n",
    "for vector in vectors.values():\n",
    "    idf.update(vector.indices)"
   ]
  },
  {
   "cell_type": "code",
   "execution_count": 35,
   "metadata": {
    "colab": {
     "base_uri": "https://localhost:8080/",
     "height": 372
    },
    "colab_type": "code",
    "id": "mJ7zqoyyUA2n",
    "outputId": "e46fcb83-7121-4a09-dbf2-b27d5c2bee32"
   },
   "outputs": [
    {
     "name": "stdout",
     "output_type": "stream",
     "text": [
      "11031 date                 2000\n",
      "15475 from                 2000\n",
      "23813 messageid            2000\n",
      "26438 newsgroups           2000\n",
      "28583 path                 2000\n",
      "36672 subject              2000\n",
      "21907 lines                1993\n",
      "27897 organization         1925\n",
      "37876 the                  1874\n",
      " 1793 apr                  1861\n",
      " 3598 be                   1837\n",
      "38317 to                   1767\n",
      "27500 of                   1756\n",
      "   56 a                    1730\n",
      "16266 gmt                  1717\n",
      "18329 i                    1708\n",
      "18730 in                   1695\n",
      " 1396 and                  1674\n",
      "15166 for                  1474\n",
      "17238 have                 1459\n"
     ]
    }
   ],
   "source": [
    "for ix, count in idf.most_common(20):\n",
    "    print('{:5d} {:20s} {:d}'.format(ix, vocabulary[ix], count))"
   ]
  },
  {
   "cell_type": "markdown",
   "metadata": {
    "colab_type": "text",
    "id": "bSbzK0weUC_T"
   },
   "source": [
    "We can now make `idf` a `SparseVector`. We know it contains all the words, so it actually won't be sparse, but this will help us implement the next steps."
   ]
  },
  {
   "cell_type": "code",
   "execution_count": 36,
   "metadata": {
    "colab": {},
    "colab_type": "code",
    "id": "1BgzEwQqUB3n"
   },
   "outputs": [],
   "source": [
    "indices, values = zip(*idf.items())\n",
    "idf = SparseVector(indices, values, vocab_len)"
   ]
  },
  {
   "cell_type": "code",
   "execution_count": 37,
   "metadata": {
    "colab": {},
    "colab_type": "code",
    "id": "BlIvNuCYUJkM"
   },
   "outputs": [],
   "source": [
    "from math import log\n",
    "\n",
    "for index, vector in vectors.items():\n",
    "    vector.values = list(map(lambda v: log(1+v), vector.values))\n",
    "    \n",
    "idf.values = list(map(lambda v: log(vocab_len / (1+v)), idf.values))"
   ]
  },
  {
   "cell_type": "code",
   "execution_count": 38,
   "metadata": {
    "colab": {},
    "colab_type": "code",
    "id": "wjSH7dhCULF2"
   },
   "outputs": [],
   "source": [
    "tfidf = {index: tf.hadamard(idf) for index, tf in vectors.items()}"
   ]
  },
  {
   "cell_type": "code",
   "execution_count": 39,
   "metadata": {
    "colab": {
     "base_uri": "https://localhost:8080/",
     "height": 54
    },
    "colab_type": "code",
    "id": "YYr-VMsJUM41",
    "outputId": "a0bdd35e-97a3-41d1-a33f-bd839d03f295"
   },
   "outputs": [
    {
     "data": {
      "text/plain": [
       "SparseVector({56: 2.2206482367540246, 630: 5.866068667810157, 678: 5.793038323439593, 937: 2.7785503981772224, 952: 5.157913986067814, 1031: 3.1155266860133186, 1044: 3.968751994351692, 1203: 6.428162660811372, 1348: 5.793038323439593, 1396: 5.799216419943404, 1793: 2.170081831108205, 2828: 4.965474330610754, 3264: 12.294231328621528, 3598: 4.358148273729854, 3753: 4.720349733782813, 4742: 5.6111812732442665, 5907: 6.908615674729574, 7990: 4.130943975821381, 7999: 6.428162660811372, 8451: 5.6111812732442665, 8532: 5.947709646893171, 9570: 4.495603921954286, 11031: 2.120178092129274, 11731: 6.908615674729574, 12509: 6.428162660811372, 13555: 3.8457087660915668, 13772: 6.908615674729574, 14918: 3.419520318911636, 15205: 4.434404150246973, 15350: 4.7057566225561605, 15475: 2.120178092129274, 16266: 2.2258734939416858, 16356: 3.0996908591728154, 16865: 4.15661902885097, 17236: 10.188396765921954, 17627: 3.7594437059464094, 17798: 6.908615674729574, 17931: 8.420248497473501, 18178: 5.0793605273706985, 18329: 3.533696391776262, 18505: 5.215709713214468, 18730: 4.469613946356329, 18776: 3.716554944313209, 19346: 3.3778970845637106, 19620: 2.3618368673030767, 20381: 2.9300944006545797, 20475: 6.428162660811372, 20594: 4.905162639973754, 20782: 6.428162660811372, 21831: 3.9022348264527764, 21856: 2.9124897164449766, 21907: 2.122607146061414, 22560: 5.511991326938985, 22565: 10.188396765921954, 22717: 3.005357105024148, 23714: 4.44423618999892, 23813: 2.120178092129274, 24145: 3.6018290779405167, 24965: 5.971523066893281, 25937: 3.80911185262714, 26437: 4.782003432933042, 26438: 2.120178092129274, 26592: 6.627568678228966, 26674: 4.190110914454898, 26679: 6.908615674729574, 27091: 2.525525469166888, 27109: 3.9067800701531485, 27491: 8.420248497473501, 27500: 2.2103144291312424, 27670: 2.4774960668971637, 28583: 2.120178092129274, 28864: 3.127275224570247, 29636: 6.273491337357794, 31652: 2.394502981975367, 31725: 4.663734836871585, 31862: 5.031538313020784, 33382: 6.908615674729574, 33923: 5.666662650392563, 34311: 3.4638035982191497, 34451: 2.545069794956802, 34478: 5.385615653891955, 34778: 6.908615674729574, 34904: 6.908615674729574, 35034: 6.908615674729574, 35635: 2.923440136616142, 35724: 6.908615674729574, 36136: 5.793038323439593, 36596: 4.44423618999892, 36672: 2.120178092129274, 37048: 5.6111812732442665, 37854: 3.08281828944808, 37867: 4.711941977472617, 37872: 3.666426081643061, 37876: 4.3305185461380855, 37891: 5.726974341029564, 37907: 3.2089162036532604, 37949: 4.143662629554945, 38002: 4.56273510577692, 38224: 6.428162660811372, 38225: 9.94324851831112, 38226: 12.546982674715588, 38317: 4.411976780264565, 38856: 3.3306420937974632, 39818: 4.720349733782813, 40870: 5.215709713214468, 41238: 6.908615674729574, 41239: 6.908615674729574, 41240: 6.908615674729574, 41276: 6.273491337357794, 41292: 3.3306420937974632, 41507: 2.530516649549088, 41731: 2.4998956290056062, 42384: 3.8444034764394415}, 42624)"
      ]
     },
     "execution_count": 39,
     "metadata": {},
     "output_type": "execute_result"
    }
   ],
   "source": [
    "tfidf[42]"
   ]
  },
  {
   "cell_type": "markdown",
   "metadata": {
    "colab_type": "text",
    "id": "18NRqZaUUOzz"
   },
   "source": [
    "Let's look at the TF.IDF values for \"be\" and \"the.\" Let's also look at one of the terms with a higher TF.IDF than these common words."
   ]
  },
  {
   "cell_type": "code",
   "execution_count": 40,
   "metadata": {
    "colab": {
     "base_uri": "https://localhost:8080/",
     "height": 34
    },
    "colab_type": "code",
    "id": "9JnDCgsTUN5O",
    "outputId": "c99cc4b7-6a25-4f5f-d21a-5bfdd322c113"
   },
   "outputs": [
    {
     "data": {
      "text/plain": [
       "4.358148273729854"
      ]
     },
     "execution_count": 40,
     "metadata": {},
     "output_type": "execute_result"
    }
   ],
   "source": [
    "tfidf[42][3598] # be"
   ]
  },
  {
   "cell_type": "code",
   "execution_count": 41,
   "metadata": {
    "colab": {
     "base_uri": "https://localhost:8080/",
     "height": 34
    },
    "colab_type": "code",
    "id": "s_frfQ5EURjm",
    "outputId": "efe5500f-e03d-4c0c-8323-d74ac05b83f2"
   },
   "outputs": [
    {
     "data": {
      "text/plain": [
       "4.3305185461380855"
      ]
     },
     "execution_count": 41,
     "metadata": {},
     "output_type": "execute_result"
    }
   ],
   "source": [
    "tfidf[42][37876] # the"
   ]
  },
  {
   "cell_type": "code",
   "execution_count": 42,
   "metadata": {
    "colab": {
     "base_uri": "https://localhost:8080/",
     "height": 34
    },
    "colab_type": "code",
    "id": "qqaZmS5aUSrF",
    "outputId": "0ffdbb0e-9439-47d3-abee-61d236a762ab"
   },
   "outputs": [
    {
     "data": {
      "text/plain": [
       "('hausmann', 10.188396765921954)"
      ]
     },
     "execution_count": 42,
     "metadata": {},
     "output_type": "execute_result"
    }
   ],
   "source": [
    "vocabulary[17236], tfidf[42][17236]"
   ]
  },
  {
   "cell_type": "markdown",
   "metadata": {
    "colab_type": "text",
    "id": "xjo1dMRlUWy5"
   },
   "source": [
    "Let's look at the document to get an idea of why this word is so important."
   ]
  },
  {
   "cell_type": "code",
   "execution_count": 43,
   "metadata": {
    "colab": {
     "base_uri": "https://localhost:8080/",
     "height": 425
    },
    "colab_type": "code",
    "id": "q0DCjrBNUUBU",
    "outputId": "abb31829-dac8-4f52-ae6d-d0a54033f8c8"
   },
   "outputs": [
    {
     "name": "stdout",
     "output_type": "stream",
     "text": [
      "Path: cantaloupe.srv.cs.cmu.edu!das-news.harvard.edu!noc.near.net!howland.reston.ans.net!agate!dog.ee.lbl.gov!network.ucsd.edu!ucsbcsl!mcl!timmbake\n",
      "From: timmbake@mcl.ucsb.edu (Bake Timmons)\n",
      "Newsgroups: alt.atheism\n",
      "Subject: Re: Amusing atheists and agnostics\n",
      "Message-ID: <timmbake.735285604@mcl>\n",
      "Date: 20 Apr 93 06:00:04 GMT\n",
      "Sender: news@ucsbcsl.ucsb.edu\n",
      "Lines: 32\n",
      "\n",
      "\n",
      "Maddi Hausmann chirps:\n",
      "\n",
      ">timmbake@mcl.ucsb.edu (Bake Timmons) writes: >\n",
      "\n",
      ">>First of all, you seem to be a reasonable guy.  Why not try to be more >honest\n",
      ">>and include my sentence afterwards that\n",
      "\n",
      ">Honest, it just ended like that, I swear!\n",
      "\n",
      "That's nice.\n",
      "\n",
      ">Hmmmm...I recognize the warning signs...alternating polite and\n",
      ">rude...coming into newsgroup with huge chip on shoulder...calls\n",
      ">people names and then makes nice...whirrr...click...whirrr\n",
      "\n",
      "You forgot the third equality...whirrr...click...whirrr...see below...\n",
      "\n",
      ">Whirr click whirr...Frank O'Dwyer might also be contained\n",
      ">in that shell...pop stack to determine...whirr...click..whirr\n",
      "\n",
      ">\"Killfile\" Keith Allen Schneider = Frank \"Closet Theist\" O'Dwyer = ...\n",
      "\n",
      "= Maddi \"The Mad Sound-O-Geek\" Hausmann\n",
      "\n",
      "...whirrr...click...whirrr\n",
      "\n",
      "--\n",
      "Bake Timmons, III\n",
      "\n",
      "-- \"...there's nothing higher, stronger, more wholesome and more useful in life\n",
      "than some good memory...\" -- Alyosha in Brothers Karamazov (Dostoevsky)\n",
      "\n"
     ]
    }
   ],
   "source": [
    "print(doc_index.loc[42]['text'])"
   ]
  },
  {
   "cell_type": "markdown",
   "metadata": {
    "colab_type": "text",
    "id": "vizSpsjWUZuw"
   },
   "source": [
    "We can see the document is talking about some person named \"Maddi Hausman.\""
   ]
  },
  {
   "cell_type": "markdown",
   "metadata": {
    "colab_type": "text",
    "id": "kokWBdX3Uc3O"
   },
   "source": [
    "## In Spark\n",
    "Spark has stages for calculating TF.IDF in MLlib. If you have a column that contains arrays of strings, you can use either `CountVectorizer`, which we are already familiar with, or `HashingTF` to get the `tf` values.   `HashingTF` uses the hashing trick, in which you decide on a vector space beforehand, and hash the words into that vector space. If there is a collision, then those words will be counted as the same. This lets you trade off between memory efficiency and accuracy. As you make your predetermined vector space larger, the output vectors become larger, but the chance of collisions decreases.  \n",
    "\n",
    "Now that we know how to turn a document into a vector, in the next chapter we can explore how we can use that vector in classic machine learning tasks.  \n"
   ]
  },
  {
   "cell_type": "markdown",
   "metadata": {
    "colab_type": "text",
    "id": "EVWVYGpPUdQV"
   },
   "source": [
    "## Exercises\n",
    "\n",
    "Now that we have calculated the TF.IDF values, let's build a search function. First, we need a function to process the query."
   ]
  },
  {
   "cell_type": "code",
   "execution_count": 44,
   "metadata": {
    "colab": {},
    "colab_type": "code",
    "id": "AQuCca3fUo4V"
   },
   "outputs": [],
   "source": [
    "def process_query(query, pipeline):\n",
    "    data = spark.createDataFrame([(query,)], ['text'])\n",
    "    return pipeline.transform(data).first()['normalized']"
   ]
  },
  {
   "cell_type": "markdown",
   "metadata": {
    "colab_type": "text",
    "id": "qBhECZ7uUeAc"
   },
   "source": [
    "Then we need a function to get the filter set."
   ]
  },
  {
   "cell_type": "code",
   "execution_count": 45,
   "metadata": {
    "colab": {},
    "colab_type": "code",
    "id": "3CVea6-GUrsc"
   },
   "outputs": [],
   "source": [
    "def get_filter_set(processed_query):\n",
    "    filter_set = set()\n",
    "    # find all the documents that contain any of the terms\n",
    "    return filter_set"
   ]
  },
  {
   "cell_type": "markdown",
   "metadata": {
    "colab_type": "text",
    "id": "0cRDfFiYUeQE"
   },
   "source": [
    "Next, we need a function that will compute the score for the document."
   ]
  },
  {
   "cell_type": "code",
   "execution_count": 46,
   "metadata": {
    "colab": {},
    "colab_type": "code",
    "id": "Uilzw8wNUuak"
   },
   "outputs": [],
   "source": [
    "def get_score(index, terms):\n",
    "    return # return a single score"
   ]
  },
  {
   "cell_type": "markdown",
   "metadata": {
    "colab_type": "text",
    "id": "ifsg1LrRUeZe"
   },
   "source": [
    "We also want a function for displaying results."
   ]
  },
  {
   "cell_type": "code",
   "execution_count": 47,
   "metadata": {
    "colab": {},
    "colab_type": "code",
    "id": "CS4jATYIUx0e"
   },
   "outputs": [],
   "source": [
    "def display(index, score, terms):\n",
    "    hits = [term for term in terms if term in vocabulary and tfidf[index][inv_vocabulary[term]] > 0.]\n",
    "    print('terms', terms, 'hits', hits)\n",
    "    print('score', score)\n",
    "    print('path', path)\n",
    "    print('length', len(doc_index.loc[index]['text']))"
   ]
  },
  {
   "cell_type": "markdown",
   "metadata": {
    "colab_type": "text",
    "id": "7EVZ6Co8UeGP"
   },
   "source": [
    "Finally, we are ready for our search function."
   ]
  },
  {
   "cell_type": "code",
   "execution_count": 48,
   "metadata": {
    "colab": {},
    "colab_type": "code",
    "id": "7xK5BeFNU0r8"
   },
   "outputs": [],
   "source": [
    "def search(query, pipeline, k=5):\n",
    "    processed_query = process_query(query, pipeline)\n",
    "    filter_set = get_filter_set(processed_query)\n",
    "    scored = {index: get_score(index, processed_query) for index in filter_set}\n",
    "    display_list = list(sorted(filter_set, key=scored.get, reverse=True))[:k]\n",
    "    for index in display_list:\n",
    "        display(index, scored[index], processed_query)"
   ]
  },
  {
   "cell_type": "code",
   "execution_count": 49,
   "metadata": {
    "colab": {},
    "colab_type": "code",
    "id": "6H-rH9u9U26Z"
   },
   "outputs": [],
   "source": [
    "search('search engine', pipeline)"
   ]
  },
  {
   "cell_type": "markdown",
   "metadata": {
    "colab_type": "text",
    "id": "ymWO9bM7Udnq"
   },
   "source": [
    "You should be able to implement `get_filter_set` and `get_score` easily using examples in this chapter. Try out a few queries. You will likely notice that there are two big limitations here. There is no N-gram support, and the ranker is biased toward longer documents. What could you modify to fix these problems?"
   ]
  },
  {
   "cell_type": "markdown",
   "metadata": {
    "colab_type": "text",
    "id": "oYQLGzG3UdD7"
   },
   "source": [
    "## Resources\n",
    "\n",
    "* An Introduction to Information Retrieval, by Christopher D. Manning, Prabhakar Raghavan, and Hinrich Schütze: this book covers many important aspects of information retrieval. Two of its three authors are also authors of Foundations of Statistical Natural Language Processing.\n",
    "* Apache Lucene: this is the most-used open source search engine. Often, one of the search platforms built on top of Lucene are used, Apache Solr or Elasticsearch.\n",
    "* Lucene in Action, 2nd ed., by Michael McCandless, Erik Hatcher, and Otis Gospodnetic (Manning Publications)\n",
    "A guide to implementing searches using Lucene\n",
    "* Elasticsearch: The Definitive Guide, by Clinton Gormley and Zachary Tong (O'Reilly)\n",
    "* A guide to implementing searches using Elasticsearch\n",
    "* Learning to Rank for Information Retrieval, by Tie-Yan Liu (Springer)\n",
    "  * Learning to rank, building machine learning–based rankers, is an important part of modern search engines. Tie-Yan Liu is one the most important contributors to the field of learning to rank. "
   ]
  }
 ],
 "metadata": {
  "colab": {
   "authorship_tag": "ABX9TyMIaEg7F+LPlp+o+g6nTGzQ",
   "include_colab_link": true,
   "name": "2.6_Information_Retrieval.ipynb",
   "provenance": []
  },
  "kernelspec": {
   "display_name": "Python 3",
   "language": "python",
   "name": "python3"
  },
  "language_info": {
   "codemirror_mode": {
    "name": "ipython",
    "version": 3
   },
   "file_extension": ".py",
   "mimetype": "text/x-python",
   "name": "python",
   "nbconvert_exporter": "python",
   "pygments_lexer": "ipython3",
   "version": "3.6.9"
  }
 },
 "nbformat": 4,
 "nbformat_minor": 1
}
