{
 "cells": [
  {
   "cell_type": "markdown",
   "metadata": {
    "colab": {
     "base_uri": "https://localhost:8080/",
     "height": 1000
    },
    "colab_type": "code",
    "id": "kSfFLZjiNdRI",
    "outputId": "fd7ed0ca-cc1d-42c0-e4bf-4106cdb94aff"
   },
   "source": [
    "install tesseract\n",
    "```\n",
    "sudo apt install tesseract-ocr\n",
    "sudo apt install libtesseract-dev\n",
    "```"
   ]
  },
  {
   "cell_type": "code",
   "execution_count": 1,
   "metadata": {
    "colab": {
     "base_uri": "https://localhost:8080/",
     "height": 70
    },
    "colab_type": "code",
    "id": "VHiheTwtRxwi",
    "outputId": "48612aa9-27cc-4cf8-bc78-909f6cc79e20"
   },
   "outputs": [
    {
     "name": "stdout",
     "output_type": "stream",
     "text": [
      "  % Total    % Received % Xferd  Average Speed   Time    Time     Time  Current\n",
      "                                 Dload  Upload   Total   Spent    Left  Speed\n",
      "100 14625  100 14625    0     0  66477      0 --:--:-- --:--:-- --:--:-- 66780\n"
     ]
    }
   ],
   "source": [
    "! curl https://i.imgur.com/WicCekw.png -o 'EHR_example.PNG'"
   ]
  },
  {
   "cell_type": "markdown",
   "metadata": {
    "colab_type": "text",
    "id": "z1ZTQdEfPPSA"
   },
   "source": [
    "# Object Character Recognition\n",
    " So far, we've dealt with writing stored as text data. However, a large portion of written data is stored as images. To use this data we need to convert it to text. This is different than our other NLP problems. In this problem, our knowledge of linguistics won't be as useful. This isn't the same as reading; it's merely character recognition. It is a much less intentional activity than speaking or listening to speech. Fortunately, writing systems tend to be easily distinguishable characters, especially in print. This means that image recognition techniques should work well on images of print text.\n",
    "\n",
    "Object character recognition (OCR) is the task of taking an image of written language (with characters) and converting it into text data. Modern solutions are neural-network based, and are essentially classifying sections of an image as containing a character. These classifications are then mapped into a character or string of characters in the text data.\n",
    "\n",
    "Let's talk about some of the possible inputs.\n",
    "\n",
    "## Kinds of OCR Tasks\n",
    " There are several kinds of OCR tasks. The tasks differ in what kind of image is the input, what kind of writing is in the image, and what is the target of the model."
   ]
  },
  {
   "cell_type": "markdown",
   "metadata": {
    "colab_type": "text",
    "id": "vd9-V33APPO9"
   },
   "source": [
    "### Images of Printed Text and PDFs to Text\n",
    "  Unfortunately, there are many systems that export their documents as images. Some will export as PDFs, but since there is such a wide variety of ways in which a document can be coded into a PDF, PDFs may not be better than images. The good news is that in a PDF the characters are represented very consistently (except for font and size differences) with a high-contrast background. Converting documents like this to text data is the easiest OCR task.\n",
    "\n",
    "This can be complicated if the images are actually scans of documents, which can introduce the following errors:\n",
    "\n",
    "* Print errors  \n",
    "The printer had a dirty head and produced blotches, or left lines in the text.\n",
    "* Paper problems   \n",
    "The paper is old, stained, or has creases. This can reduce the contrast and smudge or distort some parts of the image.\n",
    "* Scanning problems  \n",
    "The paper is skewed, which means that text is not in lines.\n",
    "\n",
    "### Images of Handwritten Text to Text\n",
    "  This situation still has the high-contrast background, but the consistency of characters is much worse. Additionally, the issue of text not being in lines can be much harder if a document has marginal notes. The well-worn data set of handwritten digits from the MNIST database is an example of this task.\n",
    "\n",
    "You will need some way to constrain this problem. For example, the MNIST data set is restricted to just 10 characters. Some electronic pen software constrains the problem by learning one person's handwriting. Trying to solve this problem for everyone's handwriting would be significantly more difficult. There is so much variety in writing styles that it is not uncommon for humans to be unable to read a stranger's handwriting. What the model learns in recognizing writing in letters from the American Civil War will be useless in recognizing doctors' notes or parsing signatures.\n",
    "\n",
    "### Images of Text in Environment to Text\n",
    " An example of images of text in an environment would be identifying what a sign says in a picture of a street. Generally, such text is printed, but the font and size can vary widely. There can also be distortions similar to the problems in our scanning example. The problem of skewed text in this type of image is more difficult than when scanned. When scanning, one dimension is fixed, so the paper can be assumed to be flat on the scanning bed. In the environment, text can be rotated in any way. For example, if you are building an OCR model for a self-driving car, some of the text will be to the right of the car, and some will be elevated above the car. There will also be text on the road. This means that the shapes of the letters will not be consistent.\n",
    "\n",
    "This problem is also often constrained. In most jurisdictions, there are some regulations on signage. For example, important instructions are limited and are published. This means that instead of needing to convert images to text, you can recognize particular signs. This changes the problem from OCR to object recognition. Even if you want to recognize location signs—for example, addresses and town names—there are usually specific colors that the signs are printed in. This means that your model can learn in stages.\n",
    "\n",
    "```\n",
    "Is this part of an image...\n",
    "\n",
    "- a sign\n",
    "- if so, is it a) instructions, or b) a place of interest\n",
    "- if a) classify it\n",
    "- if b) convert to text\n",
    "```"
   ]
  },
  {
   "cell_type": "markdown",
   "metadata": {
    "colab_type": "text",
    "id": "_5FOny6EPPMX"
   },
   "source": [
    "## Images of Text to Target\n",
    " In some situations, we may want to skip the text altogether. If we are classifying scanned documents, we can do this in two ways. First, we can convert to text and then use our text classification techniques. Second, we can simply do the classification directly on the images. There are couple of trade-offs.\n",
    "\n",
    "* Image to text to target\n",
    "\n",
    "  * Pro: we can examine the intermediate text to identify problems\n",
    "  * Pro: we can reuse the image-to-text and text-to-target models separately (especially valuable if some inputs are text and some are images)\n",
    "  * Cons: when converting to text, we may lose features in the image that could have helped us classify—for example, if there is an image in the letterhead that could give us a great signal\n",
    "\n",
    "* Image to target\n",
    "\n",
    "  * Pro: this is simpler—no need to develop and combine two separate models\n",
    "  * Pro: additional features, as mentioned previously\n",
    "  * Con: harder to debug problems, as mentioned previously\n",
    "  * Con: can only be reused on similar image-to-target problems\n",
    "\n",
    "It is better to start with the two-part approach because this will let you explore your data. Most image-to-text models today are neural nets, so adding some layers and retraining later in the project should not be too difficult."
   ]
  },
  {
   "cell_type": "markdown",
   "metadata": {
    "colab_type": "text",
    "id": "W5xahJdePPJt"
   },
   "source": [
    "## Note on Different Writing Systems\n",
    " The difficulty of the task is very much related to the writing system used. If you recall, in #natural_language_basics we defined the different families of writing systems.  Logographic systems are difficult because there are a much larger number of possible characters. This is difficult for two reasons. First, the obvious reason is that there are more classes to predict and therefore more parameters. Second, logographic systems will have many similar-looking characters, since all characters are dots, lines, and curves in a small box. There are also other complications that make a writing system difficult. In printed English, each character has a single form, but in cursive English, characters can have up to four forms—isolated, initial, medial, and final. Some writing systems have multiple forms even in printed text—for example, Arabic. Also, if a writing system makes much use of diacritics it can exacerbate problems like smudging and skewing (see amharic_tuesday). You will want to be wary of this with most abugidas—for example, Devanagari and some alphabets, like Polish and Vietnamese. \n",
    "\n",
    "![\"Maksannyo\" [Tuesday] in Amharic written in Ge'ez](https://i.imgur.com/0OXF8xL.png)  \n",
    "_\"Maksannyo\" [Tuesday] in Amharic written in Ge'ez_"
   ]
  },
  {
   "cell_type": "markdown",
   "metadata": {
    "colab_type": "text",
    "id": "HAYr4G20PPHC"
   },
   "source": [
    "## Problem Statement and Constraints\n",
    " In our example, we will be implementing an ETL pipeline for converting images to text. This tools is quite general in its purpose. One common use for a tool like this is to convert images of text from legacy systems into text data. Our example will be using a (fake) electronic medical record. We will be using Tesseract from Google. We will use Spark to spread the workload out so we can parallelize the processing. We will also use a pretrained pipeline to process the text before storing it.\n",
    "\n",
    "1. What is the problem we are trying to solve?\n",
    "\n",
    "We will build a script that will convert the images to text, process the text, and finally store it. We will separate the functionality so that we can potentially augment or improve these steps in the future.\n",
    "\n",
    "2. What constraints are there?\n",
    "\n",
    "We will be working only with images of printed English text. The documents will have only one column of text. In our fictitious scenario, we also know the content will be medically related, but that will not affect this implementation\n",
    "\n",
    "3. How do we solve the problem with the constraints?\n",
    "\n",
    "We want a repeatable way to convert images to text, process the text, and store it."
   ]
  },
  {
   "cell_type": "markdown",
   "metadata": {
    "colab_type": "text",
    "id": "yVvQdaFTPPEO"
   },
   "source": [
    "## Plan the Project\n",
    " The solution is relatively straightforward. First, we will write a script that will allow us to pass data to Tesseract, instead of just to a file. Then we will write a Python script that will use the first script to get the text, and then use Spark NLP to process the text."
   ]
  },
  {
   "cell_type": "markdown",
   "metadata": {
    "colab_type": "text",
    "id": "Reg6Z1eaPPBZ"
   },
   "source": [
    "## Implement the Solution\n",
    "  Let's start by looking at an example of using Tesseract. Let's look at the usage output for the program."
   ]
  },
  {
   "cell_type": "code",
   "execution_count": 2,
   "metadata": {
    "colab": {
     "base_uri": "https://localhost:8080/",
     "height": 265
    },
    "colab_type": "code",
    "id": "4G6kQufURNCa",
    "outputId": "b69c5d30-77a8-4011-b3af-b4f26a3601d8"
   },
   "outputs": [
    {
     "name": "stdout",
     "output_type": "stream",
     "text": [
      "Usage:\r\n",
      "  tesseract --help | --help-extra | --version\r\n",
      "  tesseract --list-langs\r\n",
      "  tesseract imagename outputbase [options...] [configfile...]\r\n",
      "\r\n",
      "OCR options:\r\n",
      "  -l LANG[+LANG]        Specify language(s) used for OCR.\r\n",
      "NOTE: These options must occur before any configfile.\r\n",
      "\r\n",
      "Single options:\r\n",
      "  --help                Show this help message.\r\n",
      "  --help-extra          Show extra help for advanced users.\r\n",
      "  --version             Show version information.\r\n",
      "  --list-langs          List available languages for tesseract engine.\r\n"
     ]
    }
   ],
   "source": [
    "! tesseract -h"
   ]
  },
  {
   "cell_type": "markdown",
   "metadata": {
    "colab_type": "text",
    "id": "3jfgrfXKPO-l"
   },
   "source": [
    "It looks like we simply need to pass it an image, `imagename`, and output name, `outputbase`. Let's look at the text that is in the image.\n",
    "\n",
    "```\n",
    "CHIEF COMPLAINT\n",
    "Ankle pain\n",
    "\n",
    "HISTORY OF PRESENT ILLNESS:\n",
    "\n",
    "The patient is 28 y/o man who tripped when hiking. He struggled back to his car, and immediately came in. Due to his severe ankle pain, he\n",
    "thought the right ankle may be broken.\n",
    "\n",
    "EXAMINATION:\n",
    "An x-ray of right ankle ruled out fracture.\n",
    "\n",
    "IMPRESSION:\n",
    "The right ankle is sprained.\n",
    "\n",
    "RECOMMENDATION:\n",
    "- Take ibuprofen as needed\n",
    "- Try to stay off right ankle for one week\n",
    "```\n",
    "\n",
    "Let's look at the image we will be experimenting with\n",
    "\n",
    "Now, let's try and pass the image through Tesseract"
   ]
  },
  {
   "cell_type": "code",
   "execution_count": 3,
   "metadata": {
    "colab": {
     "base_uri": "https://localhost:8080/",
     "height": 70
    },
    "colab_type": "code",
    "id": "M8KEYNkLRZsl",
    "outputId": "abf38900-0351-4aab-dffa-51cb8350e4f6"
   },
   "outputs": [
    {
     "name": "stdout",
     "output_type": "stream",
     "text": [
      "Tesseract Open Source OCR Engine v4.0.0-beta.1 with Leptonica\r\n",
      "Warning. Invalid resolution 0 dpi. Using 70 instead.\r\n",
      "Estimating resolution as 132\r\n"
     ]
    }
   ],
   "source": [
    "! tesseract EHR_example.PNG EHR_example"
   ]
  },
  {
   "cell_type": "markdown",
   "metadata": {
    "colab_type": "text",
    "id": "JLLL0KNoPO0g"
   },
   "source": [
    "![EHR image of text](https://i.imgur.com/WicCekw.png)\n",
    "_EHR image of text_\n",
    "\n",
    "Now let's see what Tesseract extracted."
   ]
  },
  {
   "cell_type": "code",
   "execution_count": 4,
   "metadata": {
    "colab": {
     "base_uri": "https://localhost:8080/",
     "height": 354
    },
    "colab_type": "code",
    "id": "LTcSmHFTSFJG",
    "outputId": "48b6d95f-9d5d-4a18-aa01-14fb63c3f046"
   },
   "outputs": [
    {
     "name": "stdout",
     "output_type": "stream",
     "text": [
      "CHIEF COMPLAINT\r\n",
      "Ankle pain\r\n",
      "\r\n",
      "HISTORY OF PRESENT ILLNESS:\r\n",
      "\r\n",
      "The patient is 28 y/o man who tripped when hiking. He struggled back\r\n",
      "thought the right ankle may be broken.\r\n",
      "\r\n",
      "EXAMINATION:\r\n",
      "An x-ray of right ankle ruled out fracture.\r\n",
      "\r\n",
      "IMPRESSION:\r\n",
      "The right ankle is sprained.\r\n",
      "\r\n",
      "RECOMMENDATION:\r\n",
      "- Take ibuprofen when as needed\r\n",
      "- Try to stay off right ankle for one week\r\n",
      "\r\n",
      "to his car, and immediately came in. Due to his severe ankle pain, he\r\n",
      "\f"
     ]
    }
   ],
   "source": [
    "! cat EHR_example.txt"
   ]
  },
  {
   "cell_type": "markdown",
   "metadata": {
    "colab_type": "text",
    "id": "yVcFec3QPO0Y"
   },
   "source": [
    "~This worked perfectly.~ *** This is producing different results than previously. *** Now, let's put together our conversion script. The input to the script will be the type of image, and then the actual image will be encoded as a base64 string. We create a temporary image file and extract the text with Tesseract. This will also create a temporary text file, which we will stream into the stdout. We need to replace new lines with a special character, \"~\", so that we can know which lines are from which input."
   ]
  },
  {
   "cell_type": "code",
   "execution_count": 5,
   "metadata": {
    "colab": {
     "base_uri": "https://localhost:8080/",
     "height": 34
    },
    "colab_type": "code",
    "id": "1tDaJA48VoXh",
    "outputId": "ae9f53b1-6d57-43c0-fa9b-e3d8df66368e"
   },
   "outputs": [
    {
     "name": "stdout",
     "output_type": "stream",
     "text": [
      "Overwriting img2txt.sh\n"
     ]
    }
   ],
   "source": [
    "%%writefile img2txt.sh\n",
    "#!/bin/bash\n",
    "\n",
    "set -e\n",
    "\n",
    "# assumed input is lines of \"image-type base64-encoded-image-data\"\n",
    "\n",
    "type=$1\n",
    "data=$2\n",
    "file=\"img.$type\"\n",
    "echo $data | base64 -d > $file\n",
    "tesseract $file text\n",
    "cat text.txt | tr '\\n' '~'"
   ]
  },
  {
   "cell_type": "markdown",
   "metadata": {
    "colab_type": "text",
    "id": "o2Ub6iTNPO0Q"
   },
   "source": [
    "Let's try our script out."
   ]
  },
  {
   "cell_type": "code",
   "execution_count": 6,
   "metadata": {
    "colab": {},
    "colab_type": "code",
    "id": "NlS2wpgwbAH3"
   },
   "outputs": [],
   "source": [
    "! chmod a+x img2txt.sh"
   ]
  },
  {
   "cell_type": "code",
   "execution_count": 7,
   "metadata": {
    "colab": {
     "base_uri": "https://localhost:8080/",
     "height": 407
    },
    "colab_type": "code",
    "id": "e0vDT1hVVq4y",
    "outputId": "9f66de0b-d956-4a03-8629-aaa83e839a44"
   },
   "outputs": [
    {
     "name": "stdout",
     "output_type": "stream",
     "text": [
      "Tesseract Open Source OCR Engine v4.0.0-beta.1 with Leptonica\n",
      "Warning. Invalid resolution 0 dpi. Using 70 instead.\n",
      "Estimating resolution as 132\n",
      "CHIEF COMPLAINT\n",
      "Ankle pain\n",
      "\n",
      "HISTORY OF PRESENT ILLNESS:\n",
      "\n",
      "The patient is 28 y/o man who tripped when hiking. He struggled back\n",
      "thought the right ankle may be broken.\n",
      "\n",
      "EXAMINATION:\n",
      "An x-ray of right ankle ruled out fracture.\n",
      "\n",
      "IMPRESSION:\n",
      "The right ankle is sprained.\n",
      "\n",
      "RECOMMENDATION:\n",
      "- Take ibuprofen when as needed\n",
      "- Try to stay off right ankle for one week\n",
      "\n",
      "to his car, and immediately came in. Due to his severe ankle pain, he\n",
      "\f"
     ]
    }
   ],
   "source": [
    "! ./img2txt.sh \"png\" $(base64 EHR_example.PNG |\\\n",
    "    tr -d '\\n') |\\\n",
    "    tr '~' '\\n'"
   ]
  },
  {
   "cell_type": "markdown",
   "metadata": {
    "colab_type": "text",
    "id": "Po4dNniJPOqt"
   },
   "source": [
    "Now let's work on the full processing code. First, we will get a pretrained pipeline."
   ]
  },
  {
   "cell_type": "code",
   "execution_count": 8,
   "metadata": {
    "colab": {},
    "colab_type": "code",
    "id": "X2lwB0ghV2-M"
   },
   "outputs": [],
   "source": [
    "import base64\n",
    "import os\n",
    "import subprocess as sub\n",
    "\n",
    "import sparknlp\n",
    "from sparknlp.pretrained import PretrainedPipeline\n",
    "\n",
    "spark = sparknlp.start()"
   ]
  },
  {
   "cell_type": "code",
   "execution_count": 9,
   "metadata": {
    "colab": {
     "base_uri": "https://localhost:8080/",
     "height": 70
    },
    "colab_type": "code",
    "id": "bfmfDlt-V51d",
    "outputId": "d7dafc08-db64-4eaf-c29c-6f9e37d1e439"
   },
   "outputs": [
    {
     "name": "stdout",
     "output_type": "stream",
     "text": [
      "explain_document_ml download started this may take some time.\n",
      "Approx size to download 9.4 MB\n",
      "[OK!]\n"
     ]
    }
   ],
   "source": [
    "pipeline = PretrainedPipeline('explain_document_ml')"
   ]
  },
  {
   "cell_type": "markdown",
   "metadata": {
    "colab_type": "text",
    "id": "_YgOV98WPOmx"
   },
   "source": [
    "Now let's create our test input data. We will copy our image a hundred times into the EHRs folder."
   ]
  },
  {
   "cell_type": "code",
   "execution_count": 10,
   "metadata": {
    "colab": {
     "base_uri": "https://localhost:8080/",
     "height": 34
    },
    "colab_type": "code",
    "id": "NSDjE9SbV94S",
    "outputId": "73bab559-af61-40dd-9b99-290f63902fb6"
   },
   "outputs": [
    {
     "name": "stdout",
     "output_type": "stream",
     "text": [
      "mkdir: cannot create directory ‘EHRs’: File exists\r\n"
     ]
    }
   ],
   "source": [
    "! mkdir EHRs\n",
    "for i in range(100):\n",
    "    ! cp EHR_example.PNG EHRs/EHR{i}.PNG"
   ]
  },
  {
   "cell_type": "markdown",
   "metadata": {
    "colab_type": "text",
    "id": "Lv7h5OXwPNre"
   },
   "source": [
    "Now, we will create a DataFrame that contains the filepath, image type, and image data as three string fields."
   ]
  },
  {
   "cell_type": "code",
   "execution_count": 11,
   "metadata": {
    "colab": {},
    "colab_type": "code",
    "id": "WUr7Ble9WBhC"
   },
   "outputs": [],
   "source": [
    "data = []\n",
    "for file in os.listdir('EHRs') :\n",
    "    file = os.path.join('EHRs', file)\n",
    "    with open(file, 'rb') as image:\n",
    "        f = image.read()\n",
    "        b = bytearray(f)\n",
    "    image_b64 = base64.b64encode(b).decode('utf-8')\n",
    "    extension = os.path.splitext(file)[1][1:]\n",
    "    record = (file, extension, image_b64)\n",
    "    data.append(record)\n",
    "    \n",
    "data = spark.createDataFrame(data, ['file', 'type', 'image'])\\\n",
    "    .repartition(4)"
   ]
  },
  {
   "cell_type": "markdown",
   "metadata": {
    "colab_type": "text",
    "id": "Pcw_et0AWDxZ"
   },
   "source": [
    "Let's define a function that will take a partition of data, as an iterable, and return a generator of filepaths and text."
   ]
  },
  {
   "cell_type": "code",
   "execution_count": 12,
   "metadata": {
    "colab": {},
    "colab_type": "code",
    "id": "FN0nfvSJWGC5"
   },
   "outputs": [],
   "source": [
    "def process_partition(partition):\n",
    "    for file, extension, image_b64 in partition:\n",
    "        text = sub.check_output(['./img2txt.sh', extension, image_b64])\\\n",
    "            .decode('utf-8')\n",
    "        text = text.replace('~', '\\n')\n",
    "        yield (file, text)"
   ]
  },
  {
   "cell_type": "code",
   "execution_count": 13,
   "metadata": {
    "colab": {},
    "colab_type": "code",
    "id": "g_OMAHCbWHHY"
   },
   "outputs": [],
   "source": [
    "post_ocr = data.rdd.mapPartitions(process_partition)\n",
    "post_ocr = spark.createDataFrame(post_ocr, ['file', 'text'])\n",
    "\n",
    "processed = pipeline.transform(post_ocr)\n",
    "processed.write.mode('overwrite').parquet('example_output.parquet/')"
   ]
  },
  {
   "cell_type": "markdown",
   "metadata": {
    "colab_type": "text",
    "id": "XLbT0d1VWEB7"
   },
   "source": [
    "Now let's put this into a script."
   ]
  },
  {
   "cell_type": "code",
   "execution_count": 14,
   "metadata": {
    "colab": {
     "base_uri": "https://localhost:8080/",
     "height": 34
    },
    "colab_type": "code",
    "id": "osyqz6iKWPH3",
    "outputId": "0fb31f71-75ba-4823-faa5-5f3a023b4570"
   },
   "outputs": [
    {
     "name": "stdout",
     "output_type": "stream",
     "text": [
      "Writing process_image_dir.py\n"
     ]
    }
   ],
   "source": [
    "%%writefile process_image_dir.py\n",
    "#!/bin/python\n",
    "\n",
    "import base64\n",
    "import os\n",
    "import subprocess as sub\n",
    "import sys\n",
    "\n",
    "import sparknlp\n",
    "from sparknlp.pretrained import PretrainedPipeline\n",
    "\n",
    "def process_partition(partition):\n",
    "    for file, extension, image_b64 in partition:\n",
    "        text = sub.check_output(['./img2txt.sh', extension, image_b64])\\\n",
    "            .decode('utf-8')\n",
    "        text.replace('~', '\\n')\n",
    "        yield (file, text)\n",
    "\n",
    "if __name__ == '__main__':\n",
    "    spark = sparknlp.start()\n",
    "\n",
    "    pipeline = PretrainedPipeline('explain_document_ml')\n",
    "    \n",
    "    data_dir = sys.argv[1]\n",
    "    output_file = sys.argv[2]\n",
    "    \n",
    "    data = []\n",
    "    for file in os.listdir(data_dir) :\n",
    "        file = os.path.join(data_dir, file)\n",
    "        with open(file, 'rb') as image:\n",
    "            f = image.read()\n",
    "            b = bytearray(f)\n",
    "        image_b64 = base64.b64encode(b).decode('utf-8')\n",
    "        extension = os.path.splitext(file)[1][1:]\n",
    "        record = (file, extension, image_b64)\n",
    "        data.append(record)\n",
    "\n",
    "    data = spark.createDataFrame(data, ['file', 'type', 'image'])\\\n",
    "        .repartition(4)\n",
    "    post_ocr = data.rdd.map(tuple).mapPartitions(process_partition)\n",
    "    post_ocr = spark.createDataFrame(post_ocr, ['file', 'text'])\n",
    "    processed = pipeline.transform(post_ocr)\n",
    "    processed.write.mode('overwrite').parquet(output_file)"
   ]
  },
  {
   "cell_type": "markdown",
   "metadata": {
    "colab_type": "text",
    "id": "ZesvSKqcWELU"
   },
   "source": [
    "Now we have a script that will take a directory of images, and it will produce a directory of text files extracted from the images.  "
   ]
  },
  {
   "cell_type": "code",
   "execution_count": 15,
   "metadata": {
    "colab": {
     "base_uri": "https://localhost:8080/",
     "height": 1000
    },
    "colab_type": "code",
    "id": "qm71r4x8WSPi",
    "outputId": "7efdc1f7-6f88-48d3-a27b-15fdd2c8360f"
   },
   "outputs": [
    {
     "name": "stdout",
     "output_type": "stream",
     "text": [
      "Ivy Default Cache set to: /home/alex/.ivy2/cache\n",
      "The jars for the packages stored in: /home/alex/.ivy2/jars\n",
      ":: loading settings :: url = jar:file:/home/alex/anaconda3/envs/spark-nlp-in-action/lib/python3.6/site-packages/pyspark/jars/ivy-2.4.0.jar!/org/apache/ivy/core/settings/ivysettings.xml\n",
      "com.johnsnowlabs.nlp#spark-nlp_2.11 added as a dependency\n",
      ":: resolving dependencies :: org.apache.spark#spark-submit-parent-fb71a130-668e-4929-a528-fa89ce71d259;1.0\n",
      "\tconfs: [default]\n",
      "\tfound com.johnsnowlabs.nlp#spark-nlp_2.11;2.5.1 in central\n",
      "\tfound com.typesafe#config;1.3.0 in central\n",
      "\tfound org.rocksdb#rocksdbjni;6.5.3 in central\n",
      "\tfound org.apache.hadoop#hadoop-aws;3.2.0 in central\n",
      "\tfound com.amazonaws#aws-java-sdk-core;1.11.603 in central\n",
      "\tfound commons-logging#commons-logging;1.1.3 in central\n",
      "\tfound org.apache.httpcomponents#httpclient;4.5.9 in central\n",
      "\tfound org.apache.httpcomponents#httpcore;4.4.11 in central\n",
      "\tfound commons-codec#commons-codec;1.11 in central\n",
      "\tfound software.amazon.ion#ion-java;1.0.2 in central\n",
      "\tfound com.fasterxml.jackson.dataformat#jackson-dataformat-cbor;2.6.7 in central\n",
      "\tfound joda-time#joda-time;2.8.1 in central\n",
      "\tfound com.amazonaws#aws-java-sdk-s3;1.11.603 in central\n",
      "\tfound com.amazonaws#aws-java-sdk-kms;1.11.603 in central\n",
      "\tfound com.amazonaws#jmespath-java;1.11.603 in central\n",
      "\tfound com.fasterxml.jackson.core#jackson-databind;2.6.7.2 in central\n",
      "\tfound com.fasterxml.jackson.core#jackson-annotations;2.6.0 in central\n",
      "\tfound com.fasterxml.jackson.core#jackson-core;2.6.7 in central\n",
      "\tfound com.github.universal-automata#liblevenshtein;3.0.0 in central\n",
      "\tfound com.google.code.findbugs#annotations;3.0.1 in central\n",
      "\tfound net.jcip#jcip-annotations;1.0 in central\n",
      "\tfound com.google.code.findbugs#jsr305;3.0.1 in central\n",
      "\tfound com.google.protobuf#protobuf-java-util;3.0.0-beta-3 in central\n",
      "\tfound com.google.protobuf#protobuf-java;3.0.0-beta-3 in central\n",
      "\tfound com.google.code.gson#gson;2.3 in central\n",
      "\tfound it.unimi.dsi#fastutil;7.0.12 in central\n",
      "\tfound org.projectlombok#lombok;1.16.8 in central\n",
      "\tfound org.slf4j#slf4j-api;1.7.21 in central\n",
      "\tfound com.navigamez#greex;1.0 in central\n",
      "\tfound dk.brics.automaton#automaton;1.11-8 in central\n",
      "\tfound org.json4s#json4s-ext_2.11;3.5.3 in central\n",
      "\tfound joda-time#joda-time;2.9.5 in central\n",
      "\tfound org.joda#joda-convert;1.8.1 in central\n",
      "\tfound org.tensorflow#tensorflow;1.15.0 in central\n",
      "\tfound org.tensorflow#libtensorflow;1.15.0 in central\n",
      "\tfound org.tensorflow#libtensorflow_jni;1.15.0 in central\n",
      "\tfound net.sf.trove4j#trove4j;3.0.3 in central\n",
      ":: resolution report :: resolve 863ms :: artifacts dl 203ms\n",
      "\t:: modules in use:\n",
      "\tcom.amazonaws#aws-java-sdk-core;1.11.603 from central in [default]\n",
      "\tcom.amazonaws#aws-java-sdk-kms;1.11.603 from central in [default]\n",
      "\tcom.amazonaws#aws-java-sdk-s3;1.11.603 from central in [default]\n",
      "\tcom.amazonaws#jmespath-java;1.11.603 from central in [default]\n",
      "\tcom.fasterxml.jackson.core#jackson-annotations;2.6.0 from central in [default]\n",
      "\tcom.fasterxml.jackson.core#jackson-core;2.6.7 from central in [default]\n",
      "\tcom.fasterxml.jackson.core#jackson-databind;2.6.7.2 from central in [default]\n",
      "\tcom.fasterxml.jackson.dataformat#jackson-dataformat-cbor;2.6.7 from central in [default]\n",
      "\tcom.github.universal-automata#liblevenshtein;3.0.0 from central in [default]\n",
      "\tcom.google.code.findbugs#annotations;3.0.1 from central in [default]\n",
      "\tcom.google.code.findbugs#jsr305;3.0.1 from central in [default]\n",
      "\tcom.google.code.gson#gson;2.3 from central in [default]\n",
      "\tcom.google.protobuf#protobuf-java;3.0.0-beta-3 from central in [default]\n",
      "\tcom.google.protobuf#protobuf-java-util;3.0.0-beta-3 from central in [default]\n",
      "\tcom.johnsnowlabs.nlp#spark-nlp_2.11;2.5.1 from central in [default]\n",
      "\tcom.navigamez#greex;1.0 from central in [default]\n",
      "\tcom.typesafe#config;1.3.0 from central in [default]\n",
      "\tcommons-codec#commons-codec;1.11 from central in [default]\n",
      "\tcommons-logging#commons-logging;1.1.3 from central in [default]\n",
      "\tdk.brics.automaton#automaton;1.11-8 from central in [default]\n",
      "\tit.unimi.dsi#fastutil;7.0.12 from central in [default]\n",
      "\tjoda-time#joda-time;2.9.5 from central in [default]\n",
      "\tnet.jcip#jcip-annotations;1.0 from central in [default]\n",
      "\tnet.sf.trove4j#trove4j;3.0.3 from central in [default]\n",
      "\torg.apache.hadoop#hadoop-aws;3.2.0 from central in [default]\n",
      "\torg.apache.httpcomponents#httpclient;4.5.9 from central in [default]\n",
      "\torg.apache.httpcomponents#httpcore;4.4.11 from central in [default]\n",
      "\torg.joda#joda-convert;1.8.1 from central in [default]\n",
      "\torg.json4s#json4s-ext_2.11;3.5.3 from central in [default]\n",
      "\torg.projectlombok#lombok;1.16.8 from central in [default]\n",
      "\torg.rocksdb#rocksdbjni;6.5.3 from central in [default]\n",
      "\torg.slf4j#slf4j-api;1.7.21 from central in [default]\n",
      "\torg.tensorflow#libtensorflow;1.15.0 from central in [default]\n",
      "\torg.tensorflow#libtensorflow_jni;1.15.0 from central in [default]\n",
      "\torg.tensorflow#tensorflow;1.15.0 from central in [default]\n",
      "\tsoftware.amazon.ion#ion-java;1.0.2 from central in [default]\n",
      "\t:: evicted modules:\n",
      "\tcommons-logging#commons-logging;1.2 by [commons-logging#commons-logging;1.1.3] in [default]\n",
      "\tjoda-time#joda-time;2.8.1 by [joda-time#joda-time;2.9.5] in [default]\n",
      "\t---------------------------------------------------------------------\n",
      "\t|                  |            modules            ||   artifacts   |\n",
      "\t|       conf       | number| search|dwnlded|evicted|| number|dwnlded|\n",
      "\t---------------------------------------------------------------------\n",
      "\t|      default     |   38  |   0   |   0   |   2   ||   36  |   0   |\n",
      "\t---------------------------------------------------------------------\n",
      ":: retrieving :: org.apache.spark#spark-submit-parent-fb71a130-668e-4929-a528-fa89ce71d259\n",
      "\tconfs: [default]\n",
      "\t0 artifacts copied, 36 already retrieved (0kB/29ms)\n",
      "20/07/29 08:50:53 WARN Utils: Your hostname, DESKTOP-BOP7DT8 resolves to a loopback address: 127.0.1.1; using 172.25.208.1 instead (on interface eth2)\n",
      "20/07/29 08:50:53 WARN Utils: Set SPARK_LOCAL_IP if you need to bind to another address\n",
      "20/07/29 08:50:53 WARN NativeCodeLoader: Unable to load native-hadoop library for your platform... using builtin-java classes where applicable\n",
      "Using Spark's default log4j profile: org/apache/spark/log4j-defaults.properties\n",
      "Setting default log level to \"WARN\".\n",
      "To adjust logging level use sc.setLogLevel(newLevel). For SparkR, use setLogLevel(newLevel).\n",
      "explain_document_ml download started this may take some time.\n",
      "20/07/29 08:50:56 WARN SparkSession$Builder: Using an existing SparkSession; some configuration may not take effect.\n",
      "20/07/29 08:50:57 WARN ApacheUtils: NoSuchMethodError was thrown when disabling normalizeUri. This indicates you are using an old version (< 4.5.8) of Apache http client. It is recommended to use http client version >= 4.5.9 to avoid the breaking change introduced in apache client 4.5.7 and the latency in exception handling. See https://github.com/aws/aws-sdk-java/issues/1919 for more information\n",
      "20/07/29 08:50:57 WARN ApacheUtils: NoSuchMethodError was thrown when disabling normalizeUri. This indicates you are using an old version (< 4.5.8) of Apache http client. It is recommended to use http client version >= 4.5.9 to avoid the breaking change introduced in apache client 4.5.7 and the latency in exception handling. See https://github.com/aws/aws-sdk-java/issues/1919 for more information\n",
      "20/07/29 08:50:58 WARN ApacheUtils: NoSuchMethodError was thrown when disabling normalizeUri. This indicates you are using an old version (< 4.5.8) of Apache http client. It is recommended to use http client version >= 4.5.9 to avoid the breaking change introduced in apache client 4.5.7 and the latency in exception handling. See https://github.com/aws/aws-sdk-java/issues/1919 for more information\n",
      "20/07/29 08:50:58 WARN ApacheUtils: NoSuchMethodError was thrown when disabling normalizeUri. This indicates you are using an old version (< 4.5.8) of Apache http client. It is recommended to use http client version >= 4.5.9 to avoid the breaking change introduced in apache client 4.5.7 and the latency in exception handling. See https://github.com/aws/aws-sdk-java/issues/1919 for more information\n",
      "Approx size to download 9.4 MB\n",
      "[ | ]explain_document_ml download started this may take some time.\n",
      "20/07/29 08:50:58 WARN ApacheUtils: NoSuchMethodError was thrown when disabling normalizeUri. This indicates you are using an old version (< 4.5.8) of Apache http client. It is recommended to use http client version >= 4.5.9 to avoid the breaking change introduced in apache client 4.5.7 and the latency in exception handling. See https://github.com/aws/aws-sdk-java/issues/1919 for more information\n",
      "20/07/29 08:50:58 WARN ApacheUtils: NoSuchMethodError was thrown when disabling normalizeUri. This indicates you are using an old version (< 4.5.8) of Apache http client. It is recommended to use http client version >= 4.5.9 to avoid the breaking change introduced in apache client 4.5.7 and the latency in exception handling. See https://github.com/aws/aws-sdk-java/issues/1919 for more information\n",
      "20/07/29 08:50:58 WARN ApacheUtils: NoSuchMethodError was thrown when disabling normalizeUri. This indicates you are using an old version (< 4.5.8) of Apache http client. It is recommended to use http client version >= 4.5.9 to avoid the breaking change introduced in apache client 4.5.7 and the latency in exception handling. See https://github.com/aws/aws-sdk-java/issues/1919 for more information\n",
      "20/07/29 08:50:58 WARN ApacheUtils: NoSuchMethodError was thrown when disabling normalizeUri. This indicates you are using an old version (< 4.5.8) of Apache http client. It is recommended to use http client version >= 4.5.9 to avoid the breaking change introduced in apache client 4.5.7 and the latency in exception handling. See https://github.com/aws/aws-sdk-java/issues/1919 for more information\n"
     ]
    },
    {
     "name": "stdout",
     "output_type": "stream",
     "text": [
      "20/07/29 08:50:58 WARN ApacheUtils: NoSuchMethodError was thrown when disabling normalizeUri. This indicates you are using an old version (< 4.5.8) of Apache http client. It is recommended to use http client version >= 4.5.9 to avoid the breaking change introduced in apache client 4.5.7 and the latency in exception handling. See https://github.com/aws/aws-sdk-java/issues/1919 for more information\n",
      "20/07/29 08:50:58 WARN ApacheUtils: NoSuchMethodError was thrown when disabling normalizeUri. This indicates you are using an old version (< 4.5.8) of Apache http client. It is recommended to use http client version >= 4.5.9 to avoid the breaking change introduced in apache client 4.5.7 and the latency in exception handling. See https://github.com/aws/aws-sdk-java/issues/1919 for more information\n",
      "20/07/29 08:50:59 WARN ApacheUtils: NoSuchMethodError was thrown when disabling normalizeUri. This indicates you are using an old version (< 4.5.8) of Apache http client. It is recommended to use http client version >= 4.5.9 to avoid the breaking change introduced in apache client 4.5.7 and the latency in exception handling. See https://github.com/aws/aws-sdk-java/issues/1919 for more information\n",
      "20/07/29 08:50:59 WARN ApacheUtils: NoSuchMethodError was thrown when disabling normalizeUri. This indicates you are using an old version (< 4.5.8) of Apache http client. It is recommended to use http client version >= 4.5.9 to avoid the breaking change introduced in apache client 4.5.7 and the latency in exception handling. See https://github.com/aws/aws-sdk-java/issues/1919 for more information\n",
      "Approximate size to download 9.4 MB\n",
      "Download done! Loading the resource.\n",
      "[OK!]                                                                           \n",
      "20/07/29 08:51:17 WARN TaskSetManager: Stage 23 contains a task of very large size (122 KB). The maximum recommended task size is 100 KB.\n",
      "[Stage 23:>                                                       (0 + 16) / 16]Tesseract Open Source OCR Engine v4.0.0-beta.1 with Leptonica\n",
      "Warning. Invalid resolution 0 dpi. Using 70 instead.\n",
      "Estimating resolution as 132\n",
      "Tesseract Open Source OCR Engine v4.0.0-beta.1 with Leptonica                   \n",
      "Tesseract Open Source OCR Engine v4.0.0-beta.1 with Leptonica\n",
      "Tesseract Open Source OCR Engine v4.0.0-beta.1 with Leptonica\n",
      "Warning. Invalid resolution 0 dpi. Using 70 instead.\n",
      "Warning. Invalid resolution 0 dpi. Using 70 instead.\n",
      "Tesseract Open Source OCR Engine v4.0.0-beta.1 with Leptonica\n",
      "Warning. Invalid resolution 0 dpi. Using 70 instead.\n",
      "Warning. Invalid resolution 0 dpi. Using 70 instead.\n",
      "Estimating resolution as 132\n",
      "Estimating resolution as 132\n",
      "Estimating resolution as 132\n",
      "Estimating resolution as 132\n",
      "[Stage 26:>                                                         (0 + 4) / 4]Tesseract Open Source OCR Engine v4.0.0-beta.1 with Leptonica\n",
      "Warning. Invalid resolution 0 dpi. Using 70 instead.\n",
      "Estimating resolution as 132\n",
      "Tesseract Open Source OCR Engine v4.0.0-beta.1 with Leptonica\n",
      "Tesseract Open Source OCR Engine v4.0.0-beta.1 with Leptonica\n",
      "Warning. Invalid resolution 0 dpi. Using 70 instead.\n",
      "Warning. Invalid resolution 0 dpi. Using 70 instead.\n",
      "Estimating resolution as 132\n",
      "Estimating resolution as 132\n",
      "Tesseract Open Source OCR Engine v4.0.0-beta.1 with Leptonica\n",
      "Warning. Invalid resolution 0 dpi. Using 70 instead.\n",
      "Estimating resolution as 132\n",
      "Tesseract Open Source OCR Engine v4.0.0-beta.1 with Leptonica\n",
      "Warning. Invalid resolution 0 dpi. Using 70 instead.\n",
      "Estimating resolution as 132\n",
      "Tesseract Open Source OCR Engine v4.0.0-beta.1 with Leptonica\n",
      "Warning. Invalid resolution 0 dpi. Using 70 instead.\n",
      "Tesseract Open Source OCR Engine v4.0.0-beta.1 with Leptonica\n",
      "Warning. Invalid resolution 0 dpi. Using 70 instead.\n",
      "Estimating resolution as 132\n",
      "Estimating resolution as 132\n",
      "Tesseract Open Source OCR Engine v4.0.0-beta.1 with Leptonica\n",
      "Warning. Invalid resolution 0 dpi. Using 70 instead.\n",
      "Estimating resolution as 132\n",
      "Tesseract Open Source OCR Engine v4.0.0-beta.1 with Leptonica\n",
      "Error in findFileFormatStream: truncated file\n",
      "Error during processing.\n",
      "Tesseract Open Source OCR Engine v4.0.0-beta.1 with Leptonica\n",
      "Warning. Invalid resolution 0 dpi. Using 70 instead.\n",
      "Tesseract Open Source OCR Engine v4.0.0-beta.1 with Leptonica\n",
      "Estimating resolution as 132\n",
      "Warning. Invalid resolution 0 dpi. Using 70 instead.\n",
      "Estimating resolution as 132\n",
      "Tesseract Open Source OCR Engine v4.0.0-beta.1 with Leptonica\n",
      "Warning. Invalid resolution 0 dpi. Using 70 instead.\n",
      "Estimating resolution as 132\n",
      "Tesseract Open Source OCR Engine v4.0.0-beta.1 with Leptonica\n",
      "Warning. Invalid resolution 0 dpi. Using 70 instead.\n",
      "Estimating resolution as 132\n",
      "Tesseract Open Source OCR Engine v4.0.0-beta.1 with Leptonica\n",
      "Warning. Invalid resolution 0 dpi. Using 70 instead.\n",
      "Estimating resolution as 132\n",
      "Tesseract Open Source OCR Engine v4.0.0-beta.1 with Leptonica\n",
      "Warning. Invalid resolution 0 dpi. Using 70 instead.\n",
      "Estimating resolution as 132\n",
      "20/07/29 08:51:25 ERROR Utils: Aborting task\n",
      "org.apache.spark.api.python.PythonException: Traceback (most recent call last):\n",
      "  File \"/home/alex/anaconda3/envs/spark-nlp-in-action/lib/python3.6/site-packages/pyspark/python/lib/pyspark.zip/pyspark/worker.py\", line 377, in main\n",
      "    process()\n",
      "  File \"/home/alex/anaconda3/envs/spark-nlp-in-action/lib/python3.6/site-packages/pyspark/python/lib/pyspark.zip/pyspark/worker.py\", line 372, in process\n",
      "    serializer.dump_stream(func(split_index, iterator), outfile)\n",
      "  File \"/home/alex/anaconda3/envs/spark-nlp-in-action/lib/python3.6/site-packages/pyspark/python/lib/pyspark.zip/pyspark/serializers.py\", line 393, in dump_stream\n",
      "    vs = list(itertools.islice(iterator, batch))\n",
      "  File \"process_image_dir.py\", line 13, in process_partition\n",
      "    text = sub.check_output(['./img2txt.sh', extension, image_b64])\\\n",
      "  File \"/home/alex/anaconda3/envs/spark-nlp-in-action/lib/python3.6/subprocess.py\", line 356, in check_output\n",
      "    **kwargs).stdout\n",
      "  File \"/home/alex/anaconda3/envs/spark-nlp-in-action/lib/python3.6/subprocess.py\", line 438, in run\n",
      "    output=stdout, stderr=stderr)\n"
     ]
    },
    {
     "name": "stdout",
     "output_type": "stream",
     "text": [
      "subprocess.CalledProcessError: Command '['./img2txt.sh', 'PNG', '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']' returned non-zero exit status 1.\r\n",
      "\r\n",
      "\tat org.apache.spark.api.python.BasePythonRunner$ReaderIterator.handlePythonException(PythonRunner.scala:456)\r\n",
      "\tat org.apache.spark.api.python.PythonRunner$$anon$1.read(PythonRunner.scala:592)\r\n",
      "\tat org.apache.spark.api.python.PythonRunner$$anon$1.read(PythonRunner.scala:575)\r\n",
      "\tat org.apache.spark.api.python.BasePythonRunner$ReaderIterator.hasNext(PythonRunner.scala:410)\r\n",
      "\tat org.apache.spark.InterruptibleIterator.hasNext(InterruptibleIterator.scala:37)\r\n",
      "\tat scala.collection.Iterator$$anon$12.hasNext(Iterator.scala:440)\r\n",
      "\tat scala.collection.Iterator$$anon$11.hasNext(Iterator.scala:409)\r\n",
      "\tat scala.collection.Iterator$$anon$11.hasNext(Iterator.scala:409)\r\n",
      "\tat scala.collection.Iterator$$anon$11.hasNext(Iterator.scala:409)\r\n",
      "\tat org.apache.spark.sql.catalyst.expressions.GeneratedClass$GeneratedIteratorForCodegenStage1.processNext(Unknown Source)\r\n",
      "\tat org.apache.spark.sql.execution.BufferedRowIterator.hasNext(BufferedRowIterator.java:43)\r\n",
      "\tat org.apache.spark.sql.execution.WholeStageCodegenExec$$anonfun$13$$anon$1.hasNext(WholeStageCodegenExec.scala:636)\r\n",
      "\tat org.apache.spark.sql.execution.datasources.FileFormatWriter$$anonfun$org$apache$spark$sql$execution$datasources$FileFormatWriter$$executeTask$3.apply(FileFormatWriter.scala:244)\r\n",
      "\tat org.apache.spark.sql.execution.datasources.FileFormatWriter$$anonfun$org$apache$spark$sql$execution$datasources$FileFormatWriter$$executeTask$3.apply(FileFormatWriter.scala:242)\r\n",
      "\tat org.apache.spark.util.Utils$.tryWithSafeFinallyAndFailureCallbacks(Utils.scala:1394)\r\n",
      "\tat org.apache.spark.sql.execution.datasources.FileFormatWriter$.org$apache$spark$sql$execution$datasources$FileFormatWriter$$executeTask(FileFormatWriter.scala:248)\r\n",
      "\tat org.apache.spark.sql.execution.datasources.FileFormatWriter$$anonfun$write$1.apply(FileFormatWriter.scala:170)\r\n",
      "\tat org.apache.spark.sql.execution.datasources.FileFormatWriter$$anonfun$write$1.apply(FileFormatWriter.scala:169)\r\n",
      "\tat org.apache.spark.scheduler.ResultTask.runTask(ResultTask.scala:90)\r\n",
      "\tat org.apache.spark.scheduler.Task.run(Task.scala:123)\r\n",
      "\tat org.apache.spark.executor.Executor$TaskRunner$$anonfun$10.apply(Executor.scala:408)\r\n",
      "\tat org.apache.spark.util.Utils$.tryWithSafeFinally(Utils.scala:1360)\r\n",
      "\tat org.apache.spark.executor.Executor$TaskRunner.run(Executor.scala:414)\r\n",
      "\tat java.util.concurrent.ThreadPoolExecutor.runWorker(ThreadPoolExecutor.java:1149)\r\n",
      "\tat java.util.concurrent.ThreadPoolExecutor$Worker.run(ThreadPoolExecutor.java:624)\r\n",
      "\tat java.lang.Thread.run(Thread.java:748)\r\n"
     ]
    },
    {
     "name": "stdout",
     "output_type": "stream",
     "text": [
      "20/07/29 08:51:25 ERROR FileFormatWriter: Job job_20200729085121_0026 aborted.\r\n",
      "20/07/29 08:51:25 ERROR Executor: Exception in task 1.0 in stage 26.0 (TID 83)\r\n",
      "org.apache.spark.SparkException: Task failed while writing rows.\r\n",
      "\tat org.apache.spark.sql.execution.datasources.FileFormatWriter$.org$apache$spark$sql$execution$datasources$FileFormatWriter$$executeTask(FileFormatWriter.scala:257)\r\n",
      "\tat org.apache.spark.sql.execution.datasources.FileFormatWriter$$anonfun$write$1.apply(FileFormatWriter.scala:170)\r\n",
      "\tat org.apache.spark.sql.execution.datasources.FileFormatWriter$$anonfun$write$1.apply(FileFormatWriter.scala:169)\r\n",
      "\tat org.apache.spark.scheduler.ResultTask.runTask(ResultTask.scala:90)\r\n",
      "\tat org.apache.spark.scheduler.Task.run(Task.scala:123)\r\n",
      "\tat org.apache.spark.executor.Executor$TaskRunner$$anonfun$10.apply(Executor.scala:408)\r\n",
      "\tat org.apache.spark.util.Utils$.tryWithSafeFinally(Utils.scala:1360)\r\n",
      "\tat org.apache.spark.executor.Executor$TaskRunner.run(Executor.scala:414)\r\n",
      "\tat java.util.concurrent.ThreadPoolExecutor.runWorker(ThreadPoolExecutor.java:1149)\r\n",
      "\tat java.util.concurrent.ThreadPoolExecutor$Worker.run(ThreadPoolExecutor.java:624)\r\n",
      "\tat java.lang.Thread.run(Thread.java:748)\r\n",
      "Caused by: org.apache.spark.api.python.PythonException: Traceback (most recent call last):\r\n",
      "  File \"/home/alex/anaconda3/envs/spark-nlp-in-action/lib/python3.6/site-packages/pyspark/python/lib/pyspark.zip/pyspark/worker.py\", line 377, in main\r\n",
      "    process()\r\n",
      "  File \"/home/alex/anaconda3/envs/spark-nlp-in-action/lib/python3.6/site-packages/pyspark/python/lib/pyspark.zip/pyspark/worker.py\", line 372, in process\r\n",
      "    serializer.dump_stream(func(split_index, iterator), outfile)\r\n",
      "  File \"/home/alex/anaconda3/envs/spark-nlp-in-action/lib/python3.6/site-packages/pyspark/python/lib/pyspark.zip/pyspark/serializers.py\", line 393, in dump_stream\r\n",
      "    vs = list(itertools.islice(iterator, batch))\r\n",
      "  File \"process_image_dir.py\", line 13, in process_partition\r\n",
      "    text = sub.check_output(['./img2txt.sh', extension, image_b64])\\\r\n",
      "  File \"/home/alex/anaconda3/envs/spark-nlp-in-action/lib/python3.6/subprocess.py\", line 356, in check_output\r\n",
      "    **kwargs).stdout\r\n",
      "  File \"/home/alex/anaconda3/envs/spark-nlp-in-action/lib/python3.6/subprocess.py\", line 438, in run\r\n",
      "    output=stdout, stderr=stderr)\r\n",
      "subprocess.CalledProcessError: Command '['./img2txt.sh', 'PNG', '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']' returned non-zero exit status 1.\r\n",
      "\r\n",
      "\tat org.apache.spark.api.python.BasePythonRunner$ReaderIterator.handlePythonException(PythonRunner.scala:456)\r\n",
      "\tat org.apache.spark.api.python.PythonRunner$$anon$1.read(PythonRunner.scala:592)\r\n",
      "\tat org.apache.spark.api.python.PythonRunner$$anon$1.read(PythonRunner.scala:575)\r\n",
      "\tat org.apache.spark.api.python.BasePythonRunner$ReaderIterator.hasNext(PythonRunner.scala:410)\r\n",
      "\tat org.apache.spark.InterruptibleIterator.hasNext(InterruptibleIterator.scala:37)\r\n",
      "\tat scala.collection.Iterator$$anon$12.hasNext(Iterator.scala:440)\r\n",
      "\tat scala.collection.Iterator$$anon$11.hasNext(Iterator.scala:409)\r\n",
      "\tat scala.collection.Iterator$$anon$11.hasNext(Iterator.scala:409)\r\n",
      "\tat scala.collection.Iterator$$anon$11.hasNext(Iterator.scala:409)\r\n",
      "\tat org.apache.spark.sql.catalyst.expressions.GeneratedClass$GeneratedIteratorForCodegenStage1.processNext(Unknown Source)\r\n",
      "\tat org.apache.spark.sql.execution.BufferedRowIterator.hasNext(BufferedRowIterator.java:43)\r\n",
      "\tat org.apache.spark.sql.execution.WholeStageCodegenExec$$anonfun$13$$anon$1.hasNext(WholeStageCodegenExec.scala:636)\r\n",
      "\tat org.apache.spark.sql.execution.datasources.FileFormatWriter$$anonfun$org$apache$spark$sql$execution$datasources$FileFormatWriter$$executeTask$3.apply(FileFormatWriter.scala:244)\r\n",
      "\tat org.apache.spark.sql.execution.datasources.FileFormatWriter$$anonfun$org$apache$spark$sql$execution$datasources$FileFormatWriter$$executeTask$3.apply(FileFormatWriter.scala:242)\r\n",
      "\tat org.apache.spark.util.Utils$.tryWithSafeFinallyAndFailureCallbacks(Utils.scala:1394)\r\n",
      "\tat org.apache.spark.sql.execution.datasources.FileFormatWriter$.org$apache$spark$sql$execution$datasources$FileFormatWriter$$executeTask(FileFormatWriter.scala:248)\r\n",
      "\t... 10 more\r\n"
     ]
    },
    {
     "name": "stdout",
     "output_type": "stream",
     "text": [
      "20/07/29 08:51:25 WARN TaskSetManager: Lost task 1.0 in stage 26.0 (TID 83, localhost, executor driver): org.apache.spark.SparkException: Task failed while writing rows.\r\n",
      "\tat org.apache.spark.sql.execution.datasources.FileFormatWriter$.org$apache$spark$sql$execution$datasources$FileFormatWriter$$executeTask(FileFormatWriter.scala:257)\r\n",
      "\tat org.apache.spark.sql.execution.datasources.FileFormatWriter$$anonfun$write$1.apply(FileFormatWriter.scala:170)\r\n",
      "\tat org.apache.spark.sql.execution.datasources.FileFormatWriter$$anonfun$write$1.apply(FileFormatWriter.scala:169)\r\n",
      "\tat org.apache.spark.scheduler.ResultTask.runTask(ResultTask.scala:90)\r\n",
      "\tat org.apache.spark.scheduler.Task.run(Task.scala:123)\r\n",
      "\tat org.apache.spark.executor.Executor$TaskRunner$$anonfun$10.apply(Executor.scala:408)\r\n",
      "\tat org.apache.spark.util.Utils$.tryWithSafeFinally(Utils.scala:1360)\r\n",
      "\tat org.apache.spark.executor.Executor$TaskRunner.run(Executor.scala:414)\r\n",
      "\tat java.util.concurrent.ThreadPoolExecutor.runWorker(ThreadPoolExecutor.java:1149)\r\n",
      "\tat java.util.concurrent.ThreadPoolExecutor$Worker.run(ThreadPoolExecutor.java:624)\r\n",
      "\tat java.lang.Thread.run(Thread.java:748)\r\n",
      "Caused by: org.apache.spark.api.python.PythonException: Traceback (most recent call last):\r\n",
      "  File \"/home/alex/anaconda3/envs/spark-nlp-in-action/lib/python3.6/site-packages/pyspark/python/lib/pyspark.zip/pyspark/worker.py\", line 377, in main\r\n",
      "    process()\r\n",
      "  File \"/home/alex/anaconda3/envs/spark-nlp-in-action/lib/python3.6/site-packages/pyspark/python/lib/pyspark.zip/pyspark/worker.py\", line 372, in process\r\n",
      "    serializer.dump_stream(func(split_index, iterator), outfile)\r\n",
      "  File \"/home/alex/anaconda3/envs/spark-nlp-in-action/lib/python3.6/site-packages/pyspark/python/lib/pyspark.zip/pyspark/serializers.py\", line 393, in dump_stream\r\n",
      "    vs = list(itertools.islice(iterator, batch))\r\n",
      "  File \"process_image_dir.py\", line 13, in process_partition\r\n",
      "    text = sub.check_output(['./img2txt.sh', extension, image_b64])\\\r\n",
      "  File \"/home/alex/anaconda3/envs/spark-nlp-in-action/lib/python3.6/subprocess.py\", line 356, in check_output\r\n",
      "    **kwargs).stdout\r\n",
      "  File \"/home/alex/anaconda3/envs/spark-nlp-in-action/lib/python3.6/subprocess.py\", line 438, in run\r\n",
      "    output=stdout, stderr=stderr)\r\n",
      "subprocess.CalledProcessError: Command '['./img2txt.sh', 'PNG', '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']' returned non-zero exit status 1.\r\n",
      "\r\n",
      "\tat org.apache.spark.api.python.BasePythonRunner$ReaderIterator.handlePythonException(PythonRunner.scala:456)\r\n",
      "\tat org.apache.spark.api.python.PythonRunner$$anon$1.read(PythonRunner.scala:592)\r\n",
      "\tat org.apache.spark.api.python.PythonRunner$$anon$1.read(PythonRunner.scala:575)\r\n",
      "\tat org.apache.spark.api.python.BasePythonRunner$ReaderIterator.hasNext(PythonRunner.scala:410)\r\n",
      "\tat org.apache.spark.InterruptibleIterator.hasNext(InterruptibleIterator.scala:37)\r\n",
      "\tat scala.collection.Iterator$$anon$12.hasNext(Iterator.scala:440)\r\n",
      "\tat scala.collection.Iterator$$anon$11.hasNext(Iterator.scala:409)\r\n",
      "\tat scala.collection.Iterator$$anon$11.hasNext(Iterator.scala:409)\r\n",
      "\tat scala.collection.Iterator$$anon$11.hasNext(Iterator.scala:409)\r\n",
      "\tat org.apache.spark.sql.catalyst.expressions.GeneratedClass$GeneratedIteratorForCodegenStage1.processNext(Unknown Source)\r\n",
      "\tat org.apache.spark.sql.execution.BufferedRowIterator.hasNext(BufferedRowIterator.java:43)\r\n",
      "\tat org.apache.spark.sql.execution.WholeStageCodegenExec$$anonfun$13$$anon$1.hasNext(WholeStageCodegenExec.scala:636)\r\n",
      "\tat org.apache.spark.sql.execution.datasources.FileFormatWriter$$anonfun$org$apache$spark$sql$execution$datasources$FileFormatWriter$$executeTask$3.apply(FileFormatWriter.scala:244)\r\n",
      "\tat org.apache.spark.sql.execution.datasources.FileFormatWriter$$anonfun$org$apache$spark$sql$execution$datasources$FileFormatWriter$$executeTask$3.apply(FileFormatWriter.scala:242)\r\n",
      "\tat org.apache.spark.util.Utils$.tryWithSafeFinallyAndFailureCallbacks(Utils.scala:1394)\r\n",
      "\tat org.apache.spark.sql.execution.datasources.FileFormatWriter$.org$apache$spark$sql$execution$datasources$FileFormatWriter$$executeTask(FileFormatWriter.scala:248)\r\n",
      "\t... 10 more\r\n",
      "\r\n",
      "20/07/29 08:51:25 ERROR TaskSetManager: Task 1 in stage 26.0 failed 1 times; aborting job\r\n",
      "20/07/29 08:51:25 ERROR FileFormatWriter: Aborting job 70dd3c97-75b6-44dc-9746-7567c12baccd.\r\n",
      "org.apache.spark.SparkException: Job aborted due to stage failure: Task 1 in stage 26.0 failed 1 times, most recent failure: Lost task 1.0 in stage 26.0 (TID 83, localhost, executor driver): org.apache.spark.SparkException: Task failed while writing rows.\r\n",
      "\tat org.apache.spark.sql.execution.datasources.FileFormatWriter$.org$apache$spark$sql$execution$datasources$FileFormatWriter$$executeTask(FileFormatWriter.scala:257)\r\n",
      "\tat org.apache.spark.sql.execution.datasources.FileFormatWriter$$anonfun$write$1.apply(FileFormatWriter.scala:170)\r\n",
      "\tat org.apache.spark.sql.execution.datasources.FileFormatWriter$$anonfun$write$1.apply(FileFormatWriter.scala:169)\r\n",
      "\tat org.apache.spark.scheduler.ResultTask.runTask(ResultTask.scala:90)\r\n",
      "\tat org.apache.spark.scheduler.Task.run(Task.scala:123)\r\n",
      "\tat org.apache.spark.executor.Executor$TaskRunner$$anonfun$10.apply(Executor.scala:408)\r\n",
      "\tat org.apache.spark.util.Utils$.tryWithSafeFinally(Utils.scala:1360)\r\n",
      "\tat org.apache.spark.executor.Executor$TaskRunner.run(Executor.scala:414)\r\n",
      "\tat java.util.concurrent.ThreadPoolExecutor.runWorker(ThreadPoolExecutor.java:1149)\r\n",
      "\tat java.util.concurrent.ThreadPoolExecutor$Worker.run(ThreadPoolExecutor.java:624)\r\n",
      "\tat java.lang.Thread.run(Thread.java:748)\r\n",
      "Caused by: org.apache.spark.api.python.PythonException: Traceback (most recent call last):\r\n",
      "  File \"/home/alex/anaconda3/envs/spark-nlp-in-action/lib/python3.6/site-packages/pyspark/python/lib/pyspark.zip/pyspark/worker.py\", line 377, in main\r\n",
      "    process()\r\n",
      "  File \"/home/alex/anaconda3/envs/spark-nlp-in-action/lib/python3.6/site-packages/pyspark/python/lib/pyspark.zip/pyspark/worker.py\", line 372, in process\r\n",
      "    serializer.dump_stream(func(split_index, iterator), outfile)\r\n",
      "  File \"/home/alex/anaconda3/envs/spark-nlp-in-action/lib/python3.6/site-packages/pyspark/python/lib/pyspark.zip/pyspark/serializers.py\", line 393, in dump_stream\r\n",
      "    vs = list(itertools.islice(iterator, batch))\r\n",
      "  File \"process_image_dir.py\", line 13, in process_partition\r\n",
      "    text = sub.check_output(['./img2txt.sh', extension, image_b64])\\\r\n",
      "  File \"/home/alex/anaconda3/envs/spark-nlp-in-action/lib/python3.6/subprocess.py\", line 356, in check_output\r\n",
      "    **kwargs).stdout\r\n",
      "  File \"/home/alex/anaconda3/envs/spark-nlp-in-action/lib/python3.6/subprocess.py\", line 438, in run\r\n",
      "    output=stdout, stderr=stderr)\r\n",
      "subprocess.CalledProcessError: Command '['./img2txt.sh', 'PNG', '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']' returned non-zero exit status 1.\r\n",
      "\r\n",
      "\tat org.apache.spark.api.python.BasePythonRunner$ReaderIterator.handlePythonException(PythonRunner.scala:456)\r\n",
      "\tat org.apache.spark.api.python.PythonRunner$$anon$1.read(PythonRunner.scala:592)\r\n",
      "\tat org.apache.spark.api.python.PythonRunner$$anon$1.read(PythonRunner.scala:575)\r\n",
      "\tat org.apache.spark.api.python.BasePythonRunner$ReaderIterator.hasNext(PythonRunner.scala:410)\r\n",
      "\tat org.apache.spark.InterruptibleIterator.hasNext(InterruptibleIterator.scala:37)\r\n",
      "\tat scala.collection.Iterator$$anon$12.hasNext(Iterator.scala:440)\r\n",
      "\tat scala.collection.Iterator$$anon$11.hasNext(Iterator.scala:409)\r\n",
      "\tat scala.collection.Iterator$$anon$11.hasNext(Iterator.scala:409)\r\n",
      "\tat scala.collection.Iterator$$anon$11.hasNext(Iterator.scala:409)\r\n",
      "\tat org.apache.spark.sql.catalyst.expressions.GeneratedClass$GeneratedIteratorForCodegenStage1.processNext(Unknown Source)\r\n",
      "\tat org.apache.spark.sql.execution.BufferedRowIterator.hasNext(BufferedRowIterator.java:43)\r\n",
      "\tat org.apache.spark.sql.execution.WholeStageCodegenExec$$anonfun$13$$anon$1.hasNext(WholeStageCodegenExec.scala:636)\r\n",
      "\tat org.apache.spark.sql.execution.datasources.FileFormatWriter$$anonfun$org$apache$spark$sql$execution$datasources$FileFormatWriter$$executeTask$3.apply(FileFormatWriter.scala:244)\r\n",
      "\tat org.apache.spark.sql.execution.datasources.FileFormatWriter$$anonfun$org$apache$spark$sql$execution$datasources$FileFormatWriter$$executeTask$3.apply(FileFormatWriter.scala:242)\r\n",
      "\tat org.apache.spark.util.Utils$.tryWithSafeFinallyAndFailureCallbacks(Utils.scala:1394)\r\n",
      "\tat org.apache.spark.sql.execution.datasources.FileFormatWriter$.org$apache$spark$sql$execution$datasources$FileFormatWriter$$executeTask(FileFormatWriter.scala:248)\r\n",
      "\t... 10 more\r\n",
      "\r\n",
      "Driver stacktrace:\r\n",
      "\tat org.apache.spark.scheduler.DAGScheduler.org$apache$spark$scheduler$DAGScheduler$$failJobAndIndependentStages(DAGScheduler.scala:1889)\r\n",
      "\tat org.apache.spark.scheduler.DAGScheduler$$anonfun$abortStage$1.apply(DAGScheduler.scala:1877)\r\n",
      "\tat org.apache.spark.scheduler.DAGScheduler$$anonfun$abortStage$1.apply(DAGScheduler.scala:1876)\r\n",
      "\tat scala.collection.mutable.ResizableArray$class.foreach(ResizableArray.scala:59)\r\n",
      "\tat scala.collection.mutable.ArrayBuffer.foreach(ArrayBuffer.scala:48)\r\n",
      "\tat org.apache.spark.scheduler.DAGScheduler.abortStage(DAGScheduler.scala:1876)\r\n",
      "\tat org.apache.spark.scheduler.DAGScheduler$$anonfun$handleTaskSetFailed$1.apply(DAGScheduler.scala:926)\r\n",
      "\tat org.apache.spark.scheduler.DAGScheduler$$anonfun$handleTaskSetFailed$1.apply(DAGScheduler.scala:926)\r\n",
      "\tat scala.Option.foreach(Option.scala:257)\r\n",
      "\tat org.apache.spark.scheduler.DAGScheduler.handleTaskSetFailed(DAGScheduler.scala:926)\r\n",
      "\tat org.apache.spark.scheduler.DAGSchedulerEventProcessLoop.doOnReceive(DAGScheduler.scala:2110)\r\n",
      "\tat org.apache.spark.scheduler.DAGSchedulerEventProcessLoop.onReceive(DAGScheduler.scala:2059)\r\n",
      "\tat org.apache.spark.scheduler.DAGSchedulerEventProcessLoop.onReceive(DAGScheduler.scala:2048)\r\n",
      "\tat org.apache.spark.util.EventLoop$$anon$1.run(EventLoop.scala:49)\r\n",
      "\tat org.apache.spark.scheduler.DAGScheduler.runJob(DAGScheduler.scala:737)\r\n",
      "\tat org.apache.spark.SparkContext.runJob(SparkContext.scala:2061)\r\n",
      "\tat org.apache.spark.sql.execution.datasources.FileFormatWriter$.write(FileFormatWriter.scala:167)\r\n",
      "\tat org.apache.spark.sql.execution.datasources.InsertIntoHadoopFsRelationCommand.run(InsertIntoHadoopFsRelationCommand.scala:159)\r\n",
      "\tat org.apache.spark.sql.execution.command.DataWritingCommandExec.sideEffectResult$lzycompute(commands.scala:104)\r\n",
      "\tat org.apache.spark.sql.execution.command.DataWritingCommandExec.sideEffectResult(commands.scala:102)\r\n",
      "\tat org.apache.spark.sql.execution.command.DataWritingCommandExec.doExecute(commands.scala:122)\r\n",
      "\tat org.apache.spark.sql.execution.SparkPlan$$anonfun$execute$1.apply(SparkPlan.scala:131)\r\n",
      "\tat org.apache.spark.sql.execution.SparkPlan$$anonfun$execute$1.apply(SparkPlan.scala:127)\r\n",
      "\tat org.apache.spark.sql.execution.SparkPlan$$anonfun$executeQuery$1.apply(SparkPlan.scala:155)\r\n",
      "\tat org.apache.spark.rdd.RDDOperationScope$.withScope(RDDOperationScope.scala:151)\r\n",
      "\tat org.apache.spark.sql.execution.SparkPlan.executeQuery(SparkPlan.scala:152)\r\n",
      "\tat org.apache.spark.sql.execution.SparkPlan.execute(SparkPlan.scala:127)\r\n",
      "\tat org.apache.spark.sql.execution.QueryExecution.toRdd$lzycompute(QueryExecution.scala:80)\r\n",
      "\tat org.apache.spark.sql.execution.QueryExecution.toRdd(QueryExecution.scala:80)\r\n",
      "\tat org.apache.spark.sql.DataFrameWriter$$anonfun$runCommand$1.apply(DataFrameWriter.scala:676)\r\n",
      "\tat org.apache.spark.sql.DataFrameWriter$$anonfun$runCommand$1.apply(DataFrameWriter.scala:676)\r\n",
      "\tat org.apache.spark.sql.execution.SQLExecution$$anonfun$withNewExecutionId$1.apply(SQLExecution.scala:78)\r\n",
      "\tat org.apache.spark.sql.execution.SQLExecution$.withSQLConfPropagated(SQLExecution.scala:125)\r\n",
      "\tat org.apache.spark.sql.execution.SQLExecution$.withNewExecutionId(SQLExecution.scala:73)\r\n",
      "\tat org.apache.spark.sql.DataFrameWriter.runCommand(DataFrameWriter.scala:676)\r\n",
      "\tat org.apache.spark.sql.DataFrameWriter.saveToV1Source(DataFrameWriter.scala:285)\r\n",
      "\tat org.apache.spark.sql.DataFrameWriter.save(DataFrameWriter.scala:271)\r\n",
      "\tat org.apache.spark.sql.DataFrameWriter.save(DataFrameWriter.scala:229)\r\n",
      "\tat org.apache.spark.sql.DataFrameWriter.parquet(DataFrameWriter.scala:566)\r\n",
      "\tat sun.reflect.NativeMethodAccessorImpl.invoke0(Native Method)\r\n",
      "\tat sun.reflect.NativeMethodAccessorImpl.invoke(NativeMethodAccessorImpl.java:62)\r\n",
      "\tat sun.reflect.DelegatingMethodAccessorImpl.invoke(DelegatingMethodAccessorImpl.java:43)\r\n",
      "\tat java.lang.reflect.Method.invoke(Method.java:498)\r\n",
      "\tat py4j.reflection.MethodInvoker.invoke(MethodInvoker.java:244)\r\n",
      "\tat py4j.reflection.ReflectionEngine.invoke(ReflectionEngine.java:357)\r\n",
      "\tat py4j.Gateway.invoke(Gateway.java:282)\r\n",
      "\tat py4j.commands.AbstractCommand.invokeMethod(AbstractCommand.java:132)\r\n",
      "\tat py4j.commands.CallCommand.execute(CallCommand.java:79)\r\n",
      "\tat py4j.GatewayConnection.run(GatewayConnection.java:238)\r\n",
      "\tat java.lang.Thread.run(Thread.java:748)\r\n",
      "Caused by: org.apache.spark.SparkException: Task failed while writing rows.\r\n",
      "\tat org.apache.spark.sql.execution.datasources.FileFormatWriter$.org$apache$spark$sql$execution$datasources$FileFormatWriter$$executeTask(FileFormatWriter.scala:257)\r\n",
      "\tat org.apache.spark.sql.execution.datasources.FileFormatWriter$$anonfun$write$1.apply(FileFormatWriter.scala:170)\r\n",
      "\tat org.apache.spark.sql.execution.datasources.FileFormatWriter$$anonfun$write$1.apply(FileFormatWriter.scala:169)\r\n",
      "\tat org.apache.spark.scheduler.ResultTask.runTask(ResultTask.scala:90)\r\n",
      "\tat org.apache.spark.scheduler.Task.run(Task.scala:123)\r\n",
      "\tat org.apache.spark.executor.Executor$TaskRunner$$anonfun$10.apply(Executor.scala:408)\r\n",
      "\tat org.apache.spark.util.Utils$.tryWithSafeFinally(Utils.scala:1360)\r\n",
      "\tat org.apache.spark.executor.Executor$TaskRunner.run(Executor.scala:414)\r\n",
      "\tat java.util.concurrent.ThreadPoolExecutor.runWorker(ThreadPoolExecutor.java:1149)\r\n",
      "\tat java.util.concurrent.ThreadPoolExecutor$Worker.run(ThreadPoolExecutor.java:624)\r\n",
      "\t... 1 more\r\n",
      "Caused by: org.apache.spark.api.python.PythonException: Traceback (most recent call last):\r\n",
      "  File \"/home/alex/anaconda3/envs/spark-nlp-in-action/lib/python3.6/site-packages/pyspark/python/lib/pyspark.zip/pyspark/worker.py\", line 377, in main\r\n",
      "    process()\r\n",
      "  File \"/home/alex/anaconda3/envs/spark-nlp-in-action/lib/python3.6/site-packages/pyspark/python/lib/pyspark.zip/pyspark/worker.py\", line 372, in process\r\n",
      "    serializer.dump_stream(func(split_index, iterator), outfile)\r\n",
      "  File \"/home/alex/anaconda3/envs/spark-nlp-in-action/lib/python3.6/site-packages/pyspark/python/lib/pyspark.zip/pyspark/serializers.py\", line 393, in dump_stream\r\n",
      "    vs = list(itertools.islice(iterator, batch))\r\n",
      "  File \"process_image_dir.py\", line 13, in process_partition\r\n",
      "    text = sub.check_output(['./img2txt.sh', extension, image_b64])\\\r\n",
      "  File \"/home/alex/anaconda3/envs/spark-nlp-in-action/lib/python3.6/subprocess.py\", line 356, in check_output\r\n",
      "    **kwargs).stdout\r\n",
      "  File \"/home/alex/anaconda3/envs/spark-nlp-in-action/lib/python3.6/subprocess.py\", line 438, in run\r\n",
      "    output=stdout, stderr=stderr)\r\n"
     ]
    },
    {
     "name": "stdout",
     "output_type": "stream",
     "text": [
      "subprocess.CalledProcessError: Command '['./img2txt.sh', 'PNG', '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']' returned non-zero exit status 1.\r\n",
      "\r\n",
      "\tat org.apache.spark.api.python.BasePythonRunner$ReaderIterator.handlePythonException(PythonRunner.scala:456)\r\n",
      "\tat org.apache.spark.api.python.PythonRunner$$anon$1.read(PythonRunner.scala:592)\r\n",
      "\tat org.apache.spark.api.python.PythonRunner$$anon$1.read(PythonRunner.scala:575)\r\n",
      "\tat org.apache.spark.api.python.BasePythonRunner$ReaderIterator.hasNext(PythonRunner.scala:410)\r\n",
      "\tat org.apache.spark.InterruptibleIterator.hasNext(InterruptibleIterator.scala:37)\r\n",
      "\tat scala.collection.Iterator$$anon$12.hasNext(Iterator.scala:440)\r\n",
      "\tat scala.collection.Iterator$$anon$11.hasNext(Iterator.scala:409)\r\n",
      "\tat scala.collection.Iterator$$anon$11.hasNext(Iterator.scala:409)\r\n",
      "\tat scala.collection.Iterator$$anon$11.hasNext(Iterator.scala:409)\r\n",
      "\tat org.apache.spark.sql.catalyst.expressions.GeneratedClass$GeneratedIteratorForCodegenStage1.processNext(Unknown Source)\r\n",
      "\tat org.apache.spark.sql.execution.BufferedRowIterator.hasNext(BufferedRowIterator.java:43)\r\n",
      "\tat org.apache.spark.sql.execution.WholeStageCodegenExec$$anonfun$13$$anon$1.hasNext(WholeStageCodegenExec.scala:636)\r\n",
      "\tat org.apache.spark.sql.execution.datasources.FileFormatWriter$$anonfun$org$apache$spark$sql$execution$datasources$FileFormatWriter$$executeTask$3.apply(FileFormatWriter.scala:244)\r\n",
      "\tat org.apache.spark.sql.execution.datasources.FileFormatWriter$$anonfun$org$apache$spark$sql$execution$datasources$FileFormatWriter$$executeTask$3.apply(FileFormatWriter.scala:242)\r\n",
      "\tat org.apache.spark.util.Utils$.tryWithSafeFinallyAndFailureCallbacks(Utils.scala:1394)\r\n",
      "\tat org.apache.spark.sql.execution.datasources.FileFormatWriter$.org$apache$spark$sql$execution$datasources$FileFormatWriter$$executeTask(FileFormatWriter.scala:248)\r\n",
      "\t... 10 more\r\n",
      "\r",
      "[Stage 26:>                                                         (0 + 3) / 4]Traceback (most recent call last):\r\n",
      "  File \"process_image_dir.py\", line 42, in <module>\r\n",
      "    processed.write.mode('overwrite').parquet(output_file)\r\n",
      "  File \"/home/alex/anaconda3/envs/spark-nlp-in-action/lib/python3.6/site-packages/pyspark/sql/readwriter.py\", line 843, in parquet\r\n",
      "    self._jwrite.parquet(path)\r\n",
      "  File \"/home/alex/anaconda3/envs/spark-nlp-in-action/lib/python3.6/site-packages/py4j/java_gateway.py\", line 1257, in __call__\r\n",
      "    answer, self.gateway_client, self.target_id, self.name)\r\n",
      "  File \"/home/alex/anaconda3/envs/spark-nlp-in-action/lib/python3.6/site-packages/pyspark/sql/utils.py\", line 63, in deco\r\n",
      "    return f(*a, **kw)\r\n",
      "  File \"/home/alex/anaconda3/envs/spark-nlp-in-action/lib/python3.6/site-packages/py4j/protocol.py\", line 328, in get_return_value\r\n",
      "    format(target_id, \".\", name), value)\r\n",
      "py4j.protocol.Py4JJavaError: An error occurred while calling o526.parquet.\r\n",
      ": org.apache.spark.SparkException: Job aborted.\r\n",
      "\tat org.apache.spark.sql.execution.datasources.FileFormatWriter$.write(FileFormatWriter.scala:198)\r\n",
      "\tat org.apache.spark.sql.execution.datasources.InsertIntoHadoopFsRelationCommand.run(InsertIntoHadoopFsRelationCommand.scala:159)\r\n",
      "\tat org.apache.spark.sql.execution.command.DataWritingCommandExec.sideEffectResult$lzycompute(commands.scala:104)\r\n",
      "\tat org.apache.spark.sql.execution.command.DataWritingCommandExec.sideEffectResult(commands.scala:102)\r\n",
      "\tat org.apache.spark.sql.execution.command.DataWritingCommandExec.doExecute(commands.scala:122)\r\n",
      "\tat org.apache.spark.sql.execution.SparkPlan$$anonfun$execute$1.apply(SparkPlan.scala:131)\r\n",
      "\tat org.apache.spark.sql.execution.SparkPlan$$anonfun$execute$1.apply(SparkPlan.scala:127)\r\n",
      "\tat org.apache.spark.sql.execution.SparkPlan$$anonfun$executeQuery$1.apply(SparkPlan.scala:155)\r\n",
      "\tat org.apache.spark.rdd.RDDOperationScope$.withScope(RDDOperationScope.scala:151)\r\n",
      "\tat org.apache.spark.sql.execution.SparkPlan.executeQuery(SparkPlan.scala:152)\r\n",
      "\tat org.apache.spark.sql.execution.SparkPlan.execute(SparkPlan.scala:127)\r\n",
      "\tat org.apache.spark.sql.execution.QueryExecution.toRdd$lzycompute(QueryExecution.scala:80)\r\n",
      "\tat org.apache.spark.sql.execution.QueryExecution.toRdd(QueryExecution.scala:80)\r\n",
      "\tat org.apache.spark.sql.DataFrameWriter$$anonfun$runCommand$1.apply(DataFrameWriter.scala:676)\r\n",
      "\tat org.apache.spark.sql.DataFrameWriter$$anonfun$runCommand$1.apply(DataFrameWriter.scala:676)\r\n",
      "\tat org.apache.spark.sql.execution.SQLExecution$$anonfun$withNewExecutionId$1.apply(SQLExecution.scala:78)\r\n",
      "\tat org.apache.spark.sql.execution.SQLExecution$.withSQLConfPropagated(SQLExecution.scala:125)\r\n",
      "\tat org.apache.spark.sql.execution.SQLExecution$.withNewExecutionId(SQLExecution.scala:73)\r\n",
      "\tat org.apache.spark.sql.DataFrameWriter.runCommand(DataFrameWriter.scala:676)\r\n",
      "\tat org.apache.spark.sql.DataFrameWriter.saveToV1Source(DataFrameWriter.scala:285)\r\n",
      "\tat org.apache.spark.sql.DataFrameWriter.save(DataFrameWriter.scala:271)\r\n",
      "\tat org.apache.spark.sql.DataFrameWriter.save(DataFrameWriter.scala:229)\r\n",
      "\tat org.apache.spark.sql.DataFrameWriter.parquet(DataFrameWriter.scala:566)\r\n",
      "\tat sun.reflect.NativeMethodAccessorImpl.invoke0(Native Method)\r\n",
      "\tat sun.reflect.NativeMethodAccessorImpl.invoke(NativeMethodAccessorImpl.java:62)\r\n",
      "\tat sun.reflect.DelegatingMethodAccessorImpl.invoke(DelegatingMethodAccessorImpl.java:43)\r\n",
      "\tat java.lang.reflect.Method.invoke(Method.java:498)\r\n",
      "\tat py4j.reflection.MethodInvoker.invoke(MethodInvoker.java:244)\r\n",
      "\tat py4j.reflection.ReflectionEngine.invoke(ReflectionEngine.java:357)\r\n",
      "\tat py4j.Gateway.invoke(Gateway.java:282)\r\n",
      "\tat py4j.commands.AbstractCommand.invokeMethod(AbstractCommand.java:132)\r\n",
      "\tat py4j.commands.CallCommand.execute(CallCommand.java:79)\r\n",
      "\tat py4j.GatewayConnection.run(GatewayConnection.java:238)\r\n",
      "\tat java.lang.Thread.run(Thread.java:748)\r\n",
      "Caused by: org.apache.spark.SparkException: Job aborted due to stage failure: Task 1 in stage 26.0 failed 1 times, most recent failure: Lost task 1.0 in stage 26.0 (TID 83, localhost, executor driver): org.apache.spark.SparkException: Task failed while writing rows.\r\n",
      "\tat org.apache.spark.sql.execution.datasources.FileFormatWriter$.org$apache$spark$sql$execution$datasources$FileFormatWriter$$executeTask(FileFormatWriter.scala:257)\r\n",
      "\tat org.apache.spark.sql.execution.datasources.FileFormatWriter$$anonfun$write$1.apply(FileFormatWriter.scala:170)\r\n",
      "\tat org.apache.spark.sql.execution.datasources.FileFormatWriter$$anonfun$write$1.apply(FileFormatWriter.scala:169)\r\n",
      "\tat org.apache.spark.scheduler.ResultTask.runTask(ResultTask.scala:90)\r\n",
      "\tat org.apache.spark.scheduler.Task.run(Task.scala:123)\r\n",
      "\tat org.apache.spark.executor.Executor$TaskRunner$$anonfun$10.apply(Executor.scala:408)\r\n",
      "\tat org.apache.spark.util.Utils$.tryWithSafeFinally(Utils.scala:1360)\r\n",
      "\tat org.apache.spark.executor.Executor$TaskRunner.run(Executor.scala:414)\r\n",
      "\tat java.util.concurrent.ThreadPoolExecutor.runWorker(ThreadPoolExecutor.java:1149)\r\n",
      "\tat java.util.concurrent.ThreadPoolExecutor$Worker.run(ThreadPoolExecutor.java:624)\r\n",
      "\tat java.lang.Thread.run(Thread.java:748)\r\n",
      "Caused by: org.apache.spark.api.python.PythonException: Traceback (most recent call last):\r\n",
      "  File \"/home/alex/anaconda3/envs/spark-nlp-in-action/lib/python3.6/site-packages/pyspark/python/lib/pyspark.zip/pyspark/worker.py\", line 377, in main\r\n",
      "    process()\r\n",
      "  File \"/home/alex/anaconda3/envs/spark-nlp-in-action/lib/python3.6/site-packages/pyspark/python/lib/pyspark.zip/pyspark/worker.py\", line 372, in process\r\n",
      "    serializer.dump_stream(func(split_index, iterator), outfile)\r\n",
      "  File \"/home/alex/anaconda3/envs/spark-nlp-in-action/lib/python3.6/site-packages/pyspark/python/lib/pyspark.zip/pyspark/serializers.py\", line 393, in dump_stream\r\n",
      "    vs = list(itertools.islice(iterator, batch))\r\n",
      "  File \"process_image_dir.py\", line 13, in process_partition\r\n",
      "    text = sub.check_output(['./img2txt.sh', extension, image_b64])\\\r\n",
      "  File \"/home/alex/anaconda3/envs/spark-nlp-in-action/lib/python3.6/subprocess.py\", line 356, in check_output\r\n",
      "    **kwargs).stdout\r\n",
      "  File \"/home/alex/anaconda3/envs/spark-nlp-in-action/lib/python3.6/subprocess.py\", line 438, in run\r\n",
      "    output=stdout, stderr=stderr)\r\n",
      "subprocess.CalledProcessError: Command '['./img2txt.sh', 'PNG', 'iVBORw0KGgoAAAANSUhEUgAABGIAAAFJCAYAAADQYIvNAAAAAXNSR0IArs4c6QAAAARnQU1BAACxjwv8YQUAADjLSURBVHhe7d2LdaM4GAbQ1OWCXI+rSTNTjBckMBLoAbZDks295/jsxKDXD3ZG3zjZjzsAAAAApxDEAAAAAJxEEAMAAABwEkEMAAAAwEkEMQAAAAAnEcQAAAAAnEQQAwAAAHASQQwAAADASQQxAAAAACcpBzH/bvfLx8f9Y3pcbv+S56/3z/jV5PN+/bjc4yn/7rfL0u7xuNyGI9G/2+Wl47vU5j/5vCZ9p+v5vIbnrukCs+dK61vVYzy/O9+5n7lus0795nWlEwzPxX6KtZse6xoAAAAA59sGMYUw4t/tFsOGbhCzCGFHlmhEISwoPD/rHe9qzX+wnlf4eg46prab448gIwYlad/x+CrM6QUxYx2Hc25D21pAUqzfFLpcLkm9kyAmVWwPAAAAfKtVEBODhuqnJ358ELNn/uu5jvOfwpUxRLleh6/nNQ7HssBkG8TEPpPndgQx4xpDf41zW0HM7XZd1iiIAQAAgF8jD2Iqm/qHcPwHBzGd+Ye+C8HHONcx2JjHHr8OU/iMgcd8fOjhDUFM0kdjvsX6Pc6PAVFoVumjVn8AAADg++RBzBgibIKWxBQ6hB/fyR4Hg5h1++S8l4KYzvxrfc9zfRwf+xn++3mN62oFMaFtGrz0gphQw3mO9U/wFOuXhC7z3NLnUrX6AwAAAN/niSDmhE/ENIKaps78a3Oan1/mNn7i5Hq/XmOgsjwfg5NsbuvQpRPErNcfvi6c3wtiwjjjcUEMAAAA/BqFIGa7qX84K4h5NkDozL8ceiyfShnnPH86Jf3zMqftJ2I2mkFM4RMwYc7b8KgbxIS+hnaCGAAAAPg1Vr+sdwxVyj8qE/z0IKY3/2LoEduMQ6bhS+ptQUyo31CXwmPdZz+IifO63gQxAAAA8FusgpgpdFgFA7/pf1/dnP8UpKT9h3lOwUkziAnnvBbELP3kSrUq1m/96Zfx68tFEAMAAAC/xCaIGc1hxvx4hBPdIGYKOpK24ZGED+u+i8dfDBCq8w9Wc0zGelsQk4wdH7E+tf5jm7Gunfqtg5hBCFwEMQAAAPArFIMYAAAAAN5PEAMAAABwEkEMAAAAwEkEMQAAAAAnEcQAAAAAnEQQAwAAAHASQQwAAADASQQxAAAAACepBDH/7rfLx/3j43K//Zue2iW2uzQa/btdhn7HvsfH9f45Pf+zzOv/qfMDAAAAfqNyEPPvdr9cbvfbtR2qbPWDmIfPqyAGAAAA+FOKQcz4qZUQpoxhyeV23x/F/F+CGAAAAID3KwQxMUy5jgnJ+MmY7MeT5mOf9+vjx4u2x5cgZv5kSeFHnBpBzOd17nt4PBEE5fOb1pLI+l/Nof2jU731AwAAANRtg5gQvswBRD9YCaHGIyxJz5/OrQUplSAm9JckJ3n/PfP8lvAlBivLOOPXaTBT7b84v976AQAAAOo2QUwILpKkIny9ClqyT5hkP740BzGfMbDITlwpBh3jJ01WnzDZfCqnpTC/Up+pbP6JRhBTXz8AAABA3SqImYOUJFbIAol9Qcz8oz2tHKYYdITQZWm/PF4NYpLnSmMIYgAAAIAT5EFMNQiZw4d9QUwIckKQ0fkkSjGI2Ru6lBTml/UZQ5lN0CSIAQAAAE6QBTH5jyEtlt/bciCIGb8Kv5+lEqw0go7mjzQ1beeX/86ZdRATvxbEAAAAAGfIgpgxtMg+LTJ7hBLHgphRCEJWn6hZf9omD2sK5+wOOgpts8kOZ4RwaD4+jHvbzj9rP58XTojHBTEAAADAMza/rPd3KwQlAAAAAD+EIAYAAADgJIIYAAAAgJP8z4IYAAAAgJ9LEAMAAABwEkEMAAAAwEkEMQAAAAAnEcQAAAAAnEQQAwAAAHASQQwAAADASQQxAAAAACcRxAAAAACcRBADAAAAcBJBDAAAAMBJBDEAAAAAJxHEAAAAAJxEEAMAAABwEkEMAAAAwEkEMQAAAAAnEcQAAAAAnEQQAwAAAHASQQwAAADASQQxAAAAACcRxAAAAACcRBADAAAAcBJBDAAAAMBJ8iDm3+1++bjeP6cvo8/79eNyv/0b//zvfrt83D8+Vo/LbTgy255ziY2H7i/Z8+ljPmf0eU2PpfMpjP8Yezp2zWc/Cv1lc2yrj19Zw+6+S/Xbu76oP369/qNm+3D9h6/TGobn4vXfe/3qSusfHun8P6/teraOd+Yfv3ytfv3jAAAAUHcwiFmEsGITekyb1EIYslZuv30+D1Fi/8vGdzXetBHPul1txHva44/dDRv5wrz3ifNNm4f+HzXvrG/QHn97/lqz/VSryyWpV6V+6zodVW3/chDTnv9r9evXFwAAAFreG8SE9qsgpKLefj3WOP7c5zqoGJsMG+tkYx76XX+9d+PcHX8ab29/G3H+WfOsZv319YOUdv377Yf1367LHIo1OVjXgmr7NwQxrfm/VL/ecQAAAOh48ydiYmjR3EhPSu3XocNsPDdurNdBRRwvDS6y51ab8J7++NM5T+/EjwYx2/W1x+/Xvx9EjPUa+pn7qNSwGqTsVG3/jiCmMf/X6tevb7T3PAAAAP6aQhAzbCA3jwMb8bSPxka91L62SV7OjUFFOrc8hIlCPx/X+3VoVzpe0x+/fs4+2yAm9P3YsPfXF9eWn5PNp1P/ZvsktPi8Ttd8FWTMqtd/p2r7twQx9fm/Wr/u8UAQAwAAQNmbPxGTGDfM04a1vN/etq/1uTyffmJk/emR1BxorNfS1h9/LFFnI9+0DVryzXp/fbuDoEr9m+3T0GJsP563CjJmtVrtVW3/piCmNv9X6/fQOw4AAAAFXxfETGJwsQ1ESu3DuZtNdiOcaGzKnwkK+uNP5zy984591Zv313d0/HX9m+2z0GKcy9DutwYxlfm/Wr+13nEAAABIfXkQEzbOe9uHc0vjz+HFKqiYvi7v558ICrrjTxvvo/0+1Ocb9dd3ePxV/ZvtC6HF9fZbg5jy/F+t30bvOAAAACS+PIgJ5xU2zuX2MXhIn8/br4OKaWO9u/+e3vjTeIf7nW2DlVx/fUfHPzT/VZARvr5cfm0QU5r/q/VbKx+P4V1zHQAAAPxJB4OYKaiYfjfG4zFvOEP7yrGV+kZ+NUZ2zjaomMfMnhs8HxS0xh+HOzeIWa8vjD/PbX4cqH+/fR66hDq+LYhZ1XY9/ih8wmR9TjJ+6/iO+b9Uvx31jQQxAAAAlOVBDAAAAABfRhADAAAAcBJBDAAAAMBJBDEAAAAAJxHEAAAAAJxEEAMAAABwEkEMAAAAwEkEMQAAAAAnEcQAAAAAnEQQAwAAAHASQQwAAADASQQxAAAAACcRxAAAAACcRBADAAAAcBJBDAAAAMBJBDEAAAAAJxHEAAAAAJxEEAMAAABwEkEMAAAAwEkEMQAAAAAnEcQAAAAAnEQQAwAAAHASQQwAAADASQQxAAAAACcRxAAAAACcRBADAAAAcJIsiPl3u9w/Pj6Kj8vt33jG/Xb5uF8/4/m/V1zHx8f1/jOX8pXz+7xf02u7uZir4x+Xe7j0X+XzOozxU6/Du/2W18/PeX2E96TLbZjRO3x3/feOX6t/fD6+F7f8nOuX+Xe7XzZzGt9vvvg95hfJvwe/fv2OvX6++vWx9/79LnvX/0NfX7/Qc+/vP6f+5fl/3/ze/f7xO31T/cP3t7n28fFz3+ue4f3xZ4t1b91zv+P94bvun7339/tVPxHzeR0KsZnR9030iP4396+90M/95SL1VfNbX78Yuiwv3Hg8fSG/vpa28T77f32zajnn9fNz77/j3nv/nVP/ur3j1+ofn++/Xn7O9cv8kCDmq9/T3uJNAfWxtX7162Pv/dv2dddv7/p/6OvrF3ruWv6c+pfn/9r83nJ//6l/4Fr7pvtj8/1t+kfNk//C4f3xr4p13/X99Ue/P3zX/bP3/n6/PxrEfK3vHv+IcJ0fc43fOLLr+5Uv2PCN6y/9a/g5r5/fdP/1vHct3/3+9er4sf2vDS4FMfsJYqq+7vp99/vD3/Pbv1d9xfzf0uefDmK+Sen72zf8Hdf741914Pur94eC77u/nwxi4n/jx5u2bzKhbTg2PA69Icz9T0ny9FhPI+s/uZnCG1DSbnksc8zPKd+I9fmX5lfrO33sfyM+PL/h8cqNE/pK1hjHn+cb17n3L86x7XrO9T7C+ZV7rFeDovHNZehvrs9yn+b1r90/89i169sW21bXGWo895+ucd1/emx87F9/fu+kj2WMR83DG3E8ns4572M9dqk+6f3XOx7VX1/R+v7e9x4Sx369/q35lda39/4Y9cffU/9ljXM/q+vbad+efzq35VGq62E7g5je/dGzvn/m+y+vTfpY1a/6+pjrN305Gs8r3CN5/6VrVjs+afxF6WteP6N5ffkcm6/f0hzDdU7OeYwf+23dvy17rt/S5/wo17CstP58bu3XV1S7/3ar1i9q1b99/75Hffy5fu33x+fvz079xzUPa5/7X67jNIfe8Uk2v4Ovr+P3x3LOvvu7P7+g8P4R+1/PKV6rQ/fIs/fnm+rf0q7/vvvzadXvb3N95/HjkWCsSat+B9a/7/6Zaz4/1vNtmeef9pHX7/j9v6rHDr32tfrtvf9b9Q99jAOG11c8Z/3aefb6zfL1pfPt3b/x+DKf+ToV7vHC+8Ps+fmX5te5Pqs5fOvr99H/XLdy/69e35KngphxAvOhcF4ymXW79fG2bf/rF8/4dTqtUv+hTW/Myo3Ynv88v+XiPD1+T2V+b+n7YfsmFCRvMmmt+2J/WZuxr+J8C+fO9U2eXF//pmne43piu7H/2Oe8xvH5dMxnrm/N+t6ZhbmE57f3d3H8Z9c/CW0qc57r8jge/vKw9416O/98fr3j2xqt67s+3lrL2uv1781vbv/c/bFn/IdG/eO9PPVVG7t5/erzz9efjvcG67/APx6r+VTr37fnfmmdE+/XZMzs9RHrkUwv1vlA/XbXt3j91u2nr6vjT+vp1GMx3x/11+/4ddL9Zvw471WNHtL1TmPtntuivqapz/X6C3Us265/s75Z5focq3dBs36x/1b943qT52rv709qjz/Xb+/7yzTfZ+pVqv9Uu/H+muuQff/vHQ9d5PN7ev6N+6N1/UatmvTm91Ac/8jfzyqmGmZ9JJrre0P9dyuuv39/vqQYxKTri39u1f8d66/fP9P6k/7jddjep2Vz/ZY1VOdXrH9rbvv02rfrV7n/k3n26j/ft4/nVu+vvfY9Y//p/PL2vft3e69Vx65cn9fmv70/1vdXe32J73j9Fua/7v+1+tS9/qNJ2RvJeKMvRQoO/UWg0H+pz1Q2ftR7sQbFC92bf2/90a7xe4rzm/reXc+W+abLx8j6D3NYvknukd83cYxi+0LdYq1L12R9T1QkNVuuQWMOo2we+65vTRhzapzWYfzzrm/Er65/0rr/4vVNx6j0n9RyUZh/aN94fWTH0z9P0tdX4b2itZa1l+vfm1+3fc+B9o36X26f4b/L66xg7/XbrD8/ntb0ZdX7e65vr/598f5un9+6p2L72uvj1fodqG/x+nXq8+LrZzh7u77SmKls/eOXrfvywP3bUF1T9f5ar6mmd30Txeszza1z/7W061ewml8cv3b/foFs/E79Xr4/E6X6J88t/c733DBC73io1eraPfv6Ks2vJK3PpF6TzvxSlfHz+ytd+z4v3Z+v1v+I4vo79+erwlzLY77n7x/7VO+f4vyOvD8cqF+x/tPcnrmek3b7fv1C+2QB+f28s322rrR+77l+may+vfrP99qzfz98df6F+ZX6TB26fw7cf0/p9f8F13fy3iAmTGpot3m8eiGT50pjrC5E9Y0oVbrQ3fnvuxF2jd9Tmt8kvhlMc3tynHB9N9dlVetRmMeBGy3UcJp3+udM6ToPimuunFuStF+uQWz/+MtG8/7Zd32rHucOdbxcw+Mz67PT/6vrn7Tuv3BsT2e755LeM53jvddX4X459Fp6tf69+fXadx1o36j/PK+sn7VG+9b4r/5Fvan4fjDeH+n1X9a3PA68/wx674/Pvz5er9/u+pau31e/fkrrC9cnea40h0f/pfapeHxuVz+vrbqmvfd8VeHc1fV9KI4V9e6/uh1zbdZ/GvvZwu5x9Pqn9Xv5/kyU6p88t/Qb5xReY73jpbWFxxOvr9r90bl+o2qfvfmlmuNPzxfW0/bi/flq/Y8orr9zf76qWM/4/hnf4zvjv2n9x+7JHdf04UD9imNFYX7z2p6ofbX9nvpl1yj5u8doR/swdq1Y77h+pT4ea+zVPx6f2zWvaen6vDz/0r105O8Pib33au3+e0qn/3dc34ovCGJemVSh/6zP9E1tUrgQ1TeiVOlCd+e/70bYNX5PaX4bcT5H/+IV38gK6yyt//A1jXMar9E4TnatZqHPwtqKa169kFuS9ss1WOYz91W/f/Zd36p5XcN/r8MY42sofvR2rl+n/1fXP2ndf+HYns6KcynMP7s/OsezcwsKx1tr2QjtX6h/b3699l0H2jfqH+7fcLwx10b71vjhfT98c5ke2ckvmq/P9GU03t/TOrr1Pyqud72G518fr9dvd31L169Xn8LxQ6+f0vqyPve9fxbf84PkeFjfc9e6uqZSzaY5Vy9ppn99H4pjrcX+9r+GevXr1X+qze7xjtp3/av1e/n+TJTqnzy39Lu+5xrH3/n6Ks2vW7+o2mdvfqni+KNlveM42Vy6Xrw/X63/EcX1x7F2vb6fEea/GjPMY15TZ/w3rf+Ze3LfW8aB+hXHWov9Pf9+tWq/q37JGtZz39E+1LY235ev34vvr9Px0D7UvzGX0vV5ef6F+WV97nv/C0rz667/VZ3+X65P3Zt/NCkef/WFlTbP57G+kPHrzYUIF7FTsMaFrs+/t/7JnvF7ivPbKl+nuvBGUp3bVM+kv7hx6M8jE2oyfiKhPM7YZ/ZifKiMv/eFltSs+I1+6r9+/+y8vlVjf9f77TY8wnBD2+tQh0f9ev2/uP5ZqEO59s1vJKmklovt/PP7b9/x+vir6xPmcGT9r9a/N79e+54D7cPay/Wf69N8LTfa18cf67fjfSt8QxrqtOm/I7Rbt0nH7NX/uPz+m4TaPPP6WM1vrsPu+u2s76hx/erzG/t/5fWzvT/y+q36n75O+29/f4n977p/W6rXb5pPsoBj75/b9YexSu2L12ereP81tGuys/7d8aZ2R1+/3fF79Vu1P3x/Jkr1T54LdQj9Jvdc7/j057e8vkrzW7efvt60D21L90Bvfoni+JPxWOPvZy0v3Z/JnJ6r/wHF9cf+6/fn5F3f36Z+lnqs1rf5/vGm9Ye1/z/fH9fy9jvrN85tOGdsm5/ab99+f331+vXeH3r1j8fn9s3XavH6vDr/7fzy69NbX6Ixv/r6Z1O/R1+/3f5frU/dm4OY0TTZUIjpUSp0UaHtag7x5pqPDzfZsOkq9R/mn54XTij0nx0ftea/Z/1Refye/vzyfofH7tqO5ht0+1jWtD7n6M08mvrY3D+j8VirHqvxj6wvefGWv9FPzz/6H+aR3T/7r2/ZdP0e509rOdT/C+tP1O6/Xd9I0vGz9oXjWV+946PCOekaH38Jmp4/vf6t+e1p39JrXxg7PPL6L9/Ilusc+9zXvjX//PUxPdbre9dfVIP1+0FhDbvru9Sj1/a518cgvT/HtRysX/t47/qNOvV5x+sn7XtVi3z+w7wK3383a1ytr37/7le7fvF+So7tXvsozq/++uhfn733X0u9futj2/qH491iLus4Wvf2+L36Dd59f4bHVP+xr9b3/97xoDDG7vl35jee0bl+s/r93Zpff/xoeo0cvfiTfA3DI5l/c33vqH9Tb/3xePP+HD2u8fp7VUf2vSE+NiXOztl+/yiuYff6F//X98d++z31m2tQur7t9uG+bb5uXrt+7feHffV//u+Ho1fmX2i7qtWe9WXt5/PCCfF4ff2zpZ/mpdrY039hjrvrU1cNYr5HoRD8QvGNrnQd+29k/Fy916fX768W/pKYflMexddy+s2dil791JcfIv6FeH0v8jfU/34G8Jyf8/f/3/b9TRDD24UUtpgS+gvA7yaI+V8b0//1N6/pX/Bc0x169VNffoT4Pv2Of8nj96n//QzgWT/l7/+/7/ubIIa3eXxs0Df5/6ne69Pr97fbfPRXSHBIr37qy7cKYeBw37np/hx/PwO+zg/4+/8v/f72w4IYAAAAgP8vQQwAAADASQQxAAAAACcRxAAAAACcRBADAAAAcJKDQcx3/1bkvz7+LM7j4+N6PzaVnzL/mji/S+N//h7///DTb/8/vP6f7quvzzn9t64fAADAX1cMYsJmt/i/uPvujfy+8evz3+fnrn8W5/FVQcyr9XtenN+ujXz435QJYo45p39BDAAAQJ0gpuDnBzHPOqd+zzuwkRfEPOGc/gUxAAAAdVkQEzbgjx/7SB+Xe9xbzRu5+N/82Cw9Nj7SzXJhIzhuqLNN/7p9fMTNXXv8/vzb3rP+cUlJ24OBRpjDWKAQNMQ+0o1tPsdSEPF99Ztl6y9e/8/7tdh3PL6sd55nYfxGEPN0/cc+h9rP7Zc65ePX1hfrt55TXOu+cGKuzzxufKyDk+fvr37/vftvuSbzY3t9e9evPv95frX7AwAA4Pd76hMx4wZp3ryFTdXj3Ol4srPLN6fzRit8Ea2CmNDf44R4/nZjVxs/qs9/n+fXv55/eX4tsV5Jm3+3++VAEPHd9RvbJstf9T+Pv6yndDzOdzq3No9d6y+vr2oKH8bx5+swhxZzDdvriwFCejz0uXf8ec1JH3EeyzpfWt+O/ud1P/rM7r+pfTJ+3j6t1XTuam7t+c/zq90fAAAAv9/rP5qUbjTDpm29OU43p5322blRmMvjiV77qD7/fZ5ef5j/KjSpBSkV+cZ2VNjcj8Zxm7WOvqN+maz/3vjx+OX2Gf6bbtg3qut/of5Jn0sN5jlVOljVLw8aOm03CvXJ1vTq/dXrf1p37f7b+fquX7/e/AvzW9UXAADgt3tvEFPcHKdt+hut9kZ230bt1SDh6fWHTeUw/81j70Z5GjsboKJY6x9Qv1INHn31xo/H53bNMpTW/2r9kz6XGqxq2FzfIByf5pX+eZdCfYbWeRCyGjs89t5fnf4HzfuveM+lfXauX3f+hfkV7k8AAIDf7IQgZvsv5q2NVggS0k1advK+jdpLQcLg6fWHjeb+0KWkuRFOFWv93fWL1zr7BEjWf2/8eDy0D+tr1LK0/lfrn/S51CCZU3d9o+X8sY/s3K5CfdI1vXx/dfoPXzbuv1LNp5rEJp3r151/YX6b+gIAAPxuxSCmuIkKehuluClLN3IhGFhttB/Hw8YsPT62f8NGrTr/nZ5e/2p9T3gtiPnu+q2Diul+WNWnV7+5fahFbR7F9b9Y/6TPfUHMen2TsKbr/Xo5WsNtfUqfcHr+/ur1P6272v+03uR46fVdv369+W/nF2u5qu/8vrG5/gAAAD9fOYgZ5J+smDdTezZK02ZtflQ3UeNj2Eit2sfNW9J+fKw2et2N2qA8//2eX/+02Xy0HR6F+dW0N8KFvsNjWd931y8ff2h3S/vvjR+PL0HHMo/Ypr/+4jl76z/OpRnETM+n42brm20Di30Kc9/08cL6dvTfvv9Grdd3XqtRfv1GrfnHY9nwpftTEAMAAPxi1SDmWxR/dCFu/NLNHRXq90PEmjfzDAAAAP6knxXEhE8krIKE6V+/bWp3UL8fIXwKZPenVAAAAPhLflYQM8h/JCY+hAj7qd/3edReCAMAAEDFjwtiAAAAAP6vBDEAAAAAJxHEAAAAAJxEEAMAAABwEkEMAAAAwEkEMQAAAAAnEcQAAAAAnEQQAwAAAHASQQwAAADASQQxAAAAACcRxAAAAACcRBADAAAAcBJBDAAAAMBJBDEAAAAAJxHEAAAAAJxEEAMAAABwEkEMAAAAwEkEMQAAAAAnEcQAAAAAnEQQAwAAAHASQQwAAADASQQxAAAAACcRxAAAAACcZBPE/Ltd7h8fH/njcrv/exy73G/jFw+f9+t4zvVz+nr07367jG1X535eQ3/Zqdlzc7vVYxp/mMD9Mn6ddhCeW8+pPH5xbdPjEk7sjD/5vKbHr0MFJrvnBwAAAPxF5SAmS0pSU1CRBBMhlFgFFSF8GJ67DcdiwDGZQpe0/znUyM4bhOfX85hCjcslCTZKQUdt/ESx/0Tt+Pr58PW8/r3zAwAAAP6kg0HMIAQL0ydY0j8nxj5CADIGL2lIM359vd6vj0+RfN6vlcCkFcTcbtfl/ELQUR0/8VQQUwxV4ieClnr05wcAAAD8TceDmEH8FMj1fh0/HbM5N35qJgsmHplE7HtsH45/xsBi/PpQEPMvBjihxSboqI+fKvafKB0P8y8EO4/575rfaPpxrkpIBAAAAPw/7fsdMZvAYgoSSiFHCB7mT7zEUGQOWR4hT/hkzBjIxPbHg5jx+DT2OuhojJ96OogptHmcu2d+gSAGAAAA/qKnPhETw4WPYhCzbh++ngKH5dj4iZHr/XpdP7/oBTHDCfH4KuhojZ96JoiptSkFMbX5AQAAAH/XE0HM/At7Sz+aVPgEyhhITJ9QGQOL+Vj656eCmDDW0O/mufr4qVqoMisdL4c6yZjd+QEAAAB/2fEgJgQbU7AQ/pz8st4QOnyE59aP8Zw0fEk9F8TEdtdb8lxn/NQzQUxc7zrUiT9mFE7tzQ8AAAD40w4GMdPvNkmOh8BiCidC28aPAY3/rQYxq3bFIGT96ZLx68vl8Vxv/FSx/0T5ePz0S/p8OG8eszO/hd8RAwAAAH/Rvl/WOwUGIXRYfyIkhA/D89d60DIcCO2uleNLgDIFHZXxN0HHIM4pPtcbP513aFcLWmrjB6tz0j4681sIYgAAAOAv2gQxAAAAAHwNQQwAAADASQQxAAAAACcRxAAAAACcRBADAAAAcBJBDAAAAMBJBDEAAAAAJxHEAAAAAJykEsT8u98uH/ePj8v99m96imP+3e6Xj7GG8XF5ayHn63O9f07P7BPbXY81OlGcX6tW/26XR02Pr//rvXt+ob/LbajML/Ol9z8AAMDvVQ5ixk3UsPm7XW2gntMPFF7ztUHM923+D9Tt8/qWoOPLvGl+33EtXh/zq+//tl8bXgEAAH9CMYgZNzJhEzVuJm1onvB5v/7ITxMJYk7zp4OY773/BTEAAMBPVghiks16+PGCdEM1Hxs3WvOPHRzYcM0/rpAmAWHDuv9fz8Mma2w/tSu1/bzOcxsfy2Y4tN1sjuNa9v/rfaxBqf/F8xvR3vriGlpjr+cXH7GP+fql5yzzzPtOH8fWUqv/Mn7t/onHl/XO8yyM3wg6svEPbsjb9Z/nP305Gs8rjfHC/PL6lc+pS6/t+CjVf/pylMz/Xdd/6LR6//fu71H9/pmsfuxp//z71+/w/A5dGwAAgFIQEzY58+YnblxaG+OwKTmyGZk2UXEzdDQEmTZK6QZoFRaNx9ONVj6/OF5rI9Y2rT/pIM5nqleyecsf5Q15SW99D2Gsbb9hvY/51a7fUoPS9Qtz2F2TXLv+vfsnne90bm0eu9ZfXl9Lu/5xTun6wjxK/T85v/XxY9diqtm6/WMe++b/9PUPax7G3zyWOrTrG4+n89tcv2mMbA0r9fn319+bX+/6AQAA9GyCmLARSTYa+abmwEa0Ye5z/B006Vh7xI1SusEthCup1fzyjVRcz+4gKGzK1pvr0vj1TwT07F5f2JD255Jfzy/eiJdk/ffGn6/HZ/hv896orn9V91qQVdGu/4H7/5n5FeZ66Fp078+zrn9hnZN2fQtW81sHISX1+ffX355f5/oBAADssApi5o1wsqvINpQHNqJNsZ/tRnUUNz7Lv6bn44WNUmsjFjZGeftsfulmtbhxbchqMSvUJKzhuc1Zd32z4lzGp4f1Ptqvr+e+61ffyO7QrH9v/Pm+iI9mGUrrL40dHvuvRbv+++oXPDO/wv146FqUxszmfML1D+r3f/f+Pnr/FNTn319/c35vuL8AAADyIKa60Ti2keuZNzvPfKy/vZGLIc4mSMrGiGsYzxn72v1pmFFxoxvHzKf0zUFMct3yvr56I96rf2/85drE9TVqWFp/uH9f2xS363/g/n9mfoXjh65FaczpmsQ5f/X1n9Xv/3Z9990/vddsff799Tfn94b7CwAAIAtiahuY5VMWBzaiNdlmsbDx6ji2kYtfb+YX5ny9Xy9HN1VTf8n45TBpPO+5DVt7fYmsjrPeuDuvX+j7mfn36t8bP99oh1rU5lFcf2y/q34V7fqv+p+Dy831Hzw1v1X9Qh+V/oumeif95/fnzvk/ff1n9fvw1ddv856YVeffX/+h618z97u5/gAAAKsgZty0LZugxGNTGTci2T5kPLZ3ozhtLNMx4sZq1WdDe6O09Bcfw2bsVprfdsO639R2fhTXXt+I9uzaCKbjh8cyVr7+6fGY4/7rl3+yZv9a2vXvjR+Pp/fHPI/Ypr/+4jnFa1TWu7+GE6ZN9vgYXhOF+Wdjh8eB+aX9j88feX0FnfuzOf/Fs9c/qt//vfq2759oc48fmX9n/d3rP5zZvb8EMQAAQMPml/X+DXGz2txv/UZhA7jeAMe1FgM2AAAA4FR/MogJ/1pe+Ff0X2/81/11EDP96/z/LnQCAACAX+hPBTGPH1f4P4Ywk/xHMuJDCAMAAAA/wx/90SQAAACA8wliAAAAAE4iiAEAAAA4iSAGAAAA4CSCGAAAAICTCGIAAAAATiKIAQAAADiJIAYAAADgJIIYAAAAgJMIYgAAAABOIogBAAAAOIkgBgAAAOAkghgAAACAkwhiAAAAAE4iiAEAAAA4iSAGAAAA4CSCGAAAAICTCGIAAAAATiKIAQAAADiJIAYAAADgJIIYAAAAgJMIYgAAAABOIogBAAAAOMkqiPl3v10+7h8fq8flNhwZfF7D19fPcHKUPVdqf70vpxeOz31P/t0u+fHNOds+Lresh8bxzvomn9f0eDL/f7f7ZXwuLUB47nLPpgAAAABQUP1ETAgjssRlMIUu6fNzaBHDjhh0pM3i8TnMiMc3wUjSIAQx63EftufnescXxfUN1s+Hr+egZgpdLpckeBHEAAAAADsdD2Ku1/v1Eax83q+X2/02nFsLYuZPkcTn1kHMePiSfSKlGcRkfRX0jieK6yuGKsMa5z7n47frsoZiGwAAAICtQ0HMHJKMx8KhzxhIjF8/F8TEkGMTzKzGXcTz1z9KtOgdX1TXV2j7WN8jdIkBVDivEd7smQcAAADwdzwVxIwBTAxkYgDRCmJCP49AIh5ffv9KHsKMwhjJ8fBIO5yCnc3zs97xSXN9K49zk9BlXnv63EIQAwAAAGw9F8SMQcPler9eY9CwPL8NWvIwIv1EzPrTMVEtDNmYf1/N8Cie3jleWl/puVEpiAn9r58DAAAAaDgUxIzPzcFJ+ud1EFPIMiar8GUMM1afGtkdxEzC+dn/mSlXO15aXzh38ymWZM5Z6DI+P/QriAEAAAB2ejqIST0dxBTOPxrEhDCnFYRUjpfWF89dhzbxx4zi8vLQZZzr9SaIAQAAAPZ5XxATPklyNIhJ2yZfHwhiwjw3n2JZ1I4Xg5hpfunzWfv1p1/Gry+XQhDjd8QAAAAAW6sgZgoipt+t8nhMgcJXBDEx3FieC31Vxp/PLR4b9Y5P42fHe+eki1kHMYMQ1AhiAAAAgB2qn4gBAAAA4L0EMQAAAAAnEcQAAAAAnEQQAwAAAHASQQwAAADASQQxAAAAACcRxAAAAACcRBADAAAAcJIsiPl3u9w/Pj6Kj8vt33jG/Xb5uF8/4/nfJ87j4+N6PzaVnzL/mji/WOuy/BodXf9ez9b3tzhvfeF6XW7DiAAAAND4RMznddiobhKLnxJkPLuR3jf/79s8x/m1gpiHz6sg5mnnrU8QAwAAQOqXBjHPEsRwLkEMAAAAqSeDmPkTBePjcl/nBqHt/OMzBzehYeM6jhuChthHGkyE43PfxSAindvyyH+0qjz/vO/0sV1jS7b+bI7z+J/3a7HveHxZ7zzPwviNIObl+j/mtqP/4XE0mKu3L9Un7793f4zq9e+tr3d9ol591+sTxAAAADB7KogZN5fzoXBestFct1sf73lslOc2/273y4EgIh+/FmzU5z8Kc3hy8zy2TcuW9z+Pv6yndDwNjarz2LX+8vp2qfT/Sm1G7fbb6xPvh2Ue8etkTav7o13/RHF9veszfd2o7/r4q/UCAADg/+X1H00aN7SPjeb4SYJVaFILUirWG+/Y52rMUXEjvT039Pd4ojf/6K2b56z/3vjx+OX2GQOBzaIT1fW/Vv+HYv9TbZ7pb9JuX6jPak27749Z4foGxfW9eH8Xav3WewkAAIBf771BTNiIDu02j9rGeytsXKu76kQlKMjnPQcb8+C9jXb00ua5VINHX73x4/G5XbMMpfW/of4PlfqOYhgy9f1EnertC/UJ4cfyXPf+aNY/UVxf5/r06huO532+dC8BAADwv/MFQcwTm/5Ed6M9qwQFYd7pJjnrqxeERM9vnmNokP3Okqz/3vjxeGgf1teoZWn9b6j/Q6n/jTjfXderaN2+UJ/Vmtr3R6/+ieL6OtenV9/CcUEMAAAAqTf/aNKrG/Np47qnfXEjXfjRkUxv/pPQ9zOBxjoIiF+v69Or39w+1KI2j+L6X6//Q7H/rfJ9sl/pE0xpd+v+jwUx6/onGvXLui9cn93jhzEK44fAZnh+R30BAAD4f3lzEDOaNqthozk9ShvhivZGu9B3eCxhRQwvVsdXG+n2/KOw/kcf+0OZfPyh3W27ka+PH4+nn+iY5xHb9NdfPGd3/fv953UZHrv7jtrtC+Ov7oX2/TEdf7Qv1z/rfz4vnBCPt++PTn0fIcv0fOn+EsQAAAD8WdUg5lcq/ujI+lMS/FyFIAQAAAD+R/5fQcz46YN1EDN9+sDm/jcQxAAAAPD/9v8KYgabH30RwvwighgAAAD+3/53QQwAAADATyWIAQAAADiJIAYAAADgJIIYAAAAgJMIYgAAAABOIogBAAAAOIkgBgAAAOAkghgAAACAkwhiAAAAAE4iiAEAAAA4iSAGAAAA4CSCGAAAAICTCGIAAAAATiKIAQAAADiJIAYAAADgJIIYAAAAgJMIYgAAAABOIogBAAAAOIkgBgAAAOAkghgAAACAkwhiAAAAAE4iiAEAAAA4iSAGAAAA4CSrIObf/Xb5uH98JI/LbXh28e92yY8XzhlOul+S45dbdvT+eU3aflzvn9Pzw4Hw3PXxxCB9rnd80JzfPK+0g/Dc5R6muJr3+FjPPZrrNLWbFMeeHrGfQn3Hx6p+1fr05g8AAAD8aMUgZgkfpuAg2fiHsCFLQlYKYcm/2+0RJoSQITkYvp6DiKnt5vjwXJhT7/igOb8ptLhckuBiE8Qkwcfwp+tqvGA8b5jzbRi7HNRM86rNY1A7vn4+fJ0FSY35AwAAAD9aJ4gZ9/mX7BMb7SBm2z5TDA1i2BG6HIOW63X4eg5DhmNp4NE7PtgTxNxu12WO6ZzCn9MgZlCY8zjGYz5JbVJPBTG9+vTmDwAAAPxonSAmhgDL1zGE6AYdlVBgHerMxlBiHGPue/w6DPEZA4e9x0f75hcDnNAinXP48yqI2dQg1igM0VjvOKfqPAal4736dOf/EOdcC4kAAACA79H9HTFLABGFsCA5Hh5zoDB+QmQTZCxqIckcSjyOh0++jIFLDBjmIKJ3fNScXxJazG3T5+Kf1/NfhVPZOfVPAJWCllTpeK8+3fk/CGIAAADgJ2p8IqYcMtTCgqATxNTCifn5pe/xEx/X+/Uag4T5+d7xUXN+aWgxhTnZc1nIMsvrsO4/fF35FEt1HoPS8V59uvMHAAAAfrT2jyaNm/1VyNAMOkIQUw8FyqHFMuYYOMxjp3+ex+wdX/95IwstxnGv989uEBM/XRLHKoRTlfDpEZ5UlI736tOdPwAAAPCjdX5HTPw6zQuaQUcWWhQUQ4vYZuwyDVdSpSAm9VwQE8+93jpBTBouheMfw9fbx3rIZ4KYOFa9Pt35AwAAAD9aJ4iJm/30UxrNoGMQjq+CieV/Xx37T9uHQGLqvxm0DOfU/nfR6Ryb81t/emT8+nJZnlsHMVPwMo+ZjpMqhSpPBTGd+nTn/xDDm9JcAQAAgO/TDWKKYcS4yU8fqw3/+pw8PJnChvn4KnRoBS27g5hk7PCoBRmDEHRkQUzeNs1KavMbDgzn5p9kaQYtqzHy+tXr053/gyAGAAAAfqJVEAMAAADAVxHEAAAAAJxEEAMAAABwEkEMAAAAwEkEMQAAAAAnEcQAAAAAnEQQAwAAAHASQQwAAADASd4axPy7Xe4fHx/Fx+X2bzqr5d/9dtl77iviOB8f1/vn9EwUn7/mT/5M/273y+H6frVfVL9fIrymLrehss95tT0AAADv9WWfiPm8ftw/Du/IBTH7nFWnowQx7yaIAQAA+H/5o0FMzW8JEj7v14/L/cflMIKYtxPEAAAA/L98SxATjj1+rCb9VMo6iIlff6xCh6z9wU1m2JgWxx7NQcI8bnwsyygEDZ/XZA7z8TEoKbWfxh+fGNtNx/PgKR97O8dRO4ip16c0v72BTmxbCsmWzf7cf7qGbf9fM79F/f6K8uP59WnbN7/e/XnoeOGcV9sDAADwfU4PYsZNe/p0OO+xUUw3+9NmvrQJTTrI2x8QgpByEDNuXuchYnAznzdvxMMXUSGIqbefv07mHH7Xy7yZn9onA2Ttk/Amfyz9t+szz28JD47Ub933LMwxPL9d/7r/r5zfaJxLOsV1+zDXA/3l+vNrr+/48fV8X20PAADA9/r+H00qBBmX22fc8G7aFz4JkgUZBzSCmHzYdMzC8cL86+3H6SbBShA/XRHahLWs55QcfyjUISg8Xwh66vNvC3OfGqfXd/xzGp7V+//a+RWt2sf6l2q3x6vr6xzPzo3yIOXV9gAAAHy3QhAzbvaGTXbyyDaeO1WDmLBZzPtfNopxo1sdt9Q2PFab0z3GDfTuIGZ+rrcR77Ufl7CEGRuH5lRYc7c+vfl3PM4dxr9cw+Mz67PT/1fPb9S8v6IYxpSPtb24vl3H8+ufBSmvtgcAAODbnfyJmBhKZL9nJNtox41uOD4+/9igT8JGc/Xcs0L/O0KPbMxeUNBrP355NIjJg5yoFcS06tObf8e80R/+ex0GGa9x/H0wO+vz1fPr3l9rcbzq9dh4cX1PHN8GMS+0BwAA4Nt9cxATv142inGjOx8Pm8hsY3l049wwbqB3BDH5Olbjh43vdv719mOTRhAz1yM5HtpvNtKVIGY9v43t/EIddm/Ux3Gv99tteIwNxrbXa3gudtnr/4z5te6vrfJ9WvOe9dWPr+Y/9l24v55vDwAAwHf7ll/Wm/1IxbCpX280l4301M9w7tLVtBl99DE8dm80C23DYw41CsfXa5jDl/C43j9LG/FG+3YQM5rCg/lRXNt4TimIGbXqE49lwx8KOqa+H+evg449/X/l/IYemvfX2F0ybjb2Hq+ub9Q5nt5f4/NH+++2BwAA4Dt9WRDzNxU26gAAAAATQcxbCWIAAACAOkHMWwliAAAAgDpBDAAAAMBJBDEAAAAAJxHEAAAAAJxEEAMAAABwEkEMAAAAwEneGsT8u13uHx8fxcfl9m86ix/h3+1+aV2f3vGXxP+71MfH9X7sfzD10/+vVHF+rVrlr5Gj6z/gS6/fX9W/vgAAAD1f9omYz+uwAfymHXPY7F5uw7bpe3z3+H29DeVXbzhj/18VxHxf/Q/U7fP6hUHMV1+/v0pdAQCA1wlivsDPD2I+79ePy72+n+wd/y6CmH1+6vX77QQxAADA604PYsImeXw+bETzH5sIxzab03FTuW/zE9vHPvNHuimNm6nl2PHNcFhb0v+8zH3jr9sv47+6/mjP+r4uiGld31Feo9Lc1vOPj9hHPHb9TM9Z5rm3/j2167OMH6/Jtu94fFnvPM/C+I0gJhv/qUCpdf3S2o2PfA6969fX6r9Xv+i59a9rvwhrSvrp9V8/vh5jXuux+wsAAPjbvieISTc44XdZzBuZuEHLmo0bwt2bsWi98VpMG6dkgDif8oa4pN73onXOeCxdX6jT49xX199ZX7K5zh87j+8QxxvazHPOrm8ijLXtN79vahvfpUZ5/aI916imfX22G+/S8Tjf6dzaPHatv7y+qu71m+ZUuz8eXw/nzGPWrl9Rr/9e/V5b/7rtLMxher7Xf/v4gesLAABQ8U1BTLoBzcOHvF268dkvjFHaIIVN5XrzWwg/GuL82xvT6vgl4+a5uhE8uP7d6xufa62hd7yud30fikHE9tzQ36oeWV+r+o0O1b8n6783/ny9PsN/S/f/Q3X9q7ofCkJmleu34/7Yff1Kuv336vfa+tN7JX0djX+Or6Fe/73jB64vAABARSGIiRun9F/Un9lvNIOYVofpZq64seurbsSLm9/C5rAjblan+hTGqY4/Cmtaarvp45X1715fYcOZ6R2v617fWXGu49NDPR7t543vPJHeRj5q1r+neX1648fjc7tmGUrrL40dHkevReX67bg/dl+/km7/nfq9uv5HX8P6L9fw+EzH7PXfHf/A9QUAAKj4vt8RUxU3O+Pmezz36KdhRtWNeHGjGIOn5zZV08Zs1bgeBMSxsjWlG9HghfXvXl9lo/7QO17Xv76T4lzHp5eNbnhkfSWb6tmmfq369/SuT2/85drF9TVqWFp/CAKeq3uucv1KY05rnte0+/qVdPvv1O/V9Yf2w/jDf69DJ+O9FH+f0NRnr//u+AeuLwAAQMUPDGIGYXM2/ov2kxud6iYpbgrT8cM8n9q0R8V1dsZfNvrTfNbjP73+vesbz2v13Tte91oQ0xu3F4RMqvXvifWrX5/e+MlGffxqrEVtHsX1x/a76tdUq+O0nsb98VIQ0+1/X/1eG/96v92Gx9jh2Pd1eB096tzrf9/xXdcXAACg4mcGMYUN3VFh/LGP8Eg3S1Pf8yPZhO6R91tvXxs/bt6S54dN47aPV9a/Z33jOa0NZO94Xfv6ThvddH7hUavP9Fht1LPus438on7929rXpzd+vlEfzfOIbfrrL55TvIYtrevXvj/2vT5bWv3vuX6vrH9q+zh/msuh/lvH47H69QUAAOj7siDmNXED9Xc3N390/cUfDYm1SDe/AAAA8Fv9yCAm/Cvz7n8F///5s+sfPx2xDmJCOOMTBwAAAPw//Kgg5vHjJH80hPnr6x89apA8hDAAAAD8X/zQH00CAAAA+P8RxAAAAACcRBADAAAAcBJBDAAAAMBJBDEAAAAAJxHEAAAAAJxEEAMAAABwEkEMAAAAwEkEMQAAAAAnEcQAAAAAnEQQAwAAAHASQQwAAADASQQxAAAAACcRxAAAAACcRBADAAAAcBJBDAAAAMBJBDEAAAAAJxHEAAAAAJxEEAMAAABwivv9P9xGNUBqA/yoAAAAAElFTkSuQmCC']' returned non-zero exit status 1.\r\n",
      "\r\n",
      "\tat org.apache.spark.api.python.BasePythonRunner$ReaderIterator.handlePythonException(PythonRunner.scala:456)\r\n",
      "\tat org.apache.spark.api.python.PythonRunner$$anon$1.read(PythonRunner.scala:592)\r\n",
      "\tat org.apache.spark.api.python.PythonRunner$$anon$1.read(PythonRunner.scala:575)\r\n",
      "\tat org.apache.spark.api.python.BasePythonRunner$ReaderIterator.hasNext(PythonRunner.scala:410)\r\n",
      "\tat org.apache.spark.InterruptibleIterator.hasNext(InterruptibleIterator.scala:37)\r\n",
      "\tat scala.collection.Iterator$$anon$12.hasNext(Iterator.scala:440)\r\n",
      "\tat scala.collection.Iterator$$anon$11.hasNext(Iterator.scala:409)\r\n",
      "\tat scala.collection.Iterator$$anon$11.hasNext(Iterator.scala:409)\r\n",
      "\tat scala.collection.Iterator$$anon$11.hasNext(Iterator.scala:409)\r\n",
      "\tat org.apache.spark.sql.catalyst.expressions.GeneratedClass$GeneratedIteratorForCodegenStage1.processNext(Unknown Source)\r\n",
      "\tat org.apache.spark.sql.execution.BufferedRowIterator.hasNext(BufferedRowIterator.java:43)\r\n",
      "\tat org.apache.spark.sql.execution.WholeStageCodegenExec$$anonfun$13$$anon$1.hasNext(WholeStageCodegenExec.scala:636)\r\n",
      "\tat org.apache.spark.sql.execution.datasources.FileFormatWriter$$anonfun$org$apache$spark$sql$execution$datasources$FileFormatWriter$$executeTask$3.apply(FileFormatWriter.scala:244)\r\n",
      "\tat org.apache.spark.sql.execution.datasources.FileFormatWriter$$anonfun$org$apache$spark$sql$execution$datasources$FileFormatWriter$$executeTask$3.apply(FileFormatWriter.scala:242)\r\n",
      "\tat org.apache.spark.util.Utils$.tryWithSafeFinallyAndFailureCallbacks(Utils.scala:1394)\r\n",
      "\tat org.apache.spark.sql.execution.datasources.FileFormatWriter$.org$apache$spark$sql$execution$datasources$FileFormatWriter$$executeTask(FileFormatWriter.scala:248)\r\n",
      "\t... 10 more\r\n",
      "\r\n",
      "Driver stacktrace:\r\n",
      "\tat org.apache.spark.scheduler.DAGScheduler.org$apache$spark$scheduler$DAGScheduler$$failJobAndIndependentStages(DAGScheduler.scala:1889)\r\n",
      "\tat org.apache.spark.scheduler.DAGScheduler$$anonfun$abortStage$1.apply(DAGScheduler.scala:1877)\r\n",
      "\tat org.apache.spark.scheduler.DAGScheduler$$anonfun$abortStage$1.apply(DAGScheduler.scala:1876)\r\n",
      "\tat scala.collection.mutable.ResizableArray$class.foreach(ResizableArray.scala:59)\r\n",
      "\tat scala.collection.mutable.ArrayBuffer.foreach(ArrayBuffer.scala:48)\r\n",
      "\tat org.apache.spark.scheduler.DAGScheduler.abortStage(DAGScheduler.scala:1876)\r\n",
      "\tat org.apache.spark.scheduler.DAGScheduler$$anonfun$handleTaskSetFailed$1.apply(DAGScheduler.scala:926)\r\n",
      "\tat org.apache.spark.scheduler.DAGScheduler$$anonfun$handleTaskSetFailed$1.apply(DAGScheduler.scala:926)\r\n",
      "\tat scala.Option.foreach(Option.scala:257)\r\n",
      "\tat org.apache.spark.scheduler.DAGScheduler.handleTaskSetFailed(DAGScheduler.scala:926)\r\n",
      "\tat org.apache.spark.scheduler.DAGSchedulerEventProcessLoop.doOnReceive(DAGScheduler.scala:2110)\r\n",
      "\tat org.apache.spark.scheduler.DAGSchedulerEventProcessLoop.onReceive(DAGScheduler.scala:2059)\r\n",
      "\tat org.apache.spark.scheduler.DAGSchedulerEventProcessLoop.onReceive(DAGScheduler.scala:2048)\r\n",
      "\tat org.apache.spark.util.EventLoop$$anon$1.run(EventLoop.scala:49)\r\n",
      "\tat org.apache.spark.scheduler.DAGScheduler.runJob(DAGScheduler.scala:737)\r\n",
      "\tat org.apache.spark.SparkContext.runJob(SparkContext.scala:2061)\r\n",
      "\tat org.apache.spark.sql.execution.datasources.FileFormatWriter$.write(FileFormatWriter.scala:167)\r\n",
      "\t... 33 more\r\n",
      "Caused by: org.apache.spark.SparkException: Task failed while writing rows.\r\n",
      "\tat org.apache.spark.sql.execution.datasources.FileFormatWriter$.org$apache$spark$sql$execution$datasources$FileFormatWriter$$executeTask(FileFormatWriter.scala:257)\r\n",
      "\tat org.apache.spark.sql.execution.datasources.FileFormatWriter$$anonfun$write$1.apply(FileFormatWriter.scala:170)\r\n",
      "\tat org.apache.spark.sql.execution.datasources.FileFormatWriter$$anonfun$write$1.apply(FileFormatWriter.scala:169)\r\n",
      "\tat org.apache.spark.scheduler.ResultTask.runTask(ResultTask.scala:90)\r\n",
      "\tat org.apache.spark.scheduler.Task.run(Task.scala:123)\r\n",
      "\tat org.apache.spark.executor.Executor$TaskRunner$$anonfun$10.apply(Executor.scala:408)\r\n",
      "\tat org.apache.spark.util.Utils$.tryWithSafeFinally(Utils.scala:1360)\r\n",
      "\tat org.apache.spark.executor.Executor$TaskRunner.run(Executor.scala:414)\r\n",
      "\tat java.util.concurrent.ThreadPoolExecutor.runWorker(ThreadPoolExecutor.java:1149)\r\n",
      "\tat java.util.concurrent.ThreadPoolExecutor$Worker.run(ThreadPoolExecutor.java:624)\r\n",
      "\t... 1 more\r\n",
      "Caused by: org.apache.spark.api.python.PythonException: Traceback (most recent call last):\r\n",
      "  File \"/home/alex/anaconda3/envs/spark-nlp-in-action/lib/python3.6/site-packages/pyspark/python/lib/pyspark.zip/pyspark/worker.py\", line 377, in main\r\n",
      "    process()\r\n",
      "  File \"/home/alex/anaconda3/envs/spark-nlp-in-action/lib/python3.6/site-packages/pyspark/python/lib/pyspark.zip/pyspark/worker.py\", line 372, in process\r\n",
      "    serializer.dump_stream(func(split_index, iterator), outfile)\r\n",
      "  File \"/home/alex/anaconda3/envs/spark-nlp-in-action/lib/python3.6/site-packages/pyspark/python/lib/pyspark.zip/pyspark/serializers.py\", line 393, in dump_stream\r\n",
      "    vs = list(itertools.islice(iterator, batch))\r\n",
      "  File \"process_image_dir.py\", line 13, in process_partition\r\n",
      "    text = sub.check_output(['./img2txt.sh', extension, image_b64])\\\r\n",
      "  File \"/home/alex/anaconda3/envs/spark-nlp-in-action/lib/python3.6/subprocess.py\", line 356, in check_output\r\n",
      "    **kwargs).stdout\r\n",
      "  File \"/home/alex/anaconda3/envs/spark-nlp-in-action/lib/python3.6/subprocess.py\", line 438, in run\r\n",
      "    output=stdout, stderr=stderr)\r\n"
     ]
    },
    {
     "name": "stdout",
     "output_type": "stream",
     "text": [
      "subprocess.CalledProcessError: Command '['./img2txt.sh', 'PNG', 'iVBORw0KGgoAAAANSUhEUgAABGIAAAFJCAYAAADQYIvNAAAAAXNSR0IArs4c6QAAAARnQU1BAACxjwv8YQUAADjLSURBVHhe7d2LdaM4GAbQ1OWCXI+rSTNTjBckMBLoAbZDks295/jsxKDXD3ZG3zjZjzsAAAAApxDEAAAAAJxEEAMAAABwEkEMAAAAwEkEMQAAAAAnEcQAAAAAnEQQAwAAAHASQQwAAADASQQxAAAAACcpBzH/bvfLx8f9Y3pcbv+S56/3z/jV5PN+/bjc4yn/7rfL0u7xuNyGI9G/2+Wl47vU5j/5vCZ9p+v5vIbnrukCs+dK61vVYzy/O9+5n7lus0795nWlEwzPxX6KtZse6xoAAAAA59sGMYUw4t/tFsOGbhCzCGFHlmhEISwoPD/rHe9qzX+wnlf4eg46prab448gIwYlad/x+CrM6QUxYx2Hc25D21pAUqzfFLpcLkm9kyAmVWwPAAAAfKtVEBODhuqnJ358ELNn/uu5jvOfwpUxRLleh6/nNQ7HssBkG8TEPpPndgQx4xpDf41zW0HM7XZd1iiIAQAAgF8jD2Iqm/qHcPwHBzGd+Ye+C8HHONcx2JjHHr8OU/iMgcd8fOjhDUFM0kdjvsX6Pc6PAVFoVumjVn8AAADg++RBzBgibIKWxBQ6hB/fyR4Hg5h1++S8l4KYzvxrfc9zfRwf+xn++3mN62oFMaFtGrz0gphQw3mO9U/wFOuXhC7z3NLnUrX6AwAAAN/niSDmhE/ENIKaps78a3Oan1/mNn7i5Hq/XmOgsjwfg5NsbuvQpRPErNcfvi6c3wtiwjjjcUEMAAAA/BqFIGa7qX84K4h5NkDozL8ceiyfShnnPH86Jf3zMqftJ2I2mkFM4RMwYc7b8KgbxIS+hnaCGAAAAPg1Vr+sdwxVyj8qE/z0IKY3/2LoEduMQ6bhS+ptQUyo31CXwmPdZz+IifO63gQxAAAA8FusgpgpdFgFA7/pf1/dnP8UpKT9h3lOwUkziAnnvBbELP3kSrUq1m/96Zfx68tFEAMAAAC/xCaIGc1hxvx4hBPdIGYKOpK24ZGED+u+i8dfDBCq8w9Wc0zGelsQk4wdH7E+tf5jm7Gunfqtg5hBCFwEMQAAAPArFIMYAAAAAN5PEAMAAABwEkEMAAAAwEkEMQAAAAAnEcQAAAAAnEQQAwAAAHASQQwAAADASQQxAAAAACepBDH/7rfLx/3j43K//Zue2iW2uzQa/btdhn7HvsfH9f45Pf+zzOv/qfMDAAAAfqNyEPPvdr9cbvfbtR2qbPWDmIfPqyAGAAAA+FOKQcz4qZUQpoxhyeV23x/F/F+CGAAAAID3KwQxMUy5jgnJ+MmY7MeT5mOf9+vjx4u2x5cgZv5kSeFHnBpBzOd17nt4PBEE5fOb1pLI+l/Nof2jU731AwAAANRtg5gQvswBRD9YCaHGIyxJz5/OrQUplSAm9JckJ3n/PfP8lvAlBivLOOPXaTBT7b84v976AQAAAOo2QUwILpKkIny9ClqyT5hkP740BzGfMbDITlwpBh3jJ01WnzDZfCqnpTC/Up+pbP6JRhBTXz8AAABA3SqImYOUJFbIAol9Qcz8oz2tHKYYdITQZWm/PF4NYpLnSmMIYgAAAIAT5EFMNQiZw4d9QUwIckKQ0fkkSjGI2Ru6lBTml/UZQ5lN0CSIAQAAAE6QBTH5jyEtlt/bciCIGb8Kv5+lEqw0go7mjzQ1beeX/86ZdRATvxbEAAAAAGfIgpgxtMg+LTJ7hBLHgphRCEJWn6hZf9omD2sK5+wOOgpts8kOZ4RwaD4+jHvbzj9rP58XTojHBTEAAADAMza/rPd3KwQlAAAAAD+EIAYAAADgJIIYAAAAgJP8z4IYAAAAgJ9LEAMAAABwEkEMAAAAwEkEMQAAAAAnEcQAAAAAnEQQAwAAAHASQQwAAADASQQxAAAAACcRxAAAAACcRBADAAAAcBJBDAAAAMBJBDEAAAAAJxHEAAAAAJxEEAMAAABwEkEMAAAAwEkEMQAAAAAnEcQAAAAAnEQQAwAAAHASQQwAAADASQQxAAAAACcRxAAAAACcRBADAAAAcBJBDAAAAMBJ8iDm3+1++bjeP6cvo8/79eNyv/0b//zvfrt83D8+Vo/LbTgy255ziY2H7i/Z8+ljPmf0eU2PpfMpjP8Yezp2zWc/Cv1lc2yrj19Zw+6+S/Xbu76oP369/qNm+3D9h6/TGobn4vXfe/3qSusfHun8P6/teraOd+Yfv3ytfv3jAAAAUHcwiFmEsGITekyb1EIYslZuv30+D1Fi/8vGdzXetBHPul1txHva44/dDRv5wrz3ifNNm4f+HzXvrG/QHn97/lqz/VSryyWpV6V+6zodVW3/chDTnv9r9evXFwAAAFreG8SE9qsgpKLefj3WOP7c5zqoGJsMG+tkYx76XX+9d+PcHX8ab29/G3H+WfOsZv319YOUdv377Yf1367LHIo1OVjXgmr7NwQxrfm/VL/ecQAAAOh48ydiYmjR3EhPSu3XocNsPDdurNdBRRwvDS6y51ab8J7++NM5T+/EjwYx2/W1x+/Xvx9EjPUa+pn7qNSwGqTsVG3/jiCmMf/X6tevb7T3PAAAAP6aQhAzbCA3jwMb8bSPxka91L62SV7OjUFFOrc8hIlCPx/X+3VoVzpe0x+/fs4+2yAm9P3YsPfXF9eWn5PNp1P/ZvsktPi8Ttd8FWTMqtd/p2r7twQx9fm/Wr/u8UAQAwAAQNmbPxGTGDfM04a1vN/etq/1uTyffmJk/emR1BxorNfS1h9/LFFnI9+0DVryzXp/fbuDoEr9m+3T0GJsP563CjJmtVrtVW3/piCmNv9X6/fQOw4AAAAFXxfETGJwsQ1ESu3DuZtNdiOcaGzKnwkK+uNP5zy984591Zv313d0/HX9m+2z0GKcy9DutwYxlfm/Wr+13nEAAABIfXkQEzbOe9uHc0vjz+HFKqiYvi7v558ICrrjTxvvo/0+1Ocb9dd3ePxV/ZvtC6HF9fZbg5jy/F+t30bvOAAAACS+PIgJ5xU2zuX2MXhIn8/br4OKaWO9u/+e3vjTeIf7nW2DlVx/fUfHPzT/VZARvr5cfm0QU5r/q/VbKx+P4V1zHQAAAPxJB4OYKaiYfjfG4zFvOEP7yrGV+kZ+NUZ2zjaomMfMnhs8HxS0xh+HOzeIWa8vjD/PbX4cqH+/fR66hDq+LYhZ1XY9/ih8wmR9TjJ+6/iO+b9Uvx31jQQxAAAAlOVBDAAAAABfRhADAAAAcBJBDAAAAMBJBDEAAAAAJxHEAAAAAJxEEAMAAABwEkEMAAAAwEkEMQAAAAAnEcQAAAAAnEQQAwAAAHASQQwAAADASQQxAAAAACcRxAAAAACcRBADAAAAcBJBDAAAAMBJBDEAAAAAJxHEAAAAAJxEEAMAAABwEkEMAAAAwEkEMQAAAAAnEcQAAAAAnEQQAwAAAHASQQwAAADASQQxAAAAACcRxAAAAACcRBADAAAAcJIsiPl3u9w/Pj6Kj8vt33jG/Xb5uF8/4/m/V1zHx8f1/jOX8pXz+7xf02u7uZir4x+Xe7j0X+XzOozxU6/Du/2W18/PeX2E96TLbZjRO3x3/feOX6t/fD6+F7f8nOuX+Xe7XzZzGt9vvvg95hfJvwe/fv2OvX6++vWx9/79LnvX/0NfX7/Qc+/vP6f+5fl/3/ze/f7xO31T/cP3t7n28fFz3+ue4f3xZ4t1b91zv+P94bvun7339/tVPxHzeR0KsZnR9030iP4396+90M/95SL1VfNbX78Yuiwv3Hg8fSG/vpa28T77f32zajnn9fNz77/j3nv/nVP/ur3j1+ofn++/Xn7O9cv8kCDmq9/T3uJNAfWxtX7162Pv/dv2dddv7/p/6OvrF3ruWv6c+pfn/9r83nJ//6l/4Fr7pvtj8/1t+kfNk//C4f3xr4p13/X99Ue/P3zX/bP3/n6/PxrEfK3vHv+IcJ0fc43fOLLr+5Uv2PCN6y/9a/g5r5/fdP/1vHct3/3+9er4sf2vDS4FMfsJYqq+7vp99/vD3/Pbv1d9xfzf0uefDmK+Sen72zf8Hdf741914Pur94eC77u/nwxi4n/jx5u2bzKhbTg2PA69Icz9T0ny9FhPI+s/uZnCG1DSbnksc8zPKd+I9fmX5lfrO33sfyM+PL/h8cqNE/pK1hjHn+cb17n3L86x7XrO9T7C+ZV7rFeDovHNZehvrs9yn+b1r90/89i169sW21bXGWo895+ucd1/emx87F9/fu+kj2WMR83DG3E8ns4572M9dqk+6f3XOx7VX1/R+v7e9x4Sx369/q35lda39/4Y9cffU/9ljXM/q+vbad+efzq35VGq62E7g5je/dGzvn/m+y+vTfpY1a/6+pjrN305Gs8r3CN5/6VrVjs+afxF6WteP6N5ffkcm6/f0hzDdU7OeYwf+23dvy17rt/S5/wo17CstP58bu3XV1S7/3ar1i9q1b99/75Hffy5fu33x+fvz079xzUPa5/7X67jNIfe8Uk2v4Ovr+P3x3LOvvu7P7+g8P4R+1/PKV6rQ/fIs/fnm+rf0q7/vvvzadXvb3N95/HjkWCsSat+B9a/7/6Zaz4/1vNtmeef9pHX7/j9v6rHDr32tfrtvf9b9Q99jAOG11c8Z/3aefb6zfL1pfPt3b/x+DKf+ToV7vHC+8Ps+fmX5te5Pqs5fOvr99H/XLdy/69e35KngphxAvOhcF4ymXW79fG2bf/rF8/4dTqtUv+hTW/Myo3Ynv88v+XiPD1+T2V+b+n7YfsmFCRvMmmt+2J/WZuxr+J8C+fO9U2eXF//pmne43piu7H/2Oe8xvH5dMxnrm/N+t6ZhbmE57f3d3H8Z9c/CW0qc57r8jge/vKw9416O/98fr3j2xqt67s+3lrL2uv1781vbv/c/bFn/IdG/eO9PPVVG7t5/erzz9efjvcG67/APx6r+VTr37fnfmmdE+/XZMzs9RHrkUwv1vlA/XbXt3j91u2nr6vjT+vp1GMx3x/11+/4ddL9Zvw471WNHtL1TmPtntuivqapz/X6C3Us265/s75Z5focq3dBs36x/1b943qT52rv709qjz/Xb+/7yzTfZ+pVqv9Uu/H+muuQff/vHQ9d5PN7ev6N+6N1/UatmvTm91Ac/8jfzyqmGmZ9JJrre0P9dyuuv39/vqQYxKTri39u1f8d66/fP9P6k/7jddjep2Vz/ZY1VOdXrH9rbvv02rfrV7n/k3n26j/ft4/nVu+vvfY9Y//p/PL2vft3e69Vx65cn9fmv70/1vdXe32J73j9Fua/7v+1+tS9/qNJ2RvJeKMvRQoO/UWg0H+pz1Q2ftR7sQbFC92bf2/90a7xe4rzm/reXc+W+abLx8j6D3NYvknukd83cYxi+0LdYq1L12R9T1QkNVuuQWMOo2we+65vTRhzapzWYfzzrm/Er65/0rr/4vVNx6j0n9RyUZh/aN94fWTH0z9P0tdX4b2itZa1l+vfm1+3fc+B9o36X26f4b/L66xg7/XbrD8/ntb0ZdX7e65vr/598f5un9+6p2L72uvj1fodqG/x+nXq8+LrZzh7u77SmKls/eOXrfvywP3bUF1T9f5ar6mmd30Txeszza1z/7W061ewml8cv3b/foFs/E79Xr4/E6X6J88t/c733DBC73io1eraPfv6Ks2vJK3PpF6TzvxSlfHz+ytd+z4v3Z+v1v+I4vo79+erwlzLY77n7x/7VO+f4vyOvD8cqF+x/tPcnrmek3b7fv1C+2QB+f28s322rrR+77l+may+vfrP99qzfz98df6F+ZX6TB26fw7cf0/p9f8F13fy3iAmTGpot3m8eiGT50pjrC5E9Y0oVbrQ3fnvuxF2jd9Tmt8kvhlMc3tynHB9N9dlVetRmMeBGy3UcJp3+udM6ToPimuunFuStF+uQWz/+MtG8/7Zd32rHucOdbxcw+Mz67PT/6vrn7Tuv3BsT2e755LeM53jvddX4X459Fp6tf69+fXadx1o36j/PK+sn7VG+9b4r/5Fvan4fjDeH+n1X9a3PA68/wx674/Pvz5er9/u+pau31e/fkrrC9cnea40h0f/pfapeHxuVz+vrbqmvfd8VeHc1fV9KI4V9e6/uh1zbdZ/GvvZwu5x9Pqn9Xv5/kyU6p88t/Qb5xReY73jpbWFxxOvr9r90bl+o2qfvfmlmuNPzxfW0/bi/flq/Y8orr9zf76qWM/4/hnf4zvjv2n9x+7JHdf04UD9imNFYX7z2p6ofbX9nvpl1yj5u8doR/swdq1Y77h+pT4ea+zVPx6f2zWvaen6vDz/0r105O8Pib33au3+e0qn/3dc34ovCGJemVSh/6zP9E1tUrgQ1TeiVOlCd+e/70bYNX5PaX4bcT5H/+IV38gK6yyt//A1jXMar9E4TnatZqHPwtqKa169kFuS9ss1WOYz91W/f/Zd36p5XcN/r8MY42sofvR2rl+n/1fXP2ndf+HYns6KcynMP7s/OsezcwsKx1tr2QjtX6h/b3699l0H2jfqH+7fcLwx10b71vjhfT98c5ke2ckvmq/P9GU03t/TOrr1Pyqud72G518fr9dvd31L169Xn8LxQ6+f0vqyPve9fxbf84PkeFjfc9e6uqZSzaY5Vy9ppn99H4pjrcX+9r+GevXr1X+qze7xjtp3/av1e/n+TJTqnzy39Lu+5xrH3/n6Ks2vW7+o2mdvfqni+KNlveM42Vy6Xrw/X63/EcX1x7F2vb6fEea/GjPMY15TZ/w3rf+Ze3LfW8aB+hXHWov9Pf9+tWq/q37JGtZz39E+1LY235ev34vvr9Px0D7UvzGX0vV5ef6F+WV97nv/C0rz667/VZ3+X65P3Zt/NCkef/WFlTbP57G+kPHrzYUIF7FTsMaFrs+/t/7JnvF7ivPbKl+nuvBGUp3bVM+kv7hx6M8jE2oyfiKhPM7YZ/ZifKiMv/eFltSs+I1+6r9+/+y8vlVjf9f77TY8wnBD2+tQh0f9ev2/uP5ZqEO59s1vJKmklovt/PP7b9/x+vir6xPmcGT9r9a/N79e+54D7cPay/Wf69N8LTfa18cf67fjfSt8QxrqtOm/I7Rbt0nH7NX/uPz+m4TaPPP6WM1vrsPu+u2s76hx/erzG/t/5fWzvT/y+q36n75O+29/f4n977p/W6rXb5pPsoBj75/b9YexSu2L12ereP81tGuys/7d8aZ2R1+/3fF79Vu1P3x/Jkr1T54LdQj9Jvdc7/j057e8vkrzW7efvt60D21L90Bvfoni+JPxWOPvZy0v3Z/JnJ6r/wHF9cf+6/fn5F3f36Z+lnqs1rf5/vGm9Ye1/z/fH9fy9jvrN85tOGdsm5/ab99+f331+vXeH3r1j8fn9s3XavH6vDr/7fzy69NbX6Ixv/r6Z1O/R1+/3f5frU/dm4OY0TTZUIjpUSp0UaHtag7x5pqPDzfZsOkq9R/mn54XTij0nx0ftea/Z/1Refye/vzyfofH7tqO5ht0+1jWtD7n6M08mvrY3D+j8VirHqvxj6wvefGWv9FPzz/6H+aR3T/7r2/ZdP0e509rOdT/C+tP1O6/Xd9I0vGz9oXjWV+946PCOekaH38Jmp4/vf6t+e1p39JrXxg7PPL6L9/Ilusc+9zXvjX//PUxPdbre9dfVIP1+0FhDbvru9Sj1/a518cgvT/HtRysX/t47/qNOvV5x+sn7XtVi3z+w7wK3383a1ytr37/7le7fvF+So7tXvsozq/++uhfn733X0u9futj2/qH491iLus4Wvf2+L36Dd59f4bHVP+xr9b3/97xoDDG7vl35jee0bl+s/r93Zpff/xoeo0cvfiTfA3DI5l/c33vqH9Tb/3xePP+HD2u8fp7VUf2vSE+NiXOztl+/yiuYff6F//X98d++z31m2tQur7t9uG+bb5uXrt+7feHffV//u+Ho1fmX2i7qtWe9WXt5/PCCfF4ff2zpZ/mpdrY039hjrvrU1cNYr5HoRD8QvGNrnQd+29k/Fy916fX768W/pKYflMexddy+s2dil791JcfIv6FeH0v8jfU/34G8Jyf8/f/3/b9TRDD24UUtpgS+gvA7yaI+V8b0//1N6/pX/Bc0x169VNffoT4Pv2Of8nj96n//QzgWT/l7/+/7/ubIIa3eXxs0Df5/6ne69Pr97fbfPRXSHBIr37qy7cKYeBw37np/hx/PwO+zg/4+/8v/f72w4IYAAAAgP8vQQwAAADASQQxAAAAACcRxAAAAACcRBADAAAAcJKDQcx3/1bkvz7+LM7j4+N6PzaVnzL/mji/S+N//h7///DTb/8/vP6f7quvzzn9t64fAADAX1cMYsJmt/i/uPvujfy+8evz3+fnrn8W5/FVQcyr9XtenN+ujXz435QJYo45p39BDAAAQJ0gpuDnBzHPOqd+zzuwkRfEPOGc/gUxAAAAdVkQEzbgjx/7SB+Xe9xbzRu5+N/82Cw9Nj7SzXJhIzhuqLNN/7p9fMTNXXv8/vzb3rP+cUlJ24OBRpjDWKAQNMQ+0o1tPsdSEPF99Ztl6y9e/8/7tdh3PL6sd55nYfxGEPN0/cc+h9rP7Zc65ePX1hfrt55TXOu+cGKuzzxufKyDk+fvr37/vftvuSbzY3t9e9evPv95frX7AwAA4Pd76hMx4wZp3ryFTdXj3Ol4srPLN6fzRit8Ea2CmNDf44R4/nZjVxs/qs9/n+fXv55/eX4tsV5Jm3+3++VAEPHd9RvbJstf9T+Pv6yndDzOdzq3No9d6y+vr2oKH8bx5+swhxZzDdvriwFCejz0uXf8ec1JH3EeyzpfWt+O/ud1P/rM7r+pfTJ+3j6t1XTuam7t+c/zq90fAAAAv9/rP5qUbjTDpm29OU43p5322blRmMvjiV77qD7/fZ5ef5j/KjSpBSkV+cZ2VNjcj8Zxm7WOvqN+maz/3vjx+OX2Gf6bbtg3qut/of5Jn0sN5jlVOljVLw8aOm03CvXJ1vTq/dXrf1p37f7b+fquX7/e/AvzW9UXAADgt3tvEFPcHKdt+hut9kZ230bt1SDh6fWHTeUw/81j70Z5GjsboKJY6x9Qv1INHn31xo/H53bNMpTW/2r9kz6XGqxq2FzfIByf5pX+eZdCfYbWeRCyGjs89t5fnf4HzfuveM+lfXauX3f+hfkV7k8AAIDf7IQgZvsv5q2NVggS0k1advK+jdpLQcLg6fWHjeb+0KWkuRFOFWv93fWL1zr7BEjWf2/8eDy0D+tr1LK0/lfrn/S51CCZU3d9o+X8sY/s3K5CfdI1vXx/dfoPXzbuv1LNp5rEJp3r151/YX6b+gIAAPxuxSCmuIkKehuluClLN3IhGFhttB/Hw8YsPT62f8NGrTr/nZ5e/2p9T3gtiPnu+q2Diul+WNWnV7+5fahFbR7F9b9Y/6TPfUHMen2TsKbr/Xo5WsNtfUqfcHr+/ur1P6272v+03uR46fVdv369+W/nF2u5qu/8vrG5/gAAAD9fOYgZ5J+smDdTezZK02ZtflQ3UeNj2Eit2sfNW9J+fKw2et2N2qA8//2eX/+02Xy0HR6F+dW0N8KFvsNjWd931y8ff2h3S/vvjR+PL0HHMo/Ypr/+4jl76z/OpRnETM+n42brm20Di30Kc9/08cL6dvTfvv9Grdd3XqtRfv1GrfnHY9nwpftTEAMAAPxi1SDmWxR/dCFu/NLNHRXq90PEmjfzDAAAAP6knxXEhE8krIKE6V+/bWp3UL8fIXwKZPenVAAAAPhLflYQM8h/JCY+hAj7qd/3edReCAMAAEDFjwtiAAAAAP6vBDEAAAAAJxHEAAAAAJxEEAMAAABwEkEMAAAAwEkEMQAAAAAnEcQAAAAAnEQQAwAAAHASQQwAAADASQQxAAAAACcRxAAAAACcRBADAAAAcBJBDAAAAMBJBDEAAAAAJxHEAAAAAJxEEAMAAABwEkEMAAAAwEkEMQAAAAAnEcQAAAAAnEQQAwAAAHASQQwAAADASQQxAAAAACcRxAAAAACcZBPE/Ltd7h8fH/njcrv/exy73G/jFw+f9+t4zvVz+nr07367jG1X535eQ3/Zqdlzc7vVYxp/mMD9Mn6ddhCeW8+pPH5xbdPjEk7sjD/5vKbHr0MFJrvnBwAAAPxF5SAmS0pSU1CRBBMhlFgFFSF8GJ67DcdiwDGZQpe0/znUyM4bhOfX85hCjcslCTZKQUdt/ESx/0Tt+Pr58PW8/r3zAwAAAP6kg0HMIAQL0ydY0j8nxj5CADIGL2lIM359vd6vj0+RfN6vlcCkFcTcbtfl/ELQUR0/8VQQUwxV4ieClnr05wcAAAD8TceDmEH8FMj1fh0/HbM5N35qJgsmHplE7HtsH45/xsBi/PpQEPMvBjihxSboqI+fKvafKB0P8y8EO4/575rfaPpxrkpIBAAAAPw/7fsdMZvAYgoSSiFHCB7mT7zEUGQOWR4hT/hkzBjIxPbHg5jx+DT2OuhojJ96OogptHmcu2d+gSAGAAAA/qKnPhETw4WPYhCzbh++ngKH5dj4iZHr/XpdP7/oBTHDCfH4KuhojZ96JoiptSkFMbX5AQAAAH/XE0HM/At7Sz+aVPgEyhhITJ9QGQOL+Vj656eCmDDW0O/mufr4qVqoMisdL4c6yZjd+QEAAAB/2fEgJgQbU7AQ/pz8st4QOnyE59aP8Zw0fEk9F8TEdtdb8lxn/NQzQUxc7zrUiT9mFE7tzQ8AAAD40w4GMdPvNkmOh8BiCidC28aPAY3/rQYxq3bFIGT96ZLx68vl8Vxv/FSx/0T5ePz0S/p8OG8eszO/hd8RAwAAAH/Rvl/WOwUGIXRYfyIkhA/D89d60DIcCO2uleNLgDIFHZXxN0HHIM4pPtcbP513aFcLWmrjB6tz0j4681sIYgAAAOAv2gQxAAAAAHwNQQwAAADASQQxAAAAACcRxAAAAACcRBADAAAAcBJBDAAAAMBJBDEAAAAAJxHEAAAAAJykEsT8u98uH/ePj8v99m96imP+3e6Xj7GG8XF5ayHn63O9f07P7BPbXY81OlGcX6tW/26XR02Pr//rvXt+ob/LbajML/Ol9z8AAMDvVQ5ixk3UsPm7XW2gntMPFF7ztUHM923+D9Tt8/qWoOPLvGl+33EtXh/zq+//tl8bXgEAAH9CMYgZNzJhEzVuJm1onvB5v/7ITxMJYk7zp4OY773/BTEAAMBPVghiks16+PGCdEM1Hxs3WvOPHRzYcM0/rpAmAWHDuv9fz8Mma2w/tSu1/bzOcxsfy2Y4tN1sjuNa9v/rfaxBqf/F8xvR3vriGlpjr+cXH7GP+fql5yzzzPtOH8fWUqv/Mn7t/onHl/XO8yyM3wg6svEPbsjb9Z/nP305Gs8rjfHC/PL6lc+pS6/t+CjVf/pylMz/Xdd/6LR6//fu71H9/pmsfuxp//z71+/w/A5dGwAAgFIQEzY58+YnblxaG+OwKTmyGZk2UXEzdDQEmTZK6QZoFRaNx9ONVj6/OF5rI9Y2rT/pIM5nqleyecsf5Q15SW99D2Gsbb9hvY/51a7fUoPS9Qtz2F2TXLv+vfsnne90bm0eu9ZfXl9Lu/5xTun6wjxK/T85v/XxY9diqtm6/WMe++b/9PUPax7G3zyWOrTrG4+n89tcv2mMbA0r9fn319+bX+/6AQAA9GyCmLARSTYa+abmwEa0Ye5z/B006Vh7xI1SusEthCup1fzyjVRcz+4gKGzK1pvr0vj1TwT07F5f2JD255Jfzy/eiJdk/ffGn6/HZ/hv896orn9V91qQVdGu/4H7/5n5FeZ66Fp078+zrn9hnZN2fQtW81sHISX1+ffX355f5/oBAADssApi5o1wsqvINpQHNqJNsZ/tRnUUNz7Lv6bn44WNUmsjFjZGeftsfulmtbhxbchqMSvUJKzhuc1Zd32z4lzGp4f1Ptqvr+e+61ffyO7QrH9v/Pm+iI9mGUrrL40dHvuvRbv+++oXPDO/wv146FqUxszmfML1D+r3f/f+Pnr/FNTn319/c35vuL8AAADyIKa60Ti2keuZNzvPfKy/vZGLIc4mSMrGiGsYzxn72v1pmFFxoxvHzKf0zUFMct3yvr56I96rf2/85drE9TVqWFp/uH9f2xS363/g/n9mfoXjh65FaczpmsQ5f/X1n9Xv/3Z9990/vddsff799Tfn94b7CwAAIAtiahuY5VMWBzaiNdlmsbDx6ji2kYtfb+YX5ny9Xy9HN1VTf8n45TBpPO+5DVt7fYmsjrPeuDuvX+j7mfn36t8bP99oh1rU5lFcf2y/q34V7fqv+p+Dy831Hzw1v1X9Qh+V/oumeif95/fnzvk/ff1n9fvw1ddv856YVeffX/+h618z97u5/gAAAKsgZty0LZugxGNTGTci2T5kPLZ3ozhtLNMx4sZq1WdDe6O09Bcfw2bsVprfdsO639R2fhTXXt+I9uzaCKbjh8cyVr7+6fGY4/7rl3+yZv9a2vXvjR+Pp/fHPI/Ypr/+4jnFa1TWu7+GE6ZN9vgYXhOF+Wdjh8eB+aX9j88feX0FnfuzOf/Fs9c/qt//vfq2759oc48fmX9n/d3rP5zZvb8EMQAAQMPml/X+DXGz2txv/UZhA7jeAMe1FgM2AAAA4FR/MogJ/1pe+Ff0X2/81/11EDP96/z/LnQCAACAX+hPBTGPH1f4P4Ywk/xHMuJDCAMAAAA/wx/90SQAAACA8wliAAAAAE4iiAEAAAA4iSAGAAAA4CSCGAAAAICTCGIAAAAATiKIAQAAADiJIAYAAADgJIIYAAAAgJMIYgAAAABOIogBAAAAOIkgBgAAAOAkghgAAACAkwhiAAAAAE4iiAEAAAA4iSAGAAAA4CSCGAAAAICTCGIAAAAATiKIAQAAADiJIAYAAADgJIIYAAAAgJMIYgAAAABOIogBAAAAOMkqiPl3v10+7h8fq8flNhwZfF7D19fPcHKUPVdqf70vpxeOz31P/t0u+fHNOds+Lresh8bxzvomn9f0eDL/f7f7ZXwuLUB47nLPpgAAAABQUP1ETAgjssRlMIUu6fNzaBHDjhh0pM3i8TnMiMc3wUjSIAQx63EftufnescXxfUN1s+Hr+egZgpdLpckeBHEAAAAADsdD2Ku1/v1Eax83q+X2/02nFsLYuZPkcTn1kHMePiSfSKlGcRkfRX0jieK6yuGKsMa5z7n47frsoZiGwAAAICtQ0HMHJKMx8KhzxhIjF8/F8TEkGMTzKzGXcTz1z9KtOgdX1TXV2j7WN8jdIkBVDivEd7smQcAAADwdzwVxIwBTAxkYgDRCmJCP49AIh5ffv9KHsKMwhjJ8fBIO5yCnc3zs97xSXN9K49zk9BlXnv63EIQAwAAAGw9F8SMQcPler9eY9CwPL8NWvIwIv1EzPrTMVEtDNmYf1/N8Cie3jleWl/puVEpiAn9r58DAAAAaDgUxIzPzcFJ+ud1EFPIMiar8GUMM1afGtkdxEzC+dn/mSlXO15aXzh38ymWZM5Z6DI+P/QriAEAAAB2ejqIST0dxBTOPxrEhDCnFYRUjpfWF89dhzbxx4zi8vLQZZzr9SaIAQAAAPZ5XxATPklyNIhJ2yZfHwhiwjw3n2JZ1I4Xg5hpfunzWfv1p1/Gry+XQhDjd8QAAAAAW6sgZgoipt+t8nhMgcJXBDEx3FieC31Vxp/PLR4b9Y5P42fHe+eki1kHMYMQ1AhiAAAAgB2qn4gBAAAA4L0EMQAAAAAnEcQAAAAAnEQQAwAAAHASQQwAAADASQQxAAAAACcRxAAAAACcRBADAAAAcJIsiPl3u9w/Pj6Kj8vt33jG/Xb5uF8/4/nfJ87j4+N6PzaVnzL/mji/WOuy/BodXf9ez9b3tzhvfeF6XW7DiAAAAND4RMznddiobhKLnxJkPLuR3jf/79s8x/m1gpiHz6sg5mnnrU8QAwAAQOqXBjHPEsRwLkEMAAAAqSeDmPkTBePjcl/nBqHt/OMzBzehYeM6jhuChthHGkyE43PfxSAindvyyH+0qjz/vO/0sV1jS7b+bI7z+J/3a7HveHxZ7zzPwviNIObl+j/mtqP/4XE0mKu3L9Un7793f4zq9e+tr3d9ol591+sTxAAAADB7KogZN5fzoXBestFct1sf73lslOc2/273y4EgIh+/FmzU5z8Kc3hy8zy2TcuW9z+Pv6yndDwNjarz2LX+8vp2qfT/Sm1G7fbb6xPvh2Ue8etkTav7o13/RHF9veszfd2o7/r4q/UCAADg/+X1H00aN7SPjeb4SYJVaFILUirWG+/Y52rMUXEjvT039Pd4ojf/6K2b56z/3vjx+OX2GQOBzaIT1fW/Vv+HYv9TbZ7pb9JuX6jPak27749Z4foGxfW9eH8Xav3WewkAAIBf771BTNiIDu02j9rGeytsXKu76kQlKMjnPQcb8+C9jXb00ua5VINHX73x4/G5XbMMpfW/of4PlfqOYhgy9f1EnertC/UJ4cfyXPf+aNY/UVxf5/r06huO532+dC8BAADwv/MFQcwTm/5Ed6M9qwQFYd7pJjnrqxeERM9vnmNokP3Okqz/3vjxeGgf1teoZWn9b6j/Q6n/jTjfXderaN2+UJ/Vmtr3R6/+ieL6OtenV9/CcUEMAAAAqTf/aNKrG/Np47qnfXEjXfjRkUxv/pPQ9zOBxjoIiF+v69Or39w+1KI2j+L6X6//Q7H/rfJ9sl/pE0xpd+v+jwUx6/onGvXLui9cn93jhzEK44fAZnh+R30BAAD4f3lzEDOaNqthozk9ShvhivZGu9B3eCxhRQwvVsdXG+n2/KOw/kcf+0OZfPyh3W27ka+PH4+nn+iY5xHb9NdfPGd3/fv953UZHrv7jtrtC+Ov7oX2/TEdf7Qv1z/rfz4vnBCPt++PTn0fIcv0fOn+EsQAAAD8WdUg5lcq/ujI+lMS/FyFIAQAAAD+R/5fQcz46YN1EDN9+sDm/jcQxAAAAPD/9v8KYgabH30RwvwighgAAAD+3/53QQwAAADATyWIAQAAADiJIAYAAADgJIIYAAAAgJMIYgAAAABOIogBAAAAOIkgBgAAAOAkghgAAACAkwhiAAAAAE4iiAEAAAA4iSAGAAAA4CSCGAAAAICTCGIAAAAATiKIAQAAADiJIAYAAADgJIIYAAAAgJMIYgAAAABOIogBAAAAOIkgBgAAAOAkghgAAACAkwhiAAAAAE4iiAEAAAA4iSAGAAAA4CSrIObf/Xb5uH98JI/LbXh28e92yY8XzhlOul+S45dbdvT+eU3aflzvn9Pzw4Hw3PXxxCB9rnd80JzfPK+0g/Dc5R6muJr3+FjPPZrrNLWbFMeeHrGfQn3Hx6p+1fr05g8AAAD8aMUgZgkfpuAg2fiHsCFLQlYKYcm/2+0RJoSQITkYvp6DiKnt5vjwXJhT7/igOb8ptLhckuBiE8Qkwcfwp+tqvGA8b5jzbRi7HNRM86rNY1A7vn4+fJ0FSY35AwAAAD9aJ4gZ9/mX7BMb7SBm2z5TDA1i2BG6HIOW63X4eg5DhmNp4NE7PtgTxNxu12WO6ZzCn9MgZlCY8zjGYz5JbVJPBTG9+vTmDwAAAPxonSAmhgDL1zGE6AYdlVBgHerMxlBiHGPue/w6DPEZA4e9x0f75hcDnNAinXP48yqI2dQg1igM0VjvOKfqPAal4736dOf/EOdcC4kAAACA79H9HTFLABGFsCA5Hh5zoDB+QmQTZCxqIckcSjyOh0++jIFLDBjmIKJ3fNScXxJazG3T5+Kf1/NfhVPZOfVPAJWCllTpeK8+3fk/CGIAAADgJ2p8IqYcMtTCgqATxNTCifn5pe/xEx/X+/Uag4T5+d7xUXN+aWgxhTnZc1nIMsvrsO4/fF35FEt1HoPS8V59uvMHAAAAfrT2jyaNm/1VyNAMOkIQUw8FyqHFMuYYOMxjp3+ex+wdX/95IwstxnGv989uEBM/XRLHKoRTlfDpEZ5UlI736tOdPwAAAPCjdX5HTPw6zQuaQUcWWhQUQ4vYZuwyDVdSpSAm9VwQE8+93jpBTBouheMfw9fbx3rIZ4KYOFa9Pt35AwAAAD9aJ4iJm/30UxrNoGMQjq+CieV/Xx37T9uHQGLqvxm0DOfU/nfR6Ryb81t/emT8+nJZnlsHMVPwMo+ZjpMqhSpPBTGd+nTn/xDDm9JcAQAAgO/TDWKKYcS4yU8fqw3/+pw8PJnChvn4KnRoBS27g5hk7PCoBRmDEHRkQUzeNs1KavMbDgzn5p9kaQYtqzHy+tXr053/gyAGAAAAfqJVEAMAAADAVxHEAAAAAJxEEAMAAABwEkEMAAAAwEkEMQAAAAAnEcQAAAAAnEQQAwAAAHASQQwAAADASd4axPy7Xe4fHx/Fx+X2bzqr5d/9dtl77iviOB8f1/vn9EwUn7/mT/5M/273y+H6frVfVL9fIrymLrehss95tT0AAADv9WWfiPm8ftw/Du/IBTH7nFWnowQx7yaIAQAA+H/5o0FMzW8JEj7v14/L/cflMIKYtxPEAAAA/L98SxATjj1+rCb9VMo6iIlff6xCh6z9wU1m2JgWxx7NQcI8bnwsyygEDZ/XZA7z8TEoKbWfxh+fGNtNx/PgKR97O8dRO4ip16c0v72BTmxbCsmWzf7cf7qGbf9fM79F/f6K8uP59WnbN7/e/XnoeOGcV9sDAADwfU4PYsZNe/p0OO+xUUw3+9NmvrQJTTrI2x8QgpByEDNuXuchYnAznzdvxMMXUSGIqbefv07mHH7Xy7yZn9onA2Ttk/Amfyz9t+szz28JD47Ub933LMwxPL9d/7r/r5zfaJxLOsV1+zDXA/3l+vNrr+/48fV8X20PAADA9/r+H00qBBmX22fc8G7aFz4JkgUZBzSCmHzYdMzC8cL86+3H6SbBShA/XRHahLWs55QcfyjUISg8Xwh66vNvC3OfGqfXd/xzGp7V+//a+RWt2sf6l2q3x6vr6xzPzo3yIOXV9gAAAHy3QhAzbvaGTXbyyDaeO1WDmLBZzPtfNopxo1sdt9Q2PFab0z3GDfTuIGZ+rrcR77Ufl7CEGRuH5lRYc7c+vfl3PM4dxr9cw+Mz67PT/1fPb9S8v6IYxpSPtb24vl3H8+ufBSmvtgcAAODbnfyJmBhKZL9nJNtox41uOD4+/9igT8JGc/Xcs0L/O0KPbMxeUNBrP355NIjJg5yoFcS06tObf8e80R/+ex0GGa9x/H0wO+vz1fPr3l9rcbzq9dh4cX1PHN8GMS+0BwAA4Nt9cxATv142inGjOx8Pm8hsY3l049wwbqB3BDH5Olbjh43vdv719mOTRhAz1yM5HtpvNtKVIGY9v43t/EIddm/Ux3Gv99tteIwNxrbXa3gudtnr/4z5te6vrfJ9WvOe9dWPr+Y/9l24v55vDwAAwHf7ll/Wm/1IxbCpX280l4301M9w7tLVtBl99DE8dm80C23DYw41CsfXa5jDl/C43j9LG/FG+3YQM5rCg/lRXNt4TimIGbXqE49lwx8KOqa+H+evg449/X/l/IYemvfX2F0ybjb2Hq+ub9Q5nt5f4/NH+++2BwAA4Dt9WRDzNxU26gAAAAATQcxbCWIAAACAOkHMWwliAAAAgDpBDAAAAMBJBDEAAAAAJxHEAAAAAJxEEAMAAABwEkEMAAAAwEneGsT8u13uHx8fxcfl9m86ix/h3+1+aV2f3vGXxP+71MfH9X7sfzD10/+vVHF+rVrlr5Gj6z/gS6/fX9W/vgAAAD1f9omYz+uwAfymHXPY7F5uw7bpe3z3+H29DeVXbzhj/18VxHxf/Q/U7fP6hUHMV1+/v0pdAQCA1wlivsDPD2I+79ePy72+n+wd/y6CmH1+6vX77QQxAADA604PYsImeXw+bETzH5sIxzab03FTuW/zE9vHPvNHuimNm6nl2PHNcFhb0v+8zH3jr9sv47+6/mjP+r4uiGld31Feo9Lc1vOPj9hHPHb9TM9Z5rm3/j2167OMH6/Jtu94fFnvPM/C+I0gJhv/qUCpdf3S2o2PfA6969fX6r9Xv+i59a9rvwhrSvrp9V8/vh5jXuux+wsAAPjbvieISTc44XdZzBuZuEHLmo0bwt2bsWi98VpMG6dkgDif8oa4pN73onXOeCxdX6jT49xX199ZX7K5zh87j+8QxxvazHPOrm8ijLXtN79vahvfpUZ5/aI916imfX22G+/S8Tjf6dzaPHatv7y+qu71m+ZUuz8eXw/nzGPWrl9Rr/9e/V5b/7rtLMxher7Xf/v4gesLAABQ8U1BTLoBzcOHvF268dkvjFHaIIVN5XrzWwg/GuL82xvT6vgl4+a5uhE8uP7d6xufa62hd7yud30fikHE9tzQ36oeWV+r+o0O1b8n6783/ny9PsN/S/f/Q3X9q7ofCkJmleu34/7Yff1Kuv336vfa+tN7JX0djX+Or6Fe/73jB64vAABARSGIiRun9F/Un9lvNIOYVofpZq64seurbsSLm9/C5rAjblan+hTGqY4/Cmtaarvp45X1715fYcOZ6R2v617fWXGu49NDPR7t543vPJHeRj5q1r+neX1648fjc7tmGUrrL40dHkevReX67bg/dl+/km7/nfq9uv5HX8P6L9fw+EzH7PXfHf/A9QUAAKj4vt8RUxU3O+Pmezz36KdhRtWNeHGjGIOn5zZV08Zs1bgeBMSxsjWlG9HghfXvXl9lo/7QO17Xv76T4lzHp5eNbnhkfSWb6tmmfq369/SuT2/85drF9TVqWFp/CAKeq3uucv1KY05rnte0+/qVdPvv1O/V9Yf2w/jDf69DJ+O9FH+f0NRnr//u+AeuLwAAQMUPDGIGYXM2/ov2kxud6iYpbgrT8cM8n9q0R8V1dsZfNvrTfNbjP73+vesbz2v13Tte91oQ0xu3F4RMqvXvifWrX5/e+MlGffxqrEVtHsX1x/a76tdUq+O0nsb98VIQ0+1/X/1eG/96v92Gx9jh2Pd1eB096tzrf9/xXdcXAACg4mcGMYUN3VFh/LGP8Eg3S1Pf8yPZhO6R91tvXxs/bt6S54dN47aPV9a/Z33jOa0NZO94Xfv6ThvddH7hUavP9Fht1LPus438on7929rXpzd+vlEfzfOIbfrrL55TvIYtrevXvj/2vT5bWv3vuX6vrH9q+zh/msuh/lvH47H69QUAAOj7siDmNXED9Xc3N390/cUfDYm1SDe/AAAA8Fv9yCAm/Cvz7n8F///5s+sfPx2xDmJCOOMTBwAAAPw//Kgg5vHjJH80hPnr6x89apA8hDAAAAD8X/zQH00CAAAA+P8RxAAAAACcRBADAAAAcBJBDAAAAMBJBDEAAAAAJxHEAAAAAJxEEAMAAABwEkEMAAAAwEkEMQAAAAAnEcQAAAAAnEQQAwAAAHASQQwAAADASQQxAAAAACcRxAAAAACcRBADAAAAcBJBDAAAAMBJBDEAAAAAJxHEAAAAAJxEEAMAAABwivv9P9xGNUBqA/yoAAAAAElFTkSuQmCC']' returned non-zero exit status 1.\r\n",
      "\r\n",
      "\tat org.apache.spark.api.python.BasePythonRunner$ReaderIterator.handlePythonException(PythonRunner.scala:456)\r\n",
      "\tat org.apache.spark.api.python.PythonRunner$$anon$1.read(PythonRunner.scala:592)\r\n",
      "\tat org.apache.spark.api.python.PythonRunner$$anon$1.read(PythonRunner.scala:575)\r\n",
      "\tat org.apache.spark.api.python.BasePythonRunner$ReaderIterator.hasNext(PythonRunner.scala:410)\r\n",
      "\tat org.apache.spark.InterruptibleIterator.hasNext(InterruptibleIterator.scala:37)\r\n",
      "\tat scala.collection.Iterator$$anon$12.hasNext(Iterator.scala:440)\r\n",
      "\tat scala.collection.Iterator$$anon$11.hasNext(Iterator.scala:409)\r\n",
      "\tat scala.collection.Iterator$$anon$11.hasNext(Iterator.scala:409)\r\n",
      "\tat scala.collection.Iterator$$anon$11.hasNext(Iterator.scala:409)\r\n",
      "\tat org.apache.spark.sql.catalyst.expressions.GeneratedClass$GeneratedIteratorForCodegenStage1.processNext(Unknown Source)\r\n",
      "\tat org.apache.spark.sql.execution.BufferedRowIterator.hasNext(BufferedRowIterator.java:43)\r\n",
      "\tat org.apache.spark.sql.execution.WholeStageCodegenExec$$anonfun$13$$anon$1.hasNext(WholeStageCodegenExec.scala:636)\r\n",
      "\tat org.apache.spark.sql.execution.datasources.FileFormatWriter$$anonfun$org$apache$spark$sql$execution$datasources$FileFormatWriter$$executeTask$3.apply(FileFormatWriter.scala:244)\r\n",
      "\tat org.apache.spark.sql.execution.datasources.FileFormatWriter$$anonfun$org$apache$spark$sql$execution$datasources$FileFormatWriter$$executeTask$3.apply(FileFormatWriter.scala:242)\r\n",
      "\tat org.apache.spark.util.Utils$.tryWithSafeFinallyAndFailureCallbacks(Utils.scala:1394)\r\n",
      "\tat org.apache.spark.sql.execution.datasources.FileFormatWriter$.org$apache$spark$sql$execution$datasources$FileFormatWriter$$executeTask(FileFormatWriter.scala:248)\r\n",
      "\t... 10 more\r\n",
      "\r\n"
     ]
    },
    {
     "name": "stdout",
     "output_type": "stream",
     "text": [
      "20/07/29 08:51:25 ERROR Utils: Aborting task\n",
      "org.apache.spark.TaskKilledException\n",
      "\tat org.apache.spark.api.python.BasePythonRunner$ReaderIterator$$anonfun$3.applyOrElse(PythonRunner.scala:482)\n",
      "\tat org.apache.spark.api.python.BasePythonRunner$ReaderIterator$$anonfun$3.applyOrElse(PythonRunner.scala:479)\n",
      "\tat scala.runtime.AbstractPartialFunction.apply(AbstractPartialFunction.scala:36)\n",
      "\tat org.apache.spark.api.python.PythonRunner$$anon$1.read(PythonRunner.scala:597)\n",
      "\tat org.apache.spark.api.python.PythonRunner$$anon$1.read(PythonRunner.scala:575)\n",
      "\tat org.apache.spark.api.python.BasePythonRunner$ReaderIterator.hasNext(PythonRunner.scala:410)\n",
      "\tat org.apache.spark.InterruptibleIterator.hasNext(InterruptibleIterator.scala:37)\n",
      "\tat scala.collection.Iterator$$anon$12.hasNext(Iterator.scala:440)\n",
      "\tat scala.collection.Iterator$$anon$11.hasNext(Iterator.scala:409)\n",
      "\tat scala.collection.Iterator$$anon$11.hasNext(Iterator.scala:409)\n",
      "\tat scala.collection.Iterator$$anon$11.hasNext(Iterator.scala:409)\n",
      "\tat org.apache.spark.sql.catalyst.expressions.GeneratedClass$GeneratedIteratorForCodegenStage1.processNext(Unknown Source)\n",
      "\tat org.apache.spark.sql.execution.BufferedRowIterator.hasNext(BufferedRowIterator.java:43)\n",
      "\tat org.apache.spark.sql.execution.WholeStageCodegenExec$$anonfun$13$$anon$1.hasNext(WholeStageCodegenExec.scala:636)\n",
      "\tat org.apache.spark.sql.execution.datasources.FileFormatWriter$$anonfun$org$apache$spark$sql$execution$datasources$FileFormatWriter$$executeTask$3.apply(FileFormatWriter.scala:244)\n",
      "\tat org.apache.spark.sql.execution.datasources.FileFormatWriter$$anonfun$org$apache$spark$sql$execution$datasources$FileFormatWriter$$executeTask$3.apply(FileFormatWriter.scala:242)\n",
      "\tat org.apache.spark.util.Utils$.tryWithSafeFinallyAndFailureCallbacks(Utils.scala:1394)\n",
      "\tat org.apache.spark.sql.execution.datasources.FileFormatWriter$.org$apache$spark$sql$execution$datasources$FileFormatWriter$$executeTask(FileFormatWriter.scala:248)\n",
      "\tat org.apache.spark.sql.execution.datasources.FileFormatWriter$$anonfun$write$1.apply(FileFormatWriter.scala:170)\n",
      "\tat org.apache.spark.sql.execution.datasources.FileFormatWriter$$anonfun$write$1.apply(FileFormatWriter.scala:169)\n",
      "\tat org.apache.spark.scheduler.ResultTask.runTask(ResultTask.scala:90)\n",
      "\tat org.apache.spark.scheduler.Task.run(Task.scala:123)\n",
      "\tat org.apache.spark.executor.Executor$TaskRunner$$anonfun$10.apply(Executor.scala:408)\n",
      "\tat org.apache.spark.util.Utils$.tryWithSafeFinally(Utils.scala:1360)\n",
      "\tat org.apache.spark.executor.Executor$TaskRunner.run(Executor.scala:414)\n",
      "\tat java.util.concurrent.ThreadPoolExecutor.runWorker(ThreadPoolExecutor.java:1149)\n",
      "\tat java.util.concurrent.ThreadPoolExecutor$Worker.run(ThreadPoolExecutor.java:624)\n",
      "\tat java.lang.Thread.run(Thread.java:748)\n",
      "20/07/29 08:51:25 WARN FileOutputCommitter: Could not delete file:/home/alex/projects/spark-nlp-book-prod/jupyter/ehr.parquet/_temporary/0/_temporary/attempt_20200729085121_0026_m_000000_82\n",
      "20/07/29 08:51:25 ERROR FileFormatWriter: Job job_20200729085121_0026 aborted.\n"
     ]
    }
   ],
   "source": [
    "! python process_image_dir.py EHRs ehr.parquet"
   ]
  },
  {
   "cell_type": "markdown",
   "metadata": {
    "colab_type": "text",
    "id": "6d5INQMTWEGK"
   },
   "source": [
    "## Test and Measure the Solution\n",
    " For an application that is fully internal, there are no actual business metrics; instead, monitoring the quality is the sole focus. We must make sure that this internal application is not unnecessarily increasing the error of the application.\n",
    "\n",
    "### Model-Centric Metrics\n",
    " We can measure the accuracy of an OCR model by character and word accuracy. You can measure this character error rate by calculating the Levenshtein distance between the expected and observed text then dividing by the size of the text.\n",
    "\n",
    "In addition to monitoring the actual model error rates, you can capture statistics about output. For example, monitoring the distribution of words can potentially diagnose a problem.\n",
    "\n",
    "## Review\n",
    " When you build an internal service, like an OCR tool may very well be, you will want to review the work with the teams that will need it. Ultimately, the success of your application requires that your users be satisfied with both the technical correctness and the support available. In some organizations, especially larger ones, there can be significant pressure to use in-house tools. If these tools are poorly engineered, under-documented, or unsupported, other teams will rightfully try and avoid them. This can potentially create hard feelings and lead to duplicated work and the siloing of teams. This is why it is a good idea to review the internal products and seek and accept feedback early and often.\n",
    "\n",
    "## Conclusion\n",
    "In this chapter we looked at an NLP application that is not focused on extracting structured data from unstructured data but is instead focused on converting from one type of data to another. Although this is only tangentially related to linguistics, it is immensely important practically. If you are building an application that uses data from long-established industries, it is very likely you will have to convert images to text.\n",
    "\n",
    "In this part of the book, we talked about building simple applications that apply some of the techniques we learned in part_ii. We also discussed specific and general development practices that can help you succeed in building your NLP application. To revisit a point made previously about Spark NLP, a central philosophical tenet of this library is that there is no one-size-fits-all. You will need to know your data, and know how to build your NLP application. In the next part we will discuss some more general tips and strategies for deploying applications. "
   ]
  }
 ],
 "metadata": {
  "colab": {
   "authorship_tag": "ABX9TyPw4ZQbFvZdiKqJ+3m3HpYE",
   "include_colab_link": true,
   "name": "3.16_Object_Character_Recognition.ipynb",
   "provenance": [],
   "toc_visible": true
  },
  "kernelspec": {
   "display_name": "Python 3",
   "language": "python",
   "name": "python3"
  },
  "language_info": {
   "codemirror_mode": {
    "name": "ipython",
    "version": 3
   },
   "file_extension": ".py",
   "mimetype": "text/x-python",
   "name": "python",
   "nbconvert_exporter": "python",
   "pygments_lexer": "ipython3",
   "version": "3.6.9"
  }
 },
 "nbformat": 4,
 "nbformat_minor": 1
}
