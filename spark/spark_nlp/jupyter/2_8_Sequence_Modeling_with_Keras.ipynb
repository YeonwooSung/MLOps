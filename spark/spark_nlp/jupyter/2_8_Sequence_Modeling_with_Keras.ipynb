{
 "cells": [
  {
   "cell_type": "code",
   "execution_count": 1,
   "metadata": {
    "colab": {
     "base_uri": "https://localhost:8080/",
     "height": 70
    },
    "colab_type": "code",
    "id": "tcCdCQRANj86",
    "outputId": "a376f171-697b-484f-bae5-513c6a3f7c19"
   },
   "outputs": [
    {
     "name": "stdout",
     "output_type": "stream",
     "text": [
      "[nltk_data] Downloading package brown to /home/alex/nltk_data...\n",
      "[nltk_data]   Package brown is already up-to-date!\n"
     ]
    },
    {
     "data": {
      "text/plain": [
       "True"
      ]
     },
     "execution_count": 1,
     "metadata": {},
     "output_type": "execute_result"
    }
   ],
   "source": [
    "import nltk\n",
    "\n",
    "nltk.download('brown')"
   ]
  },
  {
   "cell_type": "markdown",
   "metadata": {
    "colab_type": "text",
    "id": "E1jRKxbKMJmV"
   },
   "source": [
    "# Sequence Modeling with Keras\n",
    "\n",
    "So far, we have looked at documents as bags-of-words. This is a common, easily achievable approach for many NLP tasks. However, this approach produces a low-fidelity model of language. The order of words is essential to the encoding and decoding of meaning in language, and to incorporate this, we will need to model sequences.\n",
    "\n",
    "When people refer to sequences in a machine learning context, they are generally talking about sequences of data in which data points are not independent of the data points around them. We can still use features derived from the data point, as with general machine learning, but now we can also use the data and labels from the nearby data points. For example, if we are trying to determine if the token \"produce\" is being used as a noun or verb, knowing what words are around it will be very informative. If the token before it is \"might,\" that indicates \"produce\" is a verb. If \"the\" is the preceding token, that indicates it is a noun. These other words give us context.\n",
    "\n",
    "What if \"to\" precedes \"produce\"? That could still indicate either a noun or a verb. We need to look back further.  This gives us the concept of windows—the amount of context we want to capture. Many algorithms have a fixed amount of context that is decided as a hyperparameter. There are some algorithms, for example LSTMs, that can learn how long to remember the context.\n",
    "\n",
    "Sequence problems come from different domains, and in different data formats. In this book we are working with text data, which is a sequence of characters, or words, or even messages. Working with voice data is inherently a sequence problem. Economics, physics, and medicine also have many sequence problems. The statistics and behavior of this data is generally very different among these disparate fields, but there are many techniques in common.\n",
    "\n",
    "One of the common techniques used for sequence modeling is a family of machine learning algorithms called graphical models. Graphical models can be used to model probabilistic structures. This is what allows us to capture context. When building the graphical models, we have to decide how much context to capture. How much context we want to capture is based on the specifics of the problem. There are also models that let us learn how much context to use. The algorithm needed to learn a graphical model differs depending on the model chosen. Some can be learned with gradient descent; others have their own learning algorithms.\n",
    "\n",
    "In this chapter, we will go over some of the popular algorithms for learning sequences, such as hidden Markov models, conditional random fields, and recurrent neural networks. Let's start out with sentence segmentation and hidden Markov models."
   ]
  },
  {
   "cell_type": "markdown",
   "metadata": {
    "colab_type": "text",
    "id": "JCHE-uOBMJ0K"
   },
   "source": [
    "## Sentence Segmentation\n",
    "\n",
    "One of the   first sequence-modeling problems most learn is the sentence-boundary detection, or SBD problem, in which we want to determine where a sentence boundary is. This seems like a problem that could be solved by a regular expression. We can simply say that every \".\", \"?\", and \"!\" are sentence boundaries. We can add something to check for acronyms—perhaps we can check if the previous character is capitalized and the character after the next whitespace is not. This will still miss some situations with acronyms—for example, two acronyms following each other like \"U.S. D.O.S.\"\n",
    "\n",
    "What if our text is not so regularly formatted? If our text has many lists, as is common in technical communications, there may not be sentence-ending punctuation at the end of each item. However, we don't want to call all the items in a list the same sentence. We could make more and more complicated regular expressions, or we could build a model.\n",
    "\n",
    "There are some pros and cons to help us in deciding when to use a regular expression for SBD and when to use a model. Using a regular expression is easy to do, if you ignore some exceptions. If you are in a situation where using a model on text will be difficult, it is best to just use a regular expression. On the other hand, SBD models are somewhat generalizable. That being said, if you use an SBD model built on newspapers to process clinical text, it will produce more errors than you would expect."
   ]
  },
  {
   "cell_type": "markdown",
   "metadata": {
    "colab_type": "text",
    "id": "AX1XAtgcMJ71"
   },
   "source": [
    "## (Hidden) Markov Models\n",
    "  Hidden Markov model, or HMM is a popular model for dealing with sequence data. To understand it, we need to discuss Markov models and the Markov property.\n",
    "\n",
    "  The Markov property relates to a stochastic (random) process. In a stochastic process, a random variable for time $t$, $X_t$, can be dependent on all previous variables in the sequence, $X_{t-1},X_{t-2},...,X_0$. If $X_t$ is only dependent on the previous variable, $X_{t-1}$, then we say it has the Markov property. This simplifies problems greatly. This is an unrealistic assumption in language. However, like we saw in the previous chapter with independence assumptions of naïve Bayes and logistic regression, unrealistic assumptions don't necessarily produce a bad model. We can also ease the Markov property and say that  is dependent on the last $X_t$ variables.\n",
    "\n",
    "We can also use the relationship between the sequence we wish to model and an observable sequence. Now we can estimate the probability of a particular state as:\n",
    "\n",
    "\\begin{equation}\n",
    "P[y_{i} = k | x_{i} = c] \\approx P[y_{i} = k | y_{i-1} = k'] \\cdot P[y_{i-1} = k'] \\cdot P[x_{i} = c | y_{i} = k]\n",
    "\\end{equation}\n",
    "\n",
    "We can calculate the transition probability $P[y_{i} = k | y_{i-1} = k']$, the initial probability $P[y_0 = k]$, and the emission probability $P[x_{i} = c | y_{i} = k]$ directly from the data if we have labels. Once we have this, how do we predict the hidden states, $y_i$? We use the Viterbi algorithm.\n",
    "\n",
    "Let's look at an example. We will be using the Brown corpus available with NLTK."
   ]
  },
  {
   "cell_type": "code",
   "execution_count": 2,
   "metadata": {
    "colab": {},
    "colab_type": "code",
    "id": "lQXNDcJWNCLR"
   },
   "outputs": [],
   "source": [
    "from collections import defaultdict, Counter\n",
    "\n",
    "import numpy as np\n",
    "import pandas as pd\n",
    "\n",
    "import sparknlp\n",
    "\n",
    "spark = sparknlp.start()\n",
    "\n",
    "from nltk.corpus import brown\n",
    "sentences = brown.sents()"
   ]
  },
  {
   "cell_type": "markdown",
   "metadata": {
    "colab_type": "text",
    "id": "Ofxz89hoMKCh"
   },
   "source": [
    "The corpus is already split into sentences, so we will have to detokenize the data in order to get training data. Fortunately, this also provides us with labels. We will label the last character of a sentence with `E`, and everything else will be labeled `S`."
   ]
  },
  {
   "cell_type": "code",
   "execution_count": 3,
   "metadata": {
    "colab": {},
    "colab_type": "code",
    "id": "aHLT8Vj0NIAE"
   },
   "outputs": [],
   "source": [
    "def detokenize(sentence):\n",
    "    text = ''\n",
    "    for token in sentence:\n",
    "        if text and any(c.isalnum() for c in token):\n",
    "            text += ' '\n",
    "        text += token\n",
    "    return text"
   ]
  },
  {
   "cell_type": "code",
   "execution_count": 4,
   "metadata": {
    "colab": {},
    "colab_type": "code",
    "id": "dxdprFGtNJoB"
   },
   "outputs": [],
   "source": [
    "word_counts = Counter()\n",
    "raw = []\n",
    "labels = []\n",
    "for fid in brown.fileids():\n",
    "        sentences = brown.sents(fid)\n",
    "        word_counts.update(\n",
    "            [t for s in sentences for t in s if t.isalpha()])\n",
    "        sentences = [detokenize(s) for s in sentences]\n",
    "        raw.append(' '.join(sentences))\n",
    "        labels.append('S'.join([\n",
    "            ('S' * (len(s) - 1)) + 'E' \n",
    "            for s in sentences\n",
    "        ]))\n",
    "\n",
    "word_counts = pd.Series(word_counts)"
   ]
  },
  {
   "cell_type": "markdown",
   "metadata": {
    "colab_type": "text",
    "id": "la5RjGoqMKJp"
   },
   "source": [
    "Now, let us define our training algorithm. If you note the equations defined previously, we will be doing repeated multiplication of probabilities; this creates a danger of underflow.  Underflow is a limitation of floating-point numbers. Floating-point numbers can represent only so much precision. So, if a number approaches too close to 0, the floating-point representation may round to 0. For example, when implementing naïve Bayes, instead of multiplying probabilities, we will add log-probabilities. This is to avoid underflow when multiplying many numbers that are less than 1.\n",
    "\n",
    "We will need the set of observations, the characters in the text, the set of states, whether or not a character marks a sentence ending, and the log probabilities. We will need to have the log probability for initial states. In this modeling problem the initial state will always be \"S.\" We will need the emission log probabilities—the log probability of a character given a state. And finally, we need the transition log probability, which is the log probability of a state given a previous state."
   ]
  },
  {
   "cell_type": "code",
   "execution_count": 5,
   "metadata": {
    "colab": {},
    "colab_type": "code",
    "id": "uJvjvs8-NM-U"
   },
   "outputs": [],
   "source": [
    "class HMM(object):\n",
    "    def __init__(self, obs_set, state_set, initial_log, emission_log, \n",
    "                 transition_log):\n",
    "        self.obs_set = obs_set\n",
    "        self.state_set = state_set\n",
    "        self.initial_log = initial_log\n",
    "        self.emission_log = emission_log\n",
    "        self.transition_log = transition_log"
   ]
  },
  {
   "cell_type": "markdown",
   "metadata": {
    "colab_type": "text",
    "id": "mUXdb8Z8MKir"
   },
   "source": [
    "To calculate these things, we need to track total possible observations, states, and the counts we will use to calculate the log-probabilities."
   ]
  },
  {
   "cell_type": "code",
   "execution_count": 6,
   "metadata": {
    "colab": {},
    "colab_type": "code",
    "id": "7GV8OnosNPHt"
   },
   "outputs": [],
   "source": [
    "def training_data():\n",
    "    data_dict = {}\n",
    "    data_dict['obs_set'] = set()\n",
    "    data_dict['state_set'] = set()\n",
    "    data_dict['transition_ct'] = defaultdict(Counter)\n",
    "    data_dict['emission_ct'] = defaultdict(Counter)\n",
    "    data_dict['initial_ct'] = Counter()\n",
    "    return data_dict"
   ]
  },
  {
   "cell_type": "markdown",
   "metadata": {
    "colab_type": "text",
    "id": "KlJmB4DAMKqO"
   },
   "source": [
    "Now we need to have a function that will update this data as we traverse over the data set."
   ]
  },
  {
   "cell_type": "code",
   "execution_count": 7,
   "metadata": {
    "colab": {},
    "colab_type": "code",
    "id": "tmmsBgvaNRp0"
   },
   "outputs": [],
   "source": [
    "def update_state(data_dict, ob_seq, st_seq):\n",
    "    assert len(ob_seq) == len(st_seq)\n",
    "    data_dict['initial_ct'][st_seq[0]] += 1\n",
    "    for i in range(1, len(st_seq)):\n",
    "        ob = ob_seq[i]\n",
    "        st = st_seq[i]\n",
    "        data_dict['obs_set'].add(ob)\n",
    "        data_dict['state_set'].add(st)\n",
    "        data_dict['transition_ct'][ob_seq[i-1]][ob] += 1\n",
    "        data_dict['emission_ct'][st][ob] += 1"
   ]
  },
  {
   "cell_type": "markdown",
   "metadata": {
    "colab_type": "text",
    "id": "EI3g2FTgMKyI"
   },
   "source": [
    "Now that we have the counts and the total set of observations and states, we can calculate the sums we will need for the log probabilties."
   ]
  },
  {
   "cell_type": "code",
   "execution_count": 8,
   "metadata": {
    "colab": {},
    "colab_type": "code",
    "id": "-9OJuSnyNUq-"
   },
   "outputs": [],
   "source": [
    "def calculate_sums(data_dict):\n",
    "    data_dict['transition_sums'] = {\n",
    "        st: np.sum(list(data_dict['transition_ct'][st].values())) \n",
    "        for st in data_dict['state_set']\n",
    "    }\n",
    "    data_dict['initial_sum'] = np.sum(\n",
    "        list(data_dict['initial_ct'].values()))\n",
    "    data_dict['emission_sums'] = {\n",
    "        st: np.sum(list(data_dict['emission_ct'][st].values())) \n",
    "        for st in data_dict['state_set']\n",
    "    }"
   ]
  },
  {
   "cell_type": "markdown",
   "metadata": {
    "colab_type": "text",
    "id": "Jjv4zFl4MK4-"
   },
   "source": [
    "Once we have the counts and the sums, we can calculate the log probabilties."
   ]
  },
  {
   "cell_type": "code",
   "execution_count": 9,
   "metadata": {
    "colab": {},
    "colab_type": "code",
    "id": "6I3uyQjFNXdM"
   },
   "outputs": [],
   "source": [
    "def calculate_log_probs(data_dict, eps):\n",
    "    data_dict['transition_log'] = {\n",
    "        prev_st: {\n",
    "            # log P[y_i = k | y_i-1 = k']\n",
    "            st: (np.log(data_dict['transition_ct'][prev_st][st] + \\\n",
    "                        eps) - \\\n",
    "                 np.log(data_dict['transition_sums'][prev_st] + \\\n",
    "                        eps)) \n",
    "            for st in data_dict['state_set']\n",
    "        } \n",
    "        for prev_st in data_dict['state_set']\n",
    "    }\n",
    "    \n",
    "    data_dict['initial_log'] = {\n",
    "            # log P[y_0 = k]\n",
    "        st: (np.log(data_dict['initial_ct'][st] + eps) - \\\n",
    "             np.log(data_dict['initial_sum'] + eps)) \n",
    "        for st in data_dict['state_set']\n",
    "    }\n",
    "    \n",
    "    data_dict['emission_log'] = {\n",
    "        st: {\n",
    "            # log P[x_i = c | y_i = k]\n",
    "            ob: (np.log(data_dict['emission_ct'][st][ob] + eps) - \\\n",
    "                 np.log(data_dict['emission_sums'][st] + eps)) \n",
    "            for ob in data_dict['obs_set']\n",
    "        } \n",
    "        for st in data_dict['state_set']\n",
    "    }"
   ]
  },
  {
   "cell_type": "markdown",
   "metadata": {
    "colab_type": "text",
    "id": "KkFlVIz3MK_9"
   },
   "source": [
    "Finally, we have our `train` method to tie everything together."
   ]
  },
  {
   "cell_type": "code",
   "execution_count": 10,
   "metadata": {
    "colab": {},
    "colab_type": "code",
    "id": "HOtPzQr_Nbu1"
   },
   "outputs": [],
   "source": [
    "def train(observations, states, eps=1e-8):\n",
    "    # initialize\n",
    "    data_dict = training_data()\n",
    "    \n",
    "    # traverse data and count all transitions, initials, and \n",
    "    # emissions\n",
    "    for ob_seq, st_seq in zip(observations, states):\n",
    "        update_state(data_dict, ob_seq, st_seq)\n",
    "                \n",
    "    calculate_sums(data_dict)\n",
    "    \n",
    "    calculate_log_probs(data_dict, eps)\n",
    "    \n",
    "    return HMM(list(data_dict['obs_set']), list(data_dict['state_set']), \n",
    "               data_dict['initial_log'], data_dict['emission_log'], \n",
    "               data_dict['transition_log'])"
   ]
  },
  {
   "cell_type": "code",
   "execution_count": 11,
   "metadata": {
    "colab": {},
    "colab_type": "code",
    "id": "5CIq7XnuNdCF"
   },
   "outputs": [],
   "source": [
    "model = train(raw, labels)"
   ]
  },
  {
   "cell_type": "markdown",
   "metadata": {
    "colab_type": "text",
    "id": "hm4r4rM5MK8h"
   },
   "source": [
    "Now, given a piece of text, we need to calculate the most probable sequence of states. We can use these predicted states to split a piece of text into sentences.  For doing this, we will use the Viterbi algorithm. This algorithm will let us efficiently traverse the set of possible sequences."
   ]
  },
  {
   "cell_type": "code",
   "execution_count": 12,
   "metadata": {
    "colab": {},
    "colab_type": "code",
    "id": "JTrIfZlQOnWa"
   },
   "outputs": [],
   "source": [
    "def viterbi(y, model):\n",
    "    # probabilities for the initial states\n",
    "    path_logs = [{\n",
    "        st: model.initial_log[st] + model.emission_log[st][y[0]] \n",
    "        for st in model.state_set\n",
    "    }]\n",
    "    path_preds = [{st: '' for st in model.state_set}]\n",
    "    \n",
    "    for i in range(1, len(y)):\n",
    "        curr_log = {}\n",
    "        curr_preds = {}\n",
    "        for st in model.state_set:\n",
    "            # find the most probable previous state that \n",
    "            # would lead to st\n",
    "            curr_log[st] = -np.inf\n",
    "            curr_preds[st] = ''\n",
    "            for prev_st in model.state_set:\n",
    "                # log probability\n",
    "                local_log = path_logs[i-1][prev_st] + \\\n",
    "                    model.transition_log[prev_st][st] + \\\n",
    "                    model.emission_log[st][y[i]]\n",
    "                if curr_log[st] < local_log:\n",
    "                    curr_log[st] = local_log\n",
    "                    curr_preds[st] = prev_st\n",
    "        path_logs.append(curr_log)\n",
    "        path_preds.append(curr_preds)\n",
    "\n",
    "    # Now we work backwards. Find the most probable final \n",
    "    # state, and work back to the beginning.\n",
    "    terminal_log = -np.inf\n",
    "    curr_st = ''\n",
    "    for st in model.state_set:\n",
    "        if terminal_log < path_logs[-1][st]:\n",
    "            terminal_log = path_logs[-1][st]\n",
    "            curr_st = st\n",
    "    preds = curr_st\n",
    "    for i in range(len(y)-1, 0, -1):\n",
    "        curr_st = path_preds[i][curr_st]\n",
    "        preds = curr_st + preds\n",
    "    return preds"
   ]
  },
  {
   "cell_type": "markdown",
   "metadata": {
    "colab_type": "text",
    "id": "NkR8CW_wMK1k"
   },
   "source": [
    "Now that we can make predictions, we can build our own sentence splitter."
   ]
  },
  {
   "cell_type": "code",
   "execution_count": 13,
   "metadata": {
    "colab": {},
    "colab_type": "code",
    "id": "fc366pjEPLSD"
   },
   "outputs": [],
   "source": [
    "def split(text, model):\n",
    "    state_seq = viterbi(text, model)\n",
    "    sentences = []\n",
    "    start = 0\n",
    "    for end in range(1, len(text)):\n",
    "        if state_seq[end] == 'E':\n",
    "            sentences.append(text[start:end+1])\n",
    "            start = end+1\n",
    "    sentences.append(text[start:])\n",
    "    return sentences"
   ]
  },
  {
   "cell_type": "markdown",
   "metadata": {
    "colab_type": "text",
    "id": "h7iF4YFTMKuK"
   },
   "source": [
    "Let's see how it does."
   ]
  },
  {
   "cell_type": "code",
   "execution_count": 14,
   "metadata": {
    "colab": {},
    "colab_type": "code",
    "id": "rX-8U-CjYLmr"
   },
   "outputs": [],
   "source": [
    "example = raw[0]"
   ]
  },
  {
   "cell_type": "code",
   "execution_count": 15,
   "metadata": {
    "colab": {
     "base_uri": "https://localhost:8080/",
     "height": 354
    },
    "colab_type": "code",
    "id": "5FbBbXKEYNK8",
    "outputId": "9d88bc0c-1ba3-4147-ce78-4bc8f777dc2b"
   },
   "outputs": [
    {
     "name": "stdout",
     "output_type": "stream",
     "text": [
      "The Fulton County Grand Jury said Friday an investigation of Atlanta's recent primary election produced`` no evidence'' that any irregularities took place.\n",
      "###\n",
      " The jury further said in term-\n",
      "###\n",
      "end presentments that the City Executive Committee, which had over-\n",
      "###\n",
      "all charge of the election,`` deserves the praise and thanks of the City of Atlanta'' for the manner in which the election was conducted.\n",
      "###\n",
      " The September-\n",
      "###\n",
      "October term jury had been charged by Fulton Superior Court Judge Durwood Pye to investigate reports of possible`` irregularities'' in the hard-\n",
      "###\n",
      "fought primary which was won by Mayor-\n",
      "###\n",
      "nominate Ivan Allen Jr.\n",
      "###\n",
      ".\n",
      "###\n",
      " `` Only a relative handful of such reports was received'', the jury said,`` considering the widespread interest in the election, the number of voters and the size of this city''.\n"
     ]
    }
   ],
   "source": [
    "print('\\n###\\n'.join(split(example, model)[:10]))"
   ]
  },
  {
   "cell_type": "markdown",
   "metadata": {
    "colab_type": "text",
    "id": "4hAdlMiOMKmq"
   },
   "source": [
    "Not great, but this is a simple model built from the data—not from manually encoded heuristics. There are several ways we could improve this. We can add more emission features because we are assuming they are independent of each other. We should look at the data to understand why the model thinks hyphens are ends of sentences.\n",
    "\n",
    "This model is simple, but we already had plenty of labels. Getting labels like this can be a time-consuming process.  You can use the Baum-Welch algorithm to learn transition and emission probabilities on a partially labeled or unlabeled data set.\n",
    "\n",
    "Let's look at how Spark NLP does sentence detection.  The algorithm is based on Kevin Dias's `pragmatic_segmenter`, originally implemented in Ruby. Let's compare how it does to how our simple HMM does."
   ]
  },
  {
   "cell_type": "code",
   "execution_count": 16,
   "metadata": {
    "colab": {},
    "colab_type": "code",
    "id": "vJcsOu99YVrD"
   },
   "outputs": [],
   "source": [
    "example_df = spark.createDataFrame([(example,)], ['text'])"
   ]
  },
  {
   "cell_type": "code",
   "execution_count": 17,
   "metadata": {
    "colab": {},
    "colab_type": "code",
    "id": "RbJmm4daYXFc"
   },
   "outputs": [],
   "source": [
    "from sparknlp import DocumentAssembler, Finisher\n",
    "from sparknlp.annotator import SentenceDetector\n",
    "\n",
    "from pyspark.ml import Pipeline\n",
    "\n",
    "assembler = DocumentAssembler()\\\n",
    "    .setInputCol('text')\\\n",
    "    .setOutputCol('document')\n",
    "sent_detector = SentenceDetector()\\\n",
    "    .setInputCols(['document'])\\\n",
    "    .setOutputCol('sentences')\n",
    "finisher = Finisher()\\\n",
    "    .setInputCols(['sentences'])\\\n",
    "    .setOutputCols(['sentences'])\\\n",
    "    .setOutputAsArray(True)\n",
    "\n",
    "pipeline = Pipeline().setStages([\n",
    "    assembler, sent_detector, finisher\n",
    "]).fit(example_df)"
   ]
  },
  {
   "cell_type": "code",
   "execution_count": 18,
   "metadata": {
    "colab": {},
    "colab_type": "code",
    "id": "WQ8XGS39YYlV"
   },
   "outputs": [],
   "source": [
    "sentences = pipeline.transform(example_df)"
   ]
  },
  {
   "cell_type": "code",
   "execution_count": 19,
   "metadata": {
    "colab": {
     "base_uri": "https://localhost:8080/",
     "height": 354
    },
    "colab_type": "code",
    "id": "vSIIPRf0Yfe8",
    "outputId": "0f48bc9a-a4fd-486b-f8d1-9f9f73ab720f"
   },
   "outputs": [
    {
     "name": "stdout",
     "output_type": "stream",
     "text": [
      "The Fulton County Grand Jury said Friday an investigation of Atlanta's recent primary election produced`` no evidence'' that any irregularities took place.\n",
      "###\n",
      "The jury further said in term-end presentments that the City Executive Committee, which had over-all charge of the election,`` deserves the praise and thanks of the City of Atlanta'' for the manner in which the election was conducted.\n",
      "###\n",
      "The September-October term jury had been charged by Fulton Superior Court Judge Durwood Pye to investigate reports of possible`` irregularities'' in the hard-fought primary which was won by Mayor-nominate Ivan Allen Jr..\n",
      "###\n",
      "`` Only a relative handful of such reports was received'', the jury said,`` considering the widespread interest in the election, the number of voters and the size of this city''.\n",
      "###\n",
      "The jury said it did find that many of Georgia's registration and election laws`` are outmoded or inadequate and often ambiguous''.\n",
      "###\n",
      "It recommended that Fulton legislators act`` to have these laws studied and revised to the end of modernizing and improving them''.\n",
      "###\n",
      "The grand jury commented on a number of other topics, among them the Atlanta and Fulton County purchasing departments which it said`` are well operated and follow generally accepted practices which inure to the best interest of both governments''.\n",
      "###\n",
      "Merger proposed However, the jury said it believes`` these two offices should be combined to achieve greater efficiency and reduce the cost of administration''.\n",
      "###\n",
      "The City Purchasing Department, the jury said,`` is lacking in experienced clerical personnel as a result of city personnel policies''.\n",
      "###\n",
      "It urged that the city`` take steps to remedy'' this problem.\n"
     ]
    }
   ],
   "source": [
    "print('\\n###\\n'.join(sentences.first()['sentences'][:10]))"
   ]
  },
  {
   "cell_type": "markdown",
   "metadata": {
    "colab_type": "text",
    "id": "MqBrP6GPMKfe"
   },
   "source": [
    "It definitely does better than the HMM. The `pragmatic_segmenter` is quite complex. We could build a more complex model, though. This is a good lesson that in some situations heuristics may be preferable to a model. When you are working on your NLP application, always try the simplest solution first. Look at what goes wrong and then make improvements"
   ]
  },
  {
   "cell_type": "markdown",
   "metadata": {
    "colab_type": "text",
    "id": "AgRwaZdcMKF2"
   },
   "source": [
    "## Section Segmentation\n",
    "\n",
    "There are some documents that are more like a collection of documents. A clinical encounter is recorded as a collection of notes, perhaps from different providers. Legal text is broken into different sections, each with different kinds of content and functions. Narrative text is often broken into chapters or scenes. These different sections may require different treatments, or even different models. For example, we may not want to use the same models on an admission note as we do on a radiological exam, even if they are part of the same visit.\n",
    "\n",
    "Although sections are incredibly important, they are not actually a part of language per se. They are an artifact of the document formatting that the text is recorded in. There may still be meaning in the different kinds of sections, and even in their placement. This means that we often can't generalize our techniques outside of a given corpus. Fortunately, regular expressions are even more effective on this problem than sentence-boundary detection."
   ]
  },
  {
   "cell_type": "markdown",
   "metadata": {
    "colab_type": "text",
    "id": "KCjek9pLMJ_N"
   },
   "source": [
    "## Part-of-Speech Tagging\n",
    "Parts of speech are word categories that govern how words are combined to form phrases and sentences. These can be very valuable, especially in a process that involves extracting information from the text. You are likely familiar with the most common parts of speech. In NLP, the categories are a little more complicated.\n",
    "\n",
    "The following are common parts of speech:\n",
    "\n",
    "* Verbs: \"know,\" \"try,\" \"call\"\n",
    "* Nouns: \"cat,\" \"banana,\" \"happiness\"\n",
    "* Adjectives: \"big,\" \"red,\" \"quick\"\n",
    "* Adverbs: \"well,\" \"now,\" \"quickly\"\n",
    "* Prepositions: \"of,\" \"behind,\" \"with\"\n",
    "\n",
    "Most part-of-speech tagging data comes from the University of Pennsylvania Treebank, or it is similarly formatted. This data set has a much larger set of parts-of-speech:\n",
    "\n",
    "* CC: Coordinating conjunction (\"and\")\n",
    "* CD: Cardinal number (\"one,\" \"1\")\n",
    "* DT: Determiner (\"an,\" \"the\")\n",
    "* EX: Existential \"there\" (\"there are\")\n",
    "* FW: Foreign word (\"zeitgeist\")\n",
    "* IN: Preposition or subordinating conjunction (\"of,\" \"because\")\n",
    "* JJ: Adjective (\"happy,\" \"fun\")\n",
    "* JJR: Adjective, comparative (\"happier\")\n",
    "* JJS: Adjective, superlative (\"happiest\")\n",
    "* LS: List item marker (\"a)\")\n",
    "* MD: Modal (\"can,\" \"might\")\n",
    "* NN: Noun, singular or mass (\"cat,\" \"knowledge\")\n",
    "* NNS: Noun, plural (\"cats\")\n",
    "* NNP: Proper noun, singular (\"Sarah\")\n",
    "* NNPS: Proper noun, plural (\"Hungarians\")\n",
    "* PDT: Predeterminer (\"half\" in \"It is half the price.\")\n",
    "* POS: Possessive ending (possessive \"'s\")\n",
    "* PRP: Personal pronoun (\"I,\" \"they\")\n",
    "* PRP\\$: Possessive pronoun (\"my,\" \"their\")\n",
    "* RB: Adverb (\"quickly,\" \"well\")\n",
    "* RBR: Adverb, comparative (\"quicker,\" \"better\")\n",
    "* RBS: Adverb, superlative (\"quickest,\" \"best\")\n",
    "* RP: Particle (varies, but infinitive \"to,\" \"off\" in \"It's a write-off\")\n",
    "* SYM: Symbol (x in mathematical context)\n",
    "* TO: to (sometimes a separate category just for infinitive \"to\")\n",
    "* UH: Interjection (\"uh\")\n",
    "* VB: Verb, base form (after infinitive \"to,\" \"call,\" \"know\")\n",
    "* VBD: Verb, past tense (\"called,\" \"knew\")\n",
    "* VBG: Verb, gerund or present participle (\"calling,\" \"knowing\")\n",
    "* VBN: Verb, past participle (\"called,\" \"known\")\n",
    "* VBP: Verb, non–third-person singular present (\"call,\" \"know\")\n",
    "* VBZ: Verb, third-person singular present (\"calls,\" \"knows\")\n",
    "* WDT: Wh-determiner (\"which\")\n",
    "* WP: Wh-pronoun (\"who\")\n",
    "* WP\\$: Possessive wh-pronoun (\"whose\")\n",
    "* WRB: Wh-adverb (\"when\")"
   ]
  },
  {
   "cell_type": "markdown",
   "metadata": {
    "colab_type": "text",
    "id": "9GJNd999MJ4C"
   },
   "source": [
    "Understanding the linguistics behind these lexical categories will help us understand how to extract them, as well as how to use them. Let's look a little at how humans identify parts of speech.\n",
    "\n",
    "Humans decode the part of speech from morphological and syntactic clues. This is why we can determine the parts of speech of nonsense words. Let's look at part of \"Jabberwocky,\" the poem by Lewis Carroll.\n",
    "\n",
    "> ’Twas brillig, and the slithy toves  \n",
    "> Did gyre and gimble in the wabe:  \n",
    "> All mimsy were the borogoves,  \n",
    "> And the mome raths outgrabe.  \n",
    "> \n",
    "> “Beware the Jabberwock, my son!  \n",
    "> The jaws that bite, the claws that catch!  \n",
    "> Beware the Jubjub bird, and shun  \n",
    "> The frumious Bandersnatch!”  \n",
    "> \n",
    "> He took his vorpal sword in hand;  \n",
    "> Long time the manxome foe he sought—  \n",
    "> So rested he by the Tumtum tree  \n",
    "> And stood awhile in thought. \n",
    "\n",
    "Fluent English speakers will be able to tell you that \"brillig\" and \"vorpal\" are adjectives, \"gyre\" and \"gimble\" are verbs, and \"toves\" and \"Jabberwock\" are nouns. It's not as easy to do this with every category. If you make up your own subordinating conjunction, people may have a hard time identifying it.\n",
    "\n",
    "> I went there cloom they told me to.\n",
    "\n",
    "This sentence seems wrong. The reason is that we are used to learning new words in some categories and not in others. If we can create words in a category, it is considered an open category; those we cannot easily add to are called closed categories. This is on a spectrum, though. Pronouns are not as open as nouns, but it is not uncommon for languages to innovate new pronouns. For example, \"y'all\" is no more than two or three centuries old.\n",
    "\n",
    "Knowing that there are some categories that are more or less fixed, and some that are fully open, we can tell that our models are learning two kinds of prediction. Lexical cues are useful for closed categories, and contextual cues are useful for open categories."
   ]
  },
  {
   "cell_type": "markdown",
   "metadata": {
    "colab_type": "text",
    "id": "F72nqXa8MJvY"
   },
   "source": [
    "Let's take a look at how Spark NLP does POS tagging. In Spark NLP, a perceptron is used. We can train a model on the brown corpus, but first we must save the data in a particular format. Each token-tag pair must be joined by an underscore '_'. Each sentence worth of tagged tokens goes on one line. For example:\n",
    "\n",
    "```\n",
    "The_AT mayor's_NN$ present_JJ term_NN of_IN office_NN expires_VBZ \n",
    "Jan._NP 1_CD ._. \n",
    "He_PPS will_MD be_BE succeeded_VBN by_IN Ivan_NP Allen_NP Jr._NP \n",
    ",_, who_WPS became_VBD a_AT candidate_NN in_IN the_AT Sept._NP \n",
    "13_CD primary_NN after_CS Mayor_NN-TL Hartsfield_NP announced_VBD \n",
    "that_CS he_PPS would_MD not_* run_VB for_IN reelection_NN ._.\n",
    "```"
   ]
  },
  {
   "cell_type": "code",
   "execution_count": 20,
   "metadata": {
    "colab": {},
    "colab_type": "code",
    "id": "MibWMk4oZfNz"
   },
   "outputs": [],
   "source": [
    "from sparknlp.training import POS\n",
    "\n",
    "with open('tagged_brown.txt', 'w') as out:\n",
    "    for fid in brown.fileids():\n",
    "        for sent in brown.tagged_sents(fid):\n",
    "            for token, tag in sent:\n",
    "                out.write('{}_{} '.format(token, tag))\n",
    "            out.write('\\n')\n",
    "        \n",
    "tag_data = POS().readDataset(spark, 'tagged_brown.txt', '_', 'tags')"
   ]
  },
  {
   "cell_type": "markdown",
   "metadata": {
    "colab_type": "text",
    "id": "23sG1aFUMJEq"
   },
   "source": [
    "Now we can build our pipeline and train our model."
   ]
  },
  {
   "cell_type": "code",
   "execution_count": 21,
   "metadata": {
    "colab": {},
    "colab_type": "code",
    "id": "MEsx8An4PKrE"
   },
   "outputs": [],
   "source": [
    "from sparknlp.annotator import Tokenizer, PerceptronApproach\n",
    "\n",
    "assembler = DocumentAssembler()\\\n",
    "    .setInputCol('text')\\\n",
    "    .setOutputCol('document')\n",
    "sent_detector = SentenceDetector()\\\n",
    "    .setInputCols(['document'])\\\n",
    "    .setOutputCol('sentences')\n",
    "tokenizer = Tokenizer() \\\n",
    "    .setInputCols(['sentences']) \\\n",
    "    .setOutputCol('tokens')\n",
    "\n",
    "pos_tagger = PerceptronApproach() \\\n",
    "    .setNIterations(1) \\\n",
    "    .setInputCols([\"sentences\", \"tokens\"]) \\\n",
    "    .setOutputCol(\"pos\") \\\n",
    "    .setPosCol(\"tags\")\n",
    "\n",
    "finisher = Finisher()\\\n",
    "    .setInputCols(['tokens', 'pos'])\\\n",
    "    .setOutputCols(['tokens', 'pos'])\\\n",
    "    .setOutputAsArray(True)\n",
    "\n",
    "pipeline = Pipeline().setStages([\n",
    "    assembler, sent_detector, tokenizer, pos_tagger, finisher\n",
    "])"
   ]
  },
  {
   "cell_type": "code",
   "execution_count": 22,
   "metadata": {
    "colab": {},
    "colab_type": "code",
    "id": "xL0lYj_jZjuZ"
   },
   "outputs": [],
   "source": [
    "pipeline = pipeline.fit(tag_data)"
   ]
  },
  {
   "cell_type": "markdown",
   "metadata": {
    "colab_type": "text",
    "id": "Ojt4Kjo1Zlti"
   },
   "source": [
    "Let's look at how it did on the first sentence."
   ]
  },
  {
   "cell_type": "code",
   "execution_count": 23,
   "metadata": {
    "colab": {
     "base_uri": "https://localhost:8080/",
     "height": 35
    },
    "colab_type": "code",
    "id": "XuQWzyRkZogC",
    "outputId": "42540c64-9e4a-4b95-d507-d42a6162d3ce"
   },
   "outputs": [
    {
     "data": {
      "text/plain": [
       "\"The Fulton County Grand Jury said Friday an investigation of Atlanta's recent primary election produced `` no evidence '' that any irregularities took place .\""
      ]
     },
     "execution_count": 23,
     "metadata": {},
     "output_type": "execute_result"
    }
   ],
   "source": [
    "tag_data.first()['text']"
   ]
  },
  {
   "cell_type": "code",
   "execution_count": 24,
   "metadata": {
    "colab": {
     "base_uri": "https://localhost:8080/",
     "height": 461
    },
    "colab_type": "code",
    "id": "VWlz5DwMZqgh",
    "outputId": "0a9466ef-7d98-40c8-a324-4a19a60b62b7"
   },
   "outputs": [
    {
     "name": "stdout",
     "output_type": "stream",
     "text": [
      "The                  AT    AT   \n",
      "Fulton               NP-TL NP-TL\n",
      "County               NN-TL NN-TL\n",
      "Grand                JJ-TL NN-TL\n",
      "Jury                 NN-TL NN-TL\n",
      "said                 VBD   VBD  \n",
      "Friday               NR    NR   \n",
      "an                   AT    AT   \n",
      "investigation        NN    NN   \n",
      "of                   IN    IN   \n",
      "Atlanta's            NP$   NP$  \n",
      "recent               JJ    JJ   \n",
      "primary              NN    JJ   \n",
      "election             NN    NN   \n",
      "produced             VBD   VBD  \n",
      "``                   ``    ``   \n",
      "no                   AT    AT   \n",
      "evidence             NN    NN   \n",
      "''                   ''    ''   \n",
      "that                 CS    CS   \n",
      "any                  DTI   DTI  \n",
      "irregularities       NNS   NNS  \n",
      "took                 VBD   VBD  \n",
      "place                NN    NN   \n",
      ".                    .     .    \n"
     ]
    }
   ],
   "source": [
    "tag_data_first = tag_data.first()['tags']\n",
    "txformed_first = pipeline.transform(tag_data).first()\n",
    "\n",
    "for i in range(len(tag_data_first)):\n",
    "    word = tag_data_first[i]['metadata']['word']\n",
    "    true_pos = tag_data_first[i]['result']\n",
    "    pred_pos = txformed_first['pos'][i]\n",
    "    print('{:20s} {:5s} {:5s}'.format(word, true_pos, pred_pos))"
   ]
  },
  {
   "cell_type": "markdown",
   "metadata": {
    "colab_type": "text",
    "id": "AjLlUJPxZl4f"
   },
   "source": [
    "The model has learned this data set well. In fact, \"primary\" being a noun or adjective can both be true, depending on how you parse the sentence.\n",
    "\n",
    "There are other techniques for part-of-speech tagging, such as conditional random fields."
   ]
  },
  {
   "cell_type": "markdown",
   "metadata": {
    "colab_type": "text",
    "id": "rD2EJu5FZmB4"
   },
   "source": [
    "## Conditional Random Field\n",
    "\n",
    "If hidden Markov models are sequential naïve Bayes, then conditional random fields (CRFs) can be thought of as sequential logistic regression. CRFs are another popular technique for part-of-speech tagging. CRFs have a few benefits over HMMs. They allow for more complex features because they make fewer assumptions on the relationships between features and labels. In Spark NLP, CRFs are one approach used for part-of-speech tagging, in addition to using RNNs. CRFs are learned using gradient descent like logistic regression, but they are run using algorithms like the Viterbi algorithm.  "
   ]
  },
  {
   "cell_type": "markdown",
   "metadata": {
    "colab_type": "text",
    "id": "1AdeUhYYZmKx"
   },
   "source": [
    "## Chunking and Syntactic Parsing\n",
    "\n",
    "Now that we have the parts of speech for individual tokens, we must consider combining them. Many NLP tasks involve finding entities in the text. Often, these entities are referenced using more than one-word phrases. This means that we have to understand how to combine tagged tokens in phrases, which are generally known as chunks.\n",
    "\n",
    "Similar to sentence-boundary detection, we can do this with a heuristic, but there will be errors that we'll need a model to avoid. The heuristics are relatively simple—if two adjacent tokens have the same or similar tags, combine them into a single phrase. For example, the words \"fan blade\" are both nouns, so they can be combined into a single noun phrase. We can combine certain known structures, like some verb-preposition combinations, such as \"knock off,\" into a single verb or noun. Heuristics won't cover more complex syntactic structures. For example, the verb \"knock off\" inserts its object between \"knock\" and \"off,\" so if you are trying to normalize your vocabulary, the infinitive \"to knock off\" won't be combined with the inflected form \"knocked X off.\" There may also be certain syntactic structures you are interested in, like knowing who did what to whom.\n",
    "\n",
    "To extract these more complex syntactic structures, we need a syntactic parser. These models turn sequences into tree structures. The tokens then become constituents in larger phrases. Language is very complicated, but fortunately, straightforward structures are generally more common than complex ones.\n",
    "\n",
    "Before using a syntactic parser, make sure that you are certain that you need it. They are often generally complex models that are resource-intensive to train and use. It's probably best if you try to solve your problem with heuristics first, and if that is not sufficient, consider a syntactic parser.\n",
    "\n",
    "An additional caveat about syntactic parsers is that labeling is a difficult task. Anyone who is fluent in a language can reliably split text into sentences. Most people can learn parts of speech well enough to label data in a few minutes. Syntactic parsing is a significantly more complex labeling task."
   ]
  },
  {
   "cell_type": "markdown",
   "metadata": {
    "colab_type": "text",
    "id": "WLrA2qplZmTx"
   },
   "source": [
    "## Language Models\n",
    "   Another classic application of sequence modeling is language modeling. A language model is a model of process that generates language. This is called a generative model, as opposed to a discriminative model, which is used for distinguishing the difference between things. Of course, the actual process by which human language is generated is incredibly complex, and is still being explored by neurologists, psychologists, and philosophers. In NLP, language models make simplifying assumptions—for example, that the text generation process can be learned from text alone.\n",
    "\n",
    "There are many uses for language models. We can use them for feature generation with other models. For example, a neural-network–based language model can be used to feed into other layers used for sequence labeling. Language models are also used for text generation and summarization.\n",
    "\n",
    "Some of the techniques covered in this chapter can be used to create a language model. For example, we could use a CRF to predict a sequence of words.  We could also use a Markov model to predict a sequence of words by learning the transition probabilities. This would not be a hidden Markov model, because there are no hidden states here. We would likely need a larger context window than just the previous token. Fortunately, we can relax the assumption that the language generation has the Markov property. Once we start doing this, however, our model quickly becomes much more complex. This is related to the complication of syntax that made syntactic parsers so challenging.\n",
    "\n",
    "Currently, RNNs (recurrent neural networks) are the most popular approach to building language models."
   ]
  },
  {
   "cell_type": "markdown",
   "metadata": {
    "colab_type": "text",
    "id": "57_FBe57Zmd0"
   },
   "source": [
    "## Recurrent Neural Networks\n",
    "  We will build a model that can generate English words. To do this we will use an LSTM. Following are the equations that define it:\n",
    "\n",
    "\\begin{equation} \n",
    "\\begin{aligned} \n",
    "v_0 &= 0 \\\\ \n",
    "c_0 &= 0 \\\\ \n",
    "1 &\\le t \\le T \\\\ \n",
    "f_t &= \\sigma(W_f \\cdot \\vec x_t + U_f \\cdot v^{(t-1)} + b_f) \\\\ \n",
    "i_t &= \\sigma(W_i \\cdot \\vec x_t + U_i \\cdot v^{(t-1)} + b_i) \\\\ \n",
    "o_t &= \\sigma(W_o \\cdot \\vec x_t + U_o \\cdot v^{(t-1)} + b_o) \\\\ \n",
    "\\tilde c_t &= \\text{tanh}(W_c \\cdot \\vec x_t + U_c \\cdot v^{(t-1)} + b_c) \\\\ \n",
    "c_t &= f_t \\circ c_{t-1} + i_t \\circ \\tilde c_t \\\\ \n",
    "v_t &= o_t \\circ \\text{tanh}(c_t) \n",
    "\\end{aligned}\n",
    "\\end{equation}\n",
    "\n",
    "The idea behind the LSTM is that it will maintain state as you progress through the sequence. It will learn when to update its state through the training process. The input, , is combined with the previous state, , using four different sets of weights. The first set, , represents forgetting, controlling how much prior information affects the state of the cell. The second set, , represents input to the cell, controlling how much the current example affects the state of the cell. The third set, , represents output of the cell, controlling how much the new cell state affects the output of the LSTM. And finally, , represents memory of the current state, controlling what is remembered from the current input and stored in the cell.\n",
    "\n",
    "In order to pass in our characters, we will need to vectorize them first."
   ]
  },
  {
   "cell_type": "code",
   "execution_count": 25,
   "metadata": {
    "colab": {
     "base_uri": "https://localhost:8080/",
     "height": 34
    },
    "colab_type": "code",
    "id": "nyfH889BaO2r",
    "outputId": "606bc1cb-d81e-4173-a031-776854cf1725"
   },
   "outputs": [
    {
     "name": "stderr",
     "output_type": "stream",
     "text": [
      "Using TensorFlow backend.\n"
     ]
    }
   ],
   "source": [
    "from keras.models import Model, Sequential\n",
    "from keras.layers import *\n",
    "import keras.utils as ku\n",
    "import keras.preprocessing as kp\n",
    "\n",
    "from scipy.special import expit as sigmoid, softmax"
   ]
  },
  {
   "cell_type": "markdown",
   "metadata": {
    "colab_type": "text",
    "id": "tFZoC8f0Zmlw"
   },
   "source": [
    "Let's take only the words that occur frequently. Also, we will mark the end of each word. This will let our model predict when a word should end."
   ]
  },
  {
   "cell_type": "code",
   "execution_count": 26,
   "metadata": {
    "colab": {},
    "colab_type": "code",
    "id": "WKGuoldLaRuR"
   },
   "outputs": [],
   "source": [
    "vocab = word_counts[word_counts > 100]\n",
    "vocab = list(w + '#' for w in vocab.index)"
   ]
  },
  {
   "cell_type": "markdown",
   "metadata": {
    "colab_type": "text",
    "id": "NweC2Pj6ZmYu"
   },
   "source": [
    "We will build two lookups, c2i for mapping characters to indices, and i2c for mapping indices back to characters. We will also use ? as a symbol for unknown characters."
   ]
  },
  {
   "cell_type": "code",
   "execution_count": 27,
   "metadata": {
    "colab": {},
    "colab_type": "code",
    "id": "mwUahIBraUXx"
   },
   "outputs": [],
   "source": [
    "UNK = '?'\n",
    "c2i = {UNK: 0}\n",
    "\n",
    "for word in vocab:\n",
    "    for c in word:\n",
    "        c2i.setdefault(c, len(c2i))\n",
    "        \n",
    "i2c = {ix: c for c, ix in c2i.items()}\n",
    "alphabet_size = len(i2c) + 1"
   ]
  },
  {
   "cell_type": "markdown",
   "metadata": {
    "colab_type": "text",
    "id": "Z_kAnQdwZmPj"
   },
   "source": [
    "Now let's define some utility functions for converting data."
   ]
  },
  {
   "cell_type": "code",
   "execution_count": 28,
   "metadata": {
    "colab": {},
    "colab_type": "code",
    "id": "4a3JMIKCaXBy"
   },
   "outputs": [],
   "source": [
    "def texts_to_sequences(texts):\n",
    "    return [[c2i.get(c, c2i[UNK]) for c in t] for t in texts]\n",
    "\n",
    "def sequences_to_texts(seqs):\n",
    "    return [''.join([i2c.get(ix, UNK) for ix in s]) for s in seqs]"
   ]
  },
  {
   "cell_type": "markdown",
   "metadata": {
    "colab_type": "text",
    "id": "OeLDcJFoZmGM"
   },
   "source": [
    "Here, we specify the maximum context as 10. We could potentially not do so, but that could lead to some technical difficulties. The implementation of sequence modeling expects to know the maximum length of the sequences. Without fixing the size of the window, the length of the longest word will determine this length. Because long words are much more rare than short ones, most of our sequences will need to be padded. This padding does not help us learn the likely sequences. So there is a trade-off: the larger the window the more context your model has to predict the next item in the sequence. On the other hand, it also increases computational complexity. It's best to realistically consider how large the context is in your data. In English, the median length of vocabulary words is 6 letters. If you take into account word frequency, the median is 4. Indeed, 10 is the 95th percentile of word length considering word frequency. This means that very rarely will information from more than 10 characters away help in predicting the next character."
   ]
  },
  {
   "cell_type": "code",
   "execution_count": 29,
   "metadata": {
    "colab": {},
    "colab_type": "code",
    "id": "5XgjphV_aZZ5"
   },
   "outputs": [],
   "source": [
    "seqs = texts_to_sequences(vocab)\n",
    "\n",
    "w = 10\n",
    "X = []\n",
    "Y = []\n",
    "for seq in seqs:\n",
    "    for k in range(1, min(w, len(seq))):\n",
    "        X.append(seq[:k])\n",
    "        Y.append(seq[k])\n",
    "    for k in range(0, len(seq) - w):\n",
    "        X.append(seq[k:k+w])\n",
    "        Y.append(seq[k+w])\n",
    "X = kp.sequence.pad_sequences(X, maxlen=w, padding='pre')\n",
    "Y = ku.to_categorical(Y, num_classes=alphabet_size)"
   ]
  },
  {
   "cell_type": "markdown",
   "metadata": {
    "colab_type": "text",
    "id": "yR_InoZ9Zl9H"
   },
   "source": [
    "Now we build our model. You may notice the `Embedding` layer here. This will reduce the dimensionality of our input. Instead of having the width of the input to LSTM be the size of our alphabet, it will be 5."
   ]
  },
  {
   "cell_type": "code",
   "execution_count": 30,
   "metadata": {
    "colab": {},
    "colab_type": "code",
    "id": "qscCcUDzaiAP"
   },
   "outputs": [],
   "source": [
    "units = 20\n",
    "\n",
    "model = Sequential()\n",
    "model.add(Embedding(alphabet_size, 5, input_length=w))\n",
    "model.add(LSTM(units, unroll=True))\n",
    "model.add(Dense(alphabet_size, activation='softmax'))"
   ]
  },
  {
   "cell_type": "code",
   "execution_count": 31,
   "metadata": {
    "colab": {
     "base_uri": "https://localhost:8080/",
     "height": 283
    },
    "colab_type": "code",
    "id": "L0fN3xdFajSa",
    "outputId": "60e4f801-2d79-48ef-ebae-bc1fffe6a64b"
   },
   "outputs": [
    {
     "name": "stdout",
     "output_type": "stream",
     "text": [
      "Model: \"sequential_1\"\n",
      "_________________________________________________________________\n",
      "Layer (type)                 Output Shape              Param #   \n",
      "=================================================================\n",
      "embedding_1 (Embedding)      (None, 10, 5)             250       \n",
      "_________________________________________________________________\n",
      "lstm_1 (LSTM)                (None, 20)                2080      \n",
      "_________________________________________________________________\n",
      "dense_1 (Dense)              (None, 50)                1050      \n",
      "=================================================================\n",
      "Total params: 3,380\n",
      "Trainable params: 3,380\n",
      "Non-trainable params: 0\n",
      "_________________________________________________________________\n",
      "None\n"
     ]
    }
   ],
   "source": [
    "print(model.summary())"
   ]
  },
  {
   "cell_type": "markdown",
   "metadata": {
    "colab_type": "text",
    "id": "qWzimD2jZlxr"
   },
   "source": [
    "There are 3,380 parameters to be learned. Unsurprisingly, most of them are in the LSTM—the most complex part of our network. Now, let's train our network."
   ]
  },
  {
   "cell_type": "code",
   "execution_count": 32,
   "metadata": {
    "colab": {
     "base_uri": "https://localhost:8080/",
     "height": 1000
    },
    "colab_type": "code",
    "id": "IztEs3GPalpy",
    "outputId": "e4796f5f-62ca-4fcf-a42f-219705f95020"
   },
   "outputs": [
    {
     "name": "stderr",
     "output_type": "stream",
     "text": [
      "/home/alex/anaconda3/envs/spark-nlp-in-action/lib/python3.6/site-packages/tensorflow/python/framework/indexed_slices.py:434: UserWarning: Converting sparse IndexedSlices to a dense Tensor of unknown shape. This may consume a large amount of memory.\n",
      "  \"Converting sparse IndexedSlices to a dense Tensor of unknown shape. \"\n"
     ]
    },
    {
     "name": "stdout",
     "output_type": "stream",
     "text": [
      "Epoch 1/300\n",
      "5688/5688 [==============================] - 1s 181us/step - loss: 3.1604 - accuracy: 0.1746\n",
      "Epoch 2/300\n",
      "5688/5688 [==============================] - 0s 70us/step - loss: 2.7934 - accuracy: 0.1834\n",
      "Epoch 3/300\n",
      "5688/5688 [==============================] - 0s 69us/step - loss: 2.7800 - accuracy: 0.1834\n",
      "Epoch 4/300\n",
      "5688/5688 [==============================] - 0s 72us/step - loss: 2.7536 - accuracy: 0.1834\n",
      "Epoch 5/300\n",
      "5688/5688 [==============================] - 0s 68us/step - loss: 2.6890 - accuracy: 0.2075\n",
      "Epoch 6/300\n",
      "5688/5688 [==============================] - 0s 67us/step - loss: 2.6325 - accuracy: 0.2247\n",
      "Epoch 7/300\n",
      "5688/5688 [==============================] - 0s 69us/step - loss: 2.5952 - accuracy: 0.2310\n",
      "Epoch 8/300\n",
      "5688/5688 [==============================] - 0s 65us/step - loss: 2.5661 - accuracy: 0.2412\n",
      "Epoch 9/300\n",
      "5688/5688 [==============================] - 1s 90us/step - loss: 2.5414 - accuracy: 0.2514\n",
      "Epoch 10/300\n",
      "5688/5688 [==============================] - 0s 72us/step - loss: 2.5145 - accuracy: 0.2591\n",
      "Epoch 11/300\n",
      "5688/5688 [==============================] - 0s 67us/step - loss: 2.4711 - accuracy: 0.2730\n",
      "Epoch 12/300\n",
      "5688/5688 [==============================] - 0s 65us/step - loss: 2.4286 - accuracy: 0.2838\n",
      "Epoch 13/300\n",
      "5688/5688 [==============================] - 0s 65us/step - loss: 2.3972 - accuracy: 0.2845\n",
      "Epoch 14/300\n",
      "5688/5688 [==============================] - 0s 68us/step - loss: 2.3740 - accuracy: 0.2867\n",
      "Epoch 15/300\n",
      "5688/5688 [==============================] - 0s 67us/step - loss: 2.3555 - accuracy: 0.2915\n",
      "Epoch 16/300\n",
      "5688/5688 [==============================] - 0s 66us/step - loss: 2.3420 - accuracy: 0.2897\n",
      "Epoch 17/300\n",
      "5688/5688 [==============================] - 0s 65us/step - loss: 2.3313 - accuracy: 0.2899\n",
      "Epoch 18/300\n",
      "5688/5688 [==============================] - 0s 64us/step - loss: 2.3208 - accuracy: 0.2941\n",
      "Epoch 19/300\n",
      "5688/5688 [==============================] - 0s 69us/step - loss: 2.3127 - accuracy: 0.2952\n",
      "Epoch 20/300\n",
      "5688/5688 [==============================] - 0s 66us/step - loss: 2.3053 - accuracy: 0.2947\n",
      "Epoch 21/300\n",
      "5688/5688 [==============================] - 0s 74us/step - loss: 2.2988 - accuracy: 0.2962\n",
      "Epoch 22/300\n",
      "5688/5688 [==============================] - 0s 70us/step - loss: 2.2922 - accuracy: 0.2911\n",
      "Epoch 23/300\n",
      "5688/5688 [==============================] - 0s 68us/step - loss: 2.2863 - accuracy: 0.2954\n",
      "Epoch 24/300\n",
      "5688/5688 [==============================] - 0s 69us/step - loss: 2.2803 - accuracy: 0.2964\n",
      "Epoch 25/300\n",
      "5688/5688 [==============================] - 0s 67us/step - loss: 2.2745 - accuracy: 0.2987\n",
      "Epoch 26/300\n",
      "5688/5688 [==============================] - 0s 64us/step - loss: 2.2688 - accuracy: 0.2971\n",
      "Epoch 27/300\n",
      "5688/5688 [==============================] - 0s 68us/step - loss: 2.2642 - accuracy: 0.2989\n",
      "Epoch 28/300\n",
      "5688/5688 [==============================] - 0s 66us/step - loss: 2.2570 - accuracy: 0.2987\n",
      "Epoch 29/300\n",
      "5688/5688 [==============================] - 0s 69us/step - loss: 2.2513 - accuracy: 0.3001\n",
      "Epoch 30/300\n",
      "5688/5688 [==============================] - 0s 65us/step - loss: 2.2471 - accuracy: 0.3054\n",
      "Epoch 31/300\n",
      "5688/5688 [==============================] - 0s 72us/step - loss: 2.2413 - accuracy: 0.3075\n",
      "Epoch 32/300\n",
      "5688/5688 [==============================] - 0s 64us/step - loss: 2.2350 - accuracy: 0.3085\n",
      "Epoch 33/300\n",
      "5688/5688 [==============================] - 0s 65us/step - loss: 2.2294 - accuracy: 0.3112\n",
      "Epoch 34/300\n",
      "5688/5688 [==============================] - 0s 67us/step - loss: 2.2251 - accuracy: 0.3135\n",
      "Epoch 35/300\n",
      "5688/5688 [==============================] - 0s 66us/step - loss: 2.2194 - accuracy: 0.3135\n",
      "Epoch 36/300\n",
      "5688/5688 [==============================] - 0s 66us/step - loss: 2.2150 - accuracy: 0.3115\n",
      "Epoch 37/300\n",
      "5688/5688 [==============================] - 0s 65us/step - loss: 2.2099 - accuracy: 0.3143\n",
      "Epoch 38/300\n",
      "5688/5688 [==============================] - 0s 64us/step - loss: 2.2046 - accuracy: 0.3154\n",
      "Epoch 39/300\n",
      "5688/5688 [==============================] - 0s 63us/step - loss: 2.1992 - accuracy: 0.3207\n",
      "Epoch 40/300\n",
      "5688/5688 [==============================] - 0s 62us/step - loss: 2.1956 - accuracy: 0.3203\n",
      "Epoch 41/300\n",
      "5688/5688 [==============================] - 0s 63us/step - loss: 2.1906 - accuracy: 0.3212\n",
      "Epoch 42/300\n",
      "5688/5688 [==============================] - 0s 65us/step - loss: 2.1865 - accuracy: 0.3201\n",
      "Epoch 43/300\n",
      "5688/5688 [==============================] - 0s 62us/step - loss: 2.1820 - accuracy: 0.3245\n",
      "Epoch 44/300\n",
      "5688/5688 [==============================] - 0s 64us/step - loss: 2.1782 - accuracy: 0.3242\n",
      "Epoch 45/300\n",
      "5688/5688 [==============================] - 0s 67us/step - loss: 2.1741 - accuracy: 0.3272\n",
      "Epoch 46/300\n",
      "5688/5688 [==============================] - 1s 108us/step - loss: 2.1693 - accuracy: 0.3284\n",
      "Epoch 47/300\n",
      "5688/5688 [==============================] - 0s 66us/step - loss: 2.1655 - accuracy: 0.3256\n",
      "Epoch 48/300\n",
      "5688/5688 [==============================] - 0s 63us/step - loss: 2.1624 - accuracy: 0.3291\n",
      "Epoch 49/300\n",
      "5688/5688 [==============================] - 1s 106us/step - loss: 2.1574 - accuracy: 0.3281\n",
      "Epoch 50/300\n",
      "5688/5688 [==============================] - 0s 83us/step - loss: 2.1538 - accuracy: 0.3293\n",
      "Epoch 51/300\n",
      "5688/5688 [==============================] - 0s 63us/step - loss: 2.1488 - accuracy: 0.3295\n",
      "Epoch 52/300\n",
      "5688/5688 [==============================] - 0s 63us/step - loss: 2.1472 - accuracy: 0.3332\n",
      "Epoch 53/300\n",
      "5688/5688 [==============================] - 0s 63us/step - loss: 2.1423 - accuracy: 0.3326\n",
      "Epoch 54/300\n",
      "5688/5688 [==============================] - 0s 64us/step - loss: 2.1386 - accuracy: 0.3358\n",
      "Epoch 55/300\n",
      "5688/5688 [==============================] - 0s 84us/step - loss: 2.1343 - accuracy: 0.3333\n",
      "Epoch 56/300\n",
      "5688/5688 [==============================] - 1s 113us/step - loss: 2.1314 - accuracy: 0.3326\n",
      "Epoch 57/300\n",
      "5688/5688 [==============================] - 0s 66us/step - loss: 2.1273 - accuracy: 0.3354\n",
      "Epoch 58/300\n",
      "5688/5688 [==============================] - 0s 65us/step - loss: 2.1226 - accuracy: 0.3395\n",
      "Epoch 59/300\n",
      "5688/5688 [==============================] - 0s 66us/step - loss: 2.1195 - accuracy: 0.3374\n",
      "Epoch 60/300\n",
      "5688/5688 [==============================] - 1s 98us/step - loss: 2.1168 - accuracy: 0.3400\n",
      "Epoch 61/300\n",
      "5688/5688 [==============================] - 0s 71us/step - loss: 2.1123 - accuracy: 0.3430\n",
      "Epoch 62/300\n",
      "5688/5688 [==============================] - 0s 68us/step - loss: 2.1078 - accuracy: 0.3418\n",
      "Epoch 63/300\n",
      "5688/5688 [==============================] - 0s 63us/step - loss: 2.1046 - accuracy: 0.3439\n",
      "Epoch 64/300\n",
      "5688/5688 [==============================] - 0s 63us/step - loss: 2.1013 - accuracy: 0.3434\n",
      "Epoch 65/300\n",
      "5688/5688 [==============================] - 0s 62us/step - loss: 2.0972 - accuracy: 0.3448\n",
      "Epoch 66/300\n",
      "5688/5688 [==============================] - 0s 68us/step - loss: 2.0944 - accuracy: 0.3446\n",
      "Epoch 67/300\n",
      "5688/5688 [==============================] - 0s 67us/step - loss: 2.0910 - accuracy: 0.3509\n",
      "Epoch 68/300\n",
      "5688/5688 [==============================] - 0s 70us/step - loss: 2.0880 - accuracy: 0.3507\n",
      "Epoch 69/300\n",
      "5688/5688 [==============================] - 0s 69us/step - loss: 2.0836 - accuracy: 0.3477\n",
      "Epoch 70/300\n",
      "5688/5688 [==============================] - 0s 67us/step - loss: 2.0803 - accuracy: 0.3541\n",
      "Epoch 71/300\n",
      "5688/5688 [==============================] - 0s 68us/step - loss: 2.0792 - accuracy: 0.3537\n",
      "Epoch 72/300\n",
      "5688/5688 [==============================] - 0s 67us/step - loss: 2.0741 - accuracy: 0.3551\n",
      "Epoch 73/300\n",
      "5688/5688 [==============================] - 0s 71us/step - loss: 2.0702 - accuracy: 0.3553\n",
      "Epoch 74/300\n",
      "5688/5688 [==============================] - 0s 70us/step - loss: 2.0670 - accuracy: 0.3599\n",
      "Epoch 75/300\n",
      "5688/5688 [==============================] - 0s 68us/step - loss: 2.0644 - accuracy: 0.3558\n",
      "Epoch 76/300\n",
      "5688/5688 [==============================] - 0s 73us/step - loss: 2.0608 - accuracy: 0.3594\n",
      "Epoch 77/300\n",
      "5688/5688 [==============================] - 0s 70us/step - loss: 2.0586 - accuracy: 0.3618\n",
      "Epoch 78/300\n",
      "5688/5688 [==============================] - 0s 68us/step - loss: 2.0546 - accuracy: 0.3625\n",
      "Epoch 79/300\n"
     ]
    },
    {
     "name": "stdout",
     "output_type": "stream",
     "text": [
      "5688/5688 [==============================] - 0s 69us/step - loss: 2.0522 - accuracy: 0.3613\n",
      "Epoch 80/300\n",
      "5688/5688 [==============================] - 0s 69us/step - loss: 2.0486 - accuracy: 0.3630\n",
      "Epoch 81/300\n",
      "5688/5688 [==============================] - 0s 68us/step - loss: 2.0460 - accuracy: 0.3622\n",
      "Epoch 82/300\n",
      "5688/5688 [==============================] - 0s 69us/step - loss: 2.0429 - accuracy: 0.3636\n",
      "Epoch 83/300\n",
      "5688/5688 [==============================] - 1s 99us/step - loss: 2.0418 - accuracy: 0.3645\n",
      "Epoch 84/300\n",
      "5688/5688 [==============================] - 1s 105us/step - loss: 2.0378 - accuracy: 0.3659\n",
      "Epoch 85/300\n",
      "5688/5688 [==============================] - 1s 89us/step - loss: 2.0348 - accuracy: 0.3645\n",
      "Epoch 86/300\n",
      "5688/5688 [==============================] - 0s 74us/step - loss: 2.0320 - accuracy: 0.3673\n",
      "Epoch 87/300\n",
      "5688/5688 [==============================] - 0s 72us/step - loss: 2.0307 - accuracy: 0.3704\n",
      "Epoch 88/300\n",
      "5688/5688 [==============================] - 0s 69us/step - loss: 2.0266 - accuracy: 0.3694\n",
      "Epoch 89/300\n",
      "5688/5688 [==============================] - 0s 67us/step - loss: 2.0241 - accuracy: 0.3694\n",
      "Epoch 90/300\n",
      "5688/5688 [==============================] - 0s 68us/step - loss: 2.0211 - accuracy: 0.3725\n",
      "Epoch 91/300\n",
      "5688/5688 [==============================] - 0s 72us/step - loss: 2.0178 - accuracy: 0.3715\n",
      "Epoch 92/300\n",
      "5688/5688 [==============================] - 0s 64us/step - loss: 2.0157 - accuracy: 0.3732\n",
      "Epoch 93/300\n",
      "5688/5688 [==============================] - 1s 93us/step - loss: 2.0148 - accuracy: 0.3759\n",
      "Epoch 94/300\n",
      "5688/5688 [==============================] - 0s 79us/step - loss: 2.0122 - accuracy: 0.3748\n",
      "Epoch 95/300\n",
      "5688/5688 [==============================] - 0s 83us/step - loss: 2.0089 - accuracy: 0.3754\n",
      "Epoch 96/300\n",
      "5688/5688 [==============================] - 0s 68us/step - loss: 2.0066 - accuracy: 0.3789\n",
      "Epoch 97/300\n",
      "5688/5688 [==============================] - 0s 80us/step - loss: 2.0053 - accuracy: 0.3743\n",
      "Epoch 98/300\n",
      "5688/5688 [==============================] - 0s 75us/step - loss: 2.0026 - accuracy: 0.3792\n",
      "Epoch 99/300\n",
      "5688/5688 [==============================] - 0s 76us/step - loss: 2.0005 - accuracy: 0.3775\n",
      "Epoch 100/300\n",
      "5688/5688 [==============================] - 0s 70us/step - loss: 1.9969 - accuracy: 0.3820\n",
      "Epoch 101/300\n",
      "5688/5688 [==============================] - 0s 73us/step - loss: 1.9957 - accuracy: 0.3812\n",
      "Epoch 102/300\n",
      "5688/5688 [==============================] - 0s 69us/step - loss: 1.9940 - accuracy: 0.3803\n",
      "Epoch 103/300\n",
      "5688/5688 [==============================] - 0s 72us/step - loss: 1.9914 - accuracy: 0.3803\n",
      "Epoch 104/300\n",
      "5688/5688 [==============================] - 0s 81us/step - loss: 1.9885 - accuracy: 0.3817\n",
      "Epoch 105/300\n",
      "5688/5688 [==============================] - 1s 96us/step - loss: 1.9865 - accuracy: 0.3822\n",
      "Epoch 106/300\n",
      "5688/5688 [==============================] - 1s 93us/step - loss: 1.9866 - accuracy: 0.3836\n",
      "Epoch 107/300\n",
      "5688/5688 [==============================] - 0s 87us/step - loss: 1.9841 - accuracy: 0.3796\n",
      "Epoch 108/300\n",
      "5688/5688 [==============================] - 0s 77us/step - loss: 1.9802 - accuracy: 0.3847\n",
      "Epoch 109/300\n",
      "5688/5688 [==============================] - 0s 71us/step - loss: 1.9787 - accuracy: 0.3850\n",
      "Epoch 110/300\n",
      "5688/5688 [==============================] - 1s 89us/step - loss: 1.9773 - accuracy: 0.3861\n",
      "Epoch 111/300\n",
      "5688/5688 [==============================] - 0s 69us/step - loss: 1.9750 - accuracy: 0.3864\n",
      "Epoch 112/300\n",
      "5688/5688 [==============================] - 0s 65us/step - loss: 1.9736 - accuracy: 0.3864\n",
      "Epoch 113/300\n",
      "5688/5688 [==============================] - 0s 65us/step - loss: 1.9711 - accuracy: 0.3880\n",
      "Epoch 114/300\n",
      "5688/5688 [==============================] - 0s 69us/step - loss: 1.9692 - accuracy: 0.3871\n",
      "Epoch 115/300\n",
      "5688/5688 [==============================] - 0s 68us/step - loss: 1.9672 - accuracy: 0.3866\n",
      "Epoch 116/300\n",
      "5688/5688 [==============================] - 0s 68us/step - loss: 1.9654 - accuracy: 0.3875\n",
      "Epoch 117/300\n",
      "5688/5688 [==============================] - 0s 70us/step - loss: 1.9632 - accuracy: 0.3843\n",
      "Epoch 118/300\n",
      "5688/5688 [==============================] - 0s 71us/step - loss: 1.9618 - accuracy: 0.3894\n",
      "Epoch 119/300\n",
      "5688/5688 [==============================] - 0s 66us/step - loss: 1.9584 - accuracy: 0.3905\n",
      "Epoch 120/300\n",
      "5688/5688 [==============================] - 0s 66us/step - loss: 1.9579 - accuracy: 0.3922\n",
      "Epoch 121/300\n",
      "5688/5688 [==============================] - 0s 67us/step - loss: 1.9557 - accuracy: 0.3905\n",
      "Epoch 122/300\n",
      "5688/5688 [==============================] - 0s 71us/step - loss: 1.9542 - accuracy: 0.3906\n",
      "Epoch 123/300\n",
      "5688/5688 [==============================] - 0s 71us/step - loss: 1.9523 - accuracy: 0.3892\n",
      "Epoch 124/300\n",
      "5688/5688 [==============================] - 0s 67us/step - loss: 1.9497 - accuracy: 0.3898\n",
      "Epoch 125/300\n",
      "5688/5688 [==============================] - 0s 67us/step - loss: 1.9480 - accuracy: 0.3889\n",
      "Epoch 126/300\n",
      "5688/5688 [==============================] - 0s 68us/step - loss: 1.9467 - accuracy: 0.3908\n",
      "Epoch 127/300\n",
      "5688/5688 [==============================] - 0s 63us/step - loss: 1.9438 - accuracy: 0.3919\n",
      "Epoch 128/300\n",
      "5688/5688 [==============================] - 0s 68us/step - loss: 1.9426 - accuracy: 0.3910\n",
      "Epoch 129/300\n",
      "5688/5688 [==============================] - 0s 69us/step - loss: 1.9410 - accuracy: 0.3928\n",
      "Epoch 130/300\n",
      "5688/5688 [==============================] - 0s 71us/step - loss: 1.9397 - accuracy: 0.3915\n",
      "Epoch 131/300\n",
      "5688/5688 [==============================] - 0s 64us/step - loss: 1.9371 - accuracy: 0.3903\n",
      "Epoch 132/300\n",
      "5688/5688 [==============================] - 0s 70us/step - loss: 1.9358 - accuracy: 0.3957\n",
      "Epoch 133/300\n",
      "5688/5688 [==============================] - 0s 65us/step - loss: 1.9338 - accuracy: 0.3949\n",
      "Epoch 134/300\n",
      "5688/5688 [==============================] - 0s 67us/step - loss: 1.9324 - accuracy: 0.3910\n",
      "Epoch 135/300\n",
      "5688/5688 [==============================] - 0s 73us/step - loss: 1.9307 - accuracy: 0.3935\n",
      "Epoch 136/300\n",
      "5688/5688 [==============================] - 0s 70us/step - loss: 1.9285 - accuracy: 0.3959\n",
      "Epoch 137/300\n",
      "5688/5688 [==============================] - 0s 71us/step - loss: 1.9268 - accuracy: 0.3926\n",
      "Epoch 138/300\n",
      "5688/5688 [==============================] - 0s 66us/step - loss: 1.9258 - accuracy: 0.3961\n",
      "Epoch 139/300\n",
      "5688/5688 [==============================] - 0s 66us/step - loss: 1.9246 - accuracy: 0.3963\n",
      "Epoch 140/300\n",
      "5688/5688 [==============================] - 0s 69us/step - loss: 1.9227 - accuracy: 0.3968\n",
      "Epoch 141/300\n",
      "5688/5688 [==============================] - 0s 65us/step - loss: 1.9217 - accuracy: 0.3945\n",
      "Epoch 142/300\n",
      "5688/5688 [==============================] - 0s 65us/step - loss: 1.9191 - accuracy: 0.3949\n",
      "Epoch 143/300\n",
      "5688/5688 [==============================] - 0s 75us/step - loss: 1.9171 - accuracy: 0.3977\n",
      "Epoch 144/300\n",
      "5688/5688 [==============================] - 0s 72us/step - loss: 1.9162 - accuracy: 0.3977\n",
      "Epoch 145/300\n",
      "5688/5688 [==============================] - 0s 71us/step - loss: 1.9142 - accuracy: 0.3977\n",
      "Epoch 146/300\n",
      "5688/5688 [==============================] - 0s 88us/step - loss: 1.9137 - accuracy: 0.3954\n",
      "Epoch 147/300\n",
      "5688/5688 [==============================] - 0s 87us/step - loss: 1.9128 - accuracy: 0.3986\n",
      "Epoch 148/300\n",
      "5688/5688 [==============================] - 0s 78us/step - loss: 1.9099 - accuracy: 0.3972\n",
      "Epoch 149/300\n",
      "5688/5688 [==============================] - 0s 73us/step - loss: 1.9086 - accuracy: 0.3991\n",
      "Epoch 150/300\n",
      "5688/5688 [==============================] - 0s 70us/step - loss: 1.9068 - accuracy: 0.3996\n",
      "Epoch 151/300\n",
      "5688/5688 [==============================] - 0s 81us/step - loss: 1.9057 - accuracy: 0.3980\n",
      "Epoch 152/300\n",
      "5688/5688 [==============================] - 0s 72us/step - loss: 1.9038 - accuracy: 0.3987\n",
      "Epoch 153/300\n",
      "5688/5688 [==============================] - 0s 74us/step - loss: 1.9029 - accuracy: 0.3977\n",
      "Epoch 154/300\n",
      "5688/5688 [==============================] - 0s 75us/step - loss: 1.9006 - accuracy: 0.3996\n",
      "Epoch 155/300\n",
      "5688/5688 [==============================] - 0s 69us/step - loss: 1.8992 - accuracy: 0.4037\n",
      "Epoch 156/300\n"
     ]
    },
    {
     "name": "stdout",
     "output_type": "stream",
     "text": [
      "5688/5688 [==============================] - 0s 87us/step - loss: 1.8989 - accuracy: 0.3991\n",
      "Epoch 157/300\n",
      "5688/5688 [==============================] - 0s 86us/step - loss: 1.8972 - accuracy: 0.3991\n",
      "Epoch 158/300\n",
      "5688/5688 [==============================] - 0s 77us/step - loss: 1.8946 - accuracy: 0.4008\n",
      "Epoch 159/300\n",
      "5688/5688 [==============================] - 0s 71us/step - loss: 1.8938 - accuracy: 0.4015\n",
      "Epoch 160/300\n",
      "5688/5688 [==============================] - 0s 76us/step - loss: 1.8933 - accuracy: 0.4015\n",
      "Epoch 161/300\n",
      "5688/5688 [==============================] - 0s 71us/step - loss: 1.8916 - accuracy: 0.4035\n",
      "Epoch 162/300\n",
      "5688/5688 [==============================] - 0s 74us/step - loss: 1.8907 - accuracy: 0.4044\n",
      "Epoch 163/300\n",
      "5688/5688 [==============================] - 0s 73us/step - loss: 1.8886 - accuracy: 0.4031\n",
      "Epoch 164/300\n",
      "5688/5688 [==============================] - 0s 72us/step - loss: 1.8872 - accuracy: 0.4051\n",
      "Epoch 165/300\n",
      "5688/5688 [==============================] - 0s 69us/step - loss: 1.8860 - accuracy: 0.4031\n",
      "Epoch 166/300\n",
      "5688/5688 [==============================] - 0s 77us/step - loss: 1.8852 - accuracy: 0.4049\n",
      "Epoch 167/300\n",
      "5688/5688 [==============================] - 0s 76us/step - loss: 1.8834 - accuracy: 0.4037\n",
      "Epoch 168/300\n",
      "5688/5688 [==============================] - 0s 70us/step - loss: 1.8823 - accuracy: 0.4058\n",
      "Epoch 169/300\n",
      "5688/5688 [==============================] - 0s 72us/step - loss: 1.8797 - accuracy: 0.4042\n",
      "Epoch 170/300\n",
      "5688/5688 [==============================] - 0s 72us/step - loss: 1.8786 - accuracy: 0.4066\n",
      "Epoch 171/300\n",
      "5688/5688 [==============================] - 0s 71us/step - loss: 1.8775 - accuracy: 0.4063\n",
      "Epoch 172/300\n",
      "5688/5688 [==============================] - 0s 74us/step - loss: 1.8770 - accuracy: 0.4037\n",
      "Epoch 173/300\n",
      "5688/5688 [==============================] - 0s 76us/step - loss: 1.8764 - accuracy: 0.4058\n",
      "Epoch 174/300\n",
      "5688/5688 [==============================] - 0s 72us/step - loss: 1.8729 - accuracy: 0.4070\n",
      "Epoch 175/300\n",
      "5688/5688 [==============================] - 0s 71us/step - loss: 1.8740 - accuracy: 0.4098\n",
      "Epoch 176/300\n",
      "5688/5688 [==============================] - 0s 71us/step - loss: 1.8713 - accuracy: 0.4079\n",
      "Epoch 177/300\n",
      "5688/5688 [==============================] - 0s 69us/step - loss: 1.8690 - accuracy: 0.4081\n",
      "Epoch 178/300\n",
      "5688/5688 [==============================] - 0s 73us/step - loss: 1.8701 - accuracy: 0.4075\n",
      "Epoch 179/300\n",
      "5688/5688 [==============================] - 0s 70us/step - loss: 1.8677 - accuracy: 0.4088\n",
      "Epoch 180/300\n",
      "5688/5688 [==============================] - 0s 76us/step - loss: 1.8666 - accuracy: 0.4100\n",
      "Epoch 181/300\n",
      "5688/5688 [==============================] - 0s 68us/step - loss: 1.8647 - accuracy: 0.4093\n",
      "Epoch 182/300\n",
      "5688/5688 [==============================] - 0s 69us/step - loss: 1.8634 - accuracy: 0.4109\n",
      "Epoch 183/300\n",
      "5688/5688 [==============================] - 0s 78us/step - loss: 1.8634 - accuracy: 0.4105\n",
      "Epoch 184/300\n",
      "5688/5688 [==============================] - 0s 72us/step - loss: 1.8606 - accuracy: 0.4102\n",
      "Epoch 185/300\n",
      "5688/5688 [==============================] - 0s 71us/step - loss: 1.8596 - accuracy: 0.4132\n",
      "Epoch 186/300\n",
      "5688/5688 [==============================] - 0s 69us/step - loss: 1.8586 - accuracy: 0.4114\n",
      "Epoch 187/300\n",
      "5688/5688 [==============================] - 0s 73us/step - loss: 1.8574 - accuracy: 0.4117\n",
      "Epoch 188/300\n",
      "5688/5688 [==============================] - 0s 73us/step - loss: 1.8559 - accuracy: 0.4086\n",
      "Epoch 189/300\n",
      "5688/5688 [==============================] - 0s 73us/step - loss: 1.8551 - accuracy: 0.4132\n",
      "Epoch 190/300\n",
      "5688/5688 [==============================] - 0s 74us/step - loss: 1.8532 - accuracy: 0.4132\n",
      "Epoch 191/300\n",
      "5688/5688 [==============================] - 0s 77us/step - loss: 1.8519 - accuracy: 0.4144\n",
      "Epoch 192/300\n",
      "5688/5688 [==============================] - 0s 71us/step - loss: 1.8507 - accuracy: 0.4147\n",
      "Epoch 193/300\n",
      "5688/5688 [==============================] - 0s 70us/step - loss: 1.8490 - accuracy: 0.4154\n",
      "Epoch 194/300\n",
      "5688/5688 [==============================] - 0s 71us/step - loss: 1.8498 - accuracy: 0.4130\n",
      "Epoch 195/300\n",
      "5688/5688 [==============================] - 0s 76us/step - loss: 1.8472 - accuracy: 0.4149\n",
      "Epoch 196/300\n",
      "5688/5688 [==============================] - 0s 71us/step - loss: 1.8458 - accuracy: 0.4137\n",
      "Epoch 197/300\n",
      "5688/5688 [==============================] - 0s 72us/step - loss: 1.8449 - accuracy: 0.4165\n",
      "Epoch 198/300\n",
      "5688/5688 [==============================] - 0s 72us/step - loss: 1.8438 - accuracy: 0.4167\n",
      "Epoch 199/300\n",
      "5688/5688 [==============================] - 0s 70us/step - loss: 1.8424 - accuracy: 0.4181\n",
      "Epoch 200/300\n",
      "5688/5688 [==============================] - 0s 71us/step - loss: 1.8413 - accuracy: 0.4160\n",
      "Epoch 201/300\n",
      "5688/5688 [==============================] - 0s 69us/step - loss: 1.8395 - accuracy: 0.4175\n",
      "Epoch 202/300\n",
      "5688/5688 [==============================] - 0s 74us/step - loss: 1.8386 - accuracy: 0.4198\n",
      "Epoch 203/300\n",
      "5688/5688 [==============================] - 0s 74us/step - loss: 1.8368 - accuracy: 0.4195\n",
      "Epoch 204/300\n",
      "5688/5688 [==============================] - 0s 74us/step - loss: 1.8365 - accuracy: 0.4184\n",
      "Epoch 205/300\n",
      "5688/5688 [==============================] - 0s 71us/step - loss: 1.8350 - accuracy: 0.4191\n",
      "Epoch 206/300\n",
      "5688/5688 [==============================] - 0s 74us/step - loss: 1.8331 - accuracy: 0.4174\n",
      "Epoch 207/300\n",
      "5688/5688 [==============================] - 0s 71us/step - loss: 1.8327 - accuracy: 0.4214\n",
      "Epoch 208/300\n",
      "5688/5688 [==============================] - 0s 68us/step - loss: 1.8320 - accuracy: 0.4212\n",
      "Epoch 209/300\n",
      "5688/5688 [==============================] - 0s 72us/step - loss: 1.8307 - accuracy: 0.4219\n",
      "Epoch 210/300\n",
      "5688/5688 [==============================] - 0s 74us/step - loss: 1.8293 - accuracy: 0.4204\n",
      "Epoch 211/300\n",
      "5688/5688 [==============================] - 0s 70us/step - loss: 1.8291 - accuracy: 0.4216\n",
      "Epoch 212/300\n",
      "5688/5688 [==============================] - 0s 72us/step - loss: 1.8271 - accuracy: 0.4214\n",
      "Epoch 213/300\n",
      "5688/5688 [==============================] - 0s 78us/step - loss: 1.8263 - accuracy: 0.4197\n",
      "Epoch 214/300\n",
      "5688/5688 [==============================] - 0s 72us/step - loss: 1.8254 - accuracy: 0.4225\n",
      "Epoch 215/300\n",
      "5688/5688 [==============================] - 0s 69us/step - loss: 1.8238 - accuracy: 0.4223\n",
      "Epoch 216/300\n",
      "5688/5688 [==============================] - 0s 69us/step - loss: 1.8223 - accuracy: 0.4200\n",
      "Epoch 217/300\n",
      "5688/5688 [==============================] - 0s 70us/step - loss: 1.8211 - accuracy: 0.4263\n",
      "Epoch 218/300\n",
      "5688/5688 [==============================] - 0s 74us/step - loss: 1.8199 - accuracy: 0.4233\n",
      "Epoch 219/300\n",
      "5688/5688 [==============================] - 0s 69us/step - loss: 1.8205 - accuracy: 0.4253\n",
      "Epoch 220/300\n",
      "5688/5688 [==============================] - 0s 75us/step - loss: 1.8186 - accuracy: 0.4221\n",
      "Epoch 221/300\n",
      "5688/5688 [==============================] - 0s 75us/step - loss: 1.8179 - accuracy: 0.4246\n",
      "Epoch 222/300\n",
      "5688/5688 [==============================] - 0s 67us/step - loss: 1.8171 - accuracy: 0.4263\n",
      "Epoch 223/300\n",
      "5688/5688 [==============================] - 0s 71us/step - loss: 1.8160 - accuracy: 0.4258\n",
      "Epoch 224/300\n",
      "5688/5688 [==============================] - 0s 70us/step - loss: 1.8137 - accuracy: 0.4270\n",
      "Epoch 225/300\n",
      "5688/5688 [==============================] - 0s 72us/step - loss: 1.8139 - accuracy: 0.4241\n",
      "Epoch 226/300\n",
      "5688/5688 [==============================] - 0s 75us/step - loss: 1.8130 - accuracy: 0.4267\n",
      "Epoch 227/300\n",
      "5688/5688 [==============================] - 0s 71us/step - loss: 1.8113 - accuracy: 0.4248\n",
      "Epoch 228/300\n",
      "5688/5688 [==============================] - 0s 80us/step - loss: 1.8093 - accuracy: 0.4284\n",
      "Epoch 229/300\n",
      "5688/5688 [==============================] - 1s 98us/step - loss: 1.8101 - accuracy: 0.4255\n",
      "Epoch 230/300\n",
      "5688/5688 [==============================] - 0s 78us/step - loss: 1.8075 - accuracy: 0.4274\n",
      "Epoch 231/300\n",
      "5688/5688 [==============================] - 0s 70us/step - loss: 1.8066 - accuracy: 0.4284\n",
      "Epoch 232/300\n",
      "5688/5688 [==============================] - 0s 70us/step - loss: 1.8067 - accuracy: 0.4297\n",
      "Epoch 233/300\n"
     ]
    },
    {
     "name": "stdout",
     "output_type": "stream",
     "text": [
      "5688/5688 [==============================] - 0s 72us/step - loss: 1.8062 - accuracy: 0.4270\n",
      "Epoch 234/300\n",
      "5688/5688 [==============================] - 0s 72us/step - loss: 1.8050 - accuracy: 0.4269\n",
      "Epoch 235/300\n",
      "5688/5688 [==============================] - 0s 69us/step - loss: 1.8032 - accuracy: 0.4255\n",
      "Epoch 236/300\n",
      "5688/5688 [==============================] - 0s 64us/step - loss: 1.8026 - accuracy: 0.4281\n",
      "Epoch 237/300\n",
      "5688/5688 [==============================] - 0s 62us/step - loss: 1.8022 - accuracy: 0.4290\n",
      "Epoch 238/300\n",
      "5688/5688 [==============================] - 0s 63us/step - loss: 1.8004 - accuracy: 0.4279\n",
      "Epoch 239/300\n",
      "5688/5688 [==============================] - 0s 63us/step - loss: 1.8000 - accuracy: 0.4293\n",
      "Epoch 240/300\n",
      "5688/5688 [==============================] - 0s 63us/step - loss: 1.8006 - accuracy: 0.4281\n",
      "Epoch 241/300\n",
      "5688/5688 [==============================] - 0s 65us/step - loss: 1.7987 - accuracy: 0.4272\n",
      "Epoch 242/300\n",
      "5688/5688 [==============================] - 0s 63us/step - loss: 1.7977 - accuracy: 0.4297\n",
      "Epoch 243/300\n",
      "5688/5688 [==============================] - 0s 62us/step - loss: 1.7961 - accuracy: 0.4276\n",
      "Epoch 244/300\n",
      "5688/5688 [==============================] - 0s 65us/step - loss: 1.7942 - accuracy: 0.4321\n",
      "Epoch 245/300\n",
      "5688/5688 [==============================] - 0s 63us/step - loss: 1.7955 - accuracy: 0.4281\n",
      "Epoch 246/300\n",
      "5688/5688 [==============================] - 0s 64us/step - loss: 1.7940 - accuracy: 0.4293\n",
      "Epoch 247/300\n",
      "5688/5688 [==============================] - 0s 64us/step - loss: 1.7929 - accuracy: 0.4327\n",
      "Epoch 248/300\n",
      "5688/5688 [==============================] - 0s 63us/step - loss: 1.7926 - accuracy: 0.4321\n",
      "Epoch 249/300\n",
      "5688/5688 [==============================] - 0s 63us/step - loss: 1.7907 - accuracy: 0.4318\n",
      "Epoch 250/300\n",
      "5688/5688 [==============================] - 0s 62us/step - loss: 1.7900 - accuracy: 0.4299\n",
      "Epoch 251/300\n",
      "5688/5688 [==============================] - 0s 64us/step - loss: 1.7894 - accuracy: 0.4311\n",
      "Epoch 252/300\n",
      "5688/5688 [==============================] - 0s 62us/step - loss: 1.7885 - accuracy: 0.4309\n",
      "Epoch 253/300\n",
      "5688/5688 [==============================] - 0s 63us/step - loss: 1.7888 - accuracy: 0.4304\n",
      "Epoch 254/300\n",
      "5688/5688 [==============================] - 0s 62us/step - loss: 1.7868 - accuracy: 0.4295\n",
      "Epoch 255/300\n",
      "5688/5688 [==============================] - 0s 64us/step - loss: 1.7856 - accuracy: 0.4339\n",
      "Epoch 256/300\n",
      "5688/5688 [==============================] - 0s 64us/step - loss: 1.7849 - accuracy: 0.4341\n",
      "Epoch 257/300\n",
      "5688/5688 [==============================] - 0s 65us/step - loss: 1.7837 - accuracy: 0.4353\n",
      "Epoch 258/300\n",
      "5688/5688 [==============================] - 0s 64us/step - loss: 1.7831 - accuracy: 0.4320\n",
      "Epoch 259/300\n",
      "5688/5688 [==============================] - 0s 63us/step - loss: 1.7821 - accuracy: 0.4362\n",
      "Epoch 260/300\n",
      "5688/5688 [==============================] - 0s 65us/step - loss: 1.7816 - accuracy: 0.4344\n",
      "Epoch 261/300\n",
      "5688/5688 [==============================] - 0s 63us/step - loss: 1.7807 - accuracy: 0.4344\n",
      "Epoch 262/300\n",
      "5688/5688 [==============================] - 0s 63us/step - loss: 1.7801 - accuracy: 0.4353\n",
      "Epoch 263/300\n",
      "5688/5688 [==============================] - 0s 63us/step - loss: 1.7779 - accuracy: 0.4346\n",
      "Epoch 264/300\n",
      "5688/5688 [==============================] - 0s 65us/step - loss: 1.7781 - accuracy: 0.4374\n",
      "Epoch 265/300\n",
      "5688/5688 [==============================] - 0s 64us/step - loss: 1.7765 - accuracy: 0.4365\n",
      "Epoch 266/300\n",
      "5688/5688 [==============================] - 0s 66us/step - loss: 1.7767 - accuracy: 0.4346\n",
      "Epoch 267/300\n",
      "5688/5688 [==============================] - 0s 64us/step - loss: 1.7752 - accuracy: 0.4360\n",
      "Epoch 268/300\n",
      "5688/5688 [==============================] - 0s 64us/step - loss: 1.7745 - accuracy: 0.4378\n",
      "Epoch 269/300\n",
      "5688/5688 [==============================] - 0s 63us/step - loss: 1.7765 - accuracy: 0.4383\n",
      "Epoch 270/300\n",
      "5688/5688 [==============================] - 0s 64us/step - loss: 1.7734 - accuracy: 0.4395\n",
      "Epoch 271/300\n",
      "5688/5688 [==============================] - 0s 64us/step - loss: 1.7740 - accuracy: 0.4367\n",
      "Epoch 272/300\n",
      "5688/5688 [==============================] - 0s 63us/step - loss: 1.7744 - accuracy: 0.4348\n",
      "Epoch 273/300\n",
      "5688/5688 [==============================] - 0s 65us/step - loss: 1.7718 - accuracy: 0.4378\n",
      "Epoch 274/300\n",
      "5688/5688 [==============================] - 0s 65us/step - loss: 1.7716 - accuracy: 0.4388\n",
      "Epoch 275/300\n",
      "5688/5688 [==============================] - 0s 65us/step - loss: 1.7692 - accuracy: 0.4381\n",
      "Epoch 276/300\n",
      "5688/5688 [==============================] - 0s 64us/step - loss: 1.7684 - accuracy: 0.4355\n",
      "Epoch 277/300\n",
      "5688/5688 [==============================] - 0s 63us/step - loss: 1.7689 - accuracy: 0.4358\n",
      "Epoch 278/300\n",
      "5688/5688 [==============================] - 0s 65us/step - loss: 1.7677 - accuracy: 0.4385\n",
      "Epoch 279/300\n",
      "5688/5688 [==============================] - 0s 64us/step - loss: 1.7671 - accuracy: 0.4386\n",
      "Epoch 280/300\n",
      "5688/5688 [==============================] - 0s 65us/step - loss: 1.7664 - accuracy: 0.4409\n",
      "Epoch 281/300\n",
      "5688/5688 [==============================] - 0s 65us/step - loss: 1.7654 - accuracy: 0.4395\n",
      "Epoch 282/300\n",
      "5688/5688 [==============================] - 0s 65us/step - loss: 1.7655 - accuracy: 0.4395\n",
      "Epoch 283/300\n",
      "5688/5688 [==============================] - 0s 65us/step - loss: 1.7638 - accuracy: 0.4393\n",
      "Epoch 284/300\n",
      "5688/5688 [==============================] - 0s 66us/step - loss: 1.7629 - accuracy: 0.4411\n",
      "Epoch 285/300\n",
      "5688/5688 [==============================] - 0s 65us/step - loss: 1.7636 - accuracy: 0.4400\n",
      "Epoch 286/300\n",
      "5688/5688 [==============================] - 0s 64us/step - loss: 1.7626 - accuracy: 0.4411\n",
      "Epoch 287/300\n",
      "5688/5688 [==============================] - 0s 65us/step - loss: 1.7616 - accuracy: 0.4390\n",
      "Epoch 288/300\n",
      "5688/5688 [==============================] - 0s 63us/step - loss: 1.7629 - accuracy: 0.4400\n",
      "Epoch 289/300\n",
      "5688/5688 [==============================] - 0s 64us/step - loss: 1.7596 - accuracy: 0.4437\n",
      "Epoch 290/300\n",
      "5688/5688 [==============================] - 0s 65us/step - loss: 1.7601 - accuracy: 0.4408\n",
      "Epoch 291/300\n",
      "5688/5688 [==============================] - 0s 64us/step - loss: 1.7583 - accuracy: 0.4446\n",
      "Epoch 292/300\n",
      "5688/5688 [==============================] - 0s 65us/step - loss: 1.7581 - accuracy: 0.4422\n",
      "Epoch 293/300\n",
      "5688/5688 [==============================] - 0s 63us/step - loss: 1.7567 - accuracy: 0.4425\n",
      "Epoch 294/300\n",
      "5688/5688 [==============================] - 0s 64us/step - loss: 1.7565 - accuracy: 0.4416\n",
      "Epoch 295/300\n",
      "5688/5688 [==============================] - 0s 64us/step - loss: 1.7561 - accuracy: 0.4416\n",
      "Epoch 296/300\n",
      "5688/5688 [==============================] - 0s 65us/step - loss: 1.7559 - accuracy: 0.4427\n",
      "Epoch 297/300\n",
      "5688/5688 [==============================] - 0s 63us/step - loss: 1.7546 - accuracy: 0.4429\n",
      "Epoch 298/300\n",
      "5688/5688 [==============================] - 0s 64us/step - loss: 1.7541 - accuracy: 0.4413\n",
      "Epoch 299/300\n",
      "5688/5688 [==============================] - 0s 63us/step - loss: 1.7535 - accuracy: 0.4429\n",
      "Epoch 300/300\n",
      "5688/5688 [==============================] - 0s 63us/step - loss: 1.7525 - accuracy: 0.4462\n"
     ]
    },
    {
     "data": {
      "text/plain": [
       "<keras.callbacks.callbacks.History at 0x7f14e43bc9b0>"
      ]
     },
     "execution_count": 32,
     "metadata": {},
     "output_type": "execute_result"
    }
   ],
   "source": [
    "model.compile(\n",
    "    loss='categorical_crossentropy', optimizer='adam', \n",
    "    metrics=['accuracy'])\n",
    "model.fit(X, Y, epochs=300, verbose=1)"
   ]
  },
  {
   "cell_type": "markdown",
   "metadata": {
    "colab_type": "text",
    "id": "yHlQ4kBfZldH"
   },
   "source": [
    "Now that we have a model of the character sequences, we can actually use it to generate words. All we need is a seed character."
   ]
  },
  {
   "cell_type": "code",
   "execution_count": 33,
   "metadata": {
    "colab": {},
    "colab_type": "code",
    "id": "OErOGXjKao4I"
   },
   "outputs": [],
   "source": [
    "def generate_word(seed_char, model):\n",
    "    text = seed_char \n",
    "    for _ in range(100):\n",
    "        # encode the current text\n",
    "        encoded = texts_to_sequences([text])[0]\n",
    "        # pad the sequence\n",
    "        encoded = kp.sequence.pad_sequences( \n",
    "            [encoded], maxlen=w, padding='pre', truncating='pre')\n",
    "        # predict the next index\n",
    "        pred = model.predict_classes(encoded, verbose=0) \n",
    "        # convert the index\n",
    "        pred = sequences_to_texts([pred])[0] \n",
    "        # if the model predicts the end of the word, exit\n",
    "        if pred == '#': \n",
    "            break\n",
    "        text += pred\n",
    "    return text"
   ]
  },
  {
   "cell_type": "code",
   "execution_count": 34,
   "metadata": {
    "colab": {
     "base_uri": "https://localhost:8080/",
     "height": 478
    },
    "colab_type": "code",
    "id": "DkXKWFL5aqja",
    "outputId": "91a7ed71-4afa-41d5-ab38-2d179dec8956"
   },
   "outputs": [
    {
     "name": "stdout",
     "output_type": "stream",
     "text": [
      "A -> Antional, a -> antereghed\n",
      "B -> Bren, b -> bear\n",
      "C -> Cion, c -> coment\n",
      "D -> Derent, d -> dear\n",
      "E -> Eng, e -> exte\n",
      "F -> Frout, f -> fer\n",
      "G -> Gout, g -> grout\n",
      "H -> Her, h -> hor\n",
      "I -> Interaeg, i -> inderes\n",
      "J -> Jout, j -> jouth\n",
      "K -> Keal, k -> kece\n",
      "L -> Lont, l -> lear\n",
      "M -> Man, m -> mease\n",
      "N -> Nout, n -> neart\n",
      "O -> Ont, o -> ont\n",
      "P -> Prear, p -> prout\n",
      "Q -> Qont, q -> quent\n",
      "R -> Rhorge, r -> reart\n",
      "S -> Soment, s -> stand\n",
      "T -> Then, t -> there\n",
      "U -> Une, u -> undine\n",
      "V -> Vont, v -> ver\n",
      "W -> Whough, w -> wher\n",
      "X -> Xont, x -> xect\n",
      "Y -> Yor, y -> yore\n",
      "Z -> Zont, z -> zear\n"
     ]
    }
   ],
   "source": [
    "alphabet = 'ABCDEFGHIJKLMNOPQRSTUVWXYZ'\n",
    "\n",
    "for c in alphabet:\n",
    "    print(c, '->', generate_word(c, model), end=', ')\n",
    "    c = c.lower()\n",
    "    print(c, '->', generate_word(c, model))"
   ]
  },
  {
   "cell_type": "markdown",
   "metadata": {
    "colab_type": "text",
    "id": "K0x_3xaEassJ"
   },
   "source": [
    "This looks interesting. Some of these are even real words, like \"Her,\" \"land,\" and \"state.\" The principles for doing this with words is the same. The number of dimensions increases, so we must be mindful of memory usage.\n",
    "\n",
    "Let's look at how these work. First, let's extract our layers."
   ]
  },
  {
   "cell_type": "code",
   "execution_count": 35,
   "metadata": {
    "colab": {},
    "colab_type": "code",
    "id": "76xpYLwNar1_"
   },
   "outputs": [],
   "source": [
    "embedding = model.layers[0]\n",
    "lstm = model.layers[1]\n",
    "dense = model.layers[2]"
   ]
  },
  {
   "cell_type": "markdown",
   "metadata": {
    "colab_type": "text",
    "id": "btha5jG9avOX"
   },
   "source": [
    "After this, we want to extract the weights. The Keras library does not store each of the weights of the LSTM layer separately, so we will have to split them out."
   ]
  },
  {
   "cell_type": "code",
   "execution_count": 36,
   "metadata": {
    "colab": {},
    "colab_type": "code",
    "id": "4QhN1weRayt6"
   },
   "outputs": [],
   "source": [
    "# embedding layers don't have a bias term, so \n",
    "# we only get one here\n",
    "W_e = embedding.get_weights()[0]\n",
    "\n",
    "W, U, b = lstm.get_weights()\n",
    "\n",
    "# The W_* weights are concatenated along the second axis\n",
    "W_i = W[:, :units]\n",
    "W_f = W[:, units: units * 2]\n",
    "W_c = W[:, units * 2: units * 3]\n",
    "W_o = W[:, units * 3:]\n",
    "\n",
    "# The U_* weights are concatenated along the second axis\n",
    "U_i = U[:, :units]\n",
    "U_f = U[:, units: units * 2]\n",
    "U_c = U[:, units * 2: units * 3]\n",
    "U_o = U[:, units * 3:]\n",
    "\n",
    "# The b_* weights are also concatenated\n",
    "b_i = b[:units]\n",
    "b_f = b[units: units * 2]\n",
    "b_c = b[units * 2: units * 3]\n",
    "b_o = b[units * 3:]\n",
    "\n",
    "# Finally, the output weights\n",
    "W_d, b_d = dense.get_weights()"
   ]
  },
  {
   "cell_type": "markdown",
   "metadata": {
    "colab_type": "text",
    "id": "4zoHOxlMaxmt"
   },
   "source": [
    "Let's see what we should expect when we try and predict the next character after \"recurren.\""
   ]
  },
  {
   "cell_type": "code",
   "execution_count": 37,
   "metadata": {
    "colab": {
     "base_uri": "https://localhost:8080/",
     "height": 34
    },
    "colab_type": "code",
    "id": "Q-4RHiCca2i5",
    "outputId": "89aabc72-9304-4051-e814-8d1e76d56815"
   },
   "outputs": [
    {
     "data": {
      "text/plain": [
       "['#']"
      ]
     },
     "execution_count": 37,
     "metadata": {},
     "output_type": "execute_result"
    }
   ],
   "source": [
    "text = ['recurren']\n",
    "encoded = texts_to_sequences(text) \n",
    "encoded = kp.sequence.pad_sequences(\n",
    "    encoded, maxlen=w, padding='pre')\n",
    "pred = model.predict_classes(encoded)\n",
    "pred = sequences_to_texts([pred])\n",
    "pred"
   ]
  },
  {
   "cell_type": "markdown",
   "metadata": {
    "colab_type": "text",
    "id": "ybLMX5Kbaxuq"
   },
   "source": [
    "This makes sense because this would make the word \"recurrent.\" Now, let's see if we can calculate this for ourselves. First, we must create our inputs."
   ]
  },
  {
   "cell_type": "code",
   "execution_count": 38,
   "metadata": {
    "colab": {
     "base_uri": "https://localhost:8080/",
     "height": 34
    },
    "colab_type": "code",
    "id": "s-s6JlSia465",
    "outputId": "184d56b7-53ba-4302-d04a-d9f2c648f168"
   },
   "outputs": [
    {
     "data": {
      "text/plain": [
       "(50, 10)"
      ]
     },
     "execution_count": 38,
     "metadata": {},
     "output_type": "execute_result"
    }
   ],
   "source": [
    "X = ['recurren']\n",
    "X = texts_to_sequences(X)\n",
    "X = kp.sequence.pad_sequences(encoded, maxlen=w, padding='pre')\n",
    "X = np.eye(alphabet_size)[X.reshape(-1)].T\n",
    "X.shape"
   ]
  },
  {
   "cell_type": "markdown",
   "metadata": {
    "colab_type": "text",
    "id": "gpYrIBOqax1z"
   },
   "source": [
    "Now, we can convert our 50-dimensional sparse vectors into much more dense 5-dimensional vectors using the embedding layer."
   ]
  },
  {
   "cell_type": "code",
   "execution_count": 39,
   "metadata": {
    "colab": {
     "base_uri": "https://localhost:8080/",
     "height": 34
    },
    "colab_type": "code",
    "id": "fRMkWyzta7x4",
    "outputId": "23b6cf2d-55be-4e25-ece1-13349f9609c6"
   },
   "outputs": [
    {
     "data": {
      "text/plain": [
       "(10, 5)"
      ]
     },
     "execution_count": 39,
     "metadata": {},
     "output_type": "execute_result"
    }
   ],
   "source": [
    "V_e = np.dot(W_e.T, X).T\n",
    "V_e.shape"
   ]
  },
  {
   "cell_type": "markdown",
   "metadata": {
    "colab_type": "text",
    "id": "4EGKrNmeax8T"
   },
   "source": [
    "Let's run this through the LSTM. This code is mostly parallel to the previous equations, the exception being that we store the values in h_* variables before sending them through the activation functions. This is done to keep the lines of code from being too long."
   ]
  },
  {
   "cell_type": "code",
   "execution_count": 40,
   "metadata": {
    "colab": {
     "base_uri": "https://localhost:8080/",
     "height": 34
    },
    "colab_type": "code",
    "id": "9lz9_VM1a_Iw",
    "outputId": "7fe4e532-15f8-4ccf-b009-4afc51515008"
   },
   "outputs": [
    {
     "data": {
      "text/plain": [
       "(20,)"
      ]
     },
     "execution_count": 40,
     "metadata": {},
     "output_type": "execute_result"
    }
   ],
   "source": [
    "v_t = np.zeros(units)\n",
    "c_t = np.zeros(units)\n",
    "for v_e in V_e:\n",
    "    h_f = np.dot(W_f.T, v_e) + np.dot(U_f.T, v_t) + b_f\n",
    "    f_t = sigmoid(h_f)\n",
    "    h_i = np.dot(W_i.T, v_e) + np.dot(U_i.T, v_t) + b_i\n",
    "    i_t = sigmoid(h_i)\n",
    "    h_o = np.dot(W_o.T, v_e) + np.dot(U_o.T, v_t) + b_o\n",
    "    o_t = sigmoid(h_o)\n",
    "    h_cc = np.dot(W_c.T, v_e) + np.dot(U_c.T, v_t) + b_c\n",
    "    cc_t = np.tanh(h_cc)\n",
    "    c_t = np.multiply(f_t, c_t) + np.multiply(i_t, cc_t)\n",
    "    v_t = np.multiply(o_t, np.tanh(c_t))\n",
    "    \n",
    "v_t.shape"
   ]
  },
  {
   "cell_type": "markdown",
   "metadata": {
    "colab_type": "text",
    "id": "8oGbrnskax4t"
   },
   "source": [
    "We will take the last output and pass it through the dense layer to get our prediction."
   ]
  },
  {
   "cell_type": "code",
   "execution_count": 41,
   "metadata": {
    "colab": {
     "base_uri": "https://localhost:8080/",
     "height": 247
    },
    "colab_type": "code",
    "id": "QynrACtTbCtQ",
    "outputId": "d16b82f4-b55a-49fc-dbc1-e94c637fe689"
   },
   "outputs": [
    {
     "data": {
      "text/plain": [
       "array([4.01918672e-14, 3.97983307e-14, 1.44239731e-05, 3.31704071e-02,\n",
       "       4.28108424e-01, 7.48645699e-02, 8.77435949e-03, 6.09263876e-03,\n",
       "       4.20124857e-04, 3.20216735e-02, 1.86933528e-03, 3.87043869e-04,\n",
       "       3.25658057e-05, 2.36323043e-02, 3.68072093e-01, 1.86881106e-04,\n",
       "       7.39657249e-03, 7.35258729e-04, 8.41590354e-04, 5.68207179e-04,\n",
       "       6.93998417e-05, 4.61071474e-14, 3.13776165e-04, 7.74831288e-03,\n",
       "       3.80432161e-03, 8.75715577e-04, 4.34366420e-14, 4.77985917e-24,\n",
       "       5.04500899e-14, 2.13881743e-14, 5.16751224e-14, 2.02064573e-19,\n",
       "       2.74311904e-14, 2.50483177e-15, 2.81358331e-14, 7.72510848e-14,\n",
       "       5.92148546e-14, 3.02585418e-14, 4.59422441e-14, 4.29037266e-14,\n",
       "       1.32442305e-14, 4.36423054e-14, 3.20807826e-14, 6.45085544e-14,\n",
       "       3.98414184e-14, 5.42487191e-14, 4.37529412e-14, 1.00703475e-13,\n",
       "       3.60378270e-14, 3.50005522e-14])"
      ]
     },
     "execution_count": 41,
     "metadata": {},
     "output_type": "execute_result"
    }
   ],
   "source": [
    "h_d = np.dot(W_d.T, v_t) + b_d\n",
    "pred = softmax(h_d)\n",
    "pred"
   ]
  },
  {
   "cell_type": "markdown",
   "metadata": {
    "colab_type": "text",
    "id": "cTmrGQgIaxx6"
   },
   "source": [
    "We just need to find the index with the highest value, so we use argmax."
   ]
  },
  {
   "cell_type": "code",
   "execution_count": 42,
   "metadata": {
    "colab": {
     "base_uri": "https://localhost:8080/",
     "height": 35
    },
    "colab_type": "code",
    "id": "8CR9DWdTbGq7",
    "outputId": "2b808b0a-a323-49ab-910c-55b8ec391e05"
   },
   "outputs": [
    {
     "data": {
      "text/plain": [
       "'#'"
      ]
     },
     "execution_count": 42,
     "metadata": {},
     "output_type": "execute_result"
    }
   ],
   "source": [
    "i2c[pred.argmax()]"
   ]
  },
  {
   "cell_type": "markdown",
   "metadata": {
    "colab_type": "text",
    "id": "F2t0BSfRaxqc"
   },
   "source": [
    "Finally, we have our prediction. Let's look at some of the runners-up."
   ]
  },
  {
   "cell_type": "code",
   "execution_count": 43,
   "metadata": {
    "colab": {},
    "colab_type": "code",
    "id": "W0WN5ZUqbJsp"
   },
   "outputs": [],
   "source": [
    "top5 = sorted(enumerate(pred), key=lambda x: x[1], reverse=True)[:5]"
   ]
  },
  {
   "cell_type": "code",
   "execution_count": 44,
   "metadata": {
    "colab": {
     "base_uri": "https://localhost:8080/",
     "height": 105
    },
    "colab_type": "code",
    "id": "fuJqXiwTbK4x",
    "outputId": "d4c92dc6-1010-4804-a6a7-9fbf35bd6b5b"
   },
   "outputs": [
    {
     "name": "stdout",
     "output_type": "stream",
     "text": [
      "# 0.4281084244070769\n",
      "t 0.36807209282985875\n",
      "s 0.0748645699226739\n",
      "e 0.03317040709554595\n",
      "n 0.032021673496676534\n"
     ]
    }
   ],
   "source": [
    "for ix, p in top5:\n",
    "    print(i2c[ix], p)"
   ]
  },
  {
   "cell_type": "markdown",
   "metadata": {
    "colab_type": "text",
    "id": "aX7014xtaxeO"
   },
   "source": [
    "We can speculate as to why the other characters might be predicted. The character \"g\" could be predicted based on how similar the input string is to \"recurring.\" As we discussed previously, most words are not as long as \"recurren,\" so predicting the end of the word also makes sense. The character \"c\" is part of the word \"recurrence.\" And the character \"s\" is a common letter in English, so it will often show up with a high probability.\n",
    "\n",
    "Modeling sequences is a central part of modern NLP. In the bag-of-words approach, we lose all the information communicated by syntax. Now that we can model language as a sequence, we can look at how to extract information from the sequences.  "
   ]
  },
  {
   "cell_type": "markdown",
   "metadata": {
    "colab_type": "text",
    "id": "swFWhRc7bRkr"
   },
   "source": [
    "## Exercise: Character N-Grams\n",
    "\n",
    "Modify the language model RNN to use character N-grams. So, the sequences should be recurrent -> 2-gram -> [re, cu, rr, en, t#].\n",
    "\n",
    "Remember that you may want to update w to reflect how much context you need."
   ]
  },
  {
   "cell_type": "markdown",
   "metadata": {
    "colab_type": "text",
    "id": "G2hB_Yr9bRQw"
   },
   "source": [
    "## Exercise: Word Language Model\n",
    "\n",
    "Take the poem \"Jabberwocky\" and build a language model from that.\n",
    "\n",
    "Your sequences will be lines in the poem—for example, [\"’Twas brillig, and the slithy toves,\" \"Did gyre and gimble in the wabe:\"]. Use a Spark NLP pipeline to process the text and extract the list of tokens.\n",
    "Your encoding code will need to change, c2i, i2c, texts_to_sequences, and sequences_to_texts will need to be updated to work with words.\n",
    "generate_word will need to be updated to generate lines instead."
   ]
  },
  {
   "cell_type": "markdown",
   "metadata": {
    "colab_type": "text",
    "id": "fBgbYWWPbQz1"
   },
   "source": [
    "## Resources\n",
    "* The Penn Treebank: An Overview, by Ann Taylor, Mitchell Marcus, and Beatrice Santorini (Springer): this is an overview of the Penn Treebank data set, which is one of the most widely used NLP data sets.\n",
    "* Long Short-Term Memory in Recurrent Neural Networks, by Felix Gers: the PhD dissertation describing LSTMs. It's a little dense, as expected in a dissertation, but if you are interested in the mathematical underpinnings it's a must-read.\n",
    "* Probabilistic Graphical Models: Principles and Techniques, by Daphne Koller and Nir Friedman (MIT Press): this is a textbook for probabilistic graphical models like HMMs and CRFs. "
   ]
  }
 ],
 "metadata": {
  "colab": {
   "authorship_tag": "ABX9TyMx7E+3blXlQHdEuOYq0w3M",
   "include_colab_link": true,
   "name": "2.8_Sequence_Modeling_with_Keras.ipynb",
   "provenance": []
  },
  "kernelspec": {
   "display_name": "Python 3",
   "language": "python",
   "name": "python3"
  },
  "language_info": {
   "codemirror_mode": {
    "name": "ipython",
    "version": 3
   },
   "file_extension": ".py",
   "mimetype": "text/x-python",
   "name": "python",
   "nbconvert_exporter": "python",
   "pygments_lexer": "ipython3",
   "version": "3.6.9"
  }
 },
 "nbformat": 4,
 "nbformat_minor": 1
}
