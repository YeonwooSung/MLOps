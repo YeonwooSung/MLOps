{
  "nbformat": 4,
  "nbformat_minor": 0,
  "metadata": {
    "colab": {
      "name": "1.1_Getting_Started",
      "provenance": [],
      "authorship_tag": "ABX9TyNWIyxHwf4Qjj+EW7oss08O",
      "include_colab_link": true
    },
    "kernelspec": {
      "name": "python3",
      "display_name": "Python 3"
    }
  },
  "cells": [
    {
      "cell_type": "markdown",
      "metadata": {
        "id": "view-in-github",
        "colab_type": "text"
      },
      "source": [
        "<a href=\"https://colab.research.google.com/github/alexander-n-thomas/spark-nlp-book-prod/blob/master/1_1_Getting_Started.ipynb\" target=\"_parent\"><img src=\"https://colab.research.google.com/assets/colab-badge.svg\" alt=\"Open In Colab\"/></a>"
      ]
    },
    {
      "cell_type": "markdown",
      "metadata": {
        "id": "eDo1n_94sHCx",
        "colab_type": "text"
      },
      "source": [
        "<div data-type=\"part\">\n",
        "<h1>Part 1: Basics</h1>\n",
        "\n",
        "<section data-type=\"chapter\">\n",
        "<h1>Chapter 1: Getting Started</h1>\n",
        "\n",
        "<section data-type=\"sect1\">\n",
        "<h1>Introduction</h1>\n",
        "\n",
        "<p>This book is about using Spark NLP to build natural language processing applications (NLP). Spark NLP is an NLP library built on top of Apache Spark.&nbsp;In this book I'll cover how to use Spark NLP, as well fundamental natural language processing topics. Hopefully, at the end of this book you'll have a new software tool for working with natural language, Spark NLP, and a suite of techniques and some understanding of why these techniques work.</p>\n",
        "<span style=\"letter-spacing: 0.18px;\">Let's begin by talking about the structure of this book. In the first part, we'll go over the technologies and techniques we'll be using with Spark NLP throughout this book. After that we'll talk about the building blocks of&nbsp;</span><em style=\"letter-spacing: 0.18px;\"><strong>N</strong>atural&nbsp;<strong>L</strong>anguage&nbsp;<strong>P</strong>rocessing</em><span style=\"letter-spacing: 0.18px;\">&nbsp;(NLP). Finally, we'll talk about NLP applications and sytems.</span>\n",
        "\n",
        "<p>When working on an application that requires NLP, there are three perspectives you should keep in mind: the software developer's perspective, the linguist's perspective, and the data scientist's perspective. The software developer's perspective focuses on what your application needs to do; this grounds the work in terms of the product you want to create. The linguist's perspective focuses on what it is in the data that you want to extract. The data scientist's perspective focuses on how you can extract the information you need from your data.</p>"
      ]
    },
    {
      "cell_type": "markdown",
      "metadata": {
        "id": "Nftkpjh9taxR",
        "colab_type": "text"
      },
      "source": [
        "<p>Here is a more detailed overview of the book</p>\n",
        "\n",
        "<ul>\n",
        "\t<li>PART I: INTRODUCTION\n",
        "\t<ul>\n",
        "\t\t<li><em>Getting Started</em> covers setting up your environment so you can follow along with the examples and exercises in the book</li>\n",
        "\t\t<li><em>Natural Language Basics</em> is a survey of some of the linguistic concepts that help in understanding why NLP techniques work, and how to use NLP techniques get the information you need from language.</li>\n",
        "\t\t<li><em>NLP on Apache Spark</em> is an introduction to Apache Spark and, most germane, the Spark NLP library.</li>\n",
        "\t\t<li><em>Deep Learning Basics</em> is a survey of some of the deep learning concepts that we'll be using in this book. This book is <em>not </em>a tutorial on deep learning, but we'll try and explain these techniques when necessary.</li>\n",
        "\t</ul>\n",
        "\t</li>\n",
        "\t<li>PART II: BUILDING BLOCKS\n",
        "\t<ul>\n",
        "\t\t<li><em>Processing Words</em> covers the classic text processing techniques. Since NLP applications generally require a pipeline of transformations, understanding the early steps well is a necessity.</li>\n",
        "\t\t<li><em>Information Retrieval</em>&nbsp;covers the basic concepts of search engines. Not only is this a classic example of an application that uses text, but many NLP techniques used in other kinds of applications ultimately come from information retrieval.</li>\n",
        "\t\t<li><em>Classification and Regression</em> covers some well established techniques of using text features for classification and regression tasks.</li>\n",
        "\t\t<li><em>Sequence Modeling</em> introduces techniques used in modeling natural language text data as sequences. Since natural language is a sequence, these techniques are fundamental.</li>\n",
        "\t\t<li><em>Information Extraction</em> shows how we can extract facts and relationships from text.</li>\n",
        "\t\t<li><em>Topic Modeling</em> demonstrates techniques for finding topics in documents. Topic modeling is a great way to explore text.</li>\n",
        "\t\t<li><em>Embeddings</em> discusses one of the most popular modern techniques for creating features from text.</li>\n",
        "\t</ul>\n",
        "\t</li>\n",
        "\t<li>PART III: APPLICATIONS\n",
        "\t<ul>\n",
        "\t\t<li><em>Sentiment Analysis &amp; Emotion Detection</em> covers some basic applications that require identifying the sentiment of the author of a text, e.g. was a movie review positive or negative.</li>\n",
        "\t\t<li><em>Building Knowledge Graphs</em> explores creating an ontology, a collection of facts and relationships organized in a graph-like manner, from a corpus.</li>\n",
        "\t\t<li><em>Semantic Search</em> goes deeper into what can be done to improve a search engine. Improving is not just about improving the ranker, it's also about facilitating the user with features like facets.</li>\n",
        "\t\t<li><em>Conversational Chatbots</em> demonstrates how to create a chatbot - this is a fun and interesting application. These kinds of applications are becoming more and more popular.</li>\n",
        "\t\t<li><em>Object Character Recognition (OCR)</em> introduces converting text stored as images to text data. Not all texts are stored as text data. Handwriting and old texts are examples of texts we may receive as images. Sometimes, we also have to deal with non-handwritten text stored in images like PDF images and scans of printed documents.&nbsp;</li>\n",
        "\t</ul>\n",
        "\t</li>\n",
        "\t<li>PART IV: BUILDING NLP SYSTEMS\n",
        "\t<ul>\n",
        "\t\t<li><em>Supporting Multiple Languages</em> explores topics that an application creator should consider when preparing to work with multiple languages.</li>\n",
        "\t\t<li><em>Human Labeling: Collecting Quality Training Data</em> covers ways to use Humans to gather data about texts. Being able to efficiently use Humans to augment data can make an otherwise impossible project feasible.</li>\n",
        "\t\t<li><em>Training and Publishing NLP Models</em> covers creating models, Spark NLP pipelines and TensorFlow graphs, and publishing them for use in production.</li>\n",
        "\t\t<li><em>Scaling and Performance Optimization</em> discusses some of the performance concerns developers should keep in mind when designing a system that uses text.</li>\n",
        "\t\t<li><em>Operating NLP Systems in Production</em> covers quality and monitoring concerns that are unique to NLP applications.</li>\n",
        "\t</ul>\n",
        "\t</li>\n",
        "</ul>"
      ]
    },
    {
      "cell_type": "markdown",
      "metadata": {
        "id": "UcswudzcteLA",
        "colab_type": "text"
      },
      "source": [
        "<h3>Other Tools</h3>\n",
        "\n",
        "<p>In addition to Spark NLP, Apache Spark, and TensorFlow, we'll make use of a number of other tools</p>\n",
        "\n",
        "<ul>\n",
        "\t<li><strong>Python</strong>&nbsp;is one of the most popular programming languages used in data science. Although Spark NLP is implemented in Scala, we will be demonstrating its use through Python. Learn more at&nbsp;<a href=\"https://www.python.org/\">https://www.python.org/</a></li>\n",
        "\t<li><strong>Anaconda </strong>is an open source distribution of Python (and R which we are not using). It is maintained by Anaconda, Inc. who also offer an enterprise platform, and training courses. We'll use the Anaconda package manager,&nbsp;<code>conda</code>, to create our environment. Learn more at <a href=\"https://www.anaconda.com/\">https://www.anaconda.com/</a></li>\n",
        "\t<li><strong>Jupyter Notebook</strong> is a tool for executing code in the browser. Jupyter Notebook also allows you to write markdown, and display visualizations all in the browser. In fact, this book was written as Jupyter Notebooks before being converted to a publishable format. Jupyter Notebook is maintained by Project Jupyter which is a non-profit dedicated to supporting interactive data science tools. Learn more at <a href=\"https://jupyter.org/\">https://jupyter.org/</a></li>\n",
        "\t<li><strong>Docker </strong>is a tool for easily creating virtual machines, often referred to as <em>containers</em>. We'll use Docker as an alternative installation tool to setting up conda. It is maintained by Docker, Inc. Learn more at <a href=\"https://www.docker.com/\">https://www.docker.com/</a></li>\n",
        "</ul>\n",
        "</section>\n"
      ]
    },
    {
      "cell_type": "markdown",
      "metadata": {
        "id": "SVWQy70yth_Y",
        "colab_type": "text"
      },
      "source": [
        "<section data-type=\"sect1\">\n",
        "<h1>Setting up your environment</h1>\n",
        "\n",
        "<p>In this book, almost every chapter has exercises, so it is useful to make sure that the environment is working at the beginning. We'll use Jupyter notebooks in this book, and the kernel we'll use is the baseline Python 3.6 kernel. The instructions here use Continuum's Anaconda to set up a Python virtual environment.</p>\n",
        "\n",
        "<p>You can also use the `johnsnowlabs/spark-nlp-workshop` docker image for the necessary environment.</p>\n",
        "\n",
        "<p>These instructions were created from the set up process for Ubuntu. There are additional set up instructions online at the project's github page.</p>\n",
        "\n",
        "<section data-type=\"sect2\">\n",
        "<h2>Prerequisites</h2>\n",
        "\n",
        "<ol>\n",
        "\t<li>Anaconda\n",
        "\t<ul>\n",
        "\t\t<li>To set up Anaconda, follow the instructions at - <a href=\"https://docs.anaconda.com/anaconda/install/\">https://docs.anaconda.com/anaconda/install/</a></li>\n",
        "\t</ul>\n",
        "\t</li>\n",
        "\t<li>Apache Spark\n",
        "\t<ul>\n",
        "\t\t<li>To set up Apache Spark, follow the instructions at - <a href=\"https://spark.apache.org/docs/latest/\">https://spark.apache.org/docs/latest/</a></li>\n",
        "\t\t<li>Make sure that <code>SPARK_HOME</code> is set to the location of your Apache Spark installation.\n",
        "\t\t<ul>\n",
        "\t\t\t<li>If you are on Linux or macOS, you can put&nbsp;<code>export SPARK_HOME=\"/path/to/spark\"</code></li>\n",
        "\t\t\t<li>If you are on Windows, you can use System Properties to set an environment variable named <code>SPARK_HOME</code> to&nbsp;&nbsp;<code>\"/path/to/spark\"</code></li>\n",
        "\t\t</ul>\n",
        "\t\t</li>\n",
        "\t\t<li>This was written on Apache Spark 2.4</li>\n",
        "\t</ul>\n",
        "\t</li>\n",
        "</ol>\n",
        "\n",
        "<p><strong>Optional</strong>: Set up a password for your Jupyter notebook server - <a href=\"https://jupyter-notebook.readthedocs.io/en/stable/public_server.html#automatic-password-setup\">https://jupyter-notebook.readthedocs.io/en/stable/public_server.html#automatic-password-setup</a></p>\n",
        "</section>\n",
        "\n",
        "<section data-type=\"sect2\">\n",
        "<h2>Starting Apache Spark</h2>"
      ]
    },
    {
      "cell_type": "markdown",
      "metadata": {
        "id": "Rs5h9VdvtoNN",
        "colab_type": "text"
      },
      "source": [
        "`$ echo $SPARK_HOME`"
      ]
    },
    {
      "cell_type": "markdown",
      "metadata": {
        "id": "IBvvevZetqXf",
        "colab_type": "text"
      },
      "source": [
        "`/path/to/your/spark/installation`"
      ]
    },
    {
      "cell_type": "markdown",
      "metadata": {
        "id": "hEitx0bpttd_",
        "colab_type": "text"
      },
      "source": [
        "`$ spark-shell`"
      ]
    },
    {
      "cell_type": "markdown",
      "metadata": {
        "id": "zJMzuYqItvqF",
        "colab_type": "text"
      },
      "source": [
        "\n",
        "\n",
        "```\n",
        "Using Spark's default log4j profile: org/apache/spark/log4j-defaults.prope\n",
        "rties\n",
        "Setting default log level to \"WARN\".\n",
        "To adjust logging level use sc.setLogLevel(newLevel). For SparkR, use setL\n",
        "ogLevel(newLevel).\n",
        "...\n",
        "Spark context Web UI available at localhost:4040\n",
        "Spark context available as 'sc' (master = local[*], app id = ...).\n",
        "Spark session available as 'spark'.\n",
        "Welcome to\n",
        "      ____              __\n",
        "     / __/__  ___ _____/ /__\n",
        "    _\\ \\/ _ \\/ _ `/ __/  '_/\n",
        "   /___/ .__/\\_,_/_/ /_/\\_\\   version 2.3.2\n",
        "      /_/\n",
        "\n",
        "Using Scala version 2.11.8 (Java HotSpot(TM) 64-Bit Server VM, Java 1.8.0\n",
        "_102)\n",
        "Type in expressions to have them evaluated.\n",
        "Type :help for more information.\n",
        "\n",
        "scala>\n",
        "```\n",
        "\n"
      ]
    },
    {
      "cell_type": "markdown",
      "metadata": {
        "id": "CdJsfELqtzmr",
        "colab_type": "text"
      },
      "source": [
        "<section data-type=\"sect2\">\n",
        "<h2>Checking out the code</h2>\n",
        "\n",
        "<ol>\n",
        "\t<li>Go to github repo for this project -&nbsp;<a href=\"https://github.com/alexander-n-thomas/spark-nlp-book\">https://github.com/alexander-n-thomas/spark-nlp-book</a></li>\n",
        "\t<li>Check out the code, run the following code examples in a terminal\n",
        "\t<ol>\n",
        "\t\t<li>Clone the repo\n",
        "\t\t<div class=\"highlight\">\n",
        "\t\t<pre data-code-language=\"bash\">\n",
        "git clone https://github.com/alexander-n-thomas/spark-nlp-book.git\n",
        "</pre>\n",
        "\t\t</div>\n",
        "\t\t</li>\n",
        "\t\t<li>Create the conda environment - this will take a while\n",
        "\t\t<div class=\"highlight\">\n",
        "\t\t<pre data-code-language=\"bash\">\n",
        "conda env create -f environment.yml\n",
        "</pre>\n",
        "\t\t</div>\n",
        "\t\t</li>\n",
        "\t\t<li>Activate the new environment\n",
        "\t\t<div class=\"highlight\">\n",
        "\t\t<pre data-code-language=\"bash\">\n",
        "<span class=\"nb\">source</span> activate spark-nlp-book\n",
        "</pre>\n",
        "\t\t</div>\n",
        "\t\t</li>\n",
        "\t\t<li>Create the kernel for this environment\n",
        "\t\t<div class=\"highlight\">\n",
        "\t\t<pre data-code-language=\"bash\">\n",
        "ipython kernel install --user --name<span class=\"o\">=</span>sparknlpbook\n",
        "</pre>\n",
        "\t\t</div>\n",
        "\t\t</li>\n",
        "\t\t<li>Launch the notebook server\n",
        "\t\t<div class=\"highlight\">\n",
        "\t\t<pre data-code-language=\"bash\">\n",
        "jupyter notebook\n",
        "</pre>\n",
        "\t\t</div>\n",
        "\t\t</li>\n",
        "\t\t<li>Go to your notebook page at&nbsp;<a href=\"http://localhost:8888/\">localhost:8888</a></li>\n",
        "\t</ol>\n",
        "\t</li>\n",
        "</ol>\n",
        "</section>\n",
        "</section>"
      ]
    },
    {
      "cell_type": "markdown",
      "metadata": {
        "id": "sjX3PueEt3_o",
        "colab_type": "text"
      },
      "source": [
        "<section data-type=\"sect1\">\n",
        "<h2>Getting Familiar with Apache Spark</h2>\n",
        "\n",
        "<p>Now that we're all set up, let's start using Spark NLP! We will be using the <em>20 Newsgroups</em> data set from the University of California Irvine Machine Learning Repository. The data can be found at <a href=\"https://archive.ics.uci.edu/ml/datasets/Twenty+Newsgroups\">https://archive.ics.uci.edu/ml/datasets/Twenty+Newsgroups</a>. For this first example we use the mini_newsgroups data set found at <a href=\"https://archive.ics.uci.edu/ml/machine-learning-databases/20newsgroups-mld/mini_newsgroups.tar.gz\">https://archive.ics.uci.edu/ml/machine-learning-databases/20newsgroups-mld/mini_newsgroups.tar.gz</a>. Download this tar file and extract it into the data folder for this project.</p>"
      ]
    },
    {
      "cell_type": "code",
      "metadata": {
        "id": "HzgTx-7OuEnm",
        "colab_type": "code",
        "colab": {}
      },
      "source": [
        "! mkdir -p data"
      ],
      "execution_count": 2,
      "outputs": []
    },
    {
      "cell_type": "code",
      "metadata": {
        "id": "dgBCSO9Fr-M5",
        "colab_type": "code",
        "colab": {
          "base_uri": "https://localhost:8080/",
          "height": 212
        },
        "outputId": "928e0b31-0fe4-4496-b883-09f36a96fe97"
      },
      "source": [
        "! wget https://archive.ics.uci.edu/ml/machine-learning-databases/20newsgroups-mld/mini_newsgroups.tar.gz"
      ],
      "execution_count": 3,
      "outputs": [
        {
          "output_type": "stream",
          "text": [
            "--2020-07-22 04:28:52--  https://archive.ics.uci.edu/ml/machine-learning-databases/20newsgroups-mld/mini_newsgroups.tar.gz\n",
            "Resolving archive.ics.uci.edu (archive.ics.uci.edu)... 128.195.10.252\n",
            "Connecting to archive.ics.uci.edu (archive.ics.uci.edu)|128.195.10.252|:443... connected.\n",
            "HTTP request sent, awaiting response... 200 OK\n",
            "Length: 1860687 (1.8M) [application/x-httpd-php]\n",
            "Saving to: ‘mini_newsgroups.tar.gz’\n",
            "\n",
            "mini_newsgroups.tar 100%[===================>]   1.77M  1.85MB/s    in 1.0s    \n",
            "\n",
            "2020-07-22 04:28:54 (1.85 MB/s) - ‘mini_newsgroups.tar.gz’ saved [1860687/1860687]\n",
            "\n"
          ],
          "name": "stdout"
        }
      ]
    },
    {
      "cell_type": "code",
      "metadata": {
        "id": "B7DAiInZuIsG",
        "colab_type": "code",
        "colab": {}
      },
      "source": [
        "! tar xzf mini_newsgroups.tar.gz -C ./data/"
      ],
      "execution_count": 4,
      "outputs": []
    },
    {
      "cell_type": "code",
      "metadata": {
        "id": "kFrFUZ-KuCjE",
        "colab_type": "code",
        "colab": {
          "base_uri": "https://localhost:8080/",
          "height": 141
        },
        "outputId": "7ed09c79-3498-4d6a-f4d3-ab80a818678c"
      },
      "source": [
        "! ls ./data/mini_newsgroups/"
      ],
      "execution_count": 5,
      "outputs": [
        {
          "output_type": "stream",
          "text": [
            "alt.atheism\t\t  rec.autos\t      sci.space\n",
            "comp.graphics\t\t  rec.motorcycles     soc.religion.christian\n",
            "comp.os.ms-windows.misc   rec.sport.baseball  talk.politics.guns\n",
            "comp.sys.ibm.pc.hardware  rec.sport.hockey    talk.politics.mideast\n",
            "comp.sys.mac.hardware\t  sci.crypt\t      talk.politics.misc\n",
            "comp.windows.x\t\t  sci.electronics     talk.religion.misc\n",
            "misc.forsale\t\t  sci.med\n"
          ],
          "name": "stdout"
        }
      ]
    },
    {
      "cell_type": "markdown",
      "metadata": {
        "id": "qj7Y1qkfuRhX",
        "colab_type": "text"
      },
      "source": [
        "<section data-type=\"sect2\">\n",
        "<h2>Starting Apache Spark with Spark NLP</h2>\n",
        "\n",
        "<p>There are many ways we can use Apache Spark from Jupyter notebooks. We could use a specialized kernel, but I generally prefer using a simple kernel. Fortunately, Spark NLP gives us an easy way to start up.</p>"
      ]
    },
    {
      "cell_type": "code",
      "metadata": {
        "colab_type": "code",
        "id": "3VQqVi-3ScBC",
        "colab": {
          "base_uri": "https://localhost:8080/",
          "height": 390
        },
        "outputId": "f4bc5be8-2677-4dbd-ef17-815f414f4334"
      },
      "source": [
        "import os\n",
        "\n",
        "# Install java\n",
        "! apt-get install -y openjdk-8-jdk-headless -qq > /dev/null\n",
        "os.environ[\"JAVA_HOME\"] = \"/usr/lib/jvm/java-8-openjdk-amd64\"\n",
        "os.environ[\"PATH\"] = os.environ[\"JAVA_HOME\"] + \"/bin:\" + os.environ[\"PATH\"]\n",
        "! java -version\n",
        "\n",
        "# Install pyspark\n",
        "! pip install --ignore-installed pyspark==2.4.4\n",
        "\n",
        "# Install Spark NLP\n",
        "! pip install --ignore-installed spark-nlp==2.5.1"
      ],
      "execution_count": 6,
      "outputs": [
        {
          "output_type": "stream",
          "text": [
            "openjdk version \"1.8.0_252\"\n",
            "OpenJDK Runtime Environment (build 1.8.0_252-8u252-b09-1~18.04-b09)\n",
            "OpenJDK 64-Bit Server VM (build 25.252-b09, mixed mode)\n",
            "Collecting pyspark==2.4.4\n",
            "\u001b[?25l  Downloading https://files.pythonhosted.org/packages/87/21/f05c186f4ddb01d15d0ddc36ef4b7e3cedbeb6412274a41f26b55a650ee5/pyspark-2.4.4.tar.gz (215.7MB)\n",
            "\u001b[K     |████████████████████████████████| 215.7MB 63kB/s \n",
            "\u001b[?25hCollecting py4j==0.10.7\n",
            "\u001b[?25l  Downloading https://files.pythonhosted.org/packages/e3/53/c737818eb9a7dc32a7cd4f1396e787bd94200c3997c72c1dbe028587bd76/py4j-0.10.7-py2.py3-none-any.whl (197kB)\n",
            "\u001b[K     |████████████████████████████████| 204kB 52.5MB/s \n",
            "\u001b[?25hBuilding wheels for collected packages: pyspark\n",
            "  Building wheel for pyspark (setup.py) ... \u001b[?25l\u001b[?25hdone\n",
            "  Created wheel for pyspark: filename=pyspark-2.4.4-py2.py3-none-any.whl size=216130388 sha256=0f685cae79f2877eecc6c41ced255b72712e4be9b8e5bdd9e263cf0aba8e8c15\n",
            "  Stored in directory: /root/.cache/pip/wheels/ab/09/4d/0d184230058e654eb1b04467dbc1292f00eaa186544604b471\n",
            "Successfully built pyspark\n",
            "Installing collected packages: py4j, pyspark\n",
            "Successfully installed py4j-0.10.7 pyspark-2.4.4\n",
            "Collecting spark-nlp==2.5.1\n",
            "\u001b[?25l  Downloading https://files.pythonhosted.org/packages/df/b4/db653f8080a446de8ce981b262d85c85c61de7e920930726da0d1c6b4c65/spark_nlp-2.5.1-py2.py3-none-any.whl (121kB)\n",
            "\u001b[K     |████████████████████████████████| 122kB 7.9MB/s \n",
            "\u001b[?25hInstalling collected packages: spark-nlp\n",
            "Successfully installed spark-nlp-2.5.1\n"
          ],
          "name": "stdout"
        }
      ]
    },
    {
      "cell_type": "code",
      "metadata": {
        "id": "TV1sDtRJuvbc",
        "colab_type": "code",
        "colab": {}
      },
      "source": [
        "import sparknlp"
      ],
      "execution_count": 7,
      "outputs": []
    },
    {
      "cell_type": "code",
      "metadata": {
        "id": "uz-C2n0EuxgD",
        "colab_type": "code",
        "colab": {}
      },
      "source": [
        "import pyspark\n",
        "from pyspark import SparkConf\n",
        "from pyspark.sql import SparkSession\n",
        "from pyspark.sql import functions as fun\n",
        "from pyspark.sql.types import *"
      ],
      "execution_count": 8,
      "outputs": []
    },
    {
      "cell_type": "code",
      "metadata": {
        "id": "up1WmOGzuyyL",
        "colab_type": "code",
        "colab": {}
      },
      "source": [
        "%matplotlib inline\n",
        "import matplotlib.pyplot as plt"
      ],
      "execution_count": 9,
      "outputs": []
    },
    {
      "cell_type": "code",
      "metadata": {
        "id": "sK_RGMRJu1ei",
        "colab_type": "code",
        "colab": {}
      },
      "source": [
        "packages = ','.join([\n",
        "    \"com.johnsnowlabs.nlp:spark-nlp_2.11:2.5.1\",\n",
        "])\n",
        "\n",
        "spark_conf = SparkConf()\n",
        "spark_conf = spark_conf.setAppName('spark-nlp-book-p1c1')\n",
        "spark_conf = spark_conf.setAppName('master[*]')\n",
        "spark_conf = spark_conf.set(\"spark.jars.packages\", packages)\n",
        "\n",
        "spark = SparkSession.builder.config(conf=spark_conf).getOrCreate()"
      ],
      "execution_count": 10,
      "outputs": []
    },
    {
      "cell_type": "markdown",
      "metadata": {
        "id": "gVt6KFbOvE2-",
        "colab_type": "text"
      },
      "source": [
        "<section data-type=\"sect2\">\n",
        "<h2>Loading &amp;&nbsp;viewing data in Apache Spark</h2>\n",
        "\n",
        "<p>Let's look at how we can load data data with Apache Spark, and then some ways we can view the data.</p>"
      ]
    },
    {
      "cell_type": "code",
      "metadata": {
        "id": "wAY3MrravEDW",
        "colab_type": "code",
        "colab": {}
      },
      "source": [
        "import os\n",
        "\n",
        "mini_newsgroups_path = os.path.join('data', 'mini_newsgroups', '*')"
      ],
      "execution_count": 11,
      "outputs": []
    },
    {
      "cell_type": "code",
      "metadata": {
        "id": "G9ioOnEHvIES",
        "colab_type": "code",
        "colab": {}
      },
      "source": [
        "texts = spark.sparkContext.wholeTextFiles(mini_newsgroups_path)"
      ],
      "execution_count": 12,
      "outputs": []
    },
    {
      "cell_type": "code",
      "metadata": {
        "id": "zCuJ64fkvJQD",
        "colab_type": "code",
        "colab": {}
      },
      "source": [
        "schema = StructType([\n",
        "    StructField('filename', StringType()),\n",
        "    StructField('text', StringType()),\n",
        "])\n",
        "texts_df = spark.createDataFrame(texts, schema)"
      ],
      "execution_count": 13,
      "outputs": []
    },
    {
      "cell_type": "code",
      "metadata": {
        "id": "ML6wzPFIvKGi",
        "colab_type": "code",
        "colab": {
          "base_uri": "https://localhost:8080/",
          "height": 478
        },
        "outputId": "ec487011-7d41-43b3-e8bf-81a615db3f9b"
      },
      "source": [
        "texts_df.show()"
      ],
      "execution_count": 14,
      "outputs": [
        {
          "output_type": "stream",
          "text": [
            "+--------------------+--------------------+\n",
            "|            filename|                text|\n",
            "+--------------------+--------------------+\n",
            "|file:/content/dat...|Newsgroups: rec.s...|\n",
            "|file:/content/dat...|Newsgroups: rec.s...|\n",
            "|file:/content/dat...|Newsgroups: rec.s...|\n",
            "|file:/content/dat...|Path: cantaloupe....|\n",
            "|file:/content/dat...|Path: cantaloupe....|\n",
            "|file:/content/dat...|Newsgroups: rec.s...|\n",
            "|file:/content/dat...|Newsgroups: rec.s...|\n",
            "|file:/content/dat...|Newsgroups: rec.s...|\n",
            "|file:/content/dat...|Path: cantaloupe....|\n",
            "|file:/content/dat...|Path: cantaloupe....|\n",
            "|file:/content/dat...|Path: cantaloupe....|\n",
            "|file:/content/dat...|Newsgroups: rec.s...|\n",
            "|file:/content/dat...|Path: cantaloupe....|\n",
            "|file:/content/dat...|Newsgroups: rec.s...|\n",
            "|file:/content/dat...|Newsgroups: rec.s...|\n",
            "|file:/content/dat...|Newsgroups: rec.s...|\n",
            "|file:/content/dat...|Newsgroups: rec.s...|\n",
            "|file:/content/dat...|Newsgroups: rec.s...|\n",
            "|file:/content/dat...|Newsgroups: rec.s...|\n",
            "|file:/content/dat...|Path: cantaloupe....|\n",
            "+--------------------+--------------------+\n",
            "only showing top 20 rows\n",
            "\n"
          ],
          "name": "stdout"
        }
      ]
    },
    {
      "cell_type": "markdown",
      "metadata": {
        "id": "4jH71Oa2vMlM",
        "colab_type": "text"
      },
      "source": [
        "<p>Looking at the data is important in any data science project. When working with structured data, especially numerical data, it is common to explore data with aggregates. This is necessary since data sets are large, and looking at a small number of examples can easily misrepresent the data. Natural language data complicates this. On one hand, Humans are really good at interpreting language, on the other, Humans are also really good at jumping to conclusions and making hasty generalizations. So we still have the problem of creating a representitive summary for large data sets. We'll talk about some techniques to do this in the chapters discussing topic modeling and embeddings.</p>\n",
        "\n",
        "<p>For now, let's talk about ways we can look at a small amount of data in&nbsp;<code>DataFrame</code>s. As you can see in the above code example, we can show the output of a&nbsp;<code>DataFrame</code>&nbsp;using&nbsp;<code>.show()</code>. Let's look at the arguments</p>\n",
        "\n",
        "<ol>\n",
        "\t<li><code>n</code>&nbsp;Number of rows to show.</li>\n",
        "\t<li><code>truncate</code>&nbsp;If set to True, truncate strings longer than 20 chars by default. If set to a number greater than one, truncates long strings to length&nbsp;<code>truncate</code>&nbsp;and align cells right.</li>\n",
        "\t<li><code>vertical</code>&nbsp;If set to True, print output rows vertically (one line per column value).</li>\n",
        "</ol>\n",
        "\n",
        "<p>Let's try using some of these arguments&nbsp;</p>"
      ]
    },
    {
      "cell_type": "code",
      "metadata": {
        "id": "1AOKnfxGvK5C",
        "colab_type": "code",
        "colab": {
          "base_uri": "https://localhost:8080/",
          "height": 372
        },
        "outputId": "16110135-5910-4c14-f17a-9962e4df7043"
      },
      "source": [
        "texts_df.show(n=5, truncate=100, vertical=True)"
      ],
      "execution_count": 15,
      "outputs": [
        {
          "output_type": "stream",
          "text": [
            "-RECORD 0--------------------------------------------------------------------------------------------------------\n",
            " filename | file:/content/data/mini_newsgroups/rec.sport.baseball/102631                                         \n",
            " text     | Newsgroups: rec.sport.baseball\n",
            "Path: cantaloupe.srv.cs.cmu.edu!rochester!cornell!batcomputer!caen... \n",
            "-RECORD 1--------------------------------------------------------------------------------------------------------\n",
            " filename | file:/content/data/mini_newsgroups/rec.sport.baseball/104897                                         \n",
            " text     | Newsgroups: rec.sport.baseball\n",
            "Path: cantaloupe.srv.cs.cmu.edu!crabapple.srv.cs.cmu.edu!fs7.ece.c... \n",
            "-RECORD 2--------------------------------------------------------------------------------------------------------\n",
            " filename | file:/content/data/mini_newsgroups/rec.sport.baseball/104863                                         \n",
            " text     | Newsgroups: rec.sport.baseball\n",
            "Path: cantaloupe.srv.cs.cmu.edu!crabapple.srv.cs.cmu.edu!fs7.ece.c... \n",
            "-RECORD 3--------------------------------------------------------------------------------------------------------\n",
            " filename | file:/content/data/mini_newsgroups/rec.sport.baseball/104619                                         \n",
            " text     | Path: cantaloupe.srv.cs.cmu.edu!rochester!udel!darwin.sura.net!spool.mu.edu!uwm.edu!ogicse!flop.E... \n",
            "-RECORD 4--------------------------------------------------------------------------------------------------------\n",
            " filename | file:/content/data/mini_newsgroups/rec.sport.baseball/102670                                         \n",
            " text     | Path: cantaloupe.srv.cs.cmu.edu!das-news.harvard.edu!ogicse!emory!europa.eng.gtefsd.com!howland.r... \n",
            "only showing top 5 rows\n",
            "\n"
          ],
          "name": "stdout"
        }
      ]
    },
    {
      "cell_type": "markdown",
      "metadata": {
        "id": "X1NUn_TTvswt",
        "colab_type": "text"
      },
      "source": [
        "<p>The&nbsp;<code>.show()</code>&nbsp;method is good for a quick view of data, but if the data is complicated, doesn't work as well. In the Jupyter environment, there are some special integrations with Pandas, and Pandas&nbsp;<code>DataFrame</code>s are displayed a little nicer. Here's an example.</p>"
      ]
    },
    {
      "cell_type": "code",
      "metadata": {
        "id": "rX2iqojovPqr",
        "colab_type": "code",
        "colab": {
          "base_uri": "https://localhost:8080/",
          "height": 197
        },
        "outputId": "8187c75a-286a-4065-d017-372afe774ac6"
      },
      "source": [
        "texts_df.limit(5).toPandas()"
      ],
      "execution_count": 16,
      "outputs": [
        {
          "output_type": "execute_result",
          "data": {
            "text/html": [
              "<div>\n",
              "<style scoped>\n",
              "    .dataframe tbody tr th:only-of-type {\n",
              "        vertical-align: middle;\n",
              "    }\n",
              "\n",
              "    .dataframe tbody tr th {\n",
              "        vertical-align: top;\n",
              "    }\n",
              "\n",
              "    .dataframe thead th {\n",
              "        text-align: right;\n",
              "    }\n",
              "</style>\n",
              "<table border=\"1\" class=\"dataframe\">\n",
              "  <thead>\n",
              "    <tr style=\"text-align: right;\">\n",
              "      <th></th>\n",
              "      <th>filename</th>\n",
              "      <th>text</th>\n",
              "    </tr>\n",
              "  </thead>\n",
              "  <tbody>\n",
              "    <tr>\n",
              "      <th>0</th>\n",
              "      <td>file:/content/data/mini_newsgroups/rec.sport.b...</td>\n",
              "      <td>Newsgroups: rec.sport.baseball\\nPath: cantalou...</td>\n",
              "    </tr>\n",
              "    <tr>\n",
              "      <th>1</th>\n",
              "      <td>file:/content/data/mini_newsgroups/rec.sport.b...</td>\n",
              "      <td>Newsgroups: rec.sport.baseball\\nPath: cantalou...</td>\n",
              "    </tr>\n",
              "    <tr>\n",
              "      <th>2</th>\n",
              "      <td>file:/content/data/mini_newsgroups/rec.sport.b...</td>\n",
              "      <td>Newsgroups: rec.sport.baseball\\nPath: cantalou...</td>\n",
              "    </tr>\n",
              "    <tr>\n",
              "      <th>3</th>\n",
              "      <td>file:/content/data/mini_newsgroups/rec.sport.b...</td>\n",
              "      <td>Path: cantaloupe.srv.cs.cmu.edu!rochester!udel...</td>\n",
              "    </tr>\n",
              "    <tr>\n",
              "      <th>4</th>\n",
              "      <td>file:/content/data/mini_newsgroups/rec.sport.b...</td>\n",
              "      <td>Path: cantaloupe.srv.cs.cmu.edu!das-news.harva...</td>\n",
              "    </tr>\n",
              "  </tbody>\n",
              "</table>\n",
              "</div>"
            ],
            "text/plain": [
              "                                            filename                                               text\n",
              "0  file:/content/data/mini_newsgroups/rec.sport.b...  Newsgroups: rec.sport.baseball\\nPath: cantalou...\n",
              "1  file:/content/data/mini_newsgroups/rec.sport.b...  Newsgroups: rec.sport.baseball\\nPath: cantalou...\n",
              "2  file:/content/data/mini_newsgroups/rec.sport.b...  Newsgroups: rec.sport.baseball\\nPath: cantalou...\n",
              "3  file:/content/data/mini_newsgroups/rec.sport.b...  Path: cantaloupe.srv.cs.cmu.edu!rochester!udel...\n",
              "4  file:/content/data/mini_newsgroups/rec.sport.b...  Path: cantaloupe.srv.cs.cmu.edu!das-news.harva..."
            ]
          },
          "metadata": {
            "tags": []
          },
          "execution_count": 16
        }
      ]
    },
    {
      "cell_type": "markdown",
      "metadata": {
        "id": "mnLJ0R87vTrC",
        "colab_type": "text"
      },
      "source": [
        "<p>Notice the use of&nbsp;<code>.limit()</code>. The&nbsp;<code>.toPandas()</code>&nbsp;method pulls the Spark&nbsp;<code>DataFrame</code>&nbsp;into memory to create a Pandas&nbsp;<code>DataFrame</code>. Converting to Pandas can also be useful for using tools available in the Python, since Pandas&nbsp;<code>DataFrame</code>&nbsp; is widely supported in the Python ecosystem.</p>\n",
        "\n",
        "<p>For other types of visualizations, we'll primarily use the Python libraries matplotlib and seaborn. In order to use these libraries we will need to create Pandas&nbsp;<code>DataFrame</code>s, so we will either aggregate or sample Spark&nbsp;<code>DataFrame</code>s into a manageable size.</p>\n",
        "</section>\n",
        "</section>\n",
        "\n",
        "<section data-type=\"sect1\">\n",
        "<h1>Hello World with Spark NLP</h1>\n",
        "\n",
        "<p>We have some data, so let's use Spark NLP to process it. First, let's extract the newsgroup name from the filename. We can see newsgroup as the last folder in the filename.</p>"
      ]
    },
    {
      "cell_type": "code",
      "metadata": {
        "id": "IVvEUkfNvRCa",
        "colab_type": "code",
        "colab": {}
      },
      "source": [
        "texts_df = texts_df.withColumn(\n",
        "    'newsgroup', \n",
        "    fun.split('filename', '/').getItem(8)\n",
        ")"
      ],
      "execution_count": 17,
      "outputs": []
    },
    {
      "cell_type": "code",
      "metadata": {
        "id": "K6j8wD41vVCJ",
        "colab_type": "code",
        "colab": {
          "base_uri": "https://localhost:8080/",
          "height": 197
        },
        "outputId": "86c012fa-4150-480b-e1fc-3f251b54cb49"
      },
      "source": [
        "texts_df.limit(5).toPandas()"
      ],
      "execution_count": 18,
      "outputs": [
        {
          "output_type": "execute_result",
          "data": {
            "text/html": [
              "<div>\n",
              "<style scoped>\n",
              "    .dataframe tbody tr th:only-of-type {\n",
              "        vertical-align: middle;\n",
              "    }\n",
              "\n",
              "    .dataframe tbody tr th {\n",
              "        vertical-align: top;\n",
              "    }\n",
              "\n",
              "    .dataframe thead th {\n",
              "        text-align: right;\n",
              "    }\n",
              "</style>\n",
              "<table border=\"1\" class=\"dataframe\">\n",
              "  <thead>\n",
              "    <tr style=\"text-align: right;\">\n",
              "      <th></th>\n",
              "      <th>filename</th>\n",
              "      <th>text</th>\n",
              "      <th>newsgroup</th>\n",
              "    </tr>\n",
              "  </thead>\n",
              "  <tbody>\n",
              "    <tr>\n",
              "      <th>0</th>\n",
              "      <td>file:/content/data/mini_newsgroups/rec.sport.b...</td>\n",
              "      <td>Newsgroups: rec.sport.baseball\\nPath: cantalou...</td>\n",
              "      <td>None</td>\n",
              "    </tr>\n",
              "    <tr>\n",
              "      <th>1</th>\n",
              "      <td>file:/content/data/mini_newsgroups/rec.sport.b...</td>\n",
              "      <td>Newsgroups: rec.sport.baseball\\nPath: cantalou...</td>\n",
              "      <td>None</td>\n",
              "    </tr>\n",
              "    <tr>\n",
              "      <th>2</th>\n",
              "      <td>file:/content/data/mini_newsgroups/rec.sport.b...</td>\n",
              "      <td>Newsgroups: rec.sport.baseball\\nPath: cantalou...</td>\n",
              "      <td>None</td>\n",
              "    </tr>\n",
              "    <tr>\n",
              "      <th>3</th>\n",
              "      <td>file:/content/data/mini_newsgroups/rec.sport.b...</td>\n",
              "      <td>Path: cantaloupe.srv.cs.cmu.edu!rochester!udel...</td>\n",
              "      <td>None</td>\n",
              "    </tr>\n",
              "    <tr>\n",
              "      <th>4</th>\n",
              "      <td>file:/content/data/mini_newsgroups/rec.sport.b...</td>\n",
              "      <td>Path: cantaloupe.srv.cs.cmu.edu!das-news.harva...</td>\n",
              "      <td>None</td>\n",
              "    </tr>\n",
              "  </tbody>\n",
              "</table>\n",
              "</div>"
            ],
            "text/plain": [
              "                                            filename  ... newsgroup\n",
              "0  file:/content/data/mini_newsgroups/rec.sport.b...  ...      None\n",
              "1  file:/content/data/mini_newsgroups/rec.sport.b...  ...      None\n",
              "2  file:/content/data/mini_newsgroups/rec.sport.b...  ...      None\n",
              "3  file:/content/data/mini_newsgroups/rec.sport.b...  ...      None\n",
              "4  file:/content/data/mini_newsgroups/rec.sport.b...  ...      None\n",
              "\n",
              "[5 rows x 3 columns]"
            ]
          },
          "metadata": {
            "tags": []
          },
          "execution_count": 18
        }
      ]
    },
    {
      "cell_type": "code",
      "metadata": {
        "id": "eBoZeLSDuP7j",
        "colab_type": "code",
        "colab": {}
      },
      "source": [
        "newsgroup_counts = texts_df.groupBy('newsgroup').count().toPandas()"
      ],
      "execution_count": 19,
      "outputs": []
    },
    {
      "cell_type": "code",
      "metadata": {
        "id": "Ai5EGb2Gv0zg",
        "colab_type": "code",
        "colab": {
          "base_uri": "https://localhost:8080/",
          "height": 308
        },
        "outputId": "33d05c90-687e-45fb-ac59-c8e5359217eb"
      },
      "source": [
        "newsgroup_counts.plot(kind='bar', figsize=(10, 5))\n",
        "plt.xticks(\n",
        "    ticks=range(len(newsgroup_counts)), \n",
        "    labels=newsgroup_counts['newsgroup']\n",
        ")\n",
        "plt.show()"
      ],
      "execution_count": 20,
      "outputs": [
        {
          "output_type": "display_data",
          "data": {
            "image/png": "[encoded data removed]",
            "text/plain": [
              "<Figure size 720x360 with 1 Axes>"
            ]
          },
          "metadata": {
            "tags": [],
            "needs_background": "light"
          }
        }
      ]
    },
    {
      "cell_type": "markdown",
      "metadata": {
        "id": "Un6_jhrFv5pp",
        "colab_type": "text"
      },
      "source": [
        "<p><a class=\"list-padding\" href=\"https://atlas.oreilly.com/alex_thomas/nlp-with-spark-nlp/editor/master/images/1.1_newsgroup_counts.jpg\">&nbsp; 1.1_newsgroup_counts.jpg</a></p>\n",
        "\n",
        "<p>Because the mini_newsgroups data set is a subset of the 20Newsgroups data set, we have the same number of documents in each newsgroup. Now, let's use the&nbsp;<a href=\"https://nlp.johnsnowlabs.com/components.html#BasicPipeline\"><code>BasicPipeline</code></a></p>"
      ]
    },
    {
      "cell_type": "code",
      "metadata": {
        "id": "7fl7XCoDv201",
        "colab_type": "code",
        "colab": {}
      },
      "source": [
        "from sparknlp.pretrained import PretrainedPipeline"
      ],
      "execution_count": 21,
      "outputs": []
    },
    {
      "cell_type": "markdown",
      "metadata": {
        "id": "hMY8nXAfv8JE",
        "colab_type": "text"
      },
      "source": [
        "<p>The&nbsp;<code>explain_document_ml</code>&nbsp;is a pretrained pipeline that we can use to process text with a simple pipeline that performs basic processing steps. In order to undetstand what the&nbsp;<code>explain_document_ml</code>&nbsp;is doing, it is necessary to give a brief description of what the annotators are. An annotator is a representation of a specific NLP technique. We will go more in depth when we get to the&nbsp;<em>NLP on Apache Spark</em>&nbsp;chapter.</p>\n",
        "\n",
        "<p><span style=\"letter-spacing: 0.01em;\">The annotators work on a document which is the text, associated metadata, and any previously discovered annotations. This design helps annotators re-use work of previous annotators. The downside, is that it is more complex than libraries like NLTK which are un-coupled collections of NLP functions.</span></p>\n",
        "\n",
        "<p>The&nbsp;<code>explain_document_ml</code>&nbsp;has one&nbsp;<code>Transformer</code>&nbsp;and four annotators</p>\n",
        "\n",
        "<ol>\n",
        "\t<li><code>DocumentAssembler</code>: a&nbsp;<code>Transformer</code>&nbsp;that creates a column that contains documents</li>\n",
        "\t<li><code>Sentence Segmenter</code>: an annotator that produces the sentences of the document</li>\n",
        "\t<li><code>Tokenizer</code>: an annotator that produces the tokens of the sentences</li>\n",
        "\t<li><code>SpellChecker</code>: an annotator that produces the spelling-corrected tokens</li>\n",
        "\t<li><code>Stemmer</code>: an annotator that produces the stems of the tokens</li>\n",
        "\t<li><code>Lemmatizer</code>: an annotator that produces the lemmas of the tokens.</li>\n",
        "\t<li><code>POS Tagger</code>: an annotator that produces the parts of speech of the associated tokens</li>\n",
        "</ol>\n",
        "\n",
        "<p>There are some new terms introduced here that we'll discuss more in upcoming chapters.</p>"
      ]
    },
    {
      "cell_type": "code",
      "metadata": {
        "id": "Gvi3B14Zv7Tz",
        "colab_type": "code",
        "colab": {
          "base_uri": "https://localhost:8080/",
          "height": 70
        },
        "outputId": "3e33cc90-3fee-408f-b0e0-dcb8d94ede3a"
      },
      "source": [
        "pipeline = PretrainedPipeline('explain_document_ml', lang='en')"
      ],
      "execution_count": 22,
      "outputs": [
        {
          "output_type": "stream",
          "text": [
            "explain_document_ml download started this may take some time.\n",
            "Approx size to download 9.4 MB\n",
            "[OK!]\n"
          ],
          "name": "stdout"
        }
      ]
    },
    {
      "cell_type": "markdown",
      "metadata": {
        "id": "_RV3MO_awABd",
        "colab_type": "text"
      },
      "source": [
        "<p>The&nbsp;<code>.annotate()</code>&nbsp;method of the&nbsp;<code>BasicPipeline</code>&nbsp;can be used to annotate singular strings, as well as&nbsp;<code>DataFrame</code>s. Let's look at what it produces.</p>"
      ]
    },
    {
      "cell_type": "code",
      "metadata": {
        "id": "k_s-B0Bhv-f5",
        "colab_type": "code",
        "colab": {
          "base_uri": "https://localhost:8080/",
          "height": 141
        },
        "outputId": "78710a7c-0fe4-46c1-85cb-29cb83237064"
      },
      "source": [
        "pipeline.annotate('Hellu wrold!')"
      ],
      "execution_count": 23,
      "outputs": [
        {
          "output_type": "execute_result",
          "data": {
            "text/plain": [
              "{'document': ['Hellu wrold!'],\n",
              " 'lemmas': ['Hello', 'world', '!'],\n",
              " 'pos': ['UH', 'NN', '.'],\n",
              " 'sentence': ['Hellu wrold!'],\n",
              " 'spell': ['Hello', 'world', '!'],\n",
              " 'stems': ['hello', 'world', '!'],\n",
              " 'token': ['Hellu', 'wrold', '!']}"
            ]
          },
          "metadata": {
            "tags": []
          },
          "execution_count": 23
        }
      ]
    },
    {
      "cell_type": "markdown",
      "metadata": {
        "id": "hokzQ2P6wHJu",
        "colab_type": "text"
      },
      "source": [
        "<p>This a good amount of additional information. This brings up something that you will want to keep in mind - annotations can produce a lot of extra data. Let's look at the schema of the raw data.</p>"
      ]
    },
    {
      "cell_type": "code",
      "metadata": {
        "id": "wycwTIi9wBbA",
        "colab_type": "code",
        "colab": {
          "base_uri": "https://localhost:8080/",
          "height": 105
        },
        "outputId": "ba6e6999-cdc9-42db-915a-5ae8391d2bca"
      },
      "source": [
        "texts_df.printSchema()"
      ],
      "execution_count": 24,
      "outputs": [
        {
          "output_type": "stream",
          "text": [
            "root\n",
            " |-- filename: string (nullable = true)\n",
            " |-- text: string (nullable = true)\n",
            " |-- newsgroup: string (nullable = true)\n",
            "\n"
          ],
          "name": "stdout"
        }
      ]
    },
    {
      "cell_type": "markdown",
      "metadata": {
        "id": "b_wIrzugwKyn",
        "colab_type": "text"
      },
      "source": [
        "<p>Now, let's annotate our&nbsp;<code>DataFrame</code>&nbsp;and look at the new schema.</p>"
      ]
    },
    {
      "cell_type": "code",
      "metadata": {
        "id": "1AD-rGMgwcqS",
        "colab_type": "code",
        "colab": {}
      },
      "source": [
        "procd_texts_df = pipeline.annotate(texts_df, 'text')"
      ],
      "execution_count": 25,
      "outputs": []
    },
    {
      "cell_type": "code",
      "metadata": {
        "id": "VedrnReJwdaA",
        "colab_type": "code",
        "colab": {
          "base_uri": "https://localhost:8080/",
          "height": 1000
        },
        "outputId": "69e8c70a-2d90-4f7b-9205-ea8115f01215"
      },
      "source": [
        "procd_texts_df.printSchema()"
      ],
      "execution_count": 26,
      "outputs": [
        {
          "output_type": "stream",
          "text": [
            "root\n",
            " |-- filename: string (nullable = true)\n",
            " |-- text: string (nullable = true)\n",
            " |-- newsgroup: string (nullable = true)\n",
            " |-- document: array (nullable = true)\n",
            " |    |-- element: struct (containsNull = true)\n",
            " |    |    |-- annotatorType: string (nullable = true)\n",
            " |    |    |-- begin: integer (nullable = false)\n",
            " |    |    |-- end: integer (nullable = false)\n",
            " |    |    |-- result: string (nullable = true)\n",
            " |    |    |-- metadata: map (nullable = true)\n",
            " |    |    |    |-- key: string\n",
            " |    |    |    |-- value: string (valueContainsNull = true)\n",
            " |    |    |-- embeddings: array (nullable = true)\n",
            " |    |    |    |-- element: float (containsNull = false)\n",
            " |-- sentence: array (nullable = true)\n",
            " |    |-- element: struct (containsNull = true)\n",
            " |    |    |-- annotatorType: string (nullable = true)\n",
            " |    |    |-- begin: integer (nullable = false)\n",
            " |    |    |-- end: integer (nullable = false)\n",
            " |    |    |-- result: string (nullable = true)\n",
            " |    |    |-- metadata: map (nullable = true)\n",
            " |    |    |    |-- key: string\n",
            " |    |    |    |-- value: string (valueContainsNull = true)\n",
            " |    |    |-- embeddings: array (nullable = true)\n",
            " |    |    |    |-- element: float (containsNull = false)\n",
            " |-- token: array (nullable = true)\n",
            " |    |-- element: struct (containsNull = true)\n",
            " |    |    |-- annotatorType: string (nullable = true)\n",
            " |    |    |-- begin: integer (nullable = false)\n",
            " |    |    |-- end: integer (nullable = false)\n",
            " |    |    |-- result: string (nullable = true)\n",
            " |    |    |-- metadata: map (nullable = true)\n",
            " |    |    |    |-- key: string\n",
            " |    |    |    |-- value: string (valueContainsNull = true)\n",
            " |    |    |-- embeddings: array (nullable = true)\n",
            " |    |    |    |-- element: float (containsNull = false)\n",
            " |-- spell: array (nullable = true)\n",
            " |    |-- element: struct (containsNull = true)\n",
            " |    |    |-- annotatorType: string (nullable = true)\n",
            " |    |    |-- begin: integer (nullable = false)\n",
            " |    |    |-- end: integer (nullable = false)\n",
            " |    |    |-- result: string (nullable = true)\n",
            " |    |    |-- metadata: map (nullable = true)\n",
            " |    |    |    |-- key: string\n",
            " |    |    |    |-- value: string (valueContainsNull = true)\n",
            " |    |    |-- embeddings: array (nullable = true)\n",
            " |    |    |    |-- element: float (containsNull = false)\n",
            " |-- lemmas: array (nullable = true)\n",
            " |    |-- element: struct (containsNull = true)\n",
            " |    |    |-- annotatorType: string (nullable = true)\n",
            " |    |    |-- begin: integer (nullable = false)\n",
            " |    |    |-- end: integer (nullable = false)\n",
            " |    |    |-- result: string (nullable = true)\n",
            " |    |    |-- metadata: map (nullable = true)\n",
            " |    |    |    |-- key: string\n",
            " |    |    |    |-- value: string (valueContainsNull = true)\n",
            " |    |    |-- embeddings: array (nullable = true)\n",
            " |    |    |    |-- element: float (containsNull = false)\n",
            " |-- stems: array (nullable = true)\n",
            " |    |-- element: struct (containsNull = true)\n",
            " |    |    |-- annotatorType: string (nullable = true)\n",
            " |    |    |-- begin: integer (nullable = false)\n",
            " |    |    |-- end: integer (nullable = false)\n",
            " |    |    |-- result: string (nullable = true)\n",
            " |    |    |-- metadata: map (nullable = true)\n",
            " |    |    |    |-- key: string\n",
            " |    |    |    |-- value: string (valueContainsNull = true)\n",
            " |    |    |-- embeddings: array (nullable = true)\n",
            " |    |    |    |-- element: float (containsNull = false)\n",
            " |-- pos: array (nullable = true)\n",
            " |    |-- element: struct (containsNull = true)\n",
            " |    |    |-- annotatorType: string (nullable = true)\n",
            " |    |    |-- begin: integer (nullable = false)\n",
            " |    |    |-- end: integer (nullable = false)\n",
            " |    |    |-- result: string (nullable = true)\n",
            " |    |    |-- metadata: map (nullable = true)\n",
            " |    |    |    |-- key: string\n",
            " |    |    |    |-- value: string (valueContainsNull = true)\n",
            " |    |    |-- embeddings: array (nullable = true)\n",
            " |    |    |    |-- element: float (containsNull = false)\n",
            "\n"
          ],
          "name": "stdout"
        }
      ]
    },
    {
      "cell_type": "markdown",
      "metadata": {
        "id": "LT0pA0RrwPUq",
        "colab_type": "text"
      },
      "source": [
        "<p>That is quite complex! To break it down, let's look at the token column. It has an&nbsp;<code>Array</code>&nbsp;type column, and each element is a&nbsp;<code>Struct</code>. Each element has the following</p>\n",
        "\n",
        "<ul>\n",
        "\t<li><code>annotatorType</code>: the type of annotation</li>\n",
        "\t<li><code>begin</code>: the starting character position of the annotation</li>\n",
        "\t<li><code>end</code>: the character position after the end of the annotation</li>\n",
        "\t<li><code>result</code>: the output of the annotator</li>\n",
        "\t<li><code>metadata</code>: a&nbsp;<code>Map</code>&nbsp;from&nbsp;<code>String</code>&nbsp;to&nbsp;<code>String</code>&nbsp;containing additional, potentially helpful, information about the annotation</li>\n",
        "</ul>\n",
        "\n",
        "<p>Let's look at some of the data using&nbsp;<code>.show()</code></p>"
      ]
    },
    {
      "cell_type": "code",
      "metadata": {
        "id": "xuIG7PyFwIqK",
        "colab_type": "code",
        "colab": {
          "base_uri": "https://localhost:8080/",
          "height": 158
        },
        "outputId": "ee85c866-477f-4b60-fd4c-0331ec447591"
      },
      "source": [
        "procd_texts_df.show(n=2)"
      ],
      "execution_count": 27,
      "outputs": [
        {
          "output_type": "stream",
          "text": [
            "+--------------------+--------------------+---------+--------------------+--------------------+--------------------+--------------------+--------------------+--------------------+--------------------+\n",
            "|            filename|                text|newsgroup|            document|            sentence|               token|               spell|              lemmas|               stems|                 pos|\n",
            "+--------------------+--------------------+---------+--------------------+--------------------+--------------------+--------------------+--------------------+--------------------+--------------------+\n",
            "|file:/content/dat...|Newsgroups: rec.s...|     null|[[document, 0, 14...|[[document, 0, 86...|[[token, 0, 9, Ne...|[[token, 0, 9, Ne...|[[token, 0, 9, Ne...|[[token, 0, 9, ne...|[[pos, 0, 9, NNP,...|\n",
            "|file:/content/dat...|Newsgroups: rec.s...|     null|[[document, 0, 68...|[[document, 0, 31...|[[token, 0, 9, Ne...|[[token, 0, 9, Ne...|[[token, 0, 9, Ne...|[[token, 0, 9, ne...|[[pos, 0, 9, NNP,...|\n",
            "+--------------------+--------------------+---------+--------------------+--------------------+--------------------+--------------------+--------------------+--------------------+--------------------+\n",
            "only showing top 2 rows\n",
            "\n"
          ],
          "name": "stdout"
        }
      ]
    },
    {
      "cell_type": "markdown",
      "metadata": {
        "id": "dUzEnugUwur5",
        "colab_type": "text"
      },
      "source": [
        "<p>This is not very readable. Not only is the automatic formatting doing poorly with this data, but we can hardly see our annotations. Let's try using some other arguments.</p>"
      ]
    },
    {
      "cell_type": "code",
      "metadata": {
        "id": "F07fzZ-Nwh3e",
        "colab_type": "code",
        "colab": {
          "base_uri": "https://localhost:8080/",
          "height": 550
        },
        "outputId": "2a6076a6-b5f6-4f06-ed0b-18ce56f4071f"
      },
      "source": [
        "procd_texts_df.show(n=2, truncate=100, vertical=True)"
      ],
      "execution_count": 28,
      "outputs": [
        {
          "output_type": "stream",
          "text": [
            "-RECORD 0---------------------------------------------------------------------------------------------------------\n",
            " filename  | file:/content/data/mini_newsgroups/rec.sport.baseball/102631                                         \n",
            " text      | Newsgroups: rec.sport.baseball\n",
            "Path: cantaloupe.srv.cs.cmu.edu!rochester!cornell!batcomputer!caen... \n",
            " newsgroup | null                                                                                                 \n",
            " document  | [[document, 0, 1445, Newsgroups: rec.sport.baseball\n",
            "Path: cantaloupe.srv.cs.cmu.edu!rochester!cor... \n",
            " sentence  | [[document, 0, 867, Newsgroups: rec.sport.baseball\n",
            "Path: cantaloupe.srv.cs.cmu.edu!rochester!corn... \n",
            " token     | [[token, 0, 9, Newsgroups, [sentence -> 0], []], [token, 10, 10, :, [sentence -> 0], []], [token,... \n",
            " spell     | [[token, 0, 9, Newsgroups, [confidence -> 0.0, sentence -> 0], []], [token, 10, 10, :, [confidenc... \n",
            " lemmas    | [[token, 0, 9, Newsgroups, [confidence -> 0.0, sentence -> 0], []], [token, 10, 10, :, [confidenc... \n",
            " stems     | [[token, 0, 9, newsgroup, [confidence -> 0.0, sentence -> 0], []], [token, 10, 10, :, [confidence... \n",
            " pos       | [[pos, 0, 9, NNP, [word -> Newsgroups], []], [pos, 10, 10, :, [word -> :], []], [pos, 12, 29, NN,... \n",
            "-RECORD 1---------------------------------------------------------------------------------------------------------\n",
            " filename  | file:/content/data/mini_newsgroups/rec.sport.baseball/104897                                         \n",
            " text      | Newsgroups: rec.sport.baseball\n",
            "Path: cantaloupe.srv.cs.cmu.edu!crabapple.srv.cs.cmu.edu!fs7.ece.c... \n",
            " newsgroup | null                                                                                                 \n",
            " document  | [[document, 0, 686, Newsgroups: rec.sport.baseball\n",
            "Path: cantaloupe.srv.cs.cmu.edu!crabapple.srv.... \n",
            " sentence  | [[document, 0, 319, Newsgroups: rec.sport.baseball\n",
            "Path: cantaloupe.srv.cs.cmu.edu!crabapple.srv.... \n",
            " token     | [[token, 0, 9, Newsgroups, [sentence -> 0], []], [token, 10, 10, :, [sentence -> 0], []], [token,... \n",
            " spell     | [[token, 0, 9, Newsgroups, [confidence -> 0.0, sentence -> 0], []], [token, 10, 10, :, [confidenc... \n",
            " lemmas    | [[token, 0, 9, Newsgroups, [confidence -> 0.0, sentence -> 0], []], [token, 10, 10, :, [confidenc... \n",
            " stems     | [[token, 0, 9, newsgroup, [confidence -> 0.0, sentence -> 0], []], [token, 10, 10, :, [confidence... \n",
            " pos       | [[pos, 0, 9, NNP, [word -> Newsgroups], []], [pos, 10, 10, :, [word -> :], []], [pos, 12, 29, NN,... \n",
            "only showing top 2 rows\n",
            "\n"
          ],
          "name": "stdout"
        }
      ]
    },
    {
      "cell_type": "markdown",
      "metadata": {
        "id": "ZQlh5f33wyeN",
        "colab_type": "text"
      },
      "source": [
        "<p>Better, but this is still not useful for getting a general understanding of our corpus. We at least have a glimpse of what our pipeline is doing.</p>\n",
        "\n",
        "<p>Now, we need to pull out the information we might want to use in other process, that is why there is the&nbsp;<code>Finisher</code>&nbsp;<code>Transformer</code>. The&nbsp;<code>Finisher</code>&nbsp;takes annotations and pulls out the pieces of data that we will be using in downstream processes. This allows us to use the results of our NLP pipeline in generic Spark. For now, let's pull out all the lemmas and put them into a&nbsp;<code>String</code>&nbsp;seperated by spaces.</p>"
      ]
    },
    {
      "cell_type": "code",
      "metadata": {
        "id": "0kfj966Jww3x",
        "colab_type": "code",
        "colab": {
          "base_uri": "https://localhost:8080/",
          "height": 158
        },
        "outputId": "4e47d3cf-0693-4d52-9065-650f309123bb"
      },
      "source": [
        "from sparknlp import Finisher\n",
        "finisher = Finisher()\n",
        "finisher = finisher\n",
        "# taking the lemma column\n",
        "finisher = finisher.setInputCols(['lemmas'])\n",
        "# seperating lemmas by a single space\n",
        "finisher = finisher.setAnnotationSplitSymbol(' ')\n",
        "finished_texts_df = finisher.transform(procd_texts_df)\n",
        "finished_texts_df.show(n=1, truncate=100, vertical=True)"
      ],
      "execution_count": 29,
      "outputs": [
        {
          "output_type": "stream",
          "text": [
            "-RECORD 0---------------------------------------------------------------------------------------------------------------\n",
            " filename        | file:/content/data/mini_newsgroups/rec.sport.baseball/102631                                         \n",
            " text            | Newsgroups: rec.sport.baseball\n",
            "Path: cantaloupe.srv.cs.cmu.edu!rochester!cornell!batcomputer!caen... \n",
            " newsgroup       | null                                                                                                 \n",
            " finished_lemmas | [Newsgroups, :, rec.sport.baseball, Path, :, cantaloupe.srv.cs.cmu.edu!rochester!cornell!batcompu... \n",
            "only showing top 1 row\n",
            "\n"
          ],
          "name": "stdout"
        }
      ]
    },
    {
      "cell_type": "markdown",
      "metadata": {
        "id": "vpa9aXT4w2xU",
        "colab_type": "text"
      },
      "source": [
        "<p>Normally, we'll be using the&nbsp;<code>.setOutputAsArray(True)</code>&nbsp;option so that the output is an&nbsp;<code>Array</code>instead of a&nbsp;<code>String</code>.</p>\n",
        "\n",
        "<p>Let's look at the final result on the first document.</p>"
      ]
    },
    {
      "cell_type": "code",
      "metadata": {
        "id": "8IQSc5hRw1Op",
        "colab_type": "code",
        "colab": {
          "base_uri": "https://localhost:8080/",
          "height": 54
        },
        "outputId": "8dc11c72-4a29-4207-e778-dc488e2449b3"
      },
      "source": [
        "finished_texts_df.select('finished_lemmas').take(1)"
      ],
      "execution_count": 30,
      "outputs": [
        {
          "output_type": "execute_result",
          "data": {
            "text/plain": [
              "[Row(finished_lemmas=['Newsgroups', ':', 'rec.sport.baseball', 'Path', ':', 'cantaloupe.srv.cs.cmu.edu!rochester!cornell!batcomputer!caen!zaphod.mps.ohio-state.edu!sdd.hp.com!decwrl!netcomsv!orchard.la.locus.com!prodnet.la.locus.com!cygnus.la.locus.com!aardvark', 'From', ':', 'aardvark@cygnus.la.locus.com', '(', 'Warren', 'Usun', ')', 'Subject', ':', 'rec.sport.baseball.fantasy', 'Message-ID', ':', '<1993Apr05.224438.101525@locus.com>', 'Sender', ':', 'news@locus.com', '(', 'Netnews', ')', 'Organization', ':', 'Locus', 'Computing', 'Corporation', ',', 'Los', 'Angeles', ',', 'California', 'Date', ':', 'Mon', ',', '05', 'Apr', '93', '22:44:38', 'GMT', 'Lines', ':', '40', 'April', '1', ',', '1993', 'I', 'be', 'participate', 'in', 'an', 'NL-league', 'that', 'use', 'standard', 'rotisserie', 'rule', 'except', 'that', 'the', 'follow', 'catagory', 'be', 'use', ':', 'For', 'position', 'player', ':', 'low', 'bat', 'average', 'strike-out', 'caught-stealing', 'error', 'For', 'pitcher', ':', 'loss', 'blow', 'save', 'high', 'ERA', \"'\", 'taters', 'allow', 'This', 'be', 'the', 'fifth', 'year', 'that', \"I've\", 'participate', 'in', 'this', 'Blowtisserie', 'league', '.', 'Last', 'year', 'I', 'win', 'the', 'pennant', 'due', 'primarily', 'to', 'the', 'fact', 'that', 'I', 'have', 'terrible', 'pitch', '.', 'I', 'would', 'like', 'to', 'low', 'i', 'bat', 'average', 'which', 'be', 'rather', 'high', 'because', 'I', 'do', 'have', 'Jose', 'Offerman', '(', 'who', 'make', 'up', 'for', 'this', 'by', 'help', 'i', 'lock', 'first', 'place', 'in', 'error', ').', 'Anyway', ',', 'someone', 'offer', ':', 'Andres', 'Gallaraga', 'for', 'Bud', 'Black', 'I', 'can', 'afford', 'to', 'give', 'up', 'Bud', 'Black', 'because', 'I', 'still', 'have', 'Kyle', 'Abbott', '.', 'However', ',', 'I', 'be', 'afraid', 'of', 'Andres', 'actually', 'do', 'well', 'this', 'season', '.', 'Should', 'I', 'make', 'the', 'trade', 'or', 'not', '?', 'Your', 'comment', 'will', 'be', 'appreciate', '.', '--', 'Warren', 'Usun', \"I'm\", 'one', 'with', 'the', 'Universe', '--', 'on', 'a', 'scale', 'from', '1', 'to', '10', '.'])]"
            ]
          },
          "metadata": {
            "tags": []
          },
          "execution_count": 30
        }
      ]
    },
    {
      "cell_type": "markdown",
      "metadata": {
        "id": "SNG2mFVSyB28",
        "colab_type": "text"
      },
      "source": [
        "<p>It doesn't look like much has been done here, but there is still a lot to unpack. In the next chapter, we will explain some basics of linguistics that will help us understand what these annotators are doing.<a contenteditable=\"false\" data-primary=\"\" data-startref=\"1.1_Getting_Started.html4\" data-type=\"indexterm\">&nbsp;</a><a contenteditable=\"false\" data-primary=\"deployment in production environment\" data-see=\"productionizing NLP applications\" data-type=\"indexterm\">&nbsp;</a><a contenteditable=\"false\" data-primary=\"emotion detection\" data-see=\"sentiment analysis and emotion detection\" data-type=\"indexterm\">&nbsp;</a><a contenteditable=\"false\" data-primary=\"Keras\" data-see=\"sequence modeling with Keras\" data-type=\"indexterm\">&nbsp;</a><a contenteditable=\"false\" data-primary=\"labeling, human\" data-see=\"human labeling\" data-type=\"indexterm\">&nbsp;</a><a contenteditable=\"false\" data-primary=\"libraries\" data-see=\"specific libraries\" data-type=\"indexterm\">&nbsp;</a><a contenteditable=\"false\" data-primary=\"natural language processing (NLP) basics\" data-secondary=\"libraries\" data-see=\"NLP libraries\" data-type=\"indexterm\">&nbsp;</a><a contenteditable=\"false\" data-primary=\"paragraph2vec\" data-see=\"doc2vec\" data-type=\"indexterm\">&nbsp;</a><a contenteditable=\"false\" data-primary=\"publishing\" data-see=\"productionizing NLP applications\" data-type=\"indexterm\">&nbsp;</a><a contenteditable=\"false\" data-primary=\"shingles\" data-see=\"N-grams\" data-type=\"indexterm\">&nbsp;</a><a contenteditable=\"false\" data-primary=\"Spark\" data-see=\"Apache Spark\" data-type=\"indexterm\">&nbsp;</a><a contenteditable=\"false\" data-primary=\"Spark MLlib\" data-see=\"MLlib\" data-type=\"indexterm\">&nbsp;</a><a contenteditable=\"false\" data-primary=\"text\" data-see=\"human labeling; object character recognition\" data-type=\"indexterm\">&nbsp;</a><a contenteditable=\"false\" data-primary=\"wikis\" data-see=\"knowledge bases\" data-type=\"indexterm\">&nbsp;</a><a contenteditable=\"false\" data-primary=\"CNNs\" data-see=\"convolutional neural networks\" data-type=\"indexterm\">&nbsp;</a><a contenteditable=\"false\" data-primary=\"RNNs\" data-see=\"recurrent neural networks\" data-type=\"indexterm\">&nbsp;</a></p>"
      ]
    }
  ]
}