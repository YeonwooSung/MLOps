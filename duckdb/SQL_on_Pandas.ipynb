{
  "nbformat": 4,
  "nbformat_minor": 0,
  "metadata": {
    "colab": {
      "provenance": []
    },
    "kernelspec": {
      "name": "python3",
      "display_name": "Python 3"
    },
    "language_info": {
      "name": "python"
    }
  },
  "cells": [
    {
      "cell_type": "markdown",
      "metadata": {
        "id": "mBHWHOhvCGqk"
      },
      "source": [
        "## **Practical SQL for Data Analysis**\n",
        "### What you can do *together with* Pandas\n",
        "\n"
      ]
    },
    {
      "cell_type": "code",
      "metadata": {
        "id": "rZshWSvDYGJ_",
        "colab": {
          "base_uri": "https://localhost:8080/"
        },
        "outputId": "221d48c1-cb5a-46c0-f236-351af935515f"
      },
      "source": [
        "!pip install --quiet duckdb"
      ],
      "execution_count": null,
      "outputs": [
        {
          "output_type": "stream",
          "text": [
            "\u001b[K     |████████████████████████████████| 8.5MB 8.5MB/s \n",
            "\u001b[?25h"
          ],
          "name": "stdout"
        }
      ]
    },
    {
      "cell_type": "code",
      "metadata": {
        "id": "PA0kyhY_X4UF"
      },
      "source": [
        "import pandas as pd\n",
        "import numpy as np\n",
        "\n",
        "import sqlite3\n",
        "import duckdb\n",
        "import time"
      ],
      "execution_count": null,
      "outputs": []
    },
    {
      "cell_type": "markdown",
      "metadata": {
        "id": "2EHkr4qXQK4r"
      },
      "source": [
        "**Preparation**\n",
        "\n",
        "Download the data and set up the Pandas data frames. We read the data into a Pandas DataFrame using DuckDB's built-in Parquet reader."
      ]
    },
    {
      "cell_type": "code",
      "metadata": {
        "id": "0uN62jfDMlLj"
      },
      "source": [
        "!wget -q https://github.com/cwida/duckdb-data/releases/download/v1.0/lineitemsf1.snappy.parquet"
      ],
      "execution_count": null,
      "outputs": []
    },
    {
      "cell_type": "code",
      "metadata": {
        "id": "OY-bw_UiOZN7"
      },
      "source": [
        "!wget -q https://github.com/cwida/duckdb-data/releases/download/v1.0/orders.parquet"
      ],
      "execution_count": null,
      "outputs": []
    },
    {
      "cell_type": "code",
      "metadata": {
        "id": "siC5p7oONAFr"
      },
      "source": [
        "lineitem = duckdb.query(\"SELECT * FROM 'lineitemsf1.snappy.parquet'\").to_df()\n",
        "orders = duckdb.query(\"SELECT * FROM 'orders.parquet'\").to_df()"
      ],
      "execution_count": null,
      "outputs": []
    },
    {
      "cell_type": "code",
      "metadata": {
        "id": "-ECk5BW2RcS0"
      },
      "source": [
        "con = duckdb.connect()\n",
        "con.execute('PRAGMA threads=2')\n",
        "\n",
        "\n",
        "def timeit(fun, name):\n",
        "    import time\n",
        "    start_time = time.monotonic()\n",
        "    fun()\n",
        "    return [name, time.monotonic() - start_time]\n",
        "\n",
        "\n",
        "def plot_results(results, title):\n",
        "    df = pd.DataFrame.from_dict({\n",
        "        'name': [x[0] for x in results],\n",
        "        'time': [x[1] for x in results]\n",
        "    })\n",
        "    print(title)\n",
        "    print(df)"
      ],
      "execution_count": null,
      "outputs": []
    },
    {
      "cell_type": "markdown",
      "metadata": {
        "id": "3HON-2DkQJTB"
      },
      "source": [
        "**Ungrouped Aggregates**\n",
        "\n",
        "This performs a simple set of ungrouped aggregates (sum, min, max, avg) over a column without any filters or other complex operations.\n",
        "\n",
        "\n",
        "\n"
      ]
    },
    {
      "cell_type": "code",
      "metadata": {
        "colab": {
          "base_uri": "https://localhost:8080/"
        },
        "id": "FYOX8ZZldf-K",
        "outputId": "7164ba6a-8b2a-44cc-f0cd-9a180e44ddaf"
      },
      "source": [
        "ungrouped_aggregate = '''\n",
        "    SELECT SUM(l_extendedprice), MIN(l_extendedprice), MAX(l_extendedprice), AVG(l_extendedprice) FROM lineitem\n",
        "'''\n",
        "\n",
        "def duckdb_ungrouped_aggregate(d_con):\n",
        "\tprint(d_con.query(ungrouped_aggregate).to_df())\n",
        "\n",
        "def duckdb_ungrouped_aggregate_1t():\n",
        "\tduckdb_ungrouped_aggregate(duckdb)\n",
        "\n",
        "def duckdb_ungrouped_aggregate_2t():\n",
        "\tduckdb_ungrouped_aggregate(con)\n",
        "\n",
        "def pandas_ungrouped_aggregate():\n",
        "  result = lineitem.groupby(\n",
        "    ['l_returnflag', 'l_linestatus']\n",
        "  ).agg(\n",
        "    Sum=('l_extendedprice', 'sum'),\n",
        "    Min=('l_extendedprice', 'min'),\n",
        "    Max=('l_extendedprice', 'max'),\n",
        "    Avg=('l_extendedprice', 'mean')\n",
        "  )\n",
        "  print(result)\n",
        "\t# print(lineitem.agg(Sum=('l_extendedprice', 'sum'), Min=('l_extendedprice', 'min'), Max=('l_extendedprice', 'max'), Avg=('l_extendedprice', 'mean')))\n",
        "\n",
        "ua_results = []\n",
        "ua_results.append(timeit(duckdb_ungrouped_aggregate_1t, 'DuckDB (1T)'))\n",
        "ua_results.append(timeit(duckdb_ungrouped_aggregate_2t, 'DuckDB (2T)'))\n",
        "ua_results.append(timeit(pandas_ungrouped_aggregate, 'Pandas'))\n",
        "plot_results(ua_results, 'Ungrouped Aggregate')\n"
      ],
      "execution_count": null,
      "outputs": [
        {
          "output_type": "stream",
          "text": [
            "   sum(l_extendedprice)  ...  avg(l_extendedprice)\n",
            "0          2.295773e+11  ...          38255.138485\n",
            "\n",
            "[1 rows x 4 columns]\n",
            "   sum(l_extendedprice)  ...  avg(l_extendedprice)\n",
            "0          2.295773e+11  ...          38255.138485\n",
            "\n",
            "[1 rows x 4 columns]\n",
            "                                    Sum    Min       Max           Avg\n",
            "l_returnflag l_linestatus                                             \n",
            "A            F             5.658655e+10  904.0  104949.5  38273.129735\n",
            "N            F             1.487505e+09  920.0  104049.5  38284.467761\n",
            "             O             1.149352e+11  901.0  104749.5  38248.015609\n",
            "R            F             5.656804e+10  904.0  104899.5  38250.854626\n",
            "Ungrouped Aggregate\n",
            "          name      time\n",
            "0  DuckDB (1T)  0.073622\n",
            "1  DuckDB (2T)  0.056383\n",
            "2       Pandas  0.894141\n"
          ],
          "name": "stdout"
        }
      ]
    },
    {
      "cell_type": "code",
      "metadata": {
        "id": "aGZQBZKdClRM"
      },
      "source": [],
      "execution_count": null,
      "outputs": []
    },
    {
      "cell_type": "markdown",
      "metadata": {
        "id": "Fq_vlfwTQIaE"
      },
      "source": [
        "**Grouped Aggregates**\n",
        "\n",
        "This performs the same set of aggregates, but this time grouped by two other columns (*l_returnflag* and *l_linestatus*).\n",
        "\n"
      ]
    },
    {
      "cell_type": "code",
      "metadata": {
        "colab": {
          "base_uri": "https://localhost:8080/"
        },
        "id": "7o4QB7bJYBbm",
        "outputId": "c269a87b-99aa-4f96-e9e6-e5840411dfd5"
      },
      "source": [
        "grouped_aggregate = '''\n",
        "SELECT l_returnflag,\n",
        "       l_linestatus,\n",
        "       SUM(l_extendedprice),\n",
        "       MIN(l_extendedprice),\n",
        "       MAX(l_extendedprice),\n",
        "       AVG(l_extendedprice)\n",
        "FROM lineitem\n",
        "GROUP BY l_returnflag,\n",
        "         l_linestatus\n",
        "'''\n",
        "\n",
        "def duckdb_grouped_aggregate(d_con):\n",
        "    print(d_con.query(grouped_aggregate).to_df())\n",
        "\n",
        "def duckdb_grouped_aggregate_1t():\n",
        "\t  duckdb_grouped_aggregate(duckdb)\n",
        "\n",
        "def duckdb_grouped_aggregate_2t():\n",
        "\t  duckdb_grouped_aggregate(con)\n",
        "\n",
        "def pandas_grouped_aggregate():\n",
        "\t  print(lineitem.groupby(['l_returnflag', 'l_linestatus']).agg(Sum=('l_extendedprice', 'sum'), Min=('l_extendedprice', 'min'), Max=('l_extendedprice', 'max'), Avg=('l_extendedprice', 'mean')))\n",
        "\n",
        "results = []\n",
        "results.append(timeit(duckdb_grouped_aggregate_1t, 'DuckDB (1T)'))\n",
        "results.append(timeit(duckdb_grouped_aggregate_2t, 'DuckDB (2T)'))\n",
        "results.append(timeit(pandas_grouped_aggregate, 'Pandas'))\n",
        "plot_results(results, 'Grouped Aggregate')"
      ],
      "execution_count": null,
      "outputs": [
        {
          "output_type": "stream",
          "text": [
            "  l_returnflag l_linestatus  ...  max(l_extendedprice)  avg(l_extendedprice)\n",
            "0            N            O  ...              104749.5          38248.015609\n",
            "1            R            F  ...              104899.5          38250.854626\n",
            "2            A            F  ...              104949.5          38273.129735\n",
            "3            N            F  ...              104049.5          38284.467761\n",
            "\n",
            "[4 rows x 6 columns]\n",
            "  l_returnflag l_linestatus  ...  max(l_extendedprice)  avg(l_extendedprice)\n",
            "0            N            O  ...              104749.5          38248.015609\n",
            "1            R            F  ...              104899.5          38250.854626\n",
            "2            A            F  ...              104949.5          38273.129735\n",
            "3            N            F  ...              104049.5          38284.467761\n",
            "\n",
            "[4 rows x 6 columns]\n",
            "                                    Sum    Min       Max           Avg\n",
            "l_returnflag l_linestatus                                             \n",
            "A            F             5.658655e+10  904.0  104949.5  38273.129735\n",
            "N            F             1.487505e+09  920.0  104049.5  38284.467761\n",
            "             O             1.149352e+11  901.0  104749.5  38248.015609\n",
            "R            F             5.656804e+10  904.0  104899.5  38250.854626\n",
            "Grouped Aggregate\n",
            "          name      time\n",
            "0  DuckDB (1T)  0.446533\n",
            "1  DuckDB (2T)  0.351474\n",
            "2       Pandas  0.934583\n"
          ],
          "name": "stdout"
        }
      ]
    },
    {
      "cell_type": "markdown",
      "metadata": {
        "id": "4cIqD0gcQ6Rn"
      },
      "source": [
        "**Grouped Aggregate with a Filter**\n",
        "\n",
        "This benchmark performs a grouped aggregate with a filter over the shipdate column.\n",
        "\n",
        "As Pandas does not perform any projection pushdown, we include a version where we manually perform the projection pushdown by filtering only the columns we actually need before running the filter and aggregate.\n",
        "\n",
        "This optimization is performed automatically in DuckDB by the query optimizer."
      ]
    },
    {
      "cell_type": "code",
      "metadata": {
        "colab": {
          "base_uri": "https://localhost:8080/"
        },
        "id": "ZA8W1lrcX6_y",
        "outputId": "98c3aa7c-6363-444b-801f-c91096eb8cdf"
      },
      "source": [
        "def duckdb_grouped_aggregate_filter(d_con):\n",
        "\t  print(d_con.query('''\n",
        "SELECT l_returnflag,\n",
        "       l_linestatus,\n",
        "       SUM(l_extendedprice),\n",
        "       MIN(l_extendedprice),\n",
        "       MAX(l_extendedprice),\n",
        "       AVG(l_extendedprice)\n",
        "FROM lineitem\n",
        "WHERE\n",
        "    l_shipdate <= DATE '1998-09-02'\n",
        "GROUP BY l_returnflag,\n",
        "         l_linestatus\n",
        "''').to_df())\n",
        "\n",
        "def duckdb_grouped_aggregate_filter_1t():\n",
        "\t  duckdb_grouped_aggregate_filter(duckdb)\n",
        "\n",
        "def duckdb_grouped_aggregate_filter_2t():\n",
        "\t  duckdb_grouped_aggregate_filter(con)\n",
        "\n",
        "def pandas_grouped_aggregate_filter():\n",
        "    filtered_df = lineitem[lineitem['l_shipdate'] < \"1998-09-02\"]\n",
        "    print(filtered_df.groupby(['l_returnflag', 'l_linestatus']).agg(Sum=('l_extendedprice', 'sum'), Min=('l_extendedprice', 'min'), Max=('l_extendedprice', 'max'), Avg=('l_extendedprice', 'mean')))\n",
        "\n",
        "def pandas_grouped_aggregate_filter_projection_pushdown():\n",
        "    pushed_down_df = lineitem[['l_shipdate', 'l_returnflag', 'l_linestatus', 'l_extendedprice']]\n",
        "    filtered_df = pushed_down_df[pushed_down_df['l_shipdate'] < \"1998-09-02\"]\n",
        "    print(filtered_df.groupby(['l_returnflag', 'l_linestatus']).agg(Sum=('l_extendedprice', 'sum'), Min=('l_extendedprice', 'min'), Max=('l_extendedprice', 'max'), Avg=('l_extendedprice', 'mean')))\n",
        "\n",
        "results = []\n",
        "results.append(timeit(duckdb_grouped_aggregate_filter_1t, 'DuckDB (1T)'))\n",
        "results.append(timeit(duckdb_grouped_aggregate_filter_2t, 'DuckDB (2T)'))\n",
        "results.append(timeit(pandas_grouped_aggregate_filter, 'Pandas'))\n",
        "results.append(timeit(pandas_grouped_aggregate_filter_projection_pushdown, 'Pandas (manual pushdown)'))\n",
        "plot_results(results, 'Grouped Aggregate + Filter')\n"
      ],
      "execution_count": null,
      "outputs": [
        {
          "output_type": "stream",
          "text": [
            "  l_returnflag l_linestatus  ...  max(l_extendedprice)  avg(l_extendedprice)\n",
            "0            N            O  ...              104749.5          38249.117989\n",
            "1            R            F  ...              104899.5          38250.854626\n",
            "2            A            F  ...              104949.5          38273.129735\n",
            "3            N            F  ...              104049.5          38284.467761\n",
            "\n",
            "[4 rows x 6 columns]\n",
            "  l_returnflag l_linestatus  ...  max(l_extendedprice)  avg(l_extendedprice)\n",
            "0            N            O  ...              104749.5          38249.117989\n",
            "1            A            F  ...              104949.5          38273.129735\n",
            "2            R            F  ...              104899.5          38250.854626\n",
            "3            N            F  ...              104049.5          38284.467761\n",
            "\n",
            "[4 rows x 6 columns]\n",
            "                                    Sum    Min       Max           Avg\n",
            "l_returnflag l_linestatus                                             \n",
            "A            F             5.658655e+10  904.0  104949.5  38273.129735\n",
            "N            F             1.487505e+09  920.0  104049.5  38284.467761\n",
            "             O             1.116318e+11  901.0  104749.5  38249.322811\n",
            "R            F             5.656804e+10  904.0  104899.5  38250.854626\n",
            "                                    Sum    Min       Max           Avg\n",
            "l_returnflag l_linestatus                                             \n",
            "A            F             5.658655e+10  904.0  104949.5  38273.129735\n",
            "N            F             1.487505e+09  920.0  104049.5  38284.467761\n",
            "             O             1.116318e+11  901.0  104749.5  38249.322811\n",
            "R            F             5.656804e+10  904.0  104899.5  38250.854626\n",
            "Grouped Aggregate + Filter\n",
            "                       name      time\n",
            "0               DuckDB (1T)  0.628067\n",
            "1               DuckDB (2T)  0.450737\n",
            "2                    Pandas  2.671236\n",
            "3  Pandas (manual pushdown)  2.217210\n"
          ],
          "name": "stdout"
        }
      ]
    },
    {
      "cell_type": "markdown",
      "metadata": {
        "id": "1VTWvm1nSPhe"
      },
      "source": [
        "**Grouped Aggregate with Join and Filter**\n",
        "\n",
        "In this benchmark we expand on the previous benchmark by including a join and a filter on the joined-on table.\n",
        "\n",
        "Note that the naive version in Pandas is extremely slow, as it performs a full join of the entire table including all the columns that are not used and all the rows that will be filtered out. For that reason we have included a separate benchmark in which we have manually optimized the Pandas code by pushing down the projections and the filters.\n",
        "\n",
        "These optimizations are performed automatically in DuckDB by the query optimizer."
      ]
    },
    {
      "cell_type": "code",
      "metadata": {
        "id": "oux8DH0z8ktF"
      },
      "source": [
        "\n",
        "# projection & filter on lineitem table\n",
        "lineitem_projected = lineitem[\n",
        "    ['l_shipdate',\n",
        "    'l_orderkey',\n",
        "    'l_linestatus',\n",
        "    'l_returnflag',\n",
        "    'l_extendedprice']\n",
        "]\n",
        "lineitem_filtered = lineitem_projected[lineitem_projected['l_shipdate'] < \"1998-09-02\"]\n",
        "# projection and filter on order table\n",
        "orders_projected = orders[\n",
        "    ['o_orderkey',\n",
        "    'o_orderstatus']\n",
        "]\n",
        "orders_filtered = orders_projected[orders_projected['o_orderstatus'] == 'O']\n",
        "# perform the join\n",
        "merged = lineitem_filtered.merge(\n",
        "    orders_filtered,\n",
        "    left_on='l_orderkey',\n",
        "    right_on='o_orderkey'\n",
        ")\n",
        "# perform the aggregate\n",
        "result = merged.groupby(\n",
        "    ['l_returnflag', 'l_linestatus']\n",
        ").agg(\n",
        "    Sum=('l_extendedprice', 'sum'),\n",
        "    Min=('l_extendedprice', 'min'),\n",
        "    Max=('l_extendedprice', 'max'),\n",
        "    Avg=('l_extendedprice', 'mean')\n",
        ")"
      ],
      "execution_count": null,
      "outputs": []
    },
    {
      "cell_type": "code",
      "metadata": {
        "colab": {
          "base_uri": "https://localhost:8080/",
          "height": 111
        },
        "id": "8HcFztq39oMI",
        "outputId": "3888da61-6b5e-4a06-c41c-9d49e21f36a7"
      },
      "source": [
        "result"
      ],
      "execution_count": null,
      "outputs": [
        {
          "output_type": "execute_result",
          "data": {
            "text/html": [
              "<div>\n",
              "<style scoped>\n",
              "    .dataframe tbody tr th:only-of-type {\n",
              "        vertical-align: middle;\n",
              "    }\n",
              "\n",
              "    .dataframe tbody tr th {\n",
              "        vertical-align: top;\n",
              "    }\n",
              "\n",
              "    .dataframe thead th {\n",
              "        text-align: right;\n",
              "    }\n",
              "</style>\n",
              "<table border=\"1\" class=\"dataframe\">\n",
              "  <thead>\n",
              "    <tr style=\"text-align: right;\">\n",
              "      <th></th>\n",
              "      <th></th>\n",
              "      <th>Sum</th>\n",
              "      <th>Min</th>\n",
              "      <th>Max</th>\n",
              "      <th>Avg</th>\n",
              "    </tr>\n",
              "    <tr>\n",
              "      <th>l_returnflag</th>\n",
              "      <th>l_linestatus</th>\n",
              "      <th></th>\n",
              "      <th></th>\n",
              "      <th></th>\n",
              "      <th></th>\n",
              "    </tr>\n",
              "  </thead>\n",
              "  <tbody>\n",
              "    <tr>\n",
              "      <th>N</th>\n",
              "      <th>O</th>\n",
              "      <td>1.080448e+11</td>\n",
              "      <td>901.0</td>\n",
              "      <td>104749.5</td>\n",
              "      <td>38250.662806</td>\n",
              "    </tr>\n",
              "  </tbody>\n",
              "</table>\n",
              "</div>"
            ],
            "text/plain": [
              "                                    Sum    Min       Max           Avg\n",
              "l_returnflag l_linestatus                                             \n",
              "N            O             1.080448e+11  901.0  104749.5  38250.662806"
            ]
          },
          "metadata": {
            "tags": []
          },
          "execution_count": 25
        }
      ]
    },
    {
      "cell_type": "code",
      "metadata": {
        "colab": {
          "base_uri": "https://localhost:8080/"
        },
        "id": "XKph90VWYs92",
        "outputId": "6578cad1-e90a-4fca-f6b7-c1ba00987232"
      },
      "source": [
        "def duckdb_grouped_aggregate_filter_join(d_con):\n",
        "\t\tprint(d_con.query('''\n",
        "SELECT l_returnflag,\n",
        "       l_linestatus,\n",
        "       sum(l_extendedprice),\n",
        "       min(l_extendedprice),\n",
        "       max(l_extendedprice),\n",
        "       avg(l_extendedprice)\n",
        "FROM lineitem lineitem\n",
        "JOIN orders orders ON (l_orderkey=o_orderkey)\n",
        "WHERE l_shipdate <= DATE '1998-09-02'\n",
        "  AND o_orderstatus='O'\n",
        "GROUP BY l_returnflag,\n",
        "         l_linestatus\n",
        "''').to_df())\n",
        "\n",
        "\n",
        "def duckdb_grouped_aggregate_filter_join_1t():\n",
        "\t\tduckdb_grouped_aggregate_filter_join(duckdb)\n",
        "\n",
        "\n",
        "def duckdb_grouped_aggregate_filter_join_2t():\n",
        "\t\tduckdb_grouped_aggregate_filter_join(con)\n",
        "\n",
        "\n",
        "def pandas_grouped_aggregate_filter_join():\n",
        "\t\tmerged = lineitem.merge(orders, left_on='l_orderkey', right_on='o_orderkey')\n",
        "\t\tfiltered_a = merged[merged['l_shipdate'] < \"1998-09-02\"]\n",
        "\t\tfiltered_b = filtered_a[filtered_a['o_orderstatus'] == 'O']\n",
        "\t\tresult = filtered_b.groupby(['l_returnflag', 'l_linestatus']).agg(Sum=('l_extendedprice', 'sum'), Min=('l_extendedprice', 'min'), Max=('l_extendedprice', 'max'), Avg=('l_extendedprice', 'mean'))\n",
        "\t\tprint(result)\n",
        "\n",
        "\n",
        "def pandas_grouped_aggregate_filter_join_manual_pushdown():\n",
        "\t\tlineitem_projected = lineitem[['l_shipdate', 'l_orderkey', 'l_linestatus', 'l_returnflag', 'l_extendedprice']]\n",
        "\t\tlineitem_filtered = lineitem_projected[lineitem_projected['l_shipdate'] < \"1998-09-02\"]\n",
        "\t\torders_projected = orders[['o_orderkey', 'o_orderstatus']]\n",
        "\t\torders_filtered = orders_projected[orders_projected['o_orderstatus'] == 'O']\n",
        "\t\tmerged = lineitem_filtered.merge(orders_filtered, left_on='l_orderkey', right_on='o_orderkey')\n",
        "\t\tresult = merged.groupby(['l_returnflag', 'l_linestatus']).agg(Sum=('l_extendedprice', 'sum'), Min=('l_extendedprice', 'min'), Max=('l_extendedprice', 'max'), Avg=('l_extendedprice', 'mean'))\n",
        "\t\tprint(result)\n",
        "\n",
        "\n",
        "results = []\n",
        "results.append(timeit(duckdb_grouped_aggregate_filter_join_1t, 'DuckDB (1T)'))\n",
        "results.append(timeit(duckdb_grouped_aggregate_filter_join_2t, 'DuckDB (2T)'))\n",
        "results.append(timeit(pandas_grouped_aggregate_filter_join, 'Pandas'))\n",
        "results.append(timeit(pandas_grouped_aggregate_filter_join_manual_pushdown, 'Pandas (manual pushdown)'))\n",
        "plot_results(results, 'Grouped Aggregate Join')\n"
      ],
      "execution_count": null,
      "outputs": [
        {
          "output_type": "stream",
          "text": [
            "  l_returnflag l_linestatus  ...  max(l_extendedprice)  avg(l_extendedprice)\n",
            "0            N            O  ...              104749.5          38250.450307\n",
            "\n",
            "[1 rows x 6 columns]\n",
            "  l_returnflag l_linestatus  ...  max(l_extendedprice)  avg(l_extendedprice)\n",
            "0            N            O  ...              104749.5          38250.450307\n",
            "\n",
            "[1 rows x 6 columns]\n",
            "                                    Sum    Min       Max           Avg\n",
            "l_returnflag l_linestatus                                             \n",
            "N            O             1.080448e+11  901.0  104749.5  38250.662806\n",
            "                                    Sum    Min       Max           Avg\n",
            "l_returnflag l_linestatus                                             \n",
            "N            O             1.080448e+11  901.0  104749.5  38250.662806\n",
            "Grouped Aggregate Join\n",
            "                       name       time\n",
            "0               DuckDB (1T)   0.766380\n",
            "1               DuckDB (2T)   0.548619\n",
            "2                    Pandas  10.665751\n",
            "3  Pandas (manual pushdown)   3.418275\n"
          ],
          "name": "stdout"
        }
      ]
    },
    {
      "cell_type": "markdown",
      "metadata": {
        "id": "MbzbpQjPgNBJ"
      },
      "source": [
        "# Appendix A: There and back again: Transferring data from Pandas to a SQL engine and back\n",
        "\n",
        "As Appendix A relies on the presence of an external PostgreSQL database server, the code cannot be executed in colab. The source code can be found here: https://gist.github.com/hannesmuehleisen/a95a39a1eda63aeb0ca13fd82d1ba49c\n"
      ]
    },
    {
      "cell_type": "markdown",
      "metadata": {
        "id": "PFcRX09mbUoy"
      },
      "source": [
        "# Appendix B: PandasSQL\n",
        "\n",
        "Note: we cannot run this on the original dataset, as colab will run out of memory and crash. Instead for the benchmark we add a sample clause to reduce the data set size to 10% of the original data set size."
      ]
    },
    {
      "cell_type": "code",
      "metadata": {
        "id": "NBwdwr1ubZbC",
        "colab": {
          "base_uri": "https://localhost:8080/"
        },
        "outputId": "d0e4c313-338c-41b4-b25b-458656958a3c"
      },
      "source": [
        "!pip install --quiet pandasql"
      ],
      "execution_count": null,
      "outputs": [
        {
          "output_type": "stream",
          "text": [
            "  Building wheel for pandasql (setup.py) ... \u001b[?25l\u001b[?25hdone\n"
          ],
          "name": "stdout"
        }
      ]
    },
    {
      "cell_type": "code",
      "metadata": {
        "id": "QsIpOGHbbWxF"
      },
      "source": [
        "import pandasql as psql\n",
        "pysqldf = lambda q: psql.sqldf(q, globals())\n"
      ],
      "execution_count": null,
      "outputs": []
    },
    {
      "cell_type": "code",
      "metadata": {
        "id": "KtA6Kd6ee_r5"
      },
      "source": [
        "lineitem_sample = duckdb.query(\"SELECT * FROM 'lineitemsf1.snappy.parquet' USING SAMPLE 10%\").to_df()"
      ],
      "execution_count": null,
      "outputs": []
    },
    {
      "cell_type": "code",
      "metadata": {
        "colab": {
          "base_uri": "https://localhost:8080/"
        },
        "id": "TaYDvPyfbXzv",
        "outputId": "a7e0892c-8f5a-48a3-a980-da4e17286b35"
      },
      "source": [
        "ungrouped_aggregate = '''\n",
        "    SELECT SUM(l_extendedprice), MIN(l_extendedprice), MAX(l_extendedprice), AVG(l_extendedprice) FROM lineitem_sample\n",
        "'''\n",
        "\n",
        "def duckdb_ungrouped_aggregate(d_con):\n",
        "\t\tprint(d_con.query(ungrouped_aggregate).to_df())\n",
        "\n",
        "def duckdb_ungrouped_aggregate_1t():\n",
        "\t\tduckdb_ungrouped_aggregate(duckdb)\n",
        "\n",
        "def duckdb_ungrouped_aggregate_2t():\n",
        "\t\tduckdb_ungrouped_aggregate(con)\n",
        "\n",
        "def pandas_ungrouped_aggregate():\n",
        "\t\tprint(lineitem_sample.agg(Sum=('l_extendedprice', 'sum'), Min=('l_extendedprice', 'min'), Max=('l_extendedprice', 'max'), Avg=('l_extendedprice', 'mean')))\n",
        "\n",
        "def ungrouped_aggregate_pandasql():\n",
        "  \tprint(pysqldf(ungrouped_aggregate))\n",
        "\n",
        "\n",
        "ua_results = []\n",
        "ua_results.append(timeit(duckdb_ungrouped_aggregate_1t, 'DuckDB (1T)'))\n",
        "ua_results.append(timeit(duckdb_ungrouped_aggregate_2t, 'DuckDB (2T)'))\n",
        "ua_results.append(timeit(pandas_ungrouped_aggregate, 'Pandas'))\n",
        "ua_results.append(timeit(ungrouped_aggregate_pandasql, 'PandaSQL'))\n",
        "plot_results(ua_results, 'Ungrouped Aggregate')"
      ],
      "execution_count": null,
      "outputs": [
        {
          "output_type": "stream",
          "text": [
            "   sum(l_extendedprice)  ...  avg(l_extendedprice)\n",
            "0          2.235921e+10  ...          38270.334424\n",
            "\n",
            "[1 rows x 4 columns]\n",
            "   sum(l_extendedprice)  ...  avg(l_extendedprice)\n",
            "0          2.235921e+10  ...          38270.334424\n",
            "\n",
            "[1 rows x 4 columns]\n",
            "     l_extendedprice\n",
            "Sum     2.235921e+10\n",
            "Min     9.010000e+02\n",
            "Max     1.048995e+05\n",
            "Avg     3.827033e+04\n",
            "   SUM(l_extendedprice)  ...  AVG(l_extendedprice)\n",
            "0          2.235921e+10  ...          38270.334424\n",
            "\n",
            "[1 rows x 4 columns]\n",
            "Ungrouped Aggregate\n",
            "          name       time\n",
            "0  DuckDB (1T)   0.021568\n",
            "1  DuckDB (2T)   0.018576\n",
            "2       Pandas   0.017274\n",
            "3     PandaSQL  28.341653\n"
          ],
          "name": "stdout"
        }
      ]
    },
    {
      "cell_type": "markdown",
      "metadata": {
        "id": "huqp4XYSKVM8"
      },
      "source": [
        "# Appendix C: Directly querying Parquet files\n",
        "\n",
        "In the benchmarks above, we fully read the parquet files into Pandas. However, DuckDB also has the capability of directly running queries on top of Parquet files. In this appendix, we show the performance of this compared to loading the file into Python first.\n",
        "\n",
        "You can even use the wildcard syntax to run queries on multiple Parquet files in the same folder and create a unified single-table view over them (as long as they have the same schema).\n"
      ]
    },
    {
      "cell_type": "code",
      "metadata": {
        "colab": {
          "base_uri": "https://localhost:8080/"
        },
        "id": "4GlaFMEjLa5e",
        "outputId": "cbf4211a-4607-4f33-9377-a199a20e742c"
      },
      "source": [
        "# need to install pyarrow for pandas parquet reading\n",
        "!pip install pyarrow"
      ],
      "execution_count": null,
      "outputs": [
        {
          "output_type": "stream",
          "text": [
            "Requirement already satisfied: pyarrow in /usr/local/lib/python3.7/dist-packages (3.0.0)\n",
            "Requirement already satisfied: numpy>=1.16.6 in /usr/local/lib/python3.7/dist-packages (from pyarrow) (1.19.5)\n"
          ],
          "name": "stdout"
        }
      ]
    },
    {
      "cell_type": "code",
      "metadata": {
        "id": "ZsQ5TBgx4TM9",
        "colab": {
          "base_uri": "https://localhost:8080/"
        },
        "outputId": "f1715d2b-0c0b-4326-8160-c26f2d9e0fdf"
      },
      "source": [
        "# set up the view\n",
        "parquet_con = duckdb.connect()\n",
        "parquet_con.execute(\"CREATE VIEW lineitem_parquet AS SELECT * FROM 'lineitemsf1.snappy.parquet'\")\n",
        "parquet_con.execute(\"CREATE VIEW orders_parquet AS SELECT * FROM 'orders.parquet'\")\n"
      ],
      "execution_count": null,
      "outputs": [
        {
          "output_type": "execute_result",
          "data": {
            "text/plain": [
              "<duckdb.DuckDBPyConnection at 0x7f169f58c4b0>"
            ]
          },
          "metadata": {
            "tags": []
          },
          "execution_count": 38
        }
      ]
    },
    {
      "cell_type": "markdown",
      "metadata": {
        "id": "kDkOq5-HPoJL"
      },
      "source": [
        "# Ungrouped Aggregate"
      ]
    },
    {
      "cell_type": "code",
      "metadata": {
        "colab": {
          "base_uri": "https://localhost:8080/"
        },
        "id": "Zy5RWbXELC1z",
        "outputId": "86380493-3423-4d49-a141-8a26bb67b4cf"
      },
      "source": [
        "ungrouped_aggregate = '''\n",
        "    SELECT SUM(l_extendedprice), MIN(l_extendedprice), MAX(l_extendedprice), AVG(l_extendedprice) FROM lineitem_parquet\n",
        "'''\n",
        "\n",
        "def duckdb_parquet_query(d_con):\n",
        "\t  print(d_con.query(ungrouped_aggregate).to_df())\n",
        "\n",
        "def duckdb_ungrouped_parquet_1t():\n",
        "    parquet_con.execute('PRAGMA threads=1')\n",
        "    duckdb_ungrouped_aggregate(parquet_con)\n",
        "\n",
        "def duckdb_ungrouped_parquet_2t():\n",
        "    parquet_con.execute('PRAGMA threads=2')\n",
        "    duckdb_ungrouped_aggregate(parquet_con)\n",
        "\n",
        "def pandas_ungrouped_aggregate():\n",
        "\t  print(lineitem.agg(Sum=('l_extendedprice', 'sum'), Min=('l_extendedprice', 'min'), Max=('l_extendedprice', 'max'), Avg=('l_extendedprice', 'mean')))\n",
        "\n",
        "def pandas_ungrouped_aggregate_parquet_load():\n",
        "    lineitem_pandas_parquet = pd.read_parquet('lineitemsf1.snappy.parquet')\n",
        "    print(lineitem_pandas_parquet.agg(Sum=('l_extendedprice', 'sum'), Min=('l_extendedprice', 'min'), Max=('l_extendedprice', 'max'), Avg=('l_extendedprice', 'mean')))\n",
        "\n",
        "def pandas_ungrouped_aggregate_parquet_load_pushdown():\n",
        "    lineitem_pandas_parquet = pd.read_parquet('lineitemsf1.snappy.parquet', columns=['l_extendedprice'])\n",
        "    print(lineitem_pandas_parquet.agg(Sum=('l_extendedprice', 'sum'), Min=('l_extendedprice', 'min'), Max=('l_extendedprice', 'max'), Avg=('l_extendedprice', 'mean')))\n",
        "\n",
        "\n",
        "ua_results = []\n",
        "ua_results.append(timeit(duckdb_ungrouped_parquet_1t, 'DuckDB (1 Thread)'))\n",
        "ua_results.append(timeit(duckdb_ungrouped_parquet_2t, 'DuckDB (2 Threads)'))\n",
        "ua_results.append(timeit(pandas_ungrouped_aggregate, 'Pandas'))\n",
        "ua_results.append(timeit(pandas_ungrouped_aggregate_parquet_load, 'Pandas + Parquet Load'))\n",
        "ua_results.append(timeit(pandas_ungrouped_aggregate_parquet_load_pushdown, 'Pandas + Parquet Load (Pushdown)'))\n",
        "plot_results(ua_results, 'Ungrouped Aggregate (Parquet)')"
      ],
      "execution_count": null,
      "outputs": [
        {
          "output_type": "stream",
          "text": [
            "   sum(l_extendedprice)  ...  avg(l_extendedprice)\n",
            "0          2.295773e+11  ...          38255.138485\n",
            "\n",
            "[1 rows x 4 columns]\n",
            "   sum(l_extendedprice)  ...  avg(l_extendedprice)\n",
            "0          2.295773e+11  ...          38255.138485\n",
            "\n",
            "[1 rows x 4 columns]\n",
            "     l_extendedprice\n",
            "Sum     2.295773e+11\n",
            "Min     9.010000e+02\n",
            "Max     1.049495e+05\n",
            "Avg     3.825514e+04\n",
            "     l_extendedprice\n",
            "Sum     2.295773e+11\n",
            "Min     9.010000e+02\n",
            "Max     1.049495e+05\n",
            "Avg     3.825514e+04\n",
            "     l_extendedprice\n",
            "Sum     2.295773e+11\n",
            "Min     9.010000e+02\n",
            "Max     1.049495e+05\n",
            "Avg     3.825514e+04\n",
            "Ungrouped Aggregate (Parquet)\n",
            "                               name      time\n",
            "0                 DuckDB (1 Thread)  0.212070\n",
            "1                DuckDB (2 Threads)  0.146053\n",
            "2                            Pandas  0.063777\n",
            "3             Pandas + Parquet Load  7.984914\n",
            "4  Pandas + Parquet Load (Pushdown)  0.177484\n"
          ],
          "name": "stdout"
        }
      ]
    },
    {
      "cell_type": "markdown",
      "metadata": {
        "id": "YzJD2o3MPtdQ"
      },
      "source": [
        "# Grouped Aggregate with Join and Filter"
      ]
    },
    {
      "cell_type": "code",
      "metadata": {
        "colab": {
          "base_uri": "https://localhost:8080/"
        },
        "id": "S3iX6MpMLmmD",
        "outputId": "79c73b82-9f92-4d05-d921-a9b8f8ce80c9"
      },
      "source": [
        "def duckdb_grouped_aggregate_filter_join_pq(d_con):\n",
        "\t  print(d_con.query('''\n",
        "SELECT l_returnflag,\n",
        "       l_linestatus,\n",
        "       sum(l_extendedprice),\n",
        "       min(l_extendedprice),\n",
        "       max(l_extendedprice),\n",
        "       avg(l_extendedprice)\n",
        "FROM lineitem_parquet lineitem\n",
        "JOIN orders_parquet orders ON (l_orderkey=o_orderkey)\n",
        "WHERE l_shipdate <= DATE '1998-09-02'\n",
        "  AND o_orderstatus='O'\n",
        "GROUP BY l_returnflag,\n",
        "         l_linestatus\n",
        "''').to_df())\n",
        "\n",
        "\n",
        "def duckdb_grouped_aggregate_filter_join_pq_1t():\n",
        "    parquet_con.execute('PRAGMA threads=1')\n",
        "    duckdb_grouped_aggregate_filter_join_pq(parquet_con)\n",
        "\n",
        "\n",
        "def duckdb_grouped_aggregate_filter_join_pq_2t():\n",
        "    parquet_con.execute('PRAGMA threads=2')\n",
        "    duckdb_grouped_aggregate_filter_join_pq(parquet_con)\n",
        "\n",
        "\n",
        "def pandas_grouped_aggregate_filter_join_pq():\n",
        "    lineitem_pandas_parquet = pd.read_parquet('lineitemsf1.snappy.parquet')\n",
        "    orders_pandas_parquet = pd.read_parquet('orders.parquet')\n",
        "    merged = lineitem_pandas_parquet.merge(orders, left_on='l_orderkey', right_on='o_orderkey')\n",
        "    filtered_a = merged[merged['l_shipdate'] < \"1998-09-02\"]\n",
        "    filtered_b = filtered_a[filtered_a['o_orderstatus'] == 'O']\n",
        "    result = filtered_b.groupby(['l_returnflag', 'l_linestatus']).agg(Sum=('l_extendedprice', 'sum'), Min=('l_extendedprice', 'min'), Max=('l_extendedprice', 'max'), Avg=('l_extendedprice', 'mean'))\n",
        "    print(result)\n",
        "\n",
        "\n",
        "def pandas_grouped_aggregate_filter_join_manual_pushdown_pq():\n",
        "    lineitem_projected = pd.read_parquet('lineitemsf1.snappy.parquet', columns=['l_shipdate', 'l_orderkey', 'l_linestatus', 'l_returnflag', 'l_extendedprice'])\n",
        "    orders_projected = pd.read_parquet('orders.parquet', columns=['o_orderkey', 'o_orderstatus'])\n",
        "    lineitem_filtered = lineitem_projected[lineitem_projected['l_shipdate'] < \"1998-09-02\"]\n",
        "    orders_filtered = orders_projected[orders_projected['o_orderstatus'] == 'O']\n",
        "    merged = lineitem_filtered.merge(orders_filtered, left_on='l_orderkey', right_on='o_orderkey')\n",
        "    result = merged.groupby(['l_returnflag', 'l_linestatus']).agg(Sum=('l_extendedprice', 'sum'), Min=('l_extendedprice', 'min'), Max=('l_extendedprice', 'max'), Avg=('l_extendedprice', 'mean'))\n",
        "    print(result)\n",
        "\n",
        "\n",
        "\n",
        "results = []\n",
        "results.append(timeit(duckdb_grouped_aggregate_filter_join_pq_1t, 'DuckDB (1T)'))\n",
        "results.append(timeit(duckdb_grouped_aggregate_filter_join_pq_2t, 'DuckDB (2T)'))\n",
        "results.append(timeit(pandas_grouped_aggregate_filter_join_pq, 'Pandas'))\n",
        "results.append(timeit(pandas_grouped_aggregate_filter_join_manual_pushdown_pq, 'Pandas (manual pushdown)'))\n",
        "plot_results(results, 'Grouped Aggregate Join (Parquet)')\n"
      ],
      "execution_count": null,
      "outputs": [
        {
          "output_type": "stream",
          "text": [
            "  l_returnflag l_linestatus  ...  max(l_extendedprice)  avg(l_extendedprice)\n",
            "0            N            O  ...              104749.5          38250.450307\n",
            "\n",
            "[1 rows x 6 columns]\n",
            "  l_returnflag l_linestatus  ...  max(l_extendedprice)  avg(l_extendedprice)\n",
            "0            N            O  ...              104749.5          38250.450307\n",
            "\n",
            "[1 rows x 6 columns]\n",
            "Grouped Aggregate Join (Parquet)\n",
            "          name      time\n",
            "0  DuckDB (1T)  1.089228\n",
            "1  DuckDB (2T)  0.875342\n"
          ],
          "name": "stdout"
        }
      ]
    },
    {
      "cell_type": "code",
      "metadata": {
        "id": "dzBTCNTGQNNJ"
      },
      "source": [],
      "execution_count": null,
      "outputs": []
    }
  ]
}