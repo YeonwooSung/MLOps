{
 "cells": [
  {
   "cell_type": "markdown",
   "id": "80051b34-8b9b-4b00-845c-c67ed070dc91",
   "metadata": {},
   "source": [
    "# Customer Queries Launch Blogpost: Checks processing\n",
    "This notebook will walk you through how to annotate and train Custom Queries.\n",
    "1. Option 1: Creating an adapter via the console  \n",
    "   This walkthrough covers the process of creating an adapter and then copying pre-annotated check samples to fast-track your testing.\n",
    "2. Option 2: Creating an adapter programmtically via the API  \n",
    "   This is identical to option 1, however, uses python boto3 to programmatically create a Custom Adapter and use it for testing."
   ]
  },
  {
   "cell_type": "markdown",
   "id": "0a4076bf-f2f9-40de-83d8-2b2b46d60eb8",
   "metadata": {
    "tags": []
   },
   "source": [
    "## Option 1. Create an adapter via the console and copy pre-annotated check samples\n",
    "Refer to the [Custom Queries Tutorial](https://docs.aws.amazon.com/textract/latest/dg/textract-adapters-tutorial.html) if you want to upload your own documents and annotate them."
   ]
  },
  {
   "cell_type": "markdown",
   "id": "aa029227-ae38-4ffc-b43b-6597929e0355",
   "metadata": {},
   "source": [
    "### Step 1.1: Create an adapter via console\n",
    "Navigate to the Textract console &rarr; Click on the Custom Queries button located in the sidebar &rarr; Click the Create Adapter button\n",
    "<img src=\"./screenshots/checks-notebook-step1.png\"/>"
   ]
  },
  {
   "cell_type": "markdown",
   "id": "69db73b8-deea-4a69-8812-f91a6186da54",
   "metadata": {},
   "source": [
    "### Step 1.2: Copy the adapter ID and dataset S3 bucket location from Adapter Details page.\n",
    "<img src=\"./screenshots/checks-notebook-step2.png\"/>"
   ]
  },
  {
   "cell_type": "code",
   "execution_count": null,
   "id": "9c6a8f6d-6c4d-404c-9ba5-764f90bed7f3",
   "metadata": {
    "tags": []
   },
   "outputs": [],
   "source": [
    "adapter_id=\"111111111111\"\n",
    "dataset_s3_bucket=\"textract-adapters-us-east-1-1111\""
   ]
  },
  {
   "cell_type": "markdown",
   "id": "504bf278-28dc-4899-bfc2-68618a54a96e",
   "metadata": {},
   "source": [
    "### Step 1.3: Update the manifest file with the adapter details\n",
    "Run the below cell to programmatically extract the pre-annotations and update the manifest file with your adapter ID.\n",
    "You will see a new folder created named as your adapter Id."
   ]
  },
  {
   "cell_type": "code",
   "execution_count": null,
   "id": "75d97d06-042f-46a3-81ae-2b3357ebea1f",
   "metadata": {
    "tags": []
   },
   "outputs": [],
   "source": [
    "import shutil\n",
    "shutil.unpack_archive(\"./samples/checks-annotations.zip\", extract_dir=adapter_id)\n",
    "print(f\"Check samples archive extracted successfully to folder {adapter_id}\")\n",
    "\n",
    "!sed -i -e \"s/<s3-bucket-name>/$dataset_s3_bucket/g;s/<adapter-id>/$adapter_id/g\" \"./$adapter_id/checks-annotations/manifest.jsonl\"\n",
    "print(f\"Replaced all instances of the adapter ID with {adapter_id} and S3 BUCKET with {dataset_s3_bucket}\")"
   ]
  },
  {
   "cell_type": "markdown",
   "id": "38f46be5-68d1-42d0-9628-913ece3cd521",
   "metadata": {
    "tags": []
   },
   "source": [
    "### Step 1.4: Copy the pre-annotations to the data set location"
   ]
  },
  {
   "cell_type": "code",
   "execution_count": null,
   "id": "0a8c337c-32d1-4b41-8397-de541e5131c9",
   "metadata": {
    "tags": []
   },
   "outputs": [],
   "source": [
    "!aws s3 cp \"./$adapter_id/checks-annotations\" \"s3://$dataset_s3_bucket/adapters/$adapter_id\" --recursive\n",
    "print(\"\\nSuccessfully copied all files\")"
   ]
  },
  {
   "cell_type": "markdown",
   "id": "33991daf-71de-4cf2-9ea4-9bd23bf5aa92",
   "metadata": {
    "tags": []
   },
   "source": [
    "### Step 1.5: Refresh the adapter details page\n",
    "Return back to the Textract console and refresh the adapter details page. You should see the following\n",
    "1. The dataset is created successfully\n",
    "2. Queries have been created\n",
    "3. Documents have been verified\n",
    "\n",
    "Note: if you cannot see your adapter updated like the screenshot below, please check if the adapter ID and S3 bucket you entered in Step 2 is correct.\n",
    "\n",
    "<img src=\"./screenshots/checks-notebook-step5_1.png\"/>"
   ]
  },
  {
   "cell_type": "markdown",
   "id": "77694d2a-88b1-432c-a3c8-e2f2fcfabc56",
   "metadata": {},
   "source": [
    "### Step 1.6: View the pre-annotated samples \n",
    "Click on the Verify Documents button to open the dataset page. Once open, select the files and click review annotations.\n",
    "<img src=\"./screenshots/checks-notebook-step6.png\"/>"
   ]
  },
  {
   "cell_type": "markdown",
   "id": "2edde5a3-6254-475f-8354-c6055f2adccd",
   "metadata": {},
   "source": [
    "### Step 1.7: Train the Adapter\n",
    "Click on the Train Adapter button to initiate training. Training can take 1 to 30 hours to complete, however, given our dataset is small, it should complete in an hour or so.\n",
    "<img src=\"./screenshots/checks-notebook-step7.png\"/>"
   ]
  },
  {
   "cell_type": "markdown",
   "id": "34faecaf-0568-428d-b18f-fa0ab51f3298",
   "metadata": {},
   "source": [
    "### Step 1.8: Evaluate the adapter (console)\n",
    "Once the training completes, click the Evaluate Adapter button on the Adapter Details page to review the adapter performance metrics.  \n",
    "You can also test samples in the console by clicking on the Try Adapter button and uploading a sample document.\n",
    "<img src=\"./screenshots/checks-notebook-step8.png\"/>"
   ]
  },
  {
   "cell_type": "markdown",
   "id": "a7eed7da-6134-47f8-a0e7-ec83c3573e39",
   "metadata": {},
   "source": [
    "### Step 1.9: Test the adapter programmatically (API)"
   ]
  },
  {
   "cell_type": "code",
   "execution_count": null,
   "id": "bd77ef99-512e-4d0f-9a9a-5790f1b41ec7",
   "metadata": {
    "tags": []
   },
   "outputs": [],
   "source": [
    "from IPython.display import Image\n",
    "\n",
    "document_name = f\"{adapter_id}/checks-annotations/original_assets/31eb3f65-babd-4410-b9ea-596c7b35989d.jpg\"\n",
    "Image(filename=document_name) "
   ]
  },
  {
   "cell_type": "code",
   "execution_count": null,
   "id": "a215913b-8647-47a9-bd29-c756c372f2b3",
   "metadata": {
    "tags": []
   },
   "outputs": [],
   "source": [
    "!python -m pip install amazon-textract-caller --upgrade\n",
    "!python -m pip install amazon-textract-response-parser --upgrade"
   ]
  },
  {
   "cell_type": "code",
   "execution_count": null,
   "id": "00c7d85d-11fb-4178-9114-319a922f2f1d",
   "metadata": {
    "tags": []
   },
   "outputs": [],
   "source": [
    "import boto3\n",
    "from textractcaller.t_call import call_textract, Textract_Features, Query, QueriesConfig, Adapter, AdaptersConfig\n",
    "import trp.trp2 as t2\n",
    "import pandas as pd\n",
    "\n",
    "textract_client = boto3.client('textract')\n",
    "\n",
    "def tabulate_query_answers(textract_json):\n",
    "    d = t2.TDocumentSchema().load(textract_json)\n",
    "    for page in d.pages:\n",
    "        query_answers = d.get_query_answers(page=page)\n",
    "        display(pd.DataFrame(query_answers))\n",
    "\n",
    "queries = []\n",
    "queries.append(Query(text=\"What is the check#?\", alias=\"CHECK_NUMBER\", pages=[\"*\"]))\n",
    "queries.append(Query(text=\"What is the date?\", alias=\"DATE\", pages=[\"*\"]))\n",
    "queries.append(Query(text=\"What is the check amount in words?\", alias=\"CHECK_AMOUNT_WORDS\", pages=[\"*\"]))\n",
    "queries.append(Query(text=\"What is the dollar amount?\", alias=\"DOLLAR_AMOUNT\", pages=[\"*\"]))\n",
    "queries.append(Query(text=\"Who is the payee?\", alias=\"PAYEE_NAME\", pages=[\"*\"]))\n",
    "queries.append(Query(text=\"What is the customer account#\", alias=\"ACCOUNT_NUMBER\", pages=[\"*\"]))\n",
    "queries.append(Query(text=\"what is the payee address?\", alias=\"PAYEE_ADDRESS\", pages=[\"*\"]))\n",
    "queries.append(Query(text=\"What is the bank routing number?\", alias=\"BANK_ROUTING_NUMBER\", pages=[\"*\"]))\n",
    "queries.append(Query(text=\"What is the memo\", alias=\"MEMO\", pages=[\"*\"]))\n",
    "queries.append(Query(text=\"What is the account name/payer/drawer name?\", alias=\"ACCOUNT_NAME\", pages=[\"*\"]))\n",
    "queries.append(Query(text=\"What is the bank name/drawee name?\", alias=\"BANK_NAME\", pages=[\"*\"]))\n",
    "queries.append(Query(text=\"What is the MICR line?\", alias=\"MICR_LINE\", pages=[\"*\"]))\n",
    "\n",
    "\n",
    "queries_config = QueriesConfig(queries=queries)"
   ]
  },
  {
   "cell_type": "code",
   "execution_count": null,
   "id": "6055c0fa-66ad-4923-9f51-1cedf53df6bf",
   "metadata": {
    "tags": []
   },
   "outputs": [],
   "source": [
    "print(\"Calling Pre-built Textract Queries\")\n",
    "\n",
    "textract_json_prebuilt = call_textract(input_document=document_name,\n",
    "                  boto3_textract_client=textract_client,\n",
    "                  features=[Textract_Features.QUERIES],\n",
    "                  queries_config=queries_config)\n",
    "\n",
    "tabulate_query_answers(textract_json_prebuilt)"
   ]
  },
  {
   "cell_type": "code",
   "execution_count": null,
   "id": "4bb64fd4-35f5-43a5-bba6-c98912de6d90",
   "metadata": {
    "tags": []
   },
   "outputs": [],
   "source": [
    "adapter1 = Adapter(adapter_id=adapter_id, version=\"1\", pages=[\"*\"])\n",
    "adapters_config = AdaptersConfig(adapters=[adapter1])\n",
    "print(f\"Calling Custom Queries with Adapter:{adapter_id}\")\n",
    "\n",
    "textract_json_with_adapter = call_textract(input_document=document_name,\n",
    "                  boto3_textract_client=textract_client,\n",
    "                  features=[Textract_Features.QUERIES],\n",
    "                  queries_config=queries_config,\n",
    "                  adapters_config=adapters_config)\n",
    "\n",
    "tabulate_query_answers(textract_json_with_adapter)"
   ]
  },
  {
   "cell_type": "markdown",
   "id": "11215483-730e-4b87-b926-9ff7422a72b8",
   "metadata": {},
   "source": [
    "## Option 2. Create an adapter programmatically via the API\n",
    "We use the Textract Boto3 client to create an adapter. See [Textract boto3 documentation](https://boto3.amazonaws.com/v1/documentation/api/latest/reference/services/textract.html) for details.  \n",
    "Alternately, you can use the CLI or a language of your choice. See \n",
    "[CLI Documentation](https://docs.aws.amazon.com/textract/latest/dg/textract-create-adapter.html) for details."
   ]
  },
  {
   "cell_type": "markdown",
   "id": "0b78fde3-c325-4c07-a41c-c409f47b91aa",
   "metadata": {},
   "source": [
    "### Step 2.1: Create an adapter using the CreateAdapter API\n",
    "1. On calling the CreateAdapter API, the API returns the created AdapterId. We will use this ID in subsequent steps.  \n",
    "2. We will also use the ListAdapter API to view all the adapters on the AWS Account"
   ]
  },
  {
   "cell_type": "code",
   "execution_count": null,
   "id": "5fe0aac8-6f4b-41d8-aba5-4ae67d8ad9ca",
   "metadata": {},
   "outputs": [],
   "source": [
    "import boto3\n",
    "import pandas as pd\n",
    "from IPython.display import display, HTML \n",
    "\n",
    "textract_client = boto3.client('textract')\n",
    "\n",
    "response = textract_client.create_adapter(\n",
    "    AdapterName='checks-adapter-api',\n",
    "    Description='Adapter for checks processing created via the API',\n",
    "    FeatureTypes=['QUERIES'],\n",
    "    AutoUpdate='ENABLED',\n",
    "    Tags={\n",
    "        'project': 'checks-automation'\n",
    "    }\n",
    ")\n",
    "\n",
    "adapter_id = response[\"AdapterId\"]\n",
    "print(f\"Adapter created with adapter id: {adapter_id}\")"
   ]
  },
  {
   "cell_type": "code",
   "execution_count": null,
   "id": "16dd16ab-9f5f-46e1-aeee-5c2fc80b824f",
   "metadata": {
    "tags": []
   },
   "outputs": [],
   "source": [
    "response = textract_client.list_adapters()\n",
    "display(pd.DataFrame(response[\"Adapters\"]))"
   ]
  },
  {
   "cell_type": "markdown",
   "id": "9189f533-0fa3-4517-a733-48b8757589d9",
   "metadata": {},
   "source": [
    "### Step 2.2: Update and copy the document samples, manifest file and annotations to S3\n",
    "1. Provide the S3 bucket where you would like to store the test and train datasets  \n",
    "2. We copy the manifest file, annotations and samples to the bucket with the newly created Adapter ID as the alias."
   ]
  },
  {
   "cell_type": "code",
   "execution_count": null,
   "id": "105e8ee3-1587-4a79-ae46-2042a8d54ad4",
   "metadata": {
    "tags": []
   },
   "outputs": [],
   "source": [
    "dataset_s3_bucket = \"enter-s3-bucket\"\n",
    "\n",
    "# We use the same bucket for the output as the dataset bucket, with a different prefix. You can change this as required\n",
    "output_s3_bucket = dataset_s3_bucket"
   ]
  },
  {
   "cell_type": "code",
   "execution_count": null,
   "id": "9417c052-d188-4e16-8250-6dc2069407a4",
   "metadata": {
    "tags": []
   },
   "outputs": [],
   "source": [
    "import shutil\n",
    "shutil.unpack_archive(\"./samples/checks-annotations.zip\", extract_dir=adapter_id)\n",
    "print(f\"Check samples archive extracted successfully to folder {adapter_id}\")\n",
    "\n",
    "!sed -i -e \"s/<s3-bucket-name>/$dataset_s3_bucket/g;s/<adapter-id>/$adapter_id/g\" \"./$adapter_id/checks-annotations/manifest.jsonl\"\n",
    "print(f\"Replaced all instances of the adapter ID with {adapter_id} and S3 BUCKET with {dataset_s3_bucket}\")"
   ]
  },
  {
   "cell_type": "code",
   "execution_count": null,
   "id": "87575166-5842-4d34-8141-cba15d0f81be",
   "metadata": {
    "tags": []
   },
   "outputs": [],
   "source": [
    "!aws s3 cp \"./$adapter_id/checks-annotations\" \"s3://$dataset_s3_bucket/adapters/$adapter_id\" --recursive\n",
    "print(\"\\nSuccessfully copied all files\")"
   ]
  },
  {
   "cell_type": "markdown",
   "id": "ab09eaef-d7ca-44ad-9813-ac6f77179cd4",
   "metadata": {},
   "source": [
    "### Step 2.3: Begin training the Adapter by calling CreateAdapterVersion\n",
    "To begin training, we call the CreateAdapterVersion API"
   ]
  },
  {
   "cell_type": "code",
   "execution_count": null,
   "id": "daab8a79-2d4b-4686-8b7d-d5dac64637c0",
   "metadata": {},
   "outputs": [],
   "source": [
    "manifest_file_name=f\"adapters/{adapter_id}/manifest.jsonl\"\n",
    "output_config_prefix=f\"adapters-output/{adapter_id}/\"\n",
    "\n",
    "response = textract_client.create_adapter_version(\n",
    "    AdapterId=adapter_id,\n",
    "    DatasetConfig={\n",
    "        'ManifestS3Object': {\n",
    "            'Bucket': dataset_s3_bucket,\n",
    "            'Name': manifest_file_name\n",
    "        }\n",
    "    },\n",
    "    OutputConfig={\n",
    "        'S3Bucket': output_s3_bucket,\n",
    "        'S3Prefix': output_config_prefix\n",
    "    },\n",
    "    Tags={\n",
    "        'project': 'checks-automation'\n",
    "    }\n",
    ")\n",
    "\n",
    "adapter_version = response[\"AdapterVersion\"]\n",
    "print(f\"Started training AdapterVersion: {adapter_version} for AdapterId: {adapter_id}\")"
   ]
  },
  {
   "cell_type": "markdown",
   "id": "6eb56c5f-c3ea-4ce7-b920-29d3c49b7e3c",
   "metadata": {},
   "source": [
    "### Step 2.4: List all the adapter versions in your AWS Account\n",
    "You will see a new Adapter ID and Version in the list with the Status as \"CREATION_IN_PROGRESS\".  \n",
    "Training can take 1 to 30 hours to complete, however, given our dataset is small, it should complete in an hour or so."
   ]
  },
  {
   "cell_type": "code",
   "execution_count": null,
   "id": "69734f55-7255-42de-bea0-b2736e95f6d3",
   "metadata": {
    "tags": []
   },
   "outputs": [],
   "source": [
    "response = textract_client.list_adapter_versions()\n",
    "display(pd.DataFrame(response[\"AdapterVersions\"]))"
   ]
  },
  {
   "cell_type": "markdown",
   "id": "ad80a635-9e86-420d-b839-8f8f1c398077",
   "metadata": {
    "tags": []
   },
   "source": [
    "### Step 2.5: View details of the adapter you just created using GetAdapterVersion\n",
    "1. This provides you with all the details for the adapter - from the dataset and output config to the evaluation metrics.  \n",
    "2. As the adapter creation and training is still in progress, you will not see **\"EvaluationMetrics\"** yet. Come back once the training is complete"
   ]
  },
  {
   "cell_type": "code",
   "execution_count": null,
   "id": "d380157e-3f43-4cea-aa6d-7e29883f2d10",
   "metadata": {
    "tags": []
   },
   "outputs": [],
   "source": [
    "import json\n",
    "response = textract_client.get_adapter_version(\n",
    "    AdapterId=adapter_id,\n",
    "    AdapterVersion=adapter_version\n",
    ")\n",
    "print(json.dumps(response, indent=4, default=str))"
   ]
  },
  {
   "cell_type": "markdown",
   "id": "79b615e1-4264-4c2b-b443-c0bcdc44be70",
   "metadata": {},
   "source": [
    "### Step 2.6: Test the adapter programmatically (API)"
   ]
  },
  {
   "cell_type": "code",
   "execution_count": null,
   "id": "ba97ad85-cd72-4886-aae7-e81ebf3eeb98",
   "metadata": {},
   "outputs": [],
   "source": [
    "from IPython.display import Image\n",
    "\n",
    "document_name = f\"{adapter_id}/checks-annotations/original_assets/31eb3f65-babd-4410-b9ea-596c7b35989d.jpg\"\n",
    "Image(filename=document_name) "
   ]
  },
  {
   "cell_type": "code",
   "execution_count": null,
   "id": "72ce03a5-9612-4138-b917-59406d0c66c0",
   "metadata": {},
   "outputs": [],
   "source": [
    "import boto3\n",
    "from textractcaller.t_call import call_textract, Textract_Features, Query, QueriesConfig, Adapter, AdaptersConfig\n",
    "import trp.trp2 as t2\n",
    "\n",
    "textract_client = boto3.client('textract')\n",
    "\n",
    "def tabulate_query_answers(textract_json):\n",
    "    d = t2.TDocumentSchema().load(textract_json)\n",
    "    for page in d.pages:\n",
    "        query_answers = d.get_query_answers(page=page)\n",
    "        display(pd.DataFrame(query_answers))\n",
    "\n",
    "queries = []\n",
    "queries.append(Query(text=\"What is the check#?\", alias=\"CHECK_NUMBER\", pages=[\"*\"]))\n",
    "queries.append(Query(text=\"What is the date?\", alias=\"DATE\", pages=[\"*\"]))\n",
    "queries.append(Query(text=\"What is the check amount in words?\", alias=\"CHECK_AMOUNT_WORDS\", pages=[\"*\"]))\n",
    "queries.append(Query(text=\"What is the dollar amount?\", alias=\"DOLLAR_AMOUNT\", pages=[\"*\"]))\n",
    "queries.append(Query(text=\"Who is the payee?\", alias=\"PAYEE_NAME\", pages=[\"*\"]))\n",
    "queries.append(Query(text=\"What is the customer account#\", alias=\"ACCOUNT_NUMBER\", pages=[\"*\"]))\n",
    "queries.append(Query(text=\"what is the payee address?\", alias=\"PAYEE_ADDRESS\", pages=[\"*\"]))\n",
    "queries.append(Query(text=\"What is the bank routing number?\", alias=\"BANK_ROUTING_NUMBER\", pages=[\"*\"]))\n",
    "queries.append(Query(text=\"What is the memo\", alias=\"MEMO\", pages=[\"*\"]))\n",
    "queries.append(Query(text=\"What is the account name/payer/drawer name?\", alias=\"ACCOUNT_NAME\", pages=[\"*\"]))\n",
    "queries.append(Query(text=\"What is the bank name/drawee name?\", alias=\"BANK_NAME\", pages=[\"*\"]))\n",
    "queries.append(Query(text=\"What is the MICR line?\", alias=\"MICR_LINE\", pages=[\"*\"]))\n",
    "\n",
    "\n",
    "queries_config = QueriesConfig(queries=queries)"
   ]
  },
  {
   "cell_type": "code",
   "execution_count": null,
   "id": "44d2af5b-57af-4f82-af0b-9efcb4a05767",
   "metadata": {},
   "outputs": [],
   "source": [
    "print(\"Calling Pre-built Textract Queries\")\n",
    "\n",
    "textract_json_prebuilt = call_textract(input_document=document_name,\n",
    "                  boto3_textract_client=textract_client,\n",
    "                  features=[Textract_Features.QUERIES],\n",
    "                  queries_config=queries_config)\n",
    "\n",
    "tabulate_query_answers(textract_json_prebuilt)"
   ]
  },
  {
   "cell_type": "code",
   "execution_count": null,
   "id": "217106a3-15e8-4913-a8a9-ddc7307290c7",
   "metadata": {
    "tags": []
   },
   "outputs": [],
   "source": [
    "adapter1 = Adapter(adapter_id=adapter_id, version=adapter_version, pages=[\"*\"])\n",
    "adapters_config = AdaptersConfig(adapters=[adapter1])\n",
    "print(f\"Calling Custom Queries with Adapter: {adapter_id} and AdapterVersion: {adapter_version}\")\n",
    "\n",
    "textract_json_with_adapter = call_textract(input_document=document_name,\n",
    "                  boto3_textract_client=textract_client,\n",
    "                  features=[Textract_Features.QUERIES],\n",
    "                  queries_config=queries_config,\n",
    "                  adapters_config=adapters_config)\n",
    "\n",
    "tabulate_query_answers(textract_json_with_adapter)"
   ]
  },
  {
   "cell_type": "markdown",
   "id": "4e253825-5e92-4ee9-bda3-4cd005247851",
   "metadata": {},
   "source": [
    "### Step 2.7 : Clean-up resources\n",
    "You can choose to delete the adapter version or the adapter.  \n",
    "When deleting the entire adapter, you must delete all adapter versions first and then proceed to delete the adapter.  "
   ]
  },
  {
   "cell_type": "code",
   "execution_count": null,
   "id": "08ae063e-b992-4816-b475-d39a8595dc65",
   "metadata": {
    "tags": []
   },
   "outputs": [],
   "source": [
    "response = textract_client.delete_adapter_version(\n",
    "    AdapterId=adapter_id,\n",
    "    AdapterVersion=adapter_version\n",
    ")\n",
    "if response[\"ResponseMetadata\"][\"HTTPStatusCode\"] == 200:\n",
    "    print(f\"Adapter Version: {adapter_version} successfully deleted\")\n",
    "\n",
    "\n",
    "response = textract_client.delete_adapter(\n",
    "    AdapterId=adapter_id\n",
    ")\n",
    "if response[\"ResponseMetadata\"][\"HTTPStatusCode\"] == 200:\n",
    "    print(f\"Adapter ID: {adapter_id} successfully deleted\")\n"
   ]
  }
 ],
 "metadata": {
  "availableInstances": [
   {
    "_defaultOrder": 0,
    "_isFastLaunch": true,
    "category": "General purpose",
    "gpuNum": 0,
    "hideHardwareSpecs": false,
    "memoryGiB": 4,
    "name": "ml.t3.medium",
    "vcpuNum": 2
   },
   {
    "_defaultOrder": 1,
    "_isFastLaunch": false,
    "category": "General purpose",
    "gpuNum": 0,
    "hideHardwareSpecs": false,
    "memoryGiB": 8,
    "name": "ml.t3.large",
    "vcpuNum": 2
   },
   {
    "_defaultOrder": 2,
    "_isFastLaunch": false,
    "category": "General purpose",
    "gpuNum": 0,
    "hideHardwareSpecs": false,
    "memoryGiB": 16,
    "name": "ml.t3.xlarge",
    "vcpuNum": 4
   },
   {
    "_defaultOrder": 3,
    "_isFastLaunch": false,
    "category": "General purpose",
    "gpuNum": 0,
    "hideHardwareSpecs": false,
    "memoryGiB": 32,
    "name": "ml.t3.2xlarge",
    "vcpuNum": 8
   },
   {
    "_defaultOrder": 4,
    "_isFastLaunch": true,
    "category": "General purpose",
    "gpuNum": 0,
    "hideHardwareSpecs": false,
    "memoryGiB": 8,
    "name": "ml.m5.large",
    "vcpuNum": 2
   },
   {
    "_defaultOrder": 5,
    "_isFastLaunch": false,
    "category": "General purpose",
    "gpuNum": 0,
    "hideHardwareSpecs": false,
    "memoryGiB": 16,
    "name": "ml.m5.xlarge",
    "vcpuNum": 4
   },
   {
    "_defaultOrder": 6,
    "_isFastLaunch": false,
    "category": "General purpose",
    "gpuNum": 0,
    "hideHardwareSpecs": false,
    "memoryGiB": 32,
    "name": "ml.m5.2xlarge",
    "vcpuNum": 8
   },
   {
    "_defaultOrder": 7,
    "_isFastLaunch": false,
    "category": "General purpose",
    "gpuNum": 0,
    "hideHardwareSpecs": false,
    "memoryGiB": 64,
    "name": "ml.m5.4xlarge",
    "vcpuNum": 16
   },
   {
    "_defaultOrder": 8,
    "_isFastLaunch": false,
    "category": "General purpose",
    "gpuNum": 0,
    "hideHardwareSpecs": false,
    "memoryGiB": 128,
    "name": "ml.m5.8xlarge",
    "vcpuNum": 32
   },
   {
    "_defaultOrder": 9,
    "_isFastLaunch": false,
    "category": "General purpose",
    "gpuNum": 0,
    "hideHardwareSpecs": false,
    "memoryGiB": 192,
    "name": "ml.m5.12xlarge",
    "vcpuNum": 48
   },
   {
    "_defaultOrder": 10,
    "_isFastLaunch": false,
    "category": "General purpose",
    "gpuNum": 0,
    "hideHardwareSpecs": false,
    "memoryGiB": 256,
    "name": "ml.m5.16xlarge",
    "vcpuNum": 64
   },
   {
    "_defaultOrder": 11,
    "_isFastLaunch": false,
    "category": "General purpose",
    "gpuNum": 0,
    "hideHardwareSpecs": false,
    "memoryGiB": 384,
    "name": "ml.m5.24xlarge",
    "vcpuNum": 96
   },
   {
    "_defaultOrder": 12,
    "_isFastLaunch": false,
    "category": "General purpose",
    "gpuNum": 0,
    "hideHardwareSpecs": false,
    "memoryGiB": 8,
    "name": "ml.m5d.large",
    "vcpuNum": 2
   },
   {
    "_defaultOrder": 13,
    "_isFastLaunch": false,
    "category": "General purpose",
    "gpuNum": 0,
    "hideHardwareSpecs": false,
    "memoryGiB": 16,
    "name": "ml.m5d.xlarge",
    "vcpuNum": 4
   },
   {
    "_defaultOrder": 14,
    "_isFastLaunch": false,
    "category": "General purpose",
    "gpuNum": 0,
    "hideHardwareSpecs": false,
    "memoryGiB": 32,
    "name": "ml.m5d.2xlarge",
    "vcpuNum": 8
   },
   {
    "_defaultOrder": 15,
    "_isFastLaunch": false,
    "category": "General purpose",
    "gpuNum": 0,
    "hideHardwareSpecs": false,
    "memoryGiB": 64,
    "name": "ml.m5d.4xlarge",
    "vcpuNum": 16
   },
   {
    "_defaultOrder": 16,
    "_isFastLaunch": false,
    "category": "General purpose",
    "gpuNum": 0,
    "hideHardwareSpecs": false,
    "memoryGiB": 128,
    "name": "ml.m5d.8xlarge",
    "vcpuNum": 32
   },
   {
    "_defaultOrder": 17,
    "_isFastLaunch": false,
    "category": "General purpose",
    "gpuNum": 0,
    "hideHardwareSpecs": false,
    "memoryGiB": 192,
    "name": "ml.m5d.12xlarge",
    "vcpuNum": 48
   },
   {
    "_defaultOrder": 18,
    "_isFastLaunch": false,
    "category": "General purpose",
    "gpuNum": 0,
    "hideHardwareSpecs": false,
    "memoryGiB": 256,
    "name": "ml.m5d.16xlarge",
    "vcpuNum": 64
   },
   {
    "_defaultOrder": 19,
    "_isFastLaunch": false,
    "category": "General purpose",
    "gpuNum": 0,
    "hideHardwareSpecs": false,
    "memoryGiB": 384,
    "name": "ml.m5d.24xlarge",
    "vcpuNum": 96
   },
   {
    "_defaultOrder": 20,
    "_isFastLaunch": false,
    "category": "General purpose",
    "gpuNum": 0,
    "hideHardwareSpecs": true,
    "memoryGiB": 0,
    "name": "ml.geospatial.interactive",
    "supportedImageNames": [
     "sagemaker-geospatial-v1-0"
    ],
    "vcpuNum": 0
   },
   {
    "_defaultOrder": 21,
    "_isFastLaunch": true,
    "category": "Compute optimized",
    "gpuNum": 0,
    "hideHardwareSpecs": false,
    "memoryGiB": 4,
    "name": "ml.c5.large",
    "vcpuNum": 2
   },
   {
    "_defaultOrder": 22,
    "_isFastLaunch": false,
    "category": "Compute optimized",
    "gpuNum": 0,
    "hideHardwareSpecs": false,
    "memoryGiB": 8,
    "name": "ml.c5.xlarge",
    "vcpuNum": 4
   },
   {
    "_defaultOrder": 23,
    "_isFastLaunch": false,
    "category": "Compute optimized",
    "gpuNum": 0,
    "hideHardwareSpecs": false,
    "memoryGiB": 16,
    "name": "ml.c5.2xlarge",
    "vcpuNum": 8
   },
   {
    "_defaultOrder": 24,
    "_isFastLaunch": false,
    "category": "Compute optimized",
    "gpuNum": 0,
    "hideHardwareSpecs": false,
    "memoryGiB": 32,
    "name": "ml.c5.4xlarge",
    "vcpuNum": 16
   },
   {
    "_defaultOrder": 25,
    "_isFastLaunch": false,
    "category": "Compute optimized",
    "gpuNum": 0,
    "hideHardwareSpecs": false,
    "memoryGiB": 72,
    "name": "ml.c5.9xlarge",
    "vcpuNum": 36
   },
   {
    "_defaultOrder": 26,
    "_isFastLaunch": false,
    "category": "Compute optimized",
    "gpuNum": 0,
    "hideHardwareSpecs": false,
    "memoryGiB": 96,
    "name": "ml.c5.12xlarge",
    "vcpuNum": 48
   },
   {
    "_defaultOrder": 27,
    "_isFastLaunch": false,
    "category": "Compute optimized",
    "gpuNum": 0,
    "hideHardwareSpecs": false,
    "memoryGiB": 144,
    "name": "ml.c5.18xlarge",
    "vcpuNum": 72
   },
   {
    "_defaultOrder": 28,
    "_isFastLaunch": false,
    "category": "Compute optimized",
    "gpuNum": 0,
    "hideHardwareSpecs": false,
    "memoryGiB": 192,
    "name": "ml.c5.24xlarge",
    "vcpuNum": 96
   },
   {
    "_defaultOrder": 29,
    "_isFastLaunch": true,
    "category": "Accelerated computing",
    "gpuNum": 1,
    "hideHardwareSpecs": false,
    "memoryGiB": 16,
    "name": "ml.g4dn.xlarge",
    "vcpuNum": 4
   },
   {
    "_defaultOrder": 30,
    "_isFastLaunch": false,
    "category": "Accelerated computing",
    "gpuNum": 1,
    "hideHardwareSpecs": false,
    "memoryGiB": 32,
    "name": "ml.g4dn.2xlarge",
    "vcpuNum": 8
   },
   {
    "_defaultOrder": 31,
    "_isFastLaunch": false,
    "category": "Accelerated computing",
    "gpuNum": 1,
    "hideHardwareSpecs": false,
    "memoryGiB": 64,
    "name": "ml.g4dn.4xlarge",
    "vcpuNum": 16
   },
   {
    "_defaultOrder": 32,
    "_isFastLaunch": false,
    "category": "Accelerated computing",
    "gpuNum": 1,
    "hideHardwareSpecs": false,
    "memoryGiB": 128,
    "name": "ml.g4dn.8xlarge",
    "vcpuNum": 32
   },
   {
    "_defaultOrder": 33,
    "_isFastLaunch": false,
    "category": "Accelerated computing",
    "gpuNum": 4,
    "hideHardwareSpecs": false,
    "memoryGiB": 192,
    "name": "ml.g4dn.12xlarge",
    "vcpuNum": 48
   },
   {
    "_defaultOrder": 34,
    "_isFastLaunch": false,
    "category": "Accelerated computing",
    "gpuNum": 1,
    "hideHardwareSpecs": false,
    "memoryGiB": 256,
    "name": "ml.g4dn.16xlarge",
    "vcpuNum": 64
   },
   {
    "_defaultOrder": 35,
    "_isFastLaunch": false,
    "category": "Accelerated computing",
    "gpuNum": 1,
    "hideHardwareSpecs": false,
    "memoryGiB": 61,
    "name": "ml.p3.2xlarge",
    "vcpuNum": 8
   },
   {
    "_defaultOrder": 36,
    "_isFastLaunch": false,
    "category": "Accelerated computing",
    "gpuNum": 4,
    "hideHardwareSpecs": false,
    "memoryGiB": 244,
    "name": "ml.p3.8xlarge",
    "vcpuNum": 32
   },
   {
    "_defaultOrder": 37,
    "_isFastLaunch": false,
    "category": "Accelerated computing",
    "gpuNum": 8,
    "hideHardwareSpecs": false,
    "memoryGiB": 488,
    "name": "ml.p3.16xlarge",
    "vcpuNum": 64
   },
   {
    "_defaultOrder": 38,
    "_isFastLaunch": false,
    "category": "Accelerated computing",
    "gpuNum": 8,
    "hideHardwareSpecs": false,
    "memoryGiB": 768,
    "name": "ml.p3dn.24xlarge",
    "vcpuNum": 96
   },
   {
    "_defaultOrder": 39,
    "_isFastLaunch": false,
    "category": "Memory Optimized",
    "gpuNum": 0,
    "hideHardwareSpecs": false,
    "memoryGiB": 16,
    "name": "ml.r5.large",
    "vcpuNum": 2
   },
   {
    "_defaultOrder": 40,
    "_isFastLaunch": false,
    "category": "Memory Optimized",
    "gpuNum": 0,
    "hideHardwareSpecs": false,
    "memoryGiB": 32,
    "name": "ml.r5.xlarge",
    "vcpuNum": 4
   },
   {
    "_defaultOrder": 41,
    "_isFastLaunch": false,
    "category": "Memory Optimized",
    "gpuNum": 0,
    "hideHardwareSpecs": false,
    "memoryGiB": 64,
    "name": "ml.r5.2xlarge",
    "vcpuNum": 8
   },
   {
    "_defaultOrder": 42,
    "_isFastLaunch": false,
    "category": "Memory Optimized",
    "gpuNum": 0,
    "hideHardwareSpecs": false,
    "memoryGiB": 128,
    "name": "ml.r5.4xlarge",
    "vcpuNum": 16
   },
   {
    "_defaultOrder": 43,
    "_isFastLaunch": false,
    "category": "Memory Optimized",
    "gpuNum": 0,
    "hideHardwareSpecs": false,
    "memoryGiB": 256,
    "name": "ml.r5.8xlarge",
    "vcpuNum": 32
   },
   {
    "_defaultOrder": 44,
    "_isFastLaunch": false,
    "category": "Memory Optimized",
    "gpuNum": 0,
    "hideHardwareSpecs": false,
    "memoryGiB": 384,
    "name": "ml.r5.12xlarge",
    "vcpuNum": 48
   },
   {
    "_defaultOrder": 45,
    "_isFastLaunch": false,
    "category": "Memory Optimized",
    "gpuNum": 0,
    "hideHardwareSpecs": false,
    "memoryGiB": 512,
    "name": "ml.r5.16xlarge",
    "vcpuNum": 64
   },
   {
    "_defaultOrder": 46,
    "_isFastLaunch": false,
    "category": "Memory Optimized",
    "gpuNum": 0,
    "hideHardwareSpecs": false,
    "memoryGiB": 768,
    "name": "ml.r5.24xlarge",
    "vcpuNum": 96
   },
   {
    "_defaultOrder": 47,
    "_isFastLaunch": false,
    "category": "Accelerated computing",
    "gpuNum": 1,
    "hideHardwareSpecs": false,
    "memoryGiB": 16,
    "name": "ml.g5.xlarge",
    "vcpuNum": 4
   },
   {
    "_defaultOrder": 48,
    "_isFastLaunch": false,
    "category": "Accelerated computing",
    "gpuNum": 1,
    "hideHardwareSpecs": false,
    "memoryGiB": 32,
    "name": "ml.g5.2xlarge",
    "vcpuNum": 8
   },
   {
    "_defaultOrder": 49,
    "_isFastLaunch": false,
    "category": "Accelerated computing",
    "gpuNum": 1,
    "hideHardwareSpecs": false,
    "memoryGiB": 64,
    "name": "ml.g5.4xlarge",
    "vcpuNum": 16
   },
   {
    "_defaultOrder": 50,
    "_isFastLaunch": false,
    "category": "Accelerated computing",
    "gpuNum": 1,
    "hideHardwareSpecs": false,
    "memoryGiB": 128,
    "name": "ml.g5.8xlarge",
    "vcpuNum": 32
   },
   {
    "_defaultOrder": 51,
    "_isFastLaunch": false,
    "category": "Accelerated computing",
    "gpuNum": 1,
    "hideHardwareSpecs": false,
    "memoryGiB": 256,
    "name": "ml.g5.16xlarge",
    "vcpuNum": 64
   },
   {
    "_defaultOrder": 52,
    "_isFastLaunch": false,
    "category": "Accelerated computing",
    "gpuNum": 4,
    "hideHardwareSpecs": false,
    "memoryGiB": 192,
    "name": "ml.g5.12xlarge",
    "vcpuNum": 48
   },
   {
    "_defaultOrder": 53,
    "_isFastLaunch": false,
    "category": "Accelerated computing",
    "gpuNum": 4,
    "hideHardwareSpecs": false,
    "memoryGiB": 384,
    "name": "ml.g5.24xlarge",
    "vcpuNum": 96
   },
   {
    "_defaultOrder": 54,
    "_isFastLaunch": false,
    "category": "Accelerated computing",
    "gpuNum": 8,
    "hideHardwareSpecs": false,
    "memoryGiB": 768,
    "name": "ml.g5.48xlarge",
    "vcpuNum": 192
   },
   {
    "_defaultOrder": 55,
    "_isFastLaunch": false,
    "category": "Accelerated computing",
    "gpuNum": 8,
    "hideHardwareSpecs": false,
    "memoryGiB": 1152,
    "name": "ml.p4d.24xlarge",
    "vcpuNum": 96
   },
   {
    "_defaultOrder": 56,
    "_isFastLaunch": false,
    "category": "Accelerated computing",
    "gpuNum": 8,
    "hideHardwareSpecs": false,
    "memoryGiB": 1152,
    "name": "ml.p4de.24xlarge",
    "vcpuNum": 96
   }
  ],
  "instance_type": "ml.t3.medium",
  "kernelspec": {
   "display_name": "Python 3 (Data Science 3.0)",
   "language": "python",
   "name": "python3__SAGEMAKER_INTERNAL__arn:aws:sagemaker:us-east-1:081325390199:image/sagemaker-data-science-310-v1"
  },
  "language_info": {
   "codemirror_mode": {
    "name": "ipython",
    "version": 3
   },
   "file_extension": ".py",
   "mimetype": "text/x-python",
   "name": "python",
   "nbconvert_exporter": "python",
   "pygments_lexer": "ipython3",
   "version": "3.10.6"
  }
 },
 "nbformat": 4,
 "nbformat_minor": 5
}
