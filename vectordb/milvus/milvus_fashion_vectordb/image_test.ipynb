{
 "cells": [
  {
   "cell_type": "code",
   "execution_count": 1,
   "metadata": {},
   "outputs": [
    {
     "name": "stdout",
     "output_type": "stream",
     "text": [
      "<class 'numpy.ndarray'>\n"
     ]
    },
    {
     "ename": "",
     "evalue": "",
     "output_type": "error",
     "traceback": [
      "\u001b[1;31mThe Kernel crashed while executing code in the the current cell or a previous cell. Please review the code in the cell(s) to identify a possible cause of the failure. Click <a href='https://aka.ms/vscodeJupyterKernelCrash'>here</a> for more info. View Jupyter <a href='command:jupyter.viewOutput'>log</a> for further details."
     ]
    }
   ],
   "source": [
    "# import cv2\n",
    "  \n",
    "# # initialize the camera \n",
    "# # If you have multiple camera connected with  \n",
    "# # current device, assign a value in cam_port  \n",
    "# # variable according to that \n",
    "# cam_port = 0\n",
    "# cam = cv2.VideoCapture(cam_port) \n",
    "  \n",
    "# # reading the input using the camera \n",
    "# result, image = cam.read() \n",
    "  \n",
    "# # If image will detected without any error,  \n",
    "# # show result \n",
    "# if result: \n",
    "  \n",
    "#     # showing result, it take frame name and image  \n",
    "#     # output \n",
    "#     cv2.imshow(\"Swag\", image) \n",
    "#     print(type(image))\n",
    "  \n",
    "#     # saving image in local storage \n",
    "#     # imwrite(\"GeeksForGeeks.png\", image) \n",
    "  \n",
    "#     # If keyboard interrupt occurs, destroy image  \n",
    "#     # window \n",
    "#     cv2.waitKey(0) \n",
    "#     cv2.destroyWindow(\"Swag\") \n",
    "  \n",
    "# # If captured image is corrupted, moving to else part \n",
    "# else: \n",
    "#     print(\"No image detected. Please! try again\") \n"
   ]
  },
  {
   "cell_type": "code",
   "execution_count": 2,
   "metadata": {},
   "outputs": [
    {
     "name": "stdout",
     "output_type": "stream",
     "text": [
      "Running on local URL:  http://127.0.0.1:7861\n",
      "Running on public URL: https://e2931070964d930a33.gradio.live\n",
      "\n",
      "This share link expires in 72 hours. For free permanent hosting and GPU upgrades, run `gradio deploy` from Terminal to deploy to Spaces (https://huggingface.co/spaces)\n"
     ]
    },
    {
     "data": {
      "text/html": [
       "<div><iframe src=\"https://e2931070964d930a33.gradio.live\" width=\"100%\" height=\"500\" allow=\"autoplay; camera; microphone; clipboard-read; clipboard-write;\" frameborder=\"0\" allowfullscreen></iframe></div>"
      ],
      "text/plain": [
       "<IPython.core.display.HTML object>"
      ]
     },
     "metadata": {},
     "output_type": "display_data"
    },
    {
     "data": {
      "text/plain": []
     },
     "execution_count": 2,
     "metadata": {},
     "output_type": "execute_result"
    },
    {
     "name": "stdout",
     "output_type": "stream",
     "text": [
      "<class 'numpy.ndarray'>\n",
      "<class 'numpy.ndarray'>\n",
      "<class 'numpy.ndarray'>\n",
      "<class 'numpy.ndarray'>\n",
      "<class 'numpy.ndarray'>\n",
      "<class 'numpy.ndarray'>\n",
      "<class 'numpy.ndarray'>\n",
      "<class 'numpy.ndarray'>\n"
     ]
    },
    {
     "name": "stderr",
     "output_type": "stream",
     "text": [
      "ERROR:    Exception in ASGI application\n",
      "Traceback (most recent call last):\n",
      "  File \"/Users/yujiantang/Documents/workspace/fashionai/fai/lib/python3.10/site-packages/uvicorn/protocols/http/h11_impl.py\", line 408, in run_asgi\n",
      "    result = await app(  # type: ignore[func-returns-value]\n",
      "  File \"/Users/yujiantang/Documents/workspace/fashionai/fai/lib/python3.10/site-packages/uvicorn/middleware/proxy_headers.py\", line 84, in __call__\n",
      "    return await self.app(scope, receive, send)\n",
      "  File \"/Users/yujiantang/Documents/workspace/fashionai/fai/lib/python3.10/site-packages/fastapi/applications.py\", line 1106, in __call__\n",
      "    await super().__call__(scope, receive, send)\n",
      "  File \"/Users/yujiantang/Documents/workspace/fashionai/fai/lib/python3.10/site-packages/starlette/applications.py\", line 122, in __call__\n",
      "    await self.middleware_stack(scope, receive, send)\n",
      "  File \"/Users/yujiantang/Documents/workspace/fashionai/fai/lib/python3.10/site-packages/starlette/middleware/errors.py\", line 184, in __call__\n",
      "    raise exc\n",
      "  File \"/Users/yujiantang/Documents/workspace/fashionai/fai/lib/python3.10/site-packages/starlette/middleware/errors.py\", line 162, in __call__\n",
      "    await self.app(scope, receive, _send)\n",
      "  File \"/Users/yujiantang/Documents/workspace/fashionai/fai/lib/python3.10/site-packages/starlette/middleware/cors.py\", line 91, in __call__\n",
      "    await self.simple_response(scope, receive, send, request_headers=headers)\n",
      "  File \"/Users/yujiantang/Documents/workspace/fashionai/fai/lib/python3.10/site-packages/starlette/middleware/cors.py\", line 146, in simple_response\n",
      "    await self.app(scope, receive, send)\n",
      "  File \"/Users/yujiantang/Documents/workspace/fashionai/fai/lib/python3.10/site-packages/starlette/middleware/exceptions.py\", line 79, in __call__\n",
      "    raise exc\n",
      "  File \"/Users/yujiantang/Documents/workspace/fashionai/fai/lib/python3.10/site-packages/starlette/middleware/exceptions.py\", line 68, in __call__\n",
      "    await self.app(scope, receive, sender)\n",
      "  File \"/Users/yujiantang/Documents/workspace/fashionai/fai/lib/python3.10/site-packages/fastapi/middleware/asyncexitstack.py\", line 20, in __call__\n",
      "    raise e\n",
      "  File \"/Users/yujiantang/Documents/workspace/fashionai/fai/lib/python3.10/site-packages/fastapi/middleware/asyncexitstack.py\", line 17, in __call__\n",
      "    await self.app(scope, receive, send)\n",
      "  File \"/Users/yujiantang/Documents/workspace/fashionai/fai/lib/python3.10/site-packages/starlette/routing.py\", line 718, in __call__\n",
      "    await route.handle(scope, receive, send)\n",
      "  File \"/Users/yujiantang/Documents/workspace/fashionai/fai/lib/python3.10/site-packages/starlette/routing.py\", line 276, in handle\n",
      "    await self.app(scope, receive, send)\n",
      "  File \"/Users/yujiantang/Documents/workspace/fashionai/fai/lib/python3.10/site-packages/starlette/routing.py\", line 66, in app\n",
      "    response = await func(request)\n",
      "  File \"/Users/yujiantang/Documents/workspace/fashionai/fai/lib/python3.10/site-packages/fastapi/routing.py\", line 274, in app\n",
      "    raw_response = await run_endpoint_function(\n",
      "  File \"/Users/yujiantang/Documents/workspace/fashionai/fai/lib/python3.10/site-packages/fastapi/routing.py\", line 191, in run_endpoint_function\n",
      "    return await dependant.call(**values)\n",
      "  File \"/Users/yujiantang/Documents/workspace/fashionai/fai/lib/python3.10/site-packages/gradio/routes.py\", line 759, in upload_file\n",
      "    form = await multipart_parser.parse()\n",
      "  File \"/Users/yujiantang/Documents/workspace/fashionai/fai/lib/python3.10/site-packages/gradio/route_utils.py\", line 490, in parse\n",
      "    async for chunk in self.stream:\n",
      "  File \"/Users/yujiantang/Documents/workspace/fashionai/fai/lib/python3.10/site-packages/starlette/requests.py\", line 230, in stream\n",
      "    raise ClientDisconnect()\n",
      "starlette.requests.ClientDisconnect\n"
     ]
    }
   ],
   "source": [
    "import gradio as gr\n",
    "import numpy as np\n",
    "\n",
    "def flip(im):\n",
    "    # print(type(im))\n",
    "    return np.flipud(im)\n",
    "\n",
    "demo = gr.Interface(\n",
    "    flip, \n",
    "    gr.Image(sources=[\"webcam\"], streaming=True), \n",
    "    \"image\",\n",
    "    live=True\n",
    ")\n",
    "demo.launch(share=True)"
   ]
  },
  {
   "cell_type": "code",
   "execution_count": null,
   "metadata": {},
   "outputs": [],
   "source": []
  }
 ],
 "metadata": {
  "kernelspec": {
   "display_name": "fai",
   "language": "python",
   "name": "python3"
  },
  "language_info": {
   "codemirror_mode": {
    "name": "ipython",
    "version": 3
   },
   "file_extension": ".py",
   "mimetype": "text/x-python",
   "name": "python",
   "nbconvert_exporter": "python",
   "pygments_lexer": "ipython3",
   "version": "3.10.11"
  }
 },
 "nbformat": 4,
 "nbformat_minor": 2
}
