{
 "cells": [
  {
   "cell_type": "code",
   "execution_count": 1,
   "metadata": {},
   "outputs": [
    {
     "name": "stdout",
     "output_type": "stream",
     "text": [
      "Requirement already satisfied: Pillow in ./fai/lib/python3.10/site-packages (9.5.0)\n"
     ]
    }
   ],
   "source": [
    "! pip install Pillow"
   ]
  },
  {
   "cell_type": "code",
   "execution_count": 19,
   "metadata": {},
   "outputs": [
    {
     "name": "stdout",
     "output_type": "stream",
     "text": [
      "['', '/photos/Taylor_Swift/Taylor_Swift_18', 'webp']\n",
      "webp\n",
      "['', '/photos/Taylor_Swift/Taylor_Swift_14', 'webp']\n",
      "webp\n",
      "['', '/photos/Taylor_Swift/Taylor_Swift_15', 'webp']\n",
      "webp\n",
      "['', '/photos/Taylor_Swift/Taylor_Swift_19', 'webp']\n",
      "webp\n",
      "['', '/photos/Taylor_Swift/Taylor_Swift_23', 'webp']\n",
      "webp\n",
      "['', '/photos/Taylor_Swift/Taylor_Swift_28', 'webp']\n",
      "webp\n",
      "['', '/photos/Taylor_Swift/Taylor_Swift_18', 'jpg']\n",
      "webp\n",
      "['', '/photos/Taylor_Swift/Taylor_Swift_17', 'jpeg']\n",
      "webp\n",
      "['', '/photos/Taylor_Swift/Taylor_Swift_12', 'webp']\n",
      "webp\n",
      "['', '/photos/Taylor_Swift/Taylor_Swift_21', 'jpeg']\n",
      "webp\n",
      "['', '/photos/Taylor_Swift/Taylor_Swift_9', 'jpg']\n",
      "webp\n",
      "['', '/photos/Taylor_Swift/Taylor_Swift_27', 'png']\n",
      "webp\n",
      "['', '/photos/Taylor_Swift/Taylor_Swift_8', 'jpg']\n",
      "webp\n",
      "['', '/photos/Taylor_Swift/Taylor_Swift_25', 'webp']\n",
      "webp\n",
      "['', '/photos/Taylor_Swift/Taylor_Swift_20', 'jpeg']\n",
      "webp\n",
      "['', '/photos/Taylor_Swift/Taylor_Swift_13', 'webp']\n",
      "webp\n",
      "['', '/photos/Taylor_Swift/Taylor_Swift_16', 'jpeg']\n",
      "webp\n",
      "['', '/photos/Taylor_Swift/Taylor_Swift_29', 'webp']\n",
      "webp\n",
      "['', '/photos/Taylor_Swift/Taylor_Swift_3', 'jpg']\n",
      "webp\n",
      "['', '/photos/Taylor_Swift/Taylor_Swift_10', 'jpg']\n",
      "webp\n",
      "['', '/photos/Taylor_Swift/Taylor_Swift_2', 'jpg']\n",
      "webp\n",
      "['', '/photos/Taylor_Swift/Taylor_Swift_26', 'webp']\n",
      "webp\n",
      "['', '/photos/Taylor_Swift/Taylor_Swift_1', 'jpg']\n",
      "webp\n",
      "['', '/photos/Taylor_Swift/Taylor_Swift_30', 'webp']\n",
      "webp\n",
      "['', '/photos/Taylor_Swift/Taylor_Swift_22', 'jpeg']\n",
      "webp\n",
      "['', '/photos/Taylor_Swift/Taylor_Swift_5', 'jpg']\n",
      "webp\n",
      "['', '/photos/Taylor_Swift/Taylor_Swift_4', 'jpg']\n",
      "webp\n",
      "['', '/photos/Taylor_Swift/Taylor_Swift_6', 'jpg']\n",
      "webp\n",
      "['', '/photos/Taylor_Swift/Taylor_Swift_7', 'jpg']\n",
      "webp\n",
      "['', '/photos/Taylor_Swift/Taylor_Swift_11', 'webp']\n",
      "webp\n",
      "['', '/photos/Taylor_Swift/Taylor_Swift_24', 'jpeg']\n",
      "webp\n"
     ]
    }
   ],
   "source": [
    "from PIL import Image\n",
    "import os\n",
    "\n",
    "for file in os.listdir(\"./photos/Taylor_Swift/\"):\n",
    "    # print(file)\n",
    "    filepath = f\"./photos/Taylor_Swift/{file}\"\n",
    "    # print(filepath)\n",
    "    try:\n",
    "        pieces = filepath.split(\".\")\n",
    "        print(pieces)\n",
    "    except:\n",
    "        continue\n",
    "    print(ext)\n",
    "    if pieces[2] == \"webp\":\n",
    "        im = Image.open(filepath).convert(\"RGB\")\n",
    "        im.save(f\".{pieces[1]}.jpg\", \"jpeg\")"
   ]
  },
  {
   "cell_type": "code",
   "execution_count": null,
   "metadata": {},
   "outputs": [],
   "source": []
  }
 ],
 "metadata": {
  "kernelspec": {
   "display_name": "fai",
   "language": "python",
   "name": "python3"
  },
  "language_info": {
   "codemirror_mode": {
    "name": "ipython",
    "version": 3
   },
   "file_extension": ".py",
   "mimetype": "text/x-python",
   "name": "python",
   "nbconvert_exporter": "python",
   "pygments_lexer": "ipython3",
   "version": "3.10.11"
  },
  "orig_nbformat": 4
 },
 "nbformat": 4,
 "nbformat_minor": 2
}
