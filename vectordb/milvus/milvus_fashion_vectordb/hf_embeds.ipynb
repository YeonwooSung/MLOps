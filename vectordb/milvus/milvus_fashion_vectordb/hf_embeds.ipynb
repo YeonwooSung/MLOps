{
 "cells": [
  {
   "cell_type": "code",
   "execution_count": 4,
   "metadata": {},
   "outputs": [
    {
     "name": "stderr",
     "output_type": "stream",
     "text": [
      "/Users/yujiantang/Documents/workspace/fashionai/fai/lib/python3.10/site-packages/transformers/models/convnext/feature_extraction_convnext.py:28: FutureWarning: The class ConvNextFeatureExtractor is deprecated and will be removed in version 5 of Transformers. Please use ConvNextImageProcessor instead.\n",
      "  warnings.warn(\n"
     ]
    }
   ],
   "source": [
    "# Load model directly\n",
    "from transformers import AutoFeatureExtractor, AutoModelForImageClassification\n",
    "\n",
    "extractor = AutoFeatureExtractor.from_pretrained(\"microsoft/resnet-50\")\n",
    "model = AutoModelForImageClassification.from_pretrained(\"microsoft/resnet-50\")"
   ]
  },
  {
   "cell_type": "code",
   "execution_count": 5,
   "metadata": {},
   "outputs": [],
   "source": [
    "from PIL import Image \n",
    "\n",
    "image = Image.open(\"./photos/Drake/Drake_6.jpg\")\n",
    "# image = Resize(size=(256, 256))(image)\n",
    "\n",
    "inputs = extractor(images=image, return_tensors=\"pt\")\n",
    "# print(inputs)\n",
    "\n",
    "outputs = model(**inputs)"
   ]
  },
  {
   "cell_type": "code",
   "execution_count": 39,
   "metadata": {},
   "outputs": [
    {
     "name": "stdout",
     "output_type": "stream",
     "text": [
      "64\n",
      "256\n",
      "512\n",
      "1024\n",
      "2048\n"
     ]
    }
   ],
   "source": [
    "for i in range(len(outputs[-1])):\n",
    "    for j in range(len(outputs[-1][i])):\n",
    "        print(len(outputs[-1][i][j]))"
   ]
  },
  {
   "cell_type": "code",
   "execution_count": 48,
   "metadata": {},
   "outputs": [
    {
     "data": {
      "text/plain": [
       "5"
      ]
     },
     "execution_count": 48,
     "metadata": {},
     "output_type": "execute_result"
    }
   ],
   "source": [
    "len(outputs[1])"
   ]
  },
  {
   "cell_type": "code",
   "execution_count": null,
   "metadata": {},
   "outputs": [],
   "source": [
    "import torch\n",
    "from transformers import AutoFeatureExtractor, WhisperModel\n",
    "from datasets import load_dataset\n",
    "\n",
    "model = WhisperModel.from_pretrained(\"openai/whisper-base\")\n",
    "feature_extractor = AutoFeatureExtractor.from_pretrained(\"openai/whisper-base\")\n",
    "ds = load_dataset(\"hf-internal-testing/librispeech_asr_dummy\", \"clean\", split=\"validation\")\n",
    "inputs = feature_extractor(ds[0][\"audio\"][\"array\"], return_tensors=\"pt\")\n",
    "input_features = inputs.input_features\n",
    "decoder_input_ids = torch.tensor([[1, 1]]) * model.config.decoder_start_token_id\n",
    "last_hidden_state = model(input_features, decoder_input_ids=decoder_input_ids).last_hidden_state\n",
    "list(last_hidden_state.shape)"
   ]
  },
  {
   "cell_type": "code",
   "execution_count": null,
   "metadata": {},
   "outputs": [],
   "source": [
    "def autoencode_video(images, audio):\n",
    "  \n",
    "  # only create entire video once as inputs\n",
    "  inputs = {'image': torch.from_numpy(np.moveaxis(images, -1, 2)).float().to(device),\n",
    "          'audio': torch.from_numpy(audio).to(device),\n",
    "          'label': torch.zeros((images.shape[0], 700)).to(device)}\n",
    "  \n",
    "  nchunks = 128\n",
    "  reconstruction = {}\n",
    "  for chunk_idx in tqdm(range(nchunks)):\n",
    "        image_chunk_size = np.prod(images.shape[1:-1]) // nchunks\n",
    "        audio_chunk_size = audio.shape[1] // SAMPLES_PER_PATCH // nchunks\n",
    "        subsampling = {\n",
    "            'image': torch.arange(\n",
    "                image_chunk_size * chunk_idx, image_chunk_size * (chunk_idx + 1)),\n",
    "            'audio': torch.arange(\n",
    "                audio_chunk_size * chunk_idx, audio_chunk_size * (chunk_idx + 1)),\n",
    "            'label': None,\n",
    "        }\n",
    "        \n",
    "        # forward pass\n",
    "        with torch.no_grad():\n",
    "          outputs = model(inputs=inputs, subsampled_output_points=subsampling)\n",
    "\n",
    "        output = {k:v.cpu() for k,v in outputs.logits.items()}\n",
    "        \n",
    "        reconstruction['label'] = output['label']\n",
    "        if 'image' not in reconstruction:\n",
    "          reconstruction['image'] = output['image']\n",
    "          reconstruction['audio'] = output['audio']\n",
    "        else:\n",
    "          reconstruction['image'] = torch.cat(\n",
    "              [reconstruction['image'], output['image']], dim=1)\n",
    "          reconstruction['audio'] = torch.cat(\n",
    "              [reconstruction['audio'], output['audio']], dim=1)\n",
    "          \n",
    "        del outputs\n",
    "        \n",
    "  # finally, reshape image and audio modalities back to original shape\n",
    "  reconstruction['image'] = torch.reshape(reconstruction['image'], images.shape)\n",
    "  reconstruction['audio'] = torch.reshape(reconstruction['audio'], audio.shape)\n",
    "  return reconstruction\n",
    "\n",
    "  return None"
   ]
  }
 ],
 "metadata": {
  "kernelspec": {
   "display_name": "fai",
   "language": "python",
   "name": "python3"
  },
  "language_info": {
   "codemirror_mode": {
    "name": "ipython",
    "version": 3
   },
   "file_extension": ".py",
   "mimetype": "text/x-python",
   "name": "python",
   "nbconvert_exporter": "python",
   "pygments_lexer": "ipython3",
   "version": "3.10.11"
  },
  "orig_nbformat": 4
 },
 "nbformat": 4,
 "nbformat_minor": 2
}
